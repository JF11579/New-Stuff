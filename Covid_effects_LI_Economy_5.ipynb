{
  "nbformat": 4,
  "nbformat_minor": 0,
  "metadata": {
    "colab": {
      "name": "Covid_effects_LI_Economy_5.ipynb",
      "provenance": [],
      "collapsed_sections": [],
      "toc_visible": true,
      "authorship_tag": "ABX9TyN2pZfEbAne2goYiwaBIpL3",
      "include_colab_link": true
    },
    "kernelspec": {
      "name": "ir",
      "display_name": "R"
    }
  },
  "cells": [
    {
      "cell_type": "markdown",
      "metadata": {
        "id": "view-in-github",
        "colab_type": "text"
      },
      "source": [
        "<a href=\"https://colab.research.google.com/github/JF11579/New-Stuff/blob/main/Covid_effects_LI_Economy_5.ipynb\" target=\"_parent\"><img src=\"https://colab.research.google.com/assets/colab-badge.svg\" alt=\"Open In Colab\"/></a>"
      ]
    },
    {
      "cell_type": "markdown",
      "metadata": {
        "id": "mRRaYx41rpY2"
      },
      "source": [
        "There are two datasets.  Reported cases of covid in Nassau and Suffolk and the other is the monthly retail sales tax collected by Nassau and Suffolk"
      ]
    },
    {
      "cell_type": "markdown",
      "metadata": {
        "id": "Ch_6yTvyr7Yq"
      },
      "source": [
        "First we will look a tthe covid data[link text](https://)"
      ]
    },
    {
      "cell_type": "markdown",
      "metadata": {
        "id": "NOeD7Oyo27kJ"
      },
      "source": [
        "Librarys"
      ]
    },
    {
      "cell_type": "code",
      "metadata": {
        "id": "1FvyM7h73DRU"
      },
      "source": [
        "library(tidyverse)\n",
        "library(ggplot2)"
      ],
      "execution_count": null,
      "outputs": []
    },
    {
      "cell_type": "code",
      "metadata": {
        "id": "b_-iavR0TTpA"
      },
      "source": [
        "options(scipen = 999)"
      ],
      "execution_count": null,
      "outputs": []
    },
    {
      "cell_type": "markdown",
      "metadata": {
        "id": "7uba4ahcsBp0"
      },
      "source": [
        "# Covid Data"
      ]
    },
    {
      "cell_type": "markdown",
      "metadata": {
        "id": "3YizJ8RRtafI"
      },
      "source": [
        "The data (May be too large to open in spreadsheet)\n",
        "\n",
        "https://drive.google.com/file/d/1qn1ndxXWHOn6SXEXbr7NwzHYm6rm_JZ3/view?usp=sharing"
      ]
    },
    {
      "cell_type": "code",
      "metadata": {
        "id": "1khBfcVSucEh",
        "colab": {
          "base_uri": "https://localhost:8080/",
          "height": 274
        },
        "outputId": "a89eb20a-379c-4be0-9507-d29b319545cd"
      },
      "source": [
        "Covid_data_US <- read.csv(\"/content/Covid_data_NYT_Jan_26,_2021.csv\")\n",
        "head(Covid_data_US)"
      ],
      "execution_count": null,
      "outputs": [
        {
          "output_type": "display_data",
          "data": {
            "text/plain": [
              "  date       county    state      fips  cases deaths\n",
              "1 2020-01-21 Snohomish Washington 53061 1     0     \n",
              "2 2020-01-22 Snohomish Washington 53061 1     0     \n",
              "3 2020-01-23 Snohomish Washington 53061 1     0     \n",
              "4 2020-01-24 Cook      Illinois   17031 1     0     \n",
              "5 2020-01-24 Snohomish Washington 53061 1     0     \n",
              "6 2020-01-25 Orange    California  6059 1     0     "
            ],
            "text/latex": "A data.frame: 6 × 6\n\\begin{tabular}{r|llllll}\n  & date & county & state & fips & cases & deaths\\\\\n  & <chr> & <chr> & <chr> & <int> & <int> & <int>\\\\\n\\hline\n\t1 & 2020-01-21 & Snohomish & Washington & 53061 & 1 & 0\\\\\n\t2 & 2020-01-22 & Snohomish & Washington & 53061 & 1 & 0\\\\\n\t3 & 2020-01-23 & Snohomish & Washington & 53061 & 1 & 0\\\\\n\t4 & 2020-01-24 & Cook      & Illinois   & 17031 & 1 & 0\\\\\n\t5 & 2020-01-24 & Snohomish & Washington & 53061 & 1 & 0\\\\\n\t6 & 2020-01-25 & Orange    & California &  6059 & 1 & 0\\\\\n\\end{tabular}\n",
            "text/markdown": "\nA data.frame: 6 × 6\n\n| <!--/--> | date &lt;chr&gt; | county &lt;chr&gt; | state &lt;chr&gt; | fips &lt;int&gt; | cases &lt;int&gt; | deaths &lt;int&gt; |\n|---|---|---|---|---|---|---|\n| 1 | 2020-01-21 | Snohomish | Washington | 53061 | 1 | 0 |\n| 2 | 2020-01-22 | Snohomish | Washington | 53061 | 1 | 0 |\n| 3 | 2020-01-23 | Snohomish | Washington | 53061 | 1 | 0 |\n| 4 | 2020-01-24 | Cook      | Illinois   | 17031 | 1 | 0 |\n| 5 | 2020-01-24 | Snohomish | Washington | 53061 | 1 | 0 |\n| 6 | 2020-01-25 | Orange    | California |  6059 | 1 | 0 |\n\n",
            "text/html": [
              "<table class=\"dataframe\">\n",
              "<caption>A data.frame: 6 × 6</caption>\n",
              "<thead>\n",
              "\t<tr><th></th><th scope=col>date</th><th scope=col>county</th><th scope=col>state</th><th scope=col>fips</th><th scope=col>cases</th><th scope=col>deaths</th></tr>\n",
              "\t<tr><th></th><th scope=col>&lt;chr&gt;</th><th scope=col>&lt;chr&gt;</th><th scope=col>&lt;chr&gt;</th><th scope=col>&lt;int&gt;</th><th scope=col>&lt;int&gt;</th><th scope=col>&lt;int&gt;</th></tr>\n",
              "</thead>\n",
              "<tbody>\n",
              "\t<tr><th scope=row>1</th><td>2020-01-21</td><td>Snohomish</td><td>Washington</td><td>53061</td><td>1</td><td>0</td></tr>\n",
              "\t<tr><th scope=row>2</th><td>2020-01-22</td><td>Snohomish</td><td>Washington</td><td>53061</td><td>1</td><td>0</td></tr>\n",
              "\t<tr><th scope=row>3</th><td>2020-01-23</td><td>Snohomish</td><td>Washington</td><td>53061</td><td>1</td><td>0</td></tr>\n",
              "\t<tr><th scope=row>4</th><td>2020-01-24</td><td>Cook     </td><td>Illinois  </td><td>17031</td><td>1</td><td>0</td></tr>\n",
              "\t<tr><th scope=row>5</th><td>2020-01-24</td><td>Snohomish</td><td>Washington</td><td>53061</td><td>1</td><td>0</td></tr>\n",
              "\t<tr><th scope=row>6</th><td>2020-01-25</td><td>Orange   </td><td>California</td><td> 6059</td><td>1</td><td>0</td></tr>\n",
              "</tbody>\n",
              "</table>\n"
            ]
          },
          "metadata": {
            "tags": []
          }
        }
      ]
    },
    {
      "cell_type": "markdown",
      "metadata": {
        "id": "wuz3i9YAyR1g"
      },
      "source": [
        "change date column from character to Date type"
      ]
    },
    {
      "cell_type": "code",
      "metadata": {
        "id": "gt0uPXrEyWX2",
        "colab": {
          "base_uri": "https://localhost:8080/",
          "height": 274
        },
        "outputId": "44ab6b2a-1028-4183-abb5-0ec27193aeae"
      },
      "source": [
        "Covid_data_US$date <-  as.Date(Covid_data_US$date)\n",
        "head(Covid_data_US )"
      ],
      "execution_count": null,
      "outputs": [
        {
          "output_type": "display_data",
          "data": {
            "text/plain": [
              "  date       county    state      fips  cases deaths\n",
              "1 2020-01-21 Snohomish Washington 53061 1     0     \n",
              "2 2020-01-22 Snohomish Washington 53061 1     0     \n",
              "3 2020-01-23 Snohomish Washington 53061 1     0     \n",
              "4 2020-01-24 Cook      Illinois   17031 1     0     \n",
              "5 2020-01-24 Snohomish Washington 53061 1     0     \n",
              "6 2020-01-25 Orange    California  6059 1     0     "
            ],
            "text/latex": "A data.frame: 6 × 6\n\\begin{tabular}{r|llllll}\n  & date & county & state & fips & cases & deaths\\\\\n  & <date> & <chr> & <chr> & <int> & <int> & <int>\\\\\n\\hline\n\t1 & 2020-01-21 & Snohomish & Washington & 53061 & 1 & 0\\\\\n\t2 & 2020-01-22 & Snohomish & Washington & 53061 & 1 & 0\\\\\n\t3 & 2020-01-23 & Snohomish & Washington & 53061 & 1 & 0\\\\\n\t4 & 2020-01-24 & Cook      & Illinois   & 17031 & 1 & 0\\\\\n\t5 & 2020-01-24 & Snohomish & Washington & 53061 & 1 & 0\\\\\n\t6 & 2020-01-25 & Orange    & California &  6059 & 1 & 0\\\\\n\\end{tabular}\n",
            "text/markdown": "\nA data.frame: 6 × 6\n\n| <!--/--> | date &lt;date&gt; | county &lt;chr&gt; | state &lt;chr&gt; | fips &lt;int&gt; | cases &lt;int&gt; | deaths &lt;int&gt; |\n|---|---|---|---|---|---|---|\n| 1 | 2020-01-21 | Snohomish | Washington | 53061 | 1 | 0 |\n| 2 | 2020-01-22 | Snohomish | Washington | 53061 | 1 | 0 |\n| 3 | 2020-01-23 | Snohomish | Washington | 53061 | 1 | 0 |\n| 4 | 2020-01-24 | Cook      | Illinois   | 17031 | 1 | 0 |\n| 5 | 2020-01-24 | Snohomish | Washington | 53061 | 1 | 0 |\n| 6 | 2020-01-25 | Orange    | California |  6059 | 1 | 0 |\n\n",
            "text/html": [
              "<table class=\"dataframe\">\n",
              "<caption>A data.frame: 6 × 6</caption>\n",
              "<thead>\n",
              "\t<tr><th></th><th scope=col>date</th><th scope=col>county</th><th scope=col>state</th><th scope=col>fips</th><th scope=col>cases</th><th scope=col>deaths</th></tr>\n",
              "\t<tr><th></th><th scope=col>&lt;date&gt;</th><th scope=col>&lt;chr&gt;</th><th scope=col>&lt;chr&gt;</th><th scope=col>&lt;int&gt;</th><th scope=col>&lt;int&gt;</th><th scope=col>&lt;int&gt;</th></tr>\n",
              "</thead>\n",
              "<tbody>\n",
              "\t<tr><th scope=row>1</th><td>2020-01-21</td><td>Snohomish</td><td>Washington</td><td>53061</td><td>1</td><td>0</td></tr>\n",
              "\t<tr><th scope=row>2</th><td>2020-01-22</td><td>Snohomish</td><td>Washington</td><td>53061</td><td>1</td><td>0</td></tr>\n",
              "\t<tr><th scope=row>3</th><td>2020-01-23</td><td>Snohomish</td><td>Washington</td><td>53061</td><td>1</td><td>0</td></tr>\n",
              "\t<tr><th scope=row>4</th><td>2020-01-24</td><td>Cook     </td><td>Illinois  </td><td>17031</td><td>1</td><td>0</td></tr>\n",
              "\t<tr><th scope=row>5</th><td>2020-01-24</td><td>Snohomish</td><td>Washington</td><td>53061</td><td>1</td><td>0</td></tr>\n",
              "\t<tr><th scope=row>6</th><td>2020-01-25</td><td>Orange   </td><td>California</td><td> 6059</td><td>1</td><td>0</td></tr>\n",
              "</tbody>\n",
              "</table>\n"
            ]
          },
          "metadata": {
            "tags": []
          }
        }
      ]
    },
    {
      "cell_type": "markdown",
      "metadata": {
        "id": "liwdyfdk-1sP"
      },
      "source": [
        "## Nassau"
      ]
    },
    {
      "cell_type": "markdown",
      "metadata": {
        "id": "MaELBLAUybUw"
      },
      "source": [
        "First we will filter out Nassau county .\n",
        "\n",
        "Then add the population column, then the dereived cases per 100k column.\n",
        "\n",
        "Then we will do the same for Suffolk county\n",
        "\n",
        "Lastly we will merge the two counties."
      ]
    },
    {
      "cell_type": "code",
      "metadata": {
        "colab": {
          "base_uri": "https://localhost:8080/"
        },
        "id": "y_czHe-dzKcM",
        "outputId": "c5f0f2be-f19e-475c-cbab-eab9445ce50d"
      },
      "source": [
        "str(Covid_data_US )"
      ],
      "execution_count": null,
      "outputs": [
        {
          "output_type": "stream",
          "text": [
            "'data.frame':\t962707 obs. of  6 variables:\n",
            " $ date  : Date, format: \"2020-01-21\" \"2020-01-22\" ...\n",
            " $ county: chr  \"Snohomish\" \"Snohomish\" \"Snohomish\" \"Cook\" ...\n",
            " $ state : chr  \"Washington\" \"Washington\" \"Washington\" \"Illinois\" ...\n",
            " $ fips  : int  53061 53061 53061 17031 53061 6059 17031 53061 4013 6037 ...\n",
            " $ cases : int  1 1 1 1 1 1 1 1 1 1 ...\n",
            " $ deaths: int  0 0 0 0 0 0 0 0 0 0 ...\n"
          ],
          "name": "stdout"
        }
      ]
    },
    {
      "cell_type": "code",
      "metadata": {
        "id": "pGD6zlsOyw2z"
      },
      "source": [
        "Nassau_covid<- filter(Covid_data_US , state == \"New York\" ,  county == \"Nassau\")\n"
      ],
      "execution_count": null,
      "outputs": []
    },
    {
      "cell_type": "markdown",
      "metadata": {
        "id": "CcPMar4P3j9L"
      },
      "source": [
        "Add a column of Nassau population. We will need that to get the cases per 100,ooo.  We use the US census number."
      ]
    },
    {
      "cell_type": "code",
      "metadata": {
        "colab": {
          "base_uri": "https://localhost:8080/",
          "height": 274
        },
        "id": "XFivbDKh3i4Y",
        "outputId": "633600a8-5d37-4d72-fa10-c5157c9cc49f"
      },
      "source": [
        "# Now let us add a column for Nassau's population to get ** per 100**\n",
        "# This is the July 2019 US estimate : 1,356,924\n",
        "#df1$x1 <- 'z'\n",
        "Nassau_covid$Nassau_population <- 1356924\n",
        "head(Nassau_covid)"
      ],
      "execution_count": null,
      "outputs": [
        {
          "output_type": "display_data",
          "data": {
            "text/plain": [
              "  date       county state    fips  cases deaths Nassau_population\n",
              "1 2020-03-05 Nassau New York 36059  1    0      1356924          \n",
              "2 2020-03-06 Nassau New York 36059  4    0      1356924          \n",
              "3 2020-03-07 Nassau New York 36059  4    0      1356924          \n",
              "4 2020-03-08 Nassau New York 36059  5    0      1356924          \n",
              "5 2020-03-09 Nassau New York 36059 17    0      1356924          \n",
              "6 2020-03-10 Nassau New York 36059 19    0      1356924          "
            ],
            "text/latex": "A data.frame: 6 × 7\n\\begin{tabular}{r|lllllll}\n  & date & county & state & fips & cases & deaths & Nassau\\_population\\\\\n  & <date> & <chr> & <chr> & <int> & <int> & <int> & <dbl>\\\\\n\\hline\n\t1 & 2020-03-05 & Nassau & New York & 36059 &  1 & 0 & 1356924\\\\\n\t2 & 2020-03-06 & Nassau & New York & 36059 &  4 & 0 & 1356924\\\\\n\t3 & 2020-03-07 & Nassau & New York & 36059 &  4 & 0 & 1356924\\\\\n\t4 & 2020-03-08 & Nassau & New York & 36059 &  5 & 0 & 1356924\\\\\n\t5 & 2020-03-09 & Nassau & New York & 36059 & 17 & 0 & 1356924\\\\\n\t6 & 2020-03-10 & Nassau & New York & 36059 & 19 & 0 & 1356924\\\\\n\\end{tabular}\n",
            "text/markdown": "\nA data.frame: 6 × 7\n\n| <!--/--> | date &lt;date&gt; | county &lt;chr&gt; | state &lt;chr&gt; | fips &lt;int&gt; | cases &lt;int&gt; | deaths &lt;int&gt; | Nassau_population &lt;dbl&gt; |\n|---|---|---|---|---|---|---|---|\n| 1 | 2020-03-05 | Nassau | New York | 36059 |  1 | 0 | 1356924 |\n| 2 | 2020-03-06 | Nassau | New York | 36059 |  4 | 0 | 1356924 |\n| 3 | 2020-03-07 | Nassau | New York | 36059 |  4 | 0 | 1356924 |\n| 4 | 2020-03-08 | Nassau | New York | 36059 |  5 | 0 | 1356924 |\n| 5 | 2020-03-09 | Nassau | New York | 36059 | 17 | 0 | 1356924 |\n| 6 | 2020-03-10 | Nassau | New York | 36059 | 19 | 0 | 1356924 |\n\n",
            "text/html": [
              "<table class=\"dataframe\">\n",
              "<caption>A data.frame: 6 × 7</caption>\n",
              "<thead>\n",
              "\t<tr><th></th><th scope=col>date</th><th scope=col>county</th><th scope=col>state</th><th scope=col>fips</th><th scope=col>cases</th><th scope=col>deaths</th><th scope=col>Nassau_population</th></tr>\n",
              "\t<tr><th></th><th scope=col>&lt;date&gt;</th><th scope=col>&lt;chr&gt;</th><th scope=col>&lt;chr&gt;</th><th scope=col>&lt;int&gt;</th><th scope=col>&lt;int&gt;</th><th scope=col>&lt;int&gt;</th><th scope=col>&lt;dbl&gt;</th></tr>\n",
              "</thead>\n",
              "<tbody>\n",
              "\t<tr><th scope=row>1</th><td>2020-03-05</td><td>Nassau</td><td>New York</td><td>36059</td><td> 1</td><td>0</td><td>1356924</td></tr>\n",
              "\t<tr><th scope=row>2</th><td>2020-03-06</td><td>Nassau</td><td>New York</td><td>36059</td><td> 4</td><td>0</td><td>1356924</td></tr>\n",
              "\t<tr><th scope=row>3</th><td>2020-03-07</td><td>Nassau</td><td>New York</td><td>36059</td><td> 4</td><td>0</td><td>1356924</td></tr>\n",
              "\t<tr><th scope=row>4</th><td>2020-03-08</td><td>Nassau</td><td>New York</td><td>36059</td><td> 5</td><td>0</td><td>1356924</td></tr>\n",
              "\t<tr><th scope=row>5</th><td>2020-03-09</td><td>Nassau</td><td>New York</td><td>36059</td><td>17</td><td>0</td><td>1356924</td></tr>\n",
              "\t<tr><th scope=row>6</th><td>2020-03-10</td><td>Nassau</td><td>New York</td><td>36059</td><td>19</td><td>0</td><td>1356924</td></tr>\n",
              "</tbody>\n",
              "</table>\n"
            ]
          },
          "metadata": {
            "tags": []
          }
        }
      ]
    },
    {
      "cell_type": "markdown",
      "metadata": {
        "id": "TrnCx_Mu3jSv"
      },
      "source": [
        "We will be performing the same tasks on Suffolk data so we need a way to distinguish the two situations.  We will give them more specific names."
      ]
    },
    {
      "cell_type": "code",
      "metadata": {
        "colab": {
          "base_uri": "https://localhost:8080/",
          "height": 274
        },
        "id": "Log7r3Zq4X28",
        "outputId": "cafdaa47-6e1a-4b71-93c4-e043290a7b83"
      },
      "source": [
        "#rename(data, c(\"new\" = \"old#\"))\n",
        "Nassau_covid <- Nassau_covid %>% \n",
        " rename(\n",
        "     \"Nassau_cases\" = \"cases\",\n",
        "     \"Nassau_deaths\" = \"deaths\")\n",
        "head(Nassau_covid)"
      ],
      "execution_count": null,
      "outputs": [
        {
          "output_type": "display_data",
          "data": {
            "text/plain": [
              "  date       county state    fips  Nassau_cases Nassau_deaths Nassau_population\n",
              "1 2020-03-05 Nassau New York 36059  1           0             1356924          \n",
              "2 2020-03-06 Nassau New York 36059  4           0             1356924          \n",
              "3 2020-03-07 Nassau New York 36059  4           0             1356924          \n",
              "4 2020-03-08 Nassau New York 36059  5           0             1356924          \n",
              "5 2020-03-09 Nassau New York 36059 17           0             1356924          \n",
              "6 2020-03-10 Nassau New York 36059 19           0             1356924          "
            ],
            "text/latex": "A data.frame: 6 × 7\n\\begin{tabular}{r|lllllll}\n  & date & county & state & fips & Nassau\\_cases & Nassau\\_deaths & Nassau\\_population\\\\\n  & <date> & <chr> & <chr> & <int> & <int> & <int> & <dbl>\\\\\n\\hline\n\t1 & 2020-03-05 & Nassau & New York & 36059 &  1 & 0 & 1356924\\\\\n\t2 & 2020-03-06 & Nassau & New York & 36059 &  4 & 0 & 1356924\\\\\n\t3 & 2020-03-07 & Nassau & New York & 36059 &  4 & 0 & 1356924\\\\\n\t4 & 2020-03-08 & Nassau & New York & 36059 &  5 & 0 & 1356924\\\\\n\t5 & 2020-03-09 & Nassau & New York & 36059 & 17 & 0 & 1356924\\\\\n\t6 & 2020-03-10 & Nassau & New York & 36059 & 19 & 0 & 1356924\\\\\n\\end{tabular}\n",
            "text/markdown": "\nA data.frame: 6 × 7\n\n| <!--/--> | date &lt;date&gt; | county &lt;chr&gt; | state &lt;chr&gt; | fips &lt;int&gt; | Nassau_cases &lt;int&gt; | Nassau_deaths &lt;int&gt; | Nassau_population &lt;dbl&gt; |\n|---|---|---|---|---|---|---|---|\n| 1 | 2020-03-05 | Nassau | New York | 36059 |  1 | 0 | 1356924 |\n| 2 | 2020-03-06 | Nassau | New York | 36059 |  4 | 0 | 1356924 |\n| 3 | 2020-03-07 | Nassau | New York | 36059 |  4 | 0 | 1356924 |\n| 4 | 2020-03-08 | Nassau | New York | 36059 |  5 | 0 | 1356924 |\n| 5 | 2020-03-09 | Nassau | New York | 36059 | 17 | 0 | 1356924 |\n| 6 | 2020-03-10 | Nassau | New York | 36059 | 19 | 0 | 1356924 |\n\n",
            "text/html": [
              "<table class=\"dataframe\">\n",
              "<caption>A data.frame: 6 × 7</caption>\n",
              "<thead>\n",
              "\t<tr><th></th><th scope=col>date</th><th scope=col>county</th><th scope=col>state</th><th scope=col>fips</th><th scope=col>Nassau_cases</th><th scope=col>Nassau_deaths</th><th scope=col>Nassau_population</th></tr>\n",
              "\t<tr><th></th><th scope=col>&lt;date&gt;</th><th scope=col>&lt;chr&gt;</th><th scope=col>&lt;chr&gt;</th><th scope=col>&lt;int&gt;</th><th scope=col>&lt;int&gt;</th><th scope=col>&lt;int&gt;</th><th scope=col>&lt;dbl&gt;</th></tr>\n",
              "</thead>\n",
              "<tbody>\n",
              "\t<tr><th scope=row>1</th><td>2020-03-05</td><td>Nassau</td><td>New York</td><td>36059</td><td> 1</td><td>0</td><td>1356924</td></tr>\n",
              "\t<tr><th scope=row>2</th><td>2020-03-06</td><td>Nassau</td><td>New York</td><td>36059</td><td> 4</td><td>0</td><td>1356924</td></tr>\n",
              "\t<tr><th scope=row>3</th><td>2020-03-07</td><td>Nassau</td><td>New York</td><td>36059</td><td> 4</td><td>0</td><td>1356924</td></tr>\n",
              "\t<tr><th scope=row>4</th><td>2020-03-08</td><td>Nassau</td><td>New York</td><td>36059</td><td> 5</td><td>0</td><td>1356924</td></tr>\n",
              "\t<tr><th scope=row>5</th><td>2020-03-09</td><td>Nassau</td><td>New York</td><td>36059</td><td>17</td><td>0</td><td>1356924</td></tr>\n",
              "\t<tr><th scope=row>6</th><td>2020-03-10</td><td>Nassau</td><td>New York</td><td>36059</td><td>19</td><td>0</td><td>1356924</td></tr>\n",
              "</tbody>\n",
              "</table>\n"
            ]
          },
          "metadata": {
            "tags": []
          }
        }
      ]
    },
    {
      "cell_type": "markdown",
      "metadata": {
        "id": "y_amGMtu4fjZ"
      },
      "source": [
        "To compare counties with different populations we will generate a number of the number of cases per 100,ooo"
      ]
    },
    {
      "cell_type": "code",
      "metadata": {
        "colab": {
          "base_uri": "https://localhost:8080/",
          "height": 274
        },
        "id": "DRjEKh5k4rTg",
        "outputId": "9ea8b045-ebe8-4f35-f98d-3b50a45ff4ec"
      },
      "source": [
        "Nassau_covid <- Nassau_covid %>%\n",
        "        mutate(Nassau_case_percentage = Nassau_cases / Nassau_population) %>%\n",
        "        mutate(Nassau_per_100k = Nassau_case_percentage * 100000)\n",
        "head(Nassau_covid)"
      ],
      "execution_count": null,
      "outputs": [
        {
          "output_type": "display_data",
          "data": {
            "text/plain": [
              "  date       county state    fips  Nassau_cases Nassau_deaths Nassau_population\n",
              "1 2020-03-05 Nassau New York 36059  1           0             1356924          \n",
              "2 2020-03-06 Nassau New York 36059  4           0             1356924          \n",
              "3 2020-03-07 Nassau New York 36059  4           0             1356924          \n",
              "4 2020-03-08 Nassau New York 36059  5           0             1356924          \n",
              "5 2020-03-09 Nassau New York 36059 17           0             1356924          \n",
              "6 2020-03-10 Nassau New York 36059 19           0             1356924          \n",
              "  Nassau_case_percentage Nassau_per_100k\n",
              "1 0.0000007369609        0.07369609     \n",
              "2 0.0000029478438        0.29478438     \n",
              "3 0.0000029478438        0.29478438     \n",
              "4 0.0000036848047        0.36848047     \n",
              "5 0.0000125283361        1.25283361     \n",
              "6 0.0000140022580        1.40022580     "
            ],
            "text/latex": "A data.frame: 6 × 9\n\\begin{tabular}{r|lllllllll}\n  & date & county & state & fips & Nassau\\_cases & Nassau\\_deaths & Nassau\\_population & Nassau\\_case\\_percentage & Nassau\\_per\\_100k\\\\\n  & <date> & <chr> & <chr> & <int> & <int> & <int> & <dbl> & <dbl> & <dbl>\\\\\n\\hline\n\t1 & 2020-03-05 & Nassau & New York & 36059 &  1 & 0 & 1356924 & 0.0000007369609 & 0.07369609\\\\\n\t2 & 2020-03-06 & Nassau & New York & 36059 &  4 & 0 & 1356924 & 0.0000029478438 & 0.29478438\\\\\n\t3 & 2020-03-07 & Nassau & New York & 36059 &  4 & 0 & 1356924 & 0.0000029478438 & 0.29478438\\\\\n\t4 & 2020-03-08 & Nassau & New York & 36059 &  5 & 0 & 1356924 & 0.0000036848047 & 0.36848047\\\\\n\t5 & 2020-03-09 & Nassau & New York & 36059 & 17 & 0 & 1356924 & 0.0000125283361 & 1.25283361\\\\\n\t6 & 2020-03-10 & Nassau & New York & 36059 & 19 & 0 & 1356924 & 0.0000140022580 & 1.40022580\\\\\n\\end{tabular}\n",
            "text/markdown": "\nA data.frame: 6 × 9\n\n| <!--/--> | date &lt;date&gt; | county &lt;chr&gt; | state &lt;chr&gt; | fips &lt;int&gt; | Nassau_cases &lt;int&gt; | Nassau_deaths &lt;int&gt; | Nassau_population &lt;dbl&gt; | Nassau_case_percentage &lt;dbl&gt; | Nassau_per_100k &lt;dbl&gt; |\n|---|---|---|---|---|---|---|---|---|---|\n| 1 | 2020-03-05 | Nassau | New York | 36059 |  1 | 0 | 1356924 | 0.0000007369609 | 0.07369609 |\n| 2 | 2020-03-06 | Nassau | New York | 36059 |  4 | 0 | 1356924 | 0.0000029478438 | 0.29478438 |\n| 3 | 2020-03-07 | Nassau | New York | 36059 |  4 | 0 | 1356924 | 0.0000029478438 | 0.29478438 |\n| 4 | 2020-03-08 | Nassau | New York | 36059 |  5 | 0 | 1356924 | 0.0000036848047 | 0.36848047 |\n| 5 | 2020-03-09 | Nassau | New York | 36059 | 17 | 0 | 1356924 | 0.0000125283361 | 1.25283361 |\n| 6 | 2020-03-10 | Nassau | New York | 36059 | 19 | 0 | 1356924 | 0.0000140022580 | 1.40022580 |\n\n",
            "text/html": [
              "<table class=\"dataframe\">\n",
              "<caption>A data.frame: 6 × 9</caption>\n",
              "<thead>\n",
              "\t<tr><th></th><th scope=col>date</th><th scope=col>county</th><th scope=col>state</th><th scope=col>fips</th><th scope=col>Nassau_cases</th><th scope=col>Nassau_deaths</th><th scope=col>Nassau_population</th><th scope=col>Nassau_case_percentage</th><th scope=col>Nassau_per_100k</th></tr>\n",
              "\t<tr><th></th><th scope=col>&lt;date&gt;</th><th scope=col>&lt;chr&gt;</th><th scope=col>&lt;chr&gt;</th><th scope=col>&lt;int&gt;</th><th scope=col>&lt;int&gt;</th><th scope=col>&lt;int&gt;</th><th scope=col>&lt;dbl&gt;</th><th scope=col>&lt;dbl&gt;</th><th scope=col>&lt;dbl&gt;</th></tr>\n",
              "</thead>\n",
              "<tbody>\n",
              "\t<tr><th scope=row>1</th><td>2020-03-05</td><td>Nassau</td><td>New York</td><td>36059</td><td> 1</td><td>0</td><td>1356924</td><td>0.0000007369609</td><td>0.07369609</td></tr>\n",
              "\t<tr><th scope=row>2</th><td>2020-03-06</td><td>Nassau</td><td>New York</td><td>36059</td><td> 4</td><td>0</td><td>1356924</td><td>0.0000029478438</td><td>0.29478438</td></tr>\n",
              "\t<tr><th scope=row>3</th><td>2020-03-07</td><td>Nassau</td><td>New York</td><td>36059</td><td> 4</td><td>0</td><td>1356924</td><td>0.0000029478438</td><td>0.29478438</td></tr>\n",
              "\t<tr><th scope=row>4</th><td>2020-03-08</td><td>Nassau</td><td>New York</td><td>36059</td><td> 5</td><td>0</td><td>1356924</td><td>0.0000036848047</td><td>0.36848047</td></tr>\n",
              "\t<tr><th scope=row>5</th><td>2020-03-09</td><td>Nassau</td><td>New York</td><td>36059</td><td>17</td><td>0</td><td>1356924</td><td>0.0000125283361</td><td>1.25283361</td></tr>\n",
              "\t<tr><th scope=row>6</th><td>2020-03-10</td><td>Nassau</td><td>New York</td><td>36059</td><td>19</td><td>0</td><td>1356924</td><td>0.0000140022580</td><td>1.40022580</td></tr>\n",
              "</tbody>\n",
              "</table>\n"
            ]
          },
          "metadata": {
            "tags": []
          }
        }
      ]
    },
    {
      "cell_type": "code",
      "metadata": {
        "id": "someOMaKWqB4"
      },
      "source": [
        "write.csv(Nassau_covid, \"Nassau_covid.csv\")"
      ],
      "execution_count": null,
      "outputs": []
    },
    {
      "cell_type": "markdown",
      "metadata": {
        "id": "PSXZzL5D4xth"
      },
      "source": [
        "Lets check the structure of the data"
      ]
    },
    {
      "cell_type": "code",
      "metadata": {
        "colab": {
          "base_uri": "https://localhost:8080/"
        },
        "id": "aiGic3RI40z8",
        "outputId": "3ff57c80-a9d0-461e-839e-b8c97c628099"
      },
      "source": [
        "str(Nassau_covid)"
      ],
      "execution_count": null,
      "outputs": [
        {
          "output_type": "stream",
          "text": [
            "'data.frame':\t326 obs. of  9 variables:\n",
            " $ date                  : Date, format: \"2020-03-05\" \"2020-03-06\" ...\n",
            " $ county                : chr  \"Nassau\" \"Nassau\" \"Nassau\" \"Nassau\" ...\n",
            " $ state                 : chr  \"New York\" \"New York\" \"New York\" \"New York\" ...\n",
            " $ fips                  : int  36059 36059 36059 36059 36059 36059 36059 36059 36059 36059 ...\n",
            " $ Nassau_cases          : int  1 4 4 5 17 19 28 41 51 79 ...\n",
            " $ Nassau_deaths         : int  0 0 0 0 0 0 0 0 0 0 ...\n",
            " $ Nassau_population     : num  1356924 1356924 1356924 1356924 1356924 ...\n",
            " $ Nassau_case_percentage: num  0.000000737 0.000002948 0.000002948 0.000003685 0.000012528 ...\n",
            " $ Nassau_per_100k       : num  0.0737 0.2948 0.2948 0.3685 1.2528 ...\n"
          ],
          "name": "stdout"
        }
      ]
    },
    {
      "cell_type": "markdown",
      "metadata": {
        "id": "9xgQFcN18mzb"
      },
      "source": [
        "Next we create a new daset of  monthly avg of newly reporte covid cases. "
      ]
    },
    {
      "cell_type": "code",
      "metadata": {
        "colab": {
          "base_uri": "https://localhost:8080/",
          "height": 424
        },
        "id": "qpNKSTGxhCY6",
        "outputId": "279482b4-92bf-460a-844a-b3e1a18348a8"
      },
      "source": [
        "Nassau_monthly_avg_cases <- aggregate(Nassau_covid$Nassau_cases, list(format(Nassau_covid$date, \"%Y-%m\"), Nassau_covid$county),mean )\n",
        "Nassau_monthly_avg_cases"
      ],
      "execution_count": null,
      "outputs": [
        {
          "output_type": "display_data",
          "data": {
            "text/plain": [
              "   Group.1 Group.2 x         \n",
              "1  2020-03 Nassau    1854.704\n",
              "2  2020-04 Nassau   25270.967\n",
              "3  2020-05 Nassau   38749.710\n",
              "4  2020-06 Nassau   41233.333\n",
              "5  2020-07 Nassau   42507.677\n",
              "6  2020-08 Nassau   43951.290\n",
              "7  2020-09 Nassau   45849.700\n",
              "8  2020-10 Nassau   48421.258\n",
              "9  2020-11 Nassau   54572.000\n",
              "10 2020-12 Nassau   73395.258\n",
              "11 2021-01 Nassau  105730.500"
            ],
            "text/latex": "A data.frame: 11 × 3\n\\begin{tabular}{lll}\n Group.1 & Group.2 & x\\\\\n <chr> & <chr> & <dbl>\\\\\n\\hline\n\t 2020-03 & Nassau &   1854.704\\\\\n\t 2020-04 & Nassau &  25270.967\\\\\n\t 2020-05 & Nassau &  38749.710\\\\\n\t 2020-06 & Nassau &  41233.333\\\\\n\t 2020-07 & Nassau &  42507.677\\\\\n\t 2020-08 & Nassau &  43951.290\\\\\n\t 2020-09 & Nassau &  45849.700\\\\\n\t 2020-10 & Nassau &  48421.258\\\\\n\t 2020-11 & Nassau &  54572.000\\\\\n\t 2020-12 & Nassau &  73395.258\\\\\n\t 2021-01 & Nassau & 105730.500\\\\\n\\end{tabular}\n",
            "text/markdown": "\nA data.frame: 11 × 3\n\n| Group.1 &lt;chr&gt; | Group.2 &lt;chr&gt; | x &lt;dbl&gt; |\n|---|---|---|\n| 2020-03 | Nassau |   1854.704 |\n| 2020-04 | Nassau |  25270.967 |\n| 2020-05 | Nassau |  38749.710 |\n| 2020-06 | Nassau |  41233.333 |\n| 2020-07 | Nassau |  42507.677 |\n| 2020-08 | Nassau |  43951.290 |\n| 2020-09 | Nassau |  45849.700 |\n| 2020-10 | Nassau |  48421.258 |\n| 2020-11 | Nassau |  54572.000 |\n| 2020-12 | Nassau |  73395.258 |\n| 2021-01 | Nassau | 105730.500 |\n\n",
            "text/html": [
              "<table class=\"dataframe\">\n",
              "<caption>A data.frame: 11 × 3</caption>\n",
              "<thead>\n",
              "\t<tr><th scope=col>Group.1</th><th scope=col>Group.2</th><th scope=col>x</th></tr>\n",
              "\t<tr><th scope=col>&lt;chr&gt;</th><th scope=col>&lt;chr&gt;</th><th scope=col>&lt;dbl&gt;</th></tr>\n",
              "</thead>\n",
              "<tbody>\n",
              "\t<tr><td>2020-03</td><td>Nassau</td><td>  1854.704</td></tr>\n",
              "\t<tr><td>2020-04</td><td>Nassau</td><td> 25270.967</td></tr>\n",
              "\t<tr><td>2020-05</td><td>Nassau</td><td> 38749.710</td></tr>\n",
              "\t<tr><td>2020-06</td><td>Nassau</td><td> 41233.333</td></tr>\n",
              "\t<tr><td>2020-07</td><td>Nassau</td><td> 42507.677</td></tr>\n",
              "\t<tr><td>2020-08</td><td>Nassau</td><td> 43951.290</td></tr>\n",
              "\t<tr><td>2020-09</td><td>Nassau</td><td> 45849.700</td></tr>\n",
              "\t<tr><td>2020-10</td><td>Nassau</td><td> 48421.258</td></tr>\n",
              "\t<tr><td>2020-11</td><td>Nassau</td><td> 54572.000</td></tr>\n",
              "\t<tr><td>2020-12</td><td>Nassau</td><td> 73395.258</td></tr>\n",
              "\t<tr><td>2021-01</td><td>Nassau</td><td>105730.500</td></tr>\n",
              "</tbody>\n",
              "</table>\n"
            ]
          },
          "metadata": {
            "tags": []
          }
        }
      ]
    },
    {
      "cell_type": "markdown",
      "metadata": {
        "id": "5Rn42p369SKi"
      },
      "source": [
        "Improve those column names."
      ]
    },
    {
      "cell_type": "code",
      "metadata": {
        "id": "LRJiF9ge9Ydz"
      },
      "source": [
        "Nassau_monthly_avg_cases <- Nassau_monthly_avg_cases %>% \n",
        " rename(\n",
        "     \"date\" = \"Group.1\",\n",
        "     \"county\" = \"Group.2\",\n",
        "     \"Nassau_monthly_case_avg\" = \"x\")"
      ],
      "execution_count": null,
      "outputs": []
    },
    {
      "cell_type": "code",
      "metadata": {
        "id": "jvIE573K9dFW"
      },
      "source": [
        "Nassau_monthly_avg_cases"
      ],
      "execution_count": null,
      "outputs": []
    },
    {
      "cell_type": "markdown",
      "metadata": {
        "id": "EFotd3iA96qU"
      },
      "source": [
        "Date is currently character type .  Change to date type.  But it is missing he day column.  We need to add that too"
      ]
    },
    {
      "cell_type": "code",
      "metadata": {
        "colab": {
          "base_uri": "https://localhost:8080/",
          "height": 424
        },
        "id": "OWJ9bMEX953G",
        "outputId": "f6263eb4-481d-4efd-e3cf-fef21593b2bb"
      },
      "source": [
        "Nassau_monthly_avg_cases$date <-lubridate::ymd(paste0(year_month = Nassau_monthly_avg_cases$date, date = \"01\"))\n",
        "Nassau_monthly_avg_cases"
      ],
      "execution_count": null,
      "outputs": [
        {
          "output_type": "display_data",
          "data": {
            "text/plain": [
              "   date       county Nassau_monthly_case_avg\n",
              "1  2020-03-01 Nassau   1854.704             \n",
              "2  2020-04-01 Nassau  25270.967             \n",
              "3  2020-05-01 Nassau  38749.710             \n",
              "4  2020-06-01 Nassau  41233.333             \n",
              "5  2020-07-01 Nassau  42507.677             \n",
              "6  2020-08-01 Nassau  43951.290             \n",
              "7  2020-09-01 Nassau  45849.700             \n",
              "8  2020-10-01 Nassau  48421.258             \n",
              "9  2020-11-01 Nassau  54572.000             \n",
              "10 2020-12-01 Nassau  73395.258             \n",
              "11 2021-01-01 Nassau 105730.500             "
            ],
            "text/latex": "A data.frame: 11 × 3\n\\begin{tabular}{lll}\n date & county & Nassau\\_monthly\\_case\\_avg\\\\\n <date> & <chr> & <dbl>\\\\\n\\hline\n\t 2020-03-01 & Nassau &   1854.704\\\\\n\t 2020-04-01 & Nassau &  25270.967\\\\\n\t 2020-05-01 & Nassau &  38749.710\\\\\n\t 2020-06-01 & Nassau &  41233.333\\\\\n\t 2020-07-01 & Nassau &  42507.677\\\\\n\t 2020-08-01 & Nassau &  43951.290\\\\\n\t 2020-09-01 & Nassau &  45849.700\\\\\n\t 2020-10-01 & Nassau &  48421.258\\\\\n\t 2020-11-01 & Nassau &  54572.000\\\\\n\t 2020-12-01 & Nassau &  73395.258\\\\\n\t 2021-01-01 & Nassau & 105730.500\\\\\n\\end{tabular}\n",
            "text/markdown": "\nA data.frame: 11 × 3\n\n| date &lt;date&gt; | county &lt;chr&gt; | Nassau_monthly_case_avg &lt;dbl&gt; |\n|---|---|---|\n| 2020-03-01 | Nassau |   1854.704 |\n| 2020-04-01 | Nassau |  25270.967 |\n| 2020-05-01 | Nassau |  38749.710 |\n| 2020-06-01 | Nassau |  41233.333 |\n| 2020-07-01 | Nassau |  42507.677 |\n| 2020-08-01 | Nassau |  43951.290 |\n| 2020-09-01 | Nassau |  45849.700 |\n| 2020-10-01 | Nassau |  48421.258 |\n| 2020-11-01 | Nassau |  54572.000 |\n| 2020-12-01 | Nassau |  73395.258 |\n| 2021-01-01 | Nassau | 105730.500 |\n\n",
            "text/html": [
              "<table class=\"dataframe\">\n",
              "<caption>A data.frame: 11 × 3</caption>\n",
              "<thead>\n",
              "\t<tr><th scope=col>date</th><th scope=col>county</th><th scope=col>Nassau_monthly_case_avg</th></tr>\n",
              "\t<tr><th scope=col>&lt;date&gt;</th><th scope=col>&lt;chr&gt;</th><th scope=col>&lt;dbl&gt;</th></tr>\n",
              "</thead>\n",
              "<tbody>\n",
              "\t<tr><td>2020-03-01</td><td>Nassau</td><td>  1854.704</td></tr>\n",
              "\t<tr><td>2020-04-01</td><td>Nassau</td><td> 25270.967</td></tr>\n",
              "\t<tr><td>2020-05-01</td><td>Nassau</td><td> 38749.710</td></tr>\n",
              "\t<tr><td>2020-06-01</td><td>Nassau</td><td> 41233.333</td></tr>\n",
              "\t<tr><td>2020-07-01</td><td>Nassau</td><td> 42507.677</td></tr>\n",
              "\t<tr><td>2020-08-01</td><td>Nassau</td><td> 43951.290</td></tr>\n",
              "\t<tr><td>2020-09-01</td><td>Nassau</td><td> 45849.700</td></tr>\n",
              "\t<tr><td>2020-10-01</td><td>Nassau</td><td> 48421.258</td></tr>\n",
              "\t<tr><td>2020-11-01</td><td>Nassau</td><td> 54572.000</td></tr>\n",
              "\t<tr><td>2020-12-01</td><td>Nassau</td><td> 73395.258</td></tr>\n",
              "\t<tr><td>2021-01-01</td><td>Nassau</td><td>105730.500</td></tr>\n",
              "</tbody>\n",
              "</table>\n"
            ]
          },
          "metadata": {
            "tags": []
          }
        }
      ]
    },
    {
      "cell_type": "code",
      "metadata": {
        "id": "S3eGinIeGhsB"
      },
      "source": [
        "write.csv(Nassau_monthly_avg_cases,\"Nassau_monthly_avg_cases.csv\")"
      ],
      "execution_count": null,
      "outputs": []
    },
    {
      "cell_type": "code",
      "metadata": {
        "id": "zTZeI-qlTj22"
      },
      "source": [
        "'''\n",
        "Suffolk_covid <- Suffolk_covid %>%\n",
        "              mutate(Suffolk_case_percentage = Suffolk_cases / Suffolk_population) %>%\n",
        "              mutate(Suffolk_per_100k = Suffolk_case_percentage * 100000)\n",
        "head(Suffolk_covid  ) \n",
        "\n",
        "'''"
      ],
      "execution_count": null,
      "outputs": []
    },
    {
      "cell_type": "markdown",
      "metadata": {
        "id": "xO1JVUJT-xDn"
      },
      "source": [
        "## Suffolk"
      ]
    },
    {
      "cell_type": "code",
      "metadata": {
        "colab": {
          "base_uri": "https://localhost:8080/",
          "height": 274
        },
        "id": "VbE96xG3-4pU",
        "outputId": "feba84d4-9067-4583-91ad-dd0ef9cd80a5"
      },
      "source": [
        "Suffolk_covid<- filter(Covid_data_US , state == \"New York\" , county == \"Suffolk\")\n",
        "head(Suffolk_covid)"
      ],
      "execution_count": null,
      "outputs": [
        {
          "output_type": "display_data",
          "data": {
            "text/plain": [
              "  date       county  state    fips  cases deaths\n",
              "1 2020-03-08 Suffolk New York 36103  1    0     \n",
              "2 2020-03-09 Suffolk New York 36103  1    0     \n",
              "3 2020-03-10 Suffolk New York 36103  1    0     \n",
              "4 2020-03-11 Suffolk New York 36103  6    0     \n",
              "5 2020-03-12 Suffolk New York 36103 21    0     \n",
              "6 2020-03-13 Suffolk New York 36103 29    0     "
            ],
            "text/latex": "A data.frame: 6 × 6\n\\begin{tabular}{r|llllll}\n  & date & county & state & fips & cases & deaths\\\\\n  & <date> & <chr> & <chr> & <int> & <int> & <int>\\\\\n\\hline\n\t1 & 2020-03-08 & Suffolk & New York & 36103 &  1 & 0\\\\\n\t2 & 2020-03-09 & Suffolk & New York & 36103 &  1 & 0\\\\\n\t3 & 2020-03-10 & Suffolk & New York & 36103 &  1 & 0\\\\\n\t4 & 2020-03-11 & Suffolk & New York & 36103 &  6 & 0\\\\\n\t5 & 2020-03-12 & Suffolk & New York & 36103 & 21 & 0\\\\\n\t6 & 2020-03-13 & Suffolk & New York & 36103 & 29 & 0\\\\\n\\end{tabular}\n",
            "text/markdown": "\nA data.frame: 6 × 6\n\n| <!--/--> | date &lt;date&gt; | county &lt;chr&gt; | state &lt;chr&gt; | fips &lt;int&gt; | cases &lt;int&gt; | deaths &lt;int&gt; |\n|---|---|---|---|---|---|---|\n| 1 | 2020-03-08 | Suffolk | New York | 36103 |  1 | 0 |\n| 2 | 2020-03-09 | Suffolk | New York | 36103 |  1 | 0 |\n| 3 | 2020-03-10 | Suffolk | New York | 36103 |  1 | 0 |\n| 4 | 2020-03-11 | Suffolk | New York | 36103 |  6 | 0 |\n| 5 | 2020-03-12 | Suffolk | New York | 36103 | 21 | 0 |\n| 6 | 2020-03-13 | Suffolk | New York | 36103 | 29 | 0 |\n\n",
            "text/html": [
              "<table class=\"dataframe\">\n",
              "<caption>A data.frame: 6 × 6</caption>\n",
              "<thead>\n",
              "\t<tr><th></th><th scope=col>date</th><th scope=col>county</th><th scope=col>state</th><th scope=col>fips</th><th scope=col>cases</th><th scope=col>deaths</th></tr>\n",
              "\t<tr><th></th><th scope=col>&lt;date&gt;</th><th scope=col>&lt;chr&gt;</th><th scope=col>&lt;chr&gt;</th><th scope=col>&lt;int&gt;</th><th scope=col>&lt;int&gt;</th><th scope=col>&lt;int&gt;</th></tr>\n",
              "</thead>\n",
              "<tbody>\n",
              "\t<tr><th scope=row>1</th><td>2020-03-08</td><td>Suffolk</td><td>New York</td><td>36103</td><td> 1</td><td>0</td></tr>\n",
              "\t<tr><th scope=row>2</th><td>2020-03-09</td><td>Suffolk</td><td>New York</td><td>36103</td><td> 1</td><td>0</td></tr>\n",
              "\t<tr><th scope=row>3</th><td>2020-03-10</td><td>Suffolk</td><td>New York</td><td>36103</td><td> 1</td><td>0</td></tr>\n",
              "\t<tr><th scope=row>4</th><td>2020-03-11</td><td>Suffolk</td><td>New York</td><td>36103</td><td> 6</td><td>0</td></tr>\n",
              "\t<tr><th scope=row>5</th><td>2020-03-12</td><td>Suffolk</td><td>New York</td><td>36103</td><td>21</td><td>0</td></tr>\n",
              "\t<tr><th scope=row>6</th><td>2020-03-13</td><td>Suffolk</td><td>New York</td><td>36103</td><td>29</td><td>0</td></tr>\n",
              "</tbody>\n",
              "</table>\n"
            ]
          },
          "metadata": {
            "tags": []
          }
        }
      ]
    },
    {
      "cell_type": "code",
      "metadata": {
        "colab": {
          "base_uri": "https://localhost:8080/",
          "height": 274
        },
        "id": "P9qviNzUexgk",
        "outputId": "a8de33b4-982d-47d1-efd1-8afce19597d1"
      },
      "source": [
        "Suffolk_covid$Suffolk_population <- 1476601\n",
        "head(Suffolk_covid)"
      ],
      "execution_count": null,
      "outputs": [
        {
          "output_type": "display_data",
          "data": {
            "text/plain": [
              "  date       county  state    fips  cases deaths Suffolk_population\n",
              "1 2020-03-08 Suffolk New York 36103  1    0      1476601           \n",
              "2 2020-03-09 Suffolk New York 36103  1    0      1476601           \n",
              "3 2020-03-10 Suffolk New York 36103  1    0      1476601           \n",
              "4 2020-03-11 Suffolk New York 36103  6    0      1476601           \n",
              "5 2020-03-12 Suffolk New York 36103 21    0      1476601           \n",
              "6 2020-03-13 Suffolk New York 36103 29    0      1476601           "
            ],
            "text/latex": "A data.frame: 6 × 7\n\\begin{tabular}{r|lllllll}\n  & date & county & state & fips & cases & deaths & Suffolk\\_population\\\\\n  & <date> & <chr> & <chr> & <int> & <int> & <int> & <dbl>\\\\\n\\hline\n\t1 & 2020-03-08 & Suffolk & New York & 36103 &  1 & 0 & 1476601\\\\\n\t2 & 2020-03-09 & Suffolk & New York & 36103 &  1 & 0 & 1476601\\\\\n\t3 & 2020-03-10 & Suffolk & New York & 36103 &  1 & 0 & 1476601\\\\\n\t4 & 2020-03-11 & Suffolk & New York & 36103 &  6 & 0 & 1476601\\\\\n\t5 & 2020-03-12 & Suffolk & New York & 36103 & 21 & 0 & 1476601\\\\\n\t6 & 2020-03-13 & Suffolk & New York & 36103 & 29 & 0 & 1476601\\\\\n\\end{tabular}\n",
            "text/markdown": "\nA data.frame: 6 × 7\n\n| <!--/--> | date &lt;date&gt; | county &lt;chr&gt; | state &lt;chr&gt; | fips &lt;int&gt; | cases &lt;int&gt; | deaths &lt;int&gt; | Suffolk_population &lt;dbl&gt; |\n|---|---|---|---|---|---|---|---|\n| 1 | 2020-03-08 | Suffolk | New York | 36103 |  1 | 0 | 1476601 |\n| 2 | 2020-03-09 | Suffolk | New York | 36103 |  1 | 0 | 1476601 |\n| 3 | 2020-03-10 | Suffolk | New York | 36103 |  1 | 0 | 1476601 |\n| 4 | 2020-03-11 | Suffolk | New York | 36103 |  6 | 0 | 1476601 |\n| 5 | 2020-03-12 | Suffolk | New York | 36103 | 21 | 0 | 1476601 |\n| 6 | 2020-03-13 | Suffolk | New York | 36103 | 29 | 0 | 1476601 |\n\n",
            "text/html": [
              "<table class=\"dataframe\">\n",
              "<caption>A data.frame: 6 × 7</caption>\n",
              "<thead>\n",
              "\t<tr><th></th><th scope=col>date</th><th scope=col>county</th><th scope=col>state</th><th scope=col>fips</th><th scope=col>cases</th><th scope=col>deaths</th><th scope=col>Suffolk_population</th></tr>\n",
              "\t<tr><th></th><th scope=col>&lt;date&gt;</th><th scope=col>&lt;chr&gt;</th><th scope=col>&lt;chr&gt;</th><th scope=col>&lt;int&gt;</th><th scope=col>&lt;int&gt;</th><th scope=col>&lt;int&gt;</th><th scope=col>&lt;dbl&gt;</th></tr>\n",
              "</thead>\n",
              "<tbody>\n",
              "\t<tr><th scope=row>1</th><td>2020-03-08</td><td>Suffolk</td><td>New York</td><td>36103</td><td> 1</td><td>0</td><td>1476601</td></tr>\n",
              "\t<tr><th scope=row>2</th><td>2020-03-09</td><td>Suffolk</td><td>New York</td><td>36103</td><td> 1</td><td>0</td><td>1476601</td></tr>\n",
              "\t<tr><th scope=row>3</th><td>2020-03-10</td><td>Suffolk</td><td>New York</td><td>36103</td><td> 1</td><td>0</td><td>1476601</td></tr>\n",
              "\t<tr><th scope=row>4</th><td>2020-03-11</td><td>Suffolk</td><td>New York</td><td>36103</td><td> 6</td><td>0</td><td>1476601</td></tr>\n",
              "\t<tr><th scope=row>5</th><td>2020-03-12</td><td>Suffolk</td><td>New York</td><td>36103</td><td>21</td><td>0</td><td>1476601</td></tr>\n",
              "\t<tr><th scope=row>6</th><td>2020-03-13</td><td>Suffolk</td><td>New York</td><td>36103</td><td>29</td><td>0</td><td>1476601</td></tr>\n",
              "</tbody>\n",
              "</table>\n"
            ]
          },
          "metadata": {
            "tags": []
          }
        }
      ]
    },
    {
      "cell_type": "markdown",
      "metadata": {
        "id": "glHL-Shkr7mn"
      },
      "source": [
        "Make the column heading specific to Suffolk"
      ]
    },
    {
      "cell_type": "code",
      "metadata": {
        "colab": {
          "base_uri": "https://localhost:8080/",
          "height": 274
        },
        "id": "tINwC-WGe3Wu",
        "outputId": "a78d4f94-a15f-4a0f-cd96-594b2626323a"
      },
      "source": [
        "Suffolk_covid <- Suffolk_covid %>%\n",
        "        rename(\n",
        "              \"Suffolk_cases\" = \"cases\",\n",
        "              \"Suffolk_deaths\" = \"deaths\"\n",
        "        )\n",
        "head(Suffolk_covid)"
      ],
      "execution_count": null,
      "outputs": [
        {
          "output_type": "display_data",
          "data": {
            "text/plain": [
              "  date       county  state    fips  Suffolk_cases Suffolk_deaths\n",
              "1 2020-03-08 Suffolk New York 36103  1            0             \n",
              "2 2020-03-09 Suffolk New York 36103  1            0             \n",
              "3 2020-03-10 Suffolk New York 36103  1            0             \n",
              "4 2020-03-11 Suffolk New York 36103  6            0             \n",
              "5 2020-03-12 Suffolk New York 36103 21            0             \n",
              "6 2020-03-13 Suffolk New York 36103 29            0             \n",
              "  Suffolk_population\n",
              "1 1476601           \n",
              "2 1476601           \n",
              "3 1476601           \n",
              "4 1476601           \n",
              "5 1476601           \n",
              "6 1476601           "
            ],
            "text/latex": "A data.frame: 6 × 7\n\\begin{tabular}{r|lllllll}\n  & date & county & state & fips & Suffolk\\_cases & Suffolk\\_deaths & Suffolk\\_population\\\\\n  & <date> & <chr> & <chr> & <int> & <int> & <int> & <dbl>\\\\\n\\hline\n\t1 & 2020-03-08 & Suffolk & New York & 36103 &  1 & 0 & 1476601\\\\\n\t2 & 2020-03-09 & Suffolk & New York & 36103 &  1 & 0 & 1476601\\\\\n\t3 & 2020-03-10 & Suffolk & New York & 36103 &  1 & 0 & 1476601\\\\\n\t4 & 2020-03-11 & Suffolk & New York & 36103 &  6 & 0 & 1476601\\\\\n\t5 & 2020-03-12 & Suffolk & New York & 36103 & 21 & 0 & 1476601\\\\\n\t6 & 2020-03-13 & Suffolk & New York & 36103 & 29 & 0 & 1476601\\\\\n\\end{tabular}\n",
            "text/markdown": "\nA data.frame: 6 × 7\n\n| <!--/--> | date &lt;date&gt; | county &lt;chr&gt; | state &lt;chr&gt; | fips &lt;int&gt; | Suffolk_cases &lt;int&gt; | Suffolk_deaths &lt;int&gt; | Suffolk_population &lt;dbl&gt; |\n|---|---|---|---|---|---|---|---|\n| 1 | 2020-03-08 | Suffolk | New York | 36103 |  1 | 0 | 1476601 |\n| 2 | 2020-03-09 | Suffolk | New York | 36103 |  1 | 0 | 1476601 |\n| 3 | 2020-03-10 | Suffolk | New York | 36103 |  1 | 0 | 1476601 |\n| 4 | 2020-03-11 | Suffolk | New York | 36103 |  6 | 0 | 1476601 |\n| 5 | 2020-03-12 | Suffolk | New York | 36103 | 21 | 0 | 1476601 |\n| 6 | 2020-03-13 | Suffolk | New York | 36103 | 29 | 0 | 1476601 |\n\n",
            "text/html": [
              "<table class=\"dataframe\">\n",
              "<caption>A data.frame: 6 × 7</caption>\n",
              "<thead>\n",
              "\t<tr><th></th><th scope=col>date</th><th scope=col>county</th><th scope=col>state</th><th scope=col>fips</th><th scope=col>Suffolk_cases</th><th scope=col>Suffolk_deaths</th><th scope=col>Suffolk_population</th></tr>\n",
              "\t<tr><th></th><th scope=col>&lt;date&gt;</th><th scope=col>&lt;chr&gt;</th><th scope=col>&lt;chr&gt;</th><th scope=col>&lt;int&gt;</th><th scope=col>&lt;int&gt;</th><th scope=col>&lt;int&gt;</th><th scope=col>&lt;dbl&gt;</th></tr>\n",
              "</thead>\n",
              "<tbody>\n",
              "\t<tr><th scope=row>1</th><td>2020-03-08</td><td>Suffolk</td><td>New York</td><td>36103</td><td> 1</td><td>0</td><td>1476601</td></tr>\n",
              "\t<tr><th scope=row>2</th><td>2020-03-09</td><td>Suffolk</td><td>New York</td><td>36103</td><td> 1</td><td>0</td><td>1476601</td></tr>\n",
              "\t<tr><th scope=row>3</th><td>2020-03-10</td><td>Suffolk</td><td>New York</td><td>36103</td><td> 1</td><td>0</td><td>1476601</td></tr>\n",
              "\t<tr><th scope=row>4</th><td>2020-03-11</td><td>Suffolk</td><td>New York</td><td>36103</td><td> 6</td><td>0</td><td>1476601</td></tr>\n",
              "\t<tr><th scope=row>5</th><td>2020-03-12</td><td>Suffolk</td><td>New York</td><td>36103</td><td>21</td><td>0</td><td>1476601</td></tr>\n",
              "\t<tr><th scope=row>6</th><td>2020-03-13</td><td>Suffolk</td><td>New York</td><td>36103</td><td>29</td><td>0</td><td>1476601</td></tr>\n",
              "</tbody>\n",
              "</table>\n"
            ]
          },
          "metadata": {
            "tags": []
          }
        }
      ]
    },
    {
      "cell_type": "code",
      "metadata": {
        "colab": {
          "base_uri": "https://localhost:8080/",
          "height": 274
        },
        "id": "aou6gDDBe-DQ",
        "outputId": "6c2ddc9a-9388-4814-cdcf-3660f3f74036"
      },
      "source": [
        "Suffolk_covid <- Suffolk_covid %>%\n",
        "              mutate(Suffolk_case_percentage = Suffolk_cases / Suffolk_population) %>%\n",
        "              mutate(Suffolk_per_100k = Suffolk_case_percentage * 100000)\n",
        "head(Suffolk_covid  ) "
      ],
      "execution_count": null,
      "outputs": [
        {
          "output_type": "display_data",
          "data": {
            "text/plain": [
              "  date       county  state    fips  Suffolk_cases Suffolk_deaths\n",
              "1 2020-03-08 Suffolk New York 36103  1            0             \n",
              "2 2020-03-09 Suffolk New York 36103  1            0             \n",
              "3 2020-03-10 Suffolk New York 36103  1            0             \n",
              "4 2020-03-11 Suffolk New York 36103  6            0             \n",
              "5 2020-03-12 Suffolk New York 36103 21            0             \n",
              "6 2020-03-13 Suffolk New York 36103 29            0             \n",
              "  Suffolk_population Suffolk_case_percentage Suffolk_per_100k\n",
              "1 1476601            0.000000677231          0.0677231       \n",
              "2 1476601            0.000000677231          0.0677231       \n",
              "3 1476601            0.000000677231          0.0677231       \n",
              "4 1476601            0.000004063386          0.4063386       \n",
              "5 1476601            0.000014221851          1.4221851       \n",
              "6 1476601            0.000019639700          1.9639700       "
            ],
            "text/latex": "A data.frame: 6 × 9\n\\begin{tabular}{r|lllllllll}\n  & date & county & state & fips & Suffolk\\_cases & Suffolk\\_deaths & Suffolk\\_population & Suffolk\\_case\\_percentage & Suffolk\\_per\\_100k\\\\\n  & <date> & <chr> & <chr> & <int> & <int> & <int> & <dbl> & <dbl> & <dbl>\\\\\n\\hline\n\t1 & 2020-03-08 & Suffolk & New York & 36103 &  1 & 0 & 1476601 & 0.000000677231 & 0.0677231\\\\\n\t2 & 2020-03-09 & Suffolk & New York & 36103 &  1 & 0 & 1476601 & 0.000000677231 & 0.0677231\\\\\n\t3 & 2020-03-10 & Suffolk & New York & 36103 &  1 & 0 & 1476601 & 0.000000677231 & 0.0677231\\\\\n\t4 & 2020-03-11 & Suffolk & New York & 36103 &  6 & 0 & 1476601 & 0.000004063386 & 0.4063386\\\\\n\t5 & 2020-03-12 & Suffolk & New York & 36103 & 21 & 0 & 1476601 & 0.000014221851 & 1.4221851\\\\\n\t6 & 2020-03-13 & Suffolk & New York & 36103 & 29 & 0 & 1476601 & 0.000019639700 & 1.9639700\\\\\n\\end{tabular}\n",
            "text/markdown": "\nA data.frame: 6 × 9\n\n| <!--/--> | date &lt;date&gt; | county &lt;chr&gt; | state &lt;chr&gt; | fips &lt;int&gt; | Suffolk_cases &lt;int&gt; | Suffolk_deaths &lt;int&gt; | Suffolk_population &lt;dbl&gt; | Suffolk_case_percentage &lt;dbl&gt; | Suffolk_per_100k &lt;dbl&gt; |\n|---|---|---|---|---|---|---|---|---|---|\n| 1 | 2020-03-08 | Suffolk | New York | 36103 |  1 | 0 | 1476601 | 0.000000677231 | 0.0677231 |\n| 2 | 2020-03-09 | Suffolk | New York | 36103 |  1 | 0 | 1476601 | 0.000000677231 | 0.0677231 |\n| 3 | 2020-03-10 | Suffolk | New York | 36103 |  1 | 0 | 1476601 | 0.000000677231 | 0.0677231 |\n| 4 | 2020-03-11 | Suffolk | New York | 36103 |  6 | 0 | 1476601 | 0.000004063386 | 0.4063386 |\n| 5 | 2020-03-12 | Suffolk | New York | 36103 | 21 | 0 | 1476601 | 0.000014221851 | 1.4221851 |\n| 6 | 2020-03-13 | Suffolk | New York | 36103 | 29 | 0 | 1476601 | 0.000019639700 | 1.9639700 |\n\n",
            "text/html": [
              "<table class=\"dataframe\">\n",
              "<caption>A data.frame: 6 × 9</caption>\n",
              "<thead>\n",
              "\t<tr><th></th><th scope=col>date</th><th scope=col>county</th><th scope=col>state</th><th scope=col>fips</th><th scope=col>Suffolk_cases</th><th scope=col>Suffolk_deaths</th><th scope=col>Suffolk_population</th><th scope=col>Suffolk_case_percentage</th><th scope=col>Suffolk_per_100k</th></tr>\n",
              "\t<tr><th></th><th scope=col>&lt;date&gt;</th><th scope=col>&lt;chr&gt;</th><th scope=col>&lt;chr&gt;</th><th scope=col>&lt;int&gt;</th><th scope=col>&lt;int&gt;</th><th scope=col>&lt;int&gt;</th><th scope=col>&lt;dbl&gt;</th><th scope=col>&lt;dbl&gt;</th><th scope=col>&lt;dbl&gt;</th></tr>\n",
              "</thead>\n",
              "<tbody>\n",
              "\t<tr><th scope=row>1</th><td>2020-03-08</td><td>Suffolk</td><td>New York</td><td>36103</td><td> 1</td><td>0</td><td>1476601</td><td>0.000000677231</td><td>0.0677231</td></tr>\n",
              "\t<tr><th scope=row>2</th><td>2020-03-09</td><td>Suffolk</td><td>New York</td><td>36103</td><td> 1</td><td>0</td><td>1476601</td><td>0.000000677231</td><td>0.0677231</td></tr>\n",
              "\t<tr><th scope=row>3</th><td>2020-03-10</td><td>Suffolk</td><td>New York</td><td>36103</td><td> 1</td><td>0</td><td>1476601</td><td>0.000000677231</td><td>0.0677231</td></tr>\n",
              "\t<tr><th scope=row>4</th><td>2020-03-11</td><td>Suffolk</td><td>New York</td><td>36103</td><td> 6</td><td>0</td><td>1476601</td><td>0.000004063386</td><td>0.4063386</td></tr>\n",
              "\t<tr><th scope=row>5</th><td>2020-03-12</td><td>Suffolk</td><td>New York</td><td>36103</td><td>21</td><td>0</td><td>1476601</td><td>0.000014221851</td><td>1.4221851</td></tr>\n",
              "\t<tr><th scope=row>6</th><td>2020-03-13</td><td>Suffolk</td><td>New York</td><td>36103</td><td>29</td><td>0</td><td>1476601</td><td>0.000019639700</td><td>1.9639700</td></tr>\n",
              "</tbody>\n",
              "</table>\n"
            ]
          },
          "metadata": {
            "tags": []
          }
        }
      ]
    },
    {
      "cell_type": "code",
      "metadata": {
        "id": "nUvagS_SW_iP"
      },
      "source": [
        "write.csv(Suffolk_covid ,\"Suffolk_covid.csv\")"
      ],
      "execution_count": null,
      "outputs": []
    },
    {
      "cell_type": "code",
      "metadata": {
        "colab": {
          "base_uri": "https://localhost:8080/"
        },
        "id": "NkbD8NBmfXPY",
        "outputId": "f04a4120-9a1b-4ff4-bb0a-5de20661b54f"
      },
      "source": [
        "str(Suffolk_covid)"
      ],
      "execution_count": null,
      "outputs": [
        {
          "output_type": "stream",
          "text": [
            "'data.frame':\t323 obs. of  9 variables:\n",
            " $ date                   : Date, format: \"2020-03-08\" \"2020-03-09\" ...\n",
            " $ county                 : chr  \"Suffolk\" \"Suffolk\" \"Suffolk\" \"Suffolk\" ...\n",
            " $ state                  : chr  \"New York\" \"New York\" \"New York\" \"New York\" ...\n",
            " $ fips                   : int  36103 36103 36103 36103 36103 36103 36103 36103 36103 36103 ...\n",
            " $ Suffolk_cases          : int  1 1 1 6 21 29 41 47 63 84 ...\n",
            " $ Suffolk_deaths         : int  0 0 0 0 0 0 0 0 2 3 ...\n",
            " $ Suffolk_population     : num  1476601 1476601 1476601 1476601 1476601 ...\n",
            " $ Suffolk_case_percentage: num  0.000000677 0.000000677 0.000000677 0.000004063 0.000014222 ...\n",
            " $ Suffolk_per_100k       : num  0.0677 0.0677 0.0677 0.4063 1.4222 ...\n"
          ],
          "name": "stdout"
        }
      ]
    },
    {
      "cell_type": "code",
      "metadata": {
        "colab": {
          "base_uri": "https://localhost:8080/",
          "height": 274
        },
        "id": "9VMlChI5foGl",
        "outputId": "4e8efe21-106a-4342-e2b5-a17d98b80061"
      },
      "source": [
        "Suffolk_monthly_avg_cases <- aggregate(Suffolk_covid$Suffolk_cases, list(format(Suffolk_covid$date, \"%Y-%m\"), Suffolk_covid$county),mean )\n",
        "\n",
        "head(Suffolk_monthly_avg_cases)"
      ],
      "execution_count": null,
      "outputs": [
        {
          "output_type": "display_data",
          "data": {
            "text/plain": [
              "  Group.1 Group.2 x        \n",
              "1 2020-03 Suffolk  1501.583\n",
              "2 2020-04 Suffolk 22815.733\n",
              "3 2020-05 Suffolk 37503.935\n",
              "4 2020-06 Suffolk 40697.367\n",
              "5 2020-07 Suffolk 42298.065\n",
              "6 2020-08 Suffolk 44116.871"
            ],
            "text/latex": "A data.frame: 6 × 3\n\\begin{tabular}{r|lll}\n  & Group.1 & Group.2 & x\\\\\n  & <chr> & <chr> & <dbl>\\\\\n\\hline\n\t1 & 2020-03 & Suffolk &  1501.583\\\\\n\t2 & 2020-04 & Suffolk & 22815.733\\\\\n\t3 & 2020-05 & Suffolk & 37503.935\\\\\n\t4 & 2020-06 & Suffolk & 40697.367\\\\\n\t5 & 2020-07 & Suffolk & 42298.065\\\\\n\t6 & 2020-08 & Suffolk & 44116.871\\\\\n\\end{tabular}\n",
            "text/markdown": "\nA data.frame: 6 × 3\n\n| <!--/--> | Group.1 &lt;chr&gt; | Group.2 &lt;chr&gt; | x &lt;dbl&gt; |\n|---|---|---|---|\n| 1 | 2020-03 | Suffolk |  1501.583 |\n| 2 | 2020-04 | Suffolk | 22815.733 |\n| 3 | 2020-05 | Suffolk | 37503.935 |\n| 4 | 2020-06 | Suffolk | 40697.367 |\n| 5 | 2020-07 | Suffolk | 42298.065 |\n| 6 | 2020-08 | Suffolk | 44116.871 |\n\n",
            "text/html": [
              "<table class=\"dataframe\">\n",
              "<caption>A data.frame: 6 × 3</caption>\n",
              "<thead>\n",
              "\t<tr><th></th><th scope=col>Group.1</th><th scope=col>Group.2</th><th scope=col>x</th></tr>\n",
              "\t<tr><th></th><th scope=col>&lt;chr&gt;</th><th scope=col>&lt;chr&gt;</th><th scope=col>&lt;dbl&gt;</th></tr>\n",
              "</thead>\n",
              "<tbody>\n",
              "\t<tr><th scope=row>1</th><td>2020-03</td><td>Suffolk</td><td> 1501.583</td></tr>\n",
              "\t<tr><th scope=row>2</th><td>2020-04</td><td>Suffolk</td><td>22815.733</td></tr>\n",
              "\t<tr><th scope=row>3</th><td>2020-05</td><td>Suffolk</td><td>37503.935</td></tr>\n",
              "\t<tr><th scope=row>4</th><td>2020-06</td><td>Suffolk</td><td>40697.367</td></tr>\n",
              "\t<tr><th scope=row>5</th><td>2020-07</td><td>Suffolk</td><td>42298.065</td></tr>\n",
              "\t<tr><th scope=row>6</th><td>2020-08</td><td>Suffolk</td><td>44116.871</td></tr>\n",
              "</tbody>\n",
              "</table>\n"
            ]
          },
          "metadata": {
            "tags": []
          }
        }
      ]
    },
    {
      "cell_type": "code",
      "metadata": {
        "id": "Ak4FClFyf6Su"
      },
      "source": [
        "Suffolk_monthly_avg_cases <- Suffolk_monthly_avg_cases %>% \n",
        " rename(\n",
        "     \"date\" = \"Group.1\",\n",
        "     \"county\" = \"Group.2\",\n",
        "     \"Suffolk_monthly_case_avg\" = \"x\")"
      ],
      "execution_count": null,
      "outputs": []
    },
    {
      "cell_type": "code",
      "metadata": {
        "colab": {
          "base_uri": "https://localhost:8080/",
          "height": 424
        },
        "id": "-xTBz2_cgVzg",
        "outputId": "2a9b8875-0178-4989-eaf9-c04954b2f483"
      },
      "source": [
        "Suffolk_monthly_avg_cases"
      ],
      "execution_count": null,
      "outputs": [
        {
          "output_type": "display_data",
          "data": {
            "text/plain": [
              "   date    county  Suffolk_monthly_case_avg\n",
              "1  2020-03 Suffolk   1501.583              \n",
              "2  2020-04 Suffolk  22815.733              \n",
              "3  2020-05 Suffolk  37503.935              \n",
              "4  2020-06 Suffolk  40697.367              \n",
              "5  2020-07 Suffolk  42298.065              \n",
              "6  2020-08 Suffolk  44116.871              \n",
              "7  2020-09 Suffolk  45773.633              \n",
              "8  2020-10 Suffolk  47872.774              \n",
              "9  2020-11 Suffolk  54033.567              \n",
              "10 2020-12 Suffolk  77935.452              \n",
              "11 2021-01 Suffolk 117491.625              "
            ],
            "text/latex": "A data.frame: 11 × 3\n\\begin{tabular}{lll}\n date & county & Suffolk\\_monthly\\_case\\_avg\\\\\n <chr> & <chr> & <dbl>\\\\\n\\hline\n\t 2020-03 & Suffolk &   1501.583\\\\\n\t 2020-04 & Suffolk &  22815.733\\\\\n\t 2020-05 & Suffolk &  37503.935\\\\\n\t 2020-06 & Suffolk &  40697.367\\\\\n\t 2020-07 & Suffolk &  42298.065\\\\\n\t 2020-08 & Suffolk &  44116.871\\\\\n\t 2020-09 & Suffolk &  45773.633\\\\\n\t 2020-10 & Suffolk &  47872.774\\\\\n\t 2020-11 & Suffolk &  54033.567\\\\\n\t 2020-12 & Suffolk &  77935.452\\\\\n\t 2021-01 & Suffolk & 117491.625\\\\\n\\end{tabular}\n",
            "text/markdown": "\nA data.frame: 11 × 3\n\n| date &lt;chr&gt; | county &lt;chr&gt; | Suffolk_monthly_case_avg &lt;dbl&gt; |\n|---|---|---|\n| 2020-03 | Suffolk |   1501.583 |\n| 2020-04 | Suffolk |  22815.733 |\n| 2020-05 | Suffolk |  37503.935 |\n| 2020-06 | Suffolk |  40697.367 |\n| 2020-07 | Suffolk |  42298.065 |\n| 2020-08 | Suffolk |  44116.871 |\n| 2020-09 | Suffolk |  45773.633 |\n| 2020-10 | Suffolk |  47872.774 |\n| 2020-11 | Suffolk |  54033.567 |\n| 2020-12 | Suffolk |  77935.452 |\n| 2021-01 | Suffolk | 117491.625 |\n\n",
            "text/html": [
              "<table class=\"dataframe\">\n",
              "<caption>A data.frame: 11 × 3</caption>\n",
              "<thead>\n",
              "\t<tr><th scope=col>date</th><th scope=col>county</th><th scope=col>Suffolk_monthly_case_avg</th></tr>\n",
              "\t<tr><th scope=col>&lt;chr&gt;</th><th scope=col>&lt;chr&gt;</th><th scope=col>&lt;dbl&gt;</th></tr>\n",
              "</thead>\n",
              "<tbody>\n",
              "\t<tr><td>2020-03</td><td>Suffolk</td><td>  1501.583</td></tr>\n",
              "\t<tr><td>2020-04</td><td>Suffolk</td><td> 22815.733</td></tr>\n",
              "\t<tr><td>2020-05</td><td>Suffolk</td><td> 37503.935</td></tr>\n",
              "\t<tr><td>2020-06</td><td>Suffolk</td><td> 40697.367</td></tr>\n",
              "\t<tr><td>2020-07</td><td>Suffolk</td><td> 42298.065</td></tr>\n",
              "\t<tr><td>2020-08</td><td>Suffolk</td><td> 44116.871</td></tr>\n",
              "\t<tr><td>2020-09</td><td>Suffolk</td><td> 45773.633</td></tr>\n",
              "\t<tr><td>2020-10</td><td>Suffolk</td><td> 47872.774</td></tr>\n",
              "\t<tr><td>2020-11</td><td>Suffolk</td><td> 54033.567</td></tr>\n",
              "\t<tr><td>2020-12</td><td>Suffolk</td><td> 77935.452</td></tr>\n",
              "\t<tr><td>2021-01</td><td>Suffolk</td><td>117491.625</td></tr>\n",
              "</tbody>\n",
              "</table>\n"
            ]
          },
          "metadata": {
            "tags": []
          }
        }
      ]
    },
    {
      "cell_type": "markdown",
      "metadata": {
        "id": "KmS-GsXNtg1V"
      },
      "source": [
        "Date is currently CHARACTER class. Cannot comver to DATE class if it only has Year and month (YYYY-mm) it needs a date.\n",
        "\n",
        "To accomplish this , first cast it as character string then paste on a \"0\".\n",
        "\n",
        "Then convert to date type"
      ]
    },
    {
      "cell_type": "code",
      "metadata": {
        "colab": {
          "base_uri": "https://localhost:8080/",
          "height": 424
        },
        "id": "TNrUVQFgth7W",
        "outputId": "20a41439-f2cd-4883-9570-6162c869b5e8"
      },
      "source": [
        "Suffolk_monthly_avg_cases$date <-lubridate::ymd(paste0(year_month = Suffolk_monthly_avg_cases$date, date = \"01\"))\n",
        "Suffolk_monthly_avg_cases"
      ],
      "execution_count": null,
      "outputs": [
        {
          "output_type": "display_data",
          "data": {
            "text/plain": [
              "   date       county  Suffolk_monthly_case_avg\n",
              "1  2020-03-01 Suffolk   1501.583              \n",
              "2  2020-04-01 Suffolk  22815.733              \n",
              "3  2020-05-01 Suffolk  37503.935              \n",
              "4  2020-06-01 Suffolk  40697.367              \n",
              "5  2020-07-01 Suffolk  42298.065              \n",
              "6  2020-08-01 Suffolk  44116.871              \n",
              "7  2020-09-01 Suffolk  45773.633              \n",
              "8  2020-10-01 Suffolk  47872.774              \n",
              "9  2020-11-01 Suffolk  54033.567              \n",
              "10 2020-12-01 Suffolk  77935.452              \n",
              "11 2021-01-01 Suffolk 117491.625              "
            ],
            "text/latex": "A data.frame: 11 × 3\n\\begin{tabular}{lll}\n date & county & Suffolk\\_monthly\\_case\\_avg\\\\\n <date> & <chr> & <dbl>\\\\\n\\hline\n\t 2020-03-01 & Suffolk &   1501.583\\\\\n\t 2020-04-01 & Suffolk &  22815.733\\\\\n\t 2020-05-01 & Suffolk &  37503.935\\\\\n\t 2020-06-01 & Suffolk &  40697.367\\\\\n\t 2020-07-01 & Suffolk &  42298.065\\\\\n\t 2020-08-01 & Suffolk &  44116.871\\\\\n\t 2020-09-01 & Suffolk &  45773.633\\\\\n\t 2020-10-01 & Suffolk &  47872.774\\\\\n\t 2020-11-01 & Suffolk &  54033.567\\\\\n\t 2020-12-01 & Suffolk &  77935.452\\\\\n\t 2021-01-01 & Suffolk & 117491.625\\\\\n\\end{tabular}\n",
            "text/markdown": "\nA data.frame: 11 × 3\n\n| date &lt;date&gt; | county &lt;chr&gt; | Suffolk_monthly_case_avg &lt;dbl&gt; |\n|---|---|---|\n| 2020-03-01 | Suffolk |   1501.583 |\n| 2020-04-01 | Suffolk |  22815.733 |\n| 2020-05-01 | Suffolk |  37503.935 |\n| 2020-06-01 | Suffolk |  40697.367 |\n| 2020-07-01 | Suffolk |  42298.065 |\n| 2020-08-01 | Suffolk |  44116.871 |\n| 2020-09-01 | Suffolk |  45773.633 |\n| 2020-10-01 | Suffolk |  47872.774 |\n| 2020-11-01 | Suffolk |  54033.567 |\n| 2020-12-01 | Suffolk |  77935.452 |\n| 2021-01-01 | Suffolk | 117491.625 |\n\n",
            "text/html": [
              "<table class=\"dataframe\">\n",
              "<caption>A data.frame: 11 × 3</caption>\n",
              "<thead>\n",
              "\t<tr><th scope=col>date</th><th scope=col>county</th><th scope=col>Suffolk_monthly_case_avg</th></tr>\n",
              "\t<tr><th scope=col>&lt;date&gt;</th><th scope=col>&lt;chr&gt;</th><th scope=col>&lt;dbl&gt;</th></tr>\n",
              "</thead>\n",
              "<tbody>\n",
              "\t<tr><td>2020-03-01</td><td>Suffolk</td><td>  1501.583</td></tr>\n",
              "\t<tr><td>2020-04-01</td><td>Suffolk</td><td> 22815.733</td></tr>\n",
              "\t<tr><td>2020-05-01</td><td>Suffolk</td><td> 37503.935</td></tr>\n",
              "\t<tr><td>2020-06-01</td><td>Suffolk</td><td> 40697.367</td></tr>\n",
              "\t<tr><td>2020-07-01</td><td>Suffolk</td><td> 42298.065</td></tr>\n",
              "\t<tr><td>2020-08-01</td><td>Suffolk</td><td> 44116.871</td></tr>\n",
              "\t<tr><td>2020-09-01</td><td>Suffolk</td><td> 45773.633</td></tr>\n",
              "\t<tr><td>2020-10-01</td><td>Suffolk</td><td> 47872.774</td></tr>\n",
              "\t<tr><td>2020-11-01</td><td>Suffolk</td><td> 54033.567</td></tr>\n",
              "\t<tr><td>2020-12-01</td><td>Suffolk</td><td> 77935.452</td></tr>\n",
              "\t<tr><td>2021-01-01</td><td>Suffolk</td><td>117491.625</td></tr>\n",
              "</tbody>\n",
              "</table>\n"
            ]
          },
          "metadata": {
            "tags": []
          }
        }
      ]
    },
    {
      "cell_type": "code",
      "metadata": {
        "colab": {
          "base_uri": "https://localhost:8080/",
          "height": 190
        },
        "id": "0KGwpSQwtcVh",
        "outputId": "80a328d5-93ca-4d8d-8fe2-21ec5766fdfc"
      },
      "source": [
        "head(Nassau_monthly_avg_cases ,3)"
      ],
      "execution_count": null,
      "outputs": [
        {
          "output_type": "display_data",
          "data": {
            "text/plain": [
              "  date       county Nassau_monthly_case_avg\n",
              "1 2020-03-15 Nassau  1854.704              \n",
              "2 2020-04-15 Nassau 25270.967              \n",
              "3 2020-05-15 Nassau 38749.710              "
            ],
            "text/latex": "A data.frame: 3 × 3\n\\begin{tabular}{r|lll}\n  & date & county & Nassau\\_monthly\\_case\\_avg\\\\\n  & <date> & <chr> & <dbl>\\\\\n\\hline\n\t1 & 2020-03-15 & Nassau &  1854.704\\\\\n\t2 & 2020-04-15 & Nassau & 25270.967\\\\\n\t3 & 2020-05-15 & Nassau & 38749.710\\\\\n\\end{tabular}\n",
            "text/markdown": "\nA data.frame: 3 × 3\n\n| <!--/--> | date &lt;date&gt; | county &lt;chr&gt; | Nassau_monthly_case_avg &lt;dbl&gt; |\n|---|---|---|---|\n| 1 | 2020-03-15 | Nassau |  1854.704 |\n| 2 | 2020-04-15 | Nassau | 25270.967 |\n| 3 | 2020-05-15 | Nassau | 38749.710 |\n\n",
            "text/html": [
              "<table class=\"dataframe\">\n",
              "<caption>A data.frame: 3 × 3</caption>\n",
              "<thead>\n",
              "\t<tr><th></th><th scope=col>date</th><th scope=col>county</th><th scope=col>Nassau_monthly_case_avg</th></tr>\n",
              "\t<tr><th></th><th scope=col>&lt;date&gt;</th><th scope=col>&lt;chr&gt;</th><th scope=col>&lt;dbl&gt;</th></tr>\n",
              "</thead>\n",
              "<tbody>\n",
              "\t<tr><th scope=row>1</th><td>2020-03-15</td><td>Nassau</td><td> 1854.704</td></tr>\n",
              "\t<tr><th scope=row>2</th><td>2020-04-15</td><td>Nassau</td><td>25270.967</td></tr>\n",
              "\t<tr><th scope=row>3</th><td>2020-05-15</td><td>Nassau</td><td>38749.710</td></tr>\n",
              "</tbody>\n",
              "</table>\n"
            ]
          },
          "metadata": {
            "tags": []
          }
        }
      ]
    },
    {
      "cell_type": "markdown",
      "metadata": {
        "id": "GiV3YBmtt8Jt"
      },
      "source": [
        "### Now Merge the two data sets"
      ]
    },
    {
      "cell_type": "markdown",
      "metadata": {
        "id": "DGeDG4fFuCap"
      },
      "source": [
        "We cannot do a rbind becasue they have different col names (Nassau cases v Suffolk Cases). Instead we will perform a column bind and then make the data skinny becasue then ggplot automatically includes the legend.\n",
        "\n",
        "And inner join will not duplicate the date column"
      ]
    },
    {
      "cell_type": "code",
      "metadata": {
        "id": "akhVexO6vMG6"
      },
      "source": [
        "Nassau_Suffolk_Avg_Monthly_Per_100k_inner <- inner_join(Nassau_monthly_avg_cases , Suffolk_monthly_avg_cases ,by =\"date\")\n",
        "Nassau_Suffolk_Avg_Monthly_Per_100k_inner"
      ],
      "execution_count": null,
      "outputs": []
    },
    {
      "cell_type": "code",
      "metadata": {
        "id": "k5pdIzpUvptT"
      },
      "source": [
        "'''\n",
        "Suffolk_avg_cases_per_100k <- Suffolk_avg_cases_per_100k %>%\n",
        "        rename(\n",
        "              \"date\" = \"Group.1\",\n",
        "              \"county\" = \"Group.2\",\n",
        "              \"Suffolk_monthly_avg_cases_per_100k\" = \"x\"\n",
        "        )\n",
        "\n",
        "'''"
      ],
      "execution_count": null,
      "outputs": []
    },
    {
      "cell_type": "code",
      "metadata": {
        "colab": {
          "base_uri": "https://localhost:8080/",
          "height": 274
        },
        "id": "U61hI7DBvryI",
        "outputId": "bbefe8e6-b640-48a1-dd57-862d6e22c550"
      },
      "source": [
        "Nassau_Suffolk_Avg_Monthly_Per_100k_inner  <- Nassau_Suffolk_Avg_Monthly_Per_100k_inner  %>%\n",
        "        rename(\"Nassau_name \" = \"county.x\",\n",
        "               \" Suffolk_name\" = \"county.y\"\n",
        "\n",
        "        )\n",
        "head(Nassau_Suffolk_Avg_Monthly_Per_100k_inner)"
      ],
      "execution_count": null,
      "outputs": [
        {
          "output_type": "display_data",
          "data": {
            "text/plain": [
              "  date       Nassau_name  Nassau_monthly_case_avg  Suffolk_name\n",
              "1 2020-03-01 Albany        101.6000               Suffolk      \n",
              "2 2020-04-01 Albany        598.3667               Suffolk      \n",
              "3 2020-05-01 Albany       1564.3548               Suffolk      \n",
              "4 2020-06-01 Albany       2015.8667               Suffolk      \n",
              "5 2020-07-01 Albany       2293.6452               Suffolk      \n",
              "6 2020-08-01 Albany       2646.7742               Suffolk      \n",
              "  Suffolk_monthly_case_avg\n",
              "1  1501.583               \n",
              "2 22815.733               \n",
              "3 37503.935               \n",
              "4 40697.367               \n",
              "5 42298.065               \n",
              "6 44116.871               "
            ],
            "text/latex": "A data.frame: 6 × 5\n\\begin{tabular}{r|lllll}\n  & date & Nassau\\_name  & Nassau\\_monthly\\_case\\_avg &  Suffolk\\_name & Suffolk\\_monthly\\_case\\_avg\\\\\n  & <date> & <chr> & <dbl> & <chr> & <dbl>\\\\\n\\hline\n\t1 & 2020-03-01 & Albany &  101.6000 & Suffolk &  1501.583\\\\\n\t2 & 2020-04-01 & Albany &  598.3667 & Suffolk & 22815.733\\\\\n\t3 & 2020-05-01 & Albany & 1564.3548 & Suffolk & 37503.935\\\\\n\t4 & 2020-06-01 & Albany & 2015.8667 & Suffolk & 40697.367\\\\\n\t5 & 2020-07-01 & Albany & 2293.6452 & Suffolk & 42298.065\\\\\n\t6 & 2020-08-01 & Albany & 2646.7742 & Suffolk & 44116.871\\\\\n\\end{tabular}\n",
            "text/markdown": "\nA data.frame: 6 × 5\n\n| <!--/--> | date &lt;date&gt; | Nassau_name  &lt;chr&gt; | Nassau_monthly_case_avg &lt;dbl&gt; |  Suffolk_name &lt;chr&gt; | Suffolk_monthly_case_avg &lt;dbl&gt; |\n|---|---|---|---|---|---|\n| 1 | 2020-03-01 | Albany |  101.6000 | Suffolk |  1501.583 |\n| 2 | 2020-04-01 | Albany |  598.3667 | Suffolk | 22815.733 |\n| 3 | 2020-05-01 | Albany | 1564.3548 | Suffolk | 37503.935 |\n| 4 | 2020-06-01 | Albany | 2015.8667 | Suffolk | 40697.367 |\n| 5 | 2020-07-01 | Albany | 2293.6452 | Suffolk | 42298.065 |\n| 6 | 2020-08-01 | Albany | 2646.7742 | Suffolk | 44116.871 |\n\n",
            "text/html": [
              "<table class=\"dataframe\">\n",
              "<caption>A data.frame: 6 × 5</caption>\n",
              "<thead>\n",
              "\t<tr><th></th><th scope=col>date</th><th scope=col>Nassau_name </th><th scope=col>Nassau_monthly_case_avg</th><th scope=col> Suffolk_name</th><th scope=col>Suffolk_monthly_case_avg</th></tr>\n",
              "\t<tr><th></th><th scope=col>&lt;date&gt;</th><th scope=col>&lt;chr&gt;</th><th scope=col>&lt;dbl&gt;</th><th scope=col>&lt;chr&gt;</th><th scope=col>&lt;dbl&gt;</th></tr>\n",
              "</thead>\n",
              "<tbody>\n",
              "\t<tr><th scope=row>1</th><td>2020-03-01</td><td>Albany</td><td> 101.6000</td><td>Suffolk</td><td> 1501.583</td></tr>\n",
              "\t<tr><th scope=row>2</th><td>2020-04-01</td><td>Albany</td><td> 598.3667</td><td>Suffolk</td><td>22815.733</td></tr>\n",
              "\t<tr><th scope=row>3</th><td>2020-05-01</td><td>Albany</td><td>1564.3548</td><td>Suffolk</td><td>37503.935</td></tr>\n",
              "\t<tr><th scope=row>4</th><td>2020-06-01</td><td>Albany</td><td>2015.8667</td><td>Suffolk</td><td>40697.367</td></tr>\n",
              "\t<tr><th scope=row>5</th><td>2020-07-01</td><td>Albany</td><td>2293.6452</td><td>Suffolk</td><td>42298.065</td></tr>\n",
              "\t<tr><th scope=row>6</th><td>2020-08-01</td><td>Albany</td><td>2646.7742</td><td>Suffolk</td><td>44116.871</td></tr>\n",
              "</tbody>\n",
              "</table>\n"
            ]
          },
          "metadata": {
            "tags": []
          }
        }
      ]
    },
    {
      "cell_type": "code",
      "metadata": {
        "colab": {
          "base_uri": "https://localhost:8080/",
          "height": 274
        },
        "id": "gt604iBdBWGu",
        "outputId": "c2c11d8d-2756-4efb-8c0e-1f5dbfb1d380"
      },
      "source": [
        "Nassau_Suffolk_select <- Nassau_Suffolk_Avg_Monthly_Per_100k_inner %>% select(date, Nassau_monthly_case_avg ,\n",
        "                        Suffolk_monthly_case_avg)\n",
        "head(Nassau_Suffolk_select)"
      ],
      "execution_count": null,
      "outputs": [
        {
          "output_type": "display_data",
          "data": {
            "text/plain": [
              "  date       Nassau_monthly_case_avg Suffolk_monthly_case_avg\n",
              "1 2020-03-01  101.6000                1501.583               \n",
              "2 2020-04-01  598.3667               22815.733               \n",
              "3 2020-05-01 1564.3548               37503.935               \n",
              "4 2020-06-01 2015.8667               40697.367               \n",
              "5 2020-07-01 2293.6452               42298.065               \n",
              "6 2020-08-01 2646.7742               44116.871               "
            ],
            "text/latex": "A data.frame: 6 × 3\n\\begin{tabular}{r|lll}\n  & date & Nassau\\_monthly\\_case\\_avg & Suffolk\\_monthly\\_case\\_avg\\\\\n  & <date> & <dbl> & <dbl>\\\\\n\\hline\n\t1 & 2020-03-01 &  101.6000 &  1501.583\\\\\n\t2 & 2020-04-01 &  598.3667 & 22815.733\\\\\n\t3 & 2020-05-01 & 1564.3548 & 37503.935\\\\\n\t4 & 2020-06-01 & 2015.8667 & 40697.367\\\\\n\t5 & 2020-07-01 & 2293.6452 & 42298.065\\\\\n\t6 & 2020-08-01 & 2646.7742 & 44116.871\\\\\n\\end{tabular}\n",
            "text/markdown": "\nA data.frame: 6 × 3\n\n| <!--/--> | date &lt;date&gt; | Nassau_monthly_case_avg &lt;dbl&gt; | Suffolk_monthly_case_avg &lt;dbl&gt; |\n|---|---|---|---|\n| 1 | 2020-03-01 |  101.6000 |  1501.583 |\n| 2 | 2020-04-01 |  598.3667 | 22815.733 |\n| 3 | 2020-05-01 | 1564.3548 | 37503.935 |\n| 4 | 2020-06-01 | 2015.8667 | 40697.367 |\n| 5 | 2020-07-01 | 2293.6452 | 42298.065 |\n| 6 | 2020-08-01 | 2646.7742 | 44116.871 |\n\n",
            "text/html": [
              "<table class=\"dataframe\">\n",
              "<caption>A data.frame: 6 × 3</caption>\n",
              "<thead>\n",
              "\t<tr><th></th><th scope=col>date</th><th scope=col>Nassau_monthly_case_avg</th><th scope=col>Suffolk_monthly_case_avg</th></tr>\n",
              "\t<tr><th></th><th scope=col>&lt;date&gt;</th><th scope=col>&lt;dbl&gt;</th><th scope=col>&lt;dbl&gt;</th></tr>\n",
              "</thead>\n",
              "<tbody>\n",
              "\t<tr><th scope=row>1</th><td>2020-03-01</td><td> 101.6000</td><td> 1501.583</td></tr>\n",
              "\t<tr><th scope=row>2</th><td>2020-04-01</td><td> 598.3667</td><td>22815.733</td></tr>\n",
              "\t<tr><th scope=row>3</th><td>2020-05-01</td><td>1564.3548</td><td>37503.935</td></tr>\n",
              "\t<tr><th scope=row>4</th><td>2020-06-01</td><td>2015.8667</td><td>40697.367</td></tr>\n",
              "\t<tr><th scope=row>5</th><td>2020-07-01</td><td>2293.6452</td><td>42298.065</td></tr>\n",
              "\t<tr><th scope=row>6</th><td>2020-08-01</td><td>2646.7742</td><td>44116.871</td></tr>\n",
              "</tbody>\n",
              "</table>\n"
            ]
          },
          "metadata": {
            "tags": []
          }
        }
      ]
    },
    {
      "cell_type": "markdown",
      "metadata": {
        "id": "hk_hePYkzveQ"
      },
      "source": [
        "Make data longer to graph\n",
        "\n",
        "As per https://towardsdatascience.com/coding-in-r-pivot-painlessly-32e40a0b6c3d"
      ]
    },
    {
      "cell_type": "code",
      "metadata": {
        "colab": {
          "base_uri": "https://localhost:8080/",
          "height": 274
        },
        "id": "41HxZKVG_260",
        "outputId": "a65a3869-e45b-4ccb-c79b-6f0ea0b1cc31"
      },
      "source": [
        "Nassau_SuffolkPer_100_long <-\n",
        "          Nassau_Suffolk_select %>%\n",
        "          pivot_longer(cols = c(\"Nassau_monthly_case_avg\" , \"Suffolk_monthly_case_avg\") ,\n",
        "          names_to = \"county\" ,\n",
        "          values_to = \"cases\")\n",
        "\n",
        "head(Nassau_SuffolkPer_100_long)"
      ],
      "execution_count": null,
      "outputs": [
        {
          "output_type": "display_data",
          "data": {
            "text/plain": [
              "  date       county                   cases     \n",
              "1 2020-03-01 Nassau_monthly_case_avg    101.6000\n",
              "2 2020-03-01 Suffolk_monthly_case_avg  1501.5833\n",
              "3 2020-04-01 Nassau_monthly_case_avg    598.3667\n",
              "4 2020-04-01 Suffolk_monthly_case_avg 22815.7333\n",
              "5 2020-05-01 Nassau_monthly_case_avg   1564.3548\n",
              "6 2020-05-01 Suffolk_monthly_case_avg 37503.9355"
            ],
            "text/latex": "A tibble: 6 × 3\n\\begin{tabular}{lll}\n date & county & cases\\\\\n <date> & <chr> & <dbl>\\\\\n\\hline\n\t 2020-03-01 & Nassau\\_monthly\\_case\\_avg  &   101.6000\\\\\n\t 2020-03-01 & Suffolk\\_monthly\\_case\\_avg &  1501.5833\\\\\n\t 2020-04-01 & Nassau\\_monthly\\_case\\_avg  &   598.3667\\\\\n\t 2020-04-01 & Suffolk\\_monthly\\_case\\_avg & 22815.7333\\\\\n\t 2020-05-01 & Nassau\\_monthly\\_case\\_avg  &  1564.3548\\\\\n\t 2020-05-01 & Suffolk\\_monthly\\_case\\_avg & 37503.9355\\\\\n\\end{tabular}\n",
            "text/markdown": "\nA tibble: 6 × 3\n\n| date &lt;date&gt; | county &lt;chr&gt; | cases &lt;dbl&gt; |\n|---|---|---|\n| 2020-03-01 | Nassau_monthly_case_avg  |   101.6000 |\n| 2020-03-01 | Suffolk_monthly_case_avg |  1501.5833 |\n| 2020-04-01 | Nassau_monthly_case_avg  |   598.3667 |\n| 2020-04-01 | Suffolk_monthly_case_avg | 22815.7333 |\n| 2020-05-01 | Nassau_monthly_case_avg  |  1564.3548 |\n| 2020-05-01 | Suffolk_monthly_case_avg | 37503.9355 |\n\n",
            "text/html": [
              "<table class=\"dataframe\">\n",
              "<caption>A tibble: 6 × 3</caption>\n",
              "<thead>\n",
              "\t<tr><th scope=col>date</th><th scope=col>county</th><th scope=col>cases</th></tr>\n",
              "\t<tr><th scope=col>&lt;date&gt;</th><th scope=col>&lt;chr&gt;</th><th scope=col>&lt;dbl&gt;</th></tr>\n",
              "</thead>\n",
              "<tbody>\n",
              "\t<tr><td>2020-03-01</td><td>Nassau_monthly_case_avg </td><td>  101.6000</td></tr>\n",
              "\t<tr><td>2020-03-01</td><td>Suffolk_monthly_case_avg</td><td> 1501.5833</td></tr>\n",
              "\t<tr><td>2020-04-01</td><td>Nassau_monthly_case_avg </td><td>  598.3667</td></tr>\n",
              "\t<tr><td>2020-04-01</td><td>Suffolk_monthly_case_avg</td><td>22815.7333</td></tr>\n",
              "\t<tr><td>2020-05-01</td><td>Nassau_monthly_case_avg </td><td> 1564.3548</td></tr>\n",
              "\t<tr><td>2020-05-01</td><td>Suffolk_monthly_case_avg</td><td>37503.9355</td></tr>\n",
              "</tbody>\n",
              "</table>\n"
            ]
          },
          "metadata": {
            "tags": []
          }
        }
      ]
    },
    {
      "cell_type": "markdown",
      "metadata": {
        "id": "KdM8RA5IDEj0"
      },
      "source": [
        "drop decimals"
      ]
    },
    {
      "cell_type": "code",
      "metadata": {
        "colab": {
          "base_uri": "https://localhost:8080/",
          "height": 274
        },
        "id": "kclZb3WHDK9_",
        "outputId": "6d31ff8f-e687-44cb-fe75-101c1cc450e4"
      },
      "source": [
        "Nassau_SuffolkPer_100_long$cases <- as.integer(Nassau_SuffolkPer_100_long$cases)\n",
        "head(Nassau_SuffolkPer_100_long)"
      ],
      "execution_count": null,
      "outputs": [
        {
          "output_type": "display_data",
          "data": {
            "text/plain": [
              "  date       county                   cases\n",
              "1 2020-03-01 Nassau_monthly_case_avg    101\n",
              "2 2020-03-01 Suffolk_monthly_case_avg  1501\n",
              "3 2020-04-01 Nassau_monthly_case_avg    598\n",
              "4 2020-04-01 Suffolk_monthly_case_avg 22815\n",
              "5 2020-05-01 Nassau_monthly_case_avg   1564\n",
              "6 2020-05-01 Suffolk_monthly_case_avg 37503"
            ],
            "text/latex": "A tibble: 6 × 3\n\\begin{tabular}{lll}\n date & county & cases\\\\\n <date> & <chr> & <int>\\\\\n\\hline\n\t 2020-03-01 & Nassau\\_monthly\\_case\\_avg  &   101\\\\\n\t 2020-03-01 & Suffolk\\_monthly\\_case\\_avg &  1501\\\\\n\t 2020-04-01 & Nassau\\_monthly\\_case\\_avg  &   598\\\\\n\t 2020-04-01 & Suffolk\\_monthly\\_case\\_avg & 22815\\\\\n\t 2020-05-01 & Nassau\\_monthly\\_case\\_avg  &  1564\\\\\n\t 2020-05-01 & Suffolk\\_monthly\\_case\\_avg & 37503\\\\\n\\end{tabular}\n",
            "text/markdown": "\nA tibble: 6 × 3\n\n| date &lt;date&gt; | county &lt;chr&gt; | cases &lt;int&gt; |\n|---|---|---|\n| 2020-03-01 | Nassau_monthly_case_avg  |   101 |\n| 2020-03-01 | Suffolk_monthly_case_avg |  1501 |\n| 2020-04-01 | Nassau_monthly_case_avg  |   598 |\n| 2020-04-01 | Suffolk_monthly_case_avg | 22815 |\n| 2020-05-01 | Nassau_monthly_case_avg  |  1564 |\n| 2020-05-01 | Suffolk_monthly_case_avg | 37503 |\n\n",
            "text/html": [
              "<table class=\"dataframe\">\n",
              "<caption>A tibble: 6 × 3</caption>\n",
              "<thead>\n",
              "\t<tr><th scope=col>date</th><th scope=col>county</th><th scope=col>cases</th></tr>\n",
              "\t<tr><th scope=col>&lt;date&gt;</th><th scope=col>&lt;chr&gt;</th><th scope=col>&lt;int&gt;</th></tr>\n",
              "</thead>\n",
              "<tbody>\n",
              "\t<tr><td>2020-03-01</td><td>Nassau_monthly_case_avg </td><td>  101</td></tr>\n",
              "\t<tr><td>2020-03-01</td><td>Suffolk_monthly_case_avg</td><td> 1501</td></tr>\n",
              "\t<tr><td>2020-04-01</td><td>Nassau_monthly_case_avg </td><td>  598</td></tr>\n",
              "\t<tr><td>2020-04-01</td><td>Suffolk_monthly_case_avg</td><td>22815</td></tr>\n",
              "\t<tr><td>2020-05-01</td><td>Nassau_monthly_case_avg </td><td> 1564</td></tr>\n",
              "\t<tr><td>2020-05-01</td><td>Suffolk_monthly_case_avg</td><td>37503</td></tr>\n",
              "</tbody>\n",
              "</table>\n"
            ]
          },
          "metadata": {
            "tags": []
          }
        }
      ]
    },
    {
      "cell_type": "code",
      "metadata": {
        "id": "rE_AmBR-DRGa"
      },
      "source": [
        "write.csv(Nassau_SuffolkPer_100_long, \"Nassau_SuffolkPer_100_long.csv\")"
      ],
      "execution_count": null,
      "outputs": []
    },
    {
      "cell_type": "markdown",
      "metadata": {
        "id": "DmIvO0WbI4ys"
      },
      "source": [
        "## Graphing"
      ]
    },
    {
      "cell_type": "code",
      "metadata": {
        "colab": {
          "base_uri": "https://localhost:8080/",
          "height": 437
        },
        "id": "dbLt7yovI6eq",
        "outputId": "2aef4672-2dfd-4779-b8c2-8b396f7ef48d"
      },
      "source": [
        "Nassau_Suffolk_100_Long_Plot <-  ggplot(Nassau_SuffolkPer_100_long, aes(x=date , y= cases))+\n",
        "    geom_line(aes(color = county))+\n",
        "    scale_color_manual(values = c(\"blue\" , \"red\"))+\n",
        "    ggtitle(\"Nassau and Suffolk's Tax Revenue During the Pandemic\")+\n",
        "    theme(plot.title = element_text(size = 20, face = \"bold\"))+\n",
        "    theme(\n",
        "  legend.title = element_text(color = \"black\", size = 25, face = \"bold\" ),\n",
        "  legend.text = element_text(color = \"black\", size = 10)\n",
        "  )+\n",
        "\n",
        "theme(plot.title = element_text(size = 20, face = \"bold\")) +\n",
        " theme(panel.border = element_blank(), panel.grid.major = element_blank(),\n",
        "panel.grid.minor = element_blank(), axis.line = element_line(colour = \"black\"))+\n",
        "theme_classic()\n",
        "\n",
        "Nassau_Suffolk_100_Long_Plot"
      ],
      "execution_count": null,
      "outputs": [
        {
          "output_type": "display_data",
          "data": {
            "image/png": "[encoded data removed]",
            "text/plain": [
              "plot without title"
            ]
          },
          "metadata": {
            "tags": [],
            "image/png": {
              "width": 420,
              "height": 420
            }
          }
        }
      ]
    },
    {
      "cell_type": "markdown",
      "metadata": {
        "id": "1Hm1i3vZJwb7"
      },
      "source": [
        "# Tax Reciepts"
      ]
    },
    {
      "cell_type": "code",
      "metadata": {
        "colab": {
          "base_uri": "https://localhost:8080/",
          "height": 405
        },
        "id": "dtOooAB5Kd60",
        "outputId": "32d387d4-2968-4ed4-a5d7-93ad291a1b7a"
      },
      "source": [
        "tax_data<- read.csv(\"/content/copy_of_tax.csv\")\n",
        "head(tax_data)"
      ],
      "execution_count": null,
      "outputs": [
        {
          "output_type": "display_data",
          "data": {
            "text/plain": [
              "  County     Albany   Allegany Broome   Cattaraugus Cayuga  Chautauqua Chemung\n",
              "1 2019-01-01 22833878 1633328  10746778 3075774     2861114 5034491    5192584\n",
              "2 2019-02-01 19380356 1379212   9329733 2597608     2443956 4332760    4377675\n",
              "3 2019-03-01 23640839 1992001  12057691 3522855     3168310 5587309    5252717\n",
              "4 2019-04-01 15561636 1144792   7812707 2187099     2096617 3767402    3364496\n",
              "5 2019-05-01 21915579 1634361  11979729 3053002     2865008 5176247    4807042\n",
              "6 2019-06-01 28242164 2234495  15323676 4040949     3581552 7584892    6041333\n",
              "  Chenango Clinton ⋯ Sullivan Tioga   Tompkins Ulster   Warren  Washington\n",
              "1 1676485  4213155 ⋯ 3008236  1729324 4208823   9124751 3878592 1656146   \n",
              "2 1508803  3675242 ⋯ 2507877  1507870 3481988   7301917 3272174 1437462   \n",
              "3 2320586  4924878 ⋯ 2876454  2354071 4921083  11555864 3695072 1713495   \n",
              "4 1341047  3358626 ⋯ 2456387  1283299 3079672   6311720 2832417 1148067   \n",
              "5 1915799  4521657 ⋯ 3682869  1969784 4200870   9055771 3967539 1661728   \n",
              "6 2453182  5842770 ⋯ 4579063  2536870 6365558  13510178 5538311 2268870   \n",
              "  Wayne   Westchester Wyoming Yates  \n",
              "1 3258320 46716381    1181220  726313\n",
              "2 2771513 39730167    1051093  626249\n",
              "3 4442309 49853360    1668308 1242426\n",
              "4 2558525 38098466     927153  652795\n",
              "5 3502737 42050104    1337791  865876\n",
              "6 5054673 56030419    2074497 1722526"
            ],
            "text/latex": "A data.frame: 6 × 58\n\\begin{tabular}{r|lllllllllllllllllllll}\n  & County & Albany & Allegany & Broome & Cattaraugus & Cayuga & Chautauqua & Chemung & Chenango & Clinton & ⋯ & Sullivan & Tioga & Tompkins & Ulster & Warren & Washington & Wayne & Westchester & Wyoming & Yates\\\\\n  & <chr> & <int> & <int> & <int> & <int> & <int> & <int> & <int> & <int> & <int> & ⋯ & <int> & <int> & <int> & <int> & <int> & <int> & <int> & <int> & <int> & <int>\\\\\n\\hline\n\t1 & 2019-01-01 & 22833878 & 1633328 & 10746778 & 3075774 & 2861114 & 5034491 & 5192584 & 1676485 & 4213155 & ⋯ & 3008236 & 1729324 & 4208823 &  9124751 & 3878592 & 1656146 & 3258320 & 46716381 & 1181220 &  726313\\\\\n\t2 & 2019-02-01 & 19380356 & 1379212 &  9329733 & 2597608 & 2443956 & 4332760 & 4377675 & 1508803 & 3675242 & ⋯ & 2507877 & 1507870 & 3481988 &  7301917 & 3272174 & 1437462 & 2771513 & 39730167 & 1051093 &  626249\\\\\n\t3 & 2019-03-01 & 23640839 & 1992001 & 12057691 & 3522855 & 3168310 & 5587309 & 5252717 & 2320586 & 4924878 & ⋯ & 2876454 & 2354071 & 4921083 & 11555864 & 3695072 & 1713495 & 4442309 & 49853360 & 1668308 & 1242426\\\\\n\t4 & 2019-04-01 & 15561636 & 1144792 &  7812707 & 2187099 & 2096617 & 3767402 & 3364496 & 1341047 & 3358626 & ⋯ & 2456387 & 1283299 & 3079672 &  6311720 & 2832417 & 1148067 & 2558525 & 38098466 &  927153 &  652795\\\\\n\t5 & 2019-05-01 & 21915579 & 1634361 & 11979729 & 3053002 & 2865008 & 5176247 & 4807042 & 1915799 & 4521657 & ⋯ & 3682869 & 1969784 & 4200870 &  9055771 & 3967539 & 1661728 & 3502737 & 42050104 & 1337791 &  865876\\\\\n\t6 & 2019-06-01 & 28242164 & 2234495 & 15323676 & 4040949 & 3581552 & 7584892 & 6041333 & 2453182 & 5842770 & ⋯ & 4579063 & 2536870 & 6365558 & 13510178 & 5538311 & 2268870 & 5054673 & 56030419 & 2074497 & 1722526\\\\\n\\end{tabular}\n",
            "text/markdown": "\nA data.frame: 6 × 58\n\n| <!--/--> | County &lt;chr&gt; | Albany &lt;int&gt; | Allegany &lt;int&gt; | Broome &lt;int&gt; | Cattaraugus &lt;int&gt; | Cayuga &lt;int&gt; | Chautauqua &lt;int&gt; | Chemung &lt;int&gt; | Chenango &lt;int&gt; | Clinton &lt;int&gt; | ⋯ ⋯ | Sullivan &lt;int&gt; | Tioga &lt;int&gt; | Tompkins &lt;int&gt; | Ulster &lt;int&gt; | Warren &lt;int&gt; | Washington &lt;int&gt; | Wayne &lt;int&gt; | Westchester &lt;int&gt; | Wyoming &lt;int&gt; | Yates &lt;int&gt; |\n|---|---|---|---|---|---|---|---|---|---|---|---|---|---|---|---|---|---|---|---|---|---|\n| 1 | 2019-01-01 | 22833878 | 1633328 | 10746778 | 3075774 | 2861114 | 5034491 | 5192584 | 1676485 | 4213155 | ⋯ | 3008236 | 1729324 | 4208823 |  9124751 | 3878592 | 1656146 | 3258320 | 46716381 | 1181220 |  726313 |\n| 2 | 2019-02-01 | 19380356 | 1379212 |  9329733 | 2597608 | 2443956 | 4332760 | 4377675 | 1508803 | 3675242 | ⋯ | 2507877 | 1507870 | 3481988 |  7301917 | 3272174 | 1437462 | 2771513 | 39730167 | 1051093 |  626249 |\n| 3 | 2019-03-01 | 23640839 | 1992001 | 12057691 | 3522855 | 3168310 | 5587309 | 5252717 | 2320586 | 4924878 | ⋯ | 2876454 | 2354071 | 4921083 | 11555864 | 3695072 | 1713495 | 4442309 | 49853360 | 1668308 | 1242426 |\n| 4 | 2019-04-01 | 15561636 | 1144792 |  7812707 | 2187099 | 2096617 | 3767402 | 3364496 | 1341047 | 3358626 | ⋯ | 2456387 | 1283299 | 3079672 |  6311720 | 2832417 | 1148067 | 2558525 | 38098466 |  927153 |  652795 |\n| 5 | 2019-05-01 | 21915579 | 1634361 | 11979729 | 3053002 | 2865008 | 5176247 | 4807042 | 1915799 | 4521657 | ⋯ | 3682869 | 1969784 | 4200870 |  9055771 | 3967539 | 1661728 | 3502737 | 42050104 | 1337791 |  865876 |\n| 6 | 2019-06-01 | 28242164 | 2234495 | 15323676 | 4040949 | 3581552 | 7584892 | 6041333 | 2453182 | 5842770 | ⋯ | 4579063 | 2536870 | 6365558 | 13510178 | 5538311 | 2268870 | 5054673 | 56030419 | 2074497 | 1722526 |\n\n",
            "text/html": [
              "<table class=\"dataframe\">\n",
              "<caption>A data.frame: 6 × 58</caption>\n",
              "<thead>\n",
              "\t<tr><th></th><th scope=col>County</th><th scope=col>Albany</th><th scope=col>Allegany</th><th scope=col>Broome</th><th scope=col>Cattaraugus</th><th scope=col>Cayuga</th><th scope=col>Chautauqua</th><th scope=col>Chemung</th><th scope=col>Chenango</th><th scope=col>Clinton</th><th scope=col>⋯</th><th scope=col>Sullivan</th><th scope=col>Tioga</th><th scope=col>Tompkins</th><th scope=col>Ulster</th><th scope=col>Warren</th><th scope=col>Washington</th><th scope=col>Wayne</th><th scope=col>Westchester</th><th scope=col>Wyoming</th><th scope=col>Yates</th></tr>\n",
              "\t<tr><th></th><th scope=col>&lt;chr&gt;</th><th scope=col>&lt;int&gt;</th><th scope=col>&lt;int&gt;</th><th scope=col>&lt;int&gt;</th><th scope=col>&lt;int&gt;</th><th scope=col>&lt;int&gt;</th><th scope=col>&lt;int&gt;</th><th scope=col>&lt;int&gt;</th><th scope=col>&lt;int&gt;</th><th scope=col>&lt;int&gt;</th><th scope=col>⋯</th><th scope=col>&lt;int&gt;</th><th scope=col>&lt;int&gt;</th><th scope=col>&lt;int&gt;</th><th scope=col>&lt;int&gt;</th><th scope=col>&lt;int&gt;</th><th scope=col>&lt;int&gt;</th><th scope=col>&lt;int&gt;</th><th scope=col>&lt;int&gt;</th><th scope=col>&lt;int&gt;</th><th scope=col>&lt;int&gt;</th></tr>\n",
              "</thead>\n",
              "<tbody>\n",
              "\t<tr><th scope=row>1</th><td>2019-01-01</td><td>22833878</td><td>1633328</td><td>10746778</td><td>3075774</td><td>2861114</td><td>5034491</td><td>5192584</td><td>1676485</td><td>4213155</td><td>⋯</td><td>3008236</td><td>1729324</td><td>4208823</td><td> 9124751</td><td>3878592</td><td>1656146</td><td>3258320</td><td>46716381</td><td>1181220</td><td> 726313</td></tr>\n",
              "\t<tr><th scope=row>2</th><td>2019-02-01</td><td>19380356</td><td>1379212</td><td> 9329733</td><td>2597608</td><td>2443956</td><td>4332760</td><td>4377675</td><td>1508803</td><td>3675242</td><td>⋯</td><td>2507877</td><td>1507870</td><td>3481988</td><td> 7301917</td><td>3272174</td><td>1437462</td><td>2771513</td><td>39730167</td><td>1051093</td><td> 626249</td></tr>\n",
              "\t<tr><th scope=row>3</th><td>2019-03-01</td><td>23640839</td><td>1992001</td><td>12057691</td><td>3522855</td><td>3168310</td><td>5587309</td><td>5252717</td><td>2320586</td><td>4924878</td><td>⋯</td><td>2876454</td><td>2354071</td><td>4921083</td><td>11555864</td><td>3695072</td><td>1713495</td><td>4442309</td><td>49853360</td><td>1668308</td><td>1242426</td></tr>\n",
              "\t<tr><th scope=row>4</th><td>2019-04-01</td><td>15561636</td><td>1144792</td><td> 7812707</td><td>2187099</td><td>2096617</td><td>3767402</td><td>3364496</td><td>1341047</td><td>3358626</td><td>⋯</td><td>2456387</td><td>1283299</td><td>3079672</td><td> 6311720</td><td>2832417</td><td>1148067</td><td>2558525</td><td>38098466</td><td> 927153</td><td> 652795</td></tr>\n",
              "\t<tr><th scope=row>5</th><td>2019-05-01</td><td>21915579</td><td>1634361</td><td>11979729</td><td>3053002</td><td>2865008</td><td>5176247</td><td>4807042</td><td>1915799</td><td>4521657</td><td>⋯</td><td>3682869</td><td>1969784</td><td>4200870</td><td> 9055771</td><td>3967539</td><td>1661728</td><td>3502737</td><td>42050104</td><td>1337791</td><td> 865876</td></tr>\n",
              "\t<tr><th scope=row>6</th><td>2019-06-01</td><td>28242164</td><td>2234495</td><td>15323676</td><td>4040949</td><td>3581552</td><td>7584892</td><td>6041333</td><td>2453182</td><td>5842770</td><td>⋯</td><td>4579063</td><td>2536870</td><td>6365558</td><td>13510178</td><td>5538311</td><td>2268870</td><td>5054673</td><td>56030419</td><td>2074497</td><td>1722526</td></tr>\n",
              "</tbody>\n",
              "</table>\n"
            ]
          },
          "metadata": {
            "tags": []
          }
        }
      ]
    },
    {
      "cell_type": "code",
      "metadata": {
        "id": "GoTX49EYKhq5"
      },
      "source": [
        "str(tax_data)"
      ],
      "execution_count": null,
      "outputs": []
    },
    {
      "cell_type": "code",
      "metadata": {
        "id": "SOpNw2orKpEn"
      },
      "source": [
        "tax_data <-rename(tax_data, date = County)"
      ],
      "execution_count": null,
      "outputs": []
    },
    {
      "cell_type": "code",
      "metadata": {
        "id": "3h-jqVSpKyNe"
      },
      "source": [
        "tax_data$date <- as.Date(tax_data$date)"
      ],
      "execution_count": null,
      "outputs": []
    },
    {
      "cell_type": "code",
      "metadata": {
        "id": "v-yq5LICK5YF"
      },
      "source": [
        "str(tax_data)"
      ],
      "execution_count": null,
      "outputs": []
    },
    {
      "cell_type": "markdown",
      "metadata": {
        "id": "z8Qxlq-XK_OV"
      },
      "source": [
        "Lets filter out Nassau and Suffolk counties and plot their sales tax revenues"
      ]
    },
    {
      "cell_type": "code",
      "metadata": {
        "colab": {
          "base_uri": "https://localhost:8080/",
          "height": 283
        },
        "id": "-zKBUl4_K86U",
        "outputId": "d0fd05cc-c09b-4a69-f19f-09f32e550d14"
      },
      "source": [
        "Nassau_Suffolk_Tax_Data <- tax_data %>% select(date , Nassau, Suffolk)\n",
        "head(Nassau_Suffolk_Tax_Data)"
      ],
      "execution_count": null,
      "outputs": [
        {
          "output_type": "display_data",
          "data": {
            "text/plain": [
              "  date       Nassau    Suffolk  \n",
              "1 2019-01-01 100610156 113845190\n",
              "2 2019-02-01  84682135  96199377\n",
              "3 2019-03-01 105732034 130198591\n",
              "4 2019-04-01  67275447  81622919\n",
              "5 2019-05-01  91007794 109719584\n",
              "6 2019-06-01 124487621 157546339"
            ],
            "text/latex": "A data.frame: 6 × 3\n\\begin{tabular}{r|lll}\n  & date & Nassau & Suffolk\\\\\n  & <date> & <int> & <int>\\\\\n\\hline\n\t1 & 2019-01-01 & 100610156 & 113845190\\\\\n\t2 & 2019-02-01 &  84682135 &  96199377\\\\\n\t3 & 2019-03-01 & 105732034 & 130198591\\\\\n\t4 & 2019-04-01 &  67275447 &  81622919\\\\\n\t5 & 2019-05-01 &  91007794 & 109719584\\\\\n\t6 & 2019-06-01 & 124487621 & 157546339\\\\\n\\end{tabular}\n",
            "text/markdown": "\nA data.frame: 6 × 3\n\n| <!--/--> | date &lt;date&gt; | Nassau &lt;int&gt; | Suffolk &lt;int&gt; |\n|---|---|---|---|\n| 1 | 2019-01-01 | 100610156 | 113845190 |\n| 2 | 2019-02-01 |  84682135 |  96199377 |\n| 3 | 2019-03-01 | 105732034 | 130198591 |\n| 4 | 2019-04-01 |  67275447 |  81622919 |\n| 5 | 2019-05-01 |  91007794 | 109719584 |\n| 6 | 2019-06-01 | 124487621 | 157546339 |\n\n",
            "text/html": [
              "<table class=\"dataframe\">\n",
              "<caption>A data.frame: 6 × 3</caption>\n",
              "<thead>\n",
              "\t<tr><th></th><th scope=col>date</th><th scope=col>Nassau</th><th scope=col>Suffolk</th></tr>\n",
              "\t<tr><th></th><th scope=col>&lt;date&gt;</th><th scope=col>&lt;int&gt;</th><th scope=col>&lt;int&gt;</th></tr>\n",
              "</thead>\n",
              "<tbody>\n",
              "\t<tr><th scope=row>1</th><td>2019-01-01</td><td>100610156</td><td>113845190</td></tr>\n",
              "\t<tr><th scope=row>2</th><td>2019-02-01</td><td> 84682135</td><td> 96199377</td></tr>\n",
              "\t<tr><th scope=row>3</th><td>2019-03-01</td><td>105732034</td><td>130198591</td></tr>\n",
              "\t<tr><th scope=row>4</th><td>2019-04-01</td><td> 67275447</td><td> 81622919</td></tr>\n",
              "\t<tr><th scope=row>5</th><td>2019-05-01</td><td> 91007794</td><td>109719584</td></tr>\n",
              "\t<tr><th scope=row>6</th><td>2019-06-01</td><td>124487621</td><td>157546339</td></tr>\n",
              "</tbody>\n",
              "</table>\n"
            ]
          },
          "metadata": {
            "tags": []
          }
        }
      ]
    },
    {
      "cell_type": "markdown",
      "metadata": {
        "id": "J0M5p5S3Li76"
      },
      "source": [
        "## Graphing\n",
        "\n",
        "Pivot Longer :  to graph we need to make the data long"
      ]
    },
    {
      "cell_type": "code",
      "metadata": {
        "colab": {
          "base_uri": "https://localhost:8080/",
          "height": 283
        },
        "id": "qOgE4cWTLE7P",
        "outputId": "4a0e4447-c82b-48dd-8f0c-2965cfd805e4"
      },
      "source": [
        "Nassau_Suffolk_Tax_Data_long <- \n",
        "      Nassau_Suffolk_Tax_Data %>%\n",
        "      pivot_longer(cols = c(\"Nassau\" , \"Suffolk\") ,\n",
        "      names_to = \"county\" ,\n",
        "      values_to = \"cases\")\n",
        "head(Nassau_Suffolk_Tax_Data_long)"
      ],
      "execution_count": null,
      "outputs": [
        {
          "output_type": "display_data",
          "data": {
            "text/plain": [
              "  date       county  cases    \n",
              "1 2019-01-01 Nassau  100610156\n",
              "2 2019-01-01 Suffolk 113845190\n",
              "3 2019-02-01 Nassau   84682135\n",
              "4 2019-02-01 Suffolk  96199377\n",
              "5 2019-03-01 Nassau  105732034\n",
              "6 2019-03-01 Suffolk 130198591"
            ],
            "text/latex": "A tibble: 6 × 3\n\\begin{tabular}{lll}\n date & county & cases\\\\\n <date> & <chr> & <int>\\\\\n\\hline\n\t 2019-01-01 & Nassau  & 100610156\\\\\n\t 2019-01-01 & Suffolk & 113845190\\\\\n\t 2019-02-01 & Nassau  &  84682135\\\\\n\t 2019-02-01 & Suffolk &  96199377\\\\\n\t 2019-03-01 & Nassau  & 105732034\\\\\n\t 2019-03-01 & Suffolk & 130198591\\\\\n\\end{tabular}\n",
            "text/markdown": "\nA tibble: 6 × 3\n\n| date &lt;date&gt; | county &lt;chr&gt; | cases &lt;int&gt; |\n|---|---|---|\n| 2019-01-01 | Nassau  | 100610156 |\n| 2019-01-01 | Suffolk | 113845190 |\n| 2019-02-01 | Nassau  |  84682135 |\n| 2019-02-01 | Suffolk |  96199377 |\n| 2019-03-01 | Nassau  | 105732034 |\n| 2019-03-01 | Suffolk | 130198591 |\n\n",
            "text/html": [
              "<table class=\"dataframe\">\n",
              "<caption>A tibble: 6 × 3</caption>\n",
              "<thead>\n",
              "\t<tr><th scope=col>date</th><th scope=col>county</th><th scope=col>cases</th></tr>\n",
              "\t<tr><th scope=col>&lt;date&gt;</th><th scope=col>&lt;chr&gt;</th><th scope=col>&lt;int&gt;</th></tr>\n",
              "</thead>\n",
              "<tbody>\n",
              "\t<tr><td>2019-01-01</td><td>Nassau </td><td>100610156</td></tr>\n",
              "\t<tr><td>2019-01-01</td><td>Suffolk</td><td>113845190</td></tr>\n",
              "\t<tr><td>2019-02-01</td><td>Nassau </td><td> 84682135</td></tr>\n",
              "\t<tr><td>2019-02-01</td><td>Suffolk</td><td> 96199377</td></tr>\n",
              "\t<tr><td>2019-03-01</td><td>Nassau </td><td>105732034</td></tr>\n",
              "\t<tr><td>2019-03-01</td><td>Suffolk</td><td>130198591</td></tr>\n",
              "</tbody>\n",
              "</table>\n"
            ]
          },
          "metadata": {
            "tags": []
          }
        }
      ]
    },
    {
      "cell_type": "code",
      "metadata": {
        "colab": {
          "base_uri": "https://localhost:8080/",
          "height": 283
        },
        "id": "I4YvKhYvONNT",
        "outputId": "f491592c-4d89-44ea-acd8-1dee2b23fb85"
      },
      "source": [
        "head(Nassau_Suffolk_Tax_Data_long )"
      ],
      "execution_count": null,
      "outputs": [
        {
          "output_type": "display_data",
          "data": {
            "text/plain": [
              "  date       county  cases    \n",
              "1 2019-01-01 Nassau  100610156\n",
              "2 2019-01-01 Suffolk 113845190\n",
              "3 2019-02-01 Nassau   84682135\n",
              "4 2019-02-01 Suffolk  96199377\n",
              "5 2019-03-01 Nassau  105732034\n",
              "6 2019-03-01 Suffolk 130198591"
            ],
            "text/latex": "A tibble: 6 × 3\n\\begin{tabular}{lll}\n date & county & cases\\\\\n <date> & <chr> & <int>\\\\\n\\hline\n\t 2019-01-01 & Nassau  & 100610156\\\\\n\t 2019-01-01 & Suffolk & 113845190\\\\\n\t 2019-02-01 & Nassau  &  84682135\\\\\n\t 2019-02-01 & Suffolk &  96199377\\\\\n\t 2019-03-01 & Nassau  & 105732034\\\\\n\t 2019-03-01 & Suffolk & 130198591\\\\\n\\end{tabular}\n",
            "text/markdown": "\nA tibble: 6 × 3\n\n| date &lt;date&gt; | county &lt;chr&gt; | cases &lt;int&gt; |\n|---|---|---|\n| 2019-01-01 | Nassau  | 100610156 |\n| 2019-01-01 | Suffolk | 113845190 |\n| 2019-02-01 | Nassau  |  84682135 |\n| 2019-02-01 | Suffolk |  96199377 |\n| 2019-03-01 | Nassau  | 105732034 |\n| 2019-03-01 | Suffolk | 130198591 |\n\n",
            "text/html": [
              "<table class=\"dataframe\">\n",
              "<caption>A tibble: 6 × 3</caption>\n",
              "<thead>\n",
              "\t<tr><th scope=col>date</th><th scope=col>county</th><th scope=col>cases</th></tr>\n",
              "\t<tr><th scope=col>&lt;date&gt;</th><th scope=col>&lt;chr&gt;</th><th scope=col>&lt;int&gt;</th></tr>\n",
              "</thead>\n",
              "<tbody>\n",
              "\t<tr><td>2019-01-01</td><td>Nassau </td><td>100610156</td></tr>\n",
              "\t<tr><td>2019-01-01</td><td>Suffolk</td><td>113845190</td></tr>\n",
              "\t<tr><td>2019-02-01</td><td>Nassau </td><td> 84682135</td></tr>\n",
              "\t<tr><td>2019-02-01</td><td>Suffolk</td><td> 96199377</td></tr>\n",
              "\t<tr><td>2019-03-01</td><td>Nassau </td><td>105732034</td></tr>\n",
              "\t<tr><td>2019-03-01</td><td>Suffolk</td><td>130198591</td></tr>\n",
              "</tbody>\n",
              "</table>\n"
            ]
          },
          "metadata": {
            "tags": []
          }
        }
      ]
    },
    {
      "cell_type": "code",
      "metadata": {
        "colab": {
          "base_uri": "https://localhost:8080/",
          "height": 437
        },
        "id": "rjwkrsdtOEfg",
        "outputId": "a78787d8-2687-4b59-9217-016e0a77adc6"
      },
      "source": [
        "Nassau_Suffolk_Tax_Rev <- ggplot(Nassau_Suffolk_Tax_Data_long, aes(x=date , y= cases))+\n",
        "    geom_line(aes(color = county))+\n",
        "    scale_color_manual(values = c(\"blue\" , \"red\"))+\n",
        "    ggtitle(\"Nassau and Suffolk's Tax Revenue \")+\n",
        "    theme(plot.title = element_text(size = 20, face = \"bold\"))+\n",
        "    theme(\n",
        "  legend.title = element_text(color = \"black\", size = 25, face = \"bold\" ),\n",
        "  legend.text = element_text(color = \"black\", size = 10)\n",
        "  )+\n",
        "\n",
        "theme(plot.title = element_text(size = 20, face = \"bold\")) +\n",
        " theme(panel.border = element_blank(), panel.grid.major = element_blank(),\n",
        "panel.grid.minor = element_blank(), axis.line = element_line(colour = \"black\"))+\n",
        "theme_classic()\n",
        "\n",
        "Nassau_Suffolk_Tax_Rev "
      ],
      "execution_count": null,
      "outputs": [
        {
          "output_type": "display_data",
          "data": {
            "image/png": "[encoded data removed]",
            "text/plain": [
              "plot without title"
            ]
          },
          "metadata": {
            "tags": [],
            "image/png": {
              "width": 420,
              "height": 420
            }
          }
        }
      ]
    },
    {
      "cell_type": "markdown",
      "metadata": {
        "id": "qiu_CnhhR3YJ"
      },
      "source": [
        "Plot tax revenue as barplot"
      ]
    },
    {
      "cell_type": "code",
      "metadata": {
        "colab": {
          "base_uri": "https://localhost:8080/",
          "height": 437
        },
        "id": "hYA1m-C9Sejo",
        "outputId": "b48f347e-3fec-4717-928b-5a272e41328a"
      },
      "source": [
        "Tax_bar_plot<-ggplot(Nassau_Suffolk_Tax_Data_long , aes( x= date,y= cases, fill = factor(county)))+\n",
        "     geom_bar(stat=\"identity\",position=\"dodge\")+\n",
        "     scale_fill_discrete(name=\"County\",\n",
        "                      labels=c(\"Nassau\", \"Suffolk\"))+\n",
        "  xlab(\"date\")+\n",
        "  ylab(\"revenue\")\n",
        "  Tax_bar_plot"
      ],
      "execution_count": null,
      "outputs": [
        {
          "output_type": "display_data",
          "data": {
            "image/png": "[encoded data removed]",
            "text/plain": [
              "plot without title"
            ]
          },
          "metadata": {
            "tags": [],
            "image/png": {
              "width": 420,
              "height": 420
            }
          }
        }
      ]
    },
    {
      "cell_type": "markdown",
      "metadata": {
        "id": "qEDUKwxiRxMP"
      },
      "source": [
        "## Now Combine the plots\n",
        "\n",
        "First step combine the tax and covid data.\n",
        "\n",
        "It may be necessary to sepaerate out Nassau and Suffolk for covid and tax.\n",
        "\n",
        "Combo charts cannot have more than 2 variables, ie., Nassau covid and Nassau Tax\n",
        "and a seperate Suffol covid and Sufflk tax."
      ]
    },
    {
      "cell_type": "markdown",
      "metadata": {
        "id": "gjPIEvQEX2ss"
      },
      "source": [
        "## Nassau Data"
      ]
    },
    {
      "cell_type": "code",
      "metadata": {
        "colab": {
          "base_uri": "https://localhost:8080/",
          "height": 190
        },
        "id": "S9L1cMS2XwQK",
        "outputId": "eca29a3d-522b-458e-e017-493960d70dea"
      },
      "source": [
        "# Nassau Covid Data\n",
        "\n",
        "# WEa have the Nassau covid data already\n",
        "head(Nassau_monthly_avg_cases,3)"
      ],
      "execution_count": null,
      "outputs": [
        {
          "output_type": "display_data",
          "data": {
            "text/plain": [
              "  date       county Nassau_monthly_case_avg\n",
              "1 2020-03-01 Nassau  1854.704              \n",
              "2 2020-04-01 Nassau 25270.967              \n",
              "3 2020-05-01 Nassau 38749.710              "
            ],
            "text/latex": "A data.frame: 3 × 3\n\\begin{tabular}{r|lll}\n  & date & county & Nassau\\_monthly\\_case\\_avg\\\\\n  & <date> & <chr> & <dbl>\\\\\n\\hline\n\t1 & 2020-03-01 & Nassau &  1854.704\\\\\n\t2 & 2020-04-01 & Nassau & 25270.967\\\\\n\t3 & 2020-05-01 & Nassau & 38749.710\\\\\n\\end{tabular}\n",
            "text/markdown": "\nA data.frame: 3 × 3\n\n| <!--/--> | date &lt;date&gt; | county &lt;chr&gt; | Nassau_monthly_case_avg &lt;dbl&gt; |\n|---|---|---|---|\n| 1 | 2020-03-01 | Nassau |  1854.704 |\n| 2 | 2020-04-01 | Nassau | 25270.967 |\n| 3 | 2020-05-01 | Nassau | 38749.710 |\n\n",
            "text/html": [
              "<table class=\"dataframe\">\n",
              "<caption>A data.frame: 3 × 3</caption>\n",
              "<thead>\n",
              "\t<tr><th></th><th scope=col>date</th><th scope=col>county</th><th scope=col>Nassau_monthly_case_avg</th></tr>\n",
              "\t<tr><th></th><th scope=col>&lt;date&gt;</th><th scope=col>&lt;chr&gt;</th><th scope=col>&lt;dbl&gt;</th></tr>\n",
              "</thead>\n",
              "<tbody>\n",
              "\t<tr><th scope=row>1</th><td>2020-03-01</td><td>Nassau</td><td> 1854.704</td></tr>\n",
              "\t<tr><th scope=row>2</th><td>2020-04-01</td><td>Nassau</td><td>25270.967</td></tr>\n",
              "\t<tr><th scope=row>3</th><td>2020-05-01</td><td>Nassau</td><td>38749.710</td></tr>\n",
              "</tbody>\n",
              "</table>\n"
            ]
          },
          "metadata": {
            "tags": []
          }
        }
      ]
    },
    {
      "cell_type": "code",
      "metadata": {
        "colab": {
          "base_uri": "https://localhost:8080/",
          "height": 190
        },
        "id": "aE-7O3QzX-Qo",
        "outputId": "2a339781-8553-45a5-d916-147cf222738a"
      },
      "source": [
        "\n",
        "head(Nassau_Suffolk_Tax_Data_long , 3)"
      ],
      "execution_count": null,
      "outputs": [
        {
          "output_type": "display_data",
          "data": {
            "text/plain": [
              "  date       county  cases    \n",
              "1 2019-01-01 Nassau  100610156\n",
              "2 2019-01-01 Suffolk 113845190\n",
              "3 2019-02-01 Nassau   84682135"
            ],
            "text/latex": "A tibble: 3 × 3\n\\begin{tabular}{lll}\n date & county & cases\\\\\n <date> & <chr> & <int>\\\\\n\\hline\n\t 2019-01-01 & Nassau  & 100610156\\\\\n\t 2019-01-01 & Suffolk & 113845190\\\\\n\t 2019-02-01 & Nassau  &  84682135\\\\\n\\end{tabular}\n",
            "text/markdown": "\nA tibble: 3 × 3\n\n| date &lt;date&gt; | county &lt;chr&gt; | cases &lt;int&gt; |\n|---|---|---|\n| 2019-01-01 | Nassau  | 100610156 |\n| 2019-01-01 | Suffolk | 113845190 |\n| 2019-02-01 | Nassau  |  84682135 |\n\n",
            "text/html": [
              "<table class=\"dataframe\">\n",
              "<caption>A tibble: 3 × 3</caption>\n",
              "<thead>\n",
              "\t<tr><th scope=col>date</th><th scope=col>county</th><th scope=col>cases</th></tr>\n",
              "\t<tr><th scope=col>&lt;date&gt;</th><th scope=col>&lt;chr&gt;</th><th scope=col>&lt;int&gt;</th></tr>\n",
              "</thead>\n",
              "<tbody>\n",
              "\t<tr><td>2019-01-01</td><td>Nassau </td><td>100610156</td></tr>\n",
              "\t<tr><td>2019-01-01</td><td>Suffolk</td><td>113845190</td></tr>\n",
              "\t<tr><td>2019-02-01</td><td>Nassau </td><td> 84682135</td></tr>\n",
              "</tbody>\n",
              "</table>\n"
            ]
          },
          "metadata": {
            "tags": []
          }
        }
      ]
    },
    {
      "cell_type": "code",
      "metadata": {
        "colab": {
          "base_uri": "https://localhost:8080/",
          "height": 283
        },
        "id": "Y9g--RYKXwT8",
        "outputId": "a8e06520-c919-4800-bc7d-88807c389ad5"
      },
      "source": [
        "# We need to t filter out the Nassau\n",
        "\n",
        "Nassau_Tax_Data<- \n",
        "                filter(Nassau_Suffolk_Tax_Data_long, county ==\"Nassau\")\n",
        "head(Nassau_Tax_Data)"
      ],
      "execution_count": null,
      "outputs": [
        {
          "output_type": "display_data",
          "data": {
            "text/plain": [
              "  date       county cases    \n",
              "1 2019-01-01 Nassau 100610156\n",
              "2 2019-02-01 Nassau  84682135\n",
              "3 2019-03-01 Nassau 105732034\n",
              "4 2019-04-01 Nassau  67275447\n",
              "5 2019-05-01 Nassau  91007794\n",
              "6 2019-06-01 Nassau 124487621"
            ],
            "text/latex": "A tibble: 6 × 3\n\\begin{tabular}{lll}\n date & county & cases\\\\\n <date> & <chr> & <int>\\\\\n\\hline\n\t 2019-01-01 & Nassau & 100610156\\\\\n\t 2019-02-01 & Nassau &  84682135\\\\\n\t 2019-03-01 & Nassau & 105732034\\\\\n\t 2019-04-01 & Nassau &  67275447\\\\\n\t 2019-05-01 & Nassau &  91007794\\\\\n\t 2019-06-01 & Nassau & 124487621\\\\\n\\end{tabular}\n",
            "text/markdown": "\nA tibble: 6 × 3\n\n| date &lt;date&gt; | county &lt;chr&gt; | cases &lt;int&gt; |\n|---|---|---|\n| 2019-01-01 | Nassau | 100610156 |\n| 2019-02-01 | Nassau |  84682135 |\n| 2019-03-01 | Nassau | 105732034 |\n| 2019-04-01 | Nassau |  67275447 |\n| 2019-05-01 | Nassau |  91007794 |\n| 2019-06-01 | Nassau | 124487621 |\n\n",
            "text/html": [
              "<table class=\"dataframe\">\n",
              "<caption>A tibble: 6 × 3</caption>\n",
              "<thead>\n",
              "\t<tr><th scope=col>date</th><th scope=col>county</th><th scope=col>cases</th></tr>\n",
              "\t<tr><th scope=col>&lt;date&gt;</th><th scope=col>&lt;chr&gt;</th><th scope=col>&lt;int&gt;</th></tr>\n",
              "</thead>\n",
              "<tbody>\n",
              "\t<tr><td>2019-01-01</td><td>Nassau</td><td>100610156</td></tr>\n",
              "\t<tr><td>2019-02-01</td><td>Nassau</td><td> 84682135</td></tr>\n",
              "\t<tr><td>2019-03-01</td><td>Nassau</td><td>105732034</td></tr>\n",
              "\t<tr><td>2019-04-01</td><td>Nassau</td><td> 67275447</td></tr>\n",
              "\t<tr><td>2019-05-01</td><td>Nassau</td><td> 91007794</td></tr>\n",
              "\t<tr><td>2019-06-01</td><td>Nassau</td><td>124487621</td></tr>\n",
              "</tbody>\n",
              "</table>\n"
            ]
          },
          "metadata": {
            "tags": []
          }
        }
      ]
    },
    {
      "cell_type": "code",
      "metadata": {
        "id": "l0sB9TDVXwYg"
      },
      "source": [
        "Nassau_Tax_Data <- rename(Nassau_Tax_Data,revenue = cases)"
      ],
      "execution_count": null,
      "outputs": []
    },
    {
      "cell_type": "code",
      "metadata": {
        "colab": {
          "base_uri": "https://localhost:8080/",
          "height": 190
        },
        "id": "Bl4o3IBgZYlJ",
        "outputId": "22b22b28-5db9-44ba-feec-5b0d2a503237"
      },
      "source": [
        "head(Nassau_Tax_Data ,3)"
      ],
      "execution_count": null,
      "outputs": [
        {
          "output_type": "display_data",
          "data": {
            "text/plain": [
              "  date       county revenue  \n",
              "1 2019-01-01 Nassau 100610156\n",
              "2 2019-02-01 Nassau  84682135\n",
              "3 2019-03-01 Nassau 105732034"
            ],
            "text/latex": "A tibble: 3 × 3\n\\begin{tabular}{lll}\n date & county & revenue\\\\\n <date> & <chr> & <int>\\\\\n\\hline\n\t 2019-01-01 & Nassau & 100610156\\\\\n\t 2019-02-01 & Nassau &  84682135\\\\\n\t 2019-03-01 & Nassau & 105732034\\\\\n\\end{tabular}\n",
            "text/markdown": "\nA tibble: 3 × 3\n\n| date &lt;date&gt; | county &lt;chr&gt; | revenue &lt;int&gt; |\n|---|---|---|\n| 2019-01-01 | Nassau | 100610156 |\n| 2019-02-01 | Nassau |  84682135 |\n| 2019-03-01 | Nassau | 105732034 |\n\n",
            "text/html": [
              "<table class=\"dataframe\">\n",
              "<caption>A tibble: 3 × 3</caption>\n",
              "<thead>\n",
              "\t<tr><th scope=col>date</th><th scope=col>county</th><th scope=col>revenue</th></tr>\n",
              "\t<tr><th scope=col>&lt;date&gt;</th><th scope=col>&lt;chr&gt;</th><th scope=col>&lt;int&gt;</th></tr>\n",
              "</thead>\n",
              "<tbody>\n",
              "\t<tr><td>2019-01-01</td><td>Nassau</td><td>100610156</td></tr>\n",
              "\t<tr><td>2019-02-01</td><td>Nassau</td><td> 84682135</td></tr>\n",
              "\t<tr><td>2019-03-01</td><td>Nassau</td><td>105732034</td></tr>\n",
              "</tbody>\n",
              "</table>\n"
            ]
          },
          "metadata": {
            "tags": []
          }
        }
      ]
    },
    {
      "cell_type": "code",
      "metadata": {
        "id": "cOgCkKj5Z1Ol"
      },
      "source": [
        "'''\n",
        "Nassau_Suffolk_Avg_Monthly_Per_100k_inner <- inner_join(Nassau_monthly_avg_cases , Suffolk_monthly_avg_cases ,by =\"date\")\n",
        "Nassau_Suffolk_Avg_Monthly_Per_100k_inner\n",
        "\n",
        "'''"
      ],
      "execution_count": null,
      "outputs": []
    },
    {
      "cell_type": "code",
      "metadata": {
        "id": "BEdGhMIgZ3aw"
      },
      "source": [
        "Nassau_Suffolk_Comb_Covid_Revenue <-\n",
        "      inner_join(Nassau_monthly_avg_cases,Nassau_Tax_Data, by = \"date\" )"
      ],
      "execution_count": null,
      "outputs": []
    },
    {
      "cell_type": "code",
      "metadata": {
        "colab": {
          "base_uri": "https://localhost:8080/",
          "height": 283
        },
        "id": "iRG_GJCjaKJI",
        "outputId": "393f0db0-d234-4e5e-cd4c-f59073083585"
      },
      "source": [
        "head(Nassau_Suffolk_Comb_Covid_Revenue)"
      ],
      "execution_count": null,
      "outputs": [
        {
          "output_type": "display_data",
          "data": {
            "text/plain": [
              "  date       county.x Nassau_monthly_case_avg county.y revenue  \n",
              "1 2020-03-01 Nassau    1854.704               Nassau   109471704\n",
              "2 2020-04-01 Nassau   25270.967               Nassau    67275447\n",
              "3 2020-05-01 Nassau   38749.710               Nassau    60270267\n",
              "4 2020-06-01 Nassau   41233.333               Nassau    95555602\n",
              "5 2020-07-01 Nassau   42507.677               Nassau    88419892\n",
              "6 2020-08-01 Nassau   43951.290               Nassau    90143233"
            ],
            "text/latex": "A data.frame: 6 × 5\n\\begin{tabular}{r|lllll}\n  & date & county.x & Nassau\\_monthly\\_case\\_avg & county.y & revenue\\\\\n  & <date> & <chr> & <dbl> & <chr> & <int>\\\\\n\\hline\n\t1 & 2020-03-01 & Nassau &  1854.704 & Nassau & 109471704\\\\\n\t2 & 2020-04-01 & Nassau & 25270.967 & Nassau &  67275447\\\\\n\t3 & 2020-05-01 & Nassau & 38749.710 & Nassau &  60270267\\\\\n\t4 & 2020-06-01 & Nassau & 41233.333 & Nassau &  95555602\\\\\n\t5 & 2020-07-01 & Nassau & 42507.677 & Nassau &  88419892\\\\\n\t6 & 2020-08-01 & Nassau & 43951.290 & Nassau &  90143233\\\\\n\\end{tabular}\n",
            "text/markdown": "\nA data.frame: 6 × 5\n\n| <!--/--> | date &lt;date&gt; | county.x &lt;chr&gt; | Nassau_monthly_case_avg &lt;dbl&gt; | county.y &lt;chr&gt; | revenue &lt;int&gt; |\n|---|---|---|---|---|---|\n| 1 | 2020-03-01 | Nassau |  1854.704 | Nassau | 109471704 |\n| 2 | 2020-04-01 | Nassau | 25270.967 | Nassau |  67275447 |\n| 3 | 2020-05-01 | Nassau | 38749.710 | Nassau |  60270267 |\n| 4 | 2020-06-01 | Nassau | 41233.333 | Nassau |  95555602 |\n| 5 | 2020-07-01 | Nassau | 42507.677 | Nassau |  88419892 |\n| 6 | 2020-08-01 | Nassau | 43951.290 | Nassau |  90143233 |\n\n",
            "text/html": [
              "<table class=\"dataframe\">\n",
              "<caption>A data.frame: 6 × 5</caption>\n",
              "<thead>\n",
              "\t<tr><th></th><th scope=col>date</th><th scope=col>county.x</th><th scope=col>Nassau_monthly_case_avg</th><th scope=col>county.y</th><th scope=col>revenue</th></tr>\n",
              "\t<tr><th></th><th scope=col>&lt;date&gt;</th><th scope=col>&lt;chr&gt;</th><th scope=col>&lt;dbl&gt;</th><th scope=col>&lt;chr&gt;</th><th scope=col>&lt;int&gt;</th></tr>\n",
              "</thead>\n",
              "<tbody>\n",
              "\t<tr><th scope=row>1</th><td>2020-03-01</td><td>Nassau</td><td> 1854.704</td><td>Nassau</td><td>109471704</td></tr>\n",
              "\t<tr><th scope=row>2</th><td>2020-04-01</td><td>Nassau</td><td>25270.967</td><td>Nassau</td><td> 67275447</td></tr>\n",
              "\t<tr><th scope=row>3</th><td>2020-05-01</td><td>Nassau</td><td>38749.710</td><td>Nassau</td><td> 60270267</td></tr>\n",
              "\t<tr><th scope=row>4</th><td>2020-06-01</td><td>Nassau</td><td>41233.333</td><td>Nassau</td><td> 95555602</td></tr>\n",
              "\t<tr><th scope=row>5</th><td>2020-07-01</td><td>Nassau</td><td>42507.677</td><td>Nassau</td><td> 88419892</td></tr>\n",
              "\t<tr><th scope=row>6</th><td>2020-08-01</td><td>Nassau</td><td>43951.290</td><td>Nassau</td><td> 90143233</td></tr>\n",
              "</tbody>\n",
              "</table>\n"
            ]
          },
          "metadata": {
            "tags": []
          }
        }
      ]
    },
    {
      "cell_type": "markdown",
      "metadata": {
        "id": "HUBI5v7Q2WNK"
      },
      "source": [
        "## Let us make this table longer\n",
        "\n",
        "First sellect the cols we are intersted in"
      ]
    },
    {
      "cell_type": "code",
      "metadata": {
        "id": "8qVCTab05rgV"
      },
      "source": [
        "Nassau_Suffolk_Comb_Covid_Revenue_select <- \n",
        "    Nassau_Suffolk_Comb_Covid_Revenue %>%\n",
        "    select(date , Nassau_monthly_case_avg ,revenue )"
      ],
      "execution_count": null,
      "outputs": []
    },
    {
      "cell_type": "code",
      "metadata": {
        "colab": {
          "base_uri": "https://localhost:8080/",
          "height": 190
        },
        "id": "bhj_yFCK6r39",
        "outputId": "d480659c-c6a4-4852-97ed-cacb4365ec98"
      },
      "source": [
        "head(Nassau_Suffolk_Comb_Covid_Revenue_select ,3)"
      ],
      "execution_count": null,
      "outputs": [
        {
          "output_type": "display_data",
          "data": {
            "text/plain": [
              "  date       Nassau_monthly_case_avg revenue  \n",
              "1 2020-03-01  1854.704               109471704\n",
              "2 2020-04-01 25270.967                67275447\n",
              "3 2020-05-01 38749.710                60270267"
            ],
            "text/latex": "A data.frame: 3 × 3\n\\begin{tabular}{r|lll}\n  & date & Nassau\\_monthly\\_case\\_avg & revenue\\\\\n  & <date> & <dbl> & <int>\\\\\n\\hline\n\t1 & 2020-03-01 &  1854.704 & 109471704\\\\\n\t2 & 2020-04-01 & 25270.967 &  67275447\\\\\n\t3 & 2020-05-01 & 38749.710 &  60270267\\\\\n\\end{tabular}\n",
            "text/markdown": "\nA data.frame: 3 × 3\n\n| <!--/--> | date &lt;date&gt; | Nassau_monthly_case_avg &lt;dbl&gt; | revenue &lt;int&gt; |\n|---|---|---|---|\n| 1 | 2020-03-01 |  1854.704 | 109471704 |\n| 2 | 2020-04-01 | 25270.967 |  67275447 |\n| 3 | 2020-05-01 | 38749.710 |  60270267 |\n\n",
            "text/html": [
              "<table class=\"dataframe\">\n",
              "<caption>A data.frame: 3 × 3</caption>\n",
              "<thead>\n",
              "\t<tr><th></th><th scope=col>date</th><th scope=col>Nassau_monthly_case_avg</th><th scope=col>revenue</th></tr>\n",
              "\t<tr><th></th><th scope=col>&lt;date&gt;</th><th scope=col>&lt;dbl&gt;</th><th scope=col>&lt;int&gt;</th></tr>\n",
              "</thead>\n",
              "<tbody>\n",
              "\t<tr><th scope=row>1</th><td>2020-03-01</td><td> 1854.704</td><td>109471704</td></tr>\n",
              "\t<tr><th scope=row>2</th><td>2020-04-01</td><td>25270.967</td><td> 67275447</td></tr>\n",
              "\t<tr><th scope=row>3</th><td>2020-05-01</td><td>38749.710</td><td> 60270267</td></tr>\n",
              "</tbody>\n",
              "</table>\n"
            ]
          },
          "metadata": {
            "tags": []
          }
        }
      ]
    },
    {
      "cell_type": "markdown",
      "metadata": {
        "id": "yVX-mrmE669Z"
      },
      "source": [
        "Lets remove the decimals"
      ]
    },
    {
      "cell_type": "code",
      "metadata": {
        "id": "oq55HXlk66SK"
      },
      "source": [
        "Nassau_Suffolk_Comb_Covid_Revenue_select$Nassau_monthly_case_avg <-\n",
        "       as.integer(Nassau_Suffolk_Comb_Covid_Revenue_select$Nassau_monthly_case_avg )"
      ],
      "execution_count": null,
      "outputs": []
    },
    {
      "cell_type": "code",
      "metadata": {
        "colab": {
          "base_uri": "https://localhost:8080/",
          "height": 190
        },
        "id": "pK5jAS8Y7cLS",
        "outputId": "b91fc3eb-441b-4125-ae42-2f31639e28c6"
      },
      "source": [
        "head(Nassau_Suffolk_Comb_Covid_Revenue_select ,3)"
      ],
      "execution_count": null,
      "outputs": [
        {
          "output_type": "display_data",
          "data": {
            "text/plain": [
              "  date       Nassau_monthly_case_avg revenue  \n",
              "1 2020-03-01  1854                   109471704\n",
              "2 2020-04-01 25270                    67275447\n",
              "3 2020-05-01 38749                    60270267"
            ],
            "text/latex": "A data.frame: 3 × 3\n\\begin{tabular}{r|lll}\n  & date & Nassau\\_monthly\\_case\\_avg & revenue\\\\\n  & <date> & <int> & <int>\\\\\n\\hline\n\t1 & 2020-03-01 &  1854 & 109471704\\\\\n\t2 & 2020-04-01 & 25270 &  67275447\\\\\n\t3 & 2020-05-01 & 38749 &  60270267\\\\\n\\end{tabular}\n",
            "text/markdown": "\nA data.frame: 3 × 3\n\n| <!--/--> | date &lt;date&gt; | Nassau_monthly_case_avg &lt;int&gt; | revenue &lt;int&gt; |\n|---|---|---|---|\n| 1 | 2020-03-01 |  1854 | 109471704 |\n| 2 | 2020-04-01 | 25270 |  67275447 |\n| 3 | 2020-05-01 | 38749 |  60270267 |\n\n",
            "text/html": [
              "<table class=\"dataframe\">\n",
              "<caption>A data.frame: 3 × 3</caption>\n",
              "<thead>\n",
              "\t<tr><th></th><th scope=col>date</th><th scope=col>Nassau_monthly_case_avg</th><th scope=col>revenue</th></tr>\n",
              "\t<tr><th></th><th scope=col>&lt;date&gt;</th><th scope=col>&lt;int&gt;</th><th scope=col>&lt;int&gt;</th></tr>\n",
              "</thead>\n",
              "<tbody>\n",
              "\t<tr><th scope=row>1</th><td>2020-03-01</td><td> 1854</td><td>109471704</td></tr>\n",
              "\t<tr><th scope=row>2</th><td>2020-04-01</td><td>25270</td><td> 67275447</td></tr>\n",
              "\t<tr><th scope=row>3</th><td>2020-05-01</td><td>38749</td><td> 60270267</td></tr>\n",
              "</tbody>\n",
              "</table>\n"
            ]
          },
          "metadata": {
            "tags": []
          }
        }
      ]
    },
    {
      "cell_type": "code",
      "metadata": {
        "id": "Fomna4g77Y0W"
      },
      "source": [
        "coeff <- 0.0005"
      ],
      "execution_count": null,
      "outputs": []
    },
    {
      "cell_type": "code",
      "metadata": {
        "id": "Ytr22EQR78E7"
      },
      "source": [
        "# A few constants\n",
        "Nassau_monthly_avg_cases <- \"#69b3a2\"\n",
        "revenue <- rgb(0.2, 0.6, 0.9, 1)"
      ],
      "execution_count": null,
      "outputs": []
    },
    {
      "cell_type": "code",
      "metadata": {
        "colab": {
          "base_uri": "https://localhost:8080/",
          "height": 437
        },
        "id": "Vpy_8nlq8Gn7",
        "outputId": "02ee0ffe-f62f-4f41-a56c-c91073bd282c"
      },
      "source": [
        "ggplot( Nassau_Suffolk_Comb_Covid_Revenue_select, aes(x=date)) +\n",
        "  \n",
        "  geom_bar( aes(y= revenue), stat=\"identity\", size=.1, fill= revenue, color=\"black\", alpha=.4) + \n",
        "  geom_line( aes(y= Nassau_monthly_case_avg / coeff), size=2, color= \"red\") +\n",
        "  scale_y_continuous(\n",
        "    \n",
        "    # Features of the first axis\n",
        "    name = \"Temperature (Celsius °)\",\n",
        "    \n",
        "    # Add a second axis and specify its features\n",
        "    sec.axis = sec_axis(~.*coeff, name=\"Price ($)\")\n",
        "  )+\n",
        "    ggtitle(\"Nassau's Tax Revenue During the Pandemic\")+\n",
        "    theme(plot.title = element_text(size = 20, face = \"bold\"))+\n",
        "    theme(\n",
        "  legend.title = element_text(color = \"black\", size = 25, face = \"bold\" ),\n",
        "  legend.text = element_text(color = \"black\", size = 10)\n",
        "  )+\n",
        "\n",
        "theme(plot.title = element_text(size = 20, face = \"bold\")) +\n",
        " theme(panel.border = element_blank(), panel.grid.major = element_blank(),\n",
        "panel.grid.minor = element_blank(), axis.line = element_line(colour = \"black\"))+\n",
        "theme_classic()\n"
      ],
      "execution_count": null,
      "outputs": [
        {
          "output_type": "display_data",
          "data": {
            "image/png": "[encoded data removed]",
            "text/plain": [
              "plot without title"
            ]
          },
          "metadata": {
            "tags": [],
            "image/png": {
              "width": 420,
              "height": 420
            }
          }
        }
      ]
    },
    {
      "cell_type": "code",
      "metadata": {
        "colab": {
          "base_uri": "https://localhost:8080/",
          "height": 437
        },
        "id": "b7u48XRZAwXv",
        "outputId": "8f4f1def-ab5e-4a79-fd4c-1aa9703a7fd7"
      },
      "source": [
        "ggplot( Nassau_Suffolk_Comb_Covid_Revenue_select, aes(x=date)) +\n",
        "  geom_line( aes(y= Nassau_monthly_case_avg ), size=2, color= \"red\")"
      ],
      "execution_count": null,
      "outputs": [
        {
          "output_type": "display_data",
          "data": {
            "image/png": "[encoded data removed]",
            "text/plain": [
              "plot without title"
            ]
          },
          "metadata": {
            "tags": [],
            "image/png": {
              "width": 420,
              "height": 420
            }
          }
        }
      ]
    }
  ]
}