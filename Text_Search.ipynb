{
  "nbformat": 4,
  "nbformat_minor": 0,
  "metadata": {
    "colab": {
      "name": "Text_Search.ipynb",
      "provenance": [],
      "authorship_tag": "ABX9TyOXKi97JBAC+byxXW7NUkQy",
      "include_colab_link": true
    },
    "kernelspec": {
      "name": "python3",
      "display_name": "Python 3"
    }
  },
  "cells": [
    {
      "cell_type": "markdown",
      "metadata": {
        "id": "view-in-github",
        "colab_type": "text"
      },
      "source": [
        "<a href=\"https://colab.research.google.com/github/JF11579/New-Stuff/blob/main/Text_Search.ipynb\" target=\"_parent\"><img src=\"https://colab.research.google.com/assets/colab-badge.svg\" alt=\"Open In Colab\"/></a>"
      ]
    },
    {
      "cell_type": "code",
      "metadata": {
        "id": "LJrkPRwc6r2i"
      },
      "source": [
        ""
      ],
      "execution_count": null,
      "outputs": []
    },
    {
      "cell_type": "code",
      "metadata": {
        "id": "pVqYBaOpctsE"
      },
      "source": [
        "import re"
      ],
      "execution_count": null,
      "outputs": []
    },
    {
      "cell_type": "code",
      "metadata": {
        "id": "EFDp-NEu7BpM"
      },
      "source": [
        ""
      ],
      "execution_count": null,
      "outputs": []
    },
    {
      "cell_type": "markdown",
      "metadata": {
        "id": "yg7DaWrdPgvs"
      },
      "source": [
        ""
      ]
    },
    {
      "cell_type": "code",
      "metadata": {
        "id": "UPzsNKpIsI2D"
      },
      "source": [
        "import io \n",
        "def open_thing_as_file(*args, **kwargs):\n",
        "    fileobj = io.StringIO(\"\"\"GOLDEN BETHUNE-HILL, et al., APPELLANTS v. VIRGINIA STATE BOARD OF ELECTIONS, et al.\n",
        "on appeal from the united states district court for the eastern district of virginia\n",
        "[March 1, 2017]\n",
        "Justice Kennedy delivered the opinion of the Court.\n",
        "This case addresses whether the Virginia state legislature’s consideration of race in drawing new lines for 12 state legislative districts violated the Equal Protection Clause of the Fourteenth Amendment. After the 2010 census, some redistricting was required to ensure proper numerical apportionment for the Virginia House of Delegates. It is undisputed that the boundary lines for the 12 districts at issue were drawn with a goal of ensuring that each district would have a black voting-age population (BVAP) of at least 55%.\n",
        "Certain voters challenged the new districts as unconstitutional racial gerrymanders. The United States District Court for the Eastern District of Virginia, constituted as a three-judge district court, rejected the challenges as to each of the 12 districts. As to 11 of the districts, the District Court concluded that the voters had not shown, as this Court’s precedent requires, “that race was the predominant factor motivating the legislature’s decision to place a significant number of voters within or without a particular district.” Miller v. Johnson,515 U. S. 900 (1995). The District Court held that race predominates only where there is an “ ‘actual conflict between traditional redistricting criteria and race,’ ” 141 F. Supp. 3d 505, 524 (ED Va. 2015), so it confined the predominance analysis to the portions of the new lines that appeared to deviate from traditional criteria, and found no violation. As to the remaining district, District 75, the District Court found that race did predominate. It concluded, however, that the lines were constitutional because the legislature’s use of race was narrowly tailored to a compelling state interest. In particular, the District Court determined that the legislature had “good reasons to believe” that a 55% racial target was necessary in District 75 to avoid diminishing the ability of black voters to elect their preferred candidates, which at the time would have violated §5 of the Voting Rights Act of 1965. Alabama Legislative Black Caucus v. Alabama, 575 U. S. ___, ___ (2015) (slip op., at 22) (internal quotation marks omitted and emphasis deleted).\n",
        "On appeal to this Court, the challengers contend that the District Court employed an incorrect legal standard for racial predominance and that the legislature lacked good reasons for its use of race in District 75. This Court now affirms as to District 75 and vacates and remands as to the remaining 11 districts.\n",
        "I\n",
        "After the 2010 census, the Virginia General Assembly set out to redraw the legislative districts for the State Senate and House of Delegates in time for the 2011 elections. In February 2011, the House Committee on Privileges and Elections adopted a resolution establishing criteria to guide the redistricting process. Among those criteria were traditional redistricting factors such as compactness, contiguity of territory, and respect for communities of interest. But above those traditional objectives, the committee gave priority to two other goals. First, in accordance with the principle of one person, one vote, the committee resolved that “[t]he population of each district shall be as nearly equal to the population of every other district as practicable,” with any deviations falling “within plus-or-minus one percent.” 141 F. Supp. 3d, at 518. Second, the committee resolved that the new map must comply with the “protections against . . . unwarranted retrogression” contained in §5 of the Voting Rights Act. Ibid. At the time, §5 required covered jurisdictions, including Virginia, to preclear any change to a voting standard, practice, or procedure by showing federal authorities that the change would not have the purpose or effect of “diminishing the ability of [members of a minority group] to elect their preferred candidates of choice.” §5,120Stat.580–581,52 U. S. C. §10304(b). After the redistricting process here was completed, this Court held that the coverage formula in §4(b) of the Voting Rights Act no longer may be used to require preclearance under §5. See Shelby County v. Holder, 570 U. S. ___, ___ (2013) (slip op., at 24).\n",
        "The committee’s criteria presented potential problems for 12 House districts. Under §5 as Congress amended it in 2005, “[a] plan leads to impermissible retrogression when, compared to the plan currently in effect (typically called a ‘benchmark plan’), the new plan diminishes the number of districts in which minority groups can ‘elect their preferred candidates of choice’ (often called ‘ability-to-elect’ districts).” Harris v. Arizona Independent Redistricting Comm’n, 578 U. S. ___, ___–___ (2016) (slip op., at 5–6) (quoting52 U. S. C. §10304(b)). The parties agree that the 12 districts at issue here, where minorities had constituted a majority of the voting-age population for many past elections, qualified as “ability-to-elect” districts. Most of the districts were underpopulated, however, so any new plan required moving significant numbers of new voters into these districts in order to comply with the principle of one person, one vote. Under the benchmark plan, the districts had BVAPs ranging from 62.7% down to 46.3%. Three districts had BVAPs below 55%.\n",
        "Seeking to maintain minority voters’ ability to elect their preferred candidates in these districts while complying with the one-person, one-vote criterion, legislators concluded that each of the 12 districts “needed to contain a BVAP of at least 55%.” 141 F. Supp. 3d, at 519. At trial, the parties disputed whether the 55% figure “was an aspiration or a target or a rule.” Ibid. But they did not dispute “the most important question—whether [the 55%] figure was used in drawing the Challenged Districts.” Ibid. The parties agreed, and the District Court found, “that the 55% BVAP figure was used in structuring the districts.” Ibid. In the enacted plan all 12 districts contained a BVAP greater than 55%.\n",
        "Who first suggested the 55% BVAP criterion and how the legislators agreed upon it was less clear from the evidence. See id., at 521 (describing the “[t]estimony on this question” as “a muddle”). In the end, the District Court found that the 55% criterion emerged from discussions among certain members of the House Black Caucus and the leader of the redistricting effort in the House, Delegate Chris Jones, “based largely on concerns pertaining to the re-election of Delegate Tyler in [District] 75.” Id., at 522. The 55% figure “was then applied across the board to all twelve” districts. Ibid.\n",
        "In April 2011, the General Assembly passed Delegate Jones’ plan with broad support from both parties and members of the Black Caucus. One of only two dissenting members of the Black Caucus was Delegate Tyler of District 75, who objected solely on the ground that the 55.4% BVAP in her district was too low. In June 2011, the U. S. Department of Justice precleared the plan.\n",
        "Three years later, before this suit was filed, a separate District Court struck down Virginia’s third federal congressional district (not at issue here), based in part on the legislature’s use of a 55% BVAP threshold. See Page v. Virginia State Bd. of Elections, 58 F. Supp. 3d 533, 553 (ED Va. 2014), vacated and remanded sub nom. Cantor v. Personhuballah, 575 U. S. ___ (2015), judgt. entered sub nom. Page v. Virginia State Bd. of Elections, 2015 WL 3604029 (June 5, 2015), appeal dism’d sub nom. Wittman v. Personhuballah, 578 U. S. ___ (2016). After that decision, 12 voters registered in the 12 districts here at issue filed this action challenging the district lines under the Equal Protection Clause. Because the claims “challeng[ed] the constitutionality of . . . the apportionment of [a] statewide legislative body,” the case was heard by a three-judge District Court.28 U. S. C. §2284(a). The Virginia House of Delegates and its Speaker, William Howell (together referred to hereinafter as the State), intervened and assumed responsibility for defending the plan, both before the District Court and now before this Court.\n",
        "After a 4-day bench trial, a divided District Court ruled for the State. With respect to each challenged district, the court first assessed whether “racial considerations predominated over—or ‘subordinated’—traditional redistricting criteria.” 141 F. Supp. 3d, at 523. An essential premise of the majority opinion was that race does not predominate unless there is an “actual conflict between traditional redistricting criteria and race that leads to the subordination of the former.” Id., at 524. To implement that standard, moreover, the court limited its inquiry into racial motive to those portions of the district lines that appeared to deviate from traditional criteria. The court thus “examine[d] those aspects of the [district] that appear[ed] to constitute ‘deviations’ from neutral criteria” to ascertain whether the deviations were attributable to race or to other considerations, “such as protection of incumbents.” Id., at 533–534. Only if the court found a deviation attributable to race did it proceed to “determine whether racial considerations qualitatively subordinated all other non-racial districting criteria.” Ibid. Under that analysis, the court found that race did not predominate in 11 of the 12 districts.\n",
        "When it turned to District 75, the District Court found that race did predominate. The court reasoned that “[a]chieving a 55% BVAP floor required ‘drastic maneuvering’ that is reflected on the face of the district.” Id., at 557. Applying strict scrutiny, the court held that compliance with §5 was a compelling state interest and that the legislature’s consideration of race in District 75 was narrowly tailored. As to narrow tailoring, the court explained that the State had “a strong basis in evidence” to believe that its actions were “reasonably necessary” to avoid retrogression. Id., at 548. In particular, the court found that Delegate Jones had considered “precisely the kinds of evidence that legislators are encouraged to use” in achieving compliance with §5, including turnout rates, the district’s large disenfranchised prison population, and voting patterns in the contested 2005 primary and general elections. Id., at 558.\n",
        "Judge Keenan dissented as to all 12 districts. She concluded that the majority applied an incorrect understanding of racial predominance and that Delegate Jones’ analysis of District 75 was too “general and conclusory.” Id., at 578. This appeal followed, and probable jurisdiction was noted. 578 U. S. ___ (2016); see28 U. S. C. §1253.\n",
        "II\n",
        "Against the factual and procedural background set out above, it is now appropriate to consider the controlling legal principles in this case. The Equal Protection Clause prohibits a State, without sufficient justification, from “separat[ing] its citizens into different voting districts on the basis of race.” Miller, 515 U. S., at 911. The harms that flow from racial sorting “include being personally subjected to a racial classification as well as being represented by a legislator who believes his primary obligation is to represent only the members of a particular racial group.” Alabama, 575 U. S., at ___ (slip op., at 6) (alterations, citation, and internal quotation marks omitted). At the same time, courts must “exercise extraordinary caution in adjudicating claims that a State has drawn district lines on the basis of race.” Miller, 515 U. S., at 916. “Electoral districting is a most difficult subject for legislatures,” requiring a delicate balancing of competing considerations. Id., at 915. And “redistricting differs from other kinds of state decisionmaking in that the legislature always is aware of race when it draws district lines, just as it is aware of . . . a variety of other demographic factors.” Shaw v. Reno,509 U. S. 630,646 (1993) (Shaw I).\n",
        "In light of these considerations, this Court has held that a plaintiff alleging racial gerrymandering bears the burden “to show, either through circumstantial evidence of a district’s shape and demographics or more direct evidence going to legislative purpose, that race was the predominant factor motivating the legislature’s decision to place a significant number of voters within or without a particular district.” Miller, 515 U. S. at 916. To satisfy this burden, the plaintiff “must prove that the legislature subordinated traditional race-neutral districting principles . . . to racial considerations.” Ibid. The challengers contend that, in finding that race did not predominate in 11 of the 12 districts, the District Court misapplied controlling law in two principal ways. This Court considers them in turn.\n",
        "A\n",
        "The challengers first argue that the District Court misunderstood the relevant precedents when it required the challengers to establish, as a prerequisite to showing racial predominance, an actual conflict between the enacted plan and traditional redistricting principles. The Court agrees with the challengers on this point.\n",
        "A threshold requirement that the enacted plan must conflict with traditional principles might have been reconcilable with this Court’s case law at an earlier time. In Shaw I, the Court recognized a claim of racial gerrymandering for the first time. See 509 U. S., at 652. Certain language in Shaw I can be read to support requiring a challenger who alleges racial gerrymandering to show an actual conflict with traditional principles. The opinion stated, for example, that strict scrutiny applies to “redistricting legislation that is so bizarre on its face that it is unexplainable on grounds other than race.” Id., at 644 (internal quotation marks omitted). The opinion also stated that “reapportionment is one area in which appearances do matter.” Id., at 647.\n",
        "The Court’s opinion in Miller, however, clarified the racial predominance inquiry. In particular, it rejected the argument that, “regardless of the legislature’s purposes, a plaintiff must demonstrate that a district’s shape is so bizarre that it is unexplainable other than on the basis of race.” 515 U. S., at 910–911. The Court held to the contrary in language central to the instant case: “Shape is relevant not because bizarreness is a necessary element of the constitutional wrong or a threshold requirement of proof, but because it may be persuasive circumstantial evidence that race for its own sake, and not other districting principles, was the legislature’s dominant and controlling rationale.” Id., at 913. Parties therefore “may rely on evidence other than bizarreness to establish race-based districting,” and may show predominance “either through circumstantial evidence of a district’s shape and demographics or more direct evidence going to legislative purpose.” Id., at 913, 916.\n",
        "The Court addressed racial gerrymandering and traditional redistricting factors again in Shaw v. Hunt,517 U. S. 899 (1996) (Shaw II). The Court there rejected the view of one of the dissents that “strict scrutiny does not apply where a State ‘respects’ or ‘complies with traditional districting principles.’ ” Id., at 906 (quoting id., at 931–932 (Stevens, J., dissenting); alteration omitted). Race may predominate even when a reapportionment plan respects traditional principles, the Court explained, if “[r]ace was the criterion that, in the State’s view, could not be compromised,” and race-neutral considerations “came into play only after the race-based decision had been made.” Id., at 907.\n",
        "The State’s theory in this case is irreconcilable with Miller and Shaw II. The State insists, for example, that the harm from racial gerrymandering lies not in racial line-drawing per se but in grouping voters of the same race together when they otherwise lack shared interests. But “the constitutional violation” in racial gerrymandering cases stems from the “racial purpose of state action, not its stark manifestation.” Miller, supra, at 913. The Equal Protection Clause does not prohibit misshapen districts. It prohibits unjustified racial classifications.\n",
        "The State contends further that race does not have a prohibited effect on a district’s lines if the legislature could have drawn the same lines in accordance with traditional criteria. That argument parallels the District Court’s reasoning that a reapportionment plan is not an express racial classification unless a racial purpose is apparent from the face of the plan based on the irregular nature of the lines themselves. See 141 F. Supp. 3d, at 524–526. This is incorrect. The racial predominance inquiry concerns the actual considerations that provided the essential basis for the lines drawn, not post hoc justifications the legislature in theory could have used but in reality did not.\n",
        "Traditional redistricting principles, moreover, are numerous and malleable. The District Court here identified no fewer than 11 race-neutral redistricting factors a legislature could consider, some of which are “surprisingly ethereal” and “admi[t] of degrees.” Id., at 535, 537. By deploying those factors in various combinations and permutations, a State could construct a plethora of potential maps that look consistent with traditional, race-neutral principles. But if race for its own sake is the overriding reason for choosing one map over others, race still may predominate.\n",
        "For these reasons, a conflict or inconsistency between the enacted plan and traditional redistricting criteria is not a threshold requirement or a mandatory precondition in order for a challenger to establish a claim of racial gerrymandering. Of course, a conflict or inconsistency may be persuasive circumstantial evidence tending to show racial predomination, but there is no rule requiring challengers to present this kind of evidence in every case.\n",
        "As a practical matter, in many cases, perhaps most cases, challengers will be unable to prove an unconstitutional racial gerrymander without evidence that the enacted plan conflicts with traditional redistricting criteria. In general, legislatures that engage in impermissible race-based redistricting will find it necessary to depart from traditional principles in order to do so. And, in the absence of a conflict with traditional principles, it may be difficult for challengers to find other evidence sufficient to show that race was the overriding factor causing neutral considerations to be cast aside. In fact, this Court to date has not affirmed a predominance finding, or remanded a case for a determination of predominance, without evidence that some district lines deviated from traditional principles. See Alabama, 575 U. S., at ___ (slip op., at 17); Hunt v. Cromartie,526 U. S. 541,547 (1999); Bush v. Vera,517 U. S. 952,962,966,974 (1996) (plurality opinion); Shaw II, supra, at 905–906; Miller, supra, at 917; Shaw I, supra, at 635–636. Yet the law responds to proper evidence and valid inferences in ever-changing circumstances, as it learns more about ways in which its commands are circumvented. So there may be cases where challengers will be able to establish racial predominance in the absence of an actual conflict by presenting direct evidence of the legislative purpose and intent or other compelling circumstantial evidence.\n",
        "B\n",
        "The challengers submit that the District Court erred further when it considered the legislature’s racial motive only to the extent that the challengers identified deviations from traditional redistricting criteria that were attributable to race and not to some other factor. In the challengers’ view, this approach foreclosed a holistic analysis of each district and led the District Court to give insufficient weight to the 55% BVAP target and other relevant evidence that race predominated. Again, this Court agrees.\n",
        "As explained, showing a deviation from, or conflict with, traditional redistricting principles is not a necessary prerequisite to establishing racial predominance. Supra, at 10. But even where a challenger alleges a conflict, or succeeds in showing one, the court should not confine its analysis to the conflicting portions of the lines. That is because the basic unit of analysis for racial gerrymandering claims in general, and for the racial predominance inquiry in particular, is the district. Racial gerrymandering claims proceed “district-by-district.” Alabama, 575 U. S., at ___ (slip op., at 6). “We have consistently described a claim of racial gerrymandering as a claim that race was improperly used in the drawing of the boundaries of one or more specific electoral districts.” Ibid. And Miller’s basic predominance test scrutinizes the legislature’s motivation for placing “a significant number of voters within or without a particular district.” 515 U. S., at 916. Courts evaluating racial predominance therefore should not divorce any portion of the lines—whatever their relationship to traditional principles—from the rest of the district.\n",
        "This is not to suggest that courts evaluating racial gerrymandering claims may not consider evidence pertaining to an area that is larger or smaller than the district at issue. The Court has recognized that “[v]oters, of course, can present statewide evidence in order to prove racial gerrymandering in a particular district.” Alabama, supra, at ___ (slip op., at 7) (emphasis deleted). Districts share borders, after all, and a legislature may pursue a common redistricting policy toward multiple districts. Likewise, a legislature’s race-based decisionmaking may be evident in a notable way in a particular part of a district. It follows that a court may consider evidence regarding certain portions of a district’s lines, including portions that conflict with traditional redistricting principles.\n",
        "The ultimate object of the inquiry, however, is the legislature’s predominant motive for the design of the district as a whole. A court faced with a racial gerrymandering claim therefore must consider all of the lines of the district at issue; any explanation for a particular portion of the lines, moreover, must take account of the districtwide context. Concentrating on particular portions in isolation may obscure the significance of relevant districtwide evidence, such as stark splits in the racial composition of populations moved into and out of disparate parts of the district, or the use of an express racial target. A holistic analysis is necessary to give that kind of evidence its proper weight.\n",
        "C\n",
        "The challengers ask this Court not only to correct the District Court’s racial predominance standard but also to apply that standard and conclude that race in fact did predominate in the 11 districts where the District Court held that it did not. For its part, the State asks the Court to hold that, even if race did predominate in these districts, the State’s predominant use of race was narrowly tailored to the compelling interest in complying with §5.\n",
        "The Court declines these requests. “[O]urs is a court of final review and not first view.” Department of Transportation v. Association of American Railroads, 575 U. S. ___, ___ (2015) (slip op., at 12) (internal quotation marks omitted). The District Court is best positioned to determine in the first instance the extent to which, under the proper standard, race directed the shape of these 11 districts. And if race did predominate, it is proper for the District Court to determine in the first instance whether strict scrutiny is satisfied. These matters are left for the District Court on remand.\n",
        "III\n",
        "The Court now turns to the arguments regarding District 75. Where a challenger succeeds in establishing racial predominance, the burden shifts to the State to “demonstrate that its districting legislation is narrowly tailored to achieve a compelling interest.” Miller, supra, at 920. The District Court here determined that the State’s predominant use of race in District 75 was narrowly tailored to achieve compliance with §5. The challengers contest the finding of narrow tailoring, but they do not dispute that compliance with §5 was a compelling interest at the relevant time. As in previous cases, therefore, the Court assumes, without deciding, that the State’s interest in complying with the Voting Rights Act was compelling. E.g., Alabama, supra, at ___–___ (slip op., at 19–23); Shaw II, 517 U. S., at 915.\n",
        "Turning to narrow tailoring, the Court explained the contours of that requirement in Alabama. When a State justifies the predominant use of race in redistricting on the basis of the need to comply with the Voting Rights Act, “the narrow tailoring requirement insists only that the legislature have a strong basis in evidence in support of the (race-based) choice that it has made.” 575 U. S., at ___ (slip op., at 22) (internal quotation marks omitted). That standard does not require the State to show that its action was “actually . . . necessary” to avoid a statutory violation, so that, but for its use of race, the State would have lost in court. Ibid. (internal quotation marks omitted). Rather, the requisite strong basis in evidence exists when the legislature has “good reasons to believe” it must use race in order to satisfy the Voting Rights Act, “even if a court does not find that the actions were necessary for statutory compliance.” Ibid. (internal quotation marks omitted).\n",
        "The Court now finds no error in the District Court’s conclusion that the State had sufficient grounds to determine that the race-based calculus it employed in District 75 was necessary to avoid violating §5. As explained, §5 at the time barred Virginia from adopting any districting change that would “have the effect of diminishing the ability of [members of a minority group] to elect their preferred candidates of choice.”52 U. S. C. §10304(b). Determining what minority population percentage will satisfy that standard is a difficult task requiring, in the view of the Department of Justice, a “functional analysis of the electoral behavior within the particular . . . election district.” Guidance Concerning Redistricting Under Section 5 of the Voting Rights Act, 76 Fed. Reg. 7471 (2011).\n",
        "Under the facts found by the District Court, the legislature performed that kind of functional analysis of District 75 when deciding upon the 55% BVAP target. Redrawing this district presented a difficult task, and the result reflected the good-faith efforts of Delegate Jones and his colleagues to achieve an informed bipartisan consensus. Delegate Jones met with Delegate Tyler “probably half a dozen times to configure her district” in order to avoid retrogression. 141 F. Supp. 3d, at 558 (internal quotation marks omitted). He discussed the district with incumbents from other majority-minority districts. He also considered turnout rates, the results of the recent contested primary and general elections in 2005, and the dis-trict’s large population of disenfranchised black prisoners. The challengers, moreover, do not dispute that District 75 was an ability-to-elect district, or that white and black voters in the area tend to vote as blocs. See id., at 557–559. In light of Delegate Jones’ careful assessment of local conditions and structures, the State had a strong basis in evidence to believe a 55% BVAP floor was required to avoid retrogression.\n",
        "The challengers’ responses ask too much from state officials charged with the sensitive duty of reapportioning legislative districts. First, the challengers contest the sufficiency of the evidence showing that Delegate Jones in fact performed a functional analysis, in part because that analysis was not memorialized in writing. But the District Court’s factual findings are reviewed only for clear error. See Easley v. Cromartie,532 U. S. 234,242 (2001). The findings regarding how the legislature arrived at the 55% BVAP target are well supported, and “we do not . . . require States engaged in redistricting to compile a comprehensive administrative record.” Vera, 517 U. S., at 966 (internal quotation marks omitted).\n",
        "The challengers argue further that the drafters of the plan had insufficient evidence to justify a 55% BVAP floor. The 2005 elections were idiosyncratic, the challengers contend; moreover, demographic information about the prison in the district is absent from the record, and Delegate Tyler’s perspective was influenced by a personal interest in reelection. That may have been so, and for those reasons, it is possible that, if the State had drawn District 75 with a BVAP below 55% and had sought judicial preclearance, a court would have found no §5 violation. But that is not the question here. “The law cannot insist that a state legislature, when redistricting, determine precisely what percent minority population §5 demands.” Alabama, 575 U. S., at ___ (slip op., at 22). The question is whether the State had “good reasons” to believe a 55% BVAP floor was necessary to avoid liability under §5. Ibid. (internal quotation marks omitted). The State did have good reasons under these circumstances. Holding otherwise would afford state legislatures too little breathing room, leaving them “trapped between the competing hazards of liability” under the Voting Rights Act and the Equal Protection Clause. Vera, supra, at 977 (internal quotation marks omitted).\n",
        "As a final point, the challengers liken the 55% BVAP floor here to the “mechanically numerical view” of §5 this Court rejected in Alabama. 575 U. S., at ___ (slip op., at 21). But Alabama did not condemn the use of BVAP targets to comply with §5 in every instance. Rather, this Court corrected the “misperception” that §5 required a State to “maintai[n] the same population percentages in majority-minority districts as in the prior plan.” Id., at ___–___ (slip op., at 19–20). “[I]t would seem highly unlikely,” the Court explained, that reducing a district’s BVAP “from, say, 70% to 65% would have a significant impact on the black voters’ ability to elect their preferred candidate.” Id., at ___ (slip op., at 21). Yet reducing the BVAP below 55% well might have that effect in some cases. The record here supports the legislature’s conclusion that this was one instance where a 55% BVAP was necessary for black voters to have a functional working majority.\n",
        "IV\n",
        "The Court’s holding in this case is controlled by precedent. The Court reaffirms the basic racial predominance analysis explained in Miller and Shaw II, and the basic narrow tailoring analysis explained in Alabama. The District Court’s judgment as to District 75 is consistent with these principles. Applying these principles to the remaining 11 districts is entrusted to the District Court in the first instance.\n",
        "The judgment of the District Court is affirmed in part and vacated in part. The case is remanded for further proceedings consistent with this opinion.\n",
        "It is so ordered.\n",
        "\"\"\")\n",
        "    return fileobj\n",
        "\n"
      ],
      "execution_count": null,
      "outputs": []
    },
    {
      "cell_type": "code",
      "metadata": {
        "id": "m0gkiJd57Jk-"
      },
      "source": [
        ""
      ],
      "execution_count": null,
      "outputs": []
    },
    {
      "cell_type": "code",
      "metadata": {
        "id": "HUzLmAdemRxY"
      },
      "source": [
        "filename = '/content/Bethune-Hill_v_VA.txt'"
      ],
      "execution_count": null,
      "outputs": []
    },
    {
      "cell_type": "code",
      "metadata": {
        "id": "RhC1WgL27S0Q"
      },
      "source": [
        ""
      ],
      "execution_count": null,
      "outputs": []
    },
    {
      "cell_type": "code",
      "metadata": {
        "id": "jgqgvOmXmPlz"
      },
      "source": [
        "pattern = 'target'"
      ],
      "execution_count": null,
      "outputs": []
    },
    {
      "cell_type": "code",
      "metadata": {
        "colab": {
          "base_uri": "https://localhost:8080/"
        },
        "id": "_6WKLZEh7Vli",
        "outputId": "ffeba7a4-2860-457b-c969-38c66fbf013c"
      },
      "source": [
        "# Make sure file gets closed after being iterated\n",
        "# with open(filename, 'r') as f:\n",
        "with open_thing_as_file(filename, 'r') as f:\n",
        "   # Read the file contents and generate a list with each line\n",
        "   # lines = f.readlines()\n",
        "   # Basic solution: iterate over the open file (ie iterates over the lines in the file)\n",
        "   for index, line in enumerate(f): \n",
        "       # Now perform the matching. To simply see if text is in a line, use `text in line`, e.g. \n",
        "       if pattern in line:\n",
        "           print(\"L\", index, \"BASIC 'in' VERSION\")\n",
        "           print(line)\n",
        "       # Or if more advanced pattern matching is needed, use that, e.g. \n",
        "       if re.findall(pattern, line):\n",
        "           print(\"L\", index, \"RE VERSION\")\n",
        "           print(line)"
      ],
      "execution_count": null,
      "outputs": [
        {
          "output_type": "stream",
          "text": [
            "L 5 BASIC 'in' VERSION\n",
            "Certain voters challenged the new districts as unconstitutional racial gerrymanders. The United States District Court for the Eastern District of Virginia, constituted as a three-judge district court, rejected the challenges as to each of the 12 districts. As to 11 of the districts, the District Court concluded that the voters had not shown, as this Court’s precedent requires, “that race was the predominant factor motivating the legislature’s decision to place a significant number of voters within or without a particular district.” Miller v. Johnson,515 U. S. 900 (1995). The District Court held that race predominates only where there is an “ ‘actual conflict between traditional redistricting criteria and race,’ ” 141 F. Supp. 3d 505, 524 (ED Va. 2015), so it confined the predominance analysis to the portions of the new lines that appeared to deviate from traditional criteria, and found no violation. As to the remaining district, District 75, the District Court found that race did predominate. It concluded, however, that the lines were constitutional because the legislature’s use of race was narrowly tailored to a compelling state interest. In particular, the District Court determined that the legislature had “good reasons to believe” that a 55% racial target was necessary in District 75 to avoid diminishing the ability of black voters to elect their preferred candidates, which at the time would have violated §5 of the Voting Rights Act of 1965. Alabama Legislative Black Caucus v. Alabama, 575 U. S. ___, ___ (2015) (slip op., at 22) (internal quotation marks omitted and emphasis deleted).\n",
            "\n",
            "L 5 RE VERSION\n",
            "Certain voters challenged the new districts as unconstitutional racial gerrymanders. The United States District Court for the Eastern District of Virginia, constituted as a three-judge district court, rejected the challenges as to each of the 12 districts. As to 11 of the districts, the District Court concluded that the voters had not shown, as this Court’s precedent requires, “that race was the predominant factor motivating the legislature’s decision to place a significant number of voters within or without a particular district.” Miller v. Johnson,515 U. S. 900 (1995). The District Court held that race predominates only where there is an “ ‘actual conflict between traditional redistricting criteria and race,’ ” 141 F. Supp. 3d 505, 524 (ED Va. 2015), so it confined the predominance analysis to the portions of the new lines that appeared to deviate from traditional criteria, and found no violation. As to the remaining district, District 75, the District Court found that race did predominate. It concluded, however, that the lines were constitutional because the legislature’s use of race was narrowly tailored to a compelling state interest. In particular, the District Court determined that the legislature had “good reasons to believe” that a 55% racial target was necessary in District 75 to avoid diminishing the ability of black voters to elect their preferred candidates, which at the time would have violated §5 of the Voting Rights Act of 1965. Alabama Legislative Black Caucus v. Alabama, 575 U. S. ___, ___ (2015) (slip op., at 22) (internal quotation marks omitted and emphasis deleted).\n",
            "\n",
            "L 10 BASIC 'in' VERSION\n",
            "Seeking to maintain minority voters’ ability to elect their preferred candidates in these districts while complying with the one-person, one-vote criterion, legislators concluded that each of the 12 districts “needed to contain a BVAP of at least 55%.” 141 F. Supp. 3d, at 519. At trial, the parties disputed whether the 55% figure “was an aspiration or a target or a rule.” Ibid. But they did not dispute “the most important question—whether [the 55%] figure was used in drawing the Challenged Districts.” Ibid. The parties agreed, and the District Court found, “that the 55% BVAP figure was used in structuring the districts.” Ibid. In the enacted plan all 12 districts contained a BVAP greater than 55%.\n",
            "\n",
            "L 10 RE VERSION\n",
            "Seeking to maintain minority voters’ ability to elect their preferred candidates in these districts while complying with the one-person, one-vote criterion, legislators concluded that each of the 12 districts “needed to contain a BVAP of at least 55%.” 141 F. Supp. 3d, at 519. At trial, the parties disputed whether the 55% figure “was an aspiration or a target or a rule.” Ibid. But they did not dispute “the most important question—whether [the 55%] figure was used in drawing the Challenged Districts.” Ibid. The parties agreed, and the District Court found, “that the 55% BVAP figure was used in structuring the districts.” Ibid. In the enacted plan all 12 districts contained a BVAP greater than 55%.\n",
            "\n",
            "L 31 BASIC 'in' VERSION\n",
            "The challengers submit that the District Court erred further when it considered the legislature’s racial motive only to the extent that the challengers identified deviations from traditional redistricting criteria that were attributable to race and not to some other factor. In the challengers’ view, this approach foreclosed a holistic analysis of each district and led the District Court to give insufficient weight to the 55% BVAP target and other relevant evidence that race predominated. Again, this Court agrees.\n",
            "\n",
            "L 31 RE VERSION\n",
            "The challengers submit that the District Court erred further when it considered the legislature’s racial motive only to the extent that the challengers identified deviations from traditional redistricting criteria that were attributable to race and not to some other factor. In the challengers’ view, this approach foreclosed a holistic analysis of each district and led the District Court to give insufficient weight to the 55% BVAP target and other relevant evidence that race predominated. Again, this Court agrees.\n",
            "\n",
            "L 34 BASIC 'in' VERSION\n",
            "The ultimate object of the inquiry, however, is the legislature’s predominant motive for the design of the district as a whole. A court faced with a racial gerrymandering claim therefore must consider all of the lines of the district at issue; any explanation for a particular portion of the lines, moreover, must take account of the districtwide context. Concentrating on particular portions in isolation may obscure the significance of relevant districtwide evidence, such as stark splits in the racial composition of populations moved into and out of disparate parts of the district, or the use of an express racial target. A holistic analysis is necessary to give that kind of evidence its proper weight.\n",
            "\n",
            "L 34 RE VERSION\n",
            "The ultimate object of the inquiry, however, is the legislature’s predominant motive for the design of the district as a whole. A court faced with a racial gerrymandering claim therefore must consider all of the lines of the district at issue; any explanation for a particular portion of the lines, moreover, must take account of the districtwide context. Concentrating on particular portions in isolation may obscure the significance of relevant districtwide evidence, such as stark splits in the racial composition of populations moved into and out of disparate parts of the district, or the use of an express racial target. A holistic analysis is necessary to give that kind of evidence its proper weight.\n",
            "\n",
            "L 42 BASIC 'in' VERSION\n",
            "Under the facts found by the District Court, the legislature performed that kind of functional analysis of District 75 when deciding upon the 55% BVAP target. Redrawing this district presented a difficult task, and the result reflected the good-faith efforts of Delegate Jones and his colleagues to achieve an informed bipartisan consensus. Delegate Jones met with Delegate Tyler “probably half a dozen times to configure her district” in order to avoid retrogression. 141 F. Supp. 3d, at 558 (internal quotation marks omitted). He discussed the district with incumbents from other majority-minority districts. He also considered turnout rates, the results of the recent contested primary and general elections in 2005, and the dis-trict’s large population of disenfranchised black prisoners. The challengers, moreover, do not dispute that District 75 was an ability-to-elect district, or that white and black voters in the area tend to vote as blocs. See id., at 557–559. In light of Delegate Jones’ careful assessment of local conditions and structures, the State had a strong basis in evidence to believe a 55% BVAP floor was required to avoid retrogression.\n",
            "\n",
            "L 42 RE VERSION\n",
            "Under the facts found by the District Court, the legislature performed that kind of functional analysis of District 75 when deciding upon the 55% BVAP target. Redrawing this district presented a difficult task, and the result reflected the good-faith efforts of Delegate Jones and his colleagues to achieve an informed bipartisan consensus. Delegate Jones met with Delegate Tyler “probably half a dozen times to configure her district” in order to avoid retrogression. 141 F. Supp. 3d, at 558 (internal quotation marks omitted). He discussed the district with incumbents from other majority-minority districts. He also considered turnout rates, the results of the recent contested primary and general elections in 2005, and the dis-trict’s large population of disenfranchised black prisoners. The challengers, moreover, do not dispute that District 75 was an ability-to-elect district, or that white and black voters in the area tend to vote as blocs. See id., at 557–559. In light of Delegate Jones’ careful assessment of local conditions and structures, the State had a strong basis in evidence to believe a 55% BVAP floor was required to avoid retrogression.\n",
            "\n",
            "L 43 BASIC 'in' VERSION\n",
            "The challengers’ responses ask too much from state officials charged with the sensitive duty of reapportioning legislative districts. First, the challengers contest the sufficiency of the evidence showing that Delegate Jones in fact performed a functional analysis, in part because that analysis was not memorialized in writing. But the District Court’s factual findings are reviewed only for clear error. See Easley v. Cromartie,532 U. S. 234,242 (2001). The findings regarding how the legislature arrived at the 55% BVAP target are well supported, and “we do not . . . require States engaged in redistricting to compile a comprehensive administrative record.” Vera, 517 U. S., at 966 (internal quotation marks omitted).\n",
            "\n",
            "L 43 RE VERSION\n",
            "The challengers’ responses ask too much from state officials charged with the sensitive duty of reapportioning legislative districts. First, the challengers contest the sufficiency of the evidence showing that Delegate Jones in fact performed a functional analysis, in part because that analysis was not memorialized in writing. But the District Court’s factual findings are reviewed only for clear error. See Easley v. Cromartie,532 U. S. 234,242 (2001). The findings regarding how the legislature arrived at the 55% BVAP target are well supported, and “we do not . . . require States engaged in redistricting to compile a comprehensive administrative record.” Vera, 517 U. S., at 966 (internal quotation marks omitted).\n",
            "\n",
            "L 45 BASIC 'in' VERSION\n",
            "As a final point, the challengers liken the 55% BVAP floor here to the “mechanically numerical view” of §5 this Court rejected in Alabama. 575 U. S., at ___ (slip op., at 21). But Alabama did not condemn the use of BVAP targets to comply with §5 in every instance. Rather, this Court corrected the “misperception” that §5 required a State to “maintai[n] the same population percentages in majority-minority districts as in the prior plan.” Id., at ___–___ (slip op., at 19–20). “[I]t would seem highly unlikely,” the Court explained, that reducing a district’s BVAP “from, say, 70% to 65% would have a significant impact on the black voters’ ability to elect their preferred candidate.” Id., at ___ (slip op., at 21). Yet reducing the BVAP below 55% well might have that effect in some cases. The record here supports the legislature’s conclusion that this was one instance where a 55% BVAP was necessary for black voters to have a functional working majority.\n",
            "\n",
            "L 45 RE VERSION\n",
            "As a final point, the challengers liken the 55% BVAP floor here to the “mechanically numerical view” of §5 this Court rejected in Alabama. 575 U. S., at ___ (slip op., at 21). But Alabama did not condemn the use of BVAP targets to comply with §5 in every instance. Rather, this Court corrected the “misperception” that §5 required a State to “maintai[n] the same population percentages in majority-minority districts as in the prior plan.” Id., at ___–___ (slip op., at 19–20). “[I]t would seem highly unlikely,” the Court explained, that reducing a district’s BVAP “from, say, 70% to 65% would have a significant impact on the black voters’ ability to elect their preferred candidate.” Id., at ___ (slip op., at 21). Yet reducing the BVAP below 55% well might have that effect in some cases. The record here supports the legislature’s conclusion that this was one instance where a 55% BVAP was necessary for black voters to have a functional working majority.\n",
            "\n"
          ],
          "name": "stdout"
        }
      ]
    },
    {
      "cell_type": "code",
      "metadata": {
        "id": "YLBOKwDL7ZNl"
      },
      "source": [
        ""
      ],
      "execution_count": null,
      "outputs": []
    }
  ]
}