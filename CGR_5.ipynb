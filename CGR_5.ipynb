{
  "nbformat": 4,
  "nbformat_minor": 0,
  "metadata": {
    "colab": {
      "name": "CGR_5.ipynb",
      "provenance": [],
      "collapsed_sections": [],
      "toc_visible": true,
      "authorship_tag": "ABX9TyOA87vkQmXTH2AItbtEv+zv",
      "include_colab_link": true
    },
    "kernelspec": {
      "name": "ir",
      "display_name": "R"
    },
    "language_info": {
      "name": "R"
    }
  },
  "cells": [
    {
      "cell_type": "markdown",
      "metadata": {
        "id": "view-in-github",
        "colab_type": "text"
      },
      "source": [
        "<a href=\"https://colab.research.google.com/github/JF11579/New-Stuff/blob/main/CGR_5.ipynb\" target=\"_parent\"><img src=\"https://colab.research.google.com/assets/colab-badge.svg\" alt=\"Open In Colab\"/></a>"
      ]
    },
    {
      "cell_type": "markdown",
      "metadata": {
        "id": "F8wW2bmzlLJ6"
      },
      "source": [
        "# Options"
      ]
    },
    {
      "cell_type": "code",
      "metadata": {
        "id": "iVh-0rgEk_Tl"
      },
      "source": [
        "options(scipen=999)\n",
        "\n",
        "options(repr.plot.width=14, repr.plot.height=15)\n",
        "\n",
        "options(warn=-1)"
      ],
      "execution_count": 1,
      "outputs": []
    },
    {
      "cell_type": "markdown",
      "metadata": {
        "id": "aEJk5XXWlTyN"
      },
      "source": [
        "# Packages"
      ]
    },
    {
      "cell_type": "code",
      "metadata": {
        "colab": {
          "base_uri": "https://localhost:8080/"
        },
        "id": "lkjU44y_lNs5",
        "outputId": "11c5fba6-0859-4574-a1f4-ed201c2fe454"
      },
      "source": [
        "library(tidyverse)\n",
        "library(ggplot2)\n",
        "library(lubridate)\n",
        "install.packages(\"RColorBrewer\")\n",
        "library(RColorBrewer)\n",
        "install.packages(\"Jmisc\")\n",
        "library(Jmisc)\n"
      ],
      "execution_count": 2,
      "outputs": [
        {
          "output_type": "stream",
          "text": [
            "── \u001b[1mAttaching packages\u001b[22m ─────────────────────────────────────── tidyverse 1.3.1 ──\n",
            "\n",
            "\u001b[32m✔\u001b[39m \u001b[34mggplot2\u001b[39m 3.3.5     \u001b[32m✔\u001b[39m \u001b[34mpurrr  \u001b[39m 0.3.4\n",
            "\u001b[32m✔\u001b[39m \u001b[34mtibble \u001b[39m 3.1.2     \u001b[32m✔\u001b[39m \u001b[34mdplyr  \u001b[39m 1.0.7\n",
            "\u001b[32m✔\u001b[39m \u001b[34mtidyr  \u001b[39m 1.1.3     \u001b[32m✔\u001b[39m \u001b[34mstringr\u001b[39m 1.4.0\n",
            "\u001b[32m✔\u001b[39m \u001b[34mreadr  \u001b[39m 1.4.0     \u001b[32m✔\u001b[39m \u001b[34mforcats\u001b[39m 0.5.1\n",
            "\n",
            "── \u001b[1mConflicts\u001b[22m ────────────────────────────────────────── tidyverse_conflicts() ──\n",
            "\u001b[31m✖\u001b[39m \u001b[34mdplyr\u001b[39m::\u001b[32mfilter()\u001b[39m masks \u001b[34mstats\u001b[39m::filter()\n",
            "\u001b[31m✖\u001b[39m \u001b[34mdplyr\u001b[39m::\u001b[32mlag()\u001b[39m    masks \u001b[34mstats\u001b[39m::lag()\n",
            "\n",
            "\n",
            "Attaching package: ‘lubridate’\n",
            "\n",
            "\n",
            "The following objects are masked from ‘package:base’:\n",
            "\n",
            "    date, intersect, setdiff, union\n",
            "\n",
            "\n",
            "Installing package into ‘/usr/local/lib/R/site-library’\n",
            "(as ‘lib’ is unspecified)\n",
            "\n",
            "Installing package into ‘/usr/local/lib/R/site-library’\n",
            "(as ‘lib’ is unspecified)\n",
            "\n",
            "\n",
            "Attaching package: ‘Jmisc’\n",
            "\n",
            "\n",
            "The following object is masked from ‘package:dplyr’:\n",
            "\n",
            "    recode\n",
            "\n",
            "\n",
            "The following object is masked from ‘package:ggplot2’:\n",
            "\n",
            "    %+%\n",
            "\n",
            "\n"
          ],
          "name": "stderr"
        }
      ]
    },
    {
      "cell_type": "markdown",
      "metadata": {
        "id": "MYg7W4EpldCy"
      },
      "source": [
        "# Data\n"
      ]
    },
    {
      "cell_type": "code",
      "metadata": {
        "id": "wvwK3hqClcFg"
      },
      "source": [
        "# add csv file \n",
        "CGR_gender_compiled <- read.csv(\"/content/CGR_2_Gender - CGR_2Gender_Compiled.csv\")"
      ],
      "execution_count": 6,
      "outputs": []
    },
    {
      "cell_type": "code",
      "metadata": {
        "id": "7SNPS_ECmSSi"
      },
      "source": [
        "gender_pct <- read.csv(\"/content/CGR_2_Gender - Compiled_3.csv\")"
      ],
      "execution_count": 7,
      "outputs": []
    },
    {
      "cell_type": "code",
      "metadata": {
        "id": "gSY4mPLgoCvy"
      },
      "source": [
        "CGR_race <- read.csv(\"/content/CGR_race_ethnicity_worksheet - ValuesOnly.csv\")\n",
        "#head(CGR_race,3)\n",
        "#tail(CGR_race,3)"
      ],
      "execution_count": 8,
      "outputs": []
    },
    {
      "cell_type": "code",
      "metadata": {
        "colab": {
          "base_uri": "https://localhost:8080/",
          "height": 244
        },
        "id": "umvDSAuHXdSS",
        "outputId": "55a1ab34-70a3-492a-f3f6-3bf106d4b831"
      },
      "source": [
        "Race_values <- read.csv(\"/content/CGR_race_ethnicity_worksheet - ValuesOnly.csv\")\n",
        "head(Race_values,3)"
      ],
      "execution_count": 26,
      "outputs": [
        {
          "output_type": "display_data",
          "data": {
            "text/plain": [
              "  county year crime         Total.Arrests White WhitePct  Black BlackPct \n",
              "1 Cayuga 2016 Total Arrests 1374          1071  0.7794760 240   0.1746725\n",
              "2 Cayuga 2016 Felony Total   431           325  0.7540603  92   0.2134571\n",
              "3 Cayuga 2016 Drug            51            33  0.6470588  16   0.3137255\n",
              "  Hispanic HispanicPct Asian AsianPct    Other.Unknown OtherPct   \n",
              "1 42       0.03056769  2     0.001455604 19            0.013828239\n",
              "2 12       0.02784223  0     0.000000000  2            0.004640371\n",
              "3  1       0.01960784  0     0.000000000  1            0.019607843"
            ],
            "text/latex": "A data.frame: 3 × 14\n\\begin{tabular}{r|llllllllllllll}\n  & county & year & crime & Total.Arrests & White & WhitePct & Black & BlackPct & Hispanic & HispanicPct & Asian & AsianPct & Other.Unknown & OtherPct\\\\\n  & <chr> & <int> & <chr> & <int> & <int> & <dbl> & <int> & <dbl> & <int> & <dbl> & <int> & <dbl> & <int> & <dbl>\\\\\n\\hline\n\t1 & Cayuga & 2016 & Total Arrests & 1374 & 1071 & 0.7794760 & 240 & 0.1746725 & 42 & 0.03056769 & 2 & 0.001455604 & 19 & 0.013828239\\\\\n\t2 & Cayuga & 2016 & Felony Total  &  431 &  325 & 0.7540603 &  92 & 0.2134571 & 12 & 0.02784223 & 0 & 0.000000000 &  2 & 0.004640371\\\\\n\t3 & Cayuga & 2016 & Drug          &   51 &   33 & 0.6470588 &  16 & 0.3137255 &  1 & 0.01960784 & 0 & 0.000000000 &  1 & 0.019607843\\\\\n\\end{tabular}\n",
            "text/markdown": "\nA data.frame: 3 × 14\n\n| <!--/--> | county &lt;chr&gt; | year &lt;int&gt; | crime &lt;chr&gt; | Total.Arrests &lt;int&gt; | White &lt;int&gt; | WhitePct &lt;dbl&gt; | Black &lt;int&gt; | BlackPct &lt;dbl&gt; | Hispanic &lt;int&gt; | HispanicPct &lt;dbl&gt; | Asian &lt;int&gt; | AsianPct &lt;dbl&gt; | Other.Unknown &lt;int&gt; | OtherPct &lt;dbl&gt; |\n|---|---|---|---|---|---|---|---|---|---|---|---|---|---|---|\n| 1 | Cayuga | 2016 | Total Arrests | 1374 | 1071 | 0.7794760 | 240 | 0.1746725 | 42 | 0.03056769 | 2 | 0.001455604 | 19 | 0.013828239 |\n| 2 | Cayuga | 2016 | Felony Total  |  431 |  325 | 0.7540603 |  92 | 0.2134571 | 12 | 0.02784223 | 0 | 0.000000000 |  2 | 0.004640371 |\n| 3 | Cayuga | 2016 | Drug          |   51 |   33 | 0.6470588 |  16 | 0.3137255 |  1 | 0.01960784 | 0 | 0.000000000 |  1 | 0.019607843 |\n\n",
            "text/html": [
              "<table class=\"dataframe\">\n",
              "<caption>A data.frame: 3 × 14</caption>\n",
              "<thead>\n",
              "\t<tr><th></th><th scope=col>county</th><th scope=col>year</th><th scope=col>crime</th><th scope=col>Total.Arrests</th><th scope=col>White</th><th scope=col>WhitePct</th><th scope=col>Black</th><th scope=col>BlackPct</th><th scope=col>Hispanic</th><th scope=col>HispanicPct</th><th scope=col>Asian</th><th scope=col>AsianPct</th><th scope=col>Other.Unknown</th><th scope=col>OtherPct</th></tr>\n",
              "\t<tr><th></th><th scope=col>&lt;chr&gt;</th><th scope=col>&lt;int&gt;</th><th scope=col>&lt;chr&gt;</th><th scope=col>&lt;int&gt;</th><th scope=col>&lt;int&gt;</th><th scope=col>&lt;dbl&gt;</th><th scope=col>&lt;int&gt;</th><th scope=col>&lt;dbl&gt;</th><th scope=col>&lt;int&gt;</th><th scope=col>&lt;dbl&gt;</th><th scope=col>&lt;int&gt;</th><th scope=col>&lt;dbl&gt;</th><th scope=col>&lt;int&gt;</th><th scope=col>&lt;dbl&gt;</th></tr>\n",
              "</thead>\n",
              "<tbody>\n",
              "\t<tr><th scope=row>1</th><td>Cayuga</td><td>2016</td><td>Total Arrests</td><td>1374</td><td>1071</td><td>0.7794760</td><td>240</td><td>0.1746725</td><td>42</td><td>0.03056769</td><td>2</td><td>0.001455604</td><td>19</td><td>0.013828239</td></tr>\n",
              "\t<tr><th scope=row>2</th><td>Cayuga</td><td>2016</td><td>Felony Total </td><td> 431</td><td> 325</td><td>0.7540603</td><td> 92</td><td>0.2134571</td><td>12</td><td>0.02784223</td><td>0</td><td>0.000000000</td><td> 2</td><td>0.004640371</td></tr>\n",
              "\t<tr><th scope=row>3</th><td>Cayuga</td><td>2016</td><td>Drug         </td><td>  51</td><td>  33</td><td>0.6470588</td><td> 16</td><td>0.3137255</td><td> 1</td><td>0.01960784</td><td>0</td><td>0.000000000</td><td> 1</td><td>0.019607843</td></tr>\n",
              "</tbody>\n",
              "</table>\n"
            ]
          },
          "metadata": {
            "tags": []
          }
        }
      ]
    },
    {
      "cell_type": "markdown",
      "metadata": {
        "id": "WlXRHg8GOUDX"
      },
      "source": [
        "# Pre-Processing"
      ]
    },
    {
      "cell_type": "code",
      "metadata": {
        "id": "qAS0tKAUM9dl"
      },
      "source": [
        "CGR_gender_compiled$Year <- as.factor(CGR_gender_compiled$Year)\n",
        "\n",
        "# make year a \n",
        "Race_values$year <- as.factor(Race_values$year)"
      ],
      "execution_count": 27,
      "outputs": []
    },
    {
      "cell_type": "markdown",
      "metadata": {
        "id": "8CjORRGGmwYc"
      },
      "source": [
        "# First Question\n",
        "\n",
        "### *Display the data for the Total Arrests*"
      ]
    },
    {
      "cell_type": "code",
      "metadata": {
        "colab": {
          "base_uri": "https://localhost:8080/",
          "height": 34
        },
        "id": "2PzCMZilmq1G",
        "outputId": "145008af-21d8-4b9a-93ff-8cc6c4bf8f56"
      },
      "source": [
        "# Total arrests for both 2016 & 2019\n",
        "Sum <- colSums(CGR_gender_compiled[ , 4, drop= FALSE])\n",
        "Sum"
      ],
      "execution_count": 10,
      "outputs": [
        {
          "output_type": "display_data",
          "data": {
            "text/plain": [
              "Total.Arrests \n",
              "       230970 "
            ],
            "text/latex": "\\textbf{Total.Arrests:} 230970",
            "text/markdown": "**Total.Arrests:** 230970",
            "text/html": [
              "<strong>Total.Arrests:</strong> 230970"
            ]
          },
          "metadata": {
            "tags": []
          }
        }
      ]
    },
    {
      "cell_type": "markdown",
      "metadata": {
        "id": "RO87xwagnDIE"
      },
      "source": [
        "# Second Question\n",
        "\n",
        "### *Display the data for Total Arrests by Gender*"
      ]
    },
    {
      "cell_type": "code",
      "metadata": {
        "colab": {
          "base_uri": "https://localhost:8080/",
          "height": 34
        },
        "id": "xtNUrFdCnL5e",
        "outputId": "1516b09a-bea2-474b-d4c6-7e1e8b0c1f33"
      },
      "source": [
        "# Total arrests for Males\n",
        "colSums(CGR_gender_compiled[ , 5, drop= FALSE])"
      ],
      "execution_count": 11,
      "outputs": [
        {
          "output_type": "display_data",
          "data": {
            "text/plain": [
              "  Male \n",
              "164391 "
            ],
            "text/latex": "\\textbf{Male:} 164391",
            "text/markdown": "**Male:** 164391",
            "text/html": [
              "<strong>Male:</strong> 164391"
            ]
          },
          "metadata": {
            "tags": []
          }
        }
      ]
    },
    {
      "cell_type": "code",
      "metadata": {
        "colab": {
          "base_uri": "https://localhost:8080/",
          "height": 34
        },
        "id": "J-b89yoEnTCY",
        "outputId": "a3f86349-b93a-462f-bc0c-c139e28e77f3"
      },
      "source": [
        "# Total arrests for Females\n",
        "colSums(CGR_gender_compiled[ , 6, drop= FALSE])"
      ],
      "execution_count": 12,
      "outputs": [
        {
          "output_type": "display_data",
          "data": {
            "text/plain": [
              "Female \n",
              " 66549 "
            ],
            "text/latex": "\\textbf{Female:} 66549",
            "text/markdown": "**Female:** 66549",
            "text/html": [
              "<strong>Female:</strong> 66549"
            ]
          },
          "metadata": {
            "tags": []
          }
        }
      ]
    },
    {
      "cell_type": "markdown",
      "metadata": {
        "id": "ooOPyEwonpBS"
      },
      "source": [
        "# Third Question\n",
        "\n",
        "### *Display the data for Total Arrest by Race/Ethnicity*"
      ]
    },
    {
      "cell_type": "code",
      "metadata": {
        "colab": {
          "base_uri": "https://localhost:8080/",
          "height": 252
        },
        "id": "BVUUvO01odrj",
        "outputId": "baf9f036-95b7-41b4-9446-ff7fa0644433"
      },
      "source": [
        "#df <- data.frame(colname = names(demo),colSums_demo=colSums(demo))\n",
        "df <- data.frame(colSums(CGR_race[ , c(5,7,9,11,13)]))\n",
        "df"
      ],
      "execution_count": 13,
      "outputs": [
        {
          "output_type": "display_data",
          "data": {
            "text/plain": [
              "              colSums.CGR_race...c.5..7..9..11..13...\n",
              "White         130744                                 \n",
              "Black          78014                                 \n",
              "Hispanic       18007                                 \n",
              "Asian           1734                                 \n",
              "Other.Unknown   2232                                 "
            ],
            "text/latex": "A data.frame: 5 × 1\n\\begin{tabular}{r|l}\n  & colSums.CGR\\_race...c.5..7..9..11..13...\\\\\n  & <dbl>\\\\\n\\hline\n\tWhite & 130744\\\\\n\tBlack &  78014\\\\\n\tHispanic &  18007\\\\\n\tAsian &   1734\\\\\n\tOther.Unknown &   2232\\\\\n\\end{tabular}\n",
            "text/markdown": "\nA data.frame: 5 × 1\n\n| <!--/--> | colSums.CGR_race...c.5..7..9..11..13... &lt;dbl&gt; |\n|---|---|\n| White | 130744 |\n| Black |  78014 |\n| Hispanic |  18007 |\n| Asian |   1734 |\n| Other.Unknown |   2232 |\n\n",
            "text/html": [
              "<table class=\"dataframe\">\n",
              "<caption>A data.frame: 5 × 1</caption>\n",
              "<thead>\n",
              "\t<tr><th></th><th scope=col>colSums.CGR_race...c.5..7..9..11..13...</th></tr>\n",
              "\t<tr><th></th><th scope=col>&lt;dbl&gt;</th></tr>\n",
              "</thead>\n",
              "<tbody>\n",
              "\t<tr><th scope=row>White</th><td>130744</td></tr>\n",
              "\t<tr><th scope=row>Black</th><td> 78014</td></tr>\n",
              "\t<tr><th scope=row>Hispanic</th><td> 18007</td></tr>\n",
              "\t<tr><th scope=row>Asian</th><td>  1734</td></tr>\n",
              "\t<tr><th scope=row>Other.Unknown</th><td>  2232</td></tr>\n",
              "</tbody>\n",
              "</table>\n"
            ]
          },
          "metadata": {
            "tags": []
          }
        }
      ]
    },
    {
      "cell_type": "markdown",
      "metadata": {
        "id": "juznNUtEotYP"
      },
      "source": [
        "# Fourth Question\n",
        "\n",
        "## *Calculate change over time for each of the above*"
      ]
    },
    {
      "cell_type": "markdown",
      "metadata": {
        "id": "45MYv8WDsZ7p"
      },
      "source": [
        "## **Calculate change over time for Total Arrests**\n",
        "\n",
        "124185 (2016) - 106785 (2019) = 17400\n",
        "\n",
        "17400 / 124185 = 0.140113540282643\n",
        "\n",
        "The rate of decline/decay is appx 14% over the 4 year period.\n",
        "\n",
        "124185 * 0.86 = 106799\n",
        "\n",
        "\n",
        "\n"
      ]
    },
    {
      "cell_type": "markdown",
      "metadata": {
        "id": "3pftDIwG35mQ"
      },
      "source": [
        "## **Calculate the change over time for Total Arrests by Gender**\n",
        "\n"
      ]
    },
    {
      "cell_type": "markdown",
      "metadata": {
        "id": "6vrKQiTqP9vb"
      },
      "source": [
        "**Male**"
      ]
    },
    {
      "cell_type": "markdown",
      "metadata": {
        "id": "i2J55mU6SL8Y"
      },
      "source": [
        "Male: 75768 (2019) - Male: 88623 (2016) = -12855\n",
        "\n",
        "-12855/88623 = -0.145052638705528\n",
        "\n",
        "**There was an appx drop of 15% in Total Arrest for males between 2016 and 2019.**"
      ]
    },
    {
      "cell_type": "code",
      "metadata": {
        "colab": {
          "base_uri": "https://localhost:8080/",
          "height": 51
        },
        "id": "RkRsNUkoSW-6",
        "outputId": "06996e86-5236-4066-f8ab-7bfb2d8667c7"
      },
      "source": [
        "75768-88623\n",
        "-12855/88623 \n"
      ],
      "execution_count": 21,
      "outputs": [
        {
          "output_type": "display_data",
          "data": {
            "text/plain": [
              "[1] -12855"
            ],
            "text/latex": "-12855",
            "text/markdown": "-12855",
            "text/html": [
              "-12855"
            ]
          },
          "metadata": {
            "tags": []
          }
        },
        {
          "output_type": "display_data",
          "data": {
            "text/plain": [
              "[1] -0.1450526"
            ],
            "text/latex": "-0.145052638705528",
            "text/markdown": "-0.145052638705528",
            "text/html": [
              "-0.145052638705528"
            ]
          },
          "metadata": {
            "tags": []
          }
        }
      ]
    },
    {
      "cell_type": "markdown",
      "metadata": {
        "id": "OGXBDWOhOrzP"
      },
      "source": [
        "**Female**"
      ]
    },
    {
      "cell_type": "code",
      "metadata": {
        "colab": {
          "base_uri": "https://localhost:8080/",
          "height": 190
        },
        "id": "bocOBOIRPVa8",
        "outputId": "4b3b6d65-dbe8-44a4-f156-c658a356f134"
      },
      "source": [
        "Total_Arrests_16 <- CGR_gender_compiled %>%\n",
        "                filter(Year == \"2016\") \n",
        "head(Total_Arrests_16 ,3)"
      ],
      "execution_count": 14,
      "outputs": [
        {
          "output_type": "display_data",
          "data": {
            "text/plain": [
              "  Year County Crime         Total.Arrests Male Female Not.Reported\n",
              "1 2016 Cayuga Total Arrests 1374          969  405    0           \n",
              "2 2016 Cayuga Felony Total   431          326  105    0           \n",
              "3 2016 Cayuga Drug            51           36   15    0           "
            ],
            "text/latex": "A data.frame: 3 × 7\n\\begin{tabular}{r|lllllll}\n  & Year & County & Crime & Total.Arrests & Male & Female & Not.Reported\\\\\n  & <fct> & <chr> & <chr> & <int> & <int> & <int> & <int>\\\\\n\\hline\n\t1 & 2016 & Cayuga & Total Arrests & 1374 & 969 & 405 & 0\\\\\n\t2 & 2016 & Cayuga & Felony Total  &  431 & 326 & 105 & 0\\\\\n\t3 & 2016 & Cayuga & Drug          &   51 &  36 &  15 & 0\\\\\n\\end{tabular}\n",
            "text/markdown": "\nA data.frame: 3 × 7\n\n| <!--/--> | Year &lt;fct&gt; | County &lt;chr&gt; | Crime &lt;chr&gt; | Total.Arrests &lt;int&gt; | Male &lt;int&gt; | Female &lt;int&gt; | Not.Reported &lt;int&gt; |\n|---|---|---|---|---|---|---|---|\n| 1 | 2016 | Cayuga | Total Arrests | 1374 | 969 | 405 | 0 |\n| 2 | 2016 | Cayuga | Felony Total  |  431 | 326 | 105 | 0 |\n| 3 | 2016 | Cayuga | Drug          |   51 |  36 |  15 | 0 |\n\n",
            "text/html": [
              "<table class=\"dataframe\">\n",
              "<caption>A data.frame: 3 × 7</caption>\n",
              "<thead>\n",
              "\t<tr><th></th><th scope=col>Year</th><th scope=col>County</th><th scope=col>Crime</th><th scope=col>Total.Arrests</th><th scope=col>Male</th><th scope=col>Female</th><th scope=col>Not.Reported</th></tr>\n",
              "\t<tr><th></th><th scope=col>&lt;fct&gt;</th><th scope=col>&lt;chr&gt;</th><th scope=col>&lt;chr&gt;</th><th scope=col>&lt;int&gt;</th><th scope=col>&lt;int&gt;</th><th scope=col>&lt;int&gt;</th><th scope=col>&lt;int&gt;</th></tr>\n",
              "</thead>\n",
              "<tbody>\n",
              "\t<tr><th scope=row>1</th><td>2016</td><td>Cayuga</td><td>Total Arrests</td><td>1374</td><td>969</td><td>405</td><td>0</td></tr>\n",
              "\t<tr><th scope=row>2</th><td>2016</td><td>Cayuga</td><td>Felony Total </td><td> 431</td><td>326</td><td>105</td><td>0</td></tr>\n",
              "\t<tr><th scope=row>3</th><td>2016</td><td>Cayuga</td><td>Drug         </td><td>  51</td><td> 36</td><td> 15</td><td>0</td></tr>\n",
              "</tbody>\n",
              "</table>\n"
            ]
          },
          "metadata": {
            "tags": []
          }
        }
      ]
    },
    {
      "cell_type": "code",
      "metadata": {
        "colab": {
          "base_uri": "https://localhost:8080/",
          "height": 190
        },
        "id": "GzyuNpH3PX3P",
        "outputId": "b51b484b-d394-4ddd-d276-a2cd93069fee"
      },
      "source": [
        "Total_Arrests_19 <- CGR_gender_compiled %>%\n",
        "                filter(Year == \"2019\")\n",
        "head(Total_Arrests_19,3) "
      ],
      "execution_count": 15,
      "outputs": [
        {
          "output_type": "display_data",
          "data": {
            "text/plain": [
              "  Year County Crime         Total.Arrests Male Female Not.Reported\n",
              "1 2019 Cayuga Total Arrests 1241          905  336    0           \n",
              "2 2019 Cayuga Felony Total   411          309  102    0           \n",
              "3 2019 Cayuga Drug            66           43   23    0           "
            ],
            "text/latex": "A data.frame: 3 × 7\n\\begin{tabular}{r|lllllll}\n  & Year & County & Crime & Total.Arrests & Male & Female & Not.Reported\\\\\n  & <fct> & <chr> & <chr> & <int> & <int> & <int> & <int>\\\\\n\\hline\n\t1 & 2019 & Cayuga & Total Arrests & 1241 & 905 & 336 & 0\\\\\n\t2 & 2019 & Cayuga & Felony Total  &  411 & 309 & 102 & 0\\\\\n\t3 & 2019 & Cayuga & Drug          &   66 &  43 &  23 & 0\\\\\n\\end{tabular}\n",
            "text/markdown": "\nA data.frame: 3 × 7\n\n| <!--/--> | Year &lt;fct&gt; | County &lt;chr&gt; | Crime &lt;chr&gt; | Total.Arrests &lt;int&gt; | Male &lt;int&gt; | Female &lt;int&gt; | Not.Reported &lt;int&gt; |\n|---|---|---|---|---|---|---|---|\n| 1 | 2019 | Cayuga | Total Arrests | 1241 | 905 | 336 | 0 |\n| 2 | 2019 | Cayuga | Felony Total  |  411 | 309 | 102 | 0 |\n| 3 | 2019 | Cayuga | Drug          |   66 |  43 |  23 | 0 |\n\n",
            "text/html": [
              "<table class=\"dataframe\">\n",
              "<caption>A data.frame: 3 × 7</caption>\n",
              "<thead>\n",
              "\t<tr><th></th><th scope=col>Year</th><th scope=col>County</th><th scope=col>Crime</th><th scope=col>Total.Arrests</th><th scope=col>Male</th><th scope=col>Female</th><th scope=col>Not.Reported</th></tr>\n",
              "\t<tr><th></th><th scope=col>&lt;fct&gt;</th><th scope=col>&lt;chr&gt;</th><th scope=col>&lt;chr&gt;</th><th scope=col>&lt;int&gt;</th><th scope=col>&lt;int&gt;</th><th scope=col>&lt;int&gt;</th><th scope=col>&lt;int&gt;</th></tr>\n",
              "</thead>\n",
              "<tbody>\n",
              "\t<tr><th scope=row>1</th><td>2019</td><td>Cayuga</td><td>Total Arrests</td><td>1241</td><td>905</td><td>336</td><td>0</td></tr>\n",
              "\t<tr><th scope=row>2</th><td>2019</td><td>Cayuga</td><td>Felony Total </td><td> 411</td><td>309</td><td>102</td><td>0</td></tr>\n",
              "\t<tr><th scope=row>3</th><td>2019</td><td>Cayuga</td><td>Drug         </td><td>  66</td><td> 43</td><td> 23</td><td>0</td></tr>\n",
              "</tbody>\n",
              "</table>\n"
            ]
          },
          "metadata": {
            "tags": []
          }
        }
      ]
    },
    {
      "cell_type": "code",
      "metadata": {
        "colab": {
          "base_uri": "https://localhost:8080/",
          "height": 34
        },
        "id": "fUHk5JAuPced",
        "outputId": "248745b5-9fb3-42ab-ca38-88b9aa3c76a1"
      },
      "source": [
        "# Total arrests for Males\n",
        "colSums(Total_Arrests_16[ , 6, drop= FALSE])\n"
      ],
      "execution_count": 16,
      "outputs": [
        {
          "output_type": "display_data",
          "data": {
            "text/plain": [
              "Female \n",
              " 35550 "
            ],
            "text/latex": "\\textbf{Female:} 35550",
            "text/markdown": "**Female:** 35550",
            "text/html": [
              "<strong>Female:</strong> 35550"
            ]
          },
          "metadata": {
            "tags": []
          }
        }
      ]
    },
    {
      "cell_type": "code",
      "metadata": {
        "colab": {
          "base_uri": "https://localhost:8080/",
          "height": 34
        },
        "id": "w0UniZKYPcaW",
        "outputId": "535aa0dd-3376-4a6c-96fb-bdcab7e20450"
      },
      "source": [
        "# Total arrests for Males\n",
        "colSums(Total_Arrests_19[ , 6, drop= FALSE])"
      ],
      "execution_count": 17,
      "outputs": [
        {
          "output_type": "display_data",
          "data": {
            "text/plain": [
              "Female \n",
              " 30999 "
            ],
            "text/latex": "\\textbf{Female:} 30999",
            "text/markdown": "**Female:** 30999",
            "text/html": [
              "<strong>Female:</strong> 30999"
            ]
          },
          "metadata": {
            "tags": []
          }
        }
      ]
    },
    {
      "cell_type": "markdown",
      "metadata": {
        "id": "WStKZ23RR5lC"
      },
      "source": [
        "Female: 30999 (2019) - Female: 35550 (2016) = -4551\n",
        "\n",
        "-4551 / 35550 = -0.128016877637131\n",
        "\n",
        "**There was a 12.8% drop in Total Arrests of women**"
      ]
    },
    {
      "cell_type": "code",
      "metadata": {
        "colab": {
          "base_uri": "https://localhost:8080/",
          "height": 51
        },
        "id": "Beuc4F62QcmN",
        "outputId": "e870c08b-fd47-46c7-a0b8-196d02852810"
      },
      "source": [
        "30999 - 35550\n",
        "-4551 / 35550 \n"
      ],
      "execution_count": 19,
      "outputs": [
        {
          "output_type": "display_data",
          "data": {
            "text/plain": [
              "[1] -4551"
            ],
            "text/latex": "-4551",
            "text/markdown": "-4551",
            "text/html": [
              "-4551"
            ]
          },
          "metadata": {
            "tags": []
          }
        },
        {
          "output_type": "display_data",
          "data": {
            "text/plain": [
              "[1] -0.1280169"
            ],
            "text/latex": "-0.128016877637131",
            "text/markdown": "-0.128016877637131",
            "text/html": [
              "-0.128016877637131"
            ]
          },
          "metadata": {
            "tags": []
          }
        }
      ]
    },
    {
      "cell_type": "code",
      "metadata": {
        "id": "FttJhij0QcjD"
      },
      "source": [
        ""
      ],
      "execution_count": null,
      "outputs": []
    },
    {
      "cell_type": "markdown",
      "metadata": {
        "id": "MPjWcR_bpxLf"
      },
      "source": [
        "## **Calculate the change over time by Race/Ethnicity**"
      ]
    },
    {
      "cell_type": "code",
      "metadata": {
        "colab": {
          "base_uri": "https://localhost:8080/",
          "height": 244
        },
        "id": "BPbv-VfppONe",
        "outputId": "52fbc0a7-04ef-4778-8d69-5bd920327cca"
      },
      "source": [
        "head(CGR_race,3)"
      ],
      "execution_count": 24,
      "outputs": [
        {
          "output_type": "display_data",
          "data": {
            "text/plain": [
              "  county year crime         Total.Arrests White WhitePct  Black BlackPct \n",
              "1 Cayuga 2016 Total Arrests 1374          1071  0.7794760 240   0.1746725\n",
              "2 Cayuga 2016 Felony Total   431           325  0.7540603  92   0.2134571\n",
              "3 Cayuga 2016 Drug            51            33  0.6470588  16   0.3137255\n",
              "  Hispanic HispanicPct Asian AsianPct    Other.Unknown OtherPct   \n",
              "1 42       0.03056769  2     0.001455604 19            0.013828239\n",
              "2 12       0.02784223  0     0.000000000  2            0.004640371\n",
              "3  1       0.01960784  0     0.000000000  1            0.019607843"
            ],
            "text/latex": "A data.frame: 3 × 14\n\\begin{tabular}{r|llllllllllllll}\n  & county & year & crime & Total.Arrests & White & WhitePct & Black & BlackPct & Hispanic & HispanicPct & Asian & AsianPct & Other.Unknown & OtherPct\\\\\n  & <chr> & <int> & <chr> & <int> & <int> & <dbl> & <int> & <dbl> & <int> & <dbl> & <int> & <dbl> & <int> & <dbl>\\\\\n\\hline\n\t1 & Cayuga & 2016 & Total Arrests & 1374 & 1071 & 0.7794760 & 240 & 0.1746725 & 42 & 0.03056769 & 2 & 0.001455604 & 19 & 0.013828239\\\\\n\t2 & Cayuga & 2016 & Felony Total  &  431 &  325 & 0.7540603 &  92 & 0.2134571 & 12 & 0.02784223 & 0 & 0.000000000 &  2 & 0.004640371\\\\\n\t3 & Cayuga & 2016 & Drug          &   51 &   33 & 0.6470588 &  16 & 0.3137255 &  1 & 0.01960784 & 0 & 0.000000000 &  1 & 0.019607843\\\\\n\\end{tabular}\n",
            "text/markdown": "\nA data.frame: 3 × 14\n\n| <!--/--> | county &lt;chr&gt; | year &lt;int&gt; | crime &lt;chr&gt; | Total.Arrests &lt;int&gt; | White &lt;int&gt; | WhitePct &lt;dbl&gt; | Black &lt;int&gt; | BlackPct &lt;dbl&gt; | Hispanic &lt;int&gt; | HispanicPct &lt;dbl&gt; | Asian &lt;int&gt; | AsianPct &lt;dbl&gt; | Other.Unknown &lt;int&gt; | OtherPct &lt;dbl&gt; |\n|---|---|---|---|---|---|---|---|---|---|---|---|---|---|---|\n| 1 | Cayuga | 2016 | Total Arrests | 1374 | 1071 | 0.7794760 | 240 | 0.1746725 | 42 | 0.03056769 | 2 | 0.001455604 | 19 | 0.013828239 |\n| 2 | Cayuga | 2016 | Felony Total  |  431 |  325 | 0.7540603 |  92 | 0.2134571 | 12 | 0.02784223 | 0 | 0.000000000 |  2 | 0.004640371 |\n| 3 | Cayuga | 2016 | Drug          |   51 |   33 | 0.6470588 |  16 | 0.3137255 |  1 | 0.01960784 | 0 | 0.000000000 |  1 | 0.019607843 |\n\n",
            "text/html": [
              "<table class=\"dataframe\">\n",
              "<caption>A data.frame: 3 × 14</caption>\n",
              "<thead>\n",
              "\t<tr><th></th><th scope=col>county</th><th scope=col>year</th><th scope=col>crime</th><th scope=col>Total.Arrests</th><th scope=col>White</th><th scope=col>WhitePct</th><th scope=col>Black</th><th scope=col>BlackPct</th><th scope=col>Hispanic</th><th scope=col>HispanicPct</th><th scope=col>Asian</th><th scope=col>AsianPct</th><th scope=col>Other.Unknown</th><th scope=col>OtherPct</th></tr>\n",
              "\t<tr><th></th><th scope=col>&lt;chr&gt;</th><th scope=col>&lt;int&gt;</th><th scope=col>&lt;chr&gt;</th><th scope=col>&lt;int&gt;</th><th scope=col>&lt;int&gt;</th><th scope=col>&lt;dbl&gt;</th><th scope=col>&lt;int&gt;</th><th scope=col>&lt;dbl&gt;</th><th scope=col>&lt;int&gt;</th><th scope=col>&lt;dbl&gt;</th><th scope=col>&lt;int&gt;</th><th scope=col>&lt;dbl&gt;</th><th scope=col>&lt;int&gt;</th><th scope=col>&lt;dbl&gt;</th></tr>\n",
              "</thead>\n",
              "<tbody>\n",
              "\t<tr><th scope=row>1</th><td>Cayuga</td><td>2016</td><td>Total Arrests</td><td>1374</td><td>1071</td><td>0.7794760</td><td>240</td><td>0.1746725</td><td>42</td><td>0.03056769</td><td>2</td><td>0.001455604</td><td>19</td><td>0.013828239</td></tr>\n",
              "\t<tr><th scope=row>2</th><td>Cayuga</td><td>2016</td><td>Felony Total </td><td> 431</td><td> 325</td><td>0.7540603</td><td> 92</td><td>0.2134571</td><td>12</td><td>0.02784223</td><td>0</td><td>0.000000000</td><td> 2</td><td>0.004640371</td></tr>\n",
              "\t<tr><th scope=row>3</th><td>Cayuga</td><td>2016</td><td>Drug         </td><td>  51</td><td>  33</td><td>0.6470588</td><td> 16</td><td>0.3137255</td><td> 1</td><td>0.01960784</td><td>0</td><td>0.000000000</td><td> 1</td><td>0.019607843</td></tr>\n",
              "</tbody>\n",
              "</table>\n"
            ]
          },
          "metadata": {
            "tags": []
          }
        }
      ]
    },
    {
      "cell_type": "code",
      "metadata": {
        "id": "4jXtcW-YAjx8"
      },
      "source": [
        "Race_values_long <- pivot_longer(Race_values , cols = 4:14, names_to = \"Race\", values_to = \"Number\")"
      ],
      "execution_count": 28,
      "outputs": []
    },
    {
      "cell_type": "code",
      "metadata": {
        "colab": {
          "base_uri": "https://localhost:8080/",
          "height": 283
        },
        "id": "F0GTS6UPAupw",
        "outputId": "e3f413f9-70fc-44a9-a52b-a523fb436c58"
      },
      "source": [
        "head(Race_values_long)"
      ],
      "execution_count": 29,
      "outputs": [
        {
          "output_type": "display_data",
          "data": {
            "text/plain": [
              "  county year crime         Race          Number      \n",
              "1 Cayuga 2016 Total Arrests Total.Arrests 1374.0000000\n",
              "2 Cayuga 2016 Total Arrests White         1071.0000000\n",
              "3 Cayuga 2016 Total Arrests WhitePct         0.7794760\n",
              "4 Cayuga 2016 Total Arrests Black          240.0000000\n",
              "5 Cayuga 2016 Total Arrests BlackPct         0.1746725\n",
              "6 Cayuga 2016 Total Arrests Hispanic        42.0000000"
            ],
            "text/latex": "A tibble: 6 × 5\n\\begin{tabular}{lllll}\n county & year & crime & Race & Number\\\\\n <chr> & <fct> & <chr> & <chr> & <dbl>\\\\\n\\hline\n\t Cayuga & 2016 & Total Arrests & Total.Arrests & 1374.0000000\\\\\n\t Cayuga & 2016 & Total Arrests & White         & 1071.0000000\\\\\n\t Cayuga & 2016 & Total Arrests & WhitePct      &    0.7794760\\\\\n\t Cayuga & 2016 & Total Arrests & Black         &  240.0000000\\\\\n\t Cayuga & 2016 & Total Arrests & BlackPct      &    0.1746725\\\\\n\t Cayuga & 2016 & Total Arrests & Hispanic      &   42.0000000\\\\\n\\end{tabular}\n",
            "text/markdown": "\nA tibble: 6 × 5\n\n| county &lt;chr&gt; | year &lt;fct&gt; | crime &lt;chr&gt; | Race &lt;chr&gt; | Number &lt;dbl&gt; |\n|---|---|---|---|---|\n| Cayuga | 2016 | Total Arrests | Total.Arrests | 1374.0000000 |\n| Cayuga | 2016 | Total Arrests | White         | 1071.0000000 |\n| Cayuga | 2016 | Total Arrests | WhitePct      |    0.7794760 |\n| Cayuga | 2016 | Total Arrests | Black         |  240.0000000 |\n| Cayuga | 2016 | Total Arrests | BlackPct      |    0.1746725 |\n| Cayuga | 2016 | Total Arrests | Hispanic      |   42.0000000 |\n\n",
            "text/html": [
              "<table class=\"dataframe\">\n",
              "<caption>A tibble: 6 × 5</caption>\n",
              "<thead>\n",
              "\t<tr><th scope=col>county</th><th scope=col>year</th><th scope=col>crime</th><th scope=col>Race</th><th scope=col>Number</th></tr>\n",
              "\t<tr><th scope=col>&lt;chr&gt;</th><th scope=col>&lt;fct&gt;</th><th scope=col>&lt;chr&gt;</th><th scope=col>&lt;chr&gt;</th><th scope=col>&lt;dbl&gt;</th></tr>\n",
              "</thead>\n",
              "<tbody>\n",
              "\t<tr><td>Cayuga</td><td>2016</td><td>Total Arrests</td><td>Total.Arrests</td><td>1374.0000000</td></tr>\n",
              "\t<tr><td>Cayuga</td><td>2016</td><td>Total Arrests</td><td>White        </td><td>1071.0000000</td></tr>\n",
              "\t<tr><td>Cayuga</td><td>2016</td><td>Total Arrests</td><td>WhitePct     </td><td>   0.7794760</td></tr>\n",
              "\t<tr><td>Cayuga</td><td>2016</td><td>Total Arrests</td><td>Black        </td><td> 240.0000000</td></tr>\n",
              "\t<tr><td>Cayuga</td><td>2016</td><td>Total Arrests</td><td>BlackPct     </td><td>   0.1746725</td></tr>\n",
              "\t<tr><td>Cayuga</td><td>2016</td><td>Total Arrests</td><td>Hispanic     </td><td>  42.0000000</td></tr>\n",
              "</tbody>\n",
              "</table>\n"
            ]
          },
          "metadata": {
            "tags": []
          }
        }
      ]
    },
    {
      "cell_type": "code",
      "metadata": {
        "id": "YQ3iDnRLAucX"
      },
      "source": [
        ""
      ],
      "execution_count": null,
      "outputs": []
    },
    {
      "cell_type": "code",
      "metadata": {
        "id": "q_S6dX0N5T-7"
      },
      "source": [
        "# filter out Total Crime\n",
        "Total_Crime_Race <- Race_values_long %>%\n",
        "                  filter(crime == \"Total Arrests\")"
      ],
      "execution_count": 30,
      "outputs": []
    },
    {
      "cell_type": "code",
      "metadata": {
        "id": "yIarFuK1A-kL"
      },
      "source": [
        "#extract out the counts (as opposed to the pcts)\n",
        "target <- c(\"Asian\", \"Black\",\"Hispanic\",\"White\",\"Other.Unknown\")"
      ],
      "execution_count": 32,
      "outputs": []
    },
    {
      "cell_type": "code",
      "metadata": {
        "id": "9drgXK8wBqsm"
      },
      "source": [
        "Total_Crime_Race <- filter(Total_Crime_Race, Race %in% target)"
      ],
      "execution_count": 33,
      "outputs": []
    },
    {
      "cell_type": "code",
      "metadata": {
        "id": "dOC0Ds7d5T2w"
      },
      "source": [
        "# divide data by year\n",
        "Total_Crime_Race_16 <- Total_Crime_Race %>%\n",
        "                filter(year == \"2016\")"
      ],
      "execution_count": 34,
      "outputs": []
    },
    {
      "cell_type": "code",
      "metadata": {
        "id": "TEXamxJAADS_"
      },
      "source": [
        "# divide data by year\n",
        "Total_Crime_Race_19 <- Total_Crime_Race %>%\n",
        "                filter(year == \"2019\")"
      ],
      "execution_count": 36,
      "outputs": []
    },
    {
      "cell_type": "markdown",
      "metadata": {
        "id": "p6nwR0QAHH0a"
      },
      "source": [
        "**Make a seperate df for 2016 & 2019**"
      ]
    },
    {
      "cell_type": "code",
      "metadata": {
        "colab": {
          "base_uri": "https://localhost:8080/",
          "height": 252
        },
        "id": "YNwJm2WP_dzN",
        "outputId": "dfd2b3b3-b241-4f39-9000-2ed70834794e"
      },
      "source": [
        "#https://stackoverflow.com/questions/1660124/how-to-sum-a-variable-by-group\n",
        "Race_totals_2016 <- Total_Crime_Race_16 %>%\n",
        "    group_by(Race) %>%\n",
        "    summarise(sum = sum(Number))\n",
        "Race_totals_2016 "
      ],
      "execution_count": 37,
      "outputs": [
        {
          "output_type": "display_data",
          "data": {
            "text/plain": [
              "  Race          sum  \n",
              "1 Asian           300\n",
              "2 Black         13555\n",
              "3 Hispanic       3071\n",
              "4 Other.Unknown   382\n",
              "5 White         24087"
            ],
            "text/latex": "A tibble: 5 × 2\n\\begin{tabular}{ll}\n Race & sum\\\\\n <chr> & <dbl>\\\\\n\\hline\n\t Asian         &   300\\\\\n\t Black         & 13555\\\\\n\t Hispanic      &  3071\\\\\n\t Other.Unknown &   382\\\\\n\t White         & 24087\\\\\n\\end{tabular}\n",
            "text/markdown": "\nA tibble: 5 × 2\n\n| Race &lt;chr&gt; | sum &lt;dbl&gt; |\n|---|---|\n| Asian         |   300 |\n| Black         | 13555 |\n| Hispanic      |  3071 |\n| Other.Unknown |   382 |\n| White         | 24087 |\n\n",
            "text/html": [
              "<table class=\"dataframe\">\n",
              "<caption>A tibble: 5 × 2</caption>\n",
              "<thead>\n",
              "\t<tr><th scope=col>Race</th><th scope=col>sum</th></tr>\n",
              "\t<tr><th scope=col>&lt;chr&gt;</th><th scope=col>&lt;dbl&gt;</th></tr>\n",
              "</thead>\n",
              "<tbody>\n",
              "\t<tr><td>Asian        </td><td>  300</td></tr>\n",
              "\t<tr><td>Black        </td><td>13555</td></tr>\n",
              "\t<tr><td>Hispanic     </td><td> 3071</td></tr>\n",
              "\t<tr><td>Other.Unknown</td><td>  382</td></tr>\n",
              "\t<tr><td>White        </td><td>24087</td></tr>\n",
              "</tbody>\n",
              "</table>\n"
            ]
          },
          "metadata": {
            "tags": []
          }
        }
      ]
    },
    {
      "cell_type": "code",
      "metadata": {
        "colab": {
          "base_uri": "https://localhost:8080/",
          "height": 252
        },
        "id": "wNvXU8AdCUqi",
        "outputId": "a0a678a9-16da-40e5-8090-1410d364b6f8"
      },
      "source": [
        "Race_totals_2019 <- Total_Crime_Race_19 %>%\n",
        "    group_by(Race) %>%\n",
        "    summarise(sum = sum(Number))\n",
        "Race_totals_2019 "
      ],
      "execution_count": 38,
      "outputs": [
        {
          "output_type": "display_data",
          "data": {
            "text/plain": [
              "  Race          sum  \n",
              "1 Asian           278\n",
              "2 Black         12456\n",
              "3 Hispanic       2937\n",
              "4 Other.Unknown   363\n",
              "5 White         19561"
            ],
            "text/latex": "A tibble: 5 × 2\n\\begin{tabular}{ll}\n Race & sum\\\\\n <chr> & <dbl>\\\\\n\\hline\n\t Asian         &   278\\\\\n\t Black         & 12456\\\\\n\t Hispanic      &  2937\\\\\n\t Other.Unknown &   363\\\\\n\t White         & 19561\\\\\n\\end{tabular}\n",
            "text/markdown": "\nA tibble: 5 × 2\n\n| Race &lt;chr&gt; | sum &lt;dbl&gt; |\n|---|---|\n| Asian         |   278 |\n| Black         | 12456 |\n| Hispanic      |  2937 |\n| Other.Unknown |   363 |\n| White         | 19561 |\n\n",
            "text/html": [
              "<table class=\"dataframe\">\n",
              "<caption>A tibble: 5 × 2</caption>\n",
              "<thead>\n",
              "\t<tr><th scope=col>Race</th><th scope=col>sum</th></tr>\n",
              "\t<tr><th scope=col>&lt;chr&gt;</th><th scope=col>&lt;dbl&gt;</th></tr>\n",
              "</thead>\n",
              "<tbody>\n",
              "\t<tr><td>Asian        </td><td>  278</td></tr>\n",
              "\t<tr><td>Black        </td><td>12456</td></tr>\n",
              "\t<tr><td>Hispanic     </td><td> 2937</td></tr>\n",
              "\t<tr><td>Other.Unknown</td><td>  363</td></tr>\n",
              "\t<tr><td>White        </td><td>19561</td></tr>\n",
              "</tbody>\n",
              "</table>\n"
            ]
          },
          "metadata": {
            "tags": []
          }
        }
      ]
    },
    {
      "cell_type": "code",
      "metadata": {
        "colab": {
          "base_uri": "https://localhost:8080/",
          "height": 252
        },
        "id": "iax_TMUXEs7J",
        "outputId": "3eda168d-db1f-4b1d-898e-7ad5dbfbc6a5"
      },
      "source": [
        "# revise 2019 column name\n",
        "Race_totals_2019 <-rename(Race_totals_2019 , sum_2019 = sum)\n",
        "Race_totals_2019 "
      ],
      "execution_count": 39,
      "outputs": [
        {
          "output_type": "display_data",
          "data": {
            "text/plain": [
              "  Race          sum_2019\n",
              "1 Asian           278   \n",
              "2 Black         12456   \n",
              "3 Hispanic       2937   \n",
              "4 Other.Unknown   363   \n",
              "5 White         19561   "
            ],
            "text/latex": "A tibble: 5 × 2\n\\begin{tabular}{ll}\n Race & sum\\_2019\\\\\n <chr> & <dbl>\\\\\n\\hline\n\t Asian         &   278\\\\\n\t Black         & 12456\\\\\n\t Hispanic      &  2937\\\\\n\t Other.Unknown &   363\\\\\n\t White         & 19561\\\\\n\\end{tabular}\n",
            "text/markdown": "\nA tibble: 5 × 2\n\n| Race &lt;chr&gt; | sum_2019 &lt;dbl&gt; |\n|---|---|\n| Asian         |   278 |\n| Black         | 12456 |\n| Hispanic      |  2937 |\n| Other.Unknown |   363 |\n| White         | 19561 |\n\n",
            "text/html": [
              "<table class=\"dataframe\">\n",
              "<caption>A tibble: 5 × 2</caption>\n",
              "<thead>\n",
              "\t<tr><th scope=col>Race</th><th scope=col>sum_2019</th></tr>\n",
              "\t<tr><th scope=col>&lt;chr&gt;</th><th scope=col>&lt;dbl&gt;</th></tr>\n",
              "</thead>\n",
              "<tbody>\n",
              "\t<tr><td>Asian        </td><td>  278</td></tr>\n",
              "\t<tr><td>Black        </td><td>12456</td></tr>\n",
              "\t<tr><td>Hispanic     </td><td> 2937</td></tr>\n",
              "\t<tr><td>Other.Unknown</td><td>  363</td></tr>\n",
              "\t<tr><td>White        </td><td>19561</td></tr>\n",
              "</tbody>\n",
              "</table>\n"
            ]
          },
          "metadata": {
            "tags": []
          }
        }
      ]
    },
    {
      "cell_type": "markdown",
      "metadata": {
        "id": "CYU9CHggHQGs"
      },
      "source": [
        "**Now combine those df using col bind and subtract 2016 from 2019 and divide 2019 by 2016.**"
      ]
    },
    {
      "cell_type": "code",
      "metadata": {
        "colab": {
          "base_uri": "https://localhost:8080/",
          "height": 252
        },
        "id": "_DnXgrfVCUmn",
        "outputId": "12e5d8a0-52e5-47ca-eff9-5de2ac35abf7"
      },
      "source": [
        "new_data <- cbind(Race_totals_2016 , Race_totals_2019 )\n",
        "new_data"
      ],
      "execution_count": 40,
      "outputs": [
        {
          "output_type": "display_data",
          "data": {
            "text/plain": [
              "  Race          sum   Race          sum_2019\n",
              "1 Asian           300 Asian           278   \n",
              "2 Black         13555 Black         12456   \n",
              "3 Hispanic       3071 Hispanic       2937   \n",
              "4 Other.Unknown   382 Other.Unknown   363   \n",
              "5 White         24087 White         19561   "
            ],
            "text/latex": "A data.frame: 5 × 4\n\\begin{tabular}{llll}\n Race & sum & Race & sum\\_2019\\\\\n <chr> & <dbl> & <chr> & <dbl>\\\\\n\\hline\n\t Asian         &   300 & Asian         &   278\\\\\n\t Black         & 13555 & Black         & 12456\\\\\n\t Hispanic      &  3071 & Hispanic      &  2937\\\\\n\t Other.Unknown &   382 & Other.Unknown &   363\\\\\n\t White         & 24087 & White         & 19561\\\\\n\\end{tabular}\n",
            "text/markdown": "\nA data.frame: 5 × 4\n\n| Race &lt;chr&gt; | sum &lt;dbl&gt; | Race &lt;chr&gt; | sum_2019 &lt;dbl&gt; |\n|---|---|---|---|\n| Asian         |   300 | Asian         |   278 |\n| Black         | 13555 | Black         | 12456 |\n| Hispanic      |  3071 | Hispanic      |  2937 |\n| Other.Unknown |   382 | Other.Unknown |   363 |\n| White         | 24087 | White         | 19561 |\n\n",
            "text/html": [
              "<table class=\"dataframe\">\n",
              "<caption>A data.frame: 5 × 4</caption>\n",
              "<thead>\n",
              "\t<tr><th scope=col>Race</th><th scope=col>sum</th><th scope=col>Race</th><th scope=col>sum_2019</th></tr>\n",
              "\t<tr><th scope=col>&lt;chr&gt;</th><th scope=col>&lt;dbl&gt;</th><th scope=col>&lt;chr&gt;</th><th scope=col>&lt;dbl&gt;</th></tr>\n",
              "</thead>\n",
              "<tbody>\n",
              "\t<tr><td>Asian        </td><td>  300</td><td>Asian        </td><td>  278</td></tr>\n",
              "\t<tr><td>Black        </td><td>13555</td><td>Black        </td><td>12456</td></tr>\n",
              "\t<tr><td>Hispanic     </td><td> 3071</td><td>Hispanic     </td><td> 2937</td></tr>\n",
              "\t<tr><td>Other.Unknown</td><td>  382</td><td>Other.Unknown</td><td>  363</td></tr>\n",
              "\t<tr><td>White        </td><td>24087</td><td>White        </td><td>19561</td></tr>\n",
              "</tbody>\n",
              "</table>\n"
            ]
          },
          "metadata": {
            "tags": []
          }
        }
      ]
    },
    {
      "cell_type": "code",
      "metadata": {
        "colab": {
          "base_uri": "https://localhost:8080/",
          "height": 252
        },
        "id": "Gday8_VYGnAi",
        "outputId": "34c8dcf2-3c51-4737-ae00-539f4a5049e5"
      },
      "source": [
        "new_data$difference <- new_data$sum_2019 - new_data$sum\n",
        "new_data"
      ],
      "execution_count": 41,
      "outputs": [
        {
          "output_type": "display_data",
          "data": {
            "text/plain": [
              "  Race          sum   Race          sum_2019 difference\n",
              "1 Asian           300 Asian           278      -22     \n",
              "2 Black         13555 Black         12456    -1099     \n",
              "3 Hispanic       3071 Hispanic       2937     -134     \n",
              "4 Other.Unknown   382 Other.Unknown   363      -19     \n",
              "5 White         24087 White         19561    -4526     "
            ],
            "text/latex": "A data.frame: 5 × 5\n\\begin{tabular}{lllll}\n Race & sum & Race & sum\\_2019 & difference\\\\\n <chr> & <dbl> & <chr> & <dbl> & <dbl>\\\\\n\\hline\n\t Asian         &   300 & Asian         &   278 &   -22\\\\\n\t Black         & 13555 & Black         & 12456 & -1099\\\\\n\t Hispanic      &  3071 & Hispanic      &  2937 &  -134\\\\\n\t Other.Unknown &   382 & Other.Unknown &   363 &   -19\\\\\n\t White         & 24087 & White         & 19561 & -4526\\\\\n\\end{tabular}\n",
            "text/markdown": "\nA data.frame: 5 × 5\n\n| Race &lt;chr&gt; | sum &lt;dbl&gt; | Race &lt;chr&gt; | sum_2019 &lt;dbl&gt; | difference &lt;dbl&gt; |\n|---|---|---|---|---|\n| Asian         |   300 | Asian         |   278 |   -22 |\n| Black         | 13555 | Black         | 12456 | -1099 |\n| Hispanic      |  3071 | Hispanic      |  2937 |  -134 |\n| Other.Unknown |   382 | Other.Unknown |   363 |   -19 |\n| White         | 24087 | White         | 19561 | -4526 |\n\n",
            "text/html": [
              "<table class=\"dataframe\">\n",
              "<caption>A data.frame: 5 × 5</caption>\n",
              "<thead>\n",
              "\t<tr><th scope=col>Race</th><th scope=col>sum</th><th scope=col>Race</th><th scope=col>sum_2019</th><th scope=col>difference</th></tr>\n",
              "\t<tr><th scope=col>&lt;chr&gt;</th><th scope=col>&lt;dbl&gt;</th><th scope=col>&lt;chr&gt;</th><th scope=col>&lt;dbl&gt;</th><th scope=col>&lt;dbl&gt;</th></tr>\n",
              "</thead>\n",
              "<tbody>\n",
              "\t<tr><td>Asian        </td><td>  300</td><td>Asian        </td><td>  278</td><td>  -22</td></tr>\n",
              "\t<tr><td>Black        </td><td>13555</td><td>Black        </td><td>12456</td><td>-1099</td></tr>\n",
              "\t<tr><td>Hispanic     </td><td> 3071</td><td>Hispanic     </td><td> 2937</td><td> -134</td></tr>\n",
              "\t<tr><td>Other.Unknown</td><td>  382</td><td>Other.Unknown</td><td>  363</td><td>  -19</td></tr>\n",
              "\t<tr><td>White        </td><td>24087</td><td>White        </td><td>19561</td><td>-4526</td></tr>\n",
              "</tbody>\n",
              "</table>\n"
            ]
          },
          "metadata": {
            "tags": []
          }
        }
      ]
    },
    {
      "cell_type": "code",
      "metadata": {
        "colab": {
          "base_uri": "https://localhost:8080/",
          "height": 252
        },
        "id": "0r83budMCUi2",
        "outputId": "6b65b969-de5b-4a70-cbda-a70ce710bf35"
      },
      "source": [
        "new_data$divison <- new_data$sum_2019 / new_data$sum\n",
        "new_data"
      ],
      "execution_count": 42,
      "outputs": [
        {
          "output_type": "display_data",
          "data": {
            "text/plain": [
              "  Race          sum   Race          sum_2019 difference divison  \n",
              "1 Asian           300 Asian           278      -22      0.9266667\n",
              "2 Black         13555 Black         12456    -1099      0.9189229\n",
              "3 Hispanic       3071 Hispanic       2937     -134      0.9563660\n",
              "4 Other.Unknown   382 Other.Unknown   363      -19      0.9502618\n",
              "5 White         24087 White         19561    -4526      0.8120978"
            ],
            "text/latex": "A data.frame: 5 × 6\n\\begin{tabular}{llllll}\n Race & sum & Race & sum\\_2019 & difference & divison\\\\\n <chr> & <dbl> & <chr> & <dbl> & <dbl> & <dbl>\\\\\n\\hline\n\t Asian         &   300 & Asian         &   278 &   -22 & 0.9266667\\\\\n\t Black         & 13555 & Black         & 12456 & -1099 & 0.9189229\\\\\n\t Hispanic      &  3071 & Hispanic      &  2937 &  -134 & 0.9563660\\\\\n\t Other.Unknown &   382 & Other.Unknown &   363 &   -19 & 0.9502618\\\\\n\t White         & 24087 & White         & 19561 & -4526 & 0.8120978\\\\\n\\end{tabular}\n",
            "text/markdown": "\nA data.frame: 5 × 6\n\n| Race &lt;chr&gt; | sum &lt;dbl&gt; | Race &lt;chr&gt; | sum_2019 &lt;dbl&gt; | difference &lt;dbl&gt; | divison &lt;dbl&gt; |\n|---|---|---|---|---|---|\n| Asian         |   300 | Asian         |   278 |   -22 | 0.9266667 |\n| Black         | 13555 | Black         | 12456 | -1099 | 0.9189229 |\n| Hispanic      |  3071 | Hispanic      |  2937 |  -134 | 0.9563660 |\n| Other.Unknown |   382 | Other.Unknown |   363 |   -19 | 0.9502618 |\n| White         | 24087 | White         | 19561 | -4526 | 0.8120978 |\n\n",
            "text/html": [
              "<table class=\"dataframe\">\n",
              "<caption>A data.frame: 5 × 6</caption>\n",
              "<thead>\n",
              "\t<tr><th scope=col>Race</th><th scope=col>sum</th><th scope=col>Race</th><th scope=col>sum_2019</th><th scope=col>difference</th><th scope=col>divison</th></tr>\n",
              "\t<tr><th scope=col>&lt;chr&gt;</th><th scope=col>&lt;dbl&gt;</th><th scope=col>&lt;chr&gt;</th><th scope=col>&lt;dbl&gt;</th><th scope=col>&lt;dbl&gt;</th><th scope=col>&lt;dbl&gt;</th></tr>\n",
              "</thead>\n",
              "<tbody>\n",
              "\t<tr><td>Asian        </td><td>  300</td><td>Asian        </td><td>  278</td><td>  -22</td><td>0.9266667</td></tr>\n",
              "\t<tr><td>Black        </td><td>13555</td><td>Black        </td><td>12456</td><td>-1099</td><td>0.9189229</td></tr>\n",
              "\t<tr><td>Hispanic     </td><td> 3071</td><td>Hispanic     </td><td> 2937</td><td> -134</td><td>0.9563660</td></tr>\n",
              "\t<tr><td>Other.Unknown</td><td>  382</td><td>Other.Unknown</td><td>  363</td><td>  -19</td><td>0.9502618</td></tr>\n",
              "\t<tr><td>White        </td><td>24087</td><td>White        </td><td>19561</td><td>-4526</td><td>0.8120978</td></tr>\n",
              "</tbody>\n",
              "</table>\n"
            ]
          },
          "metadata": {
            "tags": []
          }
        }
      ]
    },
    {
      "cell_type": "code",
      "metadata": {
        "colab": {
          "base_uri": "https://localhost:8080/",
          "height": 252
        },
        "id": "zVq5g9QNCUfA",
        "outputId": "1d9784a9-a670-4470-9417-f3ea69ca2b18"
      },
      "source": [
        "new_data <- addCol(new_data, one=1)\n",
        "new_data"
      ],
      "execution_count": 43,
      "outputs": [
        {
          "output_type": "display_data",
          "data": {
            "text/plain": [
              "  Race          sum   Race          sum_2019 difference divison   one\n",
              "1 Asian           300 Asian           278      -22      0.9266667 1  \n",
              "2 Black         13555 Black         12456    -1099      0.9189229 1  \n",
              "3 Hispanic       3071 Hispanic       2937     -134      0.9563660 1  \n",
              "4 Other.Unknown   382 Other.Unknown   363      -19      0.9502618 1  \n",
              "5 White         24087 White         19561    -4526      0.8120978 1  "
            ],
            "text/latex": "A data.frame: 5 × 7\n\\begin{tabular}{lllllll}\n Race & sum & Race & sum\\_2019 & difference & divison & one\\\\\n <chr> & <dbl> & <chr> & <dbl> & <dbl> & <dbl> & <list>\\\\\n\\hline\n\t Asian         &   300 & Asian         &   278 &   -22 & 0.9266667 & 1\\\\\n\t Black         & 13555 & Black         & 12456 & -1099 & 0.9189229 & 1\\\\\n\t Hispanic      &  3071 & Hispanic      &  2937 &  -134 & 0.9563660 & 1\\\\\n\t Other.Unknown &   382 & Other.Unknown &   363 &   -19 & 0.9502618 & 1\\\\\n\t White         & 24087 & White         & 19561 & -4526 & 0.8120978 & 1\\\\\n\\end{tabular}\n",
            "text/markdown": "\nA data.frame: 5 × 7\n\n| Race &lt;chr&gt; | sum &lt;dbl&gt; | Race &lt;chr&gt; | sum_2019 &lt;dbl&gt; | difference &lt;dbl&gt; | divison &lt;dbl&gt; | one &lt;list&gt; |\n|---|---|---|---|---|---|---|\n| Asian         |   300 | Asian         |   278 |   -22 | 0.9266667 | 1 |\n| Black         | 13555 | Black         | 12456 | -1099 | 0.9189229 | 1 |\n| Hispanic      |  3071 | Hispanic      |  2937 |  -134 | 0.9563660 | 1 |\n| Other.Unknown |   382 | Other.Unknown |   363 |   -19 | 0.9502618 | 1 |\n| White         | 24087 | White         | 19561 | -4526 | 0.8120978 | 1 |\n\n",
            "text/html": [
              "<table class=\"dataframe\">\n",
              "<caption>A data.frame: 5 × 7</caption>\n",
              "<thead>\n",
              "\t<tr><th scope=col>Race</th><th scope=col>sum</th><th scope=col>Race</th><th scope=col>sum_2019</th><th scope=col>difference</th><th scope=col>divison</th><th scope=col>one</th></tr>\n",
              "\t<tr><th scope=col>&lt;chr&gt;</th><th scope=col>&lt;dbl&gt;</th><th scope=col>&lt;chr&gt;</th><th scope=col>&lt;dbl&gt;</th><th scope=col>&lt;dbl&gt;</th><th scope=col>&lt;dbl&gt;</th><th scope=col>&lt;list&gt;</th></tr>\n",
              "</thead>\n",
              "<tbody>\n",
              "\t<tr><td>Asian        </td><td>  300</td><td>Asian        </td><td>  278</td><td>  -22</td><td>0.9266667</td><td>1</td></tr>\n",
              "\t<tr><td>Black        </td><td>13555</td><td>Black        </td><td>12456</td><td>-1099</td><td>0.9189229</td><td>1</td></tr>\n",
              "\t<tr><td>Hispanic     </td><td> 3071</td><td>Hispanic     </td><td> 2937</td><td> -134</td><td>0.9563660</td><td>1</td></tr>\n",
              "\t<tr><td>Other.Unknown</td><td>  382</td><td>Other.Unknown</td><td>  363</td><td>  -19</td><td>0.9502618</td><td>1</td></tr>\n",
              "\t<tr><td>White        </td><td>24087</td><td>White        </td><td>19561</td><td>-4526</td><td>0.8120978</td><td>1</td></tr>\n",
              "</tbody>\n",
              "</table>\n"
            ]
          },
          "metadata": {
            "tags": []
          }
        }
      ]
    },
    {
      "cell_type": "code",
      "metadata": {
        "id": "v3ozeCgsJccm"
      },
      "source": [
        "new_data$one <- as.numeric(new_data$one)"
      ],
      "execution_count": 44,
      "outputs": []
    },
    {
      "cell_type": "markdown",
      "metadata": {
        "id": "gxOcq51lIwcK"
      },
      "source": [
        "**To get the Pct difference we subtract pct_diff from 1**"
      ]
    },
    {
      "cell_type": "code",
      "metadata": {
        "colab": {
          "base_uri": "https://localhost:8080/",
          "height": 252
        },
        "id": "e1QJ4MDZZC9Q",
        "outputId": "e663b072-8856-4669-95c2-614e02d3a0e8"
      },
      "source": [
        "new_data$pct_change <- ((new_data$one - new_data$divison)*-1)\n",
        "\n",
        "new_data"
      ],
      "execution_count": 48,
      "outputs": [
        {
          "output_type": "display_data",
          "data": {
            "text/plain": [
              "  Race          sum   Race          sum_2019 difference divison   one\n",
              "1 Asian           300 Asian           278      -22      0.9266667 1  \n",
              "2 Black         13555 Black         12456    -1099      0.9189229 1  \n",
              "3 Hispanic       3071 Hispanic       2937     -134      0.9563660 1  \n",
              "4 Other.Unknown   382 Other.Unknown   363      -19      0.9502618 1  \n",
              "5 White         24087 White         19561    -4526      0.8120978 1  \n",
              "  pct_difference pct_change \n",
              "1 -0.07333333    -0.07333333\n",
              "2 -0.08107709    -0.08107709\n",
              "3 -0.04363400    -0.04363400\n",
              "4 -0.04973822    -0.04973822\n",
              "5 -0.18790219    -0.18790219"
            ],
            "text/latex": "A data.frame: 5 × 9\n\\begin{tabular}{lllllllll}\n Race & sum & Race & sum\\_2019 & difference & divison & one & pct\\_difference & pct\\_change\\\\\n <chr> & <dbl> & <chr> & <dbl> & <dbl> & <dbl> & <dbl> & <dbl> & <dbl>\\\\\n\\hline\n\t Asian         &   300 & Asian         &   278 &   -22 & 0.9266667 & 1 & -0.07333333 & -0.07333333\\\\\n\t Black         & 13555 & Black         & 12456 & -1099 & 0.9189229 & 1 & -0.08107709 & -0.08107709\\\\\n\t Hispanic      &  3071 & Hispanic      &  2937 &  -134 & 0.9563660 & 1 & -0.04363400 & -0.04363400\\\\\n\t Other.Unknown &   382 & Other.Unknown &   363 &   -19 & 0.9502618 & 1 & -0.04973822 & -0.04973822\\\\\n\t White         & 24087 & White         & 19561 & -4526 & 0.8120978 & 1 & -0.18790219 & -0.18790219\\\\\n\\end{tabular}\n",
            "text/markdown": "\nA data.frame: 5 × 9\n\n| Race &lt;chr&gt; | sum &lt;dbl&gt; | Race &lt;chr&gt; | sum_2019 &lt;dbl&gt; | difference &lt;dbl&gt; | divison &lt;dbl&gt; | one &lt;dbl&gt; | pct_difference &lt;dbl&gt; | pct_change &lt;dbl&gt; |\n|---|---|---|---|---|---|---|---|---|\n| Asian         |   300 | Asian         |   278 |   -22 | 0.9266667 | 1 | -0.07333333 | -0.07333333 |\n| Black         | 13555 | Black         | 12456 | -1099 | 0.9189229 | 1 | -0.08107709 | -0.08107709 |\n| Hispanic      |  3071 | Hispanic      |  2937 |  -134 | 0.9563660 | 1 | -0.04363400 | -0.04363400 |\n| Other.Unknown |   382 | Other.Unknown |   363 |   -19 | 0.9502618 | 1 | -0.04973822 | -0.04973822 |\n| White         | 24087 | White         | 19561 | -4526 | 0.8120978 | 1 | -0.18790219 | -0.18790219 |\n\n",
            "text/html": [
              "<table class=\"dataframe\">\n",
              "<caption>A data.frame: 5 × 9</caption>\n",
              "<thead>\n",
              "\t<tr><th scope=col>Race</th><th scope=col>sum</th><th scope=col>Race</th><th scope=col>sum_2019</th><th scope=col>difference</th><th scope=col>divison</th><th scope=col>one</th><th scope=col>pct_difference</th><th scope=col>pct_change</th></tr>\n",
              "\t<tr><th scope=col>&lt;chr&gt;</th><th scope=col>&lt;dbl&gt;</th><th scope=col>&lt;chr&gt;</th><th scope=col>&lt;dbl&gt;</th><th scope=col>&lt;dbl&gt;</th><th scope=col>&lt;dbl&gt;</th><th scope=col>&lt;dbl&gt;</th><th scope=col>&lt;dbl&gt;</th><th scope=col>&lt;dbl&gt;</th></tr>\n",
              "</thead>\n",
              "<tbody>\n",
              "\t<tr><td>Asian        </td><td>  300</td><td>Asian        </td><td>  278</td><td>  -22</td><td>0.9266667</td><td>1</td><td>-0.07333333</td><td>-0.07333333</td></tr>\n",
              "\t<tr><td>Black        </td><td>13555</td><td>Black        </td><td>12456</td><td>-1099</td><td>0.9189229</td><td>1</td><td>-0.08107709</td><td>-0.08107709</td></tr>\n",
              "\t<tr><td>Hispanic     </td><td> 3071</td><td>Hispanic     </td><td> 2937</td><td> -134</td><td>0.9563660</td><td>1</td><td>-0.04363400</td><td>-0.04363400</td></tr>\n",
              "\t<tr><td>Other.Unknown</td><td>  382</td><td>Other.Unknown</td><td>  363</td><td>  -19</td><td>0.9502618</td><td>1</td><td>-0.04973822</td><td>-0.04973822</td></tr>\n",
              "\t<tr><td>White        </td><td>24087</td><td>White        </td><td>19561</td><td>-4526</td><td>0.8120978</td><td>1</td><td>-0.18790219</td><td>-0.18790219</td></tr>\n",
              "</tbody>\n",
              "</table>\n"
            ]
          },
          "metadata": {
            "tags": []
          }
        }
      ]
    },
    {
      "cell_type": "markdown",
      "metadata": {
        "id": "pVYLujT9cKRT"
      },
      "source": [
        "**The change overtime vis e vis Race/Ethnicity is in the \"pct_change\" column.**"
      ]
    },
    {
      "cell_type": "code",
      "metadata": {
        "id": "WXW7yD-vCUPw"
      },
      "source": [
        ""
      ],
      "execution_count": null,
      "outputs": []
    },
    {
      "cell_type": "markdown",
      "metadata": {
        "id": "hOBGM4S75RvT"
      },
      "source": [
        "#  Fifth Question\n",
        "\n",
        "### **Create Visualizations**\n",
        "\n",
        "\n"
      ]
    },
    {
      "cell_type": "markdown",
      "metadata": {
        "id": "5pEa_PWS5egJ"
      },
      "source": [
        "## Chart 1: Total Arests"
      ]
    },
    {
      "cell_type": "code",
      "metadata": {
        "colab": {
          "base_uri": "https://localhost:8080/",
          "height": 917
        },
        "id": "-VQ-e90iMjdq",
        "outputId": "f413c24a-0f65-4f13-c1a3-d53be64baea3"
      },
      "source": [
        "ggplot(CGR_gender_compiled, aes(x= Year , y = Total.Arrests , fill = Year)) +\n",
        "        geom_bar(stat = \"identity\") +\n",
        "        theme(text = element_text(size=20),\n",
        "                                axis.text.x = element_text(angle=0, hjust=1))+\n",
        "                                ylim(0 ,2000)+\n",
        "        geom_hline(yintercept= 0, linetype=\"solid\", \n",
        "                color = \"black\", size=1.5)+\n",
        "                theme(text = element_text(size=20),\n",
        "                                axis.text.x = element_text(angle=0, hjust=1)) +\n",
        "                labs(title = \"Total Arrests By Year All Counties\",\n",
        "                subtitle = \"\")+\n",
        "                 theme(plot.background = element_rect(fill = \"light blue\"),\n",
        "                      panel.background = element_rect(fill = \"light blue\"))"
      ],
      "execution_count": 80,
      "outputs": [
        {
          "output_type": "display_data",
          "data": {
            "image/png": "[encoded data removed]",
            "text/plain": [
              "plot without title"
            ]
          },
          "metadata": {
            "tags": [],
            "image/png": {
              "width": 840,
              "height": 900
            }
          }
        }
      ]
    },
    {
      "cell_type": "markdown",
      "metadata": {
        "id": "rQt08swT5izq"
      },
      "source": [
        "## Chart 2: Total Arrests By Gender"
      ]
    },
    {
      "cell_type": "code",
      "metadata": {
        "id": "GQbtSEj9OF5n"
      },
      "source": [
        "# bar graph of men and women totala arrrests"
      ],
      "execution_count": null,
      "outputs": []
    },
    {
      "cell_type": "code",
      "metadata": {
        "id": "cYUeIeYwOjlO"
      },
      "source": [
        ""
      ],
      "execution_count": null,
      "outputs": []
    }
  ]
}