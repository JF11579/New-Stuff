{
  "nbformat": 4,
  "nbformat_minor": 0,
  "metadata": {
    "colab": {
      "name": "ACLED_2.ipynb",
      "provenance": [],
      "collapsed_sections": [],
      "authorship_tag": "ABX9TyN7TK9ihswqh5BXF1Q6U50F",
      "include_colab_link": true
    },
    "kernelspec": {
      "name": "ir",
      "display_name": "R"
    },
    "language_info": {
      "name": "R"
    }
  },
  "cells": [
    {
      "cell_type": "markdown",
      "metadata": {
        "id": "view-in-github",
        "colab_type": "text"
      },
      "source": [
        "<a href=\"https://colab.research.google.com/github/JF11579/New-Stuff/blob/main/ACLED_2.ipynb\" target=\"_parent\"><img src=\"https://colab.research.google.com/assets/colab-badge.svg\" alt=\"Open In Colab\"/></a>"
      ]
    },
    {
      "cell_type": "markdown",
      "metadata": {
        "id": "JZOSh6nOw-iO"
      },
      "source": [
        "#Notes\n",
        "\n",
        "In the fighting in South sudan the sides are fluid.  Who fights with you one day may fight against you the next.  Here we put a number on the number of times each pair fought together v the number of times they opposed each other.\n",
        "\n",
        "But to make sure our methodology is working we first tried it out on the baby set of data below."
      ]
    },
    {
      "cell_type": "markdown",
      "metadata": {
        "id": "vrR_77iQxiCo"
      },
      "source": [
        "# Options"
      ]
    },
    {
      "cell_type": "code",
      "metadata": {
        "id": "Sq6Nh8rnxx2x"
      },
      "source": [
        "# Lets eliminate exponents\n",
        "options(scipen = 999) \n",
        "\n",
        "#this enlarges graphs in colab\n",
        "options(repr.plot.width=14, repr.plot.height=10)"
      ],
      "execution_count": 1,
      "outputs": []
    },
    {
      "cell_type": "markdown",
      "metadata": {
        "id": "29fMDV57xojX"
      },
      "source": [
        "# Packages"
      ]
    },
    {
      "cell_type": "code",
      "metadata": {
        "id": "x1uxOScDxvTh"
      },
      "source": [
        "library(tidyverse)\n",
        "library(ggplot2)\n",
        "library(lubridate)\n",
        "\n",
        "\n"
      ],
      "execution_count": 41,
      "outputs": []
    },
    {
      "cell_type": "markdown",
      "metadata": {
        "id": "okdns-dnxsUP"
      },
      "source": [
        "# Data\n",
        "\n",
        "https://docs.google.com/spreadsheets/d/e/2PACX-1vR8pRO0a4SwscPEnSqsZT6RQM_L7ocmwKQ10nu6qQ_mlLKPReP2KmszxwJaYRtaQ_1N5vfSfDSbZtpw/pubhtml"
      ]
    },
    {
      "cell_type": "code",
      "metadata": {
        "id": "HVr8MOqPg8OK"
      },
      "source": [
        " data <- read.csv(\"/content/Marcos_Names_2 - Sheet1.csv\")"
      ],
      "execution_count": 42,
      "outputs": []
    },
    {
      "cell_type": "code",
      "metadata": {
        "colab": {
          "base_uri": "https://localhost:8080/",
          "height": 475
        },
        "id": "JzrtPPKvg79V",
        "outputId": "dcc1dcd0-14aa-41be-8496-dc01548ce25e"
      },
      "source": [
        "data"
      ],
      "execution_count": 43,
      "outputs": [
        {
          "output_type": "display_data",
          "data": {
            "text/plain": [
              "   Actor_1 Actor_1_assistant Actor_2 Actor._2_assistant Conflict_Number\n",
              "1  Ann     Bill              Carl    Dave                10            \n",
              "2  Ann     Bill              Carl    Doug                20            \n",
              "3  Ann     Ben               Bill    Dean                30            \n",
              "4  Ann     Ben               Bill    Derek               40            \n",
              "5  Amanda  Bill              Chris   Darrel              50            \n",
              "6  Amanda  Ben               Casey   Darrel              60            \n",
              "7  Amanda  Bob               Casey   Dave                70            \n",
              "8  Amanda  Brad              Deon    Dwight              80            \n",
              "9  Ashley  Brad              Ben     Donald              90            \n",
              "10 Ashley  Britt             Ben     Drew               100            \n",
              "11 Ashley  Brian             Bill    Casey              110            \n",
              "12 Ashley  Bert              Bill    Carl               120            "
            ],
            "text/latex": "A data.frame: 12 × 5\n\\begin{tabular}{lllll}\n Actor\\_1 & Actor\\_1\\_assistant & Actor\\_2 & Actor.\\_2\\_assistant & Conflict\\_Number\\\\\n <chr> & <chr> & <chr> & <chr> & <int>\\\\\n\\hline\n\t Ann    & Bill  & Carl  & Dave   &  10\\\\\n\t Ann    & Bill  & Carl  & Doug   &  20\\\\\n\t Ann    & Ben   & Bill  & Dean   &  30\\\\\n\t Ann    & Ben   & Bill  & Derek  &  40\\\\\n\t Amanda & Bill  & Chris & Darrel &  50\\\\\n\t Amanda & Ben   & Casey & Darrel &  60\\\\\n\t Amanda & Bob   & Casey & Dave   &  70\\\\\n\t Amanda & Brad  & Deon  & Dwight &  80\\\\\n\t Ashley & Brad  & Ben   & Donald &  90\\\\\n\t Ashley & Britt & Ben   & Drew   & 100\\\\\n\t Ashley & Brian & Bill  & Casey  & 110\\\\\n\t Ashley & Bert  & Bill  & Carl   & 120\\\\\n\\end{tabular}\n",
            "text/markdown": "\nA data.frame: 12 × 5\n\n| Actor_1 &lt;chr&gt; | Actor_1_assistant &lt;chr&gt; | Actor_2 &lt;chr&gt; | Actor._2_assistant &lt;chr&gt; | Conflict_Number &lt;int&gt; |\n|---|---|---|---|---|\n| Ann    | Bill  | Carl  | Dave   |  10 |\n| Ann    | Bill  | Carl  | Doug   |  20 |\n| Ann    | Ben   | Bill  | Dean   |  30 |\n| Ann    | Ben   | Bill  | Derek  |  40 |\n| Amanda | Bill  | Chris | Darrel |  50 |\n| Amanda | Ben   | Casey | Darrel |  60 |\n| Amanda | Bob   | Casey | Dave   |  70 |\n| Amanda | Brad  | Deon  | Dwight |  80 |\n| Ashley | Brad  | Ben   | Donald |  90 |\n| Ashley | Britt | Ben   | Drew   | 100 |\n| Ashley | Brian | Bill  | Casey  | 110 |\n| Ashley | Bert  | Bill  | Carl   | 120 |\n\n",
            "text/html": [
              "<table class=\"dataframe\">\n",
              "<caption>A data.frame: 12 × 5</caption>\n",
              "<thead>\n",
              "\t<tr><th scope=col>Actor_1</th><th scope=col>Actor_1_assistant</th><th scope=col>Actor_2</th><th scope=col>Actor._2_assistant</th><th scope=col>Conflict_Number</th></tr>\n",
              "\t<tr><th scope=col>&lt;chr&gt;</th><th scope=col>&lt;chr&gt;</th><th scope=col>&lt;chr&gt;</th><th scope=col>&lt;chr&gt;</th><th scope=col>&lt;int&gt;</th></tr>\n",
              "</thead>\n",
              "<tbody>\n",
              "\t<tr><td>Ann   </td><td>Bill </td><td>Carl </td><td>Dave  </td><td> 10</td></tr>\n",
              "\t<tr><td>Ann   </td><td>Bill </td><td>Carl </td><td>Doug  </td><td> 20</td></tr>\n",
              "\t<tr><td>Ann   </td><td>Ben  </td><td>Bill </td><td>Dean  </td><td> 30</td></tr>\n",
              "\t<tr><td>Ann   </td><td>Ben  </td><td>Bill </td><td>Derek </td><td> 40</td></tr>\n",
              "\t<tr><td>Amanda</td><td>Bill </td><td>Chris</td><td>Darrel</td><td> 50</td></tr>\n",
              "\t<tr><td>Amanda</td><td>Ben  </td><td>Casey</td><td>Darrel</td><td> 60</td></tr>\n",
              "\t<tr><td>Amanda</td><td>Bob  </td><td>Casey</td><td>Dave  </td><td> 70</td></tr>\n",
              "\t<tr><td>Amanda</td><td>Brad </td><td>Deon </td><td>Dwight</td><td> 80</td></tr>\n",
              "\t<tr><td>Ashley</td><td>Brad </td><td>Ben  </td><td>Donald</td><td> 90</td></tr>\n",
              "\t<tr><td>Ashley</td><td>Britt</td><td>Ben  </td><td>Drew  </td><td>100</td></tr>\n",
              "\t<tr><td>Ashley</td><td>Brian</td><td>Bill </td><td>Casey </td><td>110</td></tr>\n",
              "\t<tr><td>Ashley</td><td>Bert </td><td>Bill </td><td>Carl  </td><td>120</td></tr>\n",
              "</tbody>\n",
              "</table>\n"
            ]
          },
          "metadata": {
            "tags": []
          }
        }
      ]
    },
    {
      "cell_type": "markdown",
      "metadata": {
        "id": "-hvdfzyMoO4G"
      },
      "source": [
        "We use group by.  We look at each row and create a new variable for each count.  Below the new column is **Actor_1_AGAINST_Actor_2**.  Later we will create a collumn of **Actor_1_WITH_Actor_1_Asst** and subtract one from the other."
      ]
    },
    {
      "cell_type": "code",
      "metadata": {
        "id": "HDJUfcnDiSZp"
      },
      "source": [
        "Actor_1_AGAINST_Actor_2 <- data %>% group_by(Actor_1 , Actor_2 ) %>% mutate(Actor_1_AGAINST_Actor_2 = n())\n"
      ],
      "execution_count": 44,
      "outputs": []
    },
    {
      "cell_type": "code",
      "metadata": {
        "colab": {
          "base_uri": "https://localhost:8080/",
          "height": 475
        },
        "id": "5iSPyaCXisL_",
        "outputId": "41be841b-f565-4b1d-a704-57cc8503bc87"
      },
      "source": [
        "Actor_1_AGAINST_Actor_2"
      ],
      "execution_count": 45,
      "outputs": [
        {
          "output_type": "display_data",
          "data": {
            "text/plain": [
              "   Actor_1 Actor_1_assistant Actor_2 Actor._2_assistant Conflict_Number\n",
              "1  Ann     Bill              Carl    Dave                10            \n",
              "2  Ann     Bill              Carl    Doug                20            \n",
              "3  Ann     Ben               Bill    Dean                30            \n",
              "4  Ann     Ben               Bill    Derek               40            \n",
              "5  Amanda  Bill              Chris   Darrel              50            \n",
              "6  Amanda  Ben               Casey   Darrel              60            \n",
              "7  Amanda  Bob               Casey   Dave                70            \n",
              "8  Amanda  Brad              Deon    Dwight              80            \n",
              "9  Ashley  Brad              Ben     Donald              90            \n",
              "10 Ashley  Britt             Ben     Drew               100            \n",
              "11 Ashley  Brian             Bill    Casey              110            \n",
              "12 Ashley  Bert              Bill    Carl               120            \n",
              "   Actor_1_AGAINST_Actor_2\n",
              "1  2                      \n",
              "2  2                      \n",
              "3  2                      \n",
              "4  2                      \n",
              "5  1                      \n",
              "6  2                      \n",
              "7  2                      \n",
              "8  1                      \n",
              "9  2                      \n",
              "10 2                      \n",
              "11 2                      \n",
              "12 2                      "
            ],
            "text/latex": "A grouped\\_df: 12 × 6\n\\begin{tabular}{llllll}\n Actor\\_1 & Actor\\_1\\_assistant & Actor\\_2 & Actor.\\_2\\_assistant & Conflict\\_Number & Actor\\_1\\_AGAINST\\_Actor\\_2\\\\\n <chr> & <chr> & <chr> & <chr> & <int> & <int>\\\\\n\\hline\n\t Ann    & Bill  & Carl  & Dave   &  10 & 2\\\\\n\t Ann    & Bill  & Carl  & Doug   &  20 & 2\\\\\n\t Ann    & Ben   & Bill  & Dean   &  30 & 2\\\\\n\t Ann    & Ben   & Bill  & Derek  &  40 & 2\\\\\n\t Amanda & Bill  & Chris & Darrel &  50 & 1\\\\\n\t Amanda & Ben   & Casey & Darrel &  60 & 2\\\\\n\t Amanda & Bob   & Casey & Dave   &  70 & 2\\\\\n\t Amanda & Brad  & Deon  & Dwight &  80 & 1\\\\\n\t Ashley & Brad  & Ben   & Donald &  90 & 2\\\\\n\t Ashley & Britt & Ben   & Drew   & 100 & 2\\\\\n\t Ashley & Brian & Bill  & Casey  & 110 & 2\\\\\n\t Ashley & Bert  & Bill  & Carl   & 120 & 2\\\\\n\\end{tabular}\n",
            "text/markdown": "\nA grouped_df: 12 × 6\n\n| Actor_1 &lt;chr&gt; | Actor_1_assistant &lt;chr&gt; | Actor_2 &lt;chr&gt; | Actor._2_assistant &lt;chr&gt; | Conflict_Number &lt;int&gt; | Actor_1_AGAINST_Actor_2 &lt;int&gt; |\n|---|---|---|---|---|---|\n| Ann    | Bill  | Carl  | Dave   |  10 | 2 |\n| Ann    | Bill  | Carl  | Doug   |  20 | 2 |\n| Ann    | Ben   | Bill  | Dean   |  30 | 2 |\n| Ann    | Ben   | Bill  | Derek  |  40 | 2 |\n| Amanda | Bill  | Chris | Darrel |  50 | 1 |\n| Amanda | Ben   | Casey | Darrel |  60 | 2 |\n| Amanda | Bob   | Casey | Dave   |  70 | 2 |\n| Amanda | Brad  | Deon  | Dwight |  80 | 1 |\n| Ashley | Brad  | Ben   | Donald |  90 | 2 |\n| Ashley | Britt | Ben   | Drew   | 100 | 2 |\n| Ashley | Brian | Bill  | Casey  | 110 | 2 |\n| Ashley | Bert  | Bill  | Carl   | 120 | 2 |\n\n",
            "text/html": [
              "<table class=\"dataframe\">\n",
              "<caption>A grouped_df: 12 × 6</caption>\n",
              "<thead>\n",
              "\t<tr><th scope=col>Actor_1</th><th scope=col>Actor_1_assistant</th><th scope=col>Actor_2</th><th scope=col>Actor._2_assistant</th><th scope=col>Conflict_Number</th><th scope=col>Actor_1_AGAINST_Actor_2</th></tr>\n",
              "\t<tr><th scope=col>&lt;chr&gt;</th><th scope=col>&lt;chr&gt;</th><th scope=col>&lt;chr&gt;</th><th scope=col>&lt;chr&gt;</th><th scope=col>&lt;int&gt;</th><th scope=col>&lt;int&gt;</th></tr>\n",
              "</thead>\n",
              "<tbody>\n",
              "\t<tr><td>Ann   </td><td>Bill </td><td>Carl </td><td>Dave  </td><td> 10</td><td>2</td></tr>\n",
              "\t<tr><td>Ann   </td><td>Bill </td><td>Carl </td><td>Doug  </td><td> 20</td><td>2</td></tr>\n",
              "\t<tr><td>Ann   </td><td>Ben  </td><td>Bill </td><td>Dean  </td><td> 30</td><td>2</td></tr>\n",
              "\t<tr><td>Ann   </td><td>Ben  </td><td>Bill </td><td>Derek </td><td> 40</td><td>2</td></tr>\n",
              "\t<tr><td>Amanda</td><td>Bill </td><td>Chris</td><td>Darrel</td><td> 50</td><td>1</td></tr>\n",
              "\t<tr><td>Amanda</td><td>Ben  </td><td>Casey</td><td>Darrel</td><td> 60</td><td>2</td></tr>\n",
              "\t<tr><td>Amanda</td><td>Bob  </td><td>Casey</td><td>Dave  </td><td> 70</td><td>2</td></tr>\n",
              "\t<tr><td>Amanda</td><td>Brad </td><td>Deon </td><td>Dwight</td><td> 80</td><td>1</td></tr>\n",
              "\t<tr><td>Ashley</td><td>Brad </td><td>Ben  </td><td>Donald</td><td> 90</td><td>2</td></tr>\n",
              "\t<tr><td>Ashley</td><td>Britt</td><td>Ben  </td><td>Drew  </td><td>100</td><td>2</td></tr>\n",
              "\t<tr><td>Ashley</td><td>Brian</td><td>Bill </td><td>Casey </td><td>110</td><td>2</td></tr>\n",
              "\t<tr><td>Ashley</td><td>Bert </td><td>Bill </td><td>Carl  </td><td>120</td><td>2</td></tr>\n",
              "</tbody>\n",
              "</table>\n"
            ]
          },
          "metadata": {
            "tags": []
          }
        }
      ]
    },
    {
      "cell_type": "code",
      "metadata": {
        "id": "fKf7MppjiR8e"
      },
      "source": [
        "Actor_1_AGAINST_Actor._2_assistant <- Actor_1_AGAINST_Actor_2 %>% group_by(Actor_1 , Actor._2_assistant ) %>% mutate(Actor_1_AGAINST_Actor._2_assistant  = n())\n"
      ],
      "execution_count": 46,
      "outputs": []
    },
    {
      "cell_type": "code",
      "metadata": {
        "colab": {
          "base_uri": "https://localhost:8080/",
          "height": 475
        },
        "id": "74F1zn6yiR3x",
        "outputId": "611b7e68-07f4-4d80-cbd5-98d72e2e6c0b"
      },
      "source": [
        "Actor_1_AGAINST_Actor._2_assistant"
      ],
      "execution_count": 47,
      "outputs": [
        {
          "output_type": "display_data",
          "data": {
            "text/plain": [
              "   Actor_1 Actor_1_assistant Actor_2 Actor._2_assistant Conflict_Number\n",
              "1  Ann     Bill              Carl    Dave                10            \n",
              "2  Ann     Bill              Carl    Doug                20            \n",
              "3  Ann     Ben               Bill    Dean                30            \n",
              "4  Ann     Ben               Bill    Derek               40            \n",
              "5  Amanda  Bill              Chris   Darrel              50            \n",
              "6  Amanda  Ben               Casey   Darrel              60            \n",
              "7  Amanda  Bob               Casey   Dave                70            \n",
              "8  Amanda  Brad              Deon    Dwight              80            \n",
              "9  Ashley  Brad              Ben     Donald              90            \n",
              "10 Ashley  Britt             Ben     Drew               100            \n",
              "11 Ashley  Brian             Bill    Casey              110            \n",
              "12 Ashley  Bert              Bill    Carl               120            \n",
              "   Actor_1_AGAINST_Actor_2 Actor_1_AGAINST_Actor._2_assistant\n",
              "1  2                       1                                 \n",
              "2  2                       1                                 \n",
              "3  2                       1                                 \n",
              "4  2                       1                                 \n",
              "5  1                       2                                 \n",
              "6  2                       2                                 \n",
              "7  2                       1                                 \n",
              "8  1                       1                                 \n",
              "9  2                       1                                 \n",
              "10 2                       1                                 \n",
              "11 2                       1                                 \n",
              "12 2                       1                                 "
            ],
            "text/latex": "A grouped\\_df: 12 × 7\n\\begin{tabular}{lllllll}\n Actor\\_1 & Actor\\_1\\_assistant & Actor\\_2 & Actor.\\_2\\_assistant & Conflict\\_Number & Actor\\_1\\_AGAINST\\_Actor\\_2 & Actor\\_1\\_AGAINST\\_Actor.\\_2\\_assistant\\\\\n <chr> & <chr> & <chr> & <chr> & <int> & <int> & <int>\\\\\n\\hline\n\t Ann    & Bill  & Carl  & Dave   &  10 & 2 & 1\\\\\n\t Ann    & Bill  & Carl  & Doug   &  20 & 2 & 1\\\\\n\t Ann    & Ben   & Bill  & Dean   &  30 & 2 & 1\\\\\n\t Ann    & Ben   & Bill  & Derek  &  40 & 2 & 1\\\\\n\t Amanda & Bill  & Chris & Darrel &  50 & 1 & 2\\\\\n\t Amanda & Ben   & Casey & Darrel &  60 & 2 & 2\\\\\n\t Amanda & Bob   & Casey & Dave   &  70 & 2 & 1\\\\\n\t Amanda & Brad  & Deon  & Dwight &  80 & 1 & 1\\\\\n\t Ashley & Brad  & Ben   & Donald &  90 & 2 & 1\\\\\n\t Ashley & Britt & Ben   & Drew   & 100 & 2 & 1\\\\\n\t Ashley & Brian & Bill  & Casey  & 110 & 2 & 1\\\\\n\t Ashley & Bert  & Bill  & Carl   & 120 & 2 & 1\\\\\n\\end{tabular}\n",
            "text/markdown": "\nA grouped_df: 12 × 7\n\n| Actor_1 &lt;chr&gt; | Actor_1_assistant &lt;chr&gt; | Actor_2 &lt;chr&gt; | Actor._2_assistant &lt;chr&gt; | Conflict_Number &lt;int&gt; | Actor_1_AGAINST_Actor_2 &lt;int&gt; | Actor_1_AGAINST_Actor._2_assistant &lt;int&gt; |\n|---|---|---|---|---|---|---|\n| Ann    | Bill  | Carl  | Dave   |  10 | 2 | 1 |\n| Ann    | Bill  | Carl  | Doug   |  20 | 2 | 1 |\n| Ann    | Ben   | Bill  | Dean   |  30 | 2 | 1 |\n| Ann    | Ben   | Bill  | Derek  |  40 | 2 | 1 |\n| Amanda | Bill  | Chris | Darrel |  50 | 1 | 2 |\n| Amanda | Ben   | Casey | Darrel |  60 | 2 | 2 |\n| Amanda | Bob   | Casey | Dave   |  70 | 2 | 1 |\n| Amanda | Brad  | Deon  | Dwight |  80 | 1 | 1 |\n| Ashley | Brad  | Ben   | Donald |  90 | 2 | 1 |\n| Ashley | Britt | Ben   | Drew   | 100 | 2 | 1 |\n| Ashley | Brian | Bill  | Casey  | 110 | 2 | 1 |\n| Ashley | Bert  | Bill  | Carl   | 120 | 2 | 1 |\n\n",
            "text/html": [
              "<table class=\"dataframe\">\n",
              "<caption>A grouped_df: 12 × 7</caption>\n",
              "<thead>\n",
              "\t<tr><th scope=col>Actor_1</th><th scope=col>Actor_1_assistant</th><th scope=col>Actor_2</th><th scope=col>Actor._2_assistant</th><th scope=col>Conflict_Number</th><th scope=col>Actor_1_AGAINST_Actor_2</th><th scope=col>Actor_1_AGAINST_Actor._2_assistant</th></tr>\n",
              "\t<tr><th scope=col>&lt;chr&gt;</th><th scope=col>&lt;chr&gt;</th><th scope=col>&lt;chr&gt;</th><th scope=col>&lt;chr&gt;</th><th scope=col>&lt;int&gt;</th><th scope=col>&lt;int&gt;</th><th scope=col>&lt;int&gt;</th></tr>\n",
              "</thead>\n",
              "<tbody>\n",
              "\t<tr><td>Ann   </td><td>Bill </td><td>Carl </td><td>Dave  </td><td> 10</td><td>2</td><td>1</td></tr>\n",
              "\t<tr><td>Ann   </td><td>Bill </td><td>Carl </td><td>Doug  </td><td> 20</td><td>2</td><td>1</td></tr>\n",
              "\t<tr><td>Ann   </td><td>Ben  </td><td>Bill </td><td>Dean  </td><td> 30</td><td>2</td><td>1</td></tr>\n",
              "\t<tr><td>Ann   </td><td>Ben  </td><td>Bill </td><td>Derek </td><td> 40</td><td>2</td><td>1</td></tr>\n",
              "\t<tr><td>Amanda</td><td>Bill </td><td>Chris</td><td>Darrel</td><td> 50</td><td>1</td><td>2</td></tr>\n",
              "\t<tr><td>Amanda</td><td>Ben  </td><td>Casey</td><td>Darrel</td><td> 60</td><td>2</td><td>2</td></tr>\n",
              "\t<tr><td>Amanda</td><td>Bob  </td><td>Casey</td><td>Dave  </td><td> 70</td><td>2</td><td>1</td></tr>\n",
              "\t<tr><td>Amanda</td><td>Brad </td><td>Deon </td><td>Dwight</td><td> 80</td><td>1</td><td>1</td></tr>\n",
              "\t<tr><td>Ashley</td><td>Brad </td><td>Ben  </td><td>Donald</td><td> 90</td><td>2</td><td>1</td></tr>\n",
              "\t<tr><td>Ashley</td><td>Britt</td><td>Ben  </td><td>Drew  </td><td>100</td><td>2</td><td>1</td></tr>\n",
              "\t<tr><td>Ashley</td><td>Brian</td><td>Bill </td><td>Casey </td><td>110</td><td>2</td><td>1</td></tr>\n",
              "\t<tr><td>Ashley</td><td>Bert </td><td>Bill </td><td>Carl  </td><td>120</td><td>2</td><td>1</td></tr>\n",
              "</tbody>\n",
              "</table>\n"
            ]
          },
          "metadata": {
            "tags": []
          }
        }
      ]
    },
    {
      "cell_type": "code",
      "metadata": {
        "id": "mc33voVmUM8o"
      },
      "source": [
        "Actor_1_WITH_Actor_1_Asst <- Actor_1_AGAINST_Actor._2_assistant %>% group_by(Actor_1 , Actor_1_assistant ) %>% mutate(Actor_1_WITH_Actor_1_Asst = n())\n"
      ],
      "execution_count": 48,
      "outputs": []
    },
    {
      "cell_type": "code",
      "metadata": {
        "colab": {
          "base_uri": "https://localhost:8080/",
          "height": 475
        },
        "id": "-RsQbgBzkPzE",
        "outputId": "e63ce1e9-ce92-4dc4-a55c-05bfa89fcbc4"
      },
      "source": [
        "Actor_1_WITH_Actor_1_Asst"
      ],
      "execution_count": 49,
      "outputs": [
        {
          "output_type": "display_data",
          "data": {
            "text/plain": [
              "   Actor_1 Actor_1_assistant Actor_2 Actor._2_assistant Conflict_Number\n",
              "1  Ann     Bill              Carl    Dave                10            \n",
              "2  Ann     Bill              Carl    Doug                20            \n",
              "3  Ann     Ben               Bill    Dean                30            \n",
              "4  Ann     Ben               Bill    Derek               40            \n",
              "5  Amanda  Bill              Chris   Darrel              50            \n",
              "6  Amanda  Ben               Casey   Darrel              60            \n",
              "7  Amanda  Bob               Casey   Dave                70            \n",
              "8  Amanda  Brad              Deon    Dwight              80            \n",
              "9  Ashley  Brad              Ben     Donald              90            \n",
              "10 Ashley  Britt             Ben     Drew               100            \n",
              "11 Ashley  Brian             Bill    Casey              110            \n",
              "12 Ashley  Bert              Bill    Carl               120            \n",
              "   Actor_1_AGAINST_Actor_2 Actor_1_AGAINST_Actor._2_assistant\n",
              "1  2                       1                                 \n",
              "2  2                       1                                 \n",
              "3  2                       1                                 \n",
              "4  2                       1                                 \n",
              "5  1                       2                                 \n",
              "6  2                       2                                 \n",
              "7  2                       1                                 \n",
              "8  1                       1                                 \n",
              "9  2                       1                                 \n",
              "10 2                       1                                 \n",
              "11 2                       1                                 \n",
              "12 2                       1                                 \n",
              "   Actor_1_WITH_Actor_1_Asst\n",
              "1  2                        \n",
              "2  2                        \n",
              "3  2                        \n",
              "4  2                        \n",
              "5  1                        \n",
              "6  1                        \n",
              "7  1                        \n",
              "8  1                        \n",
              "9  1                        \n",
              "10 1                        \n",
              "11 1                        \n",
              "12 1                        "
            ],
            "text/latex": "A grouped\\_df: 12 × 8\n\\begin{tabular}{llllllll}\n Actor\\_1 & Actor\\_1\\_assistant & Actor\\_2 & Actor.\\_2\\_assistant & Conflict\\_Number & Actor\\_1\\_AGAINST\\_Actor\\_2 & Actor\\_1\\_AGAINST\\_Actor.\\_2\\_assistant & Actor\\_1\\_WITH\\_Actor\\_1\\_Asst\\\\\n <chr> & <chr> & <chr> & <chr> & <int> & <int> & <int> & <int>\\\\\n\\hline\n\t Ann    & Bill  & Carl  & Dave   &  10 & 2 & 1 & 2\\\\\n\t Ann    & Bill  & Carl  & Doug   &  20 & 2 & 1 & 2\\\\\n\t Ann    & Ben   & Bill  & Dean   &  30 & 2 & 1 & 2\\\\\n\t Ann    & Ben   & Bill  & Derek  &  40 & 2 & 1 & 2\\\\\n\t Amanda & Bill  & Chris & Darrel &  50 & 1 & 2 & 1\\\\\n\t Amanda & Ben   & Casey & Darrel &  60 & 2 & 2 & 1\\\\\n\t Amanda & Bob   & Casey & Dave   &  70 & 2 & 1 & 1\\\\\n\t Amanda & Brad  & Deon  & Dwight &  80 & 1 & 1 & 1\\\\\n\t Ashley & Brad  & Ben   & Donald &  90 & 2 & 1 & 1\\\\\n\t Ashley & Britt & Ben   & Drew   & 100 & 2 & 1 & 1\\\\\n\t Ashley & Brian & Bill  & Casey  & 110 & 2 & 1 & 1\\\\\n\t Ashley & Bert  & Bill  & Carl   & 120 & 2 & 1 & 1\\\\\n\\end{tabular}\n",
            "text/markdown": "\nA grouped_df: 12 × 8\n\n| Actor_1 &lt;chr&gt; | Actor_1_assistant &lt;chr&gt; | Actor_2 &lt;chr&gt; | Actor._2_assistant &lt;chr&gt; | Conflict_Number &lt;int&gt; | Actor_1_AGAINST_Actor_2 &lt;int&gt; | Actor_1_AGAINST_Actor._2_assistant &lt;int&gt; | Actor_1_WITH_Actor_1_Asst &lt;int&gt; |\n|---|---|---|---|---|---|---|---|\n| Ann    | Bill  | Carl  | Dave   |  10 | 2 | 1 | 2 |\n| Ann    | Bill  | Carl  | Doug   |  20 | 2 | 1 | 2 |\n| Ann    | Ben   | Bill  | Dean   |  30 | 2 | 1 | 2 |\n| Ann    | Ben   | Bill  | Derek  |  40 | 2 | 1 | 2 |\n| Amanda | Bill  | Chris | Darrel |  50 | 1 | 2 | 1 |\n| Amanda | Ben   | Casey | Darrel |  60 | 2 | 2 | 1 |\n| Amanda | Bob   | Casey | Dave   |  70 | 2 | 1 | 1 |\n| Amanda | Brad  | Deon  | Dwight |  80 | 1 | 1 | 1 |\n| Ashley | Brad  | Ben   | Donald |  90 | 2 | 1 | 1 |\n| Ashley | Britt | Ben   | Drew   | 100 | 2 | 1 | 1 |\n| Ashley | Brian | Bill  | Casey  | 110 | 2 | 1 | 1 |\n| Ashley | Bert  | Bill  | Carl   | 120 | 2 | 1 | 1 |\n\n",
            "text/html": [
              "<table class=\"dataframe\">\n",
              "<caption>A grouped_df: 12 × 8</caption>\n",
              "<thead>\n",
              "\t<tr><th scope=col>Actor_1</th><th scope=col>Actor_1_assistant</th><th scope=col>Actor_2</th><th scope=col>Actor._2_assistant</th><th scope=col>Conflict_Number</th><th scope=col>Actor_1_AGAINST_Actor_2</th><th scope=col>Actor_1_AGAINST_Actor._2_assistant</th><th scope=col>Actor_1_WITH_Actor_1_Asst</th></tr>\n",
              "\t<tr><th scope=col>&lt;chr&gt;</th><th scope=col>&lt;chr&gt;</th><th scope=col>&lt;chr&gt;</th><th scope=col>&lt;chr&gt;</th><th scope=col>&lt;int&gt;</th><th scope=col>&lt;int&gt;</th><th scope=col>&lt;int&gt;</th><th scope=col>&lt;int&gt;</th></tr>\n",
              "</thead>\n",
              "<tbody>\n",
              "\t<tr><td>Ann   </td><td>Bill </td><td>Carl </td><td>Dave  </td><td> 10</td><td>2</td><td>1</td><td>2</td></tr>\n",
              "\t<tr><td>Ann   </td><td>Bill </td><td>Carl </td><td>Doug  </td><td> 20</td><td>2</td><td>1</td><td>2</td></tr>\n",
              "\t<tr><td>Ann   </td><td>Ben  </td><td>Bill </td><td>Dean  </td><td> 30</td><td>2</td><td>1</td><td>2</td></tr>\n",
              "\t<tr><td>Ann   </td><td>Ben  </td><td>Bill </td><td>Derek </td><td> 40</td><td>2</td><td>1</td><td>2</td></tr>\n",
              "\t<tr><td>Amanda</td><td>Bill </td><td>Chris</td><td>Darrel</td><td> 50</td><td>1</td><td>2</td><td>1</td></tr>\n",
              "\t<tr><td>Amanda</td><td>Ben  </td><td>Casey</td><td>Darrel</td><td> 60</td><td>2</td><td>2</td><td>1</td></tr>\n",
              "\t<tr><td>Amanda</td><td>Bob  </td><td>Casey</td><td>Dave  </td><td> 70</td><td>2</td><td>1</td><td>1</td></tr>\n",
              "\t<tr><td>Amanda</td><td>Brad </td><td>Deon </td><td>Dwight</td><td> 80</td><td>1</td><td>1</td><td>1</td></tr>\n",
              "\t<tr><td>Ashley</td><td>Brad </td><td>Ben  </td><td>Donald</td><td> 90</td><td>2</td><td>1</td><td>1</td></tr>\n",
              "\t<tr><td>Ashley</td><td>Britt</td><td>Ben  </td><td>Drew  </td><td>100</td><td>2</td><td>1</td><td>1</td></tr>\n",
              "\t<tr><td>Ashley</td><td>Brian</td><td>Bill </td><td>Casey </td><td>110</td><td>2</td><td>1</td><td>1</td></tr>\n",
              "\t<tr><td>Ashley</td><td>Bert </td><td>Bill </td><td>Carl  </td><td>120</td><td>2</td><td>1</td><td>1</td></tr>\n",
              "</tbody>\n",
              "</table>\n"
            ]
          },
          "metadata": {
            "tags": []
          }
        }
      ]
    },
    {
      "cell_type": "code",
      "metadata": {
        "id": "-7LKVE8RkPsz"
      },
      "source": [
        "Actor_2_More_or_less_Against_Actor_1 <- Actor_1_WITH_Actor_1_Asst %>%\n",
        "                                        mutate(Actor_1_minus_Actor_2 = Actor_1_WITH_Actor_1_Asst - Actor_1_AGAINST_Actor_2  )"
      ],
      "execution_count": 50,
      "outputs": []
    },
    {
      "cell_type": "markdown",
      "metadata": {
        "id": "JkOv7wXytM3L"
      },
      "source": [
        "If the last column,  **Actor_1_minus_Actor_2** , is negative Actor 2 more often foought **WITH** Actor 1 than against.\n",
        "\n",
        "Next we subset the ACLED data set for soth sudan and apply the code to that."
      ]
    },
    {
      "cell_type": "code",
      "metadata": {
        "colab": {
          "base_uri": "https://localhost:8080/",
          "height": 475
        },
        "id": "qrI2AZC9mZ_m",
        "outputId": "a9312eaf-2908-4960-87ed-67895cdbe023"
      },
      "source": [
        "Actor_2_More_or_less_Against_Actor_1"
      ],
      "execution_count": 51,
      "outputs": [
        {
          "output_type": "display_data",
          "data": {
            "text/plain": [
              "   Actor_1 Actor_1_assistant Actor_2 Actor._2_assistant Conflict_Number\n",
              "1  Ann     Bill              Carl    Dave                10            \n",
              "2  Ann     Bill              Carl    Doug                20            \n",
              "3  Ann     Ben               Bill    Dean                30            \n",
              "4  Ann     Ben               Bill    Derek               40            \n",
              "5  Amanda  Bill              Chris   Darrel              50            \n",
              "6  Amanda  Ben               Casey   Darrel              60            \n",
              "7  Amanda  Bob               Casey   Dave                70            \n",
              "8  Amanda  Brad              Deon    Dwight              80            \n",
              "9  Ashley  Brad              Ben     Donald              90            \n",
              "10 Ashley  Britt             Ben     Drew               100            \n",
              "11 Ashley  Brian             Bill    Casey              110            \n",
              "12 Ashley  Bert              Bill    Carl               120            \n",
              "   Actor_1_AGAINST_Actor_2 Actor_1_AGAINST_Actor._2_assistant\n",
              "1  2                       1                                 \n",
              "2  2                       1                                 \n",
              "3  2                       1                                 \n",
              "4  2                       1                                 \n",
              "5  1                       2                                 \n",
              "6  2                       2                                 \n",
              "7  2                       1                                 \n",
              "8  1                       1                                 \n",
              "9  2                       1                                 \n",
              "10 2                       1                                 \n",
              "11 2                       1                                 \n",
              "12 2                       1                                 \n",
              "   Actor_1_WITH_Actor_1_Asst Actor_1_minus_Actor_2\n",
              "1  2                          0                   \n",
              "2  2                          0                   \n",
              "3  2                          0                   \n",
              "4  2                          0                   \n",
              "5  1                          0                   \n",
              "6  1                         -1                   \n",
              "7  1                         -1                   \n",
              "8  1                          0                   \n",
              "9  1                         -1                   \n",
              "10 1                         -1                   \n",
              "11 1                         -1                   \n",
              "12 1                         -1                   "
            ],
            "text/latex": "A grouped\\_df: 12 × 9\n\\begin{tabular}{lllllllll}\n Actor\\_1 & Actor\\_1\\_assistant & Actor\\_2 & Actor.\\_2\\_assistant & Conflict\\_Number & Actor\\_1\\_AGAINST\\_Actor\\_2 & Actor\\_1\\_AGAINST\\_Actor.\\_2\\_assistant & Actor\\_1\\_WITH\\_Actor\\_1\\_Asst & Actor\\_1\\_minus\\_Actor\\_2\\\\\n <chr> & <chr> & <chr> & <chr> & <int> & <int> & <int> & <int> & <int>\\\\\n\\hline\n\t Ann    & Bill  & Carl  & Dave   &  10 & 2 & 1 & 2 &  0\\\\\n\t Ann    & Bill  & Carl  & Doug   &  20 & 2 & 1 & 2 &  0\\\\\n\t Ann    & Ben   & Bill  & Dean   &  30 & 2 & 1 & 2 &  0\\\\\n\t Ann    & Ben   & Bill  & Derek  &  40 & 2 & 1 & 2 &  0\\\\\n\t Amanda & Bill  & Chris & Darrel &  50 & 1 & 2 & 1 &  0\\\\\n\t Amanda & Ben   & Casey & Darrel &  60 & 2 & 2 & 1 & -1\\\\\n\t Amanda & Bob   & Casey & Dave   &  70 & 2 & 1 & 1 & -1\\\\\n\t Amanda & Brad  & Deon  & Dwight &  80 & 1 & 1 & 1 &  0\\\\\n\t Ashley & Brad  & Ben   & Donald &  90 & 2 & 1 & 1 & -1\\\\\n\t Ashley & Britt & Ben   & Drew   & 100 & 2 & 1 & 1 & -1\\\\\n\t Ashley & Brian & Bill  & Casey  & 110 & 2 & 1 & 1 & -1\\\\\n\t Ashley & Bert  & Bill  & Carl   & 120 & 2 & 1 & 1 & -1\\\\\n\\end{tabular}\n",
            "text/markdown": "\nA grouped_df: 12 × 9\n\n| Actor_1 &lt;chr&gt; | Actor_1_assistant &lt;chr&gt; | Actor_2 &lt;chr&gt; | Actor._2_assistant &lt;chr&gt; | Conflict_Number &lt;int&gt; | Actor_1_AGAINST_Actor_2 &lt;int&gt; | Actor_1_AGAINST_Actor._2_assistant &lt;int&gt; | Actor_1_WITH_Actor_1_Asst &lt;int&gt; | Actor_1_minus_Actor_2 &lt;int&gt; |\n|---|---|---|---|---|---|---|---|---|\n| Ann    | Bill  | Carl  | Dave   |  10 | 2 | 1 | 2 |  0 |\n| Ann    | Bill  | Carl  | Doug   |  20 | 2 | 1 | 2 |  0 |\n| Ann    | Ben   | Bill  | Dean   |  30 | 2 | 1 | 2 |  0 |\n| Ann    | Ben   | Bill  | Derek  |  40 | 2 | 1 | 2 |  0 |\n| Amanda | Bill  | Chris | Darrel |  50 | 1 | 2 | 1 |  0 |\n| Amanda | Ben   | Casey | Darrel |  60 | 2 | 2 | 1 | -1 |\n| Amanda | Bob   | Casey | Dave   |  70 | 2 | 1 | 1 | -1 |\n| Amanda | Brad  | Deon  | Dwight |  80 | 1 | 1 | 1 |  0 |\n| Ashley | Brad  | Ben   | Donald |  90 | 2 | 1 | 1 | -1 |\n| Ashley | Britt | Ben   | Drew   | 100 | 2 | 1 | 1 | -1 |\n| Ashley | Brian | Bill  | Casey  | 110 | 2 | 1 | 1 | -1 |\n| Ashley | Bert  | Bill  | Carl   | 120 | 2 | 1 | 1 | -1 |\n\n",
            "text/html": [
              "<table class=\"dataframe\">\n",
              "<caption>A grouped_df: 12 × 9</caption>\n",
              "<thead>\n",
              "\t<tr><th scope=col>Actor_1</th><th scope=col>Actor_1_assistant</th><th scope=col>Actor_2</th><th scope=col>Actor._2_assistant</th><th scope=col>Conflict_Number</th><th scope=col>Actor_1_AGAINST_Actor_2</th><th scope=col>Actor_1_AGAINST_Actor._2_assistant</th><th scope=col>Actor_1_WITH_Actor_1_Asst</th><th scope=col>Actor_1_minus_Actor_2</th></tr>\n",
              "\t<tr><th scope=col>&lt;chr&gt;</th><th scope=col>&lt;chr&gt;</th><th scope=col>&lt;chr&gt;</th><th scope=col>&lt;chr&gt;</th><th scope=col>&lt;int&gt;</th><th scope=col>&lt;int&gt;</th><th scope=col>&lt;int&gt;</th><th scope=col>&lt;int&gt;</th><th scope=col>&lt;int&gt;</th></tr>\n",
              "</thead>\n",
              "<tbody>\n",
              "\t<tr><td>Ann   </td><td>Bill </td><td>Carl </td><td>Dave  </td><td> 10</td><td>2</td><td>1</td><td>2</td><td> 0</td></tr>\n",
              "\t<tr><td>Ann   </td><td>Bill </td><td>Carl </td><td>Doug  </td><td> 20</td><td>2</td><td>1</td><td>2</td><td> 0</td></tr>\n",
              "\t<tr><td>Ann   </td><td>Ben  </td><td>Bill </td><td>Dean  </td><td> 30</td><td>2</td><td>1</td><td>2</td><td> 0</td></tr>\n",
              "\t<tr><td>Ann   </td><td>Ben  </td><td>Bill </td><td>Derek </td><td> 40</td><td>2</td><td>1</td><td>2</td><td> 0</td></tr>\n",
              "\t<tr><td>Amanda</td><td>Bill </td><td>Chris</td><td>Darrel</td><td> 50</td><td>1</td><td>2</td><td>1</td><td> 0</td></tr>\n",
              "\t<tr><td>Amanda</td><td>Ben  </td><td>Casey</td><td>Darrel</td><td> 60</td><td>2</td><td>2</td><td>1</td><td>-1</td></tr>\n",
              "\t<tr><td>Amanda</td><td>Bob  </td><td>Casey</td><td>Dave  </td><td> 70</td><td>2</td><td>1</td><td>1</td><td>-1</td></tr>\n",
              "\t<tr><td>Amanda</td><td>Brad </td><td>Deon </td><td>Dwight</td><td> 80</td><td>1</td><td>1</td><td>1</td><td> 0</td></tr>\n",
              "\t<tr><td>Ashley</td><td>Brad </td><td>Ben  </td><td>Donald</td><td> 90</td><td>2</td><td>1</td><td>1</td><td>-1</td></tr>\n",
              "\t<tr><td>Ashley</td><td>Britt</td><td>Ben  </td><td>Drew  </td><td>100</td><td>2</td><td>1</td><td>1</td><td>-1</td></tr>\n",
              "\t<tr><td>Ashley</td><td>Brian</td><td>Bill </td><td>Casey </td><td>110</td><td>2</td><td>1</td><td>1</td><td>-1</td></tr>\n",
              "\t<tr><td>Ashley</td><td>Bert </td><td>Bill </td><td>Carl  </td><td>120</td><td>2</td><td>1</td><td>1</td><td>-1</td></tr>\n",
              "</tbody>\n",
              "</table>\n"
            ]
          },
          "metadata": {
            "tags": []
          }
        }
      ]
    },
    {
      "cell_type": "code",
      "metadata": {
        "id": "IKbIfoOsmZe-"
      },
      "source": [
        ""
      ],
      "execution_count": null,
      "outputs": []
    },
    {
      "cell_type": "code",
      "metadata": {
        "id": "N4RMMsapmZbO"
      },
      "source": [
        ""
      ],
      "execution_count": null,
      "outputs": []
    },
    {
      "cell_type": "markdown",
      "metadata": {
        "id": "6rXTyuD8738A"
      },
      "source": [
        "# Venn diagrams\n",
        "\n",
        "https://blog.exploratory.io/how-to-create-a-venn-diagram-on-exploratory-desktop-3d57f07e3605"
      ]
    }
  ]
}