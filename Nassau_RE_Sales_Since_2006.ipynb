{
  "nbformat": 4,
  "nbformat_minor": 0,
  "metadata": {
    "colab": {
      "name": " Nassau_RE_Sales_Since_2006.ipynb",
      "provenance": [],
      "collapsed_sections": [],
      "mount_file_id": "1heWniS9zKXwdc-tZU6f5vT82CswG0iss",
      "authorship_tag": "ABX9TyN1qV6/IWrCARV/pE6RInNO",
      "include_colab_link": true
    },
    "kernelspec": {
      "name": "python3",
      "display_name": "Python 3"
    },
    "language_info": {
      "name": "python"
    }
  },
  "cells": [
    {
      "cell_type": "markdown",
      "metadata": {
        "id": "view-in-github",
        "colab_type": "text"
      },
      "source": [
        "<a href=\"https://colab.research.google.com/github/JF11579/New-Stuff/blob/main/Nassau_RE_Sales_Since_2006.ipynb\" target=\"_parent\"><img src=\"https://colab.research.google.com/assets/colab-badge.svg\" alt=\"Open In Colab\"/></a>"
      ]
    },
    {
      "cell_type": "markdown",
      "metadata": {
        "id": "m3USy66Ia9Hk"
      },
      "source": [
        "# Notes"
      ]
    },
    {
      "cell_type": "markdown",
      "metadata": {
        "id": "DxwQS9KX18nt"
      },
      "source": [
        "\n",
        "\n",
        "*   Test withthe data I already have\n",
        "*   Concat data\n",
        "*drop any row wehre Sold Price is empty\n",
        "*Covert to date type data\n",
        "*   remove duplicated ML #s.\n",
        "*   Created new column of each town monthly avg of     units and sale price\n",
        "*   Multo line graph of all towns and Nassau avg\n",
        "*   Add census data \n",
        "      Race\n",
        "      Income\n",
        "      Age\n",
        "* make each town a csv and upload it.\n",
        "*Join the towns and make a giant csv\n",
        "*   Add colun showing percentage change year over year.\n",
        "* \n",
        "*\n",
        "\n",
        "\n",
        "\n"
      ]
    },
    {
      "cell_type": "markdown",
      "metadata": {
        "id": "_D_c1x4Mt-Up"
      },
      "source": [
        "Set the project settings"
      ]
    },
    {
      "cell_type": "markdown",
      "metadata": {
        "id": "sUtV0ZA2Szb7"
      },
      "source": [
        "# Packages"
      ]
    },
    {
      "cell_type": "code",
      "metadata": {
        "id": "WqSVRxOW1r7E"
      },
      "source": [
        "import pandas as pd\n"
      ],
      "execution_count": null,
      "outputs": []
    },
    {
      "cell_type": "code",
      "metadata": {
        "id": "osLB0LPK2Ax4"
      },
      "source": [
        "import numpy as np"
      ],
      "execution_count": null,
      "outputs": []
    },
    {
      "cell_type": "code",
      "metadata": {
        "id": "bwOJbK38U-2S"
      },
      "source": [
        "import seaborn as sns"
      ],
      "execution_count": null,
      "outputs": []
    },
    {
      "cell_type": "code",
      "metadata": {
        "id": "-HBzu6iIcEXf"
      },
      "source": [
        "import matplotlib.pyplot as plt"
      ],
      "execution_count": null,
      "outputs": []
    },
    {
      "cell_type": "markdown",
      "metadata": {
        "id": "svi0TxpuVDvm"
      },
      "source": [
        "# Import Data\n",
        "\n",
        "There are many CSVs to import .  After each town we will append them to the exisitng CSVs and download them to \"cache\" them."
      ]
    },
    {
      "cell_type": "markdown",
      "metadata": {
        "id": "PTyARJi1LoEB"
      },
      "source": [
        "### There were two stages to timporting data.  The first was importing scores of tiny csv files to build the data set ***Nassau Finished May 7***. This got uploaded to Google Drive\n",
        "\n",
        "### The next stage is to pulli down from Google Drive.\n",
        "\n",
        "https://towardsdatascience.com/google-colab-import-and-export-datasets-eccf801e2971"
      ]
    },
    {
      "cell_type": "code",
      "metadata": {
        "id": "gpsauzFnMw55"
      },
      "source": [
        "from google.colab import drive"
      ],
      "execution_count": 21,
      "outputs": []
    },
    {
      "cell_type": "code",
      "metadata": {
        "colab": {
          "base_uri": "https://localhost:8080/"
        },
        "id": "QwTgJ89jMzPo",
        "outputId": "8cc5778d-3901-41ce-90ba-ceccf5946b88"
      },
      "source": [
        "drive.mount(\"/content/drive\")"
      ],
      "execution_count": 22,
      "outputs": [
        {
          "output_type": "stream",
          "text": [
            "Drive already mounted at /content/drive; to attempt to forcibly remount, call drive.mount(\"/content/drive\", force_remount=True).\n"
          ],
          "name": "stdout"
        }
      ]
    },
    {
      "cell_type": "code",
      "metadata": {
        "id": "dK7y6Vd8MzKN"
      },
      "source": [
        "import pandas as pd"
      ],
      "execution_count": 23,
      "outputs": []
    },
    {
      "cell_type": "markdown",
      "metadata": {
        "id": "w254lsnbNakP"
      },
      "source": [
        "Now on the left click ont he Drive Folder, select the file, copy the path by cklicking on the Snowman, and paste it in."
      ]
    },
    {
      "cell_type": "code",
      "metadata": {
        "id": "5SCeF74IMy8m"
      },
      "source": [
        "Nassau = pd.read_csv('/content/drive/MyDrive/DATA/Nassau_Finished_May_7.csv')"
      ],
      "execution_count": 24,
      "outputs": []
    },
    {
      "cell_type": "code",
      "metadata": {
        "colab": {
          "base_uri": "https://localhost:8080/",
          "height": 309
        },
        "id": "LicU3HdWOoa9",
        "outputId": "d0ff9f26-6269-496b-99d4-142ab8a629fe"
      },
      "source": [
        "Nassau.head()"
      ],
      "execution_count": 25,
      "outputs": [
        {
          "output_type": "execute_result",
          "data": {
            "text/html": [
              "<div>\n",
              "<style scoped>\n",
              "    .dataframe tbody tr th:only-of-type {\n",
              "        vertical-align: middle;\n",
              "    }\n",
              "\n",
              "    .dataframe tbody tr th {\n",
              "        vertical-align: top;\n",
              "    }\n",
              "\n",
              "    .dataframe thead th {\n",
              "        text-align: right;\n",
              "    }\n",
              "</style>\n",
              "<table border=\"1\" class=\"dataframe\">\n",
              "  <thead>\n",
              "    <tr style=\"text-align: right;\">\n",
              "      <th></th>\n",
              "      <th>Unnamed: 0</th>\n",
              "      <th>Unnamed: 0.1</th>\n",
              "      <th>St #</th>\n",
              "      <th>Dr</th>\n",
              "      <th>Street Name</th>\n",
              "      <th>Sfx</th>\n",
              "      <th>Town</th>\n",
              "      <th>Zip</th>\n",
              "      <th>ListPrice</th>\n",
              "      <th>SoldPrice</th>\n",
              "      <th>Style</th>\n",
              "      <th>Br</th>\n",
              "      <th>Bath</th>\n",
              "      <th>Unnamed: 11</th>\n",
              "      <th>Unnamed: 12</th>\n",
              "      <th>SD</th>\n",
              "      <th>Tot Tax</th>\n",
              "      <th>LSC</th>\n",
              "      <th>ListDate</th>\n",
              "      <th>ExpDate</th>\n",
              "      <th>ContDate</th>\n",
              "      <th>TitleDate</th>\n",
              "      <th>DOM</th>\n",
              "      <th>Det</th>\n",
              "      <th>#F</th>\n",
              "      <th>K</th>\n",
              "      <th>ML#</th>\n",
              "    </tr>\n",
              "  </thead>\n",
              "  <tbody>\n",
              "    <tr>\n",
              "      <th>0</th>\n",
              "      <td>0</td>\n",
              "      <td>0.0</td>\n",
              "      <td>81</td>\n",
              "      <td>NaN</td>\n",
              "      <td>Meldon</td>\n",
              "      <td>Avenue</td>\n",
              "      <td>Albertson</td>\n",
              "      <td>11507</td>\n",
              "      <td>290000.0</td>\n",
              "      <td>270000.0</td>\n",
              "      <td>Cape</td>\n",
              "      <td>3.0</td>\n",
              "      <td>1.0</td>\n",
              "      <td>Full,Partially Finished</td>\n",
              "      <td>NaN</td>\n",
              "      <td>10.0</td>\n",
              "      <td>6000.00</td>\n",
              "      <td>CL</td>\n",
              "      <td>5/17/2011</td>\n",
              "      <td>11/30/2011</td>\n",
              "      <td>6/13/2011</td>\n",
              "      <td>9/09/2011</td>\n",
              "      <td>27.0</td>\n",
              "      <td>Det</td>\n",
              "      <td>1</td>\n",
              "      <td>1.0</td>\n",
              "      <td>2396164</td>\n",
              "    </tr>\n",
              "    <tr>\n",
              "      <th>1</th>\n",
              "      <td>1</td>\n",
              "      <td>1.0</td>\n",
              "      <td>63</td>\n",
              "      <td>NaN</td>\n",
              "      <td>Chaffee</td>\n",
              "      <td>Avenue</td>\n",
              "      <td>Albertson</td>\n",
              "      <td>11507</td>\n",
              "      <td>298000.0</td>\n",
              "      <td>311000.0</td>\n",
              "      <td>Colonial</td>\n",
              "      <td>2.0</td>\n",
              "      <td>1.0</td>\n",
              "      <td>Full</td>\n",
              "      <td>1 Car Detached</td>\n",
              "      <td>9.0</td>\n",
              "      <td>7173.48</td>\n",
              "      <td>CL</td>\n",
              "      <td>3/26/2012</td>\n",
              "      <td>12/30/2012</td>\n",
              "      <td>4/11/2012</td>\n",
              "      <td>5/25/2012</td>\n",
              "      <td>16.0</td>\n",
              "      <td>Det</td>\n",
              "      <td>1</td>\n",
              "      <td>1.0</td>\n",
              "      <td>*1130434</td>\n",
              "    </tr>\n",
              "    <tr>\n",
              "      <th>2</th>\n",
              "      <td>2</td>\n",
              "      <td>2.0</td>\n",
              "      <td>140</td>\n",
              "      <td>NaN</td>\n",
              "      <td>I U Willets</td>\n",
              "      <td>Road</td>\n",
              "      <td>Albertson</td>\n",
              "      <td>11507</td>\n",
              "      <td>318876.0</td>\n",
              "      <td>315000.0</td>\n",
              "      <td>Ranch</td>\n",
              "      <td>3.0</td>\n",
              "      <td>1.0</td>\n",
              "      <td>Full,Finished</td>\n",
              "      <td>1 Car Attached</td>\n",
              "      <td>10.0</td>\n",
              "      <td>7614.77</td>\n",
              "      <td>CL</td>\n",
              "      <td>3/17/2010</td>\n",
              "      <td>9/12/2010</td>\n",
              "      <td>4/01/2010</td>\n",
              "      <td>9/13/2010</td>\n",
              "      <td>15.0</td>\n",
              "      <td>Det</td>\n",
              "      <td>1</td>\n",
              "      <td>1.0</td>\n",
              "      <td>2271749</td>\n",
              "    </tr>\n",
              "    <tr>\n",
              "      <th>3</th>\n",
              "      <td>3</td>\n",
              "      <td>3.0</td>\n",
              "      <td>143</td>\n",
              "      <td>NaN</td>\n",
              "      <td>Devon</td>\n",
              "      <td>Road</td>\n",
              "      <td>Albertson</td>\n",
              "      <td>11507</td>\n",
              "      <td>319000.0</td>\n",
              "      <td>290000.0</td>\n",
              "      <td>Ranch</td>\n",
              "      <td>2.0</td>\n",
              "      <td>1.0</td>\n",
              "      <td>Full,Unfinished</td>\n",
              "      <td>NaN</td>\n",
              "      <td>10.0</td>\n",
              "      <td>7043.00</td>\n",
              "      <td>CL</td>\n",
              "      <td>10/31/2008</td>\n",
              "      <td>5/03/2009</td>\n",
              "      <td>1/20/2009</td>\n",
              "      <td>3/06/2009</td>\n",
              "      <td>81.0</td>\n",
              "      <td>Det</td>\n",
              "      <td>1</td>\n",
              "      <td>1.0</td>\n",
              "      <td>2130306</td>\n",
              "    </tr>\n",
              "    <tr>\n",
              "      <th>4</th>\n",
              "      <td>4</td>\n",
              "      <td>4.0</td>\n",
              "      <td>97</td>\n",
              "      <td>NaN</td>\n",
              "      <td>Coventry</td>\n",
              "      <td>Avenue</td>\n",
              "      <td>Albertson</td>\n",
              "      <td>11507</td>\n",
              "      <td>325000.0</td>\n",
              "      <td>310000.0</td>\n",
              "      <td>Cape</td>\n",
              "      <td>3.0</td>\n",
              "      <td>1.0</td>\n",
              "      <td>Full,Unfinished</td>\n",
              "      <td>1 Car Detached</td>\n",
              "      <td>10.0</td>\n",
              "      <td>7415.63</td>\n",
              "      <td>CL</td>\n",
              "      <td>7/24/2009</td>\n",
              "      <td>1/24/2010</td>\n",
              "      <td>12/18/2009</td>\n",
              "      <td>2/08/2010</td>\n",
              "      <td>147.0</td>\n",
              "      <td>Det</td>\n",
              "      <td>1</td>\n",
              "      <td>1.0</td>\n",
              "      <td>2243291</td>\n",
              "    </tr>\n",
              "  </tbody>\n",
              "</table>\n",
              "</div>"
            ],
            "text/plain": [
              "   Unnamed: 0  Unnamed: 0.1 St #   Dr  ...  Det #F    K       ML#\n",
              "0           0           0.0   81  NaN  ...  Det  1  1.0   2396164\n",
              "1           1           1.0   63  NaN  ...  Det  1  1.0  *1130434\n",
              "2           2           2.0  140  NaN  ...  Det  1  1.0   2271749\n",
              "3           3           3.0  143  NaN  ...  Det  1  1.0   2130306\n",
              "4           4           4.0   97  NaN  ...  Det  1  1.0   2243291\n",
              "\n",
              "[5 rows x 27 columns]"
            ]
          },
          "metadata": {
            "tags": []
          },
          "execution_count": 25
        }
      ]
    },
    {
      "cell_type": "code",
      "metadata": {
        "id": "PVmTHPzGDty-"
      },
      "source": [
        "#import the master from Google Drive\n",
        "#/content/drive/MyDrive/DATA/Nassau_Finished_May_7.csv"
      ],
      "execution_count": null,
      "outputs": []
    },
    {
      "cell_type": "code",
      "metadata": {
        "id": "R4865VEtMTPS"
      },
      "source": [
        ""
      ],
      "execution_count": null,
      "outputs": []
    },
    {
      "cell_type": "code",
      "metadata": {
        "id": "gQDZR6h1MS5Z"
      },
      "source": [
        ""
      ],
      "execution_count": null,
      "outputs": []
    },
    {
      "cell_type": "markdown",
      "metadata": {
        "id": "JGaGwjBlM5Y7"
      },
      "source": [
        "### Start off by re-importing the latest cache\n",
        "\n",
        "Nassau = pd.read_csv(\"/content/Nassau_8.csv\")"
      ]
    },
    {
      "cell_type": "code",
      "metadata": {
        "id": "wCxnIcPokkGY"
      },
      "source": [
        "Nassau = pd.read_csv(\"/content/Nassau_8.csv\")"
      ],
      "execution_count": null,
      "outputs": []
    },
    {
      "cell_type": "code",
      "metadata": {
        "id": "Qy7uFujukvxm"
      },
      "source": [
        "#Nassau = pd.read_csv(\"/content/Nassau_7.csv\")"
      ],
      "execution_count": null,
      "outputs": []
    },
    {
      "cell_type": "code",
      "metadata": {
        "colab": {
          "base_uri": "https://localhost:8080/"
        },
        "id": "ANffGX7ZF0uv",
        "outputId": "217ad538-8364-44e8-fc6a-6335315e2e58"
      },
      "source": [
        "Nassau.shape"
      ],
      "execution_count": null,
      "outputs": [
        {
          "output_type": "execute_result",
          "data": {
            "text/plain": [
              "(20481, 28)"
            ]
          },
          "metadata": {
            "tags": []
          },
          "execution_count": 6
        }
      ]
    },
    {
      "cell_type": "code",
      "metadata": {
        "colab": {
          "base_uri": "https://localhost:8080/"
        },
        "id": "Hisqi9cZIGCc",
        "outputId": "79532c0e-f6e7-41f8-d3d2-39c35dea7892"
      },
      "source": [
        "Nassau.shape"
      ],
      "execution_count": null,
      "outputs": [
        {
          "output_type": "execute_result",
          "data": {
            "text/plain": [
              "(42081, 30)"
            ]
          },
          "metadata": {
            "tags": []
          },
          "execution_count": 5
        }
      ]
    },
    {
      "cell_type": "markdown",
      "metadata": {
        "id": "idmU3VRNNMhE"
      },
      "source": [
        "### then import the latest CSV downloads"
      ]
    },
    {
      "cell_type": "code",
      "metadata": {
        "id": "QaoJkUY72DKu"
      },
      "source": [
        "Albertson_1 = pd.read_csv(\"/content/Alberston_2015.csv\")"
      ],
      "execution_count": null,
      "outputs": []
    },
    {
      "cell_type": "code",
      "metadata": {
        "id": "C2bQi2HI2ZJJ"
      },
      "source": [
        "Albertson_2 = pd.read_csv(\"/content/Albertson_1.csv\")"
      ],
      "execution_count": null,
      "outputs": []
    },
    {
      "cell_type": "code",
      "metadata": {
        "id": "pHagsxeIbx4V"
      },
      "source": [
        "Albertson_3 = pd.read_csv(\"/content/Albertson_21.csv\")"
      ],
      "execution_count": null,
      "outputs": []
    },
    {
      "cell_type": "code",
      "metadata": {
        "id": "YLyNidHj9_ta"
      },
      "source": [
        "#Nassau = pd.concat([Nassau, Hemp_1,Hemp_2,Hemp_3,Hemp_4,Hemp_5,Hemp_6,\n",
        " #                   Hemp_7,Hemp_8,Hemp_9,Hemp_10,Hemp_11,Hemp_12])\n",
        "\n",
        "Nassau = pd.concat([Albertson_1, Albertson_2,Albertson_3])"
      ],
      "execution_count": null,
      "outputs": []
    },
    {
      "cell_type": "code",
      "metadata": {
        "id": "dUI_ztIBbMIS"
      },
      "source": [
        "Atlantic = pd.read_csv(\"/content/Atlandtic Beach.csv\")"
      ],
      "execution_count": null,
      "outputs": []
    },
    {
      "cell_type": "code",
      "metadata": {
        "id": "k4ZaQac7-oFi"
      },
      "source": [
        "Nassau = pd.concat([Nassau, Atlantic])"
      ],
      "execution_count": null,
      "outputs": []
    },
    {
      "cell_type": "code",
      "metadata": {
        "colab": {
          "base_uri": "https://localhost:8080/"
        },
        "id": "UrlV-7SJU0uv",
        "outputId": "a35fce56-e9e7-418b-fff3-f82912341039"
      },
      "source": [
        "Nassau.shape"
      ],
      "execution_count": null,
      "outputs": [
        {
          "output_type": "execute_result",
          "data": {
            "text/plain": [
              "(1396, 25)"
            ]
          },
          "metadata": {
            "tags": []
          },
          "execution_count": 36
        }
      ]
    },
    {
      "cell_type": "code",
      "metadata": {
        "id": "qIcjDdRdbMDL"
      },
      "source": [
        "Baldwin_1 = pd.read_csv(\"/content/Baldwin.csv\")"
      ],
      "execution_count": null,
      "outputs": []
    },
    {
      "cell_type": "code",
      "metadata": {
        "id": "J8rNhBhabOxW"
      },
      "source": [
        "Baldwin_2 = pd.read_csv(\"/content/Baldwin_07.csv\")"
      ],
      "execution_count": null,
      "outputs": []
    },
    {
      "cell_type": "code",
      "metadata": {
        "id": "F3E_4XTcbOtN"
      },
      "source": [
        "Baldwin_3 = pd.read_csv(\"/content/Baldwin_08.csv\")"
      ],
      "execution_count": null,
      "outputs": []
    },
    {
      "cell_type": "code",
      "metadata": {
        "id": "tIWTA9j5bOpe"
      },
      "source": [
        "Baldwin_4 = pd.read_csv(\"/content/Baldwin_19.csv\")"
      ],
      "execution_count": null,
      "outputs": []
    },
    {
      "cell_type": "code",
      "metadata": {
        "id": "bAiJapk-bQ4_"
      },
      "source": [
        "Baldwin_5 = pd.read_csv(\"/content/Baldwin_2010.csv\")"
      ],
      "execution_count": null,
      "outputs": []
    },
    {
      "cell_type": "code",
      "metadata": {
        "id": "cmmh_a4CcUyg"
      },
      "source": [
        "Baldwin_6 = pd.read_csv(\"/content/Baldwin_2010.csv\")"
      ],
      "execution_count": null,
      "outputs": []
    },
    {
      "cell_type": "code",
      "metadata": {
        "id": "RbCUHP8bcUun"
      },
      "source": [
        "Baldwin_7 = pd.read_csv(\"/content/Baldwin_3.csv\")"
      ],
      "execution_count": null,
      "outputs": []
    },
    {
      "cell_type": "code",
      "metadata": {
        "id": "N0e5FoDicUq2"
      },
      "source": [
        "Baldwin_8 = pd.read_csv(\"/content/Baldwin_5.csv\")"
      ],
      "execution_count": null,
      "outputs": []
    },
    {
      "cell_type": "code",
      "metadata": {
        "id": "uA7Lqvy7cUm_"
      },
      "source": [
        "Baldwin_9 = pd.read_csv(\"/content/Balswin_4.csv\")"
      ],
      "execution_count": null,
      "outputs": []
    },
    {
      "cell_type": "code",
      "metadata": {
        "id": "4gK8L0iGbQvE"
      },
      "source": [
        "Baldwin_10 = pd.read_csv(\"/content/Balwon_3.csv\")"
      ],
      "execution_count": null,
      "outputs": []
    },
    {
      "cell_type": "code",
      "metadata": {
        "id": "0Zw5_Hhbc7Gl"
      },
      "source": [
        "Baldwin_11 = pd.read_csv(\"/content/Balwon_3.csv\")"
      ],
      "execution_count": null,
      "outputs": []
    },
    {
      "cell_type": "code",
      "metadata": {
        "id": "V0FMnrw1c7C8"
      },
      "source": [
        "Baldwin_12 = pd.read_csv(\"/content/Balswin_4.csv\")"
      ],
      "execution_count": null,
      "outputs": []
    },
    {
      "cell_type": "code",
      "metadata": {
        "id": "auIRt1kEc6_E"
      },
      "source": [
        "Baldwin_13 = pd.read_csv(\"/content/Balwwin.csv\")"
      ],
      "execution_count": null,
      "outputs": []
    },
    {
      "cell_type": "code",
      "metadata": {
        "id": "lxKSXMzFc67G"
      },
      "source": [
        "Baldwin_14 = pd.read_csv(\"/content/baldwin_2013.csv\")"
      ],
      "execution_count": null,
      "outputs": []
    },
    {
      "cell_type": "code",
      "metadata": {
        "id": "DVigQ1XU_EM6"
      },
      "source": [
        "Nassau = pd.concat([Nassau,Baldwin_1,Baldwin_2,Baldwin_3,Baldwin_4,Baldwin_5,\n",
        "                    Baldwin_6,Baldwin_7,Baldwin_8,Baldwin_9,Baldwin_10,\n",
        "                    Baldwin_11,Baldwin_12,Baldwin_13,Baldwin_14])"
      ],
      "execution_count": null,
      "outputs": []
    },
    {
      "cell_type": "code",
      "metadata": {
        "colab": {
          "base_uri": "https://localhost:8080/"
        },
        "id": "l4TBf4eYVD8l",
        "outputId": "195c4b37-38cc-4003-ddde-9a6477664c48"
      },
      "source": [
        "Nassau.shape"
      ],
      "execution_count": null,
      "outputs": [
        {
          "output_type": "execute_result",
          "data": {
            "text/plain": [
              "(6590, 25)"
            ]
          },
          "metadata": {
            "tags": []
          },
          "execution_count": 52
        }
      ]
    },
    {
      "cell_type": "code",
      "metadata": {
        "id": "u6XOUKXcdMqx"
      },
      "source": [
        "CarlPlace = pd.read_csv(\"/content/CarlPlace_21.csv\")"
      ],
      "execution_count": null,
      "outputs": []
    },
    {
      "cell_type": "code",
      "metadata": {
        "id": "xwKn7Ev3_1v2"
      },
      "source": [
        "Nassau = pd.concat([Nassau,CarlPlace])"
      ],
      "execution_count": null,
      "outputs": []
    },
    {
      "cell_type": "code",
      "metadata": {
        "colab": {
          "base_uri": "https://localhost:8080/"
        },
        "id": "WxCIv8h0VPKm",
        "outputId": "cb8c8377-5dee-4acf-b810-cdc145f3340d"
      },
      "source": [
        "Nassau.shape"
      ],
      "execution_count": null,
      "outputs": [
        {
          "output_type": "execute_result",
          "data": {
            "text/plain": [
              "(7026, 25)"
            ]
          },
          "metadata": {
            "tags": []
          },
          "execution_count": 55
        }
      ]
    },
    {
      "cell_type": "code",
      "metadata": {
        "id": "gdHLT3OOecTP"
      },
      "source": [
        "Cedarhust_1 = pd.read_csv(\"/content/Cedarhurst_15.csv\")"
      ],
      "execution_count": null,
      "outputs": []
    },
    {
      "cell_type": "code",
      "metadata": {
        "id": "oZTtbq79dNKc"
      },
      "source": [
        "Cedarhurst_2 = pd.read_csv(\"/content/Cedarhurst_21.csv\")"
      ],
      "execution_count": null,
      "outputs": []
    },
    {
      "cell_type": "code",
      "metadata": {
        "id": "A8gYyA0nACXB"
      },
      "source": [
        "Nassau = pd.concat([Nassau, Cedarhust_1, Cedarhurst_2])"
      ],
      "execution_count": null,
      "outputs": []
    },
    {
      "cell_type": "code",
      "metadata": {
        "colab": {
          "base_uri": "https://localhost:8080/"
        },
        "id": "ueBCbxqHVVVE",
        "outputId": "14bc08c3-85d6-4399-9e05-f23d4e72b36a"
      },
      "source": [
        "Nassau.shape"
      ],
      "execution_count": null,
      "outputs": [
        {
          "output_type": "execute_result",
          "data": {
            "text/plain": [
              "(7629, 25)"
            ]
          },
          "metadata": {
            "tags": []
          },
          "execution_count": 59
        }
      ]
    },
    {
      "cell_type": "code",
      "metadata": {
        "id": "_6DHPV94AvzA"
      },
      "source": [
        "EMead_1 = pd.read_csv(\"/content/East meadow _08.csv\")"
      ],
      "execution_count": null,
      "outputs": []
    },
    {
      "cell_type": "code",
      "metadata": {
        "id": "6IX-o7nSAvu4"
      },
      "source": [
        "EMead_2 = pd.read_csv(\"/content/East meadow_4.csv\")"
      ],
      "execution_count": null,
      "outputs": []
    },
    {
      "cell_type": "code",
      "metadata": {
        "id": "Xcupn4OTBEqs"
      },
      "source": [
        "EMead_3 = pd.read_csv(\"/content/EastMeadow_13.csv\")"
      ],
      "execution_count": null,
      "outputs": []
    },
    {
      "cell_type": "code",
      "metadata": {
        "id": "N0HkXNd0BEmn"
      },
      "source": [
        "EMead_4 = pd.read_csv(\"/content/EastMeadow_17.csv\")"
      ],
      "execution_count": null,
      "outputs": []
    },
    {
      "cell_type": "code",
      "metadata": {
        "id": "TKMUrLCJBEid"
      },
      "source": [
        "EMead_5 = pd.read_csv(\"/content/EastMeadow_18.csv\")"
      ],
      "execution_count": null,
      "outputs": []
    },
    {
      "cell_type": "code",
      "metadata": {
        "id": "KDyHjF7SBEe5"
      },
      "source": [
        "EMead_6 = pd.read_csv(\"/content/EastMeadow_19.csv\")"
      ],
      "execution_count": null,
      "outputs": []
    },
    {
      "cell_type": "code",
      "metadata": {
        "id": "x5Aikm0RBEbh"
      },
      "source": [
        "EMead_7 = pd.read_csv(\"/content/EastMeadow_5 copy.csv\")"
      ],
      "execution_count": null,
      "outputs": []
    },
    {
      "cell_type": "code",
      "metadata": {
        "id": "kpb7Q1ZuBEXM"
      },
      "source": [
        "EMead_8 = pd.read_csv(\"/content/EastMeadow_5.csv\")"
      ],
      "execution_count": null,
      "outputs": []
    },
    {
      "cell_type": "code",
      "metadata": {
        "id": "K9A8rxVGBKag"
      },
      "source": [
        "Nassau = pd.concat([Nassau, EMead_1,EMead_2,EMead_3,EMead_4,EMead_5,\n",
        "                    EMead_6,EMead_7,EMead_8])"
      ],
      "execution_count": null,
      "outputs": []
    },
    {
      "cell_type": "code",
      "metadata": {
        "colab": {
          "base_uri": "https://localhost:8080/"
        },
        "id": "dYWGSiw2VyH4",
        "outputId": "fa0a3765-81c4-40ec-8996-9b53a591720c"
      },
      "source": [
        "Nassau.shape"
      ],
      "execution_count": null,
      "outputs": [
        {
          "output_type": "execute_result",
          "data": {
            "text/plain": [
              "(10321, 25)"
            ]
          },
          "metadata": {
            "tags": []
          },
          "execution_count": 69
        }
      ]
    },
    {
      "cell_type": "code",
      "metadata": {
        "id": "UUdBKbWpdNOO"
      },
      "source": [
        "EastRockaway_1 = pd.read_csv(\"/content/ERockaway.csv\")"
      ],
      "execution_count": null,
      "outputs": []
    },
    {
      "cell_type": "code",
      "metadata": {
        "id": "Py_JCTOKeM36"
      },
      "source": [
        "EastRockaway_2 = pd.read_csv(\"/content/ERockaway_16.csv\")"
      ],
      "execution_count": null,
      "outputs": []
    },
    {
      "cell_type": "code",
      "metadata": {
        "id": "eWiZvITbbL-e"
      },
      "source": [
        "EastRockaway_3 = pd.read_csv(\"/content/EastRockaway_11.csv\")"
      ],
      "execution_count": null,
      "outputs": []
    },
    {
      "cell_type": "code",
      "metadata": {
        "id": "pBVQqBTsC_CZ"
      },
      "source": [
        "Nassau = pd.concat([Nassau ,EastRockaway_1, EastRockaway_2, EastRockaway_3 ])"
      ],
      "execution_count": null,
      "outputs": []
    },
    {
      "cell_type": "code",
      "metadata": {
        "colab": {
          "base_uri": "https://localhost:8080/"
        },
        "id": "dWOHoBbeV9Wr",
        "outputId": "435b52cf-044f-4922-8643-81f4279f906a"
      },
      "source": [
        "Nassau.shape"
      ],
      "execution_count": null,
      "outputs": [
        {
          "output_type": "execute_result",
          "data": {
            "text/plain": [
              "(11571, 25)"
            ]
          },
          "metadata": {
            "tags": []
          },
          "execution_count": 74
        }
      ]
    },
    {
      "cell_type": "code",
      "metadata": {
        "id": "IND6eGpfmVaT"
      },
      "source": [
        "Elmont_1 = pd.read_csv(\"/content/Elmont_09.csv\")"
      ],
      "execution_count": null,
      "outputs": []
    },
    {
      "cell_type": "code",
      "metadata": {
        "id": "UWCvWPUGmVWq"
      },
      "source": [
        "Elmont_2 = pd.read_csv(\"/content/Elmont_June_07.csv\")"
      ],
      "execution_count": null,
      "outputs": []
    },
    {
      "cell_type": "code",
      "metadata": {
        "id": "RA2dBGzz92Ga"
      },
      "source": [
        "Elmont_4 = pd.read_csv(\"/content/elmont 4_21.csv\")"
      ],
      "execution_count": null,
      "outputs": []
    },
    {
      "cell_type": "code",
      "metadata": {
        "id": "3O5EUFGD92Cy"
      },
      "source": [
        "Elmont_5 = pd.read_csv(\"/content/elmont8_20.csv\")"
      ],
      "execution_count": null,
      "outputs": []
    },
    {
      "cell_type": "code",
      "metadata": {
        "id": "4F_yYORE-YGH"
      },
      "source": [
        "Elmont_6 = pd.read_csv(\"/content/elmont_11.csv\")"
      ],
      "execution_count": null,
      "outputs": []
    },
    {
      "cell_type": "code",
      "metadata": {
        "id": "b25uIAy7-X8U"
      },
      "source": [
        "Elmont_7 = pd.read_csv(\"/content/elmont_13.csv\")"
      ],
      "execution_count": null,
      "outputs": []
    },
    {
      "cell_type": "code",
      "metadata": {
        "id": "WW5GF0Z1-Xwz"
      },
      "source": [
        "Elmont_8 = pd.read_csv(\"/content/elmont_15.csv\")"
      ],
      "execution_count": null,
      "outputs": []
    },
    {
      "cell_type": "code",
      "metadata": {
        "id": "1JJa0N0D-Xib"
      },
      "source": [
        "Elmont_9 = pd.read_csv(\"/content/elmont_17.csv\")"
      ],
      "execution_count": null,
      "outputs": []
    },
    {
      "cell_type": "code",
      "metadata": {
        "id": "6Ej2EWZS-XNm"
      },
      "source": [
        "Elmont_10 = pd.read_csv(\"/content/elmont_18.csv\")"
      ],
      "execution_count": null,
      "outputs": []
    },
    {
      "cell_type": "code",
      "metadata": {
        "id": "0kW7cFoPDxPk"
      },
      "source": [
        "Nassau = pd.concat([Nassau,Elmont_1, Elmont_2, Elmont_4,Elmont_5,\n",
        "                    Elmont_6,Elmont_7,Elmont_8,Elmont_9,Elmont_10])"
      ],
      "execution_count": null,
      "outputs": []
    },
    {
      "cell_type": "code",
      "metadata": {
        "id": "HlGYsYDo91-u"
      },
      "source": [
        "Floral_1 = pd.read_csv(\"/content/Floral_06:07.csv\")"
      ],
      "execution_count": null,
      "outputs": []
    },
    {
      "cell_type": "code",
      "metadata": {
        "id": "Qpeu3Kfe917G"
      },
      "source": [
        "Floral_2 = pd.read_csv(\"/content/Floral_09.csv\")"
      ],
      "execution_count": null,
      "outputs": []
    },
    {
      "cell_type": "code",
      "metadata": {
        "id": "xv6q64E0912c"
      },
      "source": [
        "Floral_3 = pd.read_csv(\"/content/Floral_11.csv\")"
      ],
      "execution_count": null,
      "outputs": []
    },
    {
      "cell_type": "code",
      "metadata": {
        "id": "LYb9zOXY91zG"
      },
      "source": [
        "Floral_4 = pd.read_csv(\"/content/Floral_13.csv\")"
      ],
      "execution_count": null,
      "outputs": []
    },
    {
      "cell_type": "code",
      "metadata": {
        "id": "z7Q2Mh1CDq5U"
      },
      "source": [
        "Floral_5 = pd.read_csv(\"/content/Floral_15.csv\")"
      ],
      "execution_count": null,
      "outputs": []
    },
    {
      "cell_type": "code",
      "metadata": {
        "id": "24_IIr0eDq2c"
      },
      "source": [
        "Floral_6 = pd.read_csv(\"/content/Floral_17.csv\")"
      ],
      "execution_count": null,
      "outputs": []
    },
    {
      "cell_type": "code",
      "metadata": {
        "id": "qpTw8aLEDqzD"
      },
      "source": [
        "Floral_7 = pd.read_csv(\"/content/Floral_19.csv\")"
      ],
      "execution_count": null,
      "outputs": []
    },
    {
      "cell_type": "code",
      "metadata": {
        "id": "5ChUuCSPDqwF"
      },
      "source": [
        "Floral_8 = pd.read_csv(\"/content/Floral_21.csv\")"
      ],
      "execution_count": null,
      "outputs": []
    },
    {
      "cell_type": "code",
      "metadata": {
        "id": "MvvNzBO1FOuY"
      },
      "source": [
        "Nassau = pd.concat([Nassau,Floral_1,Floral_2,Floral_3,Floral_4,\n",
        "                    Floral_5,Floral_6,Floral_7,Floral_8])"
      ],
      "execution_count": null,
      "outputs": []
    },
    {
      "cell_type": "code",
      "metadata": {
        "colab": {
          "base_uri": "https://localhost:8080/"
        },
        "id": "sS1sma0RWQXk",
        "outputId": "d92018bd-8b90-4bc0-a7af-2c27ac7d3420"
      },
      "source": [
        "Nassau.shape"
      ],
      "execution_count": null,
      "outputs": [
        {
          "output_type": "execute_result",
          "data": {
            "text/plain": [
              "(18108, 25)"
            ]
          },
          "metadata": {
            "tags": []
          },
          "execution_count": 94
        }
      ]
    },
    {
      "cell_type": "code",
      "metadata": {
        "id": "MYGcC7zVFO5M"
      },
      "source": [
        "Frankln_1 = pd.read_csv(\"/content/Frank_16.csv\")"
      ],
      "execution_count": null,
      "outputs": []
    },
    {
      "cell_type": "code",
      "metadata": {
        "id": "7b_RevFsFO19"
      },
      "source": [
        "Frankln_2 = pd.read_csv(\"/content/Frank_18.csv\")"
      ],
      "execution_count": null,
      "outputs": []
    },
    {
      "cell_type": "code",
      "metadata": {
        "id": "DsHYBBqrFOyN"
      },
      "source": [
        "Frankln_3 = pd.read_csv(\"/content/Frank_April_21.csv\")"
      ],
      "execution_count": null,
      "outputs": []
    },
    {
      "cell_type": "code",
      "metadata": {
        "id": "QQJhQhldDqtQ"
      },
      "source": [
        "Frankln_4 = pd.read_csv(\"/content/Franklin_08.csv\")"
      ],
      "execution_count": null,
      "outputs": []
    },
    {
      "cell_type": "code",
      "metadata": {
        "id": "ao9vsI9fDqqR"
      },
      "source": [
        "Frankln_5 = pd.read_csv(\"/content/Franklin_12.csv\")"
      ],
      "execution_count": null,
      "outputs": []
    },
    {
      "cell_type": "code",
      "metadata": {
        "id": "H9kHI5T9Dqnh"
      },
      "source": [
        "Frankln_6 = pd.read_csv(\"/content/Franklin_14.csv\")"
      ],
      "execution_count": null,
      "outputs": []
    },
    {
      "cell_type": "code",
      "metadata": {
        "id": "JguUXeWLDqkz"
      },
      "source": [
        "Frankln_7 = pd.read_csv(\"/content/Franlin_10.csv\")"
      ],
      "execution_count": null,
      "outputs": []
    },
    {
      "cell_type": "code",
      "metadata": {
        "id": "LdT5eOkRF2xe"
      },
      "source": [
        "Nassau = pd.concat([Nassau,Frankln_1,Frankln_2,Frankln_3,Frankln_4,\n",
        "                    Frankln_5,Frankln_6,Frankln_7])"
      ],
      "execution_count": null,
      "outputs": []
    },
    {
      "cell_type": "code",
      "metadata": {
        "colab": {
          "base_uri": "https://localhost:8080/"
        },
        "id": "X5XJUhYYW6wL",
        "outputId": "d383bd30-f479-456d-80cb-77ccc6ef27e9"
      },
      "source": [
        "Nassau.shape"
      ],
      "execution_count": null,
      "outputs": [
        {
          "output_type": "execute_result",
          "data": {
            "text/plain": [
              "(20853, 25)"
            ]
          },
          "metadata": {
            "tags": []
          },
          "execution_count": 104
        }
      ]
    },
    {
      "cell_type": "code",
      "metadata": {
        "id": "htV8HCGEDqhk"
      },
      "source": [
        "Freeport_1 = pd.read_csv(\"/content/Freeport_07.csv\")"
      ],
      "execution_count": null,
      "outputs": []
    },
    {
      "cell_type": "code",
      "metadata": {
        "id": "Rtl-vlG0Dqeg"
      },
      "source": [
        "Freeport_2 = pd.read_csv(\"/content/Freeport_09.csv\")"
      ],
      "execution_count": null,
      "outputs": []
    },
    {
      "cell_type": "code",
      "metadata": {
        "id": "jelfmLziLpGM"
      },
      "source": [
        "Freeport_3 = pd.read_csv(\"/content/Freeport_11.csv\")"
      ],
      "execution_count": null,
      "outputs": []
    },
    {
      "cell_type": "code",
      "metadata": {
        "id": "s9MtpbXGLpBj"
      },
      "source": [
        "Freeport_5 = pd.read_csv(\"/content/Freeport_13.csv\")"
      ],
      "execution_count": null,
      "outputs": []
    },
    {
      "cell_type": "code",
      "metadata": {
        "id": "njbKFyEmLo90"
      },
      "source": [
        "Freeport_6 = pd.read_csv(\"/content/Freeport_15.csv\")"
      ],
      "execution_count": null,
      "outputs": []
    },
    {
      "cell_type": "code",
      "metadata": {
        "id": "yPDajgu8Lo5Y"
      },
      "source": [
        "Freeport_7 = pd.read_csv(\"/content/Freeport_17.csv\")"
      ],
      "execution_count": null,
      "outputs": []
    },
    {
      "cell_type": "code",
      "metadata": {
        "id": "mRzS8oibLo1c"
      },
      "source": [
        "Freeport_8 = pd.read_csv(\"/content/Freeport_18.csv\")"
      ],
      "execution_count": null,
      "outputs": []
    },
    {
      "cell_type": "code",
      "metadata": {
        "id": "mj1v78UCLoxm"
      },
      "source": [
        "Freeport_9 = pd.read_csv(\"/content/Freeport_19.csv\")"
      ],
      "execution_count": null,
      "outputs": []
    },
    {
      "cell_type": "code",
      "metadata": {
        "id": "s5OdlMlaLotm"
      },
      "source": [
        "Freeport_10 = pd.read_csv(\"/content/Freeport_18.csv\")"
      ],
      "execution_count": null,
      "outputs": []
    },
    {
      "cell_type": "code",
      "metadata": {
        "id": "Ra7kz-RiLopc"
      },
      "source": [
        "Freeport_11 = pd.read_csv(\"/content/Freeport_18.csv\")"
      ],
      "execution_count": null,
      "outputs": []
    },
    {
      "cell_type": "code",
      "metadata": {
        "id": "xprclAqMLolh"
      },
      "source": [
        "Freeport_12 = pd.read_csv(\"/content/Freeport_21.csv\")"
      ],
      "execution_count": null,
      "outputs": []
    },
    {
      "cell_type": "code",
      "metadata": {
        "id": "zBsIUa9HGTYt"
      },
      "source": [
        "Nassau = pd.concat([Nassau,Freeport_1,Freeport_2,Freeport_3,\n",
        "                    Freeport_5,Freeport_6,Freeport_7,Freeport_8,\n",
        "                    Freeport_9,Freeport_10,Freeport_11,Freeport_12])"
      ],
      "execution_count": null,
      "outputs": []
    },
    {
      "cell_type": "code",
      "metadata": {
        "colab": {
          "base_uri": "https://localhost:8080/"
        },
        "id": "ZhS9FV5yXC33",
        "outputId": "19b00256-d7c4-4a13-dabc-2e9fca2d71eb"
      },
      "source": [
        "Nassau.shape"
      ],
      "execution_count": null,
      "outputs": [
        {
          "output_type": "execute_result",
          "data": {
            "text/plain": [
              "(24937, 25)"
            ]
          },
          "metadata": {
            "tags": []
          },
          "execution_count": 117
        }
      ]
    },
    {
      "cell_type": "code",
      "metadata": {
        "id": "Zyxqo3ECQcBX"
      },
      "source": [
        "GardenCity_1 = pd.read_csv(\"/content/GardenCity_1.csv\")"
      ],
      "execution_count": null,
      "outputs": []
    },
    {
      "cell_type": "code",
      "metadata": {
        "id": "I57Hw-DaXR_B"
      },
      "source": [
        "GardenCity_2 = pd.read_csv(\"//content/GardenCity_09.csv\")"
      ],
      "execution_count": null,
      "outputs": []
    },
    {
      "cell_type": "code",
      "metadata": {
        "id": "-b5-Q0D7XR6l"
      },
      "source": [
        "GardenCity_3 = pd.read_csv(\"/content/GardenCity_11.csv\")\n",
        "\n"
      ],
      "execution_count": null,
      "outputs": []
    },
    {
      "cell_type": "code",
      "metadata": {
        "id": "ZhseXIYEXR1O"
      },
      "source": [
        "GardenCity_4 = pd.read_csv(\"/content/GardenCity_12.csv\")"
      ],
      "execution_count": null,
      "outputs": []
    },
    {
      "cell_type": "code",
      "metadata": {
        "id": "uxy3WDhYXRxP"
      },
      "source": [
        "GardenCity_5 = pd.read_csv(\"/content/GardenCity_13.csv\")"
      ],
      "execution_count": null,
      "outputs": []
    },
    {
      "cell_type": "code",
      "metadata": {
        "id": "TLTN8pLyXRs0"
      },
      "source": [
        "GardenCity_6 = pd.read_csv(\"/content/GardenCity_14.csv\")"
      ],
      "execution_count": null,
      "outputs": []
    },
    {
      "cell_type": "code",
      "metadata": {
        "id": "u6dAwYpGXRpI"
      },
      "source": [
        "GardenCity_7 = pd.read_csv(\"/content/GardenCity_15.csv\")"
      ],
      "execution_count": null,
      "outputs": []
    },
    {
      "cell_type": "code",
      "metadata": {
        "id": "_EgE_1voXRkQ"
      },
      "source": [
        "GardenCity_8 = pd.read_csv(\"/content/GardenCity_17.csv\")"
      ],
      "execution_count": null,
      "outputs": []
    },
    {
      "cell_type": "code",
      "metadata": {
        "id": "b2DmkRCyXRgm"
      },
      "source": [
        "GardenCity_9 = pd.read_csv(\"/content/GardenCity_18.csv\")"
      ],
      "execution_count": null,
      "outputs": []
    },
    {
      "cell_type": "code",
      "metadata": {
        "id": "wge7aWTtXRcI"
      },
      "source": [
        "GardenCity_10 = pd.read_csv(\"/content/GardenCity_21.csv\")"
      ],
      "execution_count": null,
      "outputs": []
    },
    {
      "cell_type": "code",
      "metadata": {
        "id": "6amPT1AKXRX7"
      },
      "source": [
        "GardenCity_11 = pd.read_csv(\"/content/GardenCity_4.csv\")"
      ],
      "execution_count": null,
      "outputs": []
    },
    {
      "cell_type": "code",
      "metadata": {
        "id": "AZKplkbNXRTQ"
      },
      "source": [
        "GardenCity_12 = pd.read_csv(\"/content/Gardencity_07.csv\")"
      ],
      "execution_count": null,
      "outputs": []
    },
    {
      "cell_type": "code",
      "metadata": {
        "id": "mdjx70UrXRPd"
      },
      "source": [
        "GardenCity_13 = pd.read_csv(\"/content/Gardencity_2.csv\")"
      ],
      "execution_count": null,
      "outputs": []
    },
    {
      "cell_type": "code",
      "metadata": {
        "id": "TRRspyuWXRK-"
      },
      "source": [
        "GardenCity_14 = pd.read_csv(\"/content/Gardencity_5.csv\")"
      ],
      "execution_count": null,
      "outputs": []
    },
    {
      "cell_type": "code",
      "metadata": {
        "id": "GT8GvrBbXRGg"
      },
      "source": [
        "GardenCity_15 = pd.read_csv(\"/content/GarrdenCity_16.csv\")"
      ],
      "execution_count": null,
      "outputs": []
    },
    {
      "cell_type": "code",
      "metadata": {
        "id": "WhFECr-ZHI2X"
      },
      "source": [
        "Nassau = pd.concat([Nassau, GardenCity_1,GardenCity_2,GardenCity_3,\n",
        "                    GardenCity_4,GardenCity_5,GardenCity_6,GardenCity_7,GardenCity_8,\n",
        "                    GardenCity_9,GardenCity_10,GardenCity_11,GardenCity_12,\n",
        "                    GardenCity_13,GardenCity_14, GardenCity_15])"
      ],
      "execution_count": null,
      "outputs": []
    },
    {
      "cell_type": "code",
      "metadata": {
        "colab": {
          "base_uri": "https://localhost:8080/"
        },
        "id": "3KYc7yTdHsif",
        "outputId": "e852fc84-9ac6-4ee9-9932-e0d5deae5df7"
      },
      "source": [
        "Nassau.shape"
      ],
      "execution_count": null,
      "outputs": [
        {
          "output_type": "execute_result",
          "data": {
            "text/plain": [
              "(30605, 25)"
            ]
          },
          "metadata": {
            "tags": []
          },
          "execution_count": 134
        }
      ]
    },
    {
      "cell_type": "code",
      "metadata": {
        "id": "fw52lCPJH8JU"
      },
      "source": [
        "GlenCove_1 = pd.read_csv(\"/content/GlenCove3.csv\")"
      ],
      "execution_count": null,
      "outputs": []
    },
    {
      "cell_type": "code",
      "metadata": {
        "id": "pgSd66pCH8Fa"
      },
      "source": [
        "GlenCove_2 = pd.read_csv(\"/content/GlenCove_06.csv\")"
      ],
      "execution_count": null,
      "outputs": []
    },
    {
      "cell_type": "code",
      "metadata": {
        "id": "BK3hib3AH8BV"
      },
      "source": [
        "GlenCove_3 = pd.read_csv(\"/content/GlenCove_07.csv\")"
      ],
      "execution_count": null,
      "outputs": []
    },
    {
      "cell_type": "code",
      "metadata": {
        "id": "QSZUkbv2H79a"
      },
      "source": [
        "GlenCove_4 = pd.read_csv(\"/content/GlenCove_08.csv\")"
      ],
      "execution_count": null,
      "outputs": []
    },
    {
      "cell_type": "code",
      "metadata": {
        "id": "7ARvkDN0H75m"
      },
      "source": [
        "GlenCove_5 = pd.read_csv(\"/content/GlenCove_1.csv\")"
      ],
      "execution_count": null,
      "outputs": []
    },
    {
      "cell_type": "code",
      "metadata": {
        "id": "-LpIjz9KH72U"
      },
      "source": [
        "GlenCove_6 = pd.read_csv(\"/content/GlenCove_10.csv\")"
      ],
      "execution_count": null,
      "outputs": []
    },
    {
      "cell_type": "code",
      "metadata": {
        "id": "PBjoDjrWH7y1"
      },
      "source": [
        "GlenCove_7 = pd.read_csv(\"/content/GlenCove_12 copy.csv\")"
      ],
      "execution_count": null,
      "outputs": []
    },
    {
      "cell_type": "code",
      "metadata": {
        "id": "Z_ME4LluH7uV"
      },
      "source": [
        "GlenCove_8 = pd.read_csv(\"/content/GlenCove_12.csv\")"
      ],
      "execution_count": null,
      "outputs": []
    },
    {
      "cell_type": "code",
      "metadata": {
        "id": "Yh3nIpylIRlU"
      },
      "source": [
        "GlenCove_8 = pd.read_csv(\"/content/GlenCove_16 copy.csv\")"
      ],
      "execution_count": null,
      "outputs": []
    },
    {
      "cell_type": "code",
      "metadata": {
        "id": "h_ag_jOqIRhg"
      },
      "source": [
        "GlenCove_10 = pd.read_csv(\"/content/GlenCove_16.csv\")"
      ],
      "execution_count": null,
      "outputs": []
    },
    {
      "cell_type": "code",
      "metadata": {
        "id": "fYn3d2a4IRds"
      },
      "source": [
        "GlenCove_11 = pd.read_csv(\"/content/GlenCove_17.csv\")"
      ],
      "execution_count": null,
      "outputs": []
    },
    {
      "cell_type": "code",
      "metadata": {
        "id": "zw0Mx5BDIRZM"
      },
      "source": [
        "GlenCove_12 = pd.read_csv(\"/content/GlenCove_18.csv\")"
      ],
      "execution_count": null,
      "outputs": []
    },
    {
      "cell_type": "code",
      "metadata": {
        "id": "UAgMAIp0IRU_"
      },
      "source": [
        "GlenCove_13 = pd.read_csv(\"/content/GlenCove_9.csv\")"
      ],
      "execution_count": null,
      "outputs": []
    },
    {
      "cell_type": "code",
      "metadata": {
        "id": "mIYLY5GYI4gm"
      },
      "source": [
        "Nassau = pd.concat([Nassau ,GlenCove_1,GlenCove_2,GlenCove_3,GlenCove_4,\n",
        "                    GlenCove_5,GlenCove_6,GlenCove_7,GlenCove_8,\n",
        "                    GlenCove_10,GlenCove_11,GlenCove_12,GlenCove_13])"
      ],
      "execution_count": null,
      "outputs": []
    },
    {
      "cell_type": "code",
      "metadata": {
        "colab": {
          "base_uri": "https://localhost:8080/"
        },
        "id": "zl2fYsoBI4cK",
        "outputId": "c8bd8a13-a2ce-4c7a-b823-b487933dd529"
      },
      "source": [
        "Nassau.shape"
      ],
      "execution_count": null,
      "outputs": [
        {
          "output_type": "execute_result",
          "data": {
            "text/plain": [
              "(34570, 25)"
            ]
          },
          "metadata": {
            "tags": []
          },
          "execution_count": 149
        }
      ]
    },
    {
      "cell_type": "code",
      "metadata": {
        "id": "2N6SOaFOH7qY"
      },
      "source": [
        "# safety copy\n",
        "Nassau.to_csv('Nassau_safety_1.csv')"
      ],
      "execution_count": null,
      "outputs": []
    },
    {
      "cell_type": "code",
      "metadata": {
        "id": "POb6xwrqYCkt"
      },
      "source": [
        "Greenvale = pd.read_csv(\"/content/Greenvale_21.csv\")"
      ],
      "execution_count": null,
      "outputs": []
    },
    {
      "cell_type": "code",
      "metadata": {
        "id": "lqeL25XVYTPr"
      },
      "source": [
        "Nassau = pd.concat([Nassau,Greenvale])"
      ],
      "execution_count": null,
      "outputs": []
    },
    {
      "cell_type": "code",
      "metadata": {
        "colab": {
          "base_uri": "https://localhost:8080/"
        },
        "id": "7VZtzfffYezc",
        "outputId": "f18e0030-f4a1-4a03-be19-2c604325e9aa"
      },
      "source": [
        "Nassau.shape"
      ],
      "execution_count": null,
      "outputs": [
        {
          "output_type": "execute_result",
          "data": {
            "text/plain": [
              "(34837, 25)"
            ]
          },
          "metadata": {
            "tags": []
          },
          "execution_count": 152
        }
      ]
    },
    {
      "cell_type": "code",
      "metadata": {
        "id": "XVFAUwZHK8uu"
      },
      "source": [
        "GrtNk_1 = pd.read_csv(\"/content/GrtNk.csv\")"
      ],
      "execution_count": null,
      "outputs": []
    },
    {
      "cell_type": "code",
      "metadata": {
        "id": "QNKSI2iKK8qz"
      },
      "source": [
        "GrtNk_2 = pd.read_csv(\"/content/GrtNk_06.csv\")"
      ],
      "execution_count": null,
      "outputs": []
    },
    {
      "cell_type": "code",
      "metadata": {
        "id": "tNAoZzV_K8m8"
      },
      "source": [
        "GrtNk_3 = pd.read_csv(\"/content/GrtNk_08.csv\")"
      ],
      "execution_count": null,
      "outputs": []
    },
    {
      "cell_type": "code",
      "metadata": {
        "id": "bDGfUOHaK8jy"
      },
      "source": [
        "GrtNk_4 = pd.read_csv(\"/content/GrtNk_10.csv\")"
      ],
      "execution_count": null,
      "outputs": []
    },
    {
      "cell_type": "code",
      "metadata": {
        "id": "mMXWd3aUK8fM"
      },
      "source": [
        "GrtNk_5 = pd.read_csv(\"/content/GrtNk_11.csv\")"
      ],
      "execution_count": null,
      "outputs": []
    },
    {
      "cell_type": "code",
      "metadata": {
        "id": "T66cI2isLLVi"
      },
      "source": [
        "GrtNk_6 = pd.read_csv(\"/content/GrtNk_12.csv\")"
      ],
      "execution_count": null,
      "outputs": []
    },
    {
      "cell_type": "code",
      "metadata": {
        "id": "q7sCKaTgLLSB"
      },
      "source": [
        "GrtNk_7 = pd.read_csv(\"/content/GrtNk_13.csv\")"
      ],
      "execution_count": null,
      "outputs": []
    },
    {
      "cell_type": "code",
      "metadata": {
        "id": "qZezDSjPLLOE"
      },
      "source": [
        "GrtNk_8 = pd.read_csv(\"/content/GrtNk_14.csv\")"
      ],
      "execution_count": null,
      "outputs": []
    },
    {
      "cell_type": "code",
      "metadata": {
        "id": "9BmqcW-ZLLKx"
      },
      "source": [
        "GrtNk_9 = pd.read_csv(\"/content/GrtNk_15.csv\")"
      ],
      "execution_count": null,
      "outputs": []
    },
    {
      "cell_type": "code",
      "metadata": {
        "id": "PrUMJ5WCLLHE"
      },
      "source": [
        "GrtNk_10 = pd.read_csv(\"/content/GrtNk_17.csv\")"
      ],
      "execution_count": null,
      "outputs": []
    },
    {
      "cell_type": "code",
      "metadata": {
        "id": "q5vEE-CQLLDz"
      },
      "source": [
        "GrtNk_11 = pd.read_csv(\"/content/GrtNk_18.csv\")"
      ],
      "execution_count": null,
      "outputs": []
    },
    {
      "cell_type": "code",
      "metadata": {
        "id": "vVbBQ2KtLK_X"
      },
      "source": [
        "GrtNk_12 = pd.read_csv(\"/content/GrtNk_20.csv\")"
      ],
      "execution_count": null,
      "outputs": []
    },
    {
      "cell_type": "code",
      "metadata": {
        "id": "mkG_2PygLK6k"
      },
      "source": [
        "GrtNk_13 = pd.read_csv(\"/content/GrtNk_21.csv\")"
      ],
      "execution_count": null,
      "outputs": []
    },
    {
      "cell_type": "code",
      "metadata": {
        "id": "gHzn64S4LPVg"
      },
      "source": [
        "GrtNk_14 = pd.read_csv(\"/content/GrtNk_2010.csv\")"
      ],
      "execution_count": null,
      "outputs": []
    },
    {
      "cell_type": "code",
      "metadata": {
        "id": "voiK-IK9LPR6"
      },
      "source": [
        "GrtNk_15 = pd.read_csv(\"/content/GrtNk_2016.csv\")"
      ],
      "execution_count": null,
      "outputs": []
    },
    {
      "cell_type": "code",
      "metadata": {
        "id": "j0uCL6bFLPN9"
      },
      "source": [
        "Nassau = pd.concat([Nassau ,GrtNk_1,GrtNk_2,GrtNk_3,GrtNk_4,GrtNk_5,\n",
        "                    GrtNk_6,GrtNk_7,GrtNk_8,GrtNk_9,GrtNk_10,GrtNk_11,\n",
        "                    GrtNk_12,GrtNk_13,GrtNk_14,GrtNk_15])"
      ],
      "execution_count": null,
      "outputs": []
    },
    {
      "cell_type": "code",
      "metadata": {
        "colab": {
          "base_uri": "https://localhost:8080/"
        },
        "id": "v4dPpoIjY4RK",
        "outputId": "5608365e-c3eb-4d3c-cd2a-50a12d89afce"
      },
      "source": [
        "Nassau.shape"
      ],
      "execution_count": null,
      "outputs": [
        {
          "output_type": "execute_result",
          "data": {
            "text/plain": [
              "(39848, 25)"
            ]
          },
          "metadata": {
            "tags": []
          },
          "execution_count": 169
        }
      ]
    },
    {
      "cell_type": "code",
      "metadata": {
        "id": "XhQgfWEkLK25"
      },
      "source": [
        "Hemp_1 = pd.read_csv(\"/content/Hemp_06.csv\")"
      ],
      "execution_count": null,
      "outputs": []
    },
    {
      "cell_type": "code",
      "metadata": {
        "id": "rLDKDxd_NTLw"
      },
      "source": [
        "Hemp_2 = pd.read_csv(\"/content/Hemp_08.csv\")"
      ],
      "execution_count": null,
      "outputs": []
    },
    {
      "cell_type": "code",
      "metadata": {
        "id": "uNe7fcNFNTH4"
      },
      "source": [
        "Hemp_3 = pd.read_csv(\"/content/Hemp_17.csv\")"
      ],
      "execution_count": null,
      "outputs": []
    },
    {
      "cell_type": "code",
      "metadata": {
        "id": "iBfdY5xCNTA7"
      },
      "source": [
        "Hemp_4 = pd.read_csv(\"/content/Hemp_1.csv\")"
      ],
      "execution_count": null,
      "outputs": []
    },
    {
      "cell_type": "code",
      "metadata": {
        "id": "-aNlM8EaNS6W"
      },
      "source": [
        "Hemp_5 = pd.read_csv(\"/content/Hemp_18.csv\")"
      ],
      "execution_count": null,
      "outputs": []
    },
    {
      "cell_type": "code",
      "metadata": {
        "id": "9b8GUYfcNS3P"
      },
      "source": [
        "Hemp_6 = pd.read_csv(\"/content/Hemp_19.csv\")"
      ],
      "execution_count": null,
      "outputs": []
    },
    {
      "cell_type": "code",
      "metadata": {
        "id": "icVuI2gSNS0K"
      },
      "source": [
        "Hemp_7 = pd.read_csv(\"/content/Hemp_17.csv\")"
      ],
      "execution_count": null,
      "outputs": []
    },
    {
      "cell_type": "code",
      "metadata": {
        "id": "Nz4NAAtxNSxD"
      },
      "source": [
        "Hemp_8 = pd.read_csv(\"/content/Hemp_2010.csv\")"
      ],
      "execution_count": null,
      "outputs": []
    },
    {
      "cell_type": "code",
      "metadata": {
        "id": "Tc8Rr1w2NSuD"
      },
      "source": [
        "Hemp_9 = pd.read_csv(\"/content/Hemp_2013.csv\")"
      ],
      "execution_count": null,
      "outputs": []
    },
    {
      "cell_type": "code",
      "metadata": {
        "id": "7yWHcAlSNSrC"
      },
      "source": [
        "Hemp_10 = pd.read_csv(\"/content/Hemp_21.csv\")"
      ],
      "execution_count": null,
      "outputs": []
    },
    {
      "cell_type": "code",
      "metadata": {
        "id": "ud_UYUMVNSny"
      },
      "source": [
        "Hemp_11 = pd.read_csv(\"/content/Hemp_3 copy.csv\")"
      ],
      "execution_count": null,
      "outputs": []
    },
    {
      "cell_type": "code",
      "metadata": {
        "id": "dZ8cZ55sNShG"
      },
      "source": [
        "Hemp_12 = pd.read_csv(\"/content/Hemp_4.csv\")"
      ],
      "execution_count": null,
      "outputs": []
    },
    {
      "cell_type": "code",
      "metadata": {
        "id": "EQh5zlRvK8a_"
      },
      "source": [
        "Nassau = pd.concat([Nassau , Hemp_1,Hemp_2,Hemp_3,Hemp_4,\n",
        "                    Hemp_5,Hemp_6,Hemp_7,Hemp_8,Hemp_9,\n",
        "                    Hemp_10,Hemp_11,Hemp_12])"
      ],
      "execution_count": null,
      "outputs": []
    },
    {
      "cell_type": "code",
      "metadata": {
        "colab": {
          "base_uri": "https://localhost:8080/"
        },
        "id": "NvqsaUWBOzoO",
        "outputId": "9a602747-8632-4d26-e2dc-a87c2f2dc98f"
      },
      "source": [
        "Nassau.shape"
      ],
      "execution_count": null,
      "outputs": [
        {
          "output_type": "execute_result",
          "data": {
            "text/plain": [
              "(43599, 25)"
            ]
          },
          "metadata": {
            "tags": []
          },
          "execution_count": 183
        }
      ]
    },
    {
      "cell_type": "code",
      "metadata": {
        "id": "OjFsABtfPBGZ"
      },
      "source": [
        "Hewlet_1 = pd.read_csv(\"/content/hewlet_4.csv\")"
      ],
      "execution_count": null,
      "outputs": []
    },
    {
      "cell_type": "code",
      "metadata": {
        "id": "2vCLNwQDPBC0"
      },
      "source": [
        "Hewlet_2 = pd.read_csv(\"/content/hewlet_18.csv\")"
      ],
      "execution_count": null,
      "outputs": []
    },
    {
      "cell_type": "code",
      "metadata": {
        "id": "bPKAUojkPA_Z"
      },
      "source": [
        "Hewlet_3 = pd.read_csv(\"/content/hewlet_1.csv\")"
      ],
      "execution_count": null,
      "outputs": []
    },
    {
      "cell_type": "code",
      "metadata": {
        "id": "NFakaS-saKNb"
      },
      "source": [
        "Hewlet_4 = pd.read_csv(\"/content/Hewlet_21.csv\")"
      ],
      "execution_count": null,
      "outputs": []
    },
    {
      "cell_type": "code",
      "metadata": {
        "id": "ybCSQkjAZ3Ca"
      },
      "source": [
        "Nassau = pd.concat([Nassau, Hewlet_1,Hewlet_2,Hewlet_3,Hewlet_4])"
      ],
      "execution_count": null,
      "outputs": []
    },
    {
      "cell_type": "code",
      "metadata": {
        "colab": {
          "base_uri": "https://localhost:8080/"
        },
        "id": "TMRl7EEKaeIY",
        "outputId": "a887cd6b-6158-4214-edb0-15154b58ab76"
      },
      "source": [
        "Nassau.shape"
      ],
      "execution_count": null,
      "outputs": [
        {
          "output_type": "execute_result",
          "data": {
            "text/plain": [
              "(45150, 25)"
            ]
          },
          "metadata": {
            "tags": []
          },
          "execution_count": 190
        }
      ]
    },
    {
      "cell_type": "code",
      "metadata": {
        "id": "YajlBNlvPy1l"
      },
      "source": [
        "IslandPark_1 = pd.read_csv(\"/content/IIsandPark_13.csv\")"
      ],
      "execution_count": null,
      "outputs": []
    },
    {
      "cell_type": "code",
      "metadata": {
        "id": "P8-egz5CPyzJ"
      },
      "source": [
        "IslandPark_2 = pd.read_csv(\"/content/IslandPArk2.csv\")"
      ],
      "execution_count": null,
      "outputs": []
    },
    {
      "cell_type": "code",
      "metadata": {
        "id": "ZHWfrz4RPyv4"
      },
      "source": [
        "IslandPark_3 = pd.read_csv(\"/content/IslandPArk_21.csv\")"
      ],
      "execution_count": null,
      "outputs": []
    },
    {
      "cell_type": "code",
      "metadata": {
        "id": "CUj_nyAUPysr"
      },
      "source": [
        "IslandPark_4 = pd.read_csv(\"/content/IslandPark#.csv\")"
      ],
      "execution_count": null,
      "outputs": []
    },
    {
      "cell_type": "code",
      "metadata": {
        "id": "nAYibZdiPypa"
      },
      "source": [
        "IslandPark_5 = pd.read_csv(\"/content/IslandPark4.csv\")"
      ],
      "execution_count": null,
      "outputs": []
    },
    {
      "cell_type": "code",
      "metadata": {
        "id": "bJ8w-9DtPymB"
      },
      "source": [
        "Nassau = pd.concat([Nassau , IslandPark_1,IslandPark_2,\n",
        "                    IslandPark_3,IslandPark_4,IslandPark_5])"
      ],
      "execution_count": null,
      "outputs": []
    },
    {
      "cell_type": "code",
      "metadata": {
        "colab": {
          "base_uri": "https://localhost:8080/"
        },
        "id": "EDLXeOTPa8-y",
        "outputId": "b8dc1d74-6afd-4769-d381-a16f7bf014b1"
      },
      "source": [
        "Nassau.shape"
      ],
      "execution_count": null,
      "outputs": [
        {
          "output_type": "execute_result",
          "data": {
            "text/plain": [
              "(46919, 25)"
            ]
          },
          "metadata": {
            "tags": []
          },
          "execution_count": 197
        }
      ]
    },
    {
      "cell_type": "code",
      "metadata": {
        "id": "G3pJJnSLPyi2"
      },
      "source": [
        "Inwwood = pd.read_csv('/content/Inwood.csv')"
      ],
      "execution_count": null,
      "outputs": []
    },
    {
      "cell_type": "code",
      "metadata": {
        "id": "OzFKL8_vQrAt"
      },
      "source": [
        "Nassau = pd.concat([Nassau , Inwwood])"
      ],
      "execution_count": null,
      "outputs": []
    },
    {
      "cell_type": "code",
      "metadata": {
        "colab": {
          "base_uri": "https://localhost:8080/"
        },
        "id": "yDE7knFDbHTd",
        "outputId": "0300f5f2-f4d1-4720-e5ee-7bcfe582e123"
      },
      "source": [
        "Nassau.shape"
      ],
      "execution_count": null,
      "outputs": [
        {
          "output_type": "execute_result",
          "data": {
            "text/plain": [
              "(47297, 25)"
            ]
          },
          "metadata": {
            "tags": []
          },
          "execution_count": 200
        }
      ]
    },
    {
      "cell_type": "code",
      "metadata": {
        "id": "ueSaW7sNbcYx"
      },
      "source": [
        "IslandPk_1 = pd.read_csv('/content/IslandPArk2.csv')"
      ],
      "execution_count": null,
      "outputs": []
    },
    {
      "cell_type": "code",
      "metadata": {
        "id": "a7fD3IA0bcTC"
      },
      "source": [
        "IslandPk_2 = pd.read_csv('/content/IIsandPark_13.csv')"
      ],
      "execution_count": null,
      "outputs": []
    },
    {
      "cell_type": "code",
      "metadata": {
        "id": "d86diQMMbcNb"
      },
      "source": [
        "IslandPk_3 = pd.read_csv('/content/IslandPArk_21.csv')"
      ],
      "execution_count": null,
      "outputs": []
    },
    {
      "cell_type": "code",
      "metadata": {
        "id": "sGmqPA2tbgkr"
      },
      "source": [
        "IslandPk_4 = pd.read_csv('/content/IslandPark#.csv')"
      ],
      "execution_count": null,
      "outputs": []
    },
    {
      "cell_type": "code",
      "metadata": {
        "id": "JNuVAvmCbqbK"
      },
      "source": [
        "IslandPk_5 = pd.read_csv('/content/IslandPark4.csv')"
      ],
      "execution_count": null,
      "outputs": []
    },
    {
      "cell_type": "code",
      "metadata": {
        "id": "abCxrgnAbgWE"
      },
      "source": [
        "Nassau = pd.concat([Nassau , IslandPk_1,IslandPk_2,IslandPk_3,\n",
        "                    IslandPk_4, IslandPk_5])"
      ],
      "execution_count": null,
      "outputs": []
    },
    {
      "cell_type": "code",
      "metadata": {
        "colab": {
          "base_uri": "https://localhost:8080/"
        },
        "id": "Tg7jRHdxcYWL",
        "outputId": "f603838b-69ab-45f3-ef1b-f5eb0271dddd"
      },
      "source": [
        "Nassau.shape"
      ],
      "execution_count": null,
      "outputs": [
        {
          "output_type": "execute_result",
          "data": {
            "text/plain": [
              "(49066, 25)"
            ]
          },
          "metadata": {
            "tags": []
          },
          "execution_count": 207
        }
      ]
    },
    {
      "cell_type": "code",
      "metadata": {
        "id": "Ksgl38DaQq-P"
      },
      "source": [
        "Lawrence = pd.read_csv(\"/content/Lawrence.csv\")"
      ],
      "execution_count": null,
      "outputs": []
    },
    {
      "cell_type": "code",
      "metadata": {
        "id": "L8EnP0LoQq7u"
      },
      "source": [
        "Nassau = pd.concat([Nassau ,Lawrence ])"
      ],
      "execution_count": null,
      "outputs": []
    },
    {
      "cell_type": "code",
      "metadata": {
        "colab": {
          "base_uri": "https://localhost:8080/"
        },
        "id": "rsNFNeffdSJc",
        "outputId": "3935d87a-da97-4ec5-85e3-91e9a8a6190f"
      },
      "source": [
        "Nassau.shape"
      ],
      "execution_count": null,
      "outputs": [
        {
          "output_type": "execute_result",
          "data": {
            "text/plain": [
              "(49481, 25)"
            ]
          },
          "metadata": {
            "tags": []
          },
          "execution_count": 210
        }
      ]
    },
    {
      "cell_type": "code",
      "metadata": {
        "id": "gSsu4dW_Qq4O"
      },
      "source": [
        "LocustValley_1 = pd.read_csv(\"/content/LocistValley_15.csv\")"
      ],
      "execution_count": null,
      "outputs": []
    },
    {
      "cell_type": "code",
      "metadata": {
        "id": "KVz4GjyAdeVo"
      },
      "source": [
        "LocustValley_2 = pd.read_csv(\"/content/LocustValley_21.csv\")"
      ],
      "execution_count": null,
      "outputs": []
    },
    {
      "cell_type": "code",
      "metadata": {
        "id": "hFhkbF6ydr5l"
      },
      "source": [
        "Nassau = pd.concat([Nassau ,LocustValley_1,LocustValley_2 ])"
      ],
      "execution_count": null,
      "outputs": []
    },
    {
      "cell_type": "code",
      "metadata": {
        "colab": {
          "base_uri": "https://localhost:8080/"
        },
        "id": "tNHugOCfd4qW",
        "outputId": "43a55a0f-9a20-4872-a276-eb5d3213ebaf"
      },
      "source": [
        "Nassau.shape"
      ],
      "execution_count": null,
      "outputs": [
        {
          "output_type": "execute_result",
          "data": {
            "text/plain": [
              "(50152, 25)"
            ]
          },
          "metadata": {
            "tags": []
          },
          "execution_count": 214
        }
      ]
    },
    {
      "cell_type": "code",
      "metadata": {
        "id": "b-705GEuQqvW"
      },
      "source": [
        "LongBch_1 = pd.read_csv(\"/content/LongBeach_07.csv\")"
      ],
      "execution_count": null,
      "outputs": []
    },
    {
      "cell_type": "code",
      "metadata": {
        "id": "igQf3PdxQqsN"
      },
      "source": [
        "LongBch_2 = pd.read_csv(\"/content/LongBeach_09.csv\")"
      ],
      "execution_count": null,
      "outputs": []
    },
    {
      "cell_type": "code",
      "metadata": {
        "id": "sdK8_Qp0T_sb"
      },
      "source": [
        "LongBch_3 = pd.read_csv(\"/content/LongBeach_11.csv\")"
      ],
      "execution_count": null,
      "outputs": []
    },
    {
      "cell_type": "code",
      "metadata": {
        "id": "8tmviM21T_ox"
      },
      "source": [
        "LongBch_4 = pd.read_csv(\"/content/LongBeach_15.csv\")"
      ],
      "execution_count": null,
      "outputs": []
    },
    {
      "cell_type": "code",
      "metadata": {
        "id": "xeCsYZ-7T_k_"
      },
      "source": [
        "LongBch_5 = pd.read_csv(\"/content/LongBeach_19.csv\")"
      ],
      "execution_count": null,
      "outputs": []
    },
    {
      "cell_type": "code",
      "metadata": {
        "id": "KzIG7MWGT_hB"
      },
      "source": [
        "LongBch_6 = pd.read_csv(\"/content/LongBeach_2.csv\")"
      ],
      "execution_count": null,
      "outputs": []
    },
    {
      "cell_type": "code",
      "metadata": {
        "id": "--v4Ct8CT_dG"
      },
      "source": [
        "LongBch_7 = pd.read_csv(\"/content/LongBeach_21.csv\")"
      ],
      "execution_count": null,
      "outputs": []
    },
    {
      "cell_type": "code",
      "metadata": {
        "id": "KvUHgcnuT_Yu"
      },
      "source": [
        "Nassau = pd.concat([Nassau ,LongBch_1,LongBch_2,LongBch_3,\n",
        "                    LongBch_4,LongBch_5,LongBch_6,LongBch_7])"
      ],
      "execution_count": null,
      "outputs": []
    },
    {
      "cell_type": "code",
      "metadata": {
        "colab": {
          "base_uri": "https://localhost:8080/"
        },
        "id": "N526qmczUywd",
        "outputId": "b4a0fc38-8dac-41bc-a64f-e72b882bc89d"
      },
      "source": [
        "Nassau.shape"
      ],
      "execution_count": null,
      "outputs": [
        {
          "output_type": "execute_result",
          "data": {
            "text/plain": [
              "(53035, 25)"
            ]
          },
          "metadata": {
            "tags": []
          },
          "execution_count": 223
        }
      ]
    },
    {
      "cell_type": "code",
      "metadata": {
        "id": "_ot0F-qJUysF"
      },
      "source": [
        "# safety copy\n",
        "Nassau.to_csv('Nassau_safety_2.csv')"
      ],
      "execution_count": null,
      "outputs": []
    },
    {
      "cell_type": "code",
      "metadata": {
        "id": "VRQgE1D0Uyob"
      },
      "source": [
        "LynBk_1 = pd.read_csv(\"/content/Lyn_10.csv\")"
      ],
      "execution_count": null,
      "outputs": []
    },
    {
      "cell_type": "code",
      "metadata": {
        "id": "EkejeIU8T_Uq"
      },
      "source": [
        "LynBk_1 = pd.read_csv(\"/content/Lyn_11.csv\")"
      ],
      "execution_count": null,
      "outputs": []
    },
    {
      "cell_type": "code",
      "metadata": {
        "id": "2Mc8c1a6WEoY"
      },
      "source": [
        "LynBk_2 = pd.read_csv(\"/content/Lyn_12.csv\")"
      ],
      "execution_count": null,
      "outputs": []
    },
    {
      "cell_type": "code",
      "metadata": {
        "id": "8qmgLPz5WEkC"
      },
      "source": [
        "LynBk_3 = pd.read_csv(\"/content/Lyn_13.csv\")"
      ],
      "execution_count": null,
      "outputs": []
    },
    {
      "cell_type": "code",
      "metadata": {
        "id": "BPdB1JDCWEgM"
      },
      "source": [
        "LynBk_4 = pd.read_csv(\"/content/Lyn_14.csv\")"
      ],
      "execution_count": null,
      "outputs": []
    },
    {
      "cell_type": "code",
      "metadata": {
        "id": "NXGCwiJkWEbT"
      },
      "source": [
        "LynBk_5 = pd.read_csv(\"/content/Lyn_15.csv\")"
      ],
      "execution_count": null,
      "outputs": []
    },
    {
      "cell_type": "code",
      "metadata": {
        "id": "Gcx6pA6TWEXd"
      },
      "source": [
        "LynBk_6 = pd.read_csv(\"/content/Lyn_16.csv\")"
      ],
      "execution_count": null,
      "outputs": []
    },
    {
      "cell_type": "code",
      "metadata": {
        "id": "HorbNLYYWETW"
      },
      "source": [
        "LynBk_7 = pd.read_csv(\"/content/Lyn_17.csv\")"
      ],
      "execution_count": null,
      "outputs": []
    },
    {
      "cell_type": "code",
      "metadata": {
        "id": "qxEuqvc0WEPH"
      },
      "source": [
        "LynBk_8 = pd.read_csv(\"/content/Lyn_18.csv\")"
      ],
      "execution_count": null,
      "outputs": []
    },
    {
      "cell_type": "code",
      "metadata": {
        "id": "j5nz8dpBWELh"
      },
      "source": [
        "LynBk_9 = pd.read_csv(\"/content/Lyn_3.csv\")"
      ],
      "execution_count": null,
      "outputs": []
    },
    {
      "cell_type": "code",
      "metadata": {
        "id": "WhKGWvQJWEGn"
      },
      "source": [
        "LynBk_10 = pd.read_csv(\"/content/Lyn_4.csv\")"
      ],
      "execution_count": null,
      "outputs": []
    },
    {
      "cell_type": "code",
      "metadata": {
        "id": "31OppSWyWECZ"
      },
      "source": [
        "LynBk_11 = pd.read_csv(\"/content/Lyn_5.csv\")"
      ],
      "execution_count": null,
      "outputs": []
    },
    {
      "cell_type": "code",
      "metadata": {
        "id": "aHmFhC-mWD-S"
      },
      "source": [
        "LynBk_12 = pd.read_csv(\"/content/Lyn_6.csv\")"
      ],
      "execution_count": null,
      "outputs": []
    },
    {
      "cell_type": "code",
      "metadata": {
        "id": "Ehc39OaWWD6X"
      },
      "source": [
        "LynBk_13 = pd.read_csv(\"/content/Lyn_7.csv\")"
      ],
      "execution_count": null,
      "outputs": []
    },
    {
      "cell_type": "code",
      "metadata": {
        "id": "8PmRycXPWD1U"
      },
      "source": [
        "LynBk_14 = pd.read_csv(\"/content/Lyn_8.csv\")"
      ],
      "execution_count": null,
      "outputs": []
    },
    {
      "cell_type": "code",
      "metadata": {
        "id": "JHoWJFqhWDwX"
      },
      "source": [
        "LynBk_15 = pd.read_csv(\"/content/Lyn_9.csv\")"
      ],
      "execution_count": null,
      "outputs": []
    },
    {
      "cell_type": "code",
      "metadata": {
        "id": "OhUAcULwWDi_"
      },
      "source": [
        "LynBk_16 = pd.read_csv(\"/content/Lynbrook2.csv\")"
      ],
      "execution_count": null,
      "outputs": []
    },
    {
      "cell_type": "code",
      "metadata": {
        "id": "9ZH_GCyhXEn4"
      },
      "source": [
        "LynBk_17 = pd.read_csv(\"/content/Lynbrook_1.csv\")"
      ],
      "execution_count": null,
      "outputs": []
    },
    {
      "cell_type": "code",
      "metadata": {
        "id": "4Zs1EoNrXEfh"
      },
      "source": [
        "Nassau = pd.concat([Nassau , LynBk_1, LynBk_2, LynBk_3,LynBk_4,\n",
        "                    LynBk_5,LynBk_6,LynBk_7,LynBk_8,LynBk_9,\n",
        "                    LynBk_10,LynBk_11,LynBk_12,LynBk_13,LynBk_14,LynBk_15,\n",
        "                    LynBk_16,LynBk_17])"
      ],
      "execution_count": null,
      "outputs": []
    },
    {
      "cell_type": "code",
      "metadata": {
        "colab": {
          "base_uri": "https://localhost:8080/"
        },
        "id": "U5VsNZ3yXn21",
        "outputId": "d56613b2-6210-47fd-c6bd-f9b0b6ba3b92"
      },
      "source": [
        "Nassau.shape"
      ],
      "execution_count": null,
      "outputs": [
        {
          "output_type": "execute_result",
          "data": {
            "text/plain": [
              "(58628, 25)"
            ]
          },
          "metadata": {
            "tags": []
          },
          "execution_count": 243
        }
      ]
    },
    {
      "cell_type": "code",
      "metadata": {
        "id": "iIAQ62TBWDC5"
      },
      "source": [
        "Manh_1 = pd.read_csv(\"/content/Manh.csv\")"
      ],
      "execution_count": null,
      "outputs": []
    },
    {
      "cell_type": "code",
      "metadata": {
        "id": "Btxi6cbpYJMS"
      },
      "source": [
        "Manh_2 = pd.read_csv(\"/content/Manh_13.csv\")"
      ],
      "execution_count": null,
      "outputs": []
    },
    {
      "cell_type": "code",
      "metadata": {
        "id": "w0XnX7LWYJEz"
      },
      "source": [
        "Manh_3 = pd.read_csv(\"/content/Manh_15.csv\")"
      ],
      "execution_count": null,
      "outputs": []
    },
    {
      "cell_type": "code",
      "metadata": {
        "id": "_hxbpVzcYI_A"
      },
      "source": [
        "Manh_4 = pd.read_csv(\"/content/Manh_19.csv\")"
      ],
      "execution_count": null,
      "outputs": []
    },
    {
      "cell_type": "code",
      "metadata": {
        "id": "YYOn7M4KYI4E"
      },
      "source": [
        "Manh_5 = pd.read_csv(\"/content/Manh_2017.csv\")"
      ],
      "execution_count": null,
      "outputs": []
    },
    {
      "cell_type": "code",
      "metadata": {
        "id": "ydppVkWHYIxr"
      },
      "source": [
        "Manh_6 = pd.read_csv(\"/content/Manh_Apr_21.csv\")"
      ],
      "execution_count": null,
      "outputs": []
    },
    {
      "cell_type": "code",
      "metadata": {
        "id": "3Nii2jw4YIqa"
      },
      "source": [
        "Manh_7 = pd.read_csv(\"/content/Manha_11.csv\")"
      ],
      "execution_count": null,
      "outputs": []
    },
    {
      "cell_type": "code",
      "metadata": {
        "id": "CtEjogHNYIht"
      },
      "source": [
        "Manh_8 = pd.read_csv(\"/content/Manhas_11.csv\")"
      ],
      "execution_count": null,
      "outputs": []
    },
    {
      "cell_type": "code",
      "metadata": {
        "id": "BqD6-uDDYkyq"
      },
      "source": [
        "Manh_9 = pd.read_csv(\"/content/Manhaset_07.csv\")"
      ],
      "execution_count": null,
      "outputs": []
    },
    {
      "cell_type": "code",
      "metadata": {
        "id": "Hz_puPqYYkvx"
      },
      "source": [
        "Manh_10 = pd.read_csv(\"/content/Manhaset_09.csv\")"
      ],
      "execution_count": null,
      "outputs": []
    },
    {
      "cell_type": "code",
      "metadata": {
        "id": "aIaX7wGtYksJ"
      },
      "source": [
        "Nassau = pd.concat([Nassau ,Manh_1,Manh_2,Manh_3,Manh_4,\n",
        "                    Manh_5,Manh_6,Manh_7,Manh_8,Manh_9,\n",
        "                    Manh_10])"
      ],
      "execution_count": null,
      "outputs": []
    },
    {
      "cell_type": "code",
      "metadata": {
        "colab": {
          "base_uri": "https://localhost:8080/"
        },
        "id": "ZbY2vzN8fLuW",
        "outputId": "fc6848b2-69c9-4b82-c347-aae60dfe6ce3"
      },
      "source": [
        "Nassau.shape"
      ],
      "execution_count": null,
      "outputs": [
        {
          "output_type": "execute_result",
          "data": {
            "text/plain": [
              "(62653, 25)"
            ]
          },
          "metadata": {
            "tags": []
          },
          "execution_count": 255
        }
      ]
    },
    {
      "cell_type": "code",
      "metadata": {
        "id": "fXuJ-pLjYIGz"
      },
      "source": [
        "Mineola_1 = pd.read_csv(\"/content/Min.csv\")"
      ],
      "execution_count": null,
      "outputs": []
    },
    {
      "cell_type": "code",
      "metadata": {
        "id": "dWBVFwP7Zbv6"
      },
      "source": [
        "Mineola_2 = pd.read_csv(\"/content/Min_2014.csv\")"
      ],
      "execution_count": null,
      "outputs": []
    },
    {
      "cell_type": "code",
      "metadata": {
        "id": "Pp84wL9cZbrs"
      },
      "source": [
        "Mineola_3 = pd.read_csv(\"/content/min_2.csv\")"
      ],
      "execution_count": null,
      "outputs": []
    },
    {
      "cell_type": "code",
      "metadata": {
        "id": "3t0hnHesZbo0"
      },
      "source": [
        "Mineola_4 = pd.read_csv(\"/content/mineola 2021.csv\")"
      ],
      "execution_count": null,
      "outputs": []
    },
    {
      "cell_type": "code",
      "metadata": {
        "id": "MslTPILHZbk2"
      },
      "source": [
        "Mineola_5 = pd.read_csv(\"/content/mineola_2018.csv\")"
      ],
      "execution_count": null,
      "outputs": []
    },
    {
      "cell_type": "code",
      "metadata": {
        "id": "-K9vwH_MZbhC"
      },
      "source": [
        "Mineola_6 = pd.read_csv(\"/content/minola_2010.csv\")"
      ],
      "execution_count": null,
      "outputs": []
    },
    {
      "cell_type": "code",
      "metadata": {
        "id": "jd-uiM7IZbZ-"
      },
      "source": [
        "Nassau = pd.concat([Nassau ,Mineola_1, Mineola_2, Mineola_3,Mineola_4,\n",
        "                    Mineola_5,Mineola_6])"
      ],
      "execution_count": null,
      "outputs": []
    },
    {
      "cell_type": "code",
      "metadata": {
        "colab": {
          "base_uri": "https://localhost:8080/"
        },
        "id": "UXFu4z8GZbVo",
        "outputId": "7ab0bde2-0d27-4ec4-f1fa-ccdc6c6fbbc7"
      },
      "source": [
        "Nassau.shape"
      ],
      "execution_count": null,
      "outputs": [
        {
          "output_type": "execute_result",
          "data": {
            "text/plain": [
              "(67147, 25)"
            ]
          },
          "metadata": {
            "tags": []
          },
          "execution_count": 264
        }
      ]
    },
    {
      "cell_type": "code",
      "metadata": {
        "id": "pu6IYLJjfsra"
      },
      "source": [
        "Mls_1 = pd.read_csv(\"/content/MLSLI-0425-095922.csv\")"
      ],
      "execution_count": null,
      "outputs": []
    },
    {
      "cell_type": "code",
      "metadata": {
        "id": "ONbNnw84fsmB"
      },
      "source": [
        "Mls_2 = pd.read_csv(\"/content/MLSLI-0425-100347.csv\")"
      ],
      "execution_count": null,
      "outputs": []
    },
    {
      "cell_type": "code",
      "metadata": {
        "id": "-tFUBtrifsJN"
      },
      "source": [
        "Mls_3 = pd.read_csv(\"/content/MLSLI-0425-105050.csv\")"
      ],
      "execution_count": null,
      "outputs": []
    },
    {
      "cell_type": "code",
      "metadata": {
        "id": "vGT0wjmZfsDj"
      },
      "source": [
        "Mls_4 = pd.read_csv(\"/content/MLSLI-0425-110053.csv\")"
      ],
      "execution_count": null,
      "outputs": []
    },
    {
      "cell_type": "code",
      "metadata": {
        "id": "2ZWrNfVnfr91"
      },
      "source": [
        "Mls_5 = pd.read_csv(\"/content/MLSLI-0425-110144.csv\")"
      ],
      "execution_count": null,
      "outputs": []
    },
    {
      "cell_type": "code",
      "metadata": {
        "id": "2J02pYjjfr3_"
      },
      "source": [
        "Mls_6 = pd.read_csv(\"/content/MLSLI-0428-085949.csv\")"
      ],
      "execution_count": null,
      "outputs": []
    },
    {
      "cell_type": "code",
      "metadata": {
        "id": "a_2mDoW0f4iU"
      },
      "source": [
        "Mls_7 = pd.read_csv(\"/content/MLSLI-0428-090037.csv\")"
      ],
      "execution_count": null,
      "outputs": []
    },
    {
      "cell_type": "code",
      "metadata": {
        "id": "6F0mwQjBf4cj"
      },
      "source": [
        "Mls_8 = pd.read_csv(\"/content/MLSLI-0428-122025.csv\")"
      ],
      "execution_count": null,
      "outputs": []
    },
    {
      "cell_type": "code",
      "metadata": {
        "id": "ffbqH5clf4UV"
      },
      "source": [
        "Nassau = pd.concat([Nassau ,Mls_1,Mls_2,Mls_3,Mls_4,Mls_5,\n",
        "                    Mls_6,Mls_7,Mls_8])"
      ],
      "execution_count": null,
      "outputs": []
    },
    {
      "cell_type": "code",
      "metadata": {
        "colab": {
          "base_uri": "https://localhost:8080/"
        },
        "id": "AdvCRw4IfryK",
        "outputId": "a86b8c58-d446-48a2-b511-16248f32df7d"
      },
      "source": [
        "Nassau.shape"
      ],
      "execution_count": null,
      "outputs": [
        {
          "output_type": "execute_result",
          "data": {
            "text/plain": [
              "(69913, 25)"
            ]
          },
          "metadata": {
            "tags": []
          },
          "execution_count": 274
        }
      ]
    },
    {
      "cell_type": "code",
      "metadata": {
        "id": "vObVfnRyao79"
      },
      "source": [
        "NHP_1 = pd.read_csv(\"/content/NHP.csv\")"
      ],
      "execution_count": null,
      "outputs": []
    },
    {
      "cell_type": "code",
      "metadata": {
        "id": "XyrUZVa7ao4z"
      },
      "source": [
        "NHP_2 = pd.read_csv(\"/content/NHP20201.csv\")"
      ],
      "execution_count": null,
      "outputs": []
    },
    {
      "cell_type": "code",
      "metadata": {
        "id": "stx6NcXlao1v"
      },
      "source": [
        "NHP_3 = pd.read_csv(\"/content/NHP_09.csv\")"
      ],
      "execution_count": null,
      "outputs": []
    },
    {
      "cell_type": "code",
      "metadata": {
        "id": "wRt2Qm-0aoyr"
      },
      "source": [
        "NHP_4 = pd.read_csv(\"/content/NHP_1.csv\")"
      ],
      "execution_count": null,
      "outputs": []
    },
    {
      "cell_type": "code",
      "metadata": {
        "id": "3fupqkvXaovf"
      },
      "source": [
        "NHP_5 = pd.read_csv(\"/content/NHP_12.csv\")"
      ],
      "execution_count": null,
      "outputs": []
    },
    {
      "cell_type": "code",
      "metadata": {
        "id": "Jy7cmfQnaoss"
      },
      "source": [
        "NHP_6 = pd.read_csv(\"/content/NHP_13.csv\")"
      ],
      "execution_count": null,
      "outputs": []
    },
    {
      "cell_type": "code",
      "metadata": {
        "id": "sC0IVhfTaopq"
      },
      "source": [
        "NHP_7 = pd.read_csv(\"/content/NHP_14.csv\")"
      ],
      "execution_count": null,
      "outputs": []
    },
    {
      "cell_type": "code",
      "metadata": {
        "id": "3LAWR3qCaoml"
      },
      "source": [
        "NHP_8 = pd.read_csv(\"/content/NHP_15.csv\")"
      ],
      "execution_count": null,
      "outputs": []
    },
    {
      "cell_type": "code",
      "metadata": {
        "id": "kBNY9tqZaoji"
      },
      "source": [
        "NHP_9 = pd.read_csv(\"/content/NHP_16.csv\")"
      ],
      "execution_count": null,
      "outputs": []
    },
    {
      "cell_type": "code",
      "metadata": {
        "id": "U46rzEmMaogk"
      },
      "source": [
        "NHP_10 = pd.read_csv(\"/content/NHP_17.csv\")"
      ],
      "execution_count": null,
      "outputs": []
    },
    {
      "cell_type": "code",
      "metadata": {
        "id": "7RPhn7uZaodq"
      },
      "source": [
        "NHP_11 = pd.read_csv(\"/content/NHP_2.csv\")"
      ],
      "execution_count": null,
      "outputs": []
    },
    {
      "cell_type": "code",
      "metadata": {
        "id": "tfw8hO_Gaoa5"
      },
      "source": [
        "NHP_12 = pd.read_csv(\"/content/NHP_2020.csv\")"
      ],
      "execution_count": null,
      "outputs": []
    },
    {
      "cell_type": "code",
      "metadata": {
        "id": "PFaCZcXpaoX-"
      },
      "source": [
        "NHP_13 = pd.read_csv(\"/content/NHP_21.csv\")"
      ],
      "execution_count": null,
      "outputs": []
    },
    {
      "cell_type": "code",
      "metadata": {
        "id": "X2asQ6LsaoUH"
      },
      "source": [
        "NHP_14 = pd.read_csv(\"/content/NHP_7.csv\")"
      ],
      "execution_count": null,
      "outputs": []
    },
    {
      "cell_type": "code",
      "metadata": {
        "id": "56nxcNn_a-eh"
      },
      "source": [
        "Nassau = pd.concat([Nassau , NHP_1 , NHP_2 , NHP_3 ,NHP_4 ,NHP_5 ,\n",
        "                    NHP_6 ,NHP_7 ,NHP_8 ,NHP_9,NHP_10 ,NHP_11,\n",
        "                    NHP_12 ,NHP_13 , NHP_14 ])"
      ],
      "execution_count": null,
      "outputs": []
    },
    {
      "cell_type": "code",
      "metadata": {
        "colab": {
          "base_uri": "https://localhost:8080/"
        },
        "id": "Ya3nRgrBaoIE",
        "outputId": "557a51f9-cfaa-4cf6-d6ef-1434f685edd0"
      },
      "source": [
        "Nassau.shape"
      ],
      "execution_count": null,
      "outputs": [
        {
          "output_type": "execute_result",
          "data": {
            "text/plain": [
              "(74467, 25)"
            ]
          },
          "metadata": {
            "tags": []
          },
          "execution_count": 292
        }
      ]
    },
    {
      "cell_type": "code",
      "metadata": {
        "id": "OBK1jo1bdY__"
      },
      "source": [
        "PW_1 = pd.read_csv(\"/content/PW_07.csv\")"
      ],
      "execution_count": null,
      "outputs": []
    },
    {
      "cell_type": "code",
      "metadata": {
        "id": "1rHvU9G7dY7i"
      },
      "source": [
        "PW_2 = pd.read_csv(\"/content/PW_09.csv\")"
      ],
      "execution_count": null,
      "outputs": []
    },
    {
      "cell_type": "code",
      "metadata": {
        "id": "Kr_TgKzYdY3H"
      },
      "source": [
        "PW_3 = pd.read_csv(\"/content/PW_1.csv\")"
      ],
      "execution_count": null,
      "outputs": []
    },
    {
      "cell_type": "code",
      "metadata": {
        "id": "XY4AcOCWdYz_"
      },
      "source": [
        "PW_4 = pd.read_csv(\"/content/PW_11.csv\")"
      ],
      "execution_count": null,
      "outputs": []
    },
    {
      "cell_type": "code",
      "metadata": {
        "id": "KoudL_uldYv7"
      },
      "source": [
        "PW_5 = pd.read_csv(\"/content/PW_13.csv\")"
      ],
      "execution_count": null,
      "outputs": []
    },
    {
      "cell_type": "code",
      "metadata": {
        "id": "yXPszwxvdYra"
      },
      "source": [
        "PW_6 = pd.read_csv(\"/content/PW_15.csv\")"
      ],
      "execution_count": null,
      "outputs": []
    },
    {
      "cell_type": "code",
      "metadata": {
        "id": "KNzKu7VPdYoQ"
      },
      "source": [
        "PW_7 = pd.read_csv(\"/content/PW_17.csv\")"
      ],
      "execution_count": null,
      "outputs": []
    },
    {
      "cell_type": "code",
      "metadata": {
        "id": "yG4PYPlgdYjx"
      },
      "source": [
        "PW_8 = pd.read_csv(\"/content/PW_19.csv\")"
      ],
      "execution_count": null,
      "outputs": []
    },
    {
      "cell_type": "code",
      "metadata": {
        "id": "uwV75pADdYgc"
      },
      "source": [
        "PW_9 = pd.read_csv(\"/content/PW_Apr_21.csv\")"
      ],
      "execution_count": null,
      "outputs": []
    },
    {
      "cell_type": "code",
      "metadata": {
        "id": "GrYvn36-dYcW"
      },
      "source": [
        "Nassau = pd.concat([Nassau , PW_1,PW_2,PW_3,PW_4,PW_5,PW_6,\n",
        "                    PW_7,PW_8,PW_9])"
      ],
      "execution_count": null,
      "outputs": []
    },
    {
      "cell_type": "code",
      "metadata": {
        "colab": {
          "base_uri": "https://localhost:8080/"
        },
        "id": "Alr9MIxWeEXK",
        "outputId": "81d1fa7a-7730-4d14-cc9c-6d9cf05de837"
      },
      "source": [
        "Nassau.shape"
      ],
      "execution_count": null,
      "outputs": [
        {
          "output_type": "execute_result",
          "data": {
            "text/plain": [
              "(78248, 25)"
            ]
          },
          "metadata": {
            "tags": []
          },
          "execution_count": 303
        }
      ]
    },
    {
      "cell_type": "code",
      "metadata": {
        "id": "YVAvtCokidxv"
      },
      "source": [
        "RVC_1 = pd.read_csv(\"/content/rock_11.csv\")"
      ],
      "execution_count": null,
      "outputs": []
    },
    {
      "cell_type": "code",
      "metadata": {
        "id": "Q0FS_DZ1idox"
      },
      "source": [
        "RVC_2 = pd.read_csv(\"/content/rock_12.csv\")"
      ],
      "execution_count": null,
      "outputs": []
    },
    {
      "cell_type": "code",
      "metadata": {
        "id": "Zndt8I6bidfv"
      },
      "source": [
        "RVC_3 = pd.read_csv(\"/content/rock_13.csv\")"
      ],
      "execution_count": null,
      "outputs": []
    },
    {
      "cell_type": "code",
      "metadata": {
        "id": "q42XGOn0idZ_"
      },
      "source": [
        "RVC_4 = pd.read_csv(\"/content/rock_17.csv\")"
      ],
      "execution_count": null,
      "outputs": []
    },
    {
      "cell_type": "code",
      "metadata": {
        "id": "lW0lGCJXidRQ"
      },
      "source": [
        "RVC_5 = pd.read_csv(\"/content/rock_19.csv\")"
      ],
      "execution_count": null,
      "outputs": []
    },
    {
      "cell_type": "code",
      "metadata": {
        "id": "ktITHWoRidIL"
      },
      "source": [
        "RVC_6 = pd.read_csv(\"/content/rock_2.csv\")"
      ],
      "execution_count": null,
      "outputs": []
    },
    {
      "cell_type": "code",
      "metadata": {
        "id": "zO6BrYftjDZ4"
      },
      "source": [
        "RVC_7 = pd.read_csv(\"/content/rock_21.csv\")"
      ],
      "execution_count": null,
      "outputs": []
    },
    {
      "cell_type": "code",
      "metadata": {
        "id": "fyzmh6pdjDOW"
      },
      "source": [
        "Nassau = pd.concat([Nassau , RVC_1 , RVC_2,RVC_3,RVC_4,\n",
        "                    RVC_5,RVC_6,RVC_7])"
      ],
      "execution_count": null,
      "outputs": []
    },
    {
      "cell_type": "code",
      "metadata": {
        "colab": {
          "base_uri": "https://localhost:8080/"
        },
        "id": "_nXeusRBic_X",
        "outputId": "437ed312-eee2-4ff3-e80a-ab9420b3615e"
      },
      "source": [
        "Nassau.shape"
      ],
      "execution_count": null,
      "outputs": [
        {
          "output_type": "execute_result",
          "data": {
            "text/plain": [
              "(80986, 25)"
            ]
          },
          "metadata": {
            "tags": []
          },
          "execution_count": 313
        }
      ]
    },
    {
      "cell_type": "code",
      "metadata": {
        "id": "c0kM_Hc_mVK2"
      },
      "source": [
        "SC_1 = pd.read_csv(\"/content/SC_06.csv\")"
      ],
      "execution_count": null,
      "outputs": []
    },
    {
      "cell_type": "code",
      "metadata": {
        "id": "Dmt_DwBGLjlo"
      },
      "source": [
        "SC_2 = pd.read_csv(\"/content/SC_08.csv\")"
      ],
      "execution_count": null,
      "outputs": []
    },
    {
      "cell_type": "code",
      "metadata": {
        "id": "ODPZhRW-Ljh5"
      },
      "source": [
        "SC_3 = pd.read_csv(\"/content/SC_1.csv\")"
      ],
      "execution_count": null,
      "outputs": []
    },
    {
      "cell_type": "code",
      "metadata": {
        "id": "78eoSAX2Ljeb"
      },
      "source": [
        "SC_4 = pd.read_csv(\"/content/SC_12.csv\")"
      ],
      "execution_count": null,
      "outputs": []
    },
    {
      "cell_type": "code",
      "metadata": {
        "id": "NLfrHgv5LjbV"
      },
      "source": [
        "SC_5 = pd.read_csv(\"/content/SC_14.csv\")"
      ],
      "execution_count": null,
      "outputs": []
    },
    {
      "cell_type": "code",
      "metadata": {
        "id": "2mBK_Ii-NWkH"
      },
      "source": [
        "SC_6 = pd.read_csv(\"/content/SC_16.csv\")"
      ],
      "execution_count": null,
      "outputs": []
    },
    {
      "cell_type": "code",
      "metadata": {
        "id": "p0ti9Q5BLjX5"
      },
      "source": [
        "SC_7 = pd.read_csv(\"/content/SC_18.csv\")"
      ],
      "execution_count": null,
      "outputs": []
    },
    {
      "cell_type": "code",
      "metadata": {
        "id": "cwmKqcTzLjVo"
      },
      "source": [
        "SC_8 = pd.read_csv(\"/content/SC_2010.csv\")"
      ],
      "execution_count": null,
      "outputs": []
    },
    {
      "cell_type": "code",
      "metadata": {
        "id": "EC_KnrsvNaX8"
      },
      "source": [
        "SC_10 = pd.read_csv(\"/content/SC_2018.csv\")"
      ],
      "execution_count": null,
      "outputs": []
    },
    {
      "cell_type": "code",
      "metadata": {
        "id": "W2vBzYFvNaTm"
      },
      "source": [
        "SC_11 = pd.read_csv(\"/content/SC_21.csv\")"
      ],
      "execution_count": null,
      "outputs": []
    },
    {
      "cell_type": "code",
      "metadata": {
        "id": "horBc3J2fCBB"
      },
      "source": [
        "Nassau = pd.concat([Nassau , SC_1 ,SC_2 ,SC_3 ,SC_4 ,SC_5 ,\n",
        "                    SC_6 ,SC_7 ,SC_8 ,SC_10 ,SC_11 ])"
      ],
      "execution_count": null,
      "outputs": []
    },
    {
      "cell_type": "code",
      "metadata": {
        "colab": {
          "base_uri": "https://localhost:8080/"
        },
        "id": "qumoyxM5j8-a",
        "outputId": "5e44d479-ae7c-4596-de5c-22afa49e5d53"
      },
      "source": [
        "Nassau.shape"
      ],
      "execution_count": null,
      "outputs": [
        {
          "output_type": "execute_result",
          "data": {
            "text/plain": [
              "(85097, 25)"
            ]
          },
          "metadata": {
            "tags": []
          },
          "execution_count": 325
        }
      ]
    },
    {
      "cell_type": "code",
      "metadata": {
        "id": "1PrUKRGefB8G"
      },
      "source": [
        "Union_1 = pd.read_csv(\"/content/uniondale_12.csv\")"
      ],
      "execution_count": null,
      "outputs": []
    },
    {
      "cell_type": "code",
      "metadata": {
        "id": "_1nE6-IgfB1N"
      },
      "source": [
        "Union_2 = pd.read_csv(\"/content/uniondale_15.csv\")"
      ],
      "execution_count": null,
      "outputs": []
    },
    {
      "cell_type": "code",
      "metadata": {
        "id": "KZR6URYufp4G"
      },
      "source": [
        "Union_3 = pd.read_csv(\"/content/uniondale_20.csv\")"
      ],
      "execution_count": null,
      "outputs": []
    },
    {
      "cell_type": "code",
      "metadata": {
        "id": "jKg3_gWZfpvF"
      },
      "source": [
        "Union_4 = pd.read_csv(\"/content/uniondale_21.csv\")"
      ],
      "execution_count": null,
      "outputs": []
    },
    {
      "cell_type": "code",
      "metadata": {
        "id": "OYkBLKYBfpcq"
      },
      "source": [
        "Nassau = pd.concat([Nassau , Union_1,Union_2,Union_3, Union_4 ])"
      ],
      "execution_count": null,
      "outputs": []
    },
    {
      "cell_type": "code",
      "metadata": {
        "colab": {
          "base_uri": "https://localhost:8080/"
        },
        "id": "Eb-0zqKskUH8",
        "outputId": "f461d0a4-41cb-47f3-9736-e6c43adc5e6e"
      },
      "source": [
        "Nassau.shape"
      ],
      "execution_count": null,
      "outputs": [
        {
          "output_type": "execute_result",
          "data": {
            "text/plain": [
              "(86372, 25)"
            ]
          },
          "metadata": {
            "tags": []
          },
          "execution_count": 331
        }
      ]
    },
    {
      "cell_type": "code",
      "metadata": {
        "id": "srp12rqAfpXm"
      },
      "source": [
        "WestHemp_1 = pd.read_csv(\"/content/WH_5.csv\")"
      ],
      "execution_count": null,
      "outputs": []
    },
    {
      "cell_type": "code",
      "metadata": {
        "id": "ImobOCONfpUU"
      },
      "source": [
        "WestHemp_2 = pd.read_csv(\"/content/WH_6.csv\")"
      ],
      "execution_count": null,
      "outputs": []
    },
    {
      "cell_type": "code",
      "metadata": {
        "id": "RrpQLu0xfpQQ"
      },
      "source": [
        "WestHemp_3 = pd.read_csv(\"/content/WH_7.csv\")"
      ],
      "execution_count": null,
      "outputs": []
    },
    {
      "cell_type": "code",
      "metadata": {
        "id": "iJYrlG2tgBvR"
      },
      "source": [
        "WestHemp_4 = pd.read_csv(\"/content/WHemp_08.csv\")"
      ],
      "execution_count": null,
      "outputs": []
    },
    {
      "cell_type": "code",
      "metadata": {
        "id": "N8aMn7FPgBr6"
      },
      "source": [
        "WestHemp_5 = pd.read_csv(\"/content/WHemp_1.csv\")"
      ],
      "execution_count": null,
      "outputs": []
    },
    {
      "cell_type": "code",
      "metadata": {
        "id": "wbK3EaywgBmH"
      },
      "source": [
        "WestHemp_6 = pd.read_csv(\"/content/WHemp_12.csv\")"
      ],
      "execution_count": null,
      "outputs": []
    },
    {
      "cell_type": "code",
      "metadata": {
        "id": "eTaXn8O3gBiq"
      },
      "source": [
        "WestHemp_7 = pd.read_csv(\"/content/WHemp_14.csv\")"
      ],
      "execution_count": null,
      "outputs": []
    },
    {
      "cell_type": "code",
      "metadata": {
        "id": "AEdrgMi_gBfQ"
      },
      "source": [
        "WestHemp_8 = pd.read_csv(\"/content/WHemp_15.csv\")"
      ],
      "execution_count": null,
      "outputs": []
    },
    {
      "cell_type": "code",
      "metadata": {
        "id": "T3dXu4qcgBbH"
      },
      "source": [
        "WestHemp_9 = pd.read_csv(\"/content/WHemp_18.csv\")"
      ],
      "execution_count": null,
      "outputs": []
    },
    {
      "cell_type": "code",
      "metadata": {
        "id": "ZAPWbni_gWkA"
      },
      "source": [
        "WestHemp_10 = pd.read_csv(\"/content/WHemp_2 copy.csv\")"
      ],
      "execution_count": null,
      "outputs": []
    },
    {
      "cell_type": "code",
      "metadata": {
        "id": "jYL1Gx2fgWgq"
      },
      "source": [
        "WestHemp_11 = pd.read_csv(\"/content/WHemp_2.csv\")"
      ],
      "execution_count": null,
      "outputs": []
    },
    {
      "cell_type": "code",
      "metadata": {
        "id": "XqBz__d7gWdU"
      },
      "source": [
        "WestHemp_12 = pd.read_csv(\"/content/WHemp_4.csv\")"
      ],
      "execution_count": null,
      "outputs": []
    },
    {
      "cell_type": "code",
      "metadata": {
        "id": "Pn1ZNkEZhEEE"
      },
      "source": [
        "Nassau = pd.concat([Nassau , WestHemp_1,WestHemp_2,WestHemp_3,\n",
        "                    WestHemp_4,WestHemp_5,WestHemp_6,WestHemp_7,\n",
        "                    WestHemp_8,WestHemp_9,WestHemp_10,WestHemp_11,\n",
        "                    WestHemp_12])"
      ],
      "execution_count": null,
      "outputs": []
    },
    {
      "cell_type": "code",
      "metadata": {
        "colab": {
          "base_uri": "https://localhost:8080/"
        },
        "id": "ZFHVjAmlk6Uu",
        "outputId": "69caf8fa-2cc7-4921-b8b8-c7eefabb8000"
      },
      "source": [
        "Nassau.shape"
      ],
      "execution_count": null,
      "outputs": [
        {
          "output_type": "execute_result",
          "data": {
            "text/plain": [
              "(90029, 25)"
            ]
          },
          "metadata": {
            "tags": []
          },
          "execution_count": 346
        }
      ]
    },
    {
      "cell_type": "markdown",
      "metadata": {
        "id": "m0r7fyX7lMSw"
      },
      "source": [
        "that is all of the files from NASSAU folder."
      ]
    },
    {
      "cell_type": "code",
      "metadata": {
        "id": "xf8iKFGKlWGj"
      },
      "source": [
        "#Make a safety cope before starting the second folder.\n",
        "Nassau.to_csv('Nassau_safety_10_May_7.csv')\n",
        "#Dont forget to download file fron the on deck on the left\n"
      ],
      "execution_count": null,
      "outputs": []
    },
    {
      "cell_type": "markdown",
      "metadata": {
        "id": "8tYtfAyEl8lX"
      },
      "source": [
        "Shut down to clear out the import folders."
      ]
    },
    {
      "cell_type": "markdown",
      "metadata": {
        "id": "OvCHm8T1mVgT"
      },
      "source": [
        "Start up with Nassau 10"
      ]
    },
    {
      "cell_type": "code",
      "metadata": {
        "id": "ZScknrrentEL"
      },
      "source": [
        "Nassau = pd.read_csv(\"/content/Nassau_safety_10_May_7.csv\")"
      ],
      "execution_count": null,
      "outputs": []
    },
    {
      "cell_type": "code",
      "metadata": {
        "colab": {
          "base_uri": "https://localhost:8080/"
        },
        "id": "ydhDRFYBns-M",
        "outputId": "0173a9e3-446f-480a-b077-0013aab619bc"
      },
      "source": [
        "Nassau.shape"
      ],
      "execution_count": null,
      "outputs": [
        {
          "output_type": "execute_result",
          "data": {
            "text/plain": [
              "(90029, 26)"
            ]
          },
          "metadata": {
            "tags": []
          },
          "execution_count": 349
        }
      ]
    },
    {
      "cell_type": "code",
      "metadata": {
        "id": "d-nPgp4mns36"
      },
      "source": [
        "Bay_1 = pd.read_csv(\"/content/Bayville_19.csv\")"
      ],
      "execution_count": null,
      "outputs": []
    },
    {
      "cell_type": "code",
      "metadata": {
        "id": "IuD0BNWXpXly"
      },
      "source": [
        "Bay_2 = pd.read_csv(\"/content/bayvil_15.csv\")"
      ],
      "execution_count": null,
      "outputs": []
    },
    {
      "cell_type": "code",
      "metadata": {
        "id": "UEw7mWwgpXdw"
      },
      "source": [
        "Bay_3 = pd.read_csv(\"/content/bayville_2.csv\")"
      ],
      "execution_count": null,
      "outputs": []
    },
    {
      "cell_type": "code",
      "metadata": {
        "id": "idZvtUXfowVw"
      },
      "source": [
        "Nassau = pd.concat([Nassau, Bay_1,Bay_2,Bay_3])"
      ],
      "execution_count": null,
      "outputs": []
    },
    {
      "cell_type": "code",
      "metadata": {
        "colab": {
          "base_uri": "https://localhost:8080/"
        },
        "id": "igENffIqnsxb",
        "outputId": "d71648bb-39d0-465d-8ac8-4d44d87aee8d"
      },
      "source": [
        "Nassau.shape"
      ],
      "execution_count": null,
      "outputs": [
        {
          "output_type": "execute_result",
          "data": {
            "text/plain": [
              "(91498, 26)"
            ]
          },
          "metadata": {
            "tags": []
          },
          "execution_count": 357
        }
      ]
    },
    {
      "cell_type": "code",
      "metadata": {
        "id": "38IjLmXkQk76"
      },
      "source": [
        "Bell_1 = pd.read_csv('/content/bellmore_2.csv')"
      ],
      "execution_count": null,
      "outputs": []
    },
    {
      "cell_type": "code",
      "metadata": {
        "id": "Fi0Bv-z7Qkid"
      },
      "source": [
        "Bell_2 = pd.read_csv('/content/bellmore_06.csv')"
      ],
      "execution_count": null,
      "outputs": []
    },
    {
      "cell_type": "code",
      "metadata": {
        "id": "u8z5zN6HQkfV"
      },
      "source": [
        "Bell_3 = pd.read_csv('/content/bellmore_3.csv')"
      ],
      "execution_count": null,
      "outputs": []
    },
    {
      "cell_type": "code",
      "metadata": {
        "id": "MjgiFgoLQkcV"
      },
      "source": [
        "Bell_4 = pd.read_csv('/content/bellmore_4.csv')"
      ],
      "execution_count": null,
      "outputs": []
    },
    {
      "cell_type": "code",
      "metadata": {
        "id": "e-eThsb5QkZU"
      },
      "source": [
        "Bell_5 = pd.read_csv('/content/bellmore_5.csv')"
      ],
      "execution_count": null,
      "outputs": []
    },
    {
      "cell_type": "code",
      "metadata": {
        "id": "UPiG5BgbQkWK"
      },
      "source": [
        "Bell_6 = pd.read_csv('/content/bellmore_7.csv')"
      ],
      "execution_count": null,
      "outputs": []
    },
    {
      "cell_type": "code",
      "metadata": {
        "id": "O7ygjxM-QkR7"
      },
      "source": [
        "Nassau = pd.concat([Nassau ,Bell_1 , Bell_2 , Bell_3 ,Bell_4 ,Bell_5,Bell_6 ])"
      ],
      "execution_count": null,
      "outputs": []
    },
    {
      "cell_type": "code",
      "metadata": {
        "colab": {
          "base_uri": "https://localhost:8080/"
        },
        "id": "JvXHwEKVryTY",
        "outputId": "60aa5f18-2528-4f3e-dbe1-072eddb644e9"
      },
      "source": [
        "Nassau.shape"
      ],
      "execution_count": null,
      "outputs": [
        {
          "output_type": "execute_result",
          "data": {
            "text/plain": [
              "(96884, 26)"
            ]
          },
          "metadata": {
            "tags": []
          },
          "execution_count": 367
        }
      ]
    },
    {
      "cell_type": "code",
      "metadata": {
        "id": "vm_KPMc8SaWB"
      },
      "source": [
        "Beth_1 = pd.read_csv('/content/beth_1.csv')"
      ],
      "execution_count": null,
      "outputs": []
    },
    {
      "cell_type": "code",
      "metadata": {
        "id": "gBd2F684SaQB"
      },
      "source": [
        "Beth_2 = pd.read_csv('/content/beth_2.csv')"
      ],
      "execution_count": null,
      "outputs": []
    },
    {
      "cell_type": "code",
      "metadata": {
        "id": "JXQRvNTMSaK-"
      },
      "source": [
        "Beth_3 = pd.read_csv('/content/beth_3.csv')"
      ],
      "execution_count": null,
      "outputs": []
    },
    {
      "cell_type": "code",
      "metadata": {
        "id": "eq74tLTaSaEJ"
      },
      "source": [
        "Beth_4 = pd.read_csv('/content/beth_4.csv')"
      ],
      "execution_count": null,
      "outputs": []
    },
    {
      "cell_type": "code",
      "metadata": {
        "id": "zy_NbBBPSZ8R"
      },
      "source": [
        "Beth_5 = pd.read_csv('/content/beth_5.csv')"
      ],
      "execution_count": null,
      "outputs": []
    },
    {
      "cell_type": "code",
      "metadata": {
        "id": "4Fl2QNbhSZyD"
      },
      "source": [
        "Beth_6 = pd.read_csv('/content/beth_6.csv')"
      ],
      "execution_count": null,
      "outputs": []
    },
    {
      "cell_type": "code",
      "metadata": {
        "id": "q1J6cSFcSZs4"
      },
      "source": [
        "Beth_7 = pd.read_csv('/content/beth_7.csv')"
      ],
      "execution_count": null,
      "outputs": []
    },
    {
      "cell_type": "code",
      "metadata": {
        "id": "csfbWj_fSZos"
      },
      "source": [
        "Beth_8 = pd.read_csv('/content/beth_8.csv')"
      ],
      "execution_count": null,
      "outputs": []
    },
    {
      "cell_type": "code",
      "metadata": {
        "id": "DCEQCD90TWXt"
      },
      "source": [
        "Beth_9 = pd.read_csv('/content/beth_9.csv')"
      ],
      "execution_count": null,
      "outputs": []
    },
    {
      "cell_type": "code",
      "metadata": {
        "id": "Dx3osfgJTsR7"
      },
      "source": [
        "Nassau = pd.concat([Nassau ,Beth_1 ,Beth_2 ,Beth_3 ,Beth_4 ,Beth_5 ,\n",
        "                   Beth_6 ,Beth_7 ,Beth_8 ,Beth_9  ])"
      ],
      "execution_count": null,
      "outputs": []
    },
    {
      "cell_type": "code",
      "metadata": {
        "colab": {
          "base_uri": "https://localhost:8080/"
        },
        "id": "TdECIhmWsPQ6",
        "outputId": "e8f9f518-f5e4-4e77-e0f4-c4a116209883"
      },
      "source": [
        "Nassau.shape"
      ],
      "execution_count": null,
      "outputs": [
        {
          "output_type": "execute_result",
          "data": {
            "text/plain": [
              "(100444, 26)"
            ]
          },
          "metadata": {
            "tags": []
          },
          "execution_count": 378
        }
      ]
    },
    {
      "cell_type": "code",
      "metadata": {
        "id": "fo29eOaSTV6i"
      },
      "source": [
        "Farm_1 = pd.read_csv('/content/farm_1.csv')"
      ],
      "execution_count": null,
      "outputs": []
    },
    {
      "cell_type": "code",
      "metadata": {
        "id": "DTnVqXRZU_xr"
      },
      "source": [
        "Farm_2 = pd.read_csv('/content/farm_10.csv')"
      ],
      "execution_count": null,
      "outputs": []
    },
    {
      "cell_type": "code",
      "metadata": {
        "id": "OAGhyd4UU_tz"
      },
      "source": [
        "Farm_3 = pd.read_csv('/content/farm_11.csv')"
      ],
      "execution_count": null,
      "outputs": []
    },
    {
      "cell_type": "code",
      "metadata": {
        "id": "Y-CW_gUwU_EN"
      },
      "source": [
        "Farm_4 = pd.read_csv('/content/farm_12.csv')"
      ],
      "execution_count": null,
      "outputs": []
    },
    {
      "cell_type": "code",
      "metadata": {
        "id": "fcXycWI4U_A-"
      },
      "source": [
        "Farm_5 = pd.read_csv('/content/farm_2.csv')"
      ],
      "execution_count": null,
      "outputs": []
    },
    {
      "cell_type": "code",
      "metadata": {
        "id": "_i7LkDJ8U-91"
      },
      "source": [
        "Farm_6 = pd.read_csv('/content/farm_3.csv')"
      ],
      "execution_count": null,
      "outputs": []
    },
    {
      "cell_type": "code",
      "metadata": {
        "id": "qS6Xgme5U-6i"
      },
      "source": [
        "Farm_7 = pd.read_csv('/content/farm_4.csv')"
      ],
      "execution_count": null,
      "outputs": []
    },
    {
      "cell_type": "code",
      "metadata": {
        "id": "8r8rPXmWU-3P"
      },
      "source": [
        "Farm_8 = pd.read_csv('/content/farm_5.csv')"
      ],
      "execution_count": null,
      "outputs": []
    },
    {
      "cell_type": "code",
      "metadata": {
        "id": "upkwHM4mVWAD"
      },
      "source": [
        "Farm_9 = pd.read_csv('/content/farm_6.csv')"
      ],
      "execution_count": null,
      "outputs": []
    },
    {
      "cell_type": "code",
      "metadata": {
        "id": "VD7oh1htSZkp"
      },
      "source": [
        "Farm_10 = pd.read_csv('/content/farm_7.csv')"
      ],
      "execution_count": null,
      "outputs": []
    },
    {
      "cell_type": "code",
      "metadata": {
        "id": "mOSjXz4eVnKu"
      },
      "source": [
        "Farm11 = pd.read_csv('/content/farm_8.csv')"
      ],
      "execution_count": null,
      "outputs": []
    },
    {
      "cell_type": "code",
      "metadata": {
        "id": "OH6HfJ1PVnF_"
      },
      "source": [
        "Farm_12 = pd.read_csv('/content/farm_9.csv')"
      ],
      "execution_count": null,
      "outputs": []
    },
    {
      "cell_type": "code",
      "metadata": {
        "id": "LZroces1VnCv"
      },
      "source": [
        "Farm_13 = pd.read_csv('/content/farm_9.csv')"
      ],
      "execution_count": null,
      "outputs": []
    },
    {
      "cell_type": "code",
      "metadata": {
        "id": "HI5brP_uVm_j"
      },
      "source": [
        "Nassau = pd.concat([Nassau ,Farm_1,Farm_2,Farm_3,Farm_4,Farm_5,Farm_6,\n",
        "                    Farm_7,Farm_8,Farm_9,Farm_10,\n",
        "                    Farm11,Farm_12,Farm_13])"
      ],
      "execution_count": null,
      "outputs": []
    },
    {
      "cell_type": "code",
      "metadata": {
        "colab": {
          "base_uri": "https://localhost:8080/"
        },
        "id": "xp2JRpQfstJS",
        "outputId": "93e96392-e61f-41af-b289-2a39bdfb742a"
      },
      "source": [
        "Nassau.shape"
      ],
      "execution_count": null,
      "outputs": [
        {
          "output_type": "execute_result",
          "data": {
            "text/plain": [
              "(109334, 26)"
            ]
          },
          "metadata": {
            "tags": []
          },
          "execution_count": 394
        }
      ]
    },
    {
      "cell_type": "code",
      "metadata": {
        "id": "ISKSt2dqW1hp"
      },
      "source": [
        "Hick_1 = pd.read_csv('/content/hick10.csv')"
      ],
      "execution_count": null,
      "outputs": []
    },
    {
      "cell_type": "code",
      "metadata": {
        "id": "_-rAMaBzW1dU"
      },
      "source": [
        "Hick_2 = pd.read_csv('/content/hick11.csv')"
      ],
      "execution_count": null,
      "outputs": []
    },
    {
      "cell_type": "code",
      "metadata": {
        "id": "2gyZRsPxW1Yo"
      },
      "source": [
        "Hick_3 = pd.read_csv('/content/hick12.csv')"
      ],
      "execution_count": null,
      "outputs": []
    },
    {
      "cell_type": "code",
      "metadata": {
        "id": "mTEHQoOqW1VQ"
      },
      "source": [
        "Hick_4 = pd.read_csv('/content/hick13.csv')"
      ],
      "execution_count": null,
      "outputs": []
    },
    {
      "cell_type": "code",
      "metadata": {
        "id": "4HWwTmIrZL4V"
      },
      "source": [
        "Hick_5 = pd.read_csv('/content/hick14.csv')"
      ],
      "execution_count": null,
      "outputs": []
    },
    {
      "cell_type": "code",
      "metadata": {
        "id": "YZoPcP-FZL1Q"
      },
      "source": [
        "Hick_6 = pd.read_csv('/content/hick15.csv')"
      ],
      "execution_count": null,
      "outputs": []
    },
    {
      "cell_type": "code",
      "metadata": {
        "id": "Gj842u9xZLwf"
      },
      "source": [
        "Hick_7 = pd.read_csv('/content/hick16.csv')"
      ],
      "execution_count": null,
      "outputs": []
    },
    {
      "cell_type": "code",
      "metadata": {
        "id": "OzRkLl1wZLtU"
      },
      "source": [
        "Hick_8 = pd.read_csv('/content/hick2.csv')"
      ],
      "execution_count": null,
      "outputs": []
    },
    {
      "cell_type": "code",
      "metadata": {
        "id": "ipE_LaMLZLou"
      },
      "source": [
        "Hick_9 = pd.read_csv('/content/hick3.csv')"
      ],
      "execution_count": null,
      "outputs": []
    },
    {
      "cell_type": "code",
      "metadata": {
        "id": "Z53C88kkZLkR"
      },
      "source": [
        "Hick_10 = pd.read_csv('/content/hick4.csv')"
      ],
      "execution_count": null,
      "outputs": []
    },
    {
      "cell_type": "code",
      "metadata": {
        "id": "cbVEonAEZLf7"
      },
      "source": [
        "Hick_11 = pd.read_csv('/content/hick5.csv')"
      ],
      "execution_count": null,
      "outputs": []
    },
    {
      "cell_type": "code",
      "metadata": {
        "id": "ciI2KkF8ZLcn"
      },
      "source": [
        "Hick_12 = pd.read_csv('/content/hick6.csv')"
      ],
      "execution_count": null,
      "outputs": []
    },
    {
      "cell_type": "code",
      "metadata": {
        "id": "yOY2bH7LZLX_"
      },
      "source": [
        "Hick_13 = pd.read_csv('/content/hick7.csv')"
      ],
      "execution_count": null,
      "outputs": []
    },
    {
      "cell_type": "code",
      "metadata": {
        "id": "md08dmwxZLTd"
      },
      "source": [
        "Hick_14 = pd.read_csv('/content/hick8.csv')"
      ],
      "execution_count": null,
      "outputs": []
    },
    {
      "cell_type": "code",
      "metadata": {
        "id": "4653bqx1ZLPA"
      },
      "source": [
        "Hick_15 = pd.read_csv('/content/hick9.csv')"
      ],
      "execution_count": null,
      "outputs": []
    },
    {
      "cell_type": "code",
      "metadata": {
        "id": "awPIHNW1ZLMD"
      },
      "source": [
        "Nassau = pd.concat([Nassau ,Hick_1,Hick_2,Hick_3,Hick_4,\n",
        "                    Hick_5,Hick_6,Hick_7,Hick_8,\n",
        "                    Hick_9,Hick_10,Hick_11,Hick_12,\n",
        "                    Hick_13,Hick_14,Hick_15])"
      ],
      "execution_count": null,
      "outputs": []
    },
    {
      "cell_type": "code",
      "metadata": {
        "colab": {
          "base_uri": "https://localhost:8080/"
        },
        "id": "nvmKVRIZtNrm",
        "outputId": "c8bba789-2df2-45f5-bea4-386b9182f464"
      },
      "source": [
        "Nassau.shape"
      ],
      "execution_count": null,
      "outputs": [
        {
          "output_type": "execute_result",
          "data": {
            "text/plain": [
              "(114597, 26)"
            ]
          },
          "metadata": {
            "tags": []
          },
          "execution_count": 411
        }
      ]
    },
    {
      "cell_type": "code",
      "metadata": {
        "id": "yqQHbE3UZLHG"
      },
      "source": [
        "Jer_1 = pd.read_csv('/content/Jericho_1.csv')"
      ],
      "execution_count": null,
      "outputs": []
    },
    {
      "cell_type": "code",
      "metadata": {
        "id": "IT5jYn8iZLD-"
      },
      "source": [
        "Jer_2 = pd.read_csv('/content/Jericho_2.csv')"
      ],
      "execution_count": null,
      "outputs": []
    },
    {
      "cell_type": "code",
      "metadata": {
        "id": "pOv_KZWhZK_G"
      },
      "source": [
        "Jer_3 = pd.read_csv('/content/Jericho_3.csv')"
      ],
      "execution_count": null,
      "outputs": []
    },
    {
      "cell_type": "code",
      "metadata": {
        "id": "Ytg4-SNgbmk2"
      },
      "source": [
        "Jer_4 = pd.read_csv('/content/Jericho_4.csv')"
      ],
      "execution_count": null,
      "outputs": []
    },
    {
      "cell_type": "code",
      "metadata": {
        "id": "7mTmdrcUbmhu"
      },
      "source": [
        "Jer_5 = pd.read_csv('/content/Jericho_5.csv')"
      ],
      "execution_count": null,
      "outputs": []
    },
    {
      "cell_type": "code",
      "metadata": {
        "id": "sWROfiYRbmc4"
      },
      "source": [
        "Nassau = pd.concat([Nassau ,Jer_1,Jer_2,Jer_3,Jer_4,Jer_5])"
      ],
      "execution_count": null,
      "outputs": []
    },
    {
      "cell_type": "code",
      "metadata": {
        "colab": {
          "base_uri": "https://localhost:8080/"
        },
        "id": "f8qBoDHpb34I",
        "outputId": "53d19729-0116-4f5f-f922-203487f1de49"
      },
      "source": [
        "Nassau.shape"
      ],
      "execution_count": null,
      "outputs": [
        {
          "output_type": "execute_result",
          "data": {
            "text/plain": [
              "(116613, 26)"
            ]
          },
          "metadata": {
            "tags": []
          },
          "execution_count": 418
        }
      ]
    },
    {
      "cell_type": "code",
      "metadata": {
        "id": "GX-voo3yb30x"
      },
      "source": [
        "Lev_1 = pd.read_csv('/content/lev_8.csv')"
      ],
      "execution_count": null,
      "outputs": []
    },
    {
      "cell_type": "code",
      "metadata": {
        "id": "wkKhJqAfb3uX"
      },
      "source": [
        "Lev_2 = pd.read_csv('/content/LEv_21.csv')"
      ],
      "execution_count": null,
      "outputs": []
    },
    {
      "cell_type": "code",
      "metadata": {
        "id": "S06SoIUVb3q8"
      },
      "source": [
        "Lev_3 = pd.read_csv('/content/Lev_1.csv')"
      ],
      "execution_count": null,
      "outputs": []
    },
    {
      "cell_type": "code",
      "metadata": {
        "id": "DJ-LCFnqb3nb"
      },
      "source": [
        "Lev_4 = pd.read_csv('/content/Lev_10.csv')"
      ],
      "execution_count": null,
      "outputs": []
    },
    {
      "cell_type": "code",
      "metadata": {
        "id": "KIx98Suxb3j0"
      },
      "source": [
        "Lev_5 = pd.read_csv('/content/Lev_11.csv')"
      ],
      "execution_count": null,
      "outputs": []
    },
    {
      "cell_type": "code",
      "metadata": {
        "id": "CdV-607_b3fc"
      },
      "source": [
        "Lev_6 = pd.read_csv('/content/Lev_12.csv')"
      ],
      "execution_count": null,
      "outputs": []
    },
    {
      "cell_type": "code",
      "metadata": {
        "id": "ZBzGkPzHbmYl"
      },
      "source": [
        "Lev_7 = pd.read_csv('/content/Lev_13.csv')"
      ],
      "execution_count": null,
      "outputs": []
    },
    {
      "cell_type": "code",
      "metadata": {
        "id": "ltSox3MUdNdm"
      },
      "source": [
        "Lev_8 = pd.read_csv('/content/Lev_14.csv')"
      ],
      "execution_count": null,
      "outputs": []
    },
    {
      "cell_type": "code",
      "metadata": {
        "id": "zlvcqaHtdNZp"
      },
      "source": [
        "Lev_9 = pd.read_csv('/content/Lev_15.csv')"
      ],
      "execution_count": null,
      "outputs": []
    },
    {
      "cell_type": "code",
      "metadata": {
        "id": "POWR17aPdNV3"
      },
      "source": [
        "Lev_10 = pd.read_csv('/content/Lev_16.csv')"
      ],
      "execution_count": null,
      "outputs": []
    },
    {
      "cell_type": "code",
      "metadata": {
        "id": "-HO_kBridNP2"
      },
      "source": [
        "Lev_11 = pd.read_csv('/content/Lev_17.csv')"
      ],
      "execution_count": null,
      "outputs": []
    },
    {
      "cell_type": "code",
      "metadata": {
        "id": "hY42M9ZldNL9"
      },
      "source": [
        "Lev_12 = pd.read_csv('/content/Lev_18.csv')"
      ],
      "execution_count": null,
      "outputs": []
    },
    {
      "cell_type": "code",
      "metadata": {
        "id": "o3qQAitwdNH9"
      },
      "source": [
        "Lev_13 = pd.read_csv('/content/Lev_19.csv')"
      ],
      "execution_count": null,
      "outputs": []
    },
    {
      "cell_type": "code",
      "metadata": {
        "id": "pBbC1p8YdNEA"
      },
      "source": [
        "Lev_14 = pd.read_csv('/content/Lev_2.csv')"
      ],
      "execution_count": null,
      "outputs": []
    },
    {
      "cell_type": "code",
      "metadata": {
        "id": "NOc5LwbKdNAQ"
      },
      "source": [
        "Lev_15 = pd.read_csv('/content/Lev_4.csv')"
      ],
      "execution_count": null,
      "outputs": []
    },
    {
      "cell_type": "code",
      "metadata": {
        "id": "WOEg3ucSdM79"
      },
      "source": [
        "Lev_16 = pd.read_csv('/content/Lev_5.csv')"
      ],
      "execution_count": null,
      "outputs": []
    },
    {
      "cell_type": "code",
      "metadata": {
        "id": "wAX9n9oidM2Y"
      },
      "source": [
        "Lev_17 = pd.read_csv('/content/Lev_6.csv')"
      ],
      "execution_count": null,
      "outputs": []
    },
    {
      "cell_type": "code",
      "metadata": {
        "id": "zMhVzTKLdMyw"
      },
      "source": [
        "Lev_18 = pd.read_csv('/content/Lev_7.csv')"
      ],
      "execution_count": null,
      "outputs": []
    },
    {
      "cell_type": "code",
      "metadata": {
        "id": "-XR6QEGhdMvJ"
      },
      "source": [
        "Lev_19 = pd.read_csv('/content/Levv_3.csv')"
      ],
      "execution_count": null,
      "outputs": []
    },
    {
      "cell_type": "code",
      "metadata": {
        "id": "Sx_1mcdqdMKI"
      },
      "source": [
        "Nassau = pd.concat([Nassau ,Lev_1,Lev_2,Lev_3,Lev_4,Lev_5,\n",
        "                    Lev_6,Lev_7,Lev_8,Lev_9,\n",
        "                    Lev_10,Lev_11,Lev_12,Lev_13,\n",
        "                    Lev_14,Lev_15,Lev_16, Lev_17,\n",
        "                    Lev_18, Lev_19 ])"
      ],
      "execution_count": null,
      "outputs": []
    },
    {
      "cell_type": "code",
      "metadata": {
        "colab": {
          "base_uri": "https://localhost:8080/"
        },
        "id": "iTr_0kVfZK6y",
        "outputId": "a827762d-9036-424c-a83e-fee9c7fa6d7b"
      },
      "source": [
        "Nassau.shape"
      ],
      "execution_count": null,
      "outputs": [
        {
          "output_type": "execute_result",
          "data": {
            "text/plain": [
              "(123520, 26)"
            ]
          },
          "metadata": {
            "tags": []
          },
          "execution_count": 439
        }
      ]
    },
    {
      "cell_type": "code",
      "metadata": {
        "id": "6A5ZFFT4gOla"
      },
      "source": [
        "Malv_1 = pd.read_csv('/content/malv_12.csv')"
      ],
      "execution_count": null,
      "outputs": []
    },
    {
      "cell_type": "code",
      "metadata": {
        "id": "64cU_ifbgOhq"
      },
      "source": [
        "Malv_2 = pd.read_csv('/content/malv_17.csv')"
      ],
      "execution_count": null,
      "outputs": []
    },
    {
      "cell_type": "code",
      "metadata": {
        "id": "1kmHTJfkgOeA"
      },
      "source": [
        "Malv_3 = pd.read_csv('/content/malv_21.csv')"
      ],
      "execution_count": null,
      "outputs": []
    },
    {
      "cell_type": "code",
      "metadata": {
        "id": "iw2VGQ6TgOaS"
      },
      "source": [
        "Nassau = pd.concat([Nassau , Malv_1,Malv_2,Malv_3])"
      ],
      "execution_count": null,
      "outputs": []
    },
    {
      "cell_type": "code",
      "metadata": {
        "colab": {
          "base_uri": "https://localhost:8080/"
        },
        "id": "9PWCdy5OgOWV",
        "outputId": "054367fd-e39f-40c2-ca14-21209d24349b"
      },
      "source": [
        "Nassau.shape"
      ],
      "execution_count": null,
      "outputs": [
        {
          "output_type": "execute_result",
          "data": {
            "text/plain": [
              "(124739, 26)"
            ]
          },
          "metadata": {
            "tags": []
          },
          "execution_count": 444
        }
      ]
    },
    {
      "cell_type": "code",
      "metadata": {
        "id": "PV34spJ0hKer"
      },
      "source": [
        "Massa_1 = pd.read_csv('/content/Massa_1.csv')"
      ],
      "execution_count": null,
      "outputs": []
    },
    {
      "cell_type": "code",
      "metadata": {
        "id": "U-R0K8tvhKa6"
      },
      "source": [
        "Massa_2 = pd.read_csv('/content/Massa_10.csv')"
      ],
      "execution_count": null,
      "outputs": []
    },
    {
      "cell_type": "code",
      "metadata": {
        "id": "mb6Mi2aliAjt"
      },
      "source": [
        "Massa_3 = pd.read_csv('/content/Massa_11.csv')"
      ],
      "execution_count": null,
      "outputs": []
    },
    {
      "cell_type": "code",
      "metadata": {
        "id": "R0_TeCyEiAfk"
      },
      "source": [
        "Massa_4 = pd.read_csv('/content/Massa_2.csv')"
      ],
      "execution_count": null,
      "outputs": []
    },
    {
      "cell_type": "code",
      "metadata": {
        "id": "cYFwV1fxiAbm"
      },
      "source": [
        "Massa_5 = pd.read_csv('/content/Massa_3.csv')"
      ],
      "execution_count": null,
      "outputs": []
    },
    {
      "cell_type": "code",
      "metadata": {
        "id": "X7lLJ8rViAUf"
      },
      "source": [
        "Massa_6 = pd.read_csv('/content/Massa_4.csv')"
      ],
      "execution_count": null,
      "outputs": []
    },
    {
      "cell_type": "code",
      "metadata": {
        "id": "PGC5OSuziAPi"
      },
      "source": [
        "Massa_7 = pd.read_csv('/content/Massa_5.csv')"
      ],
      "execution_count": null,
      "outputs": []
    },
    {
      "cell_type": "code",
      "metadata": {
        "id": "MQHPHVCTiALp"
      },
      "source": [
        "Massa_8 = pd.read_csv('/content/Massa_6.csv')"
      ],
      "execution_count": null,
      "outputs": []
    },
    {
      "cell_type": "code",
      "metadata": {
        "id": "xSKwrjtciAH1"
      },
      "source": [
        "Massa_9 = pd.read_csv('/content/Massa_7.csv')"
      ],
      "execution_count": null,
      "outputs": []
    },
    {
      "cell_type": "code",
      "metadata": {
        "id": "aJFZZCCQiAEC"
      },
      "source": [
        "Massa_10 = pd.read_csv('/content/Massa_8.csv')"
      ],
      "execution_count": null,
      "outputs": []
    },
    {
      "cell_type": "code",
      "metadata": {
        "id": "ZQPI3mjDiAAU"
      },
      "source": [
        "Massa_11 = pd.read_csv('/content/Massa_9.csv')"
      ],
      "execution_count": null,
      "outputs": []
    },
    {
      "cell_type": "code",
      "metadata": {
        "id": "oMMKrt8bh_8i"
      },
      "source": [
        "Massa_12 = pd.read_csv('/content/massa_12.csv')"
      ],
      "execution_count": null,
      "outputs": []
    },
    {
      "cell_type": "code",
      "metadata": {
        "id": "_3HWalkoh_4w"
      },
      "source": [
        "Massa_13 = pd.read_csv('/content/massa_13.csv')"
      ],
      "execution_count": null,
      "outputs": []
    },
    {
      "cell_type": "code",
      "metadata": {
        "id": "O1dhhpEMh_1A"
      },
      "source": [
        "Massa_14 = pd.read_csv('/content/massa_15.csv')"
      ],
      "execution_count": null,
      "outputs": []
    },
    {
      "cell_type": "code",
      "metadata": {
        "id": "eQ3W8gUjh_xY"
      },
      "source": [
        "Massa_15 = pd.read_csv('/content/massa_16.csv')"
      ],
      "execution_count": null,
      "outputs": []
    },
    {
      "cell_type": "code",
      "metadata": {
        "id": "UdQ1kI6ah_t8"
      },
      "source": [
        "Massa_16 = pd.read_csv('/content/massa_17.csv')"
      ],
      "execution_count": null,
      "outputs": []
    },
    {
      "cell_type": "code",
      "metadata": {
        "id": "v_OBWWJCh_ep"
      },
      "source": [
        "Massa_17 = pd.read_csv('/content/massa_18.csv')"
      ],
      "execution_count": null,
      "outputs": []
    },
    {
      "cell_type": "code",
      "metadata": {
        "id": "CXt-Mtddh_a2"
      },
      "source": [
        "Massa_18 = pd.read_csv('/content/massa_19.csv')"
      ],
      "execution_count": null,
      "outputs": []
    },
    {
      "cell_type": "code",
      "metadata": {
        "id": "BN1_KV4wh_XG"
      },
      "source": [
        "Massa_19 = pd.read_csv('/content/massa_20.csv')"
      ],
      "execution_count": null,
      "outputs": []
    },
    {
      "cell_type": "code",
      "metadata": {
        "id": "T4qve5pah_Ta"
      },
      "source": [
        "Massa_20 = pd.read_csv('/content/massa_21.csv')"
      ],
      "execution_count": null,
      "outputs": []
    },
    {
      "cell_type": "code",
      "metadata": {
        "id": "ib3Ok-YGh_P4"
      },
      "source": [
        "Massa_21 = pd.read_csv('/content/massa_22.csv')"
      ],
      "execution_count": null,
      "outputs": []
    },
    {
      "cell_type": "code",
      "metadata": {
        "id": "NIO6FMtEh_KX"
      },
      "source": [
        "Massa_22 = pd.read_csv('/content/massa_24.csv')"
      ],
      "execution_count": null,
      "outputs": []
    },
    {
      "cell_type": "code",
      "metadata": {
        "id": "AZcWEZT3h_F5"
      },
      "source": [
        "Massa_23 = pd.read_csv('/content/massa_25.csv')"
      ],
      "execution_count": null,
      "outputs": []
    },
    {
      "cell_type": "code",
      "metadata": {
        "id": "O0_CDenbhKXW"
      },
      "source": [
        "Massa_24 = pd.read_csv('/content/massa_28.csv')"
      ],
      "execution_count": null,
      "outputs": []
    },
    {
      "cell_type": "code",
      "metadata": {
        "id": "WJey7RmdhKTq"
      },
      "source": [
        "Massa_25 = pd.read_csv('/content/massa_29.csv')"
      ],
      "execution_count": null,
      "outputs": []
    },
    {
      "cell_type": "code",
      "metadata": {
        "id": "S-FtS5wzhKQF"
      },
      "source": [
        "Massa_26 = pd.read_csv('/content/massau_14.csv')"
      ],
      "execution_count": null,
      "outputs": []
    },
    {
      "cell_type": "code",
      "metadata": {
        "id": "zejMwj1XhKMh"
      },
      "source": [
        "Massa_27 = pd.read_csv('/content/massau_16.csv')"
      ],
      "execution_count": null,
      "outputs": []
    },
    {
      "cell_type": "code",
      "metadata": {
        "id": "YfviF8kIhKI2"
      },
      "source": [
        "Massa_28 = pd.read_csv('/content/massau_23.csv')"
      ],
      "execution_count": null,
      "outputs": []
    },
    {
      "cell_type": "code",
      "metadata": {
        "id": "epcPJoPxhKFK"
      },
      "source": [
        "Massa_29 = pd.read_csv('/content/massau_26.csv')"
      ],
      "execution_count": null,
      "outputs": []
    },
    {
      "cell_type": "code",
      "metadata": {
        "id": "b4-9OCl1kxlY"
      },
      "source": [
        "Massa_30 = pd.read_csv('/content/massau_27.csv')"
      ],
      "execution_count": null,
      "outputs": []
    },
    {
      "cell_type": "code",
      "metadata": {
        "id": "DJR6ifEAkyUj"
      },
      "source": [
        "Nassau = pd.concat([Nassau , Massa_1,Massa_2,Massa_3,Massa_4,\n",
        "                    Massa_5,Massa_6,Massa_7,Massa_8,\n",
        "                    Massa_9,Massa_10,Massa_11,Massa_12,\n",
        "                    Massa_12,Massa_13,Massa_14,Massa_15,\n",
        "                    Massa_16,Massa_17,Massa_18,Massa_19,\n",
        "                    Massa_20,Massa_21,Massa_22,Massa_23,\n",
        "                    Massa_24,Massa_25,Massa_26,Massa_27,\n",
        "                    Massa_28,Massa_29,Massa_30])"
      ],
      "execution_count": null,
      "outputs": []
    },
    {
      "cell_type": "code",
      "metadata": {
        "colab": {
          "base_uri": "https://localhost:8080/"
        },
        "id": "2ybEpnb2nzFD",
        "outputId": "a85dc16c-f586-4520-cf7a-d1035ca45a5c"
      },
      "source": [
        "Nassau.shape"
      ],
      "execution_count": null,
      "outputs": [
        {
          "output_type": "execute_result",
          "data": {
            "text/plain": [
              "(135470, 26)"
            ]
          },
          "metadata": {
            "tags": []
          },
          "execution_count": 476
        }
      ]
    },
    {
      "cell_type": "code",
      "metadata": {
        "id": "kBljy5T1kyNb"
      },
      "source": [
        "Merrick_1 = pd.read_csv('/content/merick_16.csv')"
      ],
      "execution_count": null,
      "outputs": []
    },
    {
      "cell_type": "code",
      "metadata": {
        "id": "zQovy16Pn6I_"
      },
      "source": [
        "Merrick_2 = pd.read_csv('/content/merric_20.csv')"
      ],
      "execution_count": null,
      "outputs": []
    },
    {
      "cell_type": "code",
      "metadata": {
        "id": "FgF0q18hn5vP"
      },
      "source": [
        "Merrick_3 = pd.read_csv('/content/merrick_06.csv')"
      ],
      "execution_count": null,
      "outputs": []
    },
    {
      "cell_type": "code",
      "metadata": {
        "id": "gsrSv8gdn5rP"
      },
      "source": [
        "Merrick_4 = pd.read_csv('/content/merrick_07.csv')"
      ],
      "execution_count": null,
      "outputs": []
    },
    {
      "cell_type": "code",
      "metadata": {
        "id": "rPas0GUmo5dL"
      },
      "source": [
        "Merrick_5 = pd.read_csv('/content/merrick_09.csv')"
      ],
      "execution_count": null,
      "outputs": []
    },
    {
      "cell_type": "code",
      "metadata": {
        "id": "ajhu-8ZCo5Zc"
      },
      "source": [
        "Merrick_6 = pd.read_csv('/content/merrick_1.csv')"
      ],
      "execution_count": null,
      "outputs": []
    },
    {
      "cell_type": "code",
      "metadata": {
        "id": "VX7bg-5qo5TB"
      },
      "source": [
        "Merrick_7 = pd.read_csv('/content/merrick_11.csv')"
      ],
      "execution_count": null,
      "outputs": []
    },
    {
      "cell_type": "code",
      "metadata": {
        "id": "O6FlYDOfo5O2"
      },
      "source": [
        "Merrick_8 = pd.read_csv('/content/merrick_12.csv')"
      ],
      "execution_count": null,
      "outputs": []
    },
    {
      "cell_type": "code",
      "metadata": {
        "id": "f3rWq5ILo5K3"
      },
      "source": [
        "Merrick_9 = pd.read_csv('/content/merrick_13.csv')"
      ],
      "execution_count": null,
      "outputs": []
    },
    {
      "cell_type": "code",
      "metadata": {
        "id": "MhD5cBdxo5G0"
      },
      "source": [
        "Merrick_10 = pd.read_csv('/content/merrick_14.csv')"
      ],
      "execution_count": null,
      "outputs": []
    },
    {
      "cell_type": "code",
      "metadata": {
        "id": "rLHaJ_cMo5C_"
      },
      "source": [
        "Merrick_11 = pd.read_csv('/content/merrick_17.csv')"
      ],
      "execution_count": null,
      "outputs": []
    },
    {
      "cell_type": "code",
      "metadata": {
        "id": "PQl-Wgxfo49z"
      },
      "source": [
        "Merrick_12 = pd.read_csv('/content/merrick_18.csv')"
      ],
      "execution_count": null,
      "outputs": []
    },
    {
      "cell_type": "code",
      "metadata": {
        "id": "HpQY8di5n5na"
      },
      "source": [
        "Merrick_13 = pd.read_csv('/content/merrick_19.csv')"
      ],
      "execution_count": null,
      "outputs": []
    },
    {
      "cell_type": "code",
      "metadata": {
        "id": "3DU-HzOIn5gg"
      },
      "source": [
        "Merrick_14 = pd.read_csv('/content/merrick_2.csv')"
      ],
      "execution_count": null,
      "outputs": []
    },
    {
      "cell_type": "code",
      "metadata": {
        "id": "m94u5fFAkxzL"
      },
      "source": [
        "Merrick_15 = pd.read_csv('/content/merrick_21.csv')"
      ],
      "execution_count": null,
      "outputs": []
    },
    {
      "cell_type": "code",
      "metadata": {
        "id": "FL8fp1OdpAP3"
      },
      "source": [
        "Merrick_16 = pd.read_csv('/content/merrick_3.csv')"
      ],
      "execution_count": null,
      "outputs": []
    },
    {
      "cell_type": "code",
      "metadata": {
        "id": "Wp4tsTbTpADk"
      },
      "source": [
        "Nassau = pd.concat([Nassau , Merrick_1 ,Merrick_2 ,Merrick_3 ,\n",
        "                    Merrick_4 ,Merrick_5 ,Merrick_6 ,Merrick_7 ,\n",
        "                    Merrick_8 ,Merrick_9 ,Merrick_10 ,\n",
        "                    Merrick_11 ,Merrick_12 ,Merrick_13 ,\n",
        "                    Merrick_14 ,Merrick_15 ,Merrick_16 ])"
      ],
      "execution_count": null,
      "outputs": []
    },
    {
      "cell_type": "code",
      "metadata": {
        "colab": {
          "base_uri": "https://localhost:8080/"
        },
        "id": "Nx88-g-Fo__z",
        "outputId": "50de2265-5131-4c9c-fe7e-89d2c7cb09f8"
      },
      "source": [
        "Nassau.shape"
      ],
      "execution_count": null,
      "outputs": [
        {
          "output_type": "execute_result",
          "data": {
            "text/plain": [
              "(140992, 26)"
            ]
          },
          "metadata": {
            "tags": []
          },
          "execution_count": 494
        }
      ]
    },
    {
      "cell_type": "code",
      "metadata": {
        "id": "aKttwHGBhKBS"
      },
      "source": [
        ""
      ],
      "execution_count": null,
      "outputs": []
    },
    {
      "cell_type": "code",
      "metadata": {
        "id": "fX3AbL1gtUyg"
      },
      "source": [
        "# various unnamed RE files\n",
        "mls_1 =  pd.read_csv('/content/MLSLI-0502-083548.csv')"
      ],
      "execution_count": null,
      "outputs": []
    },
    {
      "cell_type": "code",
      "metadata": {
        "id": "FszqhHWztUuj"
      },
      "source": [
        "mls_2 =  pd.read_csv('/content/MLSLI-0502-083720.csv')"
      ],
      "execution_count": null,
      "outputs": []
    },
    {
      "cell_type": "code",
      "metadata": {
        "id": "ryhVOBwwtUn4"
      },
      "source": [
        "mls_3 =  pd.read_csv('/content/MLSLI-0502-083759.csv')"
      ],
      "execution_count": null,
      "outputs": []
    },
    {
      "cell_type": "code",
      "metadata": {
        "id": "HijBGHzQtUjo"
      },
      "source": [
        "mls_4 =  pd.read_csv('/content/MLSLI-0502-083916.csv')"
      ],
      "execution_count": null,
      "outputs": []
    },
    {
      "cell_type": "code",
      "metadata": {
        "id": "7elCu_lqtUfW"
      },
      "source": [
        "mls_5 =  pd.read_csv('/content/MLSLI-0502-084025.csv')"
      ],
      "execution_count": null,
      "outputs": []
    },
    {
      "cell_type": "code",
      "metadata": {
        "id": "rXEr6l1ltUbM"
      },
      "source": [
        "mls_6 =  pd.read_csv('/content/MLSLI-0502-084149.csv')"
      ],
      "execution_count": null,
      "outputs": []
    },
    {
      "cell_type": "code",
      "metadata": {
        "id": "Gq0vBefXtUXR"
      },
      "source": [
        "mls_7 =  pd.read_csv('/content/MLSLI-0502-084305.csv')"
      ],
      "execution_count": null,
      "outputs": []
    },
    {
      "cell_type": "code",
      "metadata": {
        "id": "HCmYSqIrtURG"
      },
      "source": [
        "mls_8 =  pd.read_csv('/content/MLSLI-0502-084350.csv')"
      ],
      "execution_count": null,
      "outputs": []
    },
    {
      "cell_type": "code",
      "metadata": {
        "id": "55BV712FtUM_"
      },
      "source": [
        "mls_9 =  pd.read_csv('/content/MLSLI-0502-084521.csv')"
      ],
      "execution_count": null,
      "outputs": []
    },
    {
      "cell_type": "code",
      "metadata": {
        "id": "bOdwQhFztUJB"
      },
      "source": [
        "mls_10 =  pd.read_csv('/content/MLSLI-0502-084637.csv')"
      ],
      "execution_count": null,
      "outputs": []
    },
    {
      "cell_type": "code",
      "metadata": {
        "id": "f8OVrkiVtUCx"
      },
      "source": [
        "Nassau = pd.concat([Nassau , mls_1,mls_2,mls_3,\n",
        "                    mls_4,mls_5,mls_6,mls_7,\n",
        "                  mls_8,mls_9,mls_10])"
      ],
      "execution_count": null,
      "outputs": []
    },
    {
      "cell_type": "code",
      "metadata": {
        "colab": {
          "base_uri": "https://localhost:8080/"
        },
        "id": "0Y2pumiQvXjJ",
        "outputId": "b08edf7f-dc09-4987-d1ea-cdf2cbf84589"
      },
      "source": [
        "Nassau.shape"
      ],
      "execution_count": null,
      "outputs": [
        {
          "output_type": "execute_result",
          "data": {
            "text/plain": [
              "(144143, 26)"
            ]
          },
          "metadata": {
            "tags": []
          },
          "execution_count": 506
        }
      ]
    },
    {
      "cell_type": "code",
      "metadata": {
        "id": "y0bKQiSsOPfH"
      },
      "source": [
        "ob_1 =  pd.read_csv('/content/OB_1.csv')"
      ],
      "execution_count": null,
      "outputs": []
    },
    {
      "cell_type": "code",
      "metadata": {
        "id": "1o1Ye1ShOPbR"
      },
      "source": [
        "ob_2 =  pd.read_csv('/content/OB_2.csv')"
      ],
      "execution_count": null,
      "outputs": []
    },
    {
      "cell_type": "code",
      "metadata": {
        "id": "GvtkDSaiOPUL"
      },
      "source": [
        "ob_3 =  pd.read_csv('/content/OB_3.csv')"
      ],
      "execution_count": null,
      "outputs": []
    },
    {
      "cell_type": "code",
      "metadata": {
        "id": "DEanKOgKOPPT"
      },
      "source": [
        "ob_4 =  pd.read_csv('/content/OB_4.csv')"
      ],
      "execution_count": null,
      "outputs": []
    },
    {
      "cell_type": "code",
      "metadata": {
        "id": "-blWWUu5VQ6f"
      },
      "source": [
        "Nassau = pd.concat([Nassau , ob_1,ob_2, ob_3, ob_4])"
      ],
      "execution_count": null,
      "outputs": []
    },
    {
      "cell_type": "code",
      "metadata": {
        "colab": {
          "base_uri": "https://localhost:8080/"
        },
        "id": "qYUUoFz1VcEZ",
        "outputId": "d6ef9450-85c9-49fc-8349-669aac1fc4b5"
      },
      "source": [
        "Nassau.shape"
      ],
      "execution_count": null,
      "outputs": [
        {
          "output_type": "execute_result",
          "data": {
            "text/plain": [
              "(145674, 26)"
            ]
          },
          "metadata": {
            "tags": []
          },
          "execution_count": 512
        }
      ]
    },
    {
      "cell_type": "code",
      "metadata": {
        "id": "tDMEDS1EPKUM"
      },
      "source": [
        "ocean_1 = pd.read_csv('/content/ocean_15.csv')"
      ],
      "execution_count": null,
      "outputs": []
    },
    {
      "cell_type": "code",
      "metadata": {
        "id": "uLm-8frJPKQa"
      },
      "source": [
        "ocean_2 = pd.read_csv('/content/ocean_16.csv')"
      ],
      "execution_count": null,
      "outputs": []
    },
    {
      "cell_type": "code",
      "metadata": {
        "id": "5YyBLNxqPKKw"
      },
      "source": [
        "ocean_3 = pd.read_csv('/content/ocean_17.csv')"
      ],
      "execution_count": null,
      "outputs": []
    },
    {
      "cell_type": "code",
      "metadata": {
        "id": "BjlBROFmPKHN"
      },
      "source": [
        "ocean_4 = pd.read_csv('/content/ocean_18.csv')"
      ],
      "execution_count": null,
      "outputs": []
    },
    {
      "cell_type": "code",
      "metadata": {
        "id": "wC58DI1oPKBU"
      },
      "source": [
        "ocean_5 = pd.read_csv('/content/ocean_19.csv')"
      ],
      "execution_count": null,
      "outputs": []
    },
    {
      "cell_type": "code",
      "metadata": {
        "id": "lHsONyWGPJ9g"
      },
      "source": [
        "ocean_6 = pd.read_csv('/content/ocean_2.csv')"
      ],
      "execution_count": null,
      "outputs": []
    },
    {
      "cell_type": "code",
      "metadata": {
        "id": "6zShkSqQPblu"
      },
      "source": [
        "ocean_7 = pd.read_csv('/content/ocean_21.csv')"
      ],
      "execution_count": null,
      "outputs": []
    },
    {
      "cell_type": "code",
      "metadata": {
        "id": "EwLiOmIIPbhy"
      },
      "source": [
        "ocean_8 = pd.read_csv('/content/ocean_3.csv')"
      ],
      "execution_count": null,
      "outputs": []
    },
    {
      "cell_type": "code",
      "metadata": {
        "id": "Dp_6aBbePbdl"
      },
      "source": [
        "ocean_9 = pd.read_csv('/content/oceanside.csv')"
      ],
      "execution_count": null,
      "outputs": []
    },
    {
      "cell_type": "code",
      "metadata": {
        "id": "gX_UfxL9PbZn"
      },
      "source": [
        "ocean_10 = pd.read_csv('/content/oceanside_1.csv')"
      ],
      "execution_count": null,
      "outputs": []
    },
    {
      "cell_type": "code",
      "metadata": {
        "id": "mNcVOOL-PbTv"
      },
      "source": [
        "ocean_11 = pd.read_csv('/content/oceanside_11.csv')"
      ],
      "execution_count": null,
      "outputs": []
    },
    {
      "cell_type": "code",
      "metadata": {
        "id": "UL-JAAE2PbQB"
      },
      "source": [
        "ocean_12 = pd.read_csv('/content/oceanside_13.csv')"
      ],
      "execution_count": null,
      "outputs": []
    },
    {
      "cell_type": "code",
      "metadata": {
        "id": "v4pTCDsgPgzr"
      },
      "source": [
        "ocean_13 = pd.read_csv('/content/oceanside_14.csv')"
      ],
      "execution_count": null,
      "outputs": []
    },
    {
      "cell_type": "code",
      "metadata": {
        "id": "Ds7jbnADPgry"
      },
      "source": [
        "ocean_14 = pd.read_csv('/content/oceansisde_2.csv')"
      ],
      "execution_count": null,
      "outputs": []
    },
    {
      "cell_type": "code",
      "metadata": {
        "id": "21fUadqOV3Tl"
      },
      "source": [
        "Nassau = pd.concat([Nassau ,ocean_1,ocean_2,ocean_3,\n",
        "                    ocean_4,ocean_5,ocean_6,ocean_7,\n",
        "                    ocean_8,ocean_9,ocean_10,ocean_11,\n",
        "                    ocean_12,ocean_13,ocean_14])"
      ],
      "execution_count": null,
      "outputs": []
    },
    {
      "cell_type": "code",
      "metadata": {
        "colab": {
          "base_uri": "https://localhost:8080/"
        },
        "id": "BV3IpfpKWgv1",
        "outputId": "2b667ed8-a749-4d39-8b69-b1f1bf11cc2d"
      },
      "source": [
        "Nassau.shape"
      ],
      "execution_count": null,
      "outputs": [
        {
          "output_type": "execute_result",
          "data": {
            "text/plain": [
              "(150421, 26)"
            ]
          },
          "metadata": {
            "tags": []
          },
          "execution_count": 529
        }
      ]
    },
    {
      "cell_type": "code",
      "metadata": {
        "id": "yiekms5NPJ4Y"
      },
      "source": [
        "oldwest_1 = pd.read_csv('/content/oldwest_19.csv')"
      ],
      "execution_count": null,
      "outputs": []
    },
    {
      "cell_type": "code",
      "metadata": {
        "id": "F3Dz5j8dQszz"
      },
      "source": [
        "oldwest_2 = pd.read_csv('/content/oldwest_21.csv')"
      ],
      "execution_count": null,
      "outputs": []
    },
    {
      "cell_type": "code",
      "metadata": {
        "id": "9GdK6-C5WwT3"
      },
      "source": [
        "Nassau = pd.concat([Nassau ,oldwest_1,oldwest_2])"
      ],
      "execution_count": null,
      "outputs": []
    },
    {
      "cell_type": "code",
      "metadata": {
        "id": "BykbxP0mWwDR",
        "colab": {
          "base_uri": "https://localhost:8080/"
        },
        "outputId": "73da44ce-0082-4ed2-8b83-3674f5e4c155"
      },
      "source": [
        "Nassau.shape"
      ],
      "execution_count": null,
      "outputs": [
        {
          "output_type": "execute_result",
          "data": {
            "text/plain": [
              "(150927, 26)"
            ]
          },
          "metadata": {
            "tags": []
          },
          "execution_count": 533
        }
      ]
    },
    {
      "cell_type": "code",
      "metadata": {
        "id": "DTU8U8dLQspE"
      },
      "source": [
        "plain_1 = pd.read_csv('/content/plain1.csv')"
      ],
      "execution_count": null,
      "outputs": []
    },
    {
      "cell_type": "code",
      "metadata": {
        "id": "z62prhV1RF75"
      },
      "source": [
        "plain_2 = pd.read_csv('/content/plain10.csv')"
      ],
      "execution_count": null,
      "outputs": []
    },
    {
      "cell_type": "code",
      "metadata": {
        "id": "ExUq4t40RF2E"
      },
      "source": [
        "plain_3 = pd.read_csv('/content/plain11.csv')"
      ],
      "execution_count": null,
      "outputs": []
    },
    {
      "cell_type": "code",
      "metadata": {
        "id": "AKZgSeklRFnZ"
      },
      "source": [
        "plain_4 = pd.read_csv('/content/plain12.csv')"
      ],
      "execution_count": null,
      "outputs": []
    },
    {
      "cell_type": "code",
      "metadata": {
        "id": "He7GqfAORFjO"
      },
      "source": [
        "plain_5 = pd.read_csv('/content/plain13.csv')"
      ],
      "execution_count": null,
      "outputs": []
    },
    {
      "cell_type": "code",
      "metadata": {
        "id": "SfHNnRjVRFfN"
      },
      "source": [
        "plain_6 = pd.read_csv('/content/plain14.csv')"
      ],
      "execution_count": null,
      "outputs": []
    },
    {
      "cell_type": "code",
      "metadata": {
        "id": "8nM0WSHiRFZK"
      },
      "source": [
        "plain_7 = pd.read_csv('/content/plain15.csv')"
      ],
      "execution_count": null,
      "outputs": []
    },
    {
      "cell_type": "code",
      "metadata": {
        "id": "hjpR0Gb2RFU_"
      },
      "source": [
        "plain_8 = pd.read_csv('/content/plain16.csv')"
      ],
      "execution_count": null,
      "outputs": []
    },
    {
      "cell_type": "code",
      "metadata": {
        "id": "pPWeA2y4RFQ7"
      },
      "source": [
        "plain_9 = pd.read_csv('/content/plain17.csv')"
      ],
      "execution_count": null,
      "outputs": []
    },
    {
      "cell_type": "code",
      "metadata": {
        "id": "sCKVMO2gRUCV"
      },
      "source": [
        "plain_10 = pd.read_csv('/content/plain18.csv')"
      ],
      "execution_count": null,
      "outputs": []
    },
    {
      "cell_type": "code",
      "metadata": {
        "id": "ldjVEPSART-A"
      },
      "source": [
        "plain_11 = pd.read_csv('/content/plain19.csv')"
      ],
      "execution_count": null,
      "outputs": []
    },
    {
      "cell_type": "code",
      "metadata": {
        "id": "2ga1JGzMRT5h"
      },
      "source": [
        "plain_12 = pd.read_csv('/content/plain13.csv')"
      ],
      "execution_count": null,
      "outputs": []
    },
    {
      "cell_type": "code",
      "metadata": {
        "id": "oO4vNT7ERT1T"
      },
      "source": [
        "plain_13 = pd.read_csv('/content/plain14.csv')"
      ],
      "execution_count": null,
      "outputs": []
    },
    {
      "cell_type": "code",
      "metadata": {
        "id": "Oy4e-P5wRTv9"
      },
      "source": [
        "plain_14 = pd.read_csv('/content/plain15.csv')"
      ],
      "execution_count": null,
      "outputs": []
    },
    {
      "cell_type": "code",
      "metadata": {
        "id": "XyX_KXtLSJWm"
      },
      "source": [
        "plain_15 = pd.read_csv('/content/plain16.csv')"
      ],
      "execution_count": null,
      "outputs": []
    },
    {
      "cell_type": "code",
      "metadata": {
        "id": "3BiEtEvbSJSQ"
      },
      "source": [
        "plain_16 = pd.read_csv('/content/plain17.csv')"
      ],
      "execution_count": null,
      "outputs": []
    },
    {
      "cell_type": "code",
      "metadata": {
        "id": "CGgU-SqWSJOC"
      },
      "source": [
        "plain_17 = pd.read_csv('/content/plain18.csv')"
      ],
      "execution_count": null,
      "outputs": []
    },
    {
      "cell_type": "code",
      "metadata": {
        "id": "-w0vChm_SJFh"
      },
      "source": [
        "plain_18 = pd.read_csv('/content/plain19.csv')"
      ],
      "execution_count": null,
      "outputs": []
    },
    {
      "cell_type": "code",
      "metadata": {
        "id": "yCcgO7V1QshD"
      },
      "source": [
        "plain_19 = pd.read_csv('/content/plain2.csv')"
      ],
      "execution_count": null,
      "outputs": []
    },
    {
      "cell_type": "code",
      "metadata": {
        "id": "663tbdTiS2rM"
      },
      "source": [
        "plain_20 = pd.read_csv('/content/plain20.csv')"
      ],
      "execution_count": null,
      "outputs": []
    },
    {
      "cell_type": "code",
      "metadata": {
        "id": "wZnKWil6S2m4"
      },
      "source": [
        "plain_21 = pd.read_csv('/content/plain3.csv')"
      ],
      "execution_count": null,
      "outputs": []
    },
    {
      "cell_type": "code",
      "metadata": {
        "id": "pQxe0ziMS2i0"
      },
      "source": [
        "plain_22 = pd.read_csv('/content/plain4.csv')"
      ],
      "execution_count": null,
      "outputs": []
    },
    {
      "cell_type": "code",
      "metadata": {
        "id": "xs9QX7OeS2cb"
      },
      "source": [
        "plain_23 = pd.read_csv('/content/plain5.csv')"
      ],
      "execution_count": null,
      "outputs": []
    },
    {
      "cell_type": "code",
      "metadata": {
        "id": "cOmSxPXzS2YS"
      },
      "source": [
        "plain_24 = pd.read_csv('/content/plain6.csv')"
      ],
      "execution_count": null,
      "outputs": []
    },
    {
      "cell_type": "code",
      "metadata": {
        "id": "91oCNF5jQsWI"
      },
      "source": [
        "plain_25 = pd.read_csv('/content/plain7.csv')"
      ],
      "execution_count": null,
      "outputs": []
    },
    {
      "cell_type": "code",
      "metadata": {
        "id": "Iuq0kIS4Teot"
      },
      "source": [
        "plain_26 = pd.read_csv('/content/plain9.csv')"
      ],
      "execution_count": null,
      "outputs": []
    },
    {
      "cell_type": "code",
      "metadata": {
        "id": "-z8ErMGKTekR"
      },
      "source": [
        "plain_27 = pd.read_csv('/content/plin8.csv')"
      ],
      "execution_count": null,
      "outputs": []
    },
    {
      "cell_type": "code",
      "metadata": {
        "id": "L3vrjWZ5W8BR"
      },
      "source": [
        "Nassau = pd.concat([Nassau ,plain_1,plain_2,plain_3,plain_4,\n",
        "                    plain_5,plain_6,plain_7,plain_8,\n",
        "                    plain_9,plain_10,plain_11,plain_12,plain_13,\n",
        "                    plain_14,plain_15, plain_16,plain_17,  plain_18,  \n",
        "                    plain_19,  plain_20, plain_21,  plain_22, \n",
        "                    plain_23,  plain_24 ,plain_25,plain_26,plain_27])"
      ],
      "execution_count": null,
      "outputs": []
    },
    {
      "cell_type": "code",
      "metadata": {
        "colab": {
          "base_uri": "https://localhost:8080/"
        },
        "id": "Pk1WgnwVW76x",
        "outputId": "e082ba45-c0d2-454c-fa76-6794e87b655e"
      },
      "source": [
        "Nassau.shape"
      ],
      "execution_count": null,
      "outputs": [
        {
          "output_type": "execute_result",
          "data": {
            "text/plain": [
              "(159674, 26)"
            ]
          },
          "metadata": {
            "tags": []
          },
          "execution_count": 562
        }
      ]
    },
    {
      "cell_type": "code",
      "metadata": {
        "id": "duuwwmUaTefp"
      },
      "source": [
        "Point = pd.read_csv('/content/pointlook.csv')"
      ],
      "execution_count": null,
      "outputs": []
    },
    {
      "cell_type": "code",
      "metadata": {
        "id": "ua1BHtr0W71q"
      },
      "source": [
        "Nassau = pd.concat([Nassau ,Point])"
      ],
      "execution_count": null,
      "outputs": []
    },
    {
      "cell_type": "code",
      "metadata": {
        "colab": {
          "base_uri": "https://localhost:8080/"
        },
        "id": "mBUkApMPYWNY",
        "outputId": "42757f31-36b3-46fb-c9cf-e1c9b0ed5025"
      },
      "source": [
        "Nassau.shape"
      ],
      "execution_count": null,
      "outputs": [
        {
          "output_type": "execute_result",
          "data": {
            "text/plain": [
              "(159882, 26)"
            ]
          },
          "metadata": {
            "tags": []
          },
          "execution_count": 565
        }
      ]
    },
    {
      "cell_type": "code",
      "metadata": {
        "id": "BAQnJ6JITebT"
      },
      "source": [
        "Roosv_1 = pd.read_csv('/content/roos_1.csv')"
      ],
      "execution_count": null,
      "outputs": []
    },
    {
      "cell_type": "code",
      "metadata": {
        "id": "ddTuEE9bUxwm"
      },
      "source": [
        "Roosv_2 = pd.read_csv('/content/roos_15.csv')"
      ],
      "execution_count": null,
      "outputs": []
    },
    {
      "cell_type": "code",
      "metadata": {
        "id": "zEn3rc6QUxsT"
      },
      "source": [
        "Roosv_3 = pd.read_csv('/content/roos_2.csv')"
      ],
      "execution_count": null,
      "outputs": []
    },
    {
      "cell_type": "code",
      "metadata": {
        "id": "8M80F_hfUxoC"
      },
      "source": [
        "Roosv_4 = pd.read_csv('/content/roos_21.csv')"
      ],
      "execution_count": null,
      "outputs": []
    },
    {
      "cell_type": "code",
      "metadata": {
        "id": "ZaKNwZt_Uxip"
      },
      "source": [
        "Roosv_5 = pd.read_csv('/content/roos_3.csv')"
      ],
      "execution_count": null,
      "outputs": []
    },
    {
      "cell_type": "code",
      "metadata": {
        "id": "20er3TllVB6_"
      },
      "source": [
        "Nassau = pd.concat([Nassau ,Roosv_1,Roosv_2,Roosv_3,\n",
        "                    Roosv_4,Roosv_5])"
      ],
      "execution_count": null,
      "outputs": []
    },
    {
      "cell_type": "code",
      "metadata": {
        "colab": {
          "base_uri": "https://localhost:8080/"
        },
        "id": "Qd27uziHVB2s",
        "outputId": "2fbb4154-f774-4307-e3e6-6c18ab385290"
      },
      "source": [
        "Nassau.shape"
      ],
      "execution_count": null,
      "outputs": [
        {
          "output_type": "execute_result",
          "data": {
            "text/plain": [
              "(161864, 26)"
            ]
          },
          "metadata": {
            "tags": []
          },
          "execution_count": 572
        }
      ]
    },
    {
      "cell_type": "code",
      "metadata": {
        "id": "eR0xB_BkY0Fd"
      },
      "source": [
        "Ros_1 = pd.read_csv('/content/rosl_08.csv')"
      ],
      "execution_count": null,
      "outputs": []
    },
    {
      "cell_type": "code",
      "metadata": {
        "id": "_Vo_UP4GZAJG"
      },
      "source": [
        "Ros_2 = pd.read_csv('/content/rosl_11.csv')"
      ],
      "execution_count": null,
      "outputs": []
    },
    {
      "cell_type": "code",
      "metadata": {
        "id": "oKzsE1oRZAEa"
      },
      "source": [
        "Ros_3 = pd.read_csv('/content/rosl_16.csv')"
      ],
      "execution_count": null,
      "outputs": []
    },
    {
      "cell_type": "code",
      "metadata": {
        "id": "OAyhq0VjZNXw"
      },
      "source": [
        "Ros_4 = pd.read_csv('/content/rosl_18.csv')"
      ],
      "execution_count": null,
      "outputs": []
    },
    {
      "cell_type": "code",
      "metadata": {
        "id": "rj0BTPr6ZNTJ"
      },
      "source": [
        "Ros_5 = pd.read_csv('/content/rosl_2.csv')"
      ],
      "execution_count": null,
      "outputs": []
    },
    {
      "cell_type": "code",
      "metadata": {
        "id": "18atiyLWZNOg"
      },
      "source": [
        "Ros_6 = pd.read_csv('/content/rosl_21.csv')"
      ],
      "execution_count": null,
      "outputs": []
    },
    {
      "cell_type": "code",
      "metadata": {
        "id": "KBr94vlKZNKF"
      },
      "source": [
        "Ros_7 = pd.read_csv('/content/rosly_10.csv')"
      ],
      "execution_count": null,
      "outputs": []
    },
    {
      "cell_type": "code",
      "metadata": {
        "id": "4a1AHMX6Y__p"
      },
      "source": [
        "Ros_8 = pd.read_csv('/content/rosly_14.csv')"
      ],
      "execution_count": null,
      "outputs": []
    },
    {
      "cell_type": "code",
      "metadata": {
        "id": "mmVvubjWZ33O"
      },
      "source": [
        "Ros_9 = pd.read_csv('/content/rosly_19.csv')"
      ],
      "execution_count": null,
      "outputs": []
    },
    {
      "cell_type": "code",
      "metadata": {
        "id": "OY6tgAPVZ3wm"
      },
      "source": [
        "Nassau = pd.concat([Nassau ,Ros_1,Ros_2,Ros_3,Ros_4,\n",
        "                    Ros_5,Ros_6,Ros_7,Ros_8])"
      ],
      "execution_count": null,
      "outputs": []
    },
    {
      "cell_type": "code",
      "metadata": {
        "colab": {
          "base_uri": "https://localhost:8080/"
        },
        "id": "nmqsUlVdZ3sI",
        "outputId": "e4d85b13-86ac-4bf3-88ef-9863e0baf56a"
      },
      "source": [
        "Nassau.shape"
      ],
      "execution_count": null,
      "outputs": [
        {
          "output_type": "execute_result",
          "data": {
            "text/plain": [
              "(164942, 26)"
            ]
          },
          "metadata": {
            "tags": []
          },
          "execution_count": 583
        }
      ]
    },
    {
      "cell_type": "code",
      "metadata": {
        "id": "WrodgRqlY_7E"
      },
      "source": [
        "Sea_1 = pd.read_csv('/content/Sea_1.csv')"
      ],
      "execution_count": null,
      "outputs": []
    },
    {
      "cell_type": "code",
      "metadata": {
        "id": "Oms2jSUjbDPC"
      },
      "source": [
        "Sea_2 = pd.read_csv('/content/Sea_2.csv')"
      ],
      "execution_count": null,
      "outputs": []
    },
    {
      "cell_type": "code",
      "metadata": {
        "id": "5M_M6OQIbDKk"
      },
      "source": [
        "Sea_3 = pd.read_csv('/content/Sea_3.csv')"
      ],
      "execution_count": null,
      "outputs": []
    },
    {
      "cell_type": "code",
      "metadata": {
        "id": "ivoSl_YPbDDm"
      },
      "source": [
        "Sea_4 = pd.read_csv('/content/Sea_4.csv')"
      ],
      "execution_count": null,
      "outputs": []
    },
    {
      "cell_type": "code",
      "metadata": {
        "id": "SGOgkFb7bC_A"
      },
      "source": [
        "Sea_5 = pd.read_csv('/content/Sea_5.csv')"
      ],
      "execution_count": null,
      "outputs": []
    },
    {
      "cell_type": "code",
      "metadata": {
        "id": "uBRDl8RObC6a"
      },
      "source": [
        "Nassau = pd.concat([Nassau ,Sea_1,Sea_2,Sea_3,Sea_4,Sea_5])"
      ],
      "execution_count": null,
      "outputs": []
    },
    {
      "cell_type": "code",
      "metadata": {
        "colab": {
          "base_uri": "https://localhost:8080/"
        },
        "id": "Rcr_f5cqbC1v",
        "outputId": "8f28d57a-d920-4628-e89d-9a5a9f71083f"
      },
      "source": [
        "Nassau.shape"
      ],
      "execution_count": null,
      "outputs": [
        {
          "output_type": "execute_result",
          "data": {
            "text/plain": [
              "(167067, 26)"
            ]
          },
          "metadata": {
            "tags": []
          },
          "execution_count": 590
        }
      ]
    },
    {
      "cell_type": "code",
      "metadata": {
        "id": "nlBixoekbCxN"
      },
      "source": [
        "Sy_1 = pd.read_csv('/content/sy_1.csv')"
      ],
      "execution_count": null,
      "outputs": []
    },
    {
      "cell_type": "code",
      "metadata": {
        "id": "ruu9P5lLcPM0"
      },
      "source": [
        "Sy_2 = pd.read_csv('/content/sy_2.csv')"
      ],
      "execution_count": null,
      "outputs": []
    },
    {
      "cell_type": "code",
      "metadata": {
        "id": "0OagkUewcPIG"
      },
      "source": [
        "Sy_3 = pd.read_csv('/content/sy_3.csv')"
      ],
      "execution_count": null,
      "outputs": []
    },
    {
      "cell_type": "code",
      "metadata": {
        "id": "ix0IGZOEcPDn"
      },
      "source": [
        "Sy_4 = pd.read_csv('/content/sy_4.csv')"
      ],
      "execution_count": null,
      "outputs": []
    },
    {
      "cell_type": "code",
      "metadata": {
        "id": "VQAHY8JgcO-8"
      },
      "source": [
        "Sy_5 = pd.read_csv('/content/sy_5.csv')"
      ],
      "execution_count": null,
      "outputs": []
    },
    {
      "cell_type": "code",
      "metadata": {
        "id": "zDi_j2pTcO6M"
      },
      "source": [
        "Sy_6 = pd.read_csv('/content/sy_6.csv')"
      ],
      "execution_count": null,
      "outputs": []
    },
    {
      "cell_type": "code",
      "metadata": {
        "id": "kRNGeNQOcO1J"
      },
      "source": [
        "Sy_7 = pd.read_csv('/content/sy_7.csv')"
      ],
      "execution_count": null,
      "outputs": []
    },
    {
      "cell_type": "code",
      "metadata": {
        "id": "FGUjrKc4clfl"
      },
      "source": [
        "Sy_8 = pd.read_csv('/content/sy_8.csv')"
      ],
      "execution_count": null,
      "outputs": []
    },
    {
      "cell_type": "code",
      "metadata": {
        "id": "Gzc4gATpcla0"
      },
      "source": [
        "Sy_10 = pd.read_csv('/content/sy_9.csv')"
      ],
      "execution_count": null,
      "outputs": []
    },
    {
      "cell_type": "code",
      "metadata": {
        "id": "aM6ou_yMcOrk"
      },
      "source": [
        "Nassau = pd.concat([Nassau ,Sy_1,Sy_2,Sy_3,Sy_4,Sy_5,Sy_6,\n",
        "                    Sy_7,Sy_8,Sy_10])"
      ],
      "execution_count": null,
      "outputs": []
    },
    {
      "cell_type": "code",
      "metadata": {
        "colab": {
          "base_uri": "https://localhost:8080/"
        },
        "id": "PePXMssydiDk",
        "outputId": "cf534a04-532f-4049-b491-51d9f67d5010"
      },
      "source": [
        "Nassau.shape"
      ],
      "execution_count": null,
      "outputs": [
        {
          "output_type": "execute_result",
          "data": {
            "text/plain": [
              "(170365, 26)"
            ]
          },
          "metadata": {
            "tags": []
          },
          "execution_count": 601
        }
      ]
    },
    {
      "cell_type": "code",
      "metadata": {
        "id": "WjAtV984dwM4"
      },
      "source": [
        "val_1 = pd.read_csv('/content/val_1.csv')"
      ],
      "execution_count": null,
      "outputs": []
    },
    {
      "cell_type": "code",
      "metadata": {
        "id": "WX3-LOZTehTX"
      },
      "source": [
        "val_2 = pd.read_csv('/content/val_10.csv')"
      ],
      "execution_count": null,
      "outputs": []
    },
    {
      "cell_type": "code",
      "metadata": {
        "id": "6A2idtTaehOg"
      },
      "source": [
        "val_3 = pd.read_csv('/content/val_11.csv')"
      ],
      "execution_count": null,
      "outputs": []
    },
    {
      "cell_type": "code",
      "metadata": {
        "id": "eaRvT5oyehJi"
      },
      "source": [
        "val_4 = pd.read_csv('/content/val_12.csv')"
      ],
      "execution_count": null,
      "outputs": []
    },
    {
      "cell_type": "code",
      "metadata": {
        "id": "NXDJHqLOehEl"
      },
      "source": [
        "val_5 = pd.read_csv('/content/val_13.csv')"
      ],
      "execution_count": null,
      "outputs": []
    },
    {
      "cell_type": "code",
      "metadata": {
        "id": "ouX4GtjOfBnD"
      },
      "source": [
        "val_6 = pd.read_csv('/content/val_14.csv')"
      ],
      "execution_count": null,
      "outputs": []
    },
    {
      "cell_type": "code",
      "metadata": {
        "id": "1cp-vI-CfBe5"
      },
      "source": [
        "val_7 = pd.read_csv('/content/val_15.csv')"
      ],
      "execution_count": null,
      "outputs": []
    },
    {
      "cell_type": "code",
      "metadata": {
        "id": "RnEwrj1AfBZ4"
      },
      "source": [
        "val_8 = pd.read_csv('/content/val_16.csv')"
      ],
      "execution_count": null,
      "outputs": []
    },
    {
      "cell_type": "code",
      "metadata": {
        "id": "O0hOGYcOfBU4"
      },
      "source": [
        "val_9 = pd.read_csv('/content/val_17.csv')"
      ],
      "execution_count": null,
      "outputs": []
    },
    {
      "cell_type": "code",
      "metadata": {
        "id": "CDGBEXNUfBLw"
      },
      "source": [
        "val_10 = pd.read_csv('/content/val_18.csv')"
      ],
      "execution_count": null,
      "outputs": []
    },
    {
      "cell_type": "code",
      "metadata": {
        "id": "1gQgBtrlfA1l"
      },
      "source": [
        "val_11 = pd.read_csv('/content/val_19.csv')"
      ],
      "execution_count": null,
      "outputs": []
    },
    {
      "cell_type": "code",
      "metadata": {
        "id": "DEcRqaSgfAwm"
      },
      "source": [
        "val_12 = pd.read_csv('/content/val_2.csv')"
      ],
      "execution_count": null,
      "outputs": []
    },
    {
      "cell_type": "code",
      "metadata": {
        "id": "2Fn-rqjJfArk"
      },
      "source": [
        "val_13 = pd.read_csv('/content/val_20.csv')"
      ],
      "execution_count": null,
      "outputs": []
    },
    {
      "cell_type": "code",
      "metadata": {
        "id": "HfrTyzMPfHsY"
      },
      "source": [
        "val_14 = pd.read_csv('/content/val_21.csv')"
      ],
      "execution_count": null,
      "outputs": []
    },
    {
      "cell_type": "code",
      "metadata": {
        "id": "CopcRhPgfHnS"
      },
      "source": [
        "val_15 = pd.read_csv('/content/val_3.csv')"
      ],
      "execution_count": null,
      "outputs": []
    },
    {
      "cell_type": "code",
      "metadata": {
        "id": "X4EOO8MyfHf7"
      },
      "source": [
        "val_16 = pd.read_csv('/content/val_4.csv')"
      ],
      "execution_count": null,
      "outputs": []
    },
    {
      "cell_type": "code",
      "metadata": {
        "id": "RMm-qrb5fHa-"
      },
      "source": [
        "val_17 = pd.read_csv('/content/val_5.csv')"
      ],
      "execution_count": null,
      "outputs": []
    },
    {
      "cell_type": "code",
      "metadata": {
        "id": "Img7g2y7fHWU"
      },
      "source": [
        "val_18 = pd.read_csv('/content/val_6.csv')"
      ],
      "execution_count": null,
      "outputs": []
    },
    {
      "cell_type": "code",
      "metadata": {
        "id": "9koSsNEhfAmc"
      },
      "source": [
        "val_19 = pd.read_csv('/content/val_7.csv')"
      ],
      "execution_count": null,
      "outputs": []
    },
    {
      "cell_type": "code",
      "metadata": {
        "id": "YzlWfuepfAhX"
      },
      "source": [
        "val_20 = pd.read_csv('/content/val_8.csv')"
      ],
      "execution_count": null,
      "outputs": []
    },
    {
      "cell_type": "code",
      "metadata": {
        "id": "AjqRvjW4fAcc"
      },
      "source": [
        "val_21 = pd.read_csv('/content/val_9.csv')"
      ],
      "execution_count": null,
      "outputs": []
    },
    {
      "cell_type": "code",
      "metadata": {
        "id": "YLISIQsjffDd"
      },
      "source": [
        "Nassau = pd.concat([Nassau ,val_1,val_2,val_3,val_4,\n",
        "                    val_5,val_6,val_7,val_8,val_9,\n",
        "                    val_10,val_11,val_12,val_13,val_14,\n",
        "                    val_15,val_16,val_17,val_18,val_19,\n",
        "                    val_20,val_21])"
      ],
      "execution_count": null,
      "outputs": []
    },
    {
      "cell_type": "code",
      "metadata": {
        "colab": {
          "base_uri": "https://localhost:8080/"
        },
        "id": "aamGhzmffe-g",
        "outputId": "72d02d38-f1f5-4587-b2b8-8ae2303b333c"
      },
      "source": [
        "Nassau.shape"
      ],
      "execution_count": null,
      "outputs": [
        {
          "output_type": "execute_result",
          "data": {
            "text/plain": [
              "(178246, 26)"
            ]
          },
          "metadata": {
            "tags": []
          },
          "execution_count": 624
        }
      ]
    },
    {
      "cell_type": "code",
      "metadata": {
        "id": "4059z2sGdh9X"
      },
      "source": [
        "wan_1 = pd.read_csv('/content/wan10.csv')"
      ],
      "execution_count": null,
      "outputs": []
    },
    {
      "cell_type": "code",
      "metadata": {
        "id": "aBOd-fIbhk9e"
      },
      "source": [
        "wan_2 = pd.read_csv('/content/wan11.csv')"
      ],
      "execution_count": null,
      "outputs": []
    },
    {
      "cell_type": "code",
      "metadata": {
        "id": "G5OlQ70ghk4U"
      },
      "source": [
        "wan_3 = pd.read_csv('/content/wan12.csv')"
      ],
      "execution_count": null,
      "outputs": []
    },
    {
      "cell_type": "code",
      "metadata": {
        "id": "DWSKnTG8hky-"
      },
      "source": [
        "wan_4 = pd.read_csv('/content/wan13.csv')"
      ],
      "execution_count": null,
      "outputs": []
    },
    {
      "cell_type": "code",
      "metadata": {
        "id": "I4mvgVkrhkqL"
      },
      "source": [
        "wan_5 = pd.read_csv('/content/wan14.csv')"
      ],
      "execution_count": null,
      "outputs": []
    },
    {
      "cell_type": "code",
      "metadata": {
        "id": "jcn2toNXhkk-"
      },
      "source": [
        "wan_6 = pd.read_csv('/content/wan3.csv')"
      ],
      "execution_count": null,
      "outputs": []
    },
    {
      "cell_type": "code",
      "metadata": {
        "id": "jT1Irdechkfq"
      },
      "source": [
        "wan_7 = pd.read_csv('/content/wan4.csv')"
      ],
      "execution_count": null,
      "outputs": []
    },
    {
      "cell_type": "code",
      "metadata": {
        "id": "jj2iLOGUiPGy"
      },
      "source": [
        "wan_8 = pd.read_csv('/content/wan5.csv')"
      ],
      "execution_count": null,
      "outputs": []
    },
    {
      "cell_type": "code",
      "metadata": {
        "id": "OvH08Df9iPBk"
      },
      "source": [
        "wan_9 = pd.read_csv('/content/wan_2.csv')"
      ],
      "execution_count": null,
      "outputs": []
    },
    {
      "cell_type": "code",
      "metadata": {
        "id": "UVQIwqW1iO8f"
      },
      "source": [
        "wan_10 = pd.read_csv('/content/want_1.csv')"
      ],
      "execution_count": null,
      "outputs": []
    },
    {
      "cell_type": "code",
      "metadata": {
        "id": "dim_ThgXiO39"
      },
      "source": [
        "Nassau = pd.concat([Nassau ,wan_1,wan_2,wan_3,wan_4,\n",
        "                    wan_5,wan_6,wan_7,wan_8,wan_9,\n",
        "                    wan_10])"
      ],
      "execution_count": null,
      "outputs": []
    },
    {
      "cell_type": "code",
      "metadata": {
        "colab": {
          "base_uri": "https://localhost:8080/"
        },
        "id": "hYzV2KW6jKY1",
        "outputId": "ea8d70b5-ac1f-4c26-e00e-6ef8ef8eea82"
      },
      "source": [
        "Nassau.shape"
      ],
      "execution_count": null,
      "outputs": [
        {
          "output_type": "execute_result",
          "data": {
            "text/plain": [
              "(181751, 26)"
            ]
          },
          "metadata": {
            "tags": []
          },
          "execution_count": 636
        }
      ]
    },
    {
      "cell_type": "code",
      "metadata": {
        "id": "kquUFe6GjKRf"
      },
      "source": [
        "west_1 = pd.read_csv('/content/west_10.csv')"
      ],
      "execution_count": null,
      "outputs": []
    },
    {
      "cell_type": "code",
      "metadata": {
        "id": "Q0YbGFI1j4uI"
      },
      "source": [
        "west_2 = pd.read_csv('/content/west_11.csv')"
      ],
      "execution_count": null,
      "outputs": []
    },
    {
      "cell_type": "code",
      "metadata": {
        "id": "X9Ygm965j4mc"
      },
      "source": [
        "west_3 = pd.read_csv('/content/west_13.csv')"
      ],
      "execution_count": null,
      "outputs": []
    },
    {
      "cell_type": "code",
      "metadata": {
        "id": "ODzPNpGUj4hN"
      },
      "source": [
        "west_4 = pd.read_csv('/content/west_14.csv')"
      ],
      "execution_count": null,
      "outputs": []
    },
    {
      "cell_type": "code",
      "metadata": {
        "id": "xiRqnXByj4b7"
      },
      "source": [
        "west_5 = pd.read_csv('/content/west_15.csv')"
      ],
      "execution_count": null,
      "outputs": []
    },
    {
      "cell_type": "code",
      "metadata": {
        "id": "Qp6pVVT2j4Wr"
      },
      "source": [
        "west_6 = pd.read_csv('/content/west_2.csv')"
      ],
      "execution_count": null,
      "outputs": []
    },
    {
      "cell_type": "code",
      "metadata": {
        "id": "DJqlNUfIj4Pj"
      },
      "source": [
        "west_7 = pd.read_csv('/content/west_21.csv')"
      ],
      "execution_count": null,
      "outputs": []
    },
    {
      "cell_type": "code",
      "metadata": {
        "id": "06pyNZLGj4KV"
      },
      "source": [
        "west_8 = pd.read_csv('/content/west_3.csv')"
      ],
      "execution_count": null,
      "outputs": []
    },
    {
      "cell_type": "code",
      "metadata": {
        "id": "fQwSrWzHj4Cy"
      },
      "source": [
        "west_9 = pd.read_csv('/content/west_4.csv')"
      ],
      "execution_count": null,
      "outputs": []
    },
    {
      "cell_type": "code",
      "metadata": {
        "id": "8pvT4aYdj39W"
      },
      "source": [
        "west_10 = pd.read_csv('/content/west_5.csv')"
      ],
      "execution_count": null,
      "outputs": []
    },
    {
      "cell_type": "code",
      "metadata": {
        "id": "aWTJ82IhhkaQ"
      },
      "source": [
        "west_11 = pd.read_csv('/content/west_6.csv')"
      ],
      "execution_count": null,
      "outputs": []
    },
    {
      "cell_type": "code",
      "metadata": {
        "id": "DWam1eZEkrLO"
      },
      "source": [
        "west_12 = pd.read_csv('/content/west_7.csv')"
      ],
      "execution_count": null,
      "outputs": []
    },
    {
      "cell_type": "code",
      "metadata": {
        "id": "uaTozYs4krF8"
      },
      "source": [
        "west_13 = pd.read_csv('/content/west_8.csv')"
      ],
      "execution_count": null,
      "outputs": []
    },
    {
      "cell_type": "code",
      "metadata": {
        "id": "TEr3ezXqkrAh"
      },
      "source": [
        "west_14 = pd.read_csv('/content/west_9.csv')"
      ],
      "execution_count": null,
      "outputs": []
    },
    {
      "cell_type": "code",
      "metadata": {
        "id": "DZlZjPpGkq7I"
      },
      "source": [
        "west_15 = pd.read_csv('/content/westbury_1csv.csv')"
      ],
      "execution_count": null,
      "outputs": []
    },
    {
      "cell_type": "code",
      "metadata": {
        "id": "mbWjPCwJkq1-"
      },
      "source": [
        "Nassau = pd.concat([Nassau ,west_1,west_2,west_3,\n",
        "                    west_4,west_5,west_6,west_7,\n",
        "                    west_8,west_9,west_10,west_11,\n",
        "                    west_12,west_13,west_14,west_15])"
      ],
      "execution_count": null,
      "outputs": []
    },
    {
      "cell_type": "code",
      "metadata": {
        "colab": {
          "base_uri": "https://localhost:8080/"
        },
        "id": "izn1A_sQkqw1",
        "outputId": "66cd4e8f-2624-4f9c-a36c-c86af227adae"
      },
      "source": [
        "Nassau.shape"
      ],
      "execution_count": null,
      "outputs": [
        {
          "output_type": "execute_result",
          "data": {
            "text/plain": [
              "(186343, 26)"
            ]
          },
          "metadata": {
            "tags": []
          },
          "execution_count": 653
        }
      ]
    },
    {
      "cell_type": "code",
      "metadata": {
        "id": "bOryC82Nkqrq"
      },
      "source": [
        "will_1 = pd.read_csv('/content/Willisont_1.csv')"
      ],
      "execution_count": null,
      "outputs": []
    },
    {
      "cell_type": "code",
      "metadata": {
        "id": "4fmNej8WkQtM"
      },
      "source": [
        "will_2 = pd.read_csv('/content/Williston_08.csv')"
      ],
      "execution_count": null,
      "outputs": []
    },
    {
      "cell_type": "code",
      "metadata": {
        "id": "P1nxgLxekQoK"
      },
      "source": [
        "will_3 = pd.read_csv('/content/Williston_19.csv')"
      ],
      "execution_count": null,
      "outputs": []
    },
    {
      "cell_type": "code",
      "metadata": {
        "id": "alXdUCK2kQjA"
      },
      "source": [
        "will_4 = pd.read_csv('/content/willison_21.csv')"
      ],
      "execution_count": null,
      "outputs": []
    },
    {
      "cell_type": "code",
      "metadata": {
        "id": "I-5J6U37kQbt"
      },
      "source": [
        "will_5 = pd.read_csv('/content/williston_11.csv')"
      ],
      "execution_count": null,
      "outputs": []
    },
    {
      "cell_type": "code",
      "metadata": {
        "id": "yoVobBvYkQWt"
      },
      "source": [
        "will_6 = pd.read_csv('/content/willsion_15.csv')"
      ],
      "execution_count": null,
      "outputs": []
    },
    {
      "cell_type": "code",
      "metadata": {
        "id": "LKxj_6qVk49C"
      },
      "source": [
        "Nassau = pd.concat([Nassau ,will_1,will_2,will_3,\n",
        "                    will_4,will_5,will_6])"
      ],
      "execution_count": null,
      "outputs": []
    },
    {
      "cell_type": "code",
      "metadata": {
        "colab": {
          "base_uri": "https://localhost:8080/"
        },
        "id": "8RiG7FwukbaI",
        "outputId": "7781e340-bb10-4748-9066-81e86ab70b21"
      },
      "source": [
        "Nassau.shape"
      ],
      "execution_count": null,
      "outputs": [
        {
          "output_type": "execute_result",
          "data": {
            "text/plain": [
              "(188631, 26)"
            ]
          },
          "metadata": {
            "tags": []
          },
          "execution_count": 661
        }
      ]
    },
    {
      "cell_type": "code",
      "metadata": {
        "id": "6oQiIijKkbVM"
      },
      "source": [
        "woodby_1 = pd.read_csv('/content/wood1.csv')"
      ],
      "execution_count": null,
      "outputs": []
    },
    {
      "cell_type": "code",
      "metadata": {
        "id": "B8ukAnablM2X"
      },
      "source": [
        "woodby_2 = pd.read_csv('/content/wood2.csv')"
      ],
      "execution_count": null,
      "outputs": []
    },
    {
      "cell_type": "code",
      "metadata": {
        "id": "-z8cdszzlMna"
      },
      "source": [
        "Nassau = pd.concat([Nassau ,woodby_1,woodby_2])"
      ],
      "execution_count": null,
      "outputs": []
    },
    {
      "cell_type": "code",
      "metadata": {
        "colab": {
          "base_uri": "https://localhost:8080/"
        },
        "id": "kAiMlHLRlMiP",
        "outputId": "d2b0bbf9-0374-4cb0-ff30-c80d7d6a89c4"
      },
      "source": [
        "Nassau.shape"
      ],
      "execution_count": null,
      "outputs": [
        {
          "output_type": "execute_result",
          "data": {
            "text/plain": [
              "(189461, 26)"
            ]
          },
          "metadata": {
            "tags": []
          },
          "execution_count": 665
        }
      ]
    },
    {
      "cell_type": "code",
      "metadata": {
        "id": "ecBDKG5llMdH"
      },
      "source": [
        "woodmr_1 = pd.read_csv('/content/woodmere_09.csv')"
      ],
      "execution_count": null,
      "outputs": []
    },
    {
      "cell_type": "code",
      "metadata": {
        "id": "x-xBKvUllMXv"
      },
      "source": [
        "woodmr_2 = pd.read_csv('/content/woodmere_2.csv')"
      ],
      "execution_count": null,
      "outputs": []
    },
    {
      "cell_type": "code",
      "metadata": {
        "id": "GjGl5feblMSf"
      },
      "source": [
        "woodmr_3 = pd.read_csv('/content/woodmere_3.csv')"
      ],
      "execution_count": null,
      "outputs": []
    },
    {
      "cell_type": "code",
      "metadata": {
        "id": "fdNVizi8lMLB"
      },
      "source": [
        "woodmr_4 = pd.read_csv('/content/woodmere_4.csv')"
      ],
      "execution_count": null,
      "outputs": []
    },
    {
      "cell_type": "code",
      "metadata": {
        "id": "YW9n11lWlMFq"
      },
      "source": [
        "woodmr_5 = pd.read_csv('/content/woodmere_5.csv')"
      ],
      "execution_count": null,
      "outputs": []
    },
    {
      "cell_type": "code",
      "metadata": {
        "id": "hcrPazxqmBZW"
      },
      "source": [
        "woodmr_6 = pd.read_csv('/content/woodmere_6.csv')"
      ],
      "execution_count": null,
      "outputs": []
    },
    {
      "cell_type": "code",
      "metadata": {
        "id": "YOklogvXmBNB"
      },
      "source": [
        "woodmr_7 = pd.read_csv('/content/woodmere_7.csv')"
      ],
      "execution_count": null,
      "outputs": []
    },
    {
      "cell_type": "markdown",
      "metadata": {
        "id": "lNE0a6D_4KEF"
      },
      "source": [
        ""
      ]
    },
    {
      "cell_type": "markdown",
      "metadata": {
        "id": "BHjPl9Im4J7t"
      },
      "source": [
        ""
      ]
    },
    {
      "cell_type": "code",
      "metadata": {
        "id": "TRPp30xomF1y"
      },
      "source": [
        "Nassau = pd.concat([Nassau ,woodmr_2,woodmr_3,woodmr_4,\n",
        "                    woodmr_5,woodmr_6,woodmr_7])"
      ],
      "execution_count": null,
      "outputs": []
    },
    {
      "cell_type": "code",
      "metadata": {
        "colab": {
          "base_uri": "https://localhost:8080/"
        },
        "id": "J3-twwZVmFpP",
        "outputId": "2ee91a8e-734d-42cb-fc60-f37baec2088b"
      },
      "source": [
        "Nassau.shape"
      ],
      "execution_count": null,
      "outputs": [
        {
          "output_type": "execute_result",
          "data": {
            "text/plain": [
              "(191793, 26)"
            ]
          },
          "metadata": {
            "tags": []
          },
          "execution_count": 674
        }
      ]
    },
    {
      "cell_type": "markdown",
      "metadata": {
        "id": "jnE9HDwSnFvR"
      },
      "source": [
        "# EXPORT CSV\n",
        "\n",
        "## file also uploaded to Google Cloud Platform in the Campaign Bucket."
      ]
    },
    {
      "cell_type": "code",
      "metadata": {
        "id": "gfFk9kqqtT-h"
      },
      "source": [
        "####################.  DOWNLOAD SAFETY COPY. ##################\n",
        "Nassau.to_csv('Nassau_Finished_May_7.csv')\n",
        "######################"
      ],
      "execution_count": null,
      "outputs": []
    },
    {
      "cell_type": "markdown",
      "metadata": {
        "id": "Ln1rHlTXeI96"
      },
      "source": [
        "# CONCAT THE DATA\n",
        "\n",
        "Here we join the newly downloaded CSVs to the previously downloaded CSVs alswasy saving the entirity as ***Nassau***."
      ]
    },
    {
      "cell_type": "markdown",
      "metadata": {
        "id": "aLE_YdzrKE8M"
      },
      "source": [
        "#  Processing the data\n",
        "\n",
        "\n",
        "\n",
        "*   Drop rows missing sold price\n",
        "*   Drop duplicates of the ML#\n",
        "*   Convert Contract Date to  Date type\n",
        "        Make a new YearMonth column\n",
        "        Make a new Year column\n",
        "*   Add a column of the pct change year over year per town\n",
        "*   Add a column of the Nassau avg of change per month\n",
        "*   Add column number of homes sold per month per town\n",
        "\n"
      ]
    },
    {
      "cell_type": "code",
      "metadata": {
        "colab": {
          "base_uri": "https://localhost:8080/"
        },
        "id": "f7UNppLOZTw6",
        "outputId": "b7d9801e-39bd-4e21-ae25-dda2e1990f05"
      },
      "source": [
        "Nassau.shape"
      ],
      "execution_count": 26,
      "outputs": [
        {
          "output_type": "execute_result",
          "data": {
            "text/plain": [
              "(191793, 27)"
            ]
          },
          "metadata": {
            "tags": []
          },
          "execution_count": 26
        }
      ]
    },
    {
      "cell_type": "code",
      "metadata": {
        "id": "wQr0cI4Vf9KT",
        "colab": {
          "base_uri": "https://localhost:8080/",
          "height": 309
        },
        "outputId": "670f454c-dcbd-465b-80f3-9c5d88e172ff"
      },
      "source": [
        "Nassau.head()"
      ],
      "execution_count": 27,
      "outputs": [
        {
          "output_type": "execute_result",
          "data": {
            "text/html": [
              "<div>\n",
              "<style scoped>\n",
              "    .dataframe tbody tr th:only-of-type {\n",
              "        vertical-align: middle;\n",
              "    }\n",
              "\n",
              "    .dataframe tbody tr th {\n",
              "        vertical-align: top;\n",
              "    }\n",
              "\n",
              "    .dataframe thead th {\n",
              "        text-align: right;\n",
              "    }\n",
              "</style>\n",
              "<table border=\"1\" class=\"dataframe\">\n",
              "  <thead>\n",
              "    <tr style=\"text-align: right;\">\n",
              "      <th></th>\n",
              "      <th>Unnamed: 0</th>\n",
              "      <th>Unnamed: 0.1</th>\n",
              "      <th>St #</th>\n",
              "      <th>Dr</th>\n",
              "      <th>Street Name</th>\n",
              "      <th>Sfx</th>\n",
              "      <th>Town</th>\n",
              "      <th>Zip</th>\n",
              "      <th>ListPrice</th>\n",
              "      <th>SoldPrice</th>\n",
              "      <th>Style</th>\n",
              "      <th>Br</th>\n",
              "      <th>Bath</th>\n",
              "      <th>Unnamed: 11</th>\n",
              "      <th>Unnamed: 12</th>\n",
              "      <th>SD</th>\n",
              "      <th>Tot Tax</th>\n",
              "      <th>LSC</th>\n",
              "      <th>ListDate</th>\n",
              "      <th>ExpDate</th>\n",
              "      <th>ContDate</th>\n",
              "      <th>TitleDate</th>\n",
              "      <th>DOM</th>\n",
              "      <th>Det</th>\n",
              "      <th>#F</th>\n",
              "      <th>K</th>\n",
              "      <th>ML#</th>\n",
              "    </tr>\n",
              "  </thead>\n",
              "  <tbody>\n",
              "    <tr>\n",
              "      <th>0</th>\n",
              "      <td>0</td>\n",
              "      <td>0.0</td>\n",
              "      <td>81</td>\n",
              "      <td>NaN</td>\n",
              "      <td>Meldon</td>\n",
              "      <td>Avenue</td>\n",
              "      <td>Albertson</td>\n",
              "      <td>11507</td>\n",
              "      <td>290000.0</td>\n",
              "      <td>270000.0</td>\n",
              "      <td>Cape</td>\n",
              "      <td>3.0</td>\n",
              "      <td>1.0</td>\n",
              "      <td>Full,Partially Finished</td>\n",
              "      <td>NaN</td>\n",
              "      <td>10.0</td>\n",
              "      <td>6000.00</td>\n",
              "      <td>CL</td>\n",
              "      <td>5/17/2011</td>\n",
              "      <td>11/30/2011</td>\n",
              "      <td>6/13/2011</td>\n",
              "      <td>9/09/2011</td>\n",
              "      <td>27.0</td>\n",
              "      <td>Det</td>\n",
              "      <td>1</td>\n",
              "      <td>1.0</td>\n",
              "      <td>2396164</td>\n",
              "    </tr>\n",
              "    <tr>\n",
              "      <th>1</th>\n",
              "      <td>1</td>\n",
              "      <td>1.0</td>\n",
              "      <td>63</td>\n",
              "      <td>NaN</td>\n",
              "      <td>Chaffee</td>\n",
              "      <td>Avenue</td>\n",
              "      <td>Albertson</td>\n",
              "      <td>11507</td>\n",
              "      <td>298000.0</td>\n",
              "      <td>311000.0</td>\n",
              "      <td>Colonial</td>\n",
              "      <td>2.0</td>\n",
              "      <td>1.0</td>\n",
              "      <td>Full</td>\n",
              "      <td>1 Car Detached</td>\n",
              "      <td>9.0</td>\n",
              "      <td>7173.48</td>\n",
              "      <td>CL</td>\n",
              "      <td>3/26/2012</td>\n",
              "      <td>12/30/2012</td>\n",
              "      <td>4/11/2012</td>\n",
              "      <td>5/25/2012</td>\n",
              "      <td>16.0</td>\n",
              "      <td>Det</td>\n",
              "      <td>1</td>\n",
              "      <td>1.0</td>\n",
              "      <td>*1130434</td>\n",
              "    </tr>\n",
              "    <tr>\n",
              "      <th>2</th>\n",
              "      <td>2</td>\n",
              "      <td>2.0</td>\n",
              "      <td>140</td>\n",
              "      <td>NaN</td>\n",
              "      <td>I U Willets</td>\n",
              "      <td>Road</td>\n",
              "      <td>Albertson</td>\n",
              "      <td>11507</td>\n",
              "      <td>318876.0</td>\n",
              "      <td>315000.0</td>\n",
              "      <td>Ranch</td>\n",
              "      <td>3.0</td>\n",
              "      <td>1.0</td>\n",
              "      <td>Full,Finished</td>\n",
              "      <td>1 Car Attached</td>\n",
              "      <td>10.0</td>\n",
              "      <td>7614.77</td>\n",
              "      <td>CL</td>\n",
              "      <td>3/17/2010</td>\n",
              "      <td>9/12/2010</td>\n",
              "      <td>4/01/2010</td>\n",
              "      <td>9/13/2010</td>\n",
              "      <td>15.0</td>\n",
              "      <td>Det</td>\n",
              "      <td>1</td>\n",
              "      <td>1.0</td>\n",
              "      <td>2271749</td>\n",
              "    </tr>\n",
              "    <tr>\n",
              "      <th>3</th>\n",
              "      <td>3</td>\n",
              "      <td>3.0</td>\n",
              "      <td>143</td>\n",
              "      <td>NaN</td>\n",
              "      <td>Devon</td>\n",
              "      <td>Road</td>\n",
              "      <td>Albertson</td>\n",
              "      <td>11507</td>\n",
              "      <td>319000.0</td>\n",
              "      <td>290000.0</td>\n",
              "      <td>Ranch</td>\n",
              "      <td>2.0</td>\n",
              "      <td>1.0</td>\n",
              "      <td>Full,Unfinished</td>\n",
              "      <td>NaN</td>\n",
              "      <td>10.0</td>\n",
              "      <td>7043.00</td>\n",
              "      <td>CL</td>\n",
              "      <td>10/31/2008</td>\n",
              "      <td>5/03/2009</td>\n",
              "      <td>1/20/2009</td>\n",
              "      <td>3/06/2009</td>\n",
              "      <td>81.0</td>\n",
              "      <td>Det</td>\n",
              "      <td>1</td>\n",
              "      <td>1.0</td>\n",
              "      <td>2130306</td>\n",
              "    </tr>\n",
              "    <tr>\n",
              "      <th>4</th>\n",
              "      <td>4</td>\n",
              "      <td>4.0</td>\n",
              "      <td>97</td>\n",
              "      <td>NaN</td>\n",
              "      <td>Coventry</td>\n",
              "      <td>Avenue</td>\n",
              "      <td>Albertson</td>\n",
              "      <td>11507</td>\n",
              "      <td>325000.0</td>\n",
              "      <td>310000.0</td>\n",
              "      <td>Cape</td>\n",
              "      <td>3.0</td>\n",
              "      <td>1.0</td>\n",
              "      <td>Full,Unfinished</td>\n",
              "      <td>1 Car Detached</td>\n",
              "      <td>10.0</td>\n",
              "      <td>7415.63</td>\n",
              "      <td>CL</td>\n",
              "      <td>7/24/2009</td>\n",
              "      <td>1/24/2010</td>\n",
              "      <td>12/18/2009</td>\n",
              "      <td>2/08/2010</td>\n",
              "      <td>147.0</td>\n",
              "      <td>Det</td>\n",
              "      <td>1</td>\n",
              "      <td>1.0</td>\n",
              "      <td>2243291</td>\n",
              "    </tr>\n",
              "  </tbody>\n",
              "</table>\n",
              "</div>"
            ],
            "text/plain": [
              "   Unnamed: 0  Unnamed: 0.1 St #   Dr  ...  Det #F    K       ML#\n",
              "0           0           0.0   81  NaN  ...  Det  1  1.0   2396164\n",
              "1           1           1.0   63  NaN  ...  Det  1  1.0  *1130434\n",
              "2           2           2.0  140  NaN  ...  Det  1  1.0   2271749\n",
              "3           3           3.0  143  NaN  ...  Det  1  1.0   2130306\n",
              "4           4           4.0   97  NaN  ...  Det  1  1.0   2243291\n",
              "\n",
              "[5 rows x 27 columns]"
            ]
          },
          "metadata": {
            "tags": []
          },
          "execution_count": 27
        }
      ]
    },
    {
      "cell_type": "markdown",
      "metadata": {
        "id": "tMk6uUECT1Ox"
      },
      "source": [
        "###  Drop empty columns."
      ]
    },
    {
      "cell_type": "code",
      "metadata": {
        "id": "7f4aAMt822p3"
      },
      "source": [
        "# drop front columns\n",
        "Nassau = Nassau.drop(['Unnamed: 0', 'Unnamed: 0.1'] , axis=1)\n",
        "#Nassau = Nassau.drop(['Unnamed: 0' ] , axis=1)"
      ],
      "execution_count": 29,
      "outputs": []
    },
    {
      "cell_type": "code",
      "metadata": {
        "colab": {
          "base_uri": "https://localhost:8080/",
          "height": 230
        },
        "id": "lpyPB5fFuNe2",
        "outputId": "ca9a4f91-80e2-4d3f-be02-dc1af32b3f33"
      },
      "source": [
        "Nassau.head(3)"
      ],
      "execution_count": null,
      "outputs": [
        {
          "output_type": "execute_result",
          "data": {
            "text/html": [
              "<div>\n",
              "<style scoped>\n",
              "    .dataframe tbody tr th:only-of-type {\n",
              "        vertical-align: middle;\n",
              "    }\n",
              "\n",
              "    .dataframe tbody tr th {\n",
              "        vertical-align: top;\n",
              "    }\n",
              "\n",
              "    .dataframe thead th {\n",
              "        text-align: right;\n",
              "    }\n",
              "</style>\n",
              "<table border=\"1\" class=\"dataframe\">\n",
              "  <thead>\n",
              "    <tr style=\"text-align: right;\">\n",
              "      <th></th>\n",
              "      <th>St #</th>\n",
              "      <th>Dr</th>\n",
              "      <th>Street Name</th>\n",
              "      <th>Sfx</th>\n",
              "      <th>Town</th>\n",
              "      <th>Zip</th>\n",
              "      <th>ListPrice</th>\n",
              "      <th>SoldPrice</th>\n",
              "      <th>Style</th>\n",
              "      <th>Br</th>\n",
              "      <th>Bath</th>\n",
              "      <th>Unnamed: 11</th>\n",
              "      <th>Unnamed: 12</th>\n",
              "      <th>SD</th>\n",
              "      <th>Tot Tax</th>\n",
              "      <th>LSC</th>\n",
              "      <th>ListDate</th>\n",
              "      <th>ExpDate</th>\n",
              "      <th>ContDate</th>\n",
              "      <th>TitleDate</th>\n",
              "      <th>DOM</th>\n",
              "      <th>Det</th>\n",
              "      <th>#F</th>\n",
              "      <th>K</th>\n",
              "      <th>ML#</th>\n",
              "    </tr>\n",
              "  </thead>\n",
              "  <tbody>\n",
              "    <tr>\n",
              "      <th>0</th>\n",
              "      <td>81</td>\n",
              "      <td>NaN</td>\n",
              "      <td>Meldon</td>\n",
              "      <td>Avenue</td>\n",
              "      <td>Albertson</td>\n",
              "      <td>11507</td>\n",
              "      <td>290000.0</td>\n",
              "      <td>270000.0</td>\n",
              "      <td>Cape</td>\n",
              "      <td>3.0</td>\n",
              "      <td>1.0</td>\n",
              "      <td>Full,Partially Finished</td>\n",
              "      <td>NaN</td>\n",
              "      <td>10.0</td>\n",
              "      <td>6000.00</td>\n",
              "      <td>CL</td>\n",
              "      <td>5/17/2011</td>\n",
              "      <td>11/30/2011</td>\n",
              "      <td>6/13/2011</td>\n",
              "      <td>9/09/2011</td>\n",
              "      <td>27.0</td>\n",
              "      <td>Det</td>\n",
              "      <td>1</td>\n",
              "      <td>1.0</td>\n",
              "      <td>2396164</td>\n",
              "    </tr>\n",
              "    <tr>\n",
              "      <th>1</th>\n",
              "      <td>63</td>\n",
              "      <td>NaN</td>\n",
              "      <td>Chaffee</td>\n",
              "      <td>Avenue</td>\n",
              "      <td>Albertson</td>\n",
              "      <td>11507</td>\n",
              "      <td>298000.0</td>\n",
              "      <td>311000.0</td>\n",
              "      <td>Colonial</td>\n",
              "      <td>2.0</td>\n",
              "      <td>1.0</td>\n",
              "      <td>Full</td>\n",
              "      <td>1 Car Detached</td>\n",
              "      <td>9.0</td>\n",
              "      <td>7173.48</td>\n",
              "      <td>CL</td>\n",
              "      <td>3/26/2012</td>\n",
              "      <td>12/30/2012</td>\n",
              "      <td>4/11/2012</td>\n",
              "      <td>5/25/2012</td>\n",
              "      <td>16.0</td>\n",
              "      <td>Det</td>\n",
              "      <td>1</td>\n",
              "      <td>1.0</td>\n",
              "      <td>*1130434</td>\n",
              "    </tr>\n",
              "    <tr>\n",
              "      <th>2</th>\n",
              "      <td>140</td>\n",
              "      <td>NaN</td>\n",
              "      <td>I U Willets</td>\n",
              "      <td>Road</td>\n",
              "      <td>Albertson</td>\n",
              "      <td>11507</td>\n",
              "      <td>318876.0</td>\n",
              "      <td>315000.0</td>\n",
              "      <td>Ranch</td>\n",
              "      <td>3.0</td>\n",
              "      <td>1.0</td>\n",
              "      <td>Full,Finished</td>\n",
              "      <td>1 Car Attached</td>\n",
              "      <td>10.0</td>\n",
              "      <td>7614.77</td>\n",
              "      <td>CL</td>\n",
              "      <td>3/17/2010</td>\n",
              "      <td>9/12/2010</td>\n",
              "      <td>4/01/2010</td>\n",
              "      <td>9/13/2010</td>\n",
              "      <td>15.0</td>\n",
              "      <td>Det</td>\n",
              "      <td>1</td>\n",
              "      <td>1.0</td>\n",
              "      <td>2271749</td>\n",
              "    </tr>\n",
              "  </tbody>\n",
              "</table>\n",
              "</div>"
            ],
            "text/plain": [
              "  St #   Dr  Street Name     Sfx       Town  ...   DOM  Det  #F    K       ML#\n",
              "0   81  NaN       Meldon  Avenue  Albertson  ...  27.0  Det   1  1.0   2396164\n",
              "1   63  NaN      Chaffee  Avenue  Albertson  ...  16.0  Det   1  1.0  *1130434\n",
              "2  140  NaN  I U Willets    Road  Albertson  ...  15.0  Det   1  1.0   2271749\n",
              "\n",
              "[3 rows x 25 columns]"
            ]
          },
          "metadata": {
            "tags": []
          },
          "execution_count": 681
        }
      ]
    },
    {
      "cell_type": "markdown",
      "metadata": {
        "id": "b93XtM-EX4eY"
      },
      "source": [
        "Drop any rows that have duplicate ML# but keeping first."
      ]
    },
    {
      "cell_type": "code",
      "metadata": {
        "colab": {
          "base_uri": "https://localhost:8080/"
        },
        "id": "CWHztfvhX8yA",
        "outputId": "ae3f7c8a-b62e-4d31-9a9d-b20b418364f1"
      },
      "source": [
        "Nassau.shape# \n",
        "Before dropping dupes thereare 191k  rows.\n",
        "df = df.drop_duplicates(subset='favorite_color', keep=\"first\")"
      ],
      "execution_count": 31,
      "outputs": [
        {
          "output_type": "execute_result",
          "data": {
            "text/plain": [
              "(191793, 25)"
            ]
          },
          "metadata": {
            "tags": []
          },
          "execution_count": 31
        }
      ]
    },
    {
      "cell_type": "code",
      "metadata": {
        "id": "l3Wh4zudYhEG"
      },
      "source": [
        "Nassau =  Nassau.drop_duplicates(subset= 'ML#', keep = 'first')"
      ],
      "execution_count": 32,
      "outputs": []
    },
    {
      "cell_type": "code",
      "metadata": {
        "colab": {
          "base_uri": "https://localhost:8080/"
        },
        "id": "kKNgEXEmX_e6",
        "outputId": "294d3184-544e-4509-bfa8-f09b93643852"
      },
      "source": [
        "Nassau.shape (50k in dupes???.  Hmmm.)"
      ],
      "execution_count": 34,
      "outputs": [
        {
          "output_type": "execute_result",
          "data": {
            "text/plain": [
              "(143252, 25)"
            ]
          },
          "metadata": {
            "tags": []
          },
          "execution_count": 34
        }
      ]
    },
    {
      "cell_type": "markdown",
      "metadata": {
        "id": "NcRFFsa2ooQc"
      },
      "source": [
        "###  Drop any row without a Sold Price\n"
      ]
    },
    {
      "cell_type": "code",
      "metadata": {
        "id": "wEo-61ouosFG"
      },
      "source": [
        "#df1 = df[df.Name != '']\n",
        "Nassau = Nassau[Nassau.SoldPrice != ' ']"
      ],
      "execution_count": 35,
      "outputs": []
    },
    {
      "cell_type": "code",
      "metadata": {
        "colab": {
          "base_uri": "https://localhost:8080/"
        },
        "id": "L_EkS1SSo7eO",
        "outputId": "ab3b9478-82e6-4fda-d737-a53f0e8c8a76"
      },
      "source": [
        "Nassau.shape"
      ],
      "execution_count": 36,
      "outputs": [
        {
          "output_type": "execute_result",
          "data": {
            "text/plain": [
              "(143252, 25)"
            ]
          },
          "metadata": {
            "tags": []
          },
          "execution_count": 36
        }
      ]
    },
    {
      "cell_type": "markdown",
      "metadata": {
        "id": "gg5YsNVtpP3H"
      },
      "source": [
        "### Convert Contract  date to date type data\n",
        "\n",
        "*   List item\n",
        "*   List item\n",
        "\n"
      ]
    },
    {
      "cell_type": "code",
      "metadata": {
        "id": "EBvCTcqApbz1"
      },
      "source": [
        "Nassau.info()"
      ],
      "execution_count": null,
      "outputs": []
    },
    {
      "cell_type": "code",
      "metadata": {
        "id": "FTS13f9JbPjR"
      },
      "source": [
        "Nassau['ContDate'] = pd.to_datetime(Nassau['ContDate'])"
      ],
      "execution_count": 42,
      "outputs": []
    },
    {
      "cell_type": "code",
      "metadata": {
        "id": "Riga0R7eHDL0"
      },
      "source": [
        "Nassau.info()"
      ],
      "execution_count": null,
      "outputs": []
    },
    {
      "cell_type": "code",
      "metadata": {
        "colab": {
          "base_uri": "https://localhost:8080/",
          "height": 230
        },
        "id": "QCdphUd3qab4",
        "outputId": "0607a604-0193-461d-895e-f93c8ebe6cdc"
      },
      "source": [
        "Nassau.head(3)"
      ],
      "execution_count": 43,
      "outputs": [
        {
          "output_type": "execute_result",
          "data": {
            "text/html": [
              "<div>\n",
              "<style scoped>\n",
              "    .dataframe tbody tr th:only-of-type {\n",
              "        vertical-align: middle;\n",
              "    }\n",
              "\n",
              "    .dataframe tbody tr th {\n",
              "        vertical-align: top;\n",
              "    }\n",
              "\n",
              "    .dataframe thead th {\n",
              "        text-align: right;\n",
              "    }\n",
              "</style>\n",
              "<table border=\"1\" class=\"dataframe\">\n",
              "  <thead>\n",
              "    <tr style=\"text-align: right;\">\n",
              "      <th></th>\n",
              "      <th>St #</th>\n",
              "      <th>Dr</th>\n",
              "      <th>Street Name</th>\n",
              "      <th>Sfx</th>\n",
              "      <th>Town</th>\n",
              "      <th>Zip</th>\n",
              "      <th>ListPrice</th>\n",
              "      <th>SoldPrice</th>\n",
              "      <th>Style</th>\n",
              "      <th>Br</th>\n",
              "      <th>Bath</th>\n",
              "      <th>Unnamed: 11</th>\n",
              "      <th>Unnamed: 12</th>\n",
              "      <th>SD</th>\n",
              "      <th>Tot Tax</th>\n",
              "      <th>LSC</th>\n",
              "      <th>ListDate</th>\n",
              "      <th>ExpDate</th>\n",
              "      <th>ContDate</th>\n",
              "      <th>TitleDate</th>\n",
              "      <th>DOM</th>\n",
              "      <th>Det</th>\n",
              "      <th>#F</th>\n",
              "      <th>K</th>\n",
              "      <th>ML#</th>\n",
              "    </tr>\n",
              "  </thead>\n",
              "  <tbody>\n",
              "    <tr>\n",
              "      <th>0</th>\n",
              "      <td>81</td>\n",
              "      <td>NaN</td>\n",
              "      <td>Meldon</td>\n",
              "      <td>Avenue</td>\n",
              "      <td>Albertson</td>\n",
              "      <td>11507</td>\n",
              "      <td>290000.0</td>\n",
              "      <td>270000.0</td>\n",
              "      <td>Cape</td>\n",
              "      <td>3.0</td>\n",
              "      <td>1.0</td>\n",
              "      <td>Full,Partially Finished</td>\n",
              "      <td>NaN</td>\n",
              "      <td>10.0</td>\n",
              "      <td>6000.00</td>\n",
              "      <td>CL</td>\n",
              "      <td>5/17/2011</td>\n",
              "      <td>11/30/2011</td>\n",
              "      <td>2011-06-13</td>\n",
              "      <td>9/09/2011</td>\n",
              "      <td>27.0</td>\n",
              "      <td>Det</td>\n",
              "      <td>1</td>\n",
              "      <td>1.0</td>\n",
              "      <td>2396164</td>\n",
              "    </tr>\n",
              "    <tr>\n",
              "      <th>1</th>\n",
              "      <td>63</td>\n",
              "      <td>NaN</td>\n",
              "      <td>Chaffee</td>\n",
              "      <td>Avenue</td>\n",
              "      <td>Albertson</td>\n",
              "      <td>11507</td>\n",
              "      <td>298000.0</td>\n",
              "      <td>311000.0</td>\n",
              "      <td>Colonial</td>\n",
              "      <td>2.0</td>\n",
              "      <td>1.0</td>\n",
              "      <td>Full</td>\n",
              "      <td>1 Car Detached</td>\n",
              "      <td>9.0</td>\n",
              "      <td>7173.48</td>\n",
              "      <td>CL</td>\n",
              "      <td>3/26/2012</td>\n",
              "      <td>12/30/2012</td>\n",
              "      <td>2012-04-11</td>\n",
              "      <td>5/25/2012</td>\n",
              "      <td>16.0</td>\n",
              "      <td>Det</td>\n",
              "      <td>1</td>\n",
              "      <td>1.0</td>\n",
              "      <td>*1130434</td>\n",
              "    </tr>\n",
              "    <tr>\n",
              "      <th>2</th>\n",
              "      <td>140</td>\n",
              "      <td>NaN</td>\n",
              "      <td>I U Willets</td>\n",
              "      <td>Road</td>\n",
              "      <td>Albertson</td>\n",
              "      <td>11507</td>\n",
              "      <td>318876.0</td>\n",
              "      <td>315000.0</td>\n",
              "      <td>Ranch</td>\n",
              "      <td>3.0</td>\n",
              "      <td>1.0</td>\n",
              "      <td>Full,Finished</td>\n",
              "      <td>1 Car Attached</td>\n",
              "      <td>10.0</td>\n",
              "      <td>7614.77</td>\n",
              "      <td>CL</td>\n",
              "      <td>3/17/2010</td>\n",
              "      <td>9/12/2010</td>\n",
              "      <td>2010-04-01</td>\n",
              "      <td>9/13/2010</td>\n",
              "      <td>15.0</td>\n",
              "      <td>Det</td>\n",
              "      <td>1</td>\n",
              "      <td>1.0</td>\n",
              "      <td>2271749</td>\n",
              "    </tr>\n",
              "  </tbody>\n",
              "</table>\n",
              "</div>"
            ],
            "text/plain": [
              "  St #   Dr  Street Name     Sfx       Town  ...   DOM  Det  #F    K       ML#\n",
              "0   81  NaN       Meldon  Avenue  Albertson  ...  27.0  Det   1  1.0   2396164\n",
              "1   63  NaN      Chaffee  Avenue  Albertson  ...  16.0  Det   1  1.0  *1130434\n",
              "2  140  NaN  I U Willets    Road  Albertson  ...  15.0  Det   1  1.0   2271749\n",
              "\n",
              "[3 rows x 25 columns]"
            ]
          },
          "metadata": {
            "tags": []
          },
          "execution_count": 43
        }
      ]
    },
    {
      "cell_type": "markdown",
      "metadata": {
        "id": "atCKTrSePZ5z"
      },
      "source": [
        "Create New columns for YEAR and MonthYear\n",
        "\n",
        "df['month_year'] = pd.to_datetime(df['birth_date']).dt.to_period('M')"
      ]
    },
    {
      "cell_type": "code",
      "metadata": {
        "id": "-CED0_0Nb9U2"
      },
      "source": [
        "Nassau['Month_Year'] = pd.to_datetime(Nassau['ContDate']).dt.to_period('M')"
      ],
      "execution_count": 46,
      "outputs": []
    },
    {
      "cell_type": "code",
      "metadata": {
        "id": "t6yxYV0LciMs"
      },
      "source": [
        "Nassau.head()"
      ],
      "execution_count": null,
      "outputs": []
    },
    {
      "cell_type": "code",
      "metadata": {
        "colab": {
          "base_uri": "https://localhost:8080/"
        },
        "id": "O32jDJvbdSnM",
        "outputId": "dd6d9458-48c0-4a57-e4dc-d1e400f98024"
      },
      "source": [
        "Nassau.info()"
      ],
      "execution_count": 50,
      "outputs": [
        {
          "output_type": "stream",
          "text": [
            "<class 'pandas.core.frame.DataFrame'>\n",
            "Int64Index: 143252 entries, 0 to 191792\n",
            "Data columns (total 26 columns):\n",
            " #   Column       Non-Null Count   Dtype         \n",
            "---  ------       --------------   -----         \n",
            " 0   St #         143174 non-null  object        \n",
            " 1   Dr           9794 non-null    object        \n",
            " 2   Street Name  143252 non-null  object        \n",
            " 3   Sfx          139754 non-null  object        \n",
            " 4   Town         143252 non-null  object        \n",
            " 5   Zip          143252 non-null  int64         \n",
            " 6   ListPrice    143250 non-null  float64       \n",
            " 7   SoldPrice    135687 non-null  float64       \n",
            " 8   Style        143250 non-null  object        \n",
            " 9   Br           143250 non-null  float64       \n",
            " 10  Bath         143203 non-null  float64       \n",
            " 11  Unnamed: 11  142256 non-null  object        \n",
            " 12  Unnamed: 12  103930 non-null  object        \n",
            " 13  SD           129985 non-null  float64       \n",
            " 14  Tot Tax      143244 non-null  float64       \n",
            " 15  LSC          143252 non-null  object        \n",
            " 16  ListDate     143252 non-null  object        \n",
            " 17  ExpDate      143252 non-null  object        \n",
            " 18  ContDate     135996 non-null  datetime64[ns]\n",
            " 19  TitleDate    135687 non-null  object        \n",
            " 20  DOM          136135 non-null  float64       \n",
            " 21  Det          143252 non-null  object        \n",
            " 22  #F           143252 non-null  int64         \n",
            " 23  K            143164 non-null  float64       \n",
            " 24  ML#          143252 non-null  object        \n",
            " 25  Month_Year   135996 non-null  period[M]     \n",
            "dtypes: datetime64[ns](1), float64(8), int64(2), object(14), period[M](1)\n",
            "memory usage: 29.5+ MB\n"
          ],
          "name": "stdout"
        }
      ]
    },
    {
      "cell_type": "code",
      "metadata": {
        "colab": {
          "base_uri": "https://localhost:8080/",
          "height": 230
        },
        "id": "9TpJMSbBP-io",
        "outputId": "0d36a479-3c8b-4092-86ab-9a9dc5c112e8"
      },
      "source": [
        "#add column for year\n",
        "#df['year'] = pd.DatetimeIndex(df['birth_date']).year\n",
        "#df.head()\n",
        "#Nassau['Year'] = pd.DatetimeIndex(Nassau['ContDate']).year\n",
        "#Nassau.head(3)"
      ],
      "execution_count": null,
      "outputs": [
        {
          "output_type": "execute_result",
          "data": {
            "text/html": [
              "<div>\n",
              "<style scoped>\n",
              "    .dataframe tbody tr th:only-of-type {\n",
              "        vertical-align: middle;\n",
              "    }\n",
              "\n",
              "    .dataframe tbody tr th {\n",
              "        vertical-align: top;\n",
              "    }\n",
              "\n",
              "    .dataframe thead th {\n",
              "        text-align: right;\n",
              "    }\n",
              "</style>\n",
              "<table border=\"1\" class=\"dataframe\">\n",
              "  <thead>\n",
              "    <tr style=\"text-align: right;\">\n",
              "      <th></th>\n",
              "      <th>St #</th>\n",
              "      <th>Dr</th>\n",
              "      <th>Street Name</th>\n",
              "      <th>Sfx</th>\n",
              "      <th>Town</th>\n",
              "      <th>Zip</th>\n",
              "      <th>ListPrice</th>\n",
              "      <th>SoldPrice</th>\n",
              "      <th>Style</th>\n",
              "      <th>Br</th>\n",
              "      <th>Bath</th>\n",
              "      <th>Unnamed: 11</th>\n",
              "      <th>Unnamed: 12</th>\n",
              "      <th>SD</th>\n",
              "      <th>Tot Tax</th>\n",
              "      <th>LSC</th>\n",
              "      <th>ListDate</th>\n",
              "      <th>ExpDate</th>\n",
              "      <th>ContDate</th>\n",
              "      <th>TitleDate</th>\n",
              "      <th>DOM</th>\n",
              "      <th>Det</th>\n",
              "      <th>#F</th>\n",
              "      <th>K</th>\n",
              "      <th>ML#</th>\n",
              "      <th>Year</th>\n",
              "    </tr>\n",
              "  </thead>\n",
              "  <tbody>\n",
              "    <tr>\n",
              "      <th>0</th>\n",
              "      <td>81</td>\n",
              "      <td>NaN</td>\n",
              "      <td>Meldon</td>\n",
              "      <td>Avenue</td>\n",
              "      <td>Albertson</td>\n",
              "      <td>11507</td>\n",
              "      <td>290000.0</td>\n",
              "      <td>270000.0</td>\n",
              "      <td>Cape</td>\n",
              "      <td>3.0</td>\n",
              "      <td>1.0</td>\n",
              "      <td>Full,Partially Finished</td>\n",
              "      <td>NaN</td>\n",
              "      <td>10.0</td>\n",
              "      <td>6000.00</td>\n",
              "      <td>CL</td>\n",
              "      <td>5/17/2011</td>\n",
              "      <td>11/30/2011</td>\n",
              "      <td>2011-06-13</td>\n",
              "      <td>9/09/2011</td>\n",
              "      <td>27.0</td>\n",
              "      <td>Det</td>\n",
              "      <td>1</td>\n",
              "      <td>1.0</td>\n",
              "      <td>2396164</td>\n",
              "      <td>2011.0</td>\n",
              "    </tr>\n",
              "    <tr>\n",
              "      <th>1</th>\n",
              "      <td>63</td>\n",
              "      <td>NaN</td>\n",
              "      <td>Chaffee</td>\n",
              "      <td>Avenue</td>\n",
              "      <td>Albertson</td>\n",
              "      <td>11507</td>\n",
              "      <td>298000.0</td>\n",
              "      <td>311000.0</td>\n",
              "      <td>Colonial</td>\n",
              "      <td>2.0</td>\n",
              "      <td>1.0</td>\n",
              "      <td>Full</td>\n",
              "      <td>1 Car Detached</td>\n",
              "      <td>9.0</td>\n",
              "      <td>7173.48</td>\n",
              "      <td>CL</td>\n",
              "      <td>3/26/2012</td>\n",
              "      <td>12/30/2012</td>\n",
              "      <td>2012-04-11</td>\n",
              "      <td>5/25/2012</td>\n",
              "      <td>16.0</td>\n",
              "      <td>Det</td>\n",
              "      <td>1</td>\n",
              "      <td>1.0</td>\n",
              "      <td>*1130434</td>\n",
              "      <td>2012.0</td>\n",
              "    </tr>\n",
              "    <tr>\n",
              "      <th>2</th>\n",
              "      <td>140</td>\n",
              "      <td>NaN</td>\n",
              "      <td>I U Willets</td>\n",
              "      <td>Road</td>\n",
              "      <td>Albertson</td>\n",
              "      <td>11507</td>\n",
              "      <td>318876.0</td>\n",
              "      <td>315000.0</td>\n",
              "      <td>Ranch</td>\n",
              "      <td>3.0</td>\n",
              "      <td>1.0</td>\n",
              "      <td>Full,Finished</td>\n",
              "      <td>1 Car Attached</td>\n",
              "      <td>10.0</td>\n",
              "      <td>7614.77</td>\n",
              "      <td>CL</td>\n",
              "      <td>3/17/2010</td>\n",
              "      <td>9/12/2010</td>\n",
              "      <td>2010-04-01</td>\n",
              "      <td>9/13/2010</td>\n",
              "      <td>15.0</td>\n",
              "      <td>Det</td>\n",
              "      <td>1</td>\n",
              "      <td>1.0</td>\n",
              "      <td>2271749</td>\n",
              "      <td>2010.0</td>\n",
              "    </tr>\n",
              "  </tbody>\n",
              "</table>\n",
              "</div>"
            ],
            "text/plain": [
              "  St #   Dr  Street Name     Sfx       Town  ...  Det  #F    K       ML#    Year\n",
              "0   81  NaN       Meldon  Avenue  Albertson  ...  Det   1  1.0   2396164  2011.0\n",
              "1   63  NaN      Chaffee  Avenue  Albertson  ...  Det   1  1.0  *1130434  2012.0\n",
              "2  140  NaN  I U Willets    Road  Albertson  ...  Det   1  1.0   2271749  2010.0\n",
              "\n",
              "[3 rows x 26 columns]"
            ]
          },
          "metadata": {
            "tags": []
          },
          "execution_count": 687
        }
      ]
    },
    {
      "cell_type": "code",
      "metadata": {
        "id": "R0jEc_jWsxHK"
      },
      "source": [
        "#Convert ML from object to factor\n",
        "Nassau['ML#']= Nassau['ML#'].astype('category')"
      ],
      "execution_count": null,
      "outputs": []
    },
    {
      "cell_type": "code",
      "metadata": {
        "colab": {
          "base_uri": "https://localhost:8080/"
        },
        "id": "9ZBH-h50rZ1G",
        "outputId": "7811869e-7272-4dde-b705-3c7b485c100c"
      },
      "source": [
        "Nassau.shape"
      ],
      "execution_count": null,
      "outputs": [
        {
          "output_type": "execute_result",
          "data": {
            "text/plain": [
              "(28695, 27)"
            ]
          },
          "metadata": {
            "tags": []
          },
          "execution_count": 69
        }
      ]
    },
    {
      "cell_type": "code",
      "metadata": {
        "colab": {
          "base_uri": "https://localhost:8080/"
        },
        "id": "hcc2iQXxri5z",
        "outputId": "25811e46-70c1-40ab-8777-f06e69b14d4d"
      },
      "source": [
        "Nassau.shape"
      ],
      "execution_count": null,
      "outputs": [
        {
          "output_type": "execute_result",
          "data": {
            "text/plain": [
              "(27392, 27)"
            ]
          },
          "metadata": {
            "tags": []
          },
          "execution_count": 71
        }
      ]
    },
    {
      "cell_type": "code",
      "metadata": {
        "id": "u2FJnSk7KAvV"
      },
      "source": [
        "#Nassau = pd.read_csv(\"/content/Nassau_7.csv\")"
      ],
      "execution_count": null,
      "outputs": []
    },
    {
      "cell_type": "markdown",
      "metadata": {
        "id": "tJN1ZPRq1jKT"
      },
      "source": [
        "### Group by and get average monthly sales price."
      ]
    },
    {
      "cell_type": "code",
      "metadata": {
        "colab": {
          "base_uri": "https://localhost:8080/"
        },
        "id": "yVhP_Bhm183E",
        "outputId": "79a5503f-a9b9-4c3e-fb96-64023aeff3a3"
      },
      "source": [
        "#test = county.groupby(['Town' ,'MonthYear'])['SoldPrice'].mean()\n",
        "Nassau_Monthly_Avg = Nassau_Monthly_Avg['AvgSoldPrice'] = Nassau.groupby(['Town' ,'MonthYear'])['SoldPrice'].mean()\n",
        "Nassau_Monthly_Avg.head()"
      ],
      "execution_count": null,
      "outputs": [
        {
          "output_type": "execute_result",
          "data": {
            "text/plain": [
              "Town     MonthYear\n",
              "Baldwin  2006-02      438500\n",
              "         2006-03      431469\n",
              "         2006-04      459125\n",
              "         2006-05      453915\n",
              "         2006-06      437139\n",
              "Name: SoldPrice, dtype: object"
            ]
          },
          "metadata": {
            "tags": []
          },
          "execution_count": 54
        }
      ]
    },
    {
      "cell_type": "code",
      "metadata": {
        "id": "A8S5_PsEEse8"
      },
      "source": [
        "Nassau_Monthly_Avg = pd.DataFrame(Nassau_Monthly_Avg)"
      ],
      "execution_count": null,
      "outputs": []
    },
    {
      "cell_type": "code",
      "metadata": {
        "colab": {
          "base_uri": "https://localhost:8080/",
          "height": 173
        },
        "id": "m64KHQpRW4YC",
        "outputId": "b2cd06e0-868e-4629-c5ff-21ca35d6e37e"
      },
      "source": [
        "Nassau_Monthly_Avg.head(3)"
      ],
      "execution_count": null,
      "outputs": [
        {
          "output_type": "execute_result",
          "data": {
            "text/html": [
              "<div>\n",
              "<style scoped>\n",
              "    .dataframe tbody tr th:only-of-type {\n",
              "        vertical-align: middle;\n",
              "    }\n",
              "\n",
              "    .dataframe tbody tr th {\n",
              "        vertical-align: top;\n",
              "    }\n",
              "\n",
              "    .dataframe thead th {\n",
              "        text-align: right;\n",
              "    }\n",
              "</style>\n",
              "<table border=\"1\" class=\"dataframe\">\n",
              "  <thead>\n",
              "    <tr style=\"text-align: right;\">\n",
              "      <th></th>\n",
              "      <th></th>\n",
              "      <th>SoldPrice</th>\n",
              "    </tr>\n",
              "    <tr>\n",
              "      <th>Town</th>\n",
              "      <th>MonthYear</th>\n",
              "      <th></th>\n",
              "    </tr>\n",
              "  </thead>\n",
              "  <tbody>\n",
              "    <tr>\n",
              "      <th rowspan=\"3\" valign=\"top\">Baldwin</th>\n",
              "      <th>2006-02</th>\n",
              "      <td>438500</td>\n",
              "    </tr>\n",
              "    <tr>\n",
              "      <th>2006-03</th>\n",
              "      <td>431469</td>\n",
              "    </tr>\n",
              "    <tr>\n",
              "      <th>2006-04</th>\n",
              "      <td>459125</td>\n",
              "    </tr>\n",
              "  </tbody>\n",
              "</table>\n",
              "</div>"
            ],
            "text/plain": [
              "                  SoldPrice\n",
              "Town    MonthYear          \n",
              "Baldwin 2006-02      438500\n",
              "        2006-03      431469\n",
              "        2006-04      459125"
            ]
          },
          "metadata": {
            "tags": []
          },
          "execution_count": 56
        }
      ]
    },
    {
      "cell_type": "markdown",
      "metadata": {
        "id": "kOGfBQK-d8Me"
      },
      "source": [
        "## Make new column showing change Y over Y per town.\n",
        "\n",
        "To do this first we need  the average per year per town."
      ]
    },
    {
      "cell_type": "code",
      "metadata": {
        "colab": {
          "base_uri": "https://localhost:8080/"
        },
        "id": "PgTXRWeIeYKb",
        "outputId": "d1c13162-cb9f-4e6a-e453-51e531411f3b"
      },
      "source": [
        "Nassau_Yearly_Avg = Nassau_Monthly_Avg['AvgSoldPrice'] = Nassau.groupby(['Town' ,'Year'])['SoldPrice'].mean()\n",
        "Nassau_Yearly_Avg.head()"
      ],
      "execution_count": null,
      "outputs": [
        {
          "output_type": "execute_result",
          "data": {
            "text/plain": [
              "Town     Year  \n",
              "Baldwin  2006.0    441334.876000\n",
              "         2007.0    421002.500000\n",
              "         2008.0    373061.916667\n",
              "         2009.0    349818.543860\n",
              "         2010.0    350661.356164\n",
              "Name: SoldPrice, dtype: float64"
            ]
          },
          "metadata": {
            "tags": []
          },
          "execution_count": 57
        }
      ]
    },
    {
      "cell_type": "code",
      "metadata": {
        "id": "NSXq52eZe60C"
      },
      "source": [
        "# Convert to DF\n",
        "#Nassau_Monthly_Avg = pd.DataFrame(Nassau_Monthly_Avg)\n",
        "Nassau_Yearly_Avg = pd.DataFrame(Nassau_Yearly_Avg)"
      ],
      "execution_count": null,
      "outputs": []
    },
    {
      "cell_type": "code",
      "metadata": {
        "colab": {
          "base_uri": "https://localhost:8080/",
          "height": 173
        },
        "id": "3O-IoMpzfKEt",
        "outputId": "a42c1bcf-e6b2-4adb-c78c-7c75e4d07333"
      },
      "source": [
        "Nassau_Yearly_Avg.head(3)"
      ],
      "execution_count": null,
      "outputs": [
        {
          "output_type": "execute_result",
          "data": {
            "text/html": [
              "<div>\n",
              "<style scoped>\n",
              "    .dataframe tbody tr th:only-of-type {\n",
              "        vertical-align: middle;\n",
              "    }\n",
              "\n",
              "    .dataframe tbody tr th {\n",
              "        vertical-align: top;\n",
              "    }\n",
              "\n",
              "    .dataframe thead th {\n",
              "        text-align: right;\n",
              "    }\n",
              "</style>\n",
              "<table border=\"1\" class=\"dataframe\">\n",
              "  <thead>\n",
              "    <tr style=\"text-align: right;\">\n",
              "      <th></th>\n",
              "      <th></th>\n",
              "      <th>SoldPrice</th>\n",
              "    </tr>\n",
              "    <tr>\n",
              "      <th>Town</th>\n",
              "      <th>Year</th>\n",
              "      <th></th>\n",
              "    </tr>\n",
              "  </thead>\n",
              "  <tbody>\n",
              "    <tr>\n",
              "      <th rowspan=\"3\" valign=\"top\">Baldwin</th>\n",
              "      <th>2006.0</th>\n",
              "      <td>441334.876000</td>\n",
              "    </tr>\n",
              "    <tr>\n",
              "      <th>2007.0</th>\n",
              "      <td>421002.500000</td>\n",
              "    </tr>\n",
              "    <tr>\n",
              "      <th>2008.0</th>\n",
              "      <td>373061.916667</td>\n",
              "    </tr>\n",
              "  </tbody>\n",
              "</table>\n",
              "</div>"
            ],
            "text/plain": [
              "                    SoldPrice\n",
              "Town    Year                 \n",
              "Baldwin 2006.0  441334.876000\n",
              "        2007.0  421002.500000\n",
              "        2008.0  373061.916667"
            ]
          },
          "metadata": {
            "tags": []
          },
          "execution_count": 59
        }
      ]
    },
    {
      "cell_type": "code",
      "metadata": {
        "colab": {
          "base_uri": "https://localhost:8080/",
          "height": 235
        },
        "id": "aVJk3-Loi4hP",
        "outputId": "2feb026e-a15c-4530-a997-f73d01677e61"
      },
      "source": [
        "#https://www.geeksforgeeks.org/python-pandas-dataframe-pct_change/\n",
        "Change_over_year = Nassau_Yearly_Avg.pct_change()\n",
        "Change_over_year.head()"
      ],
      "execution_count": null,
      "outputs": [
        {
          "output_type": "execute_result",
          "data": {
            "text/html": [
              "<div>\n",
              "<style scoped>\n",
              "    .dataframe tbody tr th:only-of-type {\n",
              "        vertical-align: middle;\n",
              "    }\n",
              "\n",
              "    .dataframe tbody tr th {\n",
              "        vertical-align: top;\n",
              "    }\n",
              "\n",
              "    .dataframe thead th {\n",
              "        text-align: right;\n",
              "    }\n",
              "</style>\n",
              "<table border=\"1\" class=\"dataframe\">\n",
              "  <thead>\n",
              "    <tr style=\"text-align: right;\">\n",
              "      <th></th>\n",
              "      <th></th>\n",
              "      <th>SoldPrice</th>\n",
              "    </tr>\n",
              "    <tr>\n",
              "      <th>Town</th>\n",
              "      <th>Year</th>\n",
              "      <th></th>\n",
              "    </tr>\n",
              "  </thead>\n",
              "  <tbody>\n",
              "    <tr>\n",
              "      <th rowspan=\"5\" valign=\"top\">Baldwin</th>\n",
              "      <th>2006.0</th>\n",
              "      <td>NaN</td>\n",
              "    </tr>\n",
              "    <tr>\n",
              "      <th>2007.0</th>\n",
              "      <td>-0.046070</td>\n",
              "    </tr>\n",
              "    <tr>\n",
              "      <th>2008.0</th>\n",
              "      <td>-0.113872</td>\n",
              "    </tr>\n",
              "    <tr>\n",
              "      <th>2009.0</th>\n",
              "      <td>-0.062304</td>\n",
              "    </tr>\n",
              "    <tr>\n",
              "      <th>2010.0</th>\n",
              "      <td>0.002409</td>\n",
              "    </tr>\n",
              "  </tbody>\n",
              "</table>\n",
              "</div>"
            ],
            "text/plain": [
              "                SoldPrice\n",
              "Town    Year             \n",
              "Baldwin 2006.0        NaN\n",
              "        2007.0  -0.046070\n",
              "        2008.0  -0.113872\n",
              "        2009.0  -0.062304\n",
              "        2010.0   0.002409"
            ]
          },
          "metadata": {
            "tags": []
          },
          "execution_count": 60
        }
      ]
    },
    {
      "cell_type": "code",
      "metadata": {
        "colab": {
          "base_uri": "https://localhost:8080/",
          "height": 235
        },
        "id": "MHoGDoUekCPd",
        "outputId": "eba7e1e9-1cbe-43c7-ed00-0cc9b10cda89"
      },
      "source": [
        "Change_over_year.tail()"
      ],
      "execution_count": null,
      "outputs": [
        {
          "output_type": "execute_result",
          "data": {
            "text/html": [
              "<div>\n",
              "<style scoped>\n",
              "    .dataframe tbody tr th:only-of-type {\n",
              "        vertical-align: middle;\n",
              "    }\n",
              "\n",
              "    .dataframe tbody tr th {\n",
              "        vertical-align: top;\n",
              "    }\n",
              "\n",
              "    .dataframe thead th {\n",
              "        text-align: right;\n",
              "    }\n",
              "</style>\n",
              "<table border=\"1\" class=\"dataframe\">\n",
              "  <thead>\n",
              "    <tr style=\"text-align: right;\">\n",
              "      <th></th>\n",
              "      <th></th>\n",
              "      <th>SoldPrice</th>\n",
              "    </tr>\n",
              "    <tr>\n",
              "      <th>Town</th>\n",
              "      <th>Year</th>\n",
              "      <th></th>\n",
              "    </tr>\n",
              "  </thead>\n",
              "  <tbody>\n",
              "    <tr>\n",
              "      <th rowspan=\"5\" valign=\"top\">Sea Cliff</th>\n",
              "      <th>2017.0</th>\n",
              "      <td>-0.087202</td>\n",
              "    </tr>\n",
              "    <tr>\n",
              "      <th>2018.0</th>\n",
              "      <td>0.017218</td>\n",
              "    </tr>\n",
              "    <tr>\n",
              "      <th>2019.0</th>\n",
              "      <td>0.093698</td>\n",
              "    </tr>\n",
              "    <tr>\n",
              "      <th>2020.0</th>\n",
              "      <td>0.092123</td>\n",
              "    </tr>\n",
              "    <tr>\n",
              "      <th>2021.0</th>\n",
              "      <td>0.079949</td>\n",
              "    </tr>\n",
              "  </tbody>\n",
              "</table>\n",
              "</div>"
            ],
            "text/plain": [
              "                  SoldPrice\n",
              "Town      Year             \n",
              "Sea Cliff 2017.0  -0.087202\n",
              "          2018.0   0.017218\n",
              "          2019.0   0.093698\n",
              "          2020.0   0.092123\n",
              "          2021.0   0.079949"
            ]
          },
          "metadata": {
            "tags": []
          },
          "execution_count": 62
        }
      ]
    },
    {
      "cell_type": "code",
      "metadata": {
        "id": "77eQnbucGMvy"
      },
      "source": [
        "#Nassau.to_csv('Nassau_10.csv')\n",
        "Change_over_year.to_csv('Change_over_year.csv')"
      ],
      "execution_count": null,
      "outputs": []
    },
    {
      "cell_type": "markdown",
      "metadata": {
        "id": "XRPjp3HKUilD"
      },
      "source": [
        "# Graphing\n",
        "\n",
        "\n",
        "https://www.geeksforgeeks.org/plot-multiple-lines-in-matplotlib/"
      ]
    },
    {
      "cell_type": "code",
      "metadata": {
        "id": "ofdilYhUFGGw"
      },
      "source": [
        "Nassau = pd.read_csv(\"/content/Nassau_6.csv\")"
      ],
      "execution_count": null,
      "outputs": []
    },
    {
      "cell_type": "code",
      "metadata": {
        "colab": {
          "base_uri": "https://localhost:8080/"
        },
        "id": "JehqBHsgJLu4",
        "outputId": "d7297c99-eb98-4d79-aa4c-8c2f49ae6054"
      },
      "source": [
        "Nassau.shape"
      ],
      "execution_count": null,
      "outputs": [
        {
          "output_type": "execute_result",
          "data": {
            "text/plain": [
              "(42081, 30)"
            ]
          },
          "metadata": {
            "tags": []
          },
          "execution_count": 24
        }
      ]
    },
    {
      "cell_type": "code",
      "metadata": {
        "colab": {
          "base_uri": "https://localhost:8080/",
          "height": 296
        },
        "id": "9mGaapjJhQVl",
        "outputId": "9fab2030-0faa-4284-fdbe-908b86b3c6a0"
      },
      "source": [
        "sns.lineplot(x= 'Year' , y= 'SoldPrice',data = Change_over_year )\n",
        "plt.plot()"
      ],
      "execution_count": null,
      "outputs": [
        {
          "output_type": "execute_result",
          "data": {
            "text/plain": [
              "[]"
            ]
          },
          "metadata": {
            "tags": []
          },
          "execution_count": 63
        },
        {
          "output_type": "display_data",
          "data": {
            "image/png": "[encoded data removed]",
            "text/plain": [
              "<Figure size 432x288 with 1 Axes>"
            ]
          },
          "metadata": {
            "tags": [],
            "needs_background": "light"
          }
        }
      ]
    },
    {
      "cell_type": "code",
      "metadata": {
        "colab": {
          "base_uri": "https://localhost:8080/",
          "height": 296
        },
        "id": "aC7BNar5hQGi",
        "outputId": "917488e3-fc27-40ae-b1c3-addb5c216f20"
      },
      "source": [
        "sns.lineplot(x= 'Year' , y= 'SoldPrice',data = Change_over_year, hue = 'Town')\n",
        "plt.plot()"
      ],
      "execution_count": null,
      "outputs": [
        {
          "output_type": "execute_result",
          "data": {
            "text/plain": [
              "[]"
            ]
          },
          "metadata": {
            "tags": []
          },
          "execution_count": 64
        },
        {
          "output_type": "display_data",
          "data": {
            "image/png": "[encoded data removed]",
            "text/plain": [
              "<Figure size 432x288 with 1 Axes>"
            ]
          },
          "metadata": {
            "tags": [],
            "needs_background": "light"
          }
        }
      ]
    },
    {
      "cell_type": "code",
      "metadata": {
        "colab": {
          "base_uri": "https://localhost:8080/",
          "height": 296
        },
        "id": "z5q_rNo4hQCZ",
        "outputId": "8e669937-e77f-41fe-bc79-ca7207924872"
      },
      "source": [
        "sns.lineplot(x= 'Year' , y= 'SoldPrice',data = Change_over_year, hue = 'Town')\n",
        "plt.legend(bbox_to_anchor=(1.05, 1), loc=2, borderaxespad=0.)\n",
        "plt.plot()"
      ],
      "execution_count": null,
      "outputs": [
        {
          "output_type": "execute_result",
          "data": {
            "text/plain": [
              "[]"
            ]
          },
          "metadata": {
            "tags": []
          },
          "execution_count": 65
        },
        {
          "output_type": "display_data",
          "data": {
            "image/png": "[encoded data removed]",
            "text/plain": [
              "<Figure size 432x288 with 1 Axes>"
            ]
          },
          "metadata": {
            "tags": [],
            "needs_background": "light"
          }
        }
      ]
    },
    {
      "cell_type": "code",
      "metadata": {
        "id": "UzrvxKAVkvGe",
        "colab": {
          "base_uri": "https://localhost:8080/",
          "height": 341
        },
        "outputId": "4844e8d5-4563-4a12-b552-138a77d4fef9"
      },
      "source": [
        "sns.lineplot(x= 'Year' , y= 'SoldPrice',data = Nassau, hue = 'Town')\n",
        "plt.legend(bbox_to_anchor=(1.05, 1), loc=2, borderaxespad=0.)\n",
        "plt.plot()"
      ],
      "execution_count": null,
      "outputs": [
        {
          "output_type": "error",
          "ename": "ValueError",
          "evalue": "ignored",
          "traceback": [
            "\u001b[0;31m---------------------------------------------------------------------------\u001b[0m",
            "\u001b[0;31mValueError\u001b[0m                                Traceback (most recent call last)",
            "\u001b[0;32m<ipython-input-7-fa5916643281>\u001b[0m in \u001b[0;36m<module>\u001b[0;34m()\u001b[0m\n\u001b[0;32m----> 1\u001b[0;31m \u001b[0msns\u001b[0m\u001b[0;34m.\u001b[0m\u001b[0mlineplot\u001b[0m\u001b[0;34m(\u001b[0m\u001b[0mx\u001b[0m\u001b[0;34m=\u001b[0m \u001b[0;34m'Year'\u001b[0m \u001b[0;34m,\u001b[0m \u001b[0my\u001b[0m\u001b[0;34m=\u001b[0m \u001b[0;34m'SoldPrice'\u001b[0m\u001b[0;34m,\u001b[0m\u001b[0mdata\u001b[0m \u001b[0;34m=\u001b[0m \u001b[0mNassau\u001b[0m\u001b[0;34m,\u001b[0m \u001b[0mhue\u001b[0m \u001b[0;34m=\u001b[0m \u001b[0;34m'Town'\u001b[0m\u001b[0;34m)\u001b[0m\u001b[0;34m\u001b[0m\u001b[0;34m\u001b[0m\u001b[0m\n\u001b[0m\u001b[1;32m      2\u001b[0m \u001b[0mplt\u001b[0m\u001b[0;34m.\u001b[0m\u001b[0mlegend\u001b[0m\u001b[0;34m(\u001b[0m\u001b[0mbbox_to_anchor\u001b[0m\u001b[0;34m=\u001b[0m\u001b[0;34m(\u001b[0m\u001b[0;36m1.05\u001b[0m\u001b[0;34m,\u001b[0m \u001b[0;36m1\u001b[0m\u001b[0;34m)\u001b[0m\u001b[0;34m,\u001b[0m \u001b[0mloc\u001b[0m\u001b[0;34m=\u001b[0m\u001b[0;36m2\u001b[0m\u001b[0;34m,\u001b[0m \u001b[0mborderaxespad\u001b[0m\u001b[0;34m=\u001b[0m\u001b[0;36m0.\u001b[0m\u001b[0;34m)\u001b[0m\u001b[0;34m\u001b[0m\u001b[0;34m\u001b[0m\u001b[0m\n\u001b[1;32m      3\u001b[0m \u001b[0mplt\u001b[0m\u001b[0;34m.\u001b[0m\u001b[0mplot\u001b[0m\u001b[0;34m(\u001b[0m\u001b[0;34m)\u001b[0m\u001b[0;34m\u001b[0m\u001b[0;34m\u001b[0m\u001b[0m\n",
            "\u001b[0;32m/usr/local/lib/python3.7/dist-packages/seaborn/_decorators.py\u001b[0m in \u001b[0;36minner_f\u001b[0;34m(*args, **kwargs)\u001b[0m\n\u001b[1;32m     44\u001b[0m             )\n\u001b[1;32m     45\u001b[0m         \u001b[0mkwargs\u001b[0m\u001b[0;34m.\u001b[0m\u001b[0mupdate\u001b[0m\u001b[0;34m(\u001b[0m\u001b[0;34m{\u001b[0m\u001b[0mk\u001b[0m\u001b[0;34m:\u001b[0m \u001b[0marg\u001b[0m \u001b[0;32mfor\u001b[0m \u001b[0mk\u001b[0m\u001b[0;34m,\u001b[0m \u001b[0marg\u001b[0m \u001b[0;32min\u001b[0m \u001b[0mzip\u001b[0m\u001b[0;34m(\u001b[0m\u001b[0msig\u001b[0m\u001b[0;34m.\u001b[0m\u001b[0mparameters\u001b[0m\u001b[0;34m,\u001b[0m \u001b[0margs\u001b[0m\u001b[0;34m)\u001b[0m\u001b[0;34m}\u001b[0m\u001b[0;34m)\u001b[0m\u001b[0;34m\u001b[0m\u001b[0;34m\u001b[0m\u001b[0m\n\u001b[0;32m---> 46\u001b[0;31m         \u001b[0;32mreturn\u001b[0m \u001b[0mf\u001b[0m\u001b[0;34m(\u001b[0m\u001b[0;34m**\u001b[0m\u001b[0mkwargs\u001b[0m\u001b[0;34m)\u001b[0m\u001b[0;34m\u001b[0m\u001b[0;34m\u001b[0m\u001b[0m\n\u001b[0m\u001b[1;32m     47\u001b[0m     \u001b[0;32mreturn\u001b[0m \u001b[0minner_f\u001b[0m\u001b[0;34m\u001b[0m\u001b[0;34m\u001b[0m\u001b[0m\n\u001b[1;32m     48\u001b[0m \u001b[0;34m\u001b[0m\u001b[0m\n",
            "\u001b[0;32m/usr/local/lib/python3.7/dist-packages/seaborn/relational.py\u001b[0m in \u001b[0;36mlineplot\u001b[0;34m(x, y, hue, size, style, data, palette, hue_order, hue_norm, sizes, size_order, size_norm, dashes, markers, style_order, units, estimator, ci, n_boot, seed, sort, err_style, err_kws, legend, ax, **kwargs)\u001b[0m\n\u001b[1;32m    686\u001b[0m         \u001b[0mdata\u001b[0m\u001b[0;34m=\u001b[0m\u001b[0mdata\u001b[0m\u001b[0;34m,\u001b[0m \u001b[0mvariables\u001b[0m\u001b[0;34m=\u001b[0m\u001b[0mvariables\u001b[0m\u001b[0;34m,\u001b[0m\u001b[0;34m\u001b[0m\u001b[0;34m\u001b[0m\u001b[0m\n\u001b[1;32m    687\u001b[0m         \u001b[0mestimator\u001b[0m\u001b[0;34m=\u001b[0m\u001b[0mestimator\u001b[0m\u001b[0;34m,\u001b[0m \u001b[0mci\u001b[0m\u001b[0;34m=\u001b[0m\u001b[0mci\u001b[0m\u001b[0;34m,\u001b[0m \u001b[0mn_boot\u001b[0m\u001b[0;34m=\u001b[0m\u001b[0mn_boot\u001b[0m\u001b[0;34m,\u001b[0m \u001b[0mseed\u001b[0m\u001b[0;34m=\u001b[0m\u001b[0mseed\u001b[0m\u001b[0;34m,\u001b[0m\u001b[0;34m\u001b[0m\u001b[0;34m\u001b[0m\u001b[0m\n\u001b[0;32m--> 688\u001b[0;31m         \u001b[0msort\u001b[0m\u001b[0;34m=\u001b[0m\u001b[0msort\u001b[0m\u001b[0;34m,\u001b[0m \u001b[0merr_style\u001b[0m\u001b[0;34m=\u001b[0m\u001b[0merr_style\u001b[0m\u001b[0;34m,\u001b[0m \u001b[0merr_kws\u001b[0m\u001b[0;34m=\u001b[0m\u001b[0merr_kws\u001b[0m\u001b[0;34m,\u001b[0m \u001b[0mlegend\u001b[0m\u001b[0;34m=\u001b[0m\u001b[0mlegend\u001b[0m\u001b[0;34m,\u001b[0m\u001b[0;34m\u001b[0m\u001b[0;34m\u001b[0m\u001b[0m\n\u001b[0m\u001b[1;32m    689\u001b[0m     )\n\u001b[1;32m    690\u001b[0m \u001b[0;34m\u001b[0m\u001b[0m\n",
            "\u001b[0;32m/usr/local/lib/python3.7/dist-packages/seaborn/relational.py\u001b[0m in \u001b[0;36m__init__\u001b[0;34m(self, data, variables, estimator, ci, n_boot, seed, sort, err_style, err_kws, legend)\u001b[0m\n\u001b[1;32m    365\u001b[0m         )\n\u001b[1;32m    366\u001b[0m \u001b[0;34m\u001b[0m\u001b[0m\n\u001b[0;32m--> 367\u001b[0;31m         \u001b[0msuper\u001b[0m\u001b[0;34m(\u001b[0m\u001b[0;34m)\u001b[0m\u001b[0;34m.\u001b[0m\u001b[0m__init__\u001b[0m\u001b[0;34m(\u001b[0m\u001b[0mdata\u001b[0m\u001b[0;34m=\u001b[0m\u001b[0mdata\u001b[0m\u001b[0;34m,\u001b[0m \u001b[0mvariables\u001b[0m\u001b[0;34m=\u001b[0m\u001b[0mvariables\u001b[0m\u001b[0;34m)\u001b[0m\u001b[0;34m\u001b[0m\u001b[0;34m\u001b[0m\u001b[0m\n\u001b[0m\u001b[1;32m    368\u001b[0m \u001b[0;34m\u001b[0m\u001b[0m\n\u001b[1;32m    369\u001b[0m         \u001b[0mself\u001b[0m\u001b[0;34m.\u001b[0m\u001b[0mestimator\u001b[0m \u001b[0;34m=\u001b[0m \u001b[0mestimator\u001b[0m\u001b[0;34m\u001b[0m\u001b[0;34m\u001b[0m\u001b[0m\n",
            "\u001b[0;32m/usr/local/lib/python3.7/dist-packages/seaborn/_core.py\u001b[0m in \u001b[0;36m__init__\u001b[0;34m(self, data, variables)\u001b[0m\n\u001b[1;32m    602\u001b[0m     \u001b[0;32mdef\u001b[0m \u001b[0m__init__\u001b[0m\u001b[0;34m(\u001b[0m\u001b[0mself\u001b[0m\u001b[0;34m,\u001b[0m \u001b[0mdata\u001b[0m\u001b[0;34m=\u001b[0m\u001b[0;32mNone\u001b[0m\u001b[0;34m,\u001b[0m \u001b[0mvariables\u001b[0m\u001b[0;34m=\u001b[0m\u001b[0;34m{\u001b[0m\u001b[0;34m}\u001b[0m\u001b[0;34m)\u001b[0m\u001b[0;34m:\u001b[0m\u001b[0;34m\u001b[0m\u001b[0;34m\u001b[0m\u001b[0m\n\u001b[1;32m    603\u001b[0m \u001b[0;34m\u001b[0m\u001b[0m\n\u001b[0;32m--> 604\u001b[0;31m         \u001b[0mself\u001b[0m\u001b[0;34m.\u001b[0m\u001b[0massign_variables\u001b[0m\u001b[0;34m(\u001b[0m\u001b[0mdata\u001b[0m\u001b[0;34m,\u001b[0m \u001b[0mvariables\u001b[0m\u001b[0;34m)\u001b[0m\u001b[0;34m\u001b[0m\u001b[0;34m\u001b[0m\u001b[0m\n\u001b[0m\u001b[1;32m    605\u001b[0m \u001b[0;34m\u001b[0m\u001b[0m\n\u001b[1;32m    606\u001b[0m         \u001b[0;32mfor\u001b[0m \u001b[0mvar\u001b[0m\u001b[0;34m,\u001b[0m \u001b[0mcls\u001b[0m \u001b[0;32min\u001b[0m \u001b[0mself\u001b[0m\u001b[0;34m.\u001b[0m\u001b[0m_semantic_mappings\u001b[0m\u001b[0;34m.\u001b[0m\u001b[0mitems\u001b[0m\u001b[0;34m(\u001b[0m\u001b[0;34m)\u001b[0m\u001b[0;34m:\u001b[0m\u001b[0;34m\u001b[0m\u001b[0;34m\u001b[0m\u001b[0m\n",
            "\u001b[0;32m/usr/local/lib/python3.7/dist-packages/seaborn/_core.py\u001b[0m in \u001b[0;36massign_variables\u001b[0;34m(self, data, variables)\u001b[0m\n\u001b[1;32m    666\u001b[0m             \u001b[0mself\u001b[0m\u001b[0;34m.\u001b[0m\u001b[0minput_format\u001b[0m \u001b[0;34m=\u001b[0m \u001b[0;34m\"long\"\u001b[0m\u001b[0;34m\u001b[0m\u001b[0;34m\u001b[0m\u001b[0m\n\u001b[1;32m    667\u001b[0m             plot_data, variables = self._assign_variables_longform(\n\u001b[0;32m--> 668\u001b[0;31m                 \u001b[0mdata\u001b[0m\u001b[0;34m,\u001b[0m \u001b[0;34m**\u001b[0m\u001b[0mvariables\u001b[0m\u001b[0;34m,\u001b[0m\u001b[0;34m\u001b[0m\u001b[0;34m\u001b[0m\u001b[0m\n\u001b[0m\u001b[1;32m    669\u001b[0m             )\n\u001b[1;32m    670\u001b[0m \u001b[0;34m\u001b[0m\u001b[0m\n",
            "\u001b[0;32m/usr/local/lib/python3.7/dist-packages/seaborn/_core.py\u001b[0m in \u001b[0;36m_assign_variables_longform\u001b[0;34m(self, data, **kwargs)\u001b[0m\n\u001b[1;32m    900\u001b[0m \u001b[0;34m\u001b[0m\u001b[0m\n\u001b[1;32m    901\u001b[0m                 \u001b[0merr\u001b[0m \u001b[0;34m=\u001b[0m \u001b[0;34mf\"Could not interpret value `{val}` for parameter `{key}`\"\u001b[0m\u001b[0;34m\u001b[0m\u001b[0;34m\u001b[0m\u001b[0m\n\u001b[0;32m--> 902\u001b[0;31m                 \u001b[0;32mraise\u001b[0m \u001b[0mValueError\u001b[0m\u001b[0;34m(\u001b[0m\u001b[0merr\u001b[0m\u001b[0;34m)\u001b[0m\u001b[0;34m\u001b[0m\u001b[0;34m\u001b[0m\u001b[0m\n\u001b[0m\u001b[1;32m    903\u001b[0m \u001b[0;34m\u001b[0m\u001b[0m\n\u001b[1;32m    904\u001b[0m             \u001b[0;32melse\u001b[0m\u001b[0;34m:\u001b[0m\u001b[0;34m\u001b[0m\u001b[0;34m\u001b[0m\u001b[0m\n",
            "\u001b[0;31mValueError\u001b[0m: Could not interpret value `Year` for parameter `x`"
          ]
        }
      ]
    },
    {
      "cell_type": "code",
      "metadata": {
        "id": "OLbLZLO2kvCm"
      },
      "source": [
        ""
      ],
      "execution_count": null,
      "outputs": []
    },
    {
      "cell_type": "code",
      "metadata": {
        "id": "UnVsi9ixku-6"
      },
      "source": [
        ""
      ],
      "execution_count": null,
      "outputs": []
    },
    {
      "cell_type": "code",
      "metadata": {
        "id": "7-CsSq2kku65"
      },
      "source": [
        ""
      ],
      "execution_count": null,
      "outputs": []
    },
    {
      "cell_type": "code",
      "metadata": {
        "id": "yoy7Ejy2Vm0j"
      },
      "source": [
        ""
      ],
      "execution_count": null,
      "outputs": []
    },
    {
      "cell_type": "code",
      "metadata": {
        "id": "UyxRVnp7VmxK"
      },
      "source": [
        ""
      ],
      "execution_count": null,
      "outputs": []
    },
    {
      "cell_type": "code",
      "metadata": {
        "id": "9O2fhkrTVmt6"
      },
      "source": [
        ""
      ],
      "execution_count": null,
      "outputs": []
    },
    {
      "cell_type": "code",
      "metadata": {
        "id": "HkyZdlQEVmqt"
      },
      "source": [
        ""
      ],
      "execution_count": null,
      "outputs": []
    },
    {
      "cell_type": "code",
      "metadata": {
        "id": "uOotB1H_VmnW"
      },
      "source": [
        ""
      ],
      "execution_count": null,
      "outputs": []
    },
    {
      "cell_type": "code",
      "metadata": {
        "id": "7jK0TvUVVmk1"
      },
      "source": [
        ""
      ],
      "execution_count": null,
      "outputs": []
    },
    {
      "cell_type": "code",
      "metadata": {
        "id": "8xFeqTlkVmhl"
      },
      "source": [
        ""
      ],
      "execution_count": null,
      "outputs": []
    }
  ]
}