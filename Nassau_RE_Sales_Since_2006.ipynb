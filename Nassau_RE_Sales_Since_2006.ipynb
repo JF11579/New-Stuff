{
  "nbformat": 4,
  "nbformat_minor": 0,
  "metadata": {
    "colab": {
      "name": "Nassau_RE_Sales_Since_2006.ipynb",
      "provenance": [],
      "collapsed_sections": [],
      "toc_visible": true,
      "authorship_tag": "ABX9TyMTiMjhZMf5MARE6+lwDCUr",
      "include_colab_link": true
    },
    "kernelspec": {
      "name": "python3",
      "display_name": "Python 3"
    },
    "language_info": {
      "name": "python"
    }
  },
  "cells": [
    {
      "cell_type": "markdown",
      "metadata": {
        "id": "view-in-github",
        "colab_type": "text"
      },
      "source": [
        "<a href=\"https://colab.research.google.com/github/JF11579/New-Stuff/blob/main/Nassau_RE_Sales_Since_2006.ipynb\" target=\"_parent\"><img src=\"https://colab.research.google.com/assets/colab-badge.svg\" alt=\"Open In Colab\"/></a>"
      ]
    },
    {
      "cell_type": "markdown",
      "metadata": {
        "id": "m3USy66Ia9Hk"
      },
      "source": [
        "# Notes"
      ]
    },
    {
      "cell_type": "markdown",
      "metadata": {
        "id": "DxwQS9KX18nt"
      },
      "source": [
        "\n",
        "\n",
        "*   Test withthe data I already have\n",
        "*   Concat data\n",
        "*drop any row wehre Sold Price is empty\n",
        "*Covert to date type data\n",
        "*   remove duplicated ML #s.\n",
        "*   Created new column of each town monthly avg of     units and sale price\n",
        "*   Multo line graph of all towns and Nassau avg\n",
        "*   Add census data \n",
        "      Race\n",
        "      Income\n",
        "      Age\n",
        "* make each town a csv and upload it.\n",
        "*Join the towns and make a giant csv\n",
        "*   Add colun showing percentage change year over year.\n",
        "* \n",
        "*\n",
        "\n",
        "\n",
        "\n"
      ]
    },
    {
      "cell_type": "code",
      "metadata": {
        "id": "i1sR-j0JS0er"
      },
      "source": [
        "did Nassau6 through freeport"
      ],
      "execution_count": null,
      "outputs": []
    },
    {
      "cell_type": "markdown",
      "metadata": {
        "id": "sUtV0ZA2Szb7"
      },
      "source": [
        "# Packages"
      ]
    },
    {
      "cell_type": "code",
      "metadata": {
        "id": "WqSVRxOW1r7E"
      },
      "source": [
        "import pandas as pd\n"
      ],
      "execution_count": 1,
      "outputs": []
    },
    {
      "cell_type": "code",
      "metadata": {
        "id": "osLB0LPK2Ax4"
      },
      "source": [
        "import numpy as np"
      ],
      "execution_count": 2,
      "outputs": []
    },
    {
      "cell_type": "code",
      "metadata": {
        "id": "bwOJbK38U-2S"
      },
      "source": [
        "import seaborn as sns"
      ],
      "execution_count": 233,
      "outputs": []
    },
    {
      "cell_type": "markdown",
      "metadata": {
        "id": "svi0TxpuVDvm"
      },
      "source": [
        "# Import Data"
      ]
    },
    {
      "cell_type": "code",
      "metadata": {
        "id": "wCxnIcPokkGY"
      },
      "source": [
        "Nassau = pd.read_csv(\"/content/Nassau_6.csv\")"
      ],
      "execution_count": 4,
      "outputs": []
    },
    {
      "cell_type": "code",
      "metadata": {
        "id": "Qy7uFujukvxm"
      },
      "source": [
        "Nassau = pd.read_csv(\"/content/Nassau_7.csv\")"
      ],
      "execution_count": 206,
      "outputs": []
    },
    {
      "cell_type": "code",
      "metadata": {
        "colab": {
          "base_uri": "https://localhost:8080/"
        },
        "id": "ANffGX7ZF0uv",
        "outputId": "9ade66c9-5389-426e-d80d-97c9d66930b9"
      },
      "source": [
        "Nassau.shape"
      ],
      "execution_count": 207,
      "outputs": [
        {
          "output_type": "execute_result",
          "data": {
            "text/plain": [
              "(90187, 31)"
            ]
          },
          "metadata": {
            "tags": []
          },
          "execution_count": 207
        }
      ]
    },
    {
      "cell_type": "code",
      "metadata": {
        "colab": {
          "base_uri": "https://localhost:8080/"
        },
        "id": "Hisqi9cZIGCc",
        "outputId": "79532c0e-f6e7-41f8-d3d2-39c35dea7892"
      },
      "source": [
        "Nassau.shape"
      ],
      "execution_count": 5,
      "outputs": [
        {
          "output_type": "execute_result",
          "data": {
            "text/plain": [
              "(42081, 30)"
            ]
          },
          "metadata": {
            "tags": []
          },
          "execution_count": 5
        }
      ]
    },
    {
      "cell_type": "code",
      "metadata": {
        "id": "QaoJkUY72DKu"
      },
      "source": [
        "Albertson_1 = pd.read_csv(\"/content/Alberston_2015.csv\")"
      ],
      "execution_count": null,
      "outputs": []
    },
    {
      "cell_type": "code",
      "metadata": {
        "id": "C2bQi2HI2ZJJ"
      },
      "source": [
        "Albertson_2 = pd.read_csv(\"/content/Albertson_1.csv\")"
      ],
      "execution_count": null,
      "outputs": []
    },
    {
      "cell_type": "code",
      "metadata": {
        "id": "pHagsxeIbx4V"
      },
      "source": [
        "Albertson_3 = pd.read_csv(\"/content/Albertson_21.csv\")"
      ],
      "execution_count": null,
      "outputs": []
    },
    {
      "cell_type": "code",
      "metadata": {
        "id": "dUI_ztIBbMIS"
      },
      "source": [
        "Atlantic = pd.read_csv(\"/content/Atlandtic Beach.csv\")"
      ],
      "execution_count": null,
      "outputs": []
    },
    {
      "cell_type": "code",
      "metadata": {
        "id": "qIcjDdRdbMDL"
      },
      "source": [
        "Baldwin_1 = pd.read_csv(\"/content/Baldwin.csv\")"
      ],
      "execution_count": null,
      "outputs": []
    },
    {
      "cell_type": "code",
      "metadata": {
        "id": "J8rNhBhabOxW"
      },
      "source": [
        "Baldwin_2 = pd.read_csv(\"/content/Baldwin_07.csv\")"
      ],
      "execution_count": null,
      "outputs": []
    },
    {
      "cell_type": "code",
      "metadata": {
        "id": "F3E_4XTcbOtN"
      },
      "source": [
        "Baldwin_3 = pd.read_csv(\"/content/Baldwin_08.csv\")"
      ],
      "execution_count": null,
      "outputs": []
    },
    {
      "cell_type": "code",
      "metadata": {
        "id": "tIWTA9j5bOpe"
      },
      "source": [
        "Baldwin_4 = pd.read_csv(\"/content/Baldwin_19.csv\")"
      ],
      "execution_count": null,
      "outputs": []
    },
    {
      "cell_type": "code",
      "metadata": {
        "id": "bAiJapk-bQ4_"
      },
      "source": [
        "Baldwin_5 = pd.read_csv(\"/content/Baldwin_2010.csv\")"
      ],
      "execution_count": null,
      "outputs": []
    },
    {
      "cell_type": "code",
      "metadata": {
        "id": "cmmh_a4CcUyg"
      },
      "source": [
        "Baldwin_6 = pd.read_csv(\"/content/Baldwin_2010.csv\")"
      ],
      "execution_count": null,
      "outputs": []
    },
    {
      "cell_type": "code",
      "metadata": {
        "id": "RbCUHP8bcUun"
      },
      "source": [
        "Baldwin_7 = pd.read_csv(\"/content/Baldwin_3.csv\")"
      ],
      "execution_count": null,
      "outputs": []
    },
    {
      "cell_type": "code",
      "metadata": {
        "id": "N0e5FoDicUq2"
      },
      "source": [
        "Baldwin_8 = pd.read_csv(\"/content/Baldwin_5.csv\")"
      ],
      "execution_count": null,
      "outputs": []
    },
    {
      "cell_type": "code",
      "metadata": {
        "id": "uA7Lqvy7cUm_"
      },
      "source": [
        "Baldwin_9 = pd.read_csv(\"/content/Balswin_4.csv\")"
      ],
      "execution_count": null,
      "outputs": []
    },
    {
      "cell_type": "code",
      "metadata": {
        "id": "4gK8L0iGbQvE"
      },
      "source": [
        "Baldwin_10 = pd.read_csv(\"/content/Balwon_3.csv\")"
      ],
      "execution_count": null,
      "outputs": []
    },
    {
      "cell_type": "code",
      "metadata": {
        "id": "0Zw5_Hhbc7Gl"
      },
      "source": [
        "Baldwin_11 = pd.read_csv(\"/content/Balwon_3.csv\")"
      ],
      "execution_count": null,
      "outputs": []
    },
    {
      "cell_type": "code",
      "metadata": {
        "id": "V0FMnrw1c7C8"
      },
      "source": [
        "Baldwin_12 = pd.read_csv(\"/content/Balswin_4.csv\")"
      ],
      "execution_count": null,
      "outputs": []
    },
    {
      "cell_type": "code",
      "metadata": {
        "id": "auIRt1kEc6_E"
      },
      "source": [
        "Baldwin_13 = pd.read_csv(\"/content/Balwwin.csv\")"
      ],
      "execution_count": null,
      "outputs": []
    },
    {
      "cell_type": "code",
      "metadata": {
        "id": "lxKSXMzFc67G"
      },
      "source": [
        "Baldwin_14 = pd.read_csv(\"/content/baldwin_2013.csv\")"
      ],
      "execution_count": null,
      "outputs": []
    },
    {
      "cell_type": "code",
      "metadata": {
        "id": "u6XOUKXcdMqx"
      },
      "source": [
        "CarlPlace = pd.read_csv(\"/content/CarlPlace_21.csv\")"
      ],
      "execution_count": null,
      "outputs": []
    },
    {
      "cell_type": "code",
      "metadata": {
        "id": "gdHLT3OOecTP"
      },
      "source": [
        "Cedarhust_1 = pd.read_csv(\"/content/Cedarhurst_15.csv\")"
      ],
      "execution_count": null,
      "outputs": []
    },
    {
      "cell_type": "code",
      "metadata": {
        "id": "oZTtbq79dNKc"
      },
      "source": [
        "Cedarhurst_2 = pd.read_csv(\"/content/Cedarhurst_21.csv\")"
      ],
      "execution_count": null,
      "outputs": []
    },
    {
      "cell_type": "code",
      "metadata": {
        "id": "UUdBKbWpdNOO"
      },
      "source": [
        "EastRockaway = pd.read_csv(\"/content/ERockaway.csv\")"
      ],
      "execution_count": null,
      "outputs": []
    },
    {
      "cell_type": "code",
      "metadata": {
        "id": "Py_JCTOKeM36"
      },
      "source": [
        "EastRockaway_2 = pd.read_csv(\"/content/ERockaway_16.csv\")"
      ],
      "execution_count": null,
      "outputs": []
    },
    {
      "cell_type": "code",
      "metadata": {
        "id": "eWiZvITbbL-e"
      },
      "source": [
        "EastRockaway_3 = pd.read_csv(\"/content/EastRockaway_11.csv\")"
      ],
      "execution_count": null,
      "outputs": []
    },
    {
      "cell_type": "code",
      "metadata": {
        "id": "IND6eGpfmVaT"
      },
      "source": [
        "Elmont_1 = pd.read_csv(\"/content/Elmont_09.csv\")"
      ],
      "execution_count": null,
      "outputs": []
    },
    {
      "cell_type": "code",
      "metadata": {
        "id": "UWCvWPUGmVWq"
      },
      "source": [
        "Elmont_2 = pd.read_csv(\"/content/Elmont_June_07.csv\")"
      ],
      "execution_count": null,
      "outputs": []
    },
    {
      "cell_type": "code",
      "metadata": {
        "id": "SSnK7l2j92Kx"
      },
      "source": [
        "Elmont_3 = pd.read_csv(\"/content/Nassau_2.csv\")"
      ],
      "execution_count": null,
      "outputs": []
    },
    {
      "cell_type": "code",
      "metadata": {
        "id": "RA2dBGzz92Ga"
      },
      "source": [
        "Elmont_4 = pd.read_csv(\"/content/elmont 4_21.csv\")"
      ],
      "execution_count": null,
      "outputs": []
    },
    {
      "cell_type": "code",
      "metadata": {
        "id": "3O5EUFGD92Cy"
      },
      "source": [
        "Elmont_5 = pd.read_csv(\"/content/elmont8_20.csv\")"
      ],
      "execution_count": null,
      "outputs": []
    },
    {
      "cell_type": "code",
      "metadata": {
        "id": "4F_yYORE-YGH"
      },
      "source": [
        "Elmont_6 = pd.read_csv(\"/content/elmont_11.csv\")"
      ],
      "execution_count": null,
      "outputs": []
    },
    {
      "cell_type": "code",
      "metadata": {
        "id": "b25uIAy7-X8U"
      },
      "source": [
        "Elmont_7 = pd.read_csv(\"/content/elmont_13.csv\")"
      ],
      "execution_count": null,
      "outputs": []
    },
    {
      "cell_type": "code",
      "metadata": {
        "id": "WW5GF0Z1-Xwz"
      },
      "source": [
        "Elmont_8 = pd.read_csv(\"/content/elmont_15.csv\")"
      ],
      "execution_count": null,
      "outputs": []
    },
    {
      "cell_type": "code",
      "metadata": {
        "id": "1JJa0N0D-Xib"
      },
      "source": [
        "Elmont_9 = pd.read_csv(\"/content/elmont_17.csv\")"
      ],
      "execution_count": null,
      "outputs": []
    },
    {
      "cell_type": "code",
      "metadata": {
        "id": "6Ej2EWZS-XNm"
      },
      "source": [
        "Elmont_10 = pd.read_csv(\"/content/elmont_18.csv\")"
      ],
      "execution_count": null,
      "outputs": []
    },
    {
      "cell_type": "code",
      "metadata": {
        "id": "HlGYsYDo91-u"
      },
      "source": [
        "Floral_1 = pd.read_csv(\"/content/Floral_06:07.csv\")"
      ],
      "execution_count": null,
      "outputs": []
    },
    {
      "cell_type": "code",
      "metadata": {
        "id": "Qpeu3Kfe917G"
      },
      "source": [
        "Floral_2 = pd.read_csv(\"/content/Floral_09.csv\")"
      ],
      "execution_count": null,
      "outputs": []
    },
    {
      "cell_type": "code",
      "metadata": {
        "id": "xv6q64E0912c"
      },
      "source": [
        "Floral_3 = pd.read_csv(\"/content/Floral_11.csv\")"
      ],
      "execution_count": null,
      "outputs": []
    },
    {
      "cell_type": "code",
      "metadata": {
        "id": "LYb9zOXY91zG"
      },
      "source": [
        "Floral_4 = pd.read_csv(\"/content/Floral_13.csv\")"
      ],
      "execution_count": null,
      "outputs": []
    },
    {
      "cell_type": "code",
      "metadata": {
        "id": "z7Q2Mh1CDq5U"
      },
      "source": [
        "Floral_5 = pd.read_csv(\"/content/Floral_15.csv\")"
      ],
      "execution_count": null,
      "outputs": []
    },
    {
      "cell_type": "code",
      "metadata": {
        "id": "24_IIr0eDq2c"
      },
      "source": [
        "Floral_6 = pd.read_csv(\"/content/Floral_17.csv\")"
      ],
      "execution_count": null,
      "outputs": []
    },
    {
      "cell_type": "code",
      "metadata": {
        "id": "qpTw8aLEDqzD"
      },
      "source": [
        "Floral_7 = pd.read_csv(\"/content/Floral_19.csv\")"
      ],
      "execution_count": null,
      "outputs": []
    },
    {
      "cell_type": "code",
      "metadata": {
        "id": "5ChUuCSPDqwF"
      },
      "source": [
        "Floral_8 = pd.read_csv(\"/content/Floral_21.csv\")"
      ],
      "execution_count": null,
      "outputs": []
    },
    {
      "cell_type": "code",
      "metadata": {
        "id": "MYGcC7zVFO5M"
      },
      "source": [
        "Frankln_1 = pd.read_csv(\"/content/Frank_16.csv\")"
      ],
      "execution_count": null,
      "outputs": []
    },
    {
      "cell_type": "code",
      "metadata": {
        "id": "7b_RevFsFO19"
      },
      "source": [
        "Frankln_2 = pd.read_csv(\"/content/Frank_18.csv\")"
      ],
      "execution_count": null,
      "outputs": []
    },
    {
      "cell_type": "code",
      "metadata": {
        "id": "DsHYBBqrFOyN"
      },
      "source": [
        "Frankln_3 = pd.read_csv(\"/content/Frank_April_21.csv\")"
      ],
      "execution_count": null,
      "outputs": []
    },
    {
      "cell_type": "code",
      "metadata": {
        "id": "QQJhQhldDqtQ"
      },
      "source": [
        "Frankln_4 = pd.read_csv(\"/content/Franklin_08.csv\")"
      ],
      "execution_count": null,
      "outputs": []
    },
    {
      "cell_type": "code",
      "metadata": {
        "id": "ao9vsI9fDqqR"
      },
      "source": [
        "Frankln_5 = pd.read_csv(\"/content/Franklin_12.csv\")"
      ],
      "execution_count": null,
      "outputs": []
    },
    {
      "cell_type": "code",
      "metadata": {
        "id": "H9kHI5T9Dqnh"
      },
      "source": [
        "Frankln_6 = pd.read_csv(\"/content/Franklin_14.csv\")"
      ],
      "execution_count": null,
      "outputs": []
    },
    {
      "cell_type": "code",
      "metadata": {
        "id": "JguUXeWLDqkz"
      },
      "source": [
        "Frankln_7 = pd.read_csv(\"/content/Franlin_10.csv\")"
      ],
      "execution_count": null,
      "outputs": []
    },
    {
      "cell_type": "code",
      "metadata": {
        "id": "htV8HCGEDqhk"
      },
      "source": [
        "Freeport_1 = pd.read_csv(\"/content/Freeport_07.csv\")"
      ],
      "execution_count": null,
      "outputs": []
    },
    {
      "cell_type": "code",
      "metadata": {
        "id": "Rtl-vlG0Dqeg"
      },
      "source": [
        "Freeport_2 = pd.read_csv(\"/content/Freeport_09.csv\")"
      ],
      "execution_count": null,
      "outputs": []
    },
    {
      "cell_type": "code",
      "metadata": {
        "id": "jelfmLziLpGM"
      },
      "source": [
        "Freeport_3 = pd.read_csv(\"/content/Freeport_11.csv\")"
      ],
      "execution_count": null,
      "outputs": []
    },
    {
      "cell_type": "code",
      "metadata": {
        "id": "s9MtpbXGLpBj"
      },
      "source": [
        "Freeport_5 = pd.read_csv(\"/content/Freeport_13.csv\")"
      ],
      "execution_count": null,
      "outputs": []
    },
    {
      "cell_type": "code",
      "metadata": {
        "id": "njbKFyEmLo90"
      },
      "source": [
        "Freeport_6 = pd.read_csv(\"/content/Freeport_15.csv\")"
      ],
      "execution_count": null,
      "outputs": []
    },
    {
      "cell_type": "code",
      "metadata": {
        "id": "yPDajgu8Lo5Y"
      },
      "source": [
        "Freeport_7 = pd.read_csv(\"/content/Freeport_17.csv\")"
      ],
      "execution_count": null,
      "outputs": []
    },
    {
      "cell_type": "code",
      "metadata": {
        "id": "mRzS8oibLo1c"
      },
      "source": [
        "Freeport_8 = pd.read_csv(\"/content/Freeport_18.csv\")"
      ],
      "execution_count": null,
      "outputs": []
    },
    {
      "cell_type": "code",
      "metadata": {
        "id": "mj1v78UCLoxm"
      },
      "source": [
        "Freeport_9 = pd.read_csv(\"/content/Freeport_19.csv\")"
      ],
      "execution_count": null,
      "outputs": []
    },
    {
      "cell_type": "code",
      "metadata": {
        "id": "s5OdlMlaLotm"
      },
      "source": [
        "Freeport_10 = pd.read_csv(\"/content/Freeport_18.csv\")"
      ],
      "execution_count": null,
      "outputs": []
    },
    {
      "cell_type": "code",
      "metadata": {
        "id": "Ra7kz-RiLopc"
      },
      "source": [
        "Freeport_11 = pd.read_csv(\"/content/Freeport_18.csv\")"
      ],
      "execution_count": null,
      "outputs": []
    },
    {
      "cell_type": "code",
      "metadata": {
        "id": "xprclAqMLolh"
      },
      "source": [
        "Freeport_12 = pd.read_csv(\"/content/Freeport_21.csv\")"
      ],
      "execution_count": null,
      "outputs": []
    },
    {
      "cell_type": "markdown",
      "metadata": {
        "id": "gg9AR97mN9sn"
      },
      "source": [
        "Towns as far as Freeported are not included."
      ]
    },
    {
      "cell_type": "code",
      "metadata": {
        "id": "Zyxqo3ECQcBX"
      },
      "source": [
        "GardenCity_1 = pd.read_csv(\"/content/GardenCity_1.csv\")"
      ],
      "execution_count": 13,
      "outputs": []
    },
    {
      "cell_type": "code",
      "metadata": {
        "id": "I57Hw-DaXR_B"
      },
      "source": [
        "GardenCity_2 = pd.read_csv(\"//content/GardenCity_09.csv\")"
      ],
      "execution_count": 14,
      "outputs": []
    },
    {
      "cell_type": "code",
      "metadata": {
        "id": "-b5-Q0D7XR6l"
      },
      "source": [
        "GardenCity_3 = pd.read_csv(\"/content/GardenCity_11.csv\")\n",
        "\n"
      ],
      "execution_count": 15,
      "outputs": []
    },
    {
      "cell_type": "code",
      "metadata": {
        "id": "ZhseXIYEXR1O"
      },
      "source": [
        "GardenCity_4 = pd.read_csv(\"/content/GardenCity_12.csv\")"
      ],
      "execution_count": 16,
      "outputs": []
    },
    {
      "cell_type": "code",
      "metadata": {
        "id": "uxy3WDhYXRxP"
      },
      "source": [
        "GardenCity_5 = pd.read_csv(\"/content/GardenCity_13.csv\")"
      ],
      "execution_count": 17,
      "outputs": []
    },
    {
      "cell_type": "code",
      "metadata": {
        "id": "TLTN8pLyXRs0"
      },
      "source": [
        "GardenCity_6 = pd.read_csv(\"/content/GardenCity_14.csv\")"
      ],
      "execution_count": 18,
      "outputs": []
    },
    {
      "cell_type": "code",
      "metadata": {
        "id": "u6dAwYpGXRpI"
      },
      "source": [
        "GardenCity_7 = pd.read_csv(\"/content/GardenCity_15.csv\")"
      ],
      "execution_count": 19,
      "outputs": []
    },
    {
      "cell_type": "code",
      "metadata": {
        "id": "_EgE_1voXRkQ"
      },
      "source": [
        "GardenCity_8 = pd.read_csv(\"/content/GardenCity_17.csv\")"
      ],
      "execution_count": 20,
      "outputs": []
    },
    {
      "cell_type": "code",
      "metadata": {
        "id": "b2DmkRCyXRgm"
      },
      "source": [
        "GardenCity_9 = pd.read_csv(\"/content/GardenCity_18.csv\")"
      ],
      "execution_count": 21,
      "outputs": []
    },
    {
      "cell_type": "code",
      "metadata": {
        "id": "wge7aWTtXRcI"
      },
      "source": [
        "GardenCity_10 = pd.read_csv(\"/content/GardenCity_21.csv\")"
      ],
      "execution_count": 22,
      "outputs": []
    },
    {
      "cell_type": "code",
      "metadata": {
        "id": "6amPT1AKXRX7"
      },
      "source": [
        "GardenCity_11 = pd.read_csv(\"/content/GardenCity_4.csv\")"
      ],
      "execution_count": 23,
      "outputs": []
    },
    {
      "cell_type": "code",
      "metadata": {
        "id": "AZKplkbNXRTQ"
      },
      "source": [
        "GardenCity_12 = pd.read_csv(\"/content/Gardencity_07.csv\")"
      ],
      "execution_count": 24,
      "outputs": []
    },
    {
      "cell_type": "code",
      "metadata": {
        "id": "mdjx70UrXRPd"
      },
      "source": [
        "GardenCity_13 = pd.read_csv(\"/content/Gardencity_2.csv\")"
      ],
      "execution_count": 25,
      "outputs": []
    },
    {
      "cell_type": "code",
      "metadata": {
        "id": "TRRspyuWXRK-"
      },
      "source": [
        "GardenCity_14 = pd.read_csv(\"/content/Gardencity_5.csv\")"
      ],
      "execution_count": 26,
      "outputs": []
    },
    {
      "cell_type": "code",
      "metadata": {
        "id": "GT8GvrBbXRGg"
      },
      "source": [
        "GardenCity_15 = pd.read_csv(\"/content/GarrdenCity_16.csv\")"
      ],
      "execution_count": 27,
      "outputs": []
    },
    {
      "cell_type": "code",
      "metadata": {
        "id": "Uos4ir6Xgksq"
      },
      "source": [
        "GardenCity_16 = pd.read_csv(\"/content/Nassau_6.csv\")"
      ],
      "execution_count": 28,
      "outputs": []
    },
    {
      "cell_type": "code",
      "metadata": {
        "id": "c0kM_Hc_mVK2"
      },
      "source": [
        ""
      ],
      "execution_count": null,
      "outputs": []
    },
    {
      "cell_type": "markdown",
      "metadata": {
        "id": "Ln1rHlTXeI96"
      },
      "source": [
        "# CONCAT THE DATA"
      ]
    },
    {
      "cell_type": "code",
      "metadata": {
        "id": "xF5lyzp68vMX"
      },
      "source": [
        "Nassau = pd.read_csv(\"/content/Nassau_4.csv\")"
      ],
      "execution_count": null,
      "outputs": []
    },
    {
      "cell_type": "code",
      "metadata": {
        "id": "wHrf3jiGmdn5"
      },
      "source": [
        "Nassau = pd.read_csv(\"/content/Nassau.csv\")"
      ],
      "execution_count": null,
      "outputs": []
    },
    {
      "cell_type": "code",
      "metadata": {
        "id": "K5pjO37__rTA"
      },
      "source": [
        "Nassau = pd.concat([Nassau, GardenCity_1,GardenCity_2,GardenCity_3,GardenCity_4,\n",
        "                    GardenCity_5,GardenCity_6,GardenCity_7,GardenCity_8,\n",
        "                    GardenCity_9,GardenCity_10,GardenCity_11,GardenCity_11,\n",
        "                    GardenCity_12,GardenCity_13,GardenCity_14, GardenCity_15,\n",
        "                    GardenCity_16])"
      ],
      "execution_count": 30,
      "outputs": []
    },
    {
      "cell_type": "code",
      "metadata": {
        "id": "fs3-WGInmlVQ"
      },
      "source": [
        "#Nassau = pd.concat([Nassau,CarlPlace , Cedarhust_1,Cedarhurst_2,\n",
        "                    EastRockaway, EastRockaway_2,EastRockaway_3 ])"
      ],
      "execution_count": null,
      "outputs": []
    },
    {
      "cell_type": "code",
      "metadata": {
        "colab": {
          "base_uri": "https://localhost:8080/"
        },
        "id": "s72OQKItKeHa",
        "outputId": "4471a0cc-a037-4ede-e2c1-94637c4f30a1"
      },
      "source": [
        "Nassau.shape"
      ],
      "execution_count": null,
      "outputs": [
        {
          "output_type": "execute_result",
          "data": {
            "text/plain": [
              "(37997, 29)"
            ]
          },
          "metadata": {
            "tags": []
          },
          "execution_count": 106
        }
      ]
    },
    {
      "cell_type": "code",
      "metadata": {
        "id": "37aSu5PumlIj"
      },
      "source": [
        ""
      ],
      "execution_count": null,
      "outputs": []
    },
    {
      "cell_type": "code",
      "metadata": {
        "colab": {
          "base_uri": "https://localhost:8080/"
        },
        "id": "xMNubHYcePHE",
        "outputId": "e2d2bce7-1593-49d9-884e-11ed8148e58b"
      },
      "source": [
        "Nassau.shape"
      ],
      "execution_count": 208,
      "outputs": [
        {
          "output_type": "execute_result",
          "data": {
            "text/plain": [
              "(90187, 31)"
            ]
          },
          "metadata": {
            "tags": []
          },
          "execution_count": 208
        }
      ]
    },
    {
      "cell_type": "code",
      "metadata": {
        "colab": {
          "base_uri": "https://localhost:8080/"
        },
        "id": "GYvGmQE3ntdP",
        "outputId": "680a2981-fa99-4a38-f918-aae75be287a4"
      },
      "source": [
        "Nassau.shape"
      ],
      "execution_count": 60,
      "outputs": [
        {
          "output_type": "execute_result",
          "data": {
            "text/plain": [
              "(90187, 31)"
            ]
          },
          "metadata": {
            "tags": []
          },
          "execution_count": 60
        }
      ]
    },
    {
      "cell_type": "markdown",
      "metadata": {
        "id": "jnE9HDwSnFvR"
      },
      "source": [
        "# EXPORT CSV"
      ]
    },
    {
      "cell_type": "code",
      "metadata": {
        "id": "D1BbDow6f9Rl",
        "colab": {
          "base_uri": "https://localhost:8080/"
        },
        "outputId": "4aa249c1-934f-4117-ac93-79a5ab923244"
      },
      "source": [
        "#cities.to_csv('cities.csv')\n",
        "Nassau.to_csv('Nassau_7.csv')\n",
        "Nassau.shape"
      ],
      "execution_count": 32,
      "outputs": [
        {
          "output_type": "execute_result",
          "data": {
            "text/plain": [
              "(90187, 30)"
            ]
          },
          "metadata": {
            "tags": []
          },
          "execution_count": 32
        }
      ]
    },
    {
      "cell_type": "code",
      "metadata": {
        "id": "Wnq2vQs3iR3r"
      },
      "source": [
        ""
      ],
      "execution_count": null,
      "outputs": []
    },
    {
      "cell_type": "markdown",
      "metadata": {
        "id": "qvVqtxw3iRPC"
      },
      "source": [
        "\"Nassau\" now contains towns from Albertosn through Gardens city totalin 90k rows.\n",
        "\n",
        "Now we will try to prep and graph the data"
      ]
    },
    {
      "cell_type": "code",
      "metadata": {
        "id": "wQr0cI4Vf9KT",
        "colab": {
          "base_uri": "https://localhost:8080/",
          "height": 292
        },
        "outputId": "874a7f4f-6954-4adb-b4e8-5b1d3bf7c085"
      },
      "source": [
        "Nassau.head()"
      ],
      "execution_count": 146,
      "outputs": [
        {
          "output_type": "execute_result",
          "data": {
            "text/html": [
              "<div>\n",
              "<style scoped>\n",
              "    .dataframe tbody tr th:only-of-type {\n",
              "        vertical-align: middle;\n",
              "    }\n",
              "\n",
              "    .dataframe tbody tr th {\n",
              "        vertical-align: top;\n",
              "    }\n",
              "\n",
              "    .dataframe thead th {\n",
              "        text-align: right;\n",
              "    }\n",
              "</style>\n",
              "<table border=\"1\" class=\"dataframe\">\n",
              "  <thead>\n",
              "    <tr style=\"text-align: right;\">\n",
              "      <th></th>\n",
              "      <th>Unnamed: 0</th>\n",
              "      <th>Unnamed: 0.1</th>\n",
              "      <th>Unnamed: 0.1.1</th>\n",
              "      <th>Unnamed: 0.1.1.1</th>\n",
              "      <th>Unnamed: 0.1.1.1.1</th>\n",
              "      <th>Unnamed: 0.1.1.1.1.1</th>\n",
              "      <th>St #</th>\n",
              "      <th>Dr</th>\n",
              "      <th>Street Name</th>\n",
              "      <th>Sfx</th>\n",
              "      <th>Town</th>\n",
              "      <th>Zip</th>\n",
              "      <th>ListPrice</th>\n",
              "      <th>SoldPrice</th>\n",
              "      <th>Style</th>\n",
              "      <th>Br</th>\n",
              "      <th>Bath</th>\n",
              "      <th>Unnamed: 11</th>\n",
              "      <th>Unnamed: 12</th>\n",
              "      <th>SD</th>\n",
              "      <th>Tot Tax</th>\n",
              "      <th>LSC</th>\n",
              "      <th>ListDate</th>\n",
              "      <th>ExpDate</th>\n",
              "      <th>ContDate</th>\n",
              "      <th>TitleDate</th>\n",
              "      <th>DOM</th>\n",
              "      <th>Det</th>\n",
              "      <th>#F</th>\n",
              "      <th>K</th>\n",
              "      <th>ML#</th>\n",
              "    </tr>\n",
              "  </thead>\n",
              "  <tbody>\n",
              "    <tr>\n",
              "      <th>0</th>\n",
              "      <td>0</td>\n",
              "      <td>0.0</td>\n",
              "      <td>0.0</td>\n",
              "      <td>0.0</td>\n",
              "      <td>0.0</td>\n",
              "      <td>0.0</td>\n",
              "      <td>923</td>\n",
              "      <td>NaN</td>\n",
              "      <td>Adams</td>\n",
              "      <td>Street</td>\n",
              "      <td>Baldwin</td>\n",
              "      <td>11510</td>\n",
              "      <td>199845</td>\n",
              "      <td>183000.0</td>\n",
              "      <td>Cape</td>\n",
              "      <td>2</td>\n",
              "      <td>1.0</td>\n",
              "      <td>None,Unfinished</td>\n",
              "      <td>NaN</td>\n",
              "      <td>10.0</td>\n",
              "      <td>3973.00</td>\n",
              "      <td>CL</td>\n",
              "      <td>7/08/2008</td>\n",
              "      <td>10/07/2008</td>\n",
              "      <td>7/29/2008</td>\n",
              "      <td>9/05/2008</td>\n",
              "      <td>21.0</td>\n",
              "      <td>Det</td>\n",
              "      <td>1</td>\n",
              "      <td>1.0</td>\n",
              "      <td>2095554</td>\n",
              "    </tr>\n",
              "    <tr>\n",
              "      <th>1</th>\n",
              "      <td>1</td>\n",
              "      <td>1.0</td>\n",
              "      <td>1.0</td>\n",
              "      <td>1.0</td>\n",
              "      <td>1.0</td>\n",
              "      <td>1.0</td>\n",
              "      <td>899</td>\n",
              "      <td>NaN</td>\n",
              "      <td>Kings</td>\n",
              "      <td>Parkway</td>\n",
              "      <td>Baldwin</td>\n",
              "      <td>11510</td>\n",
              "      <td>204900</td>\n",
              "      <td>192500.0</td>\n",
              "      <td>Colonial</td>\n",
              "      <td>3</td>\n",
              "      <td>2.0</td>\n",
              "      <td>Full,Finished</td>\n",
              "      <td>1 Car Detached</td>\n",
              "      <td>10.0</td>\n",
              "      <td>7860.00</td>\n",
              "      <td>CL</td>\n",
              "      <td>4/29/2008</td>\n",
              "      <td>7/28/2008</td>\n",
              "      <td>5/14/2008</td>\n",
              "      <td>5/28/2008</td>\n",
              "      <td>15.0</td>\n",
              "      <td>Det</td>\n",
              "      <td>1</td>\n",
              "      <td>1.0</td>\n",
              "      <td>2074371</td>\n",
              "    </tr>\n",
              "    <tr>\n",
              "      <th>2</th>\n",
              "      <td>2</td>\n",
              "      <td>2.0</td>\n",
              "      <td>2.0</td>\n",
              "      <td>2.0</td>\n",
              "      <td>2.0</td>\n",
              "      <td>2.0</td>\n",
              "      <td>1842</td>\n",
              "      <td>NaN</td>\n",
              "      <td>Voshage</td>\n",
              "      <td>Street</td>\n",
              "      <td>Baldwin</td>\n",
              "      <td>11510</td>\n",
              "      <td>209900</td>\n",
              "      <td>209900.0</td>\n",
              "      <td>Ranch</td>\n",
              "      <td>2</td>\n",
              "      <td>1.0</td>\n",
              "      <td>Full,Unfinished</td>\n",
              "      <td>1 Car Detached</td>\n",
              "      <td>10.0</td>\n",
              "      <td>7417.06</td>\n",
              "      <td>CL</td>\n",
              "      <td>10/20/2008</td>\n",
              "      <td>5/14/2009</td>\n",
              "      <td>1/26/2009</td>\n",
              "      <td>4/28/2009</td>\n",
              "      <td>98.0</td>\n",
              "      <td>Det</td>\n",
              "      <td>1</td>\n",
              "      <td>1.0</td>\n",
              "      <td>2128508</td>\n",
              "    </tr>\n",
              "    <tr>\n",
              "      <th>3</th>\n",
              "      <td>3</td>\n",
              "      <td>3.0</td>\n",
              "      <td>3.0</td>\n",
              "      <td>3.0</td>\n",
              "      <td>3.0</td>\n",
              "      <td>3.0</td>\n",
              "      <td>688</td>\n",
              "      <td>NaN</td>\n",
              "      <td>New York</td>\n",
              "      <td>Avenue</td>\n",
              "      <td>Baldwin</td>\n",
              "      <td>11510</td>\n",
              "      <td>237900</td>\n",
              "      <td>215000.0</td>\n",
              "      <td>Ranch</td>\n",
              "      <td>2</td>\n",
              "      <td>2.0</td>\n",
              "      <td>Full,Finished</td>\n",
              "      <td>1 Car Detached</td>\n",
              "      <td>10.0</td>\n",
              "      <td>8123.00</td>\n",
              "      <td>CL</td>\n",
              "      <td>9/30/2008</td>\n",
              "      <td>5/31/2009</td>\n",
              "      <td>1/04/2009</td>\n",
              "      <td>4/17/2009</td>\n",
              "      <td>96.0</td>\n",
              "      <td>Det</td>\n",
              "      <td>1</td>\n",
              "      <td>1.0</td>\n",
              "      <td>2121419</td>\n",
              "    </tr>\n",
              "    <tr>\n",
              "      <th>4</th>\n",
              "      <td>4</td>\n",
              "      <td>4.0</td>\n",
              "      <td>4.0</td>\n",
              "      <td>4.0</td>\n",
              "      <td>4.0</td>\n",
              "      <td>4.0</td>\n",
              "      <td>2778</td>\n",
              "      <td>NaN</td>\n",
              "      <td>Harvard</td>\n",
              "      <td>Place</td>\n",
              "      <td>Baldwin</td>\n",
              "      <td>11510</td>\n",
              "      <td>239000</td>\n",
              "      <td>239000.0</td>\n",
              "      <td>Ranch</td>\n",
              "      <td>2</td>\n",
              "      <td>1.0</td>\n",
              "      <td>Full,Unfinished</td>\n",
              "      <td>NaN</td>\n",
              "      <td>10.0</td>\n",
              "      <td>8306.00</td>\n",
              "      <td>CL</td>\n",
              "      <td>2/22/2008</td>\n",
              "      <td>7/31/2009</td>\n",
              "      <td>4/09/2009</td>\n",
              "      <td>7/03/2009</td>\n",
              "      <td>412.0</td>\n",
              "      <td>Det</td>\n",
              "      <td>1</td>\n",
              "      <td>1.0</td>\n",
              "      <td>2050378</td>\n",
              "    </tr>\n",
              "  </tbody>\n",
              "</table>\n",
              "</div>"
            ],
            "text/plain": [
              "   Unnamed: 0  Unnamed: 0.1  Unnamed: 0.1.1  ...  #F    K      ML#\n",
              "0           0           0.0             0.0  ...   1  1.0  2095554\n",
              "1           1           1.0             1.0  ...   1  1.0  2074371\n",
              "2           2           2.0             2.0  ...   1  1.0  2128508\n",
              "3           3           3.0             3.0  ...   1  1.0  2121419\n",
              "4           4           4.0             4.0  ...   1  1.0  2050378\n",
              "\n",
              "[5 rows x 31 columns]"
            ]
          },
          "metadata": {
            "tags": []
          },
          "execution_count": 146
        }
      ]
    },
    {
      "cell_type": "code",
      "metadata": {
        "id": "ecatyZtGmhPa"
      },
      "source": [
        "#get list of variables\n",
        "list(Nassau)"
      ],
      "execution_count": null,
      "outputs": []
    },
    {
      "cell_type": "code",
      "metadata": {
        "colab": {
          "base_uri": "https://localhost:8080/",
          "height": 213
        },
        "id": "4gBT5UZdoJhe",
        "outputId": "61df3cd1-f5bc-410f-bf4a-4050602b91a6"
      },
      "source": [
        "Nassau.head(3)"
      ],
      "execution_count": 44,
      "outputs": [
        {
          "output_type": "execute_result",
          "data": {
            "text/html": [
              "<div>\n",
              "<style scoped>\n",
              "    .dataframe tbody tr th:only-of-type {\n",
              "        vertical-align: middle;\n",
              "    }\n",
              "\n",
              "    .dataframe tbody tr th {\n",
              "        vertical-align: top;\n",
              "    }\n",
              "\n",
              "    .dataframe thead th {\n",
              "        text-align: right;\n",
              "    }\n",
              "</style>\n",
              "<table border=\"1\" class=\"dataframe\">\n",
              "  <thead>\n",
              "    <tr style=\"text-align: right;\">\n",
              "      <th></th>\n",
              "      <th>St #</th>\n",
              "      <th>Dr</th>\n",
              "      <th>Street Name</th>\n",
              "      <th>Sfx</th>\n",
              "      <th>Town</th>\n",
              "      <th>Zip</th>\n",
              "      <th>ListPrice</th>\n",
              "      <th>SoldPrice</th>\n",
              "      <th>Style</th>\n",
              "      <th>Br</th>\n",
              "      <th>Bath</th>\n",
              "      <th>Unnamed: 11</th>\n",
              "      <th>Unnamed: 12</th>\n",
              "      <th>SD</th>\n",
              "      <th>Tot Tax</th>\n",
              "      <th>LSC</th>\n",
              "      <th>ListDate</th>\n",
              "      <th>ExpDate</th>\n",
              "      <th>ContDate</th>\n",
              "      <th>TitleDate</th>\n",
              "      <th>DOM</th>\n",
              "      <th>Det</th>\n",
              "      <th>#F</th>\n",
              "      <th>K</th>\n",
              "      <th>ML#</th>\n",
              "    </tr>\n",
              "  </thead>\n",
              "  <tbody>\n",
              "    <tr>\n",
              "      <th>0</th>\n",
              "      <td>923</td>\n",
              "      <td>NaN</td>\n",
              "      <td>Adams</td>\n",
              "      <td>Street</td>\n",
              "      <td>Baldwin</td>\n",
              "      <td>11510</td>\n",
              "      <td>199845</td>\n",
              "      <td>183000.0</td>\n",
              "      <td>Cape</td>\n",
              "      <td>2</td>\n",
              "      <td>1.0</td>\n",
              "      <td>None,Unfinished</td>\n",
              "      <td>NaN</td>\n",
              "      <td>10.0</td>\n",
              "      <td>3973.00</td>\n",
              "      <td>CL</td>\n",
              "      <td>7/08/2008</td>\n",
              "      <td>10/07/2008</td>\n",
              "      <td>7/29/2008</td>\n",
              "      <td>9/05/2008</td>\n",
              "      <td>21.0</td>\n",
              "      <td>Det</td>\n",
              "      <td>1</td>\n",
              "      <td>1.0</td>\n",
              "      <td>2095554</td>\n",
              "    </tr>\n",
              "    <tr>\n",
              "      <th>1</th>\n",
              "      <td>899</td>\n",
              "      <td>NaN</td>\n",
              "      <td>Kings</td>\n",
              "      <td>Parkway</td>\n",
              "      <td>Baldwin</td>\n",
              "      <td>11510</td>\n",
              "      <td>204900</td>\n",
              "      <td>192500.0</td>\n",
              "      <td>Colonial</td>\n",
              "      <td>3</td>\n",
              "      <td>2.0</td>\n",
              "      <td>Full,Finished</td>\n",
              "      <td>1 Car Detached</td>\n",
              "      <td>10.0</td>\n",
              "      <td>7860.00</td>\n",
              "      <td>CL</td>\n",
              "      <td>4/29/2008</td>\n",
              "      <td>7/28/2008</td>\n",
              "      <td>5/14/2008</td>\n",
              "      <td>5/28/2008</td>\n",
              "      <td>15.0</td>\n",
              "      <td>Det</td>\n",
              "      <td>1</td>\n",
              "      <td>1.0</td>\n",
              "      <td>2074371</td>\n",
              "    </tr>\n",
              "    <tr>\n",
              "      <th>2</th>\n",
              "      <td>1842</td>\n",
              "      <td>NaN</td>\n",
              "      <td>Voshage</td>\n",
              "      <td>Street</td>\n",
              "      <td>Baldwin</td>\n",
              "      <td>11510</td>\n",
              "      <td>209900</td>\n",
              "      <td>209900.0</td>\n",
              "      <td>Ranch</td>\n",
              "      <td>2</td>\n",
              "      <td>1.0</td>\n",
              "      <td>Full,Unfinished</td>\n",
              "      <td>1 Car Detached</td>\n",
              "      <td>10.0</td>\n",
              "      <td>7417.06</td>\n",
              "      <td>CL</td>\n",
              "      <td>10/20/2008</td>\n",
              "      <td>5/14/2009</td>\n",
              "      <td>1/26/2009</td>\n",
              "      <td>4/28/2009</td>\n",
              "      <td>98.0</td>\n",
              "      <td>Det</td>\n",
              "      <td>1</td>\n",
              "      <td>1.0</td>\n",
              "      <td>2128508</td>\n",
              "    </tr>\n",
              "  </tbody>\n",
              "</table>\n",
              "</div>"
            ],
            "text/plain": [
              "   St #   Dr Street Name      Sfx     Town  ...   DOM  Det  #F    K      ML#\n",
              "0   923  NaN       Adams   Street  Baldwin  ...  21.0  Det   1  1.0  2095554\n",
              "1   899  NaN       Kings  Parkway  Baldwin  ...  15.0  Det   1  1.0  2074371\n",
              "2  1842  NaN     Voshage   Street  Baldwin  ...  98.0  Det   1  1.0  2128508\n",
              "\n",
              "[3 rows x 25 columns]"
            ]
          },
          "metadata": {
            "tags": []
          },
          "execution_count": 44
        }
      ]
    },
    {
      "cell_type": "code",
      "metadata": {
        "id": "7f4aAMt822p3"
      },
      "source": [
        "# drop front columns\n",
        "Nassau = Nassau.drop(['Unnamed: 0','Unnamed: 0.1', 'Unnamed: 0.1.1.1.1.1' ] , axis=1)"
      ],
      "execution_count": 209,
      "outputs": []
    },
    {
      "cell_type": "code",
      "metadata": {
        "id": "bINMAjKwnmpY"
      },
      "source": [
        "Nassau = Nassau.drop(['Unnamed: 0.1.1', 'Unnamed: 0.1.1.1','Unnamed: 0.1.1.1.1',\n",
        "             ] , axis=1)"
      ],
      "execution_count": 210,
      "outputs": []
    },
    {
      "cell_type": "code",
      "metadata": {
        "colab": {
          "base_uri": "https://localhost:8080/",
          "height": 213
        },
        "id": "lpyPB5fFuNe2",
        "outputId": "926c9da8-e8e4-4bc7-db6d-90b03955d55d"
      },
      "source": [
        "Nassau.head(3)"
      ],
      "execution_count": 211,
      "outputs": [
        {
          "output_type": "execute_result",
          "data": {
            "text/html": [
              "<div>\n",
              "<style scoped>\n",
              "    .dataframe tbody tr th:only-of-type {\n",
              "        vertical-align: middle;\n",
              "    }\n",
              "\n",
              "    .dataframe tbody tr th {\n",
              "        vertical-align: top;\n",
              "    }\n",
              "\n",
              "    .dataframe thead th {\n",
              "        text-align: right;\n",
              "    }\n",
              "</style>\n",
              "<table border=\"1\" class=\"dataframe\">\n",
              "  <thead>\n",
              "    <tr style=\"text-align: right;\">\n",
              "      <th></th>\n",
              "      <th>St #</th>\n",
              "      <th>Dr</th>\n",
              "      <th>Street Name</th>\n",
              "      <th>Sfx</th>\n",
              "      <th>Town</th>\n",
              "      <th>Zip</th>\n",
              "      <th>ListPrice</th>\n",
              "      <th>SoldPrice</th>\n",
              "      <th>Style</th>\n",
              "      <th>Br</th>\n",
              "      <th>Bath</th>\n",
              "      <th>Unnamed: 11</th>\n",
              "      <th>Unnamed: 12</th>\n",
              "      <th>SD</th>\n",
              "      <th>Tot Tax</th>\n",
              "      <th>LSC</th>\n",
              "      <th>ListDate</th>\n",
              "      <th>ExpDate</th>\n",
              "      <th>ContDate</th>\n",
              "      <th>TitleDate</th>\n",
              "      <th>DOM</th>\n",
              "      <th>Det</th>\n",
              "      <th>#F</th>\n",
              "      <th>K</th>\n",
              "      <th>ML#</th>\n",
              "    </tr>\n",
              "  </thead>\n",
              "  <tbody>\n",
              "    <tr>\n",
              "      <th>0</th>\n",
              "      <td>923</td>\n",
              "      <td>NaN</td>\n",
              "      <td>Adams</td>\n",
              "      <td>Street</td>\n",
              "      <td>Baldwin</td>\n",
              "      <td>11510</td>\n",
              "      <td>199845</td>\n",
              "      <td>183000.0</td>\n",
              "      <td>Cape</td>\n",
              "      <td>2</td>\n",
              "      <td>1.0</td>\n",
              "      <td>None,Unfinished</td>\n",
              "      <td>NaN</td>\n",
              "      <td>10.0</td>\n",
              "      <td>3973.00</td>\n",
              "      <td>CL</td>\n",
              "      <td>7/08/2008</td>\n",
              "      <td>10/07/2008</td>\n",
              "      <td>7/29/2008</td>\n",
              "      <td>9/05/2008</td>\n",
              "      <td>21.0</td>\n",
              "      <td>Det</td>\n",
              "      <td>1</td>\n",
              "      <td>1.0</td>\n",
              "      <td>2095554</td>\n",
              "    </tr>\n",
              "    <tr>\n",
              "      <th>1</th>\n",
              "      <td>899</td>\n",
              "      <td>NaN</td>\n",
              "      <td>Kings</td>\n",
              "      <td>Parkway</td>\n",
              "      <td>Baldwin</td>\n",
              "      <td>11510</td>\n",
              "      <td>204900</td>\n",
              "      <td>192500.0</td>\n",
              "      <td>Colonial</td>\n",
              "      <td>3</td>\n",
              "      <td>2.0</td>\n",
              "      <td>Full,Finished</td>\n",
              "      <td>1 Car Detached</td>\n",
              "      <td>10.0</td>\n",
              "      <td>7860.00</td>\n",
              "      <td>CL</td>\n",
              "      <td>4/29/2008</td>\n",
              "      <td>7/28/2008</td>\n",
              "      <td>5/14/2008</td>\n",
              "      <td>5/28/2008</td>\n",
              "      <td>15.0</td>\n",
              "      <td>Det</td>\n",
              "      <td>1</td>\n",
              "      <td>1.0</td>\n",
              "      <td>2074371</td>\n",
              "    </tr>\n",
              "    <tr>\n",
              "      <th>2</th>\n",
              "      <td>1842</td>\n",
              "      <td>NaN</td>\n",
              "      <td>Voshage</td>\n",
              "      <td>Street</td>\n",
              "      <td>Baldwin</td>\n",
              "      <td>11510</td>\n",
              "      <td>209900</td>\n",
              "      <td>209900.0</td>\n",
              "      <td>Ranch</td>\n",
              "      <td>2</td>\n",
              "      <td>1.0</td>\n",
              "      <td>Full,Unfinished</td>\n",
              "      <td>1 Car Detached</td>\n",
              "      <td>10.0</td>\n",
              "      <td>7417.06</td>\n",
              "      <td>CL</td>\n",
              "      <td>10/20/2008</td>\n",
              "      <td>5/14/2009</td>\n",
              "      <td>1/26/2009</td>\n",
              "      <td>4/28/2009</td>\n",
              "      <td>98.0</td>\n",
              "      <td>Det</td>\n",
              "      <td>1</td>\n",
              "      <td>1.0</td>\n",
              "      <td>2128508</td>\n",
              "    </tr>\n",
              "  </tbody>\n",
              "</table>\n",
              "</div>"
            ],
            "text/plain": [
              "   St #   Dr Street Name      Sfx     Town  ...   DOM  Det  #F    K      ML#\n",
              "0   923  NaN       Adams   Street  Baldwin  ...  21.0  Det   1  1.0  2095554\n",
              "1   899  NaN       Kings  Parkway  Baldwin  ...  15.0  Det   1  1.0  2074371\n",
              "2  1842  NaN     Voshage   Street  Baldwin  ...  98.0  Det   1  1.0  2128508\n",
              "\n",
              "[3 rows x 25 columns]"
            ]
          },
          "metadata": {
            "tags": []
          },
          "execution_count": 211
        }
      ]
    },
    {
      "cell_type": "markdown",
      "metadata": {
        "id": "NcRFFsa2ooQc"
      },
      "source": [
        "## Drop any row without a Sold Price\n"
      ]
    },
    {
      "cell_type": "code",
      "metadata": {
        "colab": {
          "base_uri": "https://localhost:8080/"
        },
        "id": "PdcEklURo3cu",
        "outputId": "fe8ad228-06e7-4019-e34d-57eb58726c92"
      },
      "source": [
        "Nassau.shape"
      ],
      "execution_count": 193,
      "outputs": [
        {
          "output_type": "execute_result",
          "data": {
            "text/plain": [
              "(90187, 25)"
            ]
          },
          "metadata": {
            "tags": []
          },
          "execution_count": 193
        }
      ]
    },
    {
      "cell_type": "code",
      "metadata": {
        "id": "wEo-61ouosFG"
      },
      "source": [
        "#df1 = df[df.Name != '']\n",
        "Nassau = Nassau[Nassau.SoldPrice != ' ']"
      ],
      "execution_count": 212,
      "outputs": []
    },
    {
      "cell_type": "code",
      "metadata": {
        "colab": {
          "base_uri": "https://localhost:8080/"
        },
        "id": "L_EkS1SSo7eO",
        "outputId": "92c15979-b312-4267-c52f-d30c463c95bd"
      },
      "source": [
        "Nassau.shape"
      ],
      "execution_count": 195,
      "outputs": [
        {
          "output_type": "execute_result",
          "data": {
            "text/plain": [
              "(90187, 25)"
            ]
          },
          "metadata": {
            "tags": []
          },
          "execution_count": 195
        }
      ]
    },
    {
      "cell_type": "markdown",
      "metadata": {
        "id": "gg5YsNVtpP3H"
      },
      "source": [
        "## Convert Title date to date type data"
      ]
    },
    {
      "cell_type": "code",
      "metadata": {
        "id": "EBvCTcqApbz1"
      },
      "source": [
        "Nassau.info()"
      ],
      "execution_count": null,
      "outputs": []
    },
    {
      "cell_type": "code",
      "metadata": {
        "id": "_eCZr2etpdpw"
      },
      "source": [
        "Nassau['TitleDate'] = pd.to_datetime(Nassau['TitleDate'].str.strip())"
      ],
      "execution_count": 214,
      "outputs": []
    },
    {
      "cell_type": "code",
      "metadata": {
        "id": "Riga0R7eHDL0"
      },
      "source": [
        "Nassau.info()"
      ],
      "execution_count": null,
      "outputs": []
    },
    {
      "cell_type": "code",
      "metadata": {
        "colab": {
          "base_uri": "https://localhost:8080/",
          "height": 213
        },
        "id": "QCdphUd3qab4",
        "outputId": "d7d12f98-d5da-4318-c0e4-d2eb89efb2c4"
      },
      "source": [
        "Nassau.head(3)"
      ],
      "execution_count": 156,
      "outputs": [
        {
          "output_type": "execute_result",
          "data": {
            "text/html": [
              "<div>\n",
              "<style scoped>\n",
              "    .dataframe tbody tr th:only-of-type {\n",
              "        vertical-align: middle;\n",
              "    }\n",
              "\n",
              "    .dataframe tbody tr th {\n",
              "        vertical-align: top;\n",
              "    }\n",
              "\n",
              "    .dataframe thead th {\n",
              "        text-align: right;\n",
              "    }\n",
              "</style>\n",
              "<table border=\"1\" class=\"dataframe\">\n",
              "  <thead>\n",
              "    <tr style=\"text-align: right;\">\n",
              "      <th></th>\n",
              "      <th>St #</th>\n",
              "      <th>Dr</th>\n",
              "      <th>Street Name</th>\n",
              "      <th>Sfx</th>\n",
              "      <th>Town</th>\n",
              "      <th>Zip</th>\n",
              "      <th>ListPrice</th>\n",
              "      <th>SoldPrice</th>\n",
              "      <th>Style</th>\n",
              "      <th>Br</th>\n",
              "      <th>Bath</th>\n",
              "      <th>Unnamed: 11</th>\n",
              "      <th>Unnamed: 12</th>\n",
              "      <th>SD</th>\n",
              "      <th>Tot Tax</th>\n",
              "      <th>LSC</th>\n",
              "      <th>ListDate</th>\n",
              "      <th>ExpDate</th>\n",
              "      <th>ContDate</th>\n",
              "      <th>TitleDate</th>\n",
              "      <th>DOM</th>\n",
              "      <th>Det</th>\n",
              "      <th>#F</th>\n",
              "      <th>K</th>\n",
              "      <th>ML#</th>\n",
              "    </tr>\n",
              "  </thead>\n",
              "  <tbody>\n",
              "    <tr>\n",
              "      <th>0</th>\n",
              "      <td>923</td>\n",
              "      <td>NaN</td>\n",
              "      <td>Adams</td>\n",
              "      <td>Street</td>\n",
              "      <td>Baldwin</td>\n",
              "      <td>11510</td>\n",
              "      <td>199845</td>\n",
              "      <td>183000.0</td>\n",
              "      <td>Cape</td>\n",
              "      <td>2</td>\n",
              "      <td>1.0</td>\n",
              "      <td>None,Unfinished</td>\n",
              "      <td>NaN</td>\n",
              "      <td>10.0</td>\n",
              "      <td>3973.00</td>\n",
              "      <td>CL</td>\n",
              "      <td>7/08/2008</td>\n",
              "      <td>10/07/2008</td>\n",
              "      <td>7/29/2008</td>\n",
              "      <td>2008-09-05</td>\n",
              "      <td>21.0</td>\n",
              "      <td>Det</td>\n",
              "      <td>1</td>\n",
              "      <td>1.0</td>\n",
              "      <td>2095554</td>\n",
              "    </tr>\n",
              "    <tr>\n",
              "      <th>1</th>\n",
              "      <td>899</td>\n",
              "      <td>NaN</td>\n",
              "      <td>Kings</td>\n",
              "      <td>Parkway</td>\n",
              "      <td>Baldwin</td>\n",
              "      <td>11510</td>\n",
              "      <td>204900</td>\n",
              "      <td>192500.0</td>\n",
              "      <td>Colonial</td>\n",
              "      <td>3</td>\n",
              "      <td>2.0</td>\n",
              "      <td>Full,Finished</td>\n",
              "      <td>1 Car Detached</td>\n",
              "      <td>10.0</td>\n",
              "      <td>7860.00</td>\n",
              "      <td>CL</td>\n",
              "      <td>4/29/2008</td>\n",
              "      <td>7/28/2008</td>\n",
              "      <td>5/14/2008</td>\n",
              "      <td>2008-05-28</td>\n",
              "      <td>15.0</td>\n",
              "      <td>Det</td>\n",
              "      <td>1</td>\n",
              "      <td>1.0</td>\n",
              "      <td>2074371</td>\n",
              "    </tr>\n",
              "    <tr>\n",
              "      <th>2</th>\n",
              "      <td>1842</td>\n",
              "      <td>NaN</td>\n",
              "      <td>Voshage</td>\n",
              "      <td>Street</td>\n",
              "      <td>Baldwin</td>\n",
              "      <td>11510</td>\n",
              "      <td>209900</td>\n",
              "      <td>209900.0</td>\n",
              "      <td>Ranch</td>\n",
              "      <td>2</td>\n",
              "      <td>1.0</td>\n",
              "      <td>Full,Unfinished</td>\n",
              "      <td>1 Car Detached</td>\n",
              "      <td>10.0</td>\n",
              "      <td>7417.06</td>\n",
              "      <td>CL</td>\n",
              "      <td>10/20/2008</td>\n",
              "      <td>5/14/2009</td>\n",
              "      <td>1/26/2009</td>\n",
              "      <td>2009-04-28</td>\n",
              "      <td>98.0</td>\n",
              "      <td>Det</td>\n",
              "      <td>1</td>\n",
              "      <td>1.0</td>\n",
              "      <td>2128508</td>\n",
              "    </tr>\n",
              "  </tbody>\n",
              "</table>\n",
              "</div>"
            ],
            "text/plain": [
              "   St #   Dr Street Name      Sfx     Town  ...   DOM  Det  #F    K      ML#\n",
              "0   923  NaN       Adams   Street  Baldwin  ...  21.0  Det   1  1.0  2095554\n",
              "1   899  NaN       Kings  Parkway  Baldwin  ...  15.0  Det   1  1.0  2074371\n",
              "2  1842  NaN     Voshage   Street  Baldwin  ...  98.0  Det   1  1.0  2128508\n",
              "\n",
              "[3 rows x 25 columns]"
            ]
          },
          "metadata": {
            "tags": []
          },
          "execution_count": 156
        }
      ]
    },
    {
      "cell_type": "markdown",
      "metadata": {
        "id": "atCKTrSePZ5z"
      },
      "source": [
        "## Create New columns for YEAR and MonthYear"
      ]
    },
    {
      "cell_type": "code",
      "metadata": {
        "colab": {
          "base_uri": "https://localhost:8080/",
          "height": 213
        },
        "id": "9TpJMSbBP-io",
        "outputId": "cf9f0775-42f1-4cf4-b8b5-f1819f901c98"
      },
      "source": [
        "#add column for year\n",
        "#df['year'] = pd.DatetimeIndex(df['birth_date']).year\n",
        "#df.head()\n",
        "Nassau['Year'] = pd.DatetimeIndex(Nassau['TitleDate']).year\n",
        "Nassau.head(3)"
      ],
      "execution_count": 219,
      "outputs": [
        {
          "output_type": "execute_result",
          "data": {
            "text/html": [
              "<div>\n",
              "<style scoped>\n",
              "    .dataframe tbody tr th:only-of-type {\n",
              "        vertical-align: middle;\n",
              "    }\n",
              "\n",
              "    .dataframe tbody tr th {\n",
              "        vertical-align: top;\n",
              "    }\n",
              "\n",
              "    .dataframe thead th {\n",
              "        text-align: right;\n",
              "    }\n",
              "</style>\n",
              "<table border=\"1\" class=\"dataframe\">\n",
              "  <thead>\n",
              "    <tr style=\"text-align: right;\">\n",
              "      <th></th>\n",
              "      <th>St #</th>\n",
              "      <th>Dr</th>\n",
              "      <th>Street Name</th>\n",
              "      <th>Sfx</th>\n",
              "      <th>Town</th>\n",
              "      <th>Zip</th>\n",
              "      <th>ListPrice</th>\n",
              "      <th>SoldPrice</th>\n",
              "      <th>Style</th>\n",
              "      <th>Br</th>\n",
              "      <th>Bath</th>\n",
              "      <th>Unnamed: 11</th>\n",
              "      <th>Unnamed: 12</th>\n",
              "      <th>SD</th>\n",
              "      <th>Tot Tax</th>\n",
              "      <th>LSC</th>\n",
              "      <th>ListDate</th>\n",
              "      <th>ExpDate</th>\n",
              "      <th>ContDate</th>\n",
              "      <th>TitleDate</th>\n",
              "      <th>DOM</th>\n",
              "      <th>Det</th>\n",
              "      <th>#F</th>\n",
              "      <th>K</th>\n",
              "      <th>ML#</th>\n",
              "      <th>Year</th>\n",
              "    </tr>\n",
              "  </thead>\n",
              "  <tbody>\n",
              "    <tr>\n",
              "      <th>0</th>\n",
              "      <td>923</td>\n",
              "      <td>NaN</td>\n",
              "      <td>Adams</td>\n",
              "      <td>Street</td>\n",
              "      <td>Baldwin</td>\n",
              "      <td>11510</td>\n",
              "      <td>199845</td>\n",
              "      <td>183000.0</td>\n",
              "      <td>Cape</td>\n",
              "      <td>2</td>\n",
              "      <td>1.0</td>\n",
              "      <td>None,Unfinished</td>\n",
              "      <td>NaN</td>\n",
              "      <td>10.0</td>\n",
              "      <td>3973.00</td>\n",
              "      <td>CL</td>\n",
              "      <td>7/08/2008</td>\n",
              "      <td>10/07/2008</td>\n",
              "      <td>7/29/2008</td>\n",
              "      <td>2008-09-05</td>\n",
              "      <td>21.0</td>\n",
              "      <td>Det</td>\n",
              "      <td>1</td>\n",
              "      <td>1.0</td>\n",
              "      <td>2095554</td>\n",
              "      <td>2008.0</td>\n",
              "    </tr>\n",
              "    <tr>\n",
              "      <th>1</th>\n",
              "      <td>899</td>\n",
              "      <td>NaN</td>\n",
              "      <td>Kings</td>\n",
              "      <td>Parkway</td>\n",
              "      <td>Baldwin</td>\n",
              "      <td>11510</td>\n",
              "      <td>204900</td>\n",
              "      <td>192500.0</td>\n",
              "      <td>Colonial</td>\n",
              "      <td>3</td>\n",
              "      <td>2.0</td>\n",
              "      <td>Full,Finished</td>\n",
              "      <td>1 Car Detached</td>\n",
              "      <td>10.0</td>\n",
              "      <td>7860.00</td>\n",
              "      <td>CL</td>\n",
              "      <td>4/29/2008</td>\n",
              "      <td>7/28/2008</td>\n",
              "      <td>5/14/2008</td>\n",
              "      <td>2008-05-28</td>\n",
              "      <td>15.0</td>\n",
              "      <td>Det</td>\n",
              "      <td>1</td>\n",
              "      <td>1.0</td>\n",
              "      <td>2074371</td>\n",
              "      <td>2008.0</td>\n",
              "    </tr>\n",
              "    <tr>\n",
              "      <th>2</th>\n",
              "      <td>1842</td>\n",
              "      <td>NaN</td>\n",
              "      <td>Voshage</td>\n",
              "      <td>Street</td>\n",
              "      <td>Baldwin</td>\n",
              "      <td>11510</td>\n",
              "      <td>209900</td>\n",
              "      <td>209900.0</td>\n",
              "      <td>Ranch</td>\n",
              "      <td>2</td>\n",
              "      <td>1.0</td>\n",
              "      <td>Full,Unfinished</td>\n",
              "      <td>1 Car Detached</td>\n",
              "      <td>10.0</td>\n",
              "      <td>7417.06</td>\n",
              "      <td>CL</td>\n",
              "      <td>10/20/2008</td>\n",
              "      <td>5/14/2009</td>\n",
              "      <td>1/26/2009</td>\n",
              "      <td>2009-04-28</td>\n",
              "      <td>98.0</td>\n",
              "      <td>Det</td>\n",
              "      <td>1</td>\n",
              "      <td>1.0</td>\n",
              "      <td>2128508</td>\n",
              "      <td>2009.0</td>\n",
              "    </tr>\n",
              "  </tbody>\n",
              "</table>\n",
              "</div>"
            ],
            "text/plain": [
              "   St #   Dr Street Name      Sfx     Town  ...  Det  #F    K      ML#    Year\n",
              "0   923  NaN       Adams   Street  Baldwin  ...  Det   1  1.0  2095554  2008.0\n",
              "1   899  NaN       Kings  Parkway  Baldwin  ...  Det   1  1.0  2074371  2008.0\n",
              "2  1842  NaN     Voshage   Street  Baldwin  ...  Det   1  1.0  2128508  2009.0\n",
              "\n",
              "[3 rows x 26 columns]"
            ]
          },
          "metadata": {
            "tags": []
          },
          "execution_count": 219
        }
      ]
    },
    {
      "cell_type": "code",
      "metadata": {
        "id": "E9evZTplQfSm"
      },
      "source": [
        "#add new column for MonthYear\n",
        "#df['month_year'] = pd.to_datetime(df['birth_date']).dt.to_period('M')\n",
        "#df.head()\n",
        "\n",
        "Nassau['MonthYear'] = pd.to_datetime(Nassau['TitleDate']).dt.to_period('M')\n",
        "Nassau.head()"
      ],
      "execution_count": null,
      "outputs": []
    },
    {
      "cell_type": "code",
      "metadata": {
        "colab": {
          "base_uri": "https://localhost:8080/",
          "height": 165
        },
        "id": "TO2z6FQmSIKq",
        "outputId": "8eeab394-996e-4aa3-db60-e5de7ab6e83a"
      },
      "source": [
        "Nassau.head(2)"
      ],
      "execution_count": 222,
      "outputs": [
        {
          "output_type": "execute_result",
          "data": {
            "text/html": [
              "<div>\n",
              "<style scoped>\n",
              "    .dataframe tbody tr th:only-of-type {\n",
              "        vertical-align: middle;\n",
              "    }\n",
              "\n",
              "    .dataframe tbody tr th {\n",
              "        vertical-align: top;\n",
              "    }\n",
              "\n",
              "    .dataframe thead th {\n",
              "        text-align: right;\n",
              "    }\n",
              "</style>\n",
              "<table border=\"1\" class=\"dataframe\">\n",
              "  <thead>\n",
              "    <tr style=\"text-align: right;\">\n",
              "      <th></th>\n",
              "      <th>St #</th>\n",
              "      <th>Dr</th>\n",
              "      <th>Street Name</th>\n",
              "      <th>Sfx</th>\n",
              "      <th>Town</th>\n",
              "      <th>Zip</th>\n",
              "      <th>ListPrice</th>\n",
              "      <th>SoldPrice</th>\n",
              "      <th>Style</th>\n",
              "      <th>Br</th>\n",
              "      <th>Bath</th>\n",
              "      <th>Unnamed: 11</th>\n",
              "      <th>Unnamed: 12</th>\n",
              "      <th>SD</th>\n",
              "      <th>Tot Tax</th>\n",
              "      <th>LSC</th>\n",
              "      <th>ListDate</th>\n",
              "      <th>ExpDate</th>\n",
              "      <th>ContDate</th>\n",
              "      <th>TitleDate</th>\n",
              "      <th>DOM</th>\n",
              "      <th>Det</th>\n",
              "      <th>#F</th>\n",
              "      <th>K</th>\n",
              "      <th>ML#</th>\n",
              "      <th>Year</th>\n",
              "      <th>MonthYear</th>\n",
              "    </tr>\n",
              "  </thead>\n",
              "  <tbody>\n",
              "    <tr>\n",
              "      <th>0</th>\n",
              "      <td>923</td>\n",
              "      <td>NaN</td>\n",
              "      <td>Adams</td>\n",
              "      <td>Street</td>\n",
              "      <td>Baldwin</td>\n",
              "      <td>11510</td>\n",
              "      <td>199845</td>\n",
              "      <td>183000.0</td>\n",
              "      <td>Cape</td>\n",
              "      <td>2</td>\n",
              "      <td>1.0</td>\n",
              "      <td>None,Unfinished</td>\n",
              "      <td>NaN</td>\n",
              "      <td>10.0</td>\n",
              "      <td>3973.0</td>\n",
              "      <td>CL</td>\n",
              "      <td>7/08/2008</td>\n",
              "      <td>10/07/2008</td>\n",
              "      <td>7/29/2008</td>\n",
              "      <td>2008-09-05</td>\n",
              "      <td>21.0</td>\n",
              "      <td>Det</td>\n",
              "      <td>1</td>\n",
              "      <td>1.0</td>\n",
              "      <td>2095554</td>\n",
              "      <td>2008.0</td>\n",
              "      <td>2008-09</td>\n",
              "    </tr>\n",
              "    <tr>\n",
              "      <th>1</th>\n",
              "      <td>899</td>\n",
              "      <td>NaN</td>\n",
              "      <td>Kings</td>\n",
              "      <td>Parkway</td>\n",
              "      <td>Baldwin</td>\n",
              "      <td>11510</td>\n",
              "      <td>204900</td>\n",
              "      <td>192500.0</td>\n",
              "      <td>Colonial</td>\n",
              "      <td>3</td>\n",
              "      <td>2.0</td>\n",
              "      <td>Full,Finished</td>\n",
              "      <td>1 Car Detached</td>\n",
              "      <td>10.0</td>\n",
              "      <td>7860.0</td>\n",
              "      <td>CL</td>\n",
              "      <td>4/29/2008</td>\n",
              "      <td>7/28/2008</td>\n",
              "      <td>5/14/2008</td>\n",
              "      <td>2008-05-28</td>\n",
              "      <td>15.0</td>\n",
              "      <td>Det</td>\n",
              "      <td>1</td>\n",
              "      <td>1.0</td>\n",
              "      <td>2074371</td>\n",
              "      <td>2008.0</td>\n",
              "      <td>2008-05</td>\n",
              "    </tr>\n",
              "  </tbody>\n",
              "</table>\n",
              "</div>"
            ],
            "text/plain": [
              "  St #   Dr Street Name      Sfx     Town  ...  #F    K      ML#    Year  MonthYear\n",
              "0  923  NaN       Adams   Street  Baldwin  ...   1  1.0  2095554  2008.0    2008-09\n",
              "1  899  NaN       Kings  Parkway  Baldwin  ...   1  1.0  2074371  2008.0    2008-05\n",
              "\n",
              "[2 rows x 27 columns]"
            ]
          },
          "metadata": {
            "tags": []
          },
          "execution_count": 222
        }
      ]
    },
    {
      "cell_type": "markdown",
      "metadata": {
        "id": "GBavKus-Rap9"
      },
      "source": [
        "## Convert Year and MonthYear to DateTime"
      ]
    },
    {
      "cell_type": "code",
      "metadata": {
        "colab": {
          "base_uri": "https://localhost:8080/"
        },
        "id": "fAPNtDiUSx56",
        "outputId": "ce4020f1-e152-478f-aa14-aa0b5bafd6d7"
      },
      "source": [
        "Nassau.info()"
      ],
      "execution_count": 224,
      "outputs": [
        {
          "output_type": "stream",
          "text": [
            "<class 'pandas.core.frame.DataFrame'>\n",
            "Int64Index: 20481 entries, 0 to 48105\n",
            "Data columns (total 27 columns):\n",
            " #   Column       Non-Null Count  Dtype         \n",
            "---  ------       --------------  -----         \n",
            " 0   St #         20475 non-null  object        \n",
            " 1   Dr           1075 non-null   object        \n",
            " 2   Street Name  20481 non-null  object        \n",
            " 3   Sfx          20174 non-null  object        \n",
            " 4   Town         20481 non-null  object        \n",
            " 5   Zip          20481 non-null  int64         \n",
            " 6   ListPrice    20481 non-null  int64         \n",
            " 7   SoldPrice    19415 non-null  float64       \n",
            " 8   Style        20481 non-null  object        \n",
            " 9   Br           20481 non-null  int64         \n",
            " 10  Bath         20476 non-null  float64       \n",
            " 11  Unnamed: 11  20370 non-null  object        \n",
            " 12  Unnamed: 12  14950 non-null  object        \n",
            " 13  SD           18473 non-null  float64       \n",
            " 14  Tot Tax      20478 non-null  float64       \n",
            " 15  LSC          20481 non-null  object        \n",
            " 16  ListDate     20481 non-null  object        \n",
            " 17  ExpDate      20481 non-null  object        \n",
            " 18  ContDate     19499 non-null  object        \n",
            " 19  TitleDate    19415 non-null  datetime64[ns]\n",
            " 20  DOM          19514 non-null  float64       \n",
            " 21  Det          20481 non-null  object        \n",
            " 22  #F           20481 non-null  int64         \n",
            " 23  K            20462 non-null  float64       \n",
            " 24  ML#          20481 non-null  category      \n",
            " 25  Year         19415 non-null  float64       \n",
            " 26  MonthYear    19415 non-null  period[M]     \n",
            "dtypes: category(1), datetime64[ns](1), float64(7), int64(4), object(13), period[M](1)\n",
            "memory usage: 5.0+ MB\n"
          ],
          "name": "stdout"
        }
      ]
    },
    {
      "cell_type": "code",
      "metadata": {
        "id": "KtRHKDuvTKtR"
      },
      "source": [
        "#Convert Year from float  to factor\n",
        "#Nassau['ML#']= Nassau['ML#'].astype('category')\n",
        "Nassau['Year'] = Nassau['Year'].astype('category')"
      ],
      "execution_count": 225,
      "outputs": []
    },
    {
      "cell_type": "code",
      "metadata": {
        "colab": {
          "base_uri": "https://localhost:8080/"
        },
        "id": "zv0eEYtTThey",
        "outputId": "f80b9248-722f-4a38-b37b-259d6aca622c"
      },
      "source": [
        "Nassau.info()"
      ],
      "execution_count": 226,
      "outputs": [
        {
          "output_type": "stream",
          "text": [
            "<class 'pandas.core.frame.DataFrame'>\n",
            "Int64Index: 20481 entries, 0 to 48105\n",
            "Data columns (total 27 columns):\n",
            " #   Column       Non-Null Count  Dtype         \n",
            "---  ------       --------------  -----         \n",
            " 0   St #         20475 non-null  object        \n",
            " 1   Dr           1075 non-null   object        \n",
            " 2   Street Name  20481 non-null  object        \n",
            " 3   Sfx          20174 non-null  object        \n",
            " 4   Town         20481 non-null  object        \n",
            " 5   Zip          20481 non-null  int64         \n",
            " 6   ListPrice    20481 non-null  int64         \n",
            " 7   SoldPrice    19415 non-null  float64       \n",
            " 8   Style        20481 non-null  object        \n",
            " 9   Br           20481 non-null  int64         \n",
            " 10  Bath         20476 non-null  float64       \n",
            " 11  Unnamed: 11  20370 non-null  object        \n",
            " 12  Unnamed: 12  14950 non-null  object        \n",
            " 13  SD           18473 non-null  float64       \n",
            " 14  Tot Tax      20478 non-null  float64       \n",
            " 15  LSC          20481 non-null  object        \n",
            " 16  ListDate     20481 non-null  object        \n",
            " 17  ExpDate      20481 non-null  object        \n",
            " 18  ContDate     19499 non-null  object        \n",
            " 19  TitleDate    19415 non-null  datetime64[ns]\n",
            " 20  DOM          19514 non-null  float64       \n",
            " 21  Det          20481 non-null  object        \n",
            " 22  #F           20481 non-null  int64         \n",
            " 23  K            20462 non-null  float64       \n",
            " 24  ML#          20481 non-null  category      \n",
            " 25  Year         19415 non-null  category      \n",
            " 26  MonthYear    19415 non-null  period[M]     \n",
            "dtypes: category(2), datetime64[ns](1), float64(6), int64(4), object(13), period[M](1)\n",
            "memory usage: 4.9+ MB\n"
          ],
          "name": "stdout"
        }
      ]
    },
    {
      "cell_type": "code",
      "metadata": {
        "id": "ph7VraVYRerS"
      },
      "source": [
        "#Do I need to run#\n",
        "\n",
        "#Nassau['TitleDate'] = pd.to_datetime(Nassau['TitleDate'].str.strip())\n",
        "#Nassau['MonthYEar'] = pd.to_datetime(Nassau['MonthYear'].str.strip())"
      ],
      "execution_count": null,
      "outputs": []
    },
    {
      "cell_type": "code",
      "metadata": {
        "id": "Hs-zlaAMSpl-"
      },
      "source": [
        ""
      ],
      "execution_count": null,
      "outputs": []
    },
    {
      "cell_type": "markdown",
      "metadata": {
        "id": "8nk2rFLDquR4"
      },
      "source": [
        "### Next we will drop any duplicate houses.\n",
        "\n",
        "df = df.drop_duplicates(subset='favorite_color', keep=\"first\")"
      ]
    },
    {
      "cell_type": "code",
      "metadata": {
        "colab": {
          "base_uri": "https://localhost:8080/"
        },
        "id": "dRIg9uRSt03t",
        "outputId": "be296ed3-0f91-40f6-8cc4-f9d2fb9044c8"
      },
      "source": [
        "Nassau.info()"
      ],
      "execution_count": 228,
      "outputs": [
        {
          "output_type": "stream",
          "text": [
            "<class 'pandas.core.frame.DataFrame'>\n",
            "Int64Index: 20481 entries, 0 to 48105\n",
            "Data columns (total 27 columns):\n",
            " #   Column       Non-Null Count  Dtype         \n",
            "---  ------       --------------  -----         \n",
            " 0   St #         20475 non-null  object        \n",
            " 1   Dr           1075 non-null   object        \n",
            " 2   Street Name  20481 non-null  object        \n",
            " 3   Sfx          20174 non-null  object        \n",
            " 4   Town         20481 non-null  object        \n",
            " 5   Zip          20481 non-null  int64         \n",
            " 6   ListPrice    20481 non-null  int64         \n",
            " 7   SoldPrice    19415 non-null  float64       \n",
            " 8   Style        20481 non-null  object        \n",
            " 9   Br           20481 non-null  int64         \n",
            " 10  Bath         20476 non-null  float64       \n",
            " 11  Unnamed: 11  20370 non-null  object        \n",
            " 12  Unnamed: 12  14950 non-null  object        \n",
            " 13  SD           18473 non-null  float64       \n",
            " 14  Tot Tax      20478 non-null  float64       \n",
            " 15  LSC          20481 non-null  object        \n",
            " 16  ListDate     20481 non-null  object        \n",
            " 17  ExpDate      20481 non-null  object        \n",
            " 18  ContDate     19499 non-null  object        \n",
            " 19  TitleDate    19415 non-null  datetime64[ns]\n",
            " 20  DOM          19514 non-null  float64       \n",
            " 21  Det          20481 non-null  object        \n",
            " 22  #F           20481 non-null  int64         \n",
            " 23  K            20462 non-null  float64       \n",
            " 24  ML#          20481 non-null  category      \n",
            " 25  Year         19415 non-null  category      \n",
            " 26  MonthYear    19415 non-null  period[M]     \n",
            "dtypes: category(2), datetime64[ns](1), float64(6), int64(4), object(13), period[M](1)\n",
            "memory usage: 4.9+ MB\n"
          ],
          "name": "stdout"
        }
      ]
    },
    {
      "cell_type": "code",
      "metadata": {
        "id": "R0jEc_jWsxHK"
      },
      "source": [
        "#Convert ML from object to factor\n",
        "Nassau['ML#']= Nassau['ML#'].astype('category')"
      ],
      "execution_count": 216,
      "outputs": []
    },
    {
      "cell_type": "code",
      "metadata": {
        "colab": {
          "base_uri": "https://localhost:8080/"
        },
        "id": "9ZBH-h50rZ1G",
        "outputId": "950f724b-dad2-4b42-8301-ac65d4dd3638"
      },
      "source": [
        "Nassau.shape"
      ],
      "execution_count": 229,
      "outputs": [
        {
          "output_type": "execute_result",
          "data": {
            "text/plain": [
              "(20481, 27)"
            ]
          },
          "metadata": {
            "tags": []
          },
          "execution_count": 229
        }
      ]
    },
    {
      "cell_type": "code",
      "metadata": {
        "id": "AGxfRFEnqdQI"
      },
      "source": [
        "Nassau = Nassau.drop_duplicates(subset= 'ML#', keep='first')"
      ],
      "execution_count": 217,
      "outputs": []
    },
    {
      "cell_type": "code",
      "metadata": {
        "colab": {
          "base_uri": "https://localhost:8080/"
        },
        "id": "hcc2iQXxri5z",
        "outputId": "928ed5c0-d9b3-4e39-ec3d-858cfb9f3341"
      },
      "source": [
        "Nassau.shape"
      ],
      "execution_count": 218,
      "outputs": [
        {
          "output_type": "execute_result",
          "data": {
            "text/plain": [
              "(20481, 25)"
            ]
          },
          "metadata": {
            "tags": []
          },
          "execution_count": 218
        }
      ]
    },
    {
      "cell_type": "code",
      "metadata": {
        "id": "u2FJnSk7KAvV"
      },
      "source": [
        "#Nassau = pd.read_csv(\"/content/Nassau_7.csv\")"
      ],
      "execution_count": 184,
      "outputs": []
    },
    {
      "cell_type": "code",
      "metadata": {
        "id": "6qYopSGGH7fG"
      },
      "source": [
        ""
      ],
      "execution_count": null,
      "outputs": []
    },
    {
      "cell_type": "markdown",
      "metadata": {
        "id": "tJN1ZPRq1jKT"
      },
      "source": [
        "### Group by and get average monthly sales price."
      ]
    },
    {
      "cell_type": "code",
      "metadata": {
        "id": "kNgRPSdXMyFk"
      },
      "source": [
        ""
      ],
      "execution_count": null,
      "outputs": []
    },
    {
      "cell_type": "code",
      "metadata": {
        "colab": {
          "base_uri": "https://localhost:8080/"
        },
        "id": "yVhP_Bhm183E",
        "outputId": "1c67183f-b8ce-4ee8-e964-ccd8680af332"
      },
      "source": [
        "#test = county.groupby(['Town' ,'MonthYear'])['SoldPrice'].mean()\n",
        "Nassau_Monthly_Avg = Nassau_Monthly_Avg['AvgSoldPrice'] = Nassau.groupby(['Town' ,'MonthYear'])['SoldPrice'].mean()\n",
        "Nassau_Monthly_Avg.head()"
      ],
      "execution_count": 236,
      "outputs": [
        {
          "output_type": "execute_result",
          "data": {
            "text/plain": [
              "Town     MonthYear\n",
              "Baldwin  2006-03      450000\n",
              "         2006-04      422286\n",
              "         2006-05      406333\n",
              "         2006-06      442977\n",
              "         2006-07      456507\n",
              "Name: SoldPrice, dtype: object"
            ]
          },
          "metadata": {
            "tags": []
          },
          "execution_count": 236
        }
      ]
    },
    {
      "cell_type": "code",
      "metadata": {
        "id": "A8S5_PsEEse8"
      },
      "source": [
        "Nassau_Monthly_Avg = pd.DataFrame(Nassau_Monthly_Avg)"
      ],
      "execution_count": 237,
      "outputs": []
    },
    {
      "cell_type": "code",
      "metadata": {
        "colab": {
          "base_uri": "https://localhost:8080/"
        },
        "id": "9UtZbJpP17XD",
        "outputId": "35ac45dc-3d03-4374-9679-eece3984b3e0"
      },
      "source": [
        "#test = county.groupby(['Town' ,'MonthYear'])['SoldPrice'].mean()\n",
        "#Nassau_Monthly_Avg = Nassau.groupby(['Town' ,'MonthYear'])['SoldPrice'].mean()\n",
        "#Nassau_Monthly_Avg.head()"
      ],
      "execution_count": 230,
      "outputs": [
        {
          "output_type": "execute_result",
          "data": {
            "text/plain": [
              "Town     MonthYear\n",
              "Baldwin  2006-03      450000.000000\n",
              "         2006-04      422285.714286\n",
              "         2006-05      406333.222222\n",
              "         2006-06      442977.272727\n",
              "         2006-07      456506.756757\n",
              "Name: SoldPrice, dtype: float64"
            ]
          },
          "metadata": {
            "tags": []
          },
          "execution_count": 230
        }
      ]
    },
    {
      "cell_type": "code",
      "metadata": {
        "id": "jzjBbx4m18zi"
      },
      "source": [
        "Nassau_Monthly_Avg = pd.DataFrame(Nassau_Monthly_Avg)"
      ],
      "execution_count": 141,
      "outputs": []
    },
    {
      "cell_type": "code",
      "metadata": {
        "id": "Ghh9Ys4SUYL7"
      },
      "source": [
        ""
      ],
      "execution_count": null,
      "outputs": []
    },
    {
      "cell_type": "code",
      "metadata": {
        "id": "so3R2F8WUYCC"
      },
      "source": [
        ""
      ],
      "execution_count": null,
      "outputs": []
    },
    {
      "cell_type": "code",
      "metadata": {
        "colab": {
          "base_uri": "https://localhost:8080/",
          "height": 173
        },
        "id": "m64KHQpRW4YC",
        "outputId": "3e770693-bc0b-40a1-df76-ce46f7e5ed17"
      },
      "source": [
        "Nassau_Monthly_Avg.head(3)"
      ],
      "execution_count": 238,
      "outputs": [
        {
          "output_type": "execute_result",
          "data": {
            "text/html": [
              "<div>\n",
              "<style scoped>\n",
              "    .dataframe tbody tr th:only-of-type {\n",
              "        vertical-align: middle;\n",
              "    }\n",
              "\n",
              "    .dataframe tbody tr th {\n",
              "        vertical-align: top;\n",
              "    }\n",
              "\n",
              "    .dataframe thead th {\n",
              "        text-align: right;\n",
              "    }\n",
              "</style>\n",
              "<table border=\"1\" class=\"dataframe\">\n",
              "  <thead>\n",
              "    <tr style=\"text-align: right;\">\n",
              "      <th></th>\n",
              "      <th></th>\n",
              "      <th>SoldPrice</th>\n",
              "    </tr>\n",
              "    <tr>\n",
              "      <th>Town</th>\n",
              "      <th>MonthYear</th>\n",
              "      <th></th>\n",
              "    </tr>\n",
              "  </thead>\n",
              "  <tbody>\n",
              "    <tr>\n",
              "      <th rowspan=\"3\" valign=\"top\">Baldwin</th>\n",
              "      <th>2006-03</th>\n",
              "      <td>450000</td>\n",
              "    </tr>\n",
              "    <tr>\n",
              "      <th>2006-04</th>\n",
              "      <td>422286</td>\n",
              "    </tr>\n",
              "    <tr>\n",
              "      <th>2006-05</th>\n",
              "      <td>406333</td>\n",
              "    </tr>\n",
              "  </tbody>\n",
              "</table>\n",
              "</div>"
            ],
            "text/plain": [
              "                  SoldPrice\n",
              "Town    MonthYear          \n",
              "Baldwin 2006-03      450000\n",
              "        2006-04      422286\n",
              "        2006-05      406333"
            ]
          },
          "metadata": {
            "tags": []
          },
          "execution_count": 238
        }
      ]
    },
    {
      "cell_type": "markdown",
      "metadata": {
        "id": "XRPjp3HKUilD"
      },
      "source": [
        "# Graphing"
      ]
    },
    {
      "cell_type": "markdown",
      "metadata": {
        "id": "Th9169DkWlmV"
      },
      "source": [
        "https://www.marsja.se/seaborn-line-plots-multiple/"
      ]
    },
    {
      "cell_type": "code",
      "metadata": {
        "colab": {
          "base_uri": "https://localhost:8080/",
          "height": 596
        },
        "id": "84h8HQwBUX8I",
        "outputId": "334cb6b4-a7db-4b50-f008-0496d2e93eb2"
      },
      "source": [
        "# Line graph of avg selling prices\n",
        "#Nassau_Monthly_Avg.head()\n",
        "sns.lineplot('MonthYear' , 'SoldPrice', \n",
        "             data = pd.melt(Nassau_Monthly_Avg,'MonthYear'))"
      ],
      "execution_count": 240,
      "outputs": [
        {
          "output_type": "error",
          "ename": "KeyError",
          "evalue": "ignored",
          "traceback": [
            "\u001b[0;31m---------------------------------------------------------------------------\u001b[0m",
            "\u001b[0;31mKeyError\u001b[0m                                  Traceback (most recent call last)",
            "\u001b[0;32m/usr/local/lib/python3.7/dist-packages/pandas/core/indexes/base.py\u001b[0m in \u001b[0;36mget_loc\u001b[0;34m(self, key, method, tolerance)\u001b[0m\n\u001b[1;32m   2897\u001b[0m             \u001b[0;32mtry\u001b[0m\u001b[0;34m:\u001b[0m\u001b[0;34m\u001b[0m\u001b[0;34m\u001b[0m\u001b[0m\n\u001b[0;32m-> 2898\u001b[0;31m                 \u001b[0;32mreturn\u001b[0m \u001b[0mself\u001b[0m\u001b[0;34m.\u001b[0m\u001b[0m_engine\u001b[0m\u001b[0;34m.\u001b[0m\u001b[0mget_loc\u001b[0m\u001b[0;34m(\u001b[0m\u001b[0mcasted_key\u001b[0m\u001b[0;34m)\u001b[0m\u001b[0;34m\u001b[0m\u001b[0;34m\u001b[0m\u001b[0m\n\u001b[0m\u001b[1;32m   2899\u001b[0m             \u001b[0;32mexcept\u001b[0m \u001b[0mKeyError\u001b[0m \u001b[0;32mas\u001b[0m \u001b[0merr\u001b[0m\u001b[0;34m:\u001b[0m\u001b[0;34m\u001b[0m\u001b[0;34m\u001b[0m\u001b[0m\n",
            "\u001b[0;32mpandas/_libs/index.pyx\u001b[0m in \u001b[0;36mpandas._libs.index.IndexEngine.get_loc\u001b[0;34m()\u001b[0m\n",
            "\u001b[0;32mpandas/_libs/index.pyx\u001b[0m in \u001b[0;36mpandas._libs.index.IndexEngine.get_loc\u001b[0;34m()\u001b[0m\n",
            "\u001b[0;32mpandas/_libs/hashtable_class_helper.pxi\u001b[0m in \u001b[0;36mpandas._libs.hashtable.PyObjectHashTable.get_item\u001b[0;34m()\u001b[0m\n",
            "\u001b[0;32mpandas/_libs/hashtable_class_helper.pxi\u001b[0m in \u001b[0;36mpandas._libs.hashtable.PyObjectHashTable.get_item\u001b[0;34m()\u001b[0m\n",
            "\u001b[0;31mKeyError\u001b[0m: 'MonthYear'",
            "\nThe above exception was the direct cause of the following exception:\n",
            "\u001b[0;31mKeyError\u001b[0m                                  Traceback (most recent call last)",
            "\u001b[0;32m<ipython-input-240-7aafc990300e>\u001b[0m in \u001b[0;36m<module>\u001b[0;34m()\u001b[0m\n\u001b[1;32m      2\u001b[0m \u001b[0;31m#Nassau_Monthly_Avg.head()\u001b[0m\u001b[0;34m\u001b[0m\u001b[0;34m\u001b[0m\u001b[0;34m\u001b[0m\u001b[0m\n\u001b[1;32m      3\u001b[0m sns.lineplot('MonthYear' , 'SoldPrice', \n\u001b[0;32m----> 4\u001b[0;31m              data = pd.melt(Nassau_Monthly_Avg,'MonthYear'))\n\u001b[0m",
            "\u001b[0;32m/usr/local/lib/python3.7/dist-packages/pandas/core/reshape/melt.py\u001b[0m in \u001b[0;36mmelt\u001b[0;34m(frame, id_vars, value_vars, var_name, value_name, col_level, ignore_index)\u001b[0m\n\u001b[1;32m    120\u001b[0m     \u001b[0mmdata\u001b[0m \u001b[0;34m=\u001b[0m \u001b[0;34m{\u001b[0m\u001b[0;34m}\u001b[0m\u001b[0;34m\u001b[0m\u001b[0;34m\u001b[0m\u001b[0m\n\u001b[1;32m    121\u001b[0m     \u001b[0;32mfor\u001b[0m \u001b[0mcol\u001b[0m \u001b[0;32min\u001b[0m \u001b[0mid_vars\u001b[0m\u001b[0;34m:\u001b[0m\u001b[0;34m\u001b[0m\u001b[0;34m\u001b[0m\u001b[0m\n\u001b[0;32m--> 122\u001b[0;31m         \u001b[0mid_data\u001b[0m \u001b[0;34m=\u001b[0m \u001b[0mframe\u001b[0m\u001b[0;34m.\u001b[0m\u001b[0mpop\u001b[0m\u001b[0;34m(\u001b[0m\u001b[0mcol\u001b[0m\u001b[0;34m)\u001b[0m\u001b[0;34m\u001b[0m\u001b[0;34m\u001b[0m\u001b[0m\n\u001b[0m\u001b[1;32m    123\u001b[0m         \u001b[0;32mif\u001b[0m \u001b[0mis_extension_array_dtype\u001b[0m\u001b[0;34m(\u001b[0m\u001b[0mid_data\u001b[0m\u001b[0;34m)\u001b[0m\u001b[0;34m:\u001b[0m\u001b[0;34m\u001b[0m\u001b[0;34m\u001b[0m\u001b[0m\n\u001b[1;32m    124\u001b[0m             \u001b[0mid_data\u001b[0m \u001b[0;34m=\u001b[0m \u001b[0mcast\u001b[0m\u001b[0;34m(\u001b[0m\u001b[0;34m\"Series\"\u001b[0m\u001b[0;34m,\u001b[0m \u001b[0mconcat\u001b[0m\u001b[0;34m(\u001b[0m\u001b[0;34m[\u001b[0m\u001b[0mid_data\u001b[0m\u001b[0;34m]\u001b[0m \u001b[0;34m*\u001b[0m \u001b[0mK\u001b[0m\u001b[0;34m,\u001b[0m \u001b[0mignore_index\u001b[0m\u001b[0;34m=\u001b[0m\u001b[0;32mTrue\u001b[0m\u001b[0;34m)\u001b[0m\u001b[0;34m)\u001b[0m\u001b[0;34m\u001b[0m\u001b[0;34m\u001b[0m\u001b[0m\n",
            "\u001b[0;32m/usr/local/lib/python3.7/dist-packages/pandas/core/frame.py\u001b[0m in \u001b[0;36mpop\u001b[0;34m(self, item)\u001b[0m\n\u001b[1;32m   4369\u001b[0m         \u001b[0;36m3\u001b[0m  \u001b[0mmonkey\u001b[0m        \u001b[0mNaN\u001b[0m\u001b[0;34m\u001b[0m\u001b[0;34m\u001b[0m\u001b[0m\n\u001b[1;32m   4370\u001b[0m         \"\"\"\n\u001b[0;32m-> 4371\u001b[0;31m         \u001b[0;32mreturn\u001b[0m \u001b[0msuper\u001b[0m\u001b[0;34m(\u001b[0m\u001b[0;34m)\u001b[0m\u001b[0;34m.\u001b[0m\u001b[0mpop\u001b[0m\u001b[0;34m(\u001b[0m\u001b[0mitem\u001b[0m\u001b[0;34m=\u001b[0m\u001b[0mitem\u001b[0m\u001b[0;34m)\u001b[0m\u001b[0;34m\u001b[0m\u001b[0;34m\u001b[0m\u001b[0m\n\u001b[0m\u001b[1;32m   4372\u001b[0m \u001b[0;34m\u001b[0m\u001b[0m\n\u001b[1;32m   4373\u001b[0m     \u001b[0;34m@\u001b[0m\u001b[0mdoc\u001b[0m\u001b[0;34m(\u001b[0m\u001b[0mNDFrame\u001b[0m\u001b[0;34m.\u001b[0m\u001b[0mreplace\u001b[0m\u001b[0;34m,\u001b[0m \u001b[0;34m**\u001b[0m\u001b[0m_shared_doc_kwargs\u001b[0m\u001b[0;34m)\u001b[0m\u001b[0;34m\u001b[0m\u001b[0;34m\u001b[0m\u001b[0m\n",
            "\u001b[0;32m/usr/local/lib/python3.7/dist-packages/pandas/core/generic.py\u001b[0m in \u001b[0;36mpop\u001b[0;34m(self, item)\u001b[0m\n\u001b[1;32m    659\u001b[0m \u001b[0;34m\u001b[0m\u001b[0m\n\u001b[1;32m    660\u001b[0m     \u001b[0;32mdef\u001b[0m \u001b[0mpop\u001b[0m\u001b[0;34m(\u001b[0m\u001b[0mself\u001b[0m\u001b[0;34m,\u001b[0m \u001b[0mitem\u001b[0m\u001b[0;34m:\u001b[0m \u001b[0mLabel\u001b[0m\u001b[0;34m)\u001b[0m \u001b[0;34m->\u001b[0m \u001b[0mUnion\u001b[0m\u001b[0;34m[\u001b[0m\u001b[0;34m\"Series\"\u001b[0m\u001b[0;34m,\u001b[0m \u001b[0mAny\u001b[0m\u001b[0;34m]\u001b[0m\u001b[0;34m:\u001b[0m\u001b[0;34m\u001b[0m\u001b[0;34m\u001b[0m\u001b[0m\n\u001b[0;32m--> 661\u001b[0;31m         \u001b[0mresult\u001b[0m \u001b[0;34m=\u001b[0m \u001b[0mself\u001b[0m\u001b[0;34m[\u001b[0m\u001b[0mitem\u001b[0m\u001b[0;34m]\u001b[0m\u001b[0;34m\u001b[0m\u001b[0;34m\u001b[0m\u001b[0m\n\u001b[0m\u001b[1;32m    662\u001b[0m         \u001b[0;32mdel\u001b[0m \u001b[0mself\u001b[0m\u001b[0;34m[\u001b[0m\u001b[0mitem\u001b[0m\u001b[0;34m]\u001b[0m\u001b[0;34m\u001b[0m\u001b[0;34m\u001b[0m\u001b[0m\n\u001b[1;32m    663\u001b[0m         \u001b[0;32mif\u001b[0m \u001b[0mself\u001b[0m\u001b[0;34m.\u001b[0m\u001b[0mndim\u001b[0m \u001b[0;34m==\u001b[0m \u001b[0;36m2\u001b[0m\u001b[0;34m:\u001b[0m\u001b[0;34m\u001b[0m\u001b[0;34m\u001b[0m\u001b[0m\n",
            "\u001b[0;32m/usr/local/lib/python3.7/dist-packages/pandas/core/frame.py\u001b[0m in \u001b[0;36m__getitem__\u001b[0;34m(self, key)\u001b[0m\n\u001b[1;32m   2904\u001b[0m             \u001b[0;32mif\u001b[0m \u001b[0mself\u001b[0m\u001b[0;34m.\u001b[0m\u001b[0mcolumns\u001b[0m\u001b[0;34m.\u001b[0m\u001b[0mnlevels\u001b[0m \u001b[0;34m>\u001b[0m \u001b[0;36m1\u001b[0m\u001b[0;34m:\u001b[0m\u001b[0;34m\u001b[0m\u001b[0;34m\u001b[0m\u001b[0m\n\u001b[1;32m   2905\u001b[0m                 \u001b[0;32mreturn\u001b[0m \u001b[0mself\u001b[0m\u001b[0;34m.\u001b[0m\u001b[0m_getitem_multilevel\u001b[0m\u001b[0;34m(\u001b[0m\u001b[0mkey\u001b[0m\u001b[0;34m)\u001b[0m\u001b[0;34m\u001b[0m\u001b[0;34m\u001b[0m\u001b[0m\n\u001b[0;32m-> 2906\u001b[0;31m             \u001b[0mindexer\u001b[0m \u001b[0;34m=\u001b[0m \u001b[0mself\u001b[0m\u001b[0;34m.\u001b[0m\u001b[0mcolumns\u001b[0m\u001b[0;34m.\u001b[0m\u001b[0mget_loc\u001b[0m\u001b[0;34m(\u001b[0m\u001b[0mkey\u001b[0m\u001b[0;34m)\u001b[0m\u001b[0;34m\u001b[0m\u001b[0;34m\u001b[0m\u001b[0m\n\u001b[0m\u001b[1;32m   2907\u001b[0m             \u001b[0;32mif\u001b[0m \u001b[0mis_integer\u001b[0m\u001b[0;34m(\u001b[0m\u001b[0mindexer\u001b[0m\u001b[0;34m)\u001b[0m\u001b[0;34m:\u001b[0m\u001b[0;34m\u001b[0m\u001b[0;34m\u001b[0m\u001b[0m\n\u001b[1;32m   2908\u001b[0m                 \u001b[0mindexer\u001b[0m \u001b[0;34m=\u001b[0m \u001b[0;34m[\u001b[0m\u001b[0mindexer\u001b[0m\u001b[0;34m]\u001b[0m\u001b[0;34m\u001b[0m\u001b[0;34m\u001b[0m\u001b[0m\n",
            "\u001b[0;32m/usr/local/lib/python3.7/dist-packages/pandas/core/indexes/base.py\u001b[0m in \u001b[0;36mget_loc\u001b[0;34m(self, key, method, tolerance)\u001b[0m\n\u001b[1;32m   2898\u001b[0m                 \u001b[0;32mreturn\u001b[0m \u001b[0mself\u001b[0m\u001b[0;34m.\u001b[0m\u001b[0m_engine\u001b[0m\u001b[0;34m.\u001b[0m\u001b[0mget_loc\u001b[0m\u001b[0;34m(\u001b[0m\u001b[0mcasted_key\u001b[0m\u001b[0;34m)\u001b[0m\u001b[0;34m\u001b[0m\u001b[0;34m\u001b[0m\u001b[0m\n\u001b[1;32m   2899\u001b[0m             \u001b[0;32mexcept\u001b[0m \u001b[0mKeyError\u001b[0m \u001b[0;32mas\u001b[0m \u001b[0merr\u001b[0m\u001b[0;34m:\u001b[0m\u001b[0;34m\u001b[0m\u001b[0;34m\u001b[0m\u001b[0m\n\u001b[0;32m-> 2900\u001b[0;31m                 \u001b[0;32mraise\u001b[0m \u001b[0mKeyError\u001b[0m\u001b[0;34m(\u001b[0m\u001b[0mkey\u001b[0m\u001b[0;34m)\u001b[0m \u001b[0;32mfrom\u001b[0m \u001b[0merr\u001b[0m\u001b[0;34m\u001b[0m\u001b[0;34m\u001b[0m\u001b[0m\n\u001b[0m\u001b[1;32m   2901\u001b[0m \u001b[0;34m\u001b[0m\u001b[0m\n\u001b[1;32m   2902\u001b[0m         \u001b[0;32mif\u001b[0m \u001b[0mtolerance\u001b[0m \u001b[0;32mis\u001b[0m \u001b[0;32mnot\u001b[0m \u001b[0;32mNone\u001b[0m\u001b[0;34m:\u001b[0m\u001b[0;34m\u001b[0m\u001b[0;34m\u001b[0m\u001b[0m\n",
            "\u001b[0;31mKeyError\u001b[0m: 'MonthYear'"
          ]
        }
      ]
    },
    {
      "cell_type": "code",
      "metadata": {
        "id": "yoy7Ejy2Vm0j"
      },
      "source": [
        ""
      ],
      "execution_count": null,
      "outputs": []
    },
    {
      "cell_type": "code",
      "metadata": {
        "id": "UyxRVnp7VmxK"
      },
      "source": [
        ""
      ],
      "execution_count": null,
      "outputs": []
    },
    {
      "cell_type": "code",
      "metadata": {
        "id": "9O2fhkrTVmt6"
      },
      "source": [
        ""
      ],
      "execution_count": null,
      "outputs": []
    },
    {
      "cell_type": "code",
      "metadata": {
        "id": "HkyZdlQEVmqt"
      },
      "source": [
        ""
      ],
      "execution_count": null,
      "outputs": []
    },
    {
      "cell_type": "code",
      "metadata": {
        "id": "uOotB1H_VmnW"
      },
      "source": [
        ""
      ],
      "execution_count": null,
      "outputs": []
    },
    {
      "cell_type": "code",
      "metadata": {
        "id": "7jK0TvUVVmk1"
      },
      "source": [
        ""
      ],
      "execution_count": null,
      "outputs": []
    },
    {
      "cell_type": "code",
      "metadata": {
        "id": "8xFeqTlkVmhl"
      },
      "source": [
        ""
      ],
      "execution_count": null,
      "outputs": []
    },
    {
      "cell_type": "markdown",
      "metadata": {
        "id": "XMcof9Up175u"
      },
      "source": [
        "# JUNK BELOW\n",
        "\n",
        "\n",
        "\n",
        "---\n",
        "\n",
        "\n",
        "\n"
      ]
    },
    {
      "cell_type": "code",
      "metadata": {
        "id": "hfh9zDWLaUEg"
      },
      "source": [
        "num_rows = 20\n",
        "years = list(range(1990, 1990 + num_rows))\n",
        "data_preproc = pd.DataFrame({\n",
        "    'Year': years, \n",
        "    'A': np.random.randn(num_rows).cumsum(),\n",
        "    'B': np.random.randn(num_rows).cumsum(),\n",
        "    'C': np.random.randn(num_rows).cumsum(),\n",
        "    'D': np.random.randn(num_rows).cumsum()})"
      ],
      "execution_count": 241,
      "outputs": []
    },
    {
      "cell_type": "code",
      "metadata": {
        "colab": {
          "base_uri": "https://localhost:8080/",
          "height": 669
        },
        "id": "B8oPsuRDadJD",
        "outputId": "85377e18-3a87-4831-8259-7f7ee14112fe"
      },
      "source": [
        "data_preproc"
      ],
      "execution_count": 244,
      "outputs": [
        {
          "output_type": "execute_result",
          "data": {
            "text/html": [
              "<div>\n",
              "<style scoped>\n",
              "    .dataframe tbody tr th:only-of-type {\n",
              "        vertical-align: middle;\n",
              "    }\n",
              "\n",
              "    .dataframe tbody tr th {\n",
              "        vertical-align: top;\n",
              "    }\n",
              "\n",
              "    .dataframe thead th {\n",
              "        text-align: right;\n",
              "    }\n",
              "</style>\n",
              "<table border=\"1\" class=\"dataframe\">\n",
              "  <thead>\n",
              "    <tr style=\"text-align: right;\">\n",
              "      <th></th>\n",
              "      <th>Year</th>\n",
              "      <th>A</th>\n",
              "      <th>B</th>\n",
              "      <th>C</th>\n",
              "      <th>D</th>\n",
              "    </tr>\n",
              "  </thead>\n",
              "  <tbody>\n",
              "    <tr>\n",
              "      <th>0</th>\n",
              "      <td>1990</td>\n",
              "      <td>-1.194814</td>\n",
              "      <td>0.526995</td>\n",
              "      <td>-0.277458</td>\n",
              "      <td>-0.368225</td>\n",
              "    </tr>\n",
              "    <tr>\n",
              "      <th>1</th>\n",
              "      <td>1991</td>\n",
              "      <td>-2.732396</td>\n",
              "      <td>2.060354</td>\n",
              "      <td>1.020025</td>\n",
              "      <td>-2.324298</td>\n",
              "    </tr>\n",
              "    <tr>\n",
              "      <th>2</th>\n",
              "      <td>1992</td>\n",
              "      <td>-4.435587</td>\n",
              "      <td>2.986949</td>\n",
              "      <td>0.514157</td>\n",
              "      <td>-1.817459</td>\n",
              "    </tr>\n",
              "    <tr>\n",
              "      <th>3</th>\n",
              "      <td>1993</td>\n",
              "      <td>-2.745077</td>\n",
              "      <td>3.606708</td>\n",
              "      <td>1.476269</td>\n",
              "      <td>-1.205510</td>\n",
              "    </tr>\n",
              "    <tr>\n",
              "      <th>4</th>\n",
              "      <td>1994</td>\n",
              "      <td>-3.816940</td>\n",
              "      <td>1.648106</td>\n",
              "      <td>0.131212</td>\n",
              "      <td>-2.198014</td>\n",
              "    </tr>\n",
              "    <tr>\n",
              "      <th>5</th>\n",
              "      <td>1995</td>\n",
              "      <td>-2.703640</td>\n",
              "      <td>2.271811</td>\n",
              "      <td>0.638036</td>\n",
              "      <td>-1.601054</td>\n",
              "    </tr>\n",
              "    <tr>\n",
              "      <th>6</th>\n",
              "      <td>1996</td>\n",
              "      <td>-2.849476</td>\n",
              "      <td>3.703106</td>\n",
              "      <td>1.231252</td>\n",
              "      <td>-2.055137</td>\n",
              "    </tr>\n",
              "    <tr>\n",
              "      <th>7</th>\n",
              "      <td>1997</td>\n",
              "      <td>-3.220431</td>\n",
              "      <td>2.339820</td>\n",
              "      <td>1.369946</td>\n",
              "      <td>-3.497275</td>\n",
              "    </tr>\n",
              "    <tr>\n",
              "      <th>8</th>\n",
              "      <td>1998</td>\n",
              "      <td>-4.329676</td>\n",
              "      <td>1.428885</td>\n",
              "      <td>1.965161</td>\n",
              "      <td>-4.805377</td>\n",
              "    </tr>\n",
              "    <tr>\n",
              "      <th>9</th>\n",
              "      <td>1999</td>\n",
              "      <td>-2.867361</td>\n",
              "      <td>0.951977</td>\n",
              "      <td>3.100098</td>\n",
              "      <td>-4.994378</td>\n",
              "    </tr>\n",
              "    <tr>\n",
              "      <th>10</th>\n",
              "      <td>2000</td>\n",
              "      <td>-4.490693</td>\n",
              "      <td>2.122680</td>\n",
              "      <td>2.285616</td>\n",
              "      <td>-3.875472</td>\n",
              "    </tr>\n",
              "    <tr>\n",
              "      <th>11</th>\n",
              "      <td>2001</td>\n",
              "      <td>-3.171179</td>\n",
              "      <td>1.494588</td>\n",
              "      <td>-0.212396</td>\n",
              "      <td>-3.517826</td>\n",
              "    </tr>\n",
              "    <tr>\n",
              "      <th>12</th>\n",
              "      <td>2002</td>\n",
              "      <td>-1.564018</td>\n",
              "      <td>0.935114</td>\n",
              "      <td>-0.020732</td>\n",
              "      <td>-3.978663</td>\n",
              "    </tr>\n",
              "    <tr>\n",
              "      <th>13</th>\n",
              "      <td>2003</td>\n",
              "      <td>-2.838121</td>\n",
              "      <td>1.801356</td>\n",
              "      <td>0.044664</td>\n",
              "      <td>-3.518752</td>\n",
              "    </tr>\n",
              "    <tr>\n",
              "      <th>14</th>\n",
              "      <td>2004</td>\n",
              "      <td>-4.302313</td>\n",
              "      <td>1.390012</td>\n",
              "      <td>-0.017836</td>\n",
              "      <td>-2.875659</td>\n",
              "    </tr>\n",
              "    <tr>\n",
              "      <th>15</th>\n",
              "      <td>2005</td>\n",
              "      <td>-5.534095</td>\n",
              "      <td>1.742656</td>\n",
              "      <td>1.070826</td>\n",
              "      <td>-3.303557</td>\n",
              "    </tr>\n",
              "    <tr>\n",
              "      <th>16</th>\n",
              "      <td>2006</td>\n",
              "      <td>-4.404539</td>\n",
              "      <td>2.457324</td>\n",
              "      <td>0.706574</td>\n",
              "      <td>-3.179275</td>\n",
              "    </tr>\n",
              "    <tr>\n",
              "      <th>17</th>\n",
              "      <td>2007</td>\n",
              "      <td>-4.036119</td>\n",
              "      <td>1.222966</td>\n",
              "      <td>-0.229620</td>\n",
              "      <td>-3.582316</td>\n",
              "    </tr>\n",
              "    <tr>\n",
              "      <th>18</th>\n",
              "      <td>2008</td>\n",
              "      <td>-4.753706</td>\n",
              "      <td>2.100483</td>\n",
              "      <td>-1.479965</td>\n",
              "      <td>-2.164683</td>\n",
              "    </tr>\n",
              "    <tr>\n",
              "      <th>19</th>\n",
              "      <td>2009</td>\n",
              "      <td>-3.714292</td>\n",
              "      <td>1.314239</td>\n",
              "      <td>0.141265</td>\n",
              "      <td>-2.335541</td>\n",
              "    </tr>\n",
              "  </tbody>\n",
              "</table>\n",
              "</div>"
            ],
            "text/plain": [
              "    Year         A         B         C         D\n",
              "0   1990 -1.194814  0.526995 -0.277458 -0.368225\n",
              "1   1991 -2.732396  2.060354  1.020025 -2.324298\n",
              "2   1992 -4.435587  2.986949  0.514157 -1.817459\n",
              "3   1993 -2.745077  3.606708  1.476269 -1.205510\n",
              "4   1994 -3.816940  1.648106  0.131212 -2.198014\n",
              "5   1995 -2.703640  2.271811  0.638036 -1.601054\n",
              "6   1996 -2.849476  3.703106  1.231252 -2.055137\n",
              "7   1997 -3.220431  2.339820  1.369946 -3.497275\n",
              "8   1998 -4.329676  1.428885  1.965161 -4.805377\n",
              "9   1999 -2.867361  0.951977  3.100098 -4.994378\n",
              "10  2000 -4.490693  2.122680  2.285616 -3.875472\n",
              "11  2001 -3.171179  1.494588 -0.212396 -3.517826\n",
              "12  2002 -1.564018  0.935114 -0.020732 -3.978663\n",
              "13  2003 -2.838121  1.801356  0.044664 -3.518752\n",
              "14  2004 -4.302313  1.390012 -0.017836 -2.875659\n",
              "15  2005 -5.534095  1.742656  1.070826 -3.303557\n",
              "16  2006 -4.404539  2.457324  0.706574 -3.179275\n",
              "17  2007 -4.036119  1.222966 -0.229620 -3.582316\n",
              "18  2008 -4.753706  2.100483 -1.479965 -2.164683\n",
              "19  2009 -3.714292  1.314239  0.141265 -2.335541"
            ]
          },
          "metadata": {
            "tags": []
          },
          "execution_count": 244
        }
      ]
    },
    {
      "cell_type": "code",
      "metadata": {
        "colab": {
          "base_uri": "https://localhost:8080/",
          "height": 297
        },
        "id": "sJ4nwQ3NaT_g",
        "outputId": "ccb1ffee-5e5c-477d-ea60-13c1464f469d"
      },
      "source": [
        "sns.lineplot(x='Year', y='value', hue='variable', \n",
        "             data=pd.melt(data_preproc, ['Year']))"
      ],
      "execution_count": 242,
      "outputs": [
        {
          "output_type": "execute_result",
          "data": {
            "text/plain": [
              "<matplotlib.axes._subplots.AxesSubplot at 0x7fed62960790>"
            ]
          },
          "metadata": {
            "tags": []
          },
          "execution_count": 242
        },
        {
          "output_type": "display_data",
          "data": {
            "image/png": "[encoded data removed]",
            "text/plain": [
              "<Figure size 432x288 with 1 Axes>"
            ]
          },
          "metadata": {
            "tags": [],
            "needs_background": "light"
          }
        }
      ]
    },
    {
      "cell_type": "code",
      "metadata": {
        "id": "nBBICTUnaT7h"
      },
      "source": [
        ""
      ],
      "execution_count": null,
      "outputs": []
    },
    {
      "cell_type": "code",
      "metadata": {
        "id": "16hVdb0oaT3v"
      },
      "source": [
        ""
      ],
      "execution_count": null,
      "outputs": []
    },
    {
      "cell_type": "code",
      "metadata": {
        "id": "rtO0ut2-27Ai"
      },
      "source": [
        "county = Nassau"
      ],
      "execution_count": 120,
      "outputs": []
    },
    {
      "cell_type": "code",
      "metadata": {
        "colab": {
          "base_uri": "https://localhost:8080/"
        },
        "id": "Koj9oF0Q5oE1",
        "outputId": "01ad0d67-305c-4c9a-c83e-546b76037341"
      },
      "source": [
        "county.shape"
      ],
      "execution_count": 121,
      "outputs": [
        {
          "output_type": "execute_result",
          "data": {
            "text/plain": [
              "(20481, 26)"
            ]
          },
          "metadata": {
            "tags": []
          },
          "execution_count": 121
        }
      ]
    },
    {
      "cell_type": "markdown",
      "metadata": {
        "id": "ClBKNWfcOvrX"
      },
      "source": [
        "## Add new column MONTH YEAR"
      ]
    },
    {
      "cell_type": "code",
      "metadata": {
        "id": "uP5eetge5n_z"
      },
      "source": [
        "county['MonthYear'] = county.TitleDate.dt.strftime('%b %Y')"
      ],
      "execution_count": 124,
      "outputs": []
    },
    {
      "cell_type": "code",
      "metadata": {
        "colab": {
          "base_uri": "https://localhost:8080/",
          "height": 292
        },
        "id": "g7d7WL_K5n8J",
        "outputId": "fcf461f3-e7e9-4702-84d8-27daaead5469"
      },
      "source": [
        "county.head()"
      ],
      "execution_count": 125,
      "outputs": [
        {
          "output_type": "execute_result",
          "data": {
            "text/html": [
              "<div>\n",
              "<style scoped>\n",
              "    .dataframe tbody tr th:only-of-type {\n",
              "        vertical-align: middle;\n",
              "    }\n",
              "\n",
              "    .dataframe tbody tr th {\n",
              "        vertical-align: top;\n",
              "    }\n",
              "\n",
              "    .dataframe thead th {\n",
              "        text-align: right;\n",
              "    }\n",
              "</style>\n",
              "<table border=\"1\" class=\"dataframe\">\n",
              "  <thead>\n",
              "    <tr style=\"text-align: right;\">\n",
              "      <th></th>\n",
              "      <th>St #</th>\n",
              "      <th>Dr</th>\n",
              "      <th>Street Name</th>\n",
              "      <th>Sfx</th>\n",
              "      <th>Town</th>\n",
              "      <th>Zip</th>\n",
              "      <th>ListPrice</th>\n",
              "      <th>SoldPrice</th>\n",
              "      <th>Style</th>\n",
              "      <th>Br</th>\n",
              "      <th>Bath</th>\n",
              "      <th>Unnamed: 11</th>\n",
              "      <th>Unnamed: 12</th>\n",
              "      <th>SD</th>\n",
              "      <th>Tot Tax</th>\n",
              "      <th>LSC</th>\n",
              "      <th>ListDate</th>\n",
              "      <th>ExpDate</th>\n",
              "      <th>ContDate</th>\n",
              "      <th>TitleDate</th>\n",
              "      <th>DOM</th>\n",
              "      <th>Det</th>\n",
              "      <th>#F</th>\n",
              "      <th>K</th>\n",
              "      <th>ML#</th>\n",
              "      <th>MonthYear</th>\n",
              "    </tr>\n",
              "  </thead>\n",
              "  <tbody>\n",
              "    <tr>\n",
              "      <th>0</th>\n",
              "      <td>923</td>\n",
              "      <td>NaN</td>\n",
              "      <td>Adams</td>\n",
              "      <td>Street</td>\n",
              "      <td>Baldwin</td>\n",
              "      <td>11510</td>\n",
              "      <td>199845</td>\n",
              "      <td>183000.0</td>\n",
              "      <td>Cape</td>\n",
              "      <td>2</td>\n",
              "      <td>1.0</td>\n",
              "      <td>None,Unfinished</td>\n",
              "      <td>NaN</td>\n",
              "      <td>10.0</td>\n",
              "      <td>3973.00</td>\n",
              "      <td>CL</td>\n",
              "      <td>7/08/2008</td>\n",
              "      <td>10/07/2008</td>\n",
              "      <td>7/29/2008</td>\n",
              "      <td>2008-09-05</td>\n",
              "      <td>21.0</td>\n",
              "      <td>Det</td>\n",
              "      <td>1</td>\n",
              "      <td>1.0</td>\n",
              "      <td>2095554</td>\n",
              "      <td>Sep 2008</td>\n",
              "    </tr>\n",
              "    <tr>\n",
              "      <th>1</th>\n",
              "      <td>899</td>\n",
              "      <td>NaN</td>\n",
              "      <td>Kings</td>\n",
              "      <td>Parkway</td>\n",
              "      <td>Baldwin</td>\n",
              "      <td>11510</td>\n",
              "      <td>204900</td>\n",
              "      <td>192500.0</td>\n",
              "      <td>Colonial</td>\n",
              "      <td>3</td>\n",
              "      <td>2.0</td>\n",
              "      <td>Full,Finished</td>\n",
              "      <td>1 Car Detached</td>\n",
              "      <td>10.0</td>\n",
              "      <td>7860.00</td>\n",
              "      <td>CL</td>\n",
              "      <td>4/29/2008</td>\n",
              "      <td>7/28/2008</td>\n",
              "      <td>5/14/2008</td>\n",
              "      <td>2008-05-28</td>\n",
              "      <td>15.0</td>\n",
              "      <td>Det</td>\n",
              "      <td>1</td>\n",
              "      <td>1.0</td>\n",
              "      <td>2074371</td>\n",
              "      <td>May 2008</td>\n",
              "    </tr>\n",
              "    <tr>\n",
              "      <th>2</th>\n",
              "      <td>1842</td>\n",
              "      <td>NaN</td>\n",
              "      <td>Voshage</td>\n",
              "      <td>Street</td>\n",
              "      <td>Baldwin</td>\n",
              "      <td>11510</td>\n",
              "      <td>209900</td>\n",
              "      <td>209900.0</td>\n",
              "      <td>Ranch</td>\n",
              "      <td>2</td>\n",
              "      <td>1.0</td>\n",
              "      <td>Full,Unfinished</td>\n",
              "      <td>1 Car Detached</td>\n",
              "      <td>10.0</td>\n",
              "      <td>7417.06</td>\n",
              "      <td>CL</td>\n",
              "      <td>10/20/2008</td>\n",
              "      <td>5/14/2009</td>\n",
              "      <td>1/26/2009</td>\n",
              "      <td>2009-04-28</td>\n",
              "      <td>98.0</td>\n",
              "      <td>Det</td>\n",
              "      <td>1</td>\n",
              "      <td>1.0</td>\n",
              "      <td>2128508</td>\n",
              "      <td>Apr 2009</td>\n",
              "    </tr>\n",
              "    <tr>\n",
              "      <th>3</th>\n",
              "      <td>688</td>\n",
              "      <td>NaN</td>\n",
              "      <td>New York</td>\n",
              "      <td>Avenue</td>\n",
              "      <td>Baldwin</td>\n",
              "      <td>11510</td>\n",
              "      <td>237900</td>\n",
              "      <td>215000.0</td>\n",
              "      <td>Ranch</td>\n",
              "      <td>2</td>\n",
              "      <td>2.0</td>\n",
              "      <td>Full,Finished</td>\n",
              "      <td>1 Car Detached</td>\n",
              "      <td>10.0</td>\n",
              "      <td>8123.00</td>\n",
              "      <td>CL</td>\n",
              "      <td>9/30/2008</td>\n",
              "      <td>5/31/2009</td>\n",
              "      <td>1/04/2009</td>\n",
              "      <td>2009-04-17</td>\n",
              "      <td>96.0</td>\n",
              "      <td>Det</td>\n",
              "      <td>1</td>\n",
              "      <td>1.0</td>\n",
              "      <td>2121419</td>\n",
              "      <td>Apr 2009</td>\n",
              "    </tr>\n",
              "    <tr>\n",
              "      <th>4</th>\n",
              "      <td>2778</td>\n",
              "      <td>NaN</td>\n",
              "      <td>Harvard</td>\n",
              "      <td>Place</td>\n",
              "      <td>Baldwin</td>\n",
              "      <td>11510</td>\n",
              "      <td>239000</td>\n",
              "      <td>239000.0</td>\n",
              "      <td>Ranch</td>\n",
              "      <td>2</td>\n",
              "      <td>1.0</td>\n",
              "      <td>Full,Unfinished</td>\n",
              "      <td>NaN</td>\n",
              "      <td>10.0</td>\n",
              "      <td>8306.00</td>\n",
              "      <td>CL</td>\n",
              "      <td>2/22/2008</td>\n",
              "      <td>7/31/2009</td>\n",
              "      <td>4/09/2009</td>\n",
              "      <td>2009-07-03</td>\n",
              "      <td>412.0</td>\n",
              "      <td>Det</td>\n",
              "      <td>1</td>\n",
              "      <td>1.0</td>\n",
              "      <td>2050378</td>\n",
              "      <td>Jul 2009</td>\n",
              "    </tr>\n",
              "  </tbody>\n",
              "</table>\n",
              "</div>"
            ],
            "text/plain": [
              "   St #   Dr Street Name      Sfx     Town  ...  Det  #F    K      ML#  MonthYear\n",
              "0   923  NaN       Adams   Street  Baldwin  ...  Det   1  1.0  2095554   Sep 2008\n",
              "1   899  NaN       Kings  Parkway  Baldwin  ...  Det   1  1.0  2074371   May 2008\n",
              "2  1842  NaN     Voshage   Street  Baldwin  ...  Det   1  1.0  2128508   Apr 2009\n",
              "3   688  NaN    New York   Avenue  Baldwin  ...  Det   1  1.0  2121419   Apr 2009\n",
              "4  2778  NaN     Harvard    Place  Baldwin  ...  Det   1  1.0  2050378   Jul 2009\n",
              "\n",
              "[5 rows x 26 columns]"
            ]
          },
          "metadata": {
            "tags": []
          },
          "execution_count": 125
        }
      ]
    },
    {
      "cell_type": "code",
      "metadata": {
        "colab": {
          "base_uri": "https://localhost:8080/"
        },
        "id": "2v-uvi2kBm2F",
        "outputId": "a95b3107-181d-4d64-9138-2899eb27209e"
      },
      "source": [
        "county.info()"
      ],
      "execution_count": 127,
      "outputs": [
        {
          "output_type": "stream",
          "text": [
            "<class 'pandas.core.frame.DataFrame'>\n",
            "Int64Index: 20481 entries, 0 to 48105\n",
            "Data columns (total 26 columns):\n",
            " #   Column       Non-Null Count  Dtype         \n",
            "---  ------       --------------  -----         \n",
            " 0   St #         20475 non-null  object        \n",
            " 1   Dr           1075 non-null   object        \n",
            " 2   Street Name  20481 non-null  object        \n",
            " 3   Sfx          20174 non-null  object        \n",
            " 4   Town         20481 non-null  object        \n",
            " 5   Zip          20481 non-null  int64         \n",
            " 6   ListPrice    20481 non-null  int64         \n",
            " 7   SoldPrice    19415 non-null  float64       \n",
            " 8   Style        20481 non-null  object        \n",
            " 9   Br           20481 non-null  int64         \n",
            " 10  Bath         20476 non-null  float64       \n",
            " 11  Unnamed: 11  20370 non-null  object        \n",
            " 12  Unnamed: 12  14950 non-null  object        \n",
            " 13  SD           18473 non-null  float64       \n",
            " 14  Tot Tax      20478 non-null  float64       \n",
            " 15  LSC          20481 non-null  object        \n",
            " 16  ListDate     20481 non-null  object        \n",
            " 17  ExpDate      20481 non-null  object        \n",
            " 18  ContDate     19499 non-null  object        \n",
            " 19  TitleDate    19415 non-null  datetime64[ns]\n",
            " 20  DOM          19514 non-null  float64       \n",
            " 21  Det          20481 non-null  object        \n",
            " 22  #F           20481 non-null  int64         \n",
            " 23  K            20462 non-null  float64       \n",
            " 24  ML#          20481 non-null  category      \n",
            " 25  MonthYear    19415 non-null  object        \n",
            "dtypes: category(1), datetime64[ns](1), float64(6), int64(4), object(14)\n",
            "memory usage: 4.9+ MB\n"
          ],
          "name": "stdout"
        }
      ]
    },
    {
      "cell_type": "code",
      "metadata": {
        "id": "V8W5QKAnCGjf"
      },
      "source": [
        "#convert monthYear to date\n",
        "#Nassau['TitleDate'] = pd.to_datetime(Nassau['TitleDate'].str.strip())\n",
        "county['MonthYear'] =  pd.to_datetime(county['MonthYear'].str.strip())\n"
      ],
      "execution_count": 130,
      "outputs": []
    },
    {
      "cell_type": "code",
      "metadata": {
        "colab": {
          "base_uri": "https://localhost:8080/"
        },
        "id": "cdY7lAsFCj6e",
        "outputId": "28483602-4e23-48c2-da3c-6e1d93ebf0f1"
      },
      "source": [
        "county.info()"
      ],
      "execution_count": 131,
      "outputs": [
        {
          "output_type": "stream",
          "text": [
            "<class 'pandas.core.frame.DataFrame'>\n",
            "Int64Index: 20481 entries, 0 to 48105\n",
            "Data columns (total 26 columns):\n",
            " #   Column       Non-Null Count  Dtype         \n",
            "---  ------       --------------  -----         \n",
            " 0   St #         20475 non-null  object        \n",
            " 1   Dr           1075 non-null   object        \n",
            " 2   Street Name  20481 non-null  object        \n",
            " 3   Sfx          20174 non-null  object        \n",
            " 4   Town         20481 non-null  object        \n",
            " 5   Zip          20481 non-null  int64         \n",
            " 6   ListPrice    20481 non-null  int64         \n",
            " 7   SoldPrice    19415 non-null  float64       \n",
            " 8   Style        20481 non-null  object        \n",
            " 9   Br           20481 non-null  int64         \n",
            " 10  Bath         20476 non-null  float64       \n",
            " 11  Unnamed: 11  20370 non-null  object        \n",
            " 12  Unnamed: 12  14950 non-null  object        \n",
            " 13  SD           18473 non-null  float64       \n",
            " 14  Tot Tax      20478 non-null  float64       \n",
            " 15  LSC          20481 non-null  object        \n",
            " 16  ListDate     20481 non-null  object        \n",
            " 17  ExpDate      20481 non-null  object        \n",
            " 18  ContDate     19499 non-null  object        \n",
            " 19  TitleDate    19415 non-null  datetime64[ns]\n",
            " 20  DOM          19514 non-null  float64       \n",
            " 21  Det          20481 non-null  object        \n",
            " 22  #F           20481 non-null  int64         \n",
            " 23  K            20462 non-null  float64       \n",
            " 24  ML#          20481 non-null  category      \n",
            " 25  MonthYear    19415 non-null  datetime64[ns]\n",
            "dtypes: category(1), datetime64[ns](2), float64(6), int64(4), object(13)\n",
            "memory usage: 4.9+ MB\n"
          ],
          "name": "stdout"
        }
      ]
    },
    {
      "cell_type": "code",
      "metadata": {
        "id": "IOzCtHgI_1LW"
      },
      "source": [
        "#https://stackoverflow.com/questions/56191117/pandas-dataframe-group-by-two-columns-and-then-average-the-third-column/56191270\n"
      ],
      "execution_count": null,
      "outputs": []
    },
    {
      "cell_type": "code",
      "metadata": {
        "colab": {
          "base_uri": "https://localhost:8080/"
        },
        "id": "unSjlKWE_1He",
        "outputId": "7730dce5-40c1-47b5-b4c6-8a44fca8984a"
      },
      "source": [
        "test = county.groupby(['Town' ,'MonthYear'])['SoldPrice'].mean()\n",
        "test.head(200)"
      ],
      "execution_count": 134,
      "outputs": [
        {
          "output_type": "execute_result",
          "data": {
            "text/plain": [
              "Town            MonthYear \n",
              "Baldwin         2006-03-01    450000.000000\n",
              "                2006-04-01    422285.714286\n",
              "                2006-05-01    406333.222222\n",
              "                2006-06-01    442977.272727\n",
              "                2006-07-01    456506.756757\n",
              "                                  ...      \n",
              "Baldwin Harbor  2007-05-01    504916.666667\n",
              "                2007-06-01    373833.333333\n",
              "                2007-07-01    463142.857143\n",
              "                2007-08-01    635833.333333\n",
              "                2007-09-01    444875.000000\n",
              "Name: SoldPrice, Length: 200, dtype: float64"
            ]
          },
          "metadata": {
            "tags": []
          },
          "execution_count": 134
        }
      ]
    },
    {
      "cell_type": "code",
      "metadata": {
        "colab": {
          "base_uri": "https://localhost:8080/"
        },
        "id": "7j8jFnS2_1Do",
        "outputId": "1fd6e5c0-4114-402f-8e6c-ac9138d77563"
      },
      "source": [
        "test"
      ],
      "execution_count": 135,
      "outputs": [
        {
          "output_type": "execute_result",
          "data": {
            "text/plain": [
              "Town            MonthYear \n",
              "Baldwin         2006-03-01    450000.000000\n",
              "                2006-04-01    422285.714286\n",
              "                2006-05-01    406333.222222\n",
              "                2006-06-01    442977.272727\n",
              "                2006-07-01    456506.756757\n",
              "                                  ...      \n",
              "S. Floral Park  2020-11-01    560000.000000\n",
              "                2020-12-01    502499.500000\n",
              "                2021-01-01    532500.000000\n",
              "                2021-02-01    505000.000000\n",
              "                2021-03-01    532666.666667\n",
              "Name: SoldPrice, Length: 1524, dtype: float64"
            ]
          },
          "metadata": {
            "tags": []
          },
          "execution_count": 135
        }
      ]
    },
    {
      "cell_type": "code",
      "metadata": {
        "id": "FOsej7Qw_0_S"
      },
      "source": [
        ""
      ],
      "execution_count": null,
      "outputs": []
    },
    {
      "cell_type": "code",
      "metadata": {
        "id": "yqnCbVvY_07v"
      },
      "source": [
        ""
      ],
      "execution_count": null,
      "outputs": []
    },
    {
      "cell_type": "code",
      "metadata": {
        "id": "99rDscw7_0wi"
      },
      "source": [
        ""
      ],
      "execution_count": null,
      "outputs": []
    },
    {
      "cell_type": "code",
      "metadata": {
        "colab": {
          "base_uri": "https://localhost:8080/",
          "height": 324
        },
        "id": "gBt5jkhj6pk2",
        "outputId": "029e69b9-8bf4-426d-e008-b7e6fe950ead"
      },
      "source": [
        "county = county.groupby(['MonthYear','Town']).SoldPrice.mean()\n"
      ],
      "execution_count": 113,
      "outputs": [
        {
          "output_type": "error",
          "ename": "KeyError",
          "evalue": "ignored",
          "traceback": [
            "\u001b[0;31m---------------------------------------------------------------------------\u001b[0m",
            "\u001b[0;31mKeyError\u001b[0m                                  Traceback (most recent call last)",
            "\u001b[0;32m<ipython-input-113-2eca7ba3bb6f>\u001b[0m in \u001b[0;36m<module>\u001b[0;34m()\u001b[0m\n\u001b[0;32m----> 1\u001b[0;31m \u001b[0mcounty\u001b[0m \u001b[0;34m=\u001b[0m \u001b[0mcounty\u001b[0m\u001b[0;34m.\u001b[0m\u001b[0mgroupby\u001b[0m\u001b[0;34m(\u001b[0m\u001b[0;34m[\u001b[0m\u001b[0;34m'MonthYear'\u001b[0m\u001b[0;34m,\u001b[0m\u001b[0;34m'Town'\u001b[0m\u001b[0;34m]\u001b[0m\u001b[0;34m)\u001b[0m\u001b[0;34m.\u001b[0m\u001b[0mSoldPrice\u001b[0m\u001b[0;34m.\u001b[0m\u001b[0mmean\u001b[0m\u001b[0;34m(\u001b[0m\u001b[0;34m)\u001b[0m\u001b[0;34m\u001b[0m\u001b[0;34m\u001b[0m\u001b[0m\n\u001b[0m",
            "\u001b[0;32m/usr/local/lib/python3.7/dist-packages/pandas/core/series.py\u001b[0m in \u001b[0;36mgroupby\u001b[0;34m(self, by, axis, level, as_index, sort, group_keys, squeeze, observed, dropna)\u001b[0m\n\u001b[1;32m   1744\u001b[0m             \u001b[0msqueeze\u001b[0m\u001b[0;34m=\u001b[0m\u001b[0msqueeze\u001b[0m\u001b[0;34m,\u001b[0m\u001b[0;34m\u001b[0m\u001b[0;34m\u001b[0m\u001b[0m\n\u001b[1;32m   1745\u001b[0m             \u001b[0mobserved\u001b[0m\u001b[0;34m=\u001b[0m\u001b[0mobserved\u001b[0m\u001b[0;34m,\u001b[0m\u001b[0;34m\u001b[0m\u001b[0;34m\u001b[0m\u001b[0m\n\u001b[0;32m-> 1746\u001b[0;31m             \u001b[0mdropna\u001b[0m\u001b[0;34m=\u001b[0m\u001b[0mdropna\u001b[0m\u001b[0;34m,\u001b[0m\u001b[0;34m\u001b[0m\u001b[0;34m\u001b[0m\u001b[0m\n\u001b[0m\u001b[1;32m   1747\u001b[0m         )\n\u001b[1;32m   1748\u001b[0m \u001b[0;34m\u001b[0m\u001b[0m\n",
            "\u001b[0;32m/usr/local/lib/python3.7/dist-packages/pandas/core/groupby/groupby.py\u001b[0m in \u001b[0;36m__init__\u001b[0;34m(self, obj, keys, axis, level, grouper, exclusions, selection, as_index, sort, group_keys, squeeze, observed, mutated, dropna)\u001b[0m\n\u001b[1;32m    531\u001b[0m                 \u001b[0mobserved\u001b[0m\u001b[0;34m=\u001b[0m\u001b[0mobserved\u001b[0m\u001b[0;34m,\u001b[0m\u001b[0;34m\u001b[0m\u001b[0;34m\u001b[0m\u001b[0m\n\u001b[1;32m    532\u001b[0m                 \u001b[0mmutated\u001b[0m\u001b[0;34m=\u001b[0m\u001b[0mself\u001b[0m\u001b[0;34m.\u001b[0m\u001b[0mmutated\u001b[0m\u001b[0;34m,\u001b[0m\u001b[0;34m\u001b[0m\u001b[0;34m\u001b[0m\u001b[0m\n\u001b[0;32m--> 533\u001b[0;31m                 \u001b[0mdropna\u001b[0m\u001b[0;34m=\u001b[0m\u001b[0mself\u001b[0m\u001b[0;34m.\u001b[0m\u001b[0mdropna\u001b[0m\u001b[0;34m,\u001b[0m\u001b[0;34m\u001b[0m\u001b[0;34m\u001b[0m\u001b[0m\n\u001b[0m\u001b[1;32m    534\u001b[0m             )\n\u001b[1;32m    535\u001b[0m \u001b[0;34m\u001b[0m\u001b[0m\n",
            "\u001b[0;32m/usr/local/lib/python3.7/dist-packages/pandas/core/groupby/grouper.py\u001b[0m in \u001b[0;36mget_grouper\u001b[0;34m(obj, key, axis, level, sort, observed, mutated, validate, dropna)\u001b[0m\n\u001b[1;32m    784\u001b[0m                 \u001b[0min_axis\u001b[0m\u001b[0;34m,\u001b[0m \u001b[0mname\u001b[0m\u001b[0;34m,\u001b[0m \u001b[0mlevel\u001b[0m\u001b[0;34m,\u001b[0m \u001b[0mgpr\u001b[0m \u001b[0;34m=\u001b[0m \u001b[0;32mFalse\u001b[0m\u001b[0;34m,\u001b[0m \u001b[0;32mNone\u001b[0m\u001b[0;34m,\u001b[0m \u001b[0mgpr\u001b[0m\u001b[0;34m,\u001b[0m \u001b[0;32mNone\u001b[0m\u001b[0;34m\u001b[0m\u001b[0;34m\u001b[0m\u001b[0m\n\u001b[1;32m    785\u001b[0m             \u001b[0;32melse\u001b[0m\u001b[0;34m:\u001b[0m\u001b[0;34m\u001b[0m\u001b[0;34m\u001b[0m\u001b[0m\n\u001b[0;32m--> 786\u001b[0;31m                 \u001b[0;32mraise\u001b[0m \u001b[0mKeyError\u001b[0m\u001b[0;34m(\u001b[0m\u001b[0mgpr\u001b[0m\u001b[0;34m)\u001b[0m\u001b[0;34m\u001b[0m\u001b[0;34m\u001b[0m\u001b[0m\n\u001b[0m\u001b[1;32m    787\u001b[0m         \u001b[0;32melif\u001b[0m \u001b[0misinstance\u001b[0m\u001b[0;34m(\u001b[0m\u001b[0mgpr\u001b[0m\u001b[0;34m,\u001b[0m \u001b[0mGrouper\u001b[0m\u001b[0;34m)\u001b[0m \u001b[0;32mand\u001b[0m \u001b[0mgpr\u001b[0m\u001b[0;34m.\u001b[0m\u001b[0mkey\u001b[0m \u001b[0;32mis\u001b[0m \u001b[0;32mnot\u001b[0m \u001b[0;32mNone\u001b[0m\u001b[0;34m:\u001b[0m\u001b[0;34m\u001b[0m\u001b[0;34m\u001b[0m\u001b[0m\n\u001b[1;32m    788\u001b[0m             \u001b[0;31m# Add key to exclusions\u001b[0m\u001b[0;34m\u001b[0m\u001b[0;34m\u001b[0m\u001b[0;34m\u001b[0m\u001b[0m\n",
            "\u001b[0;31mKeyError\u001b[0m: 'MonthYear'"
          ]
        }
      ]
    },
    {
      "cell_type": "code",
      "metadata": {
        "colab": {
          "base_uri": "https://localhost:8080/"
        },
        "id": "Fy6K6pkk-vKl",
        "outputId": "7c209c0f-4ecc-4272-c639-e9e59a5bc86d"
      },
      "source": [
        "county.head(5)"
      ],
      "execution_count": 110,
      "outputs": [
        {
          "output_type": "execute_result",
          "data": {
            "text/plain": [
              "Town\n",
              "Baldwin            397255.939374\n",
              "Baldwin Harbor     445362.487013\n",
              "Elmont             384109.982358\n",
              "Floral Park        551201.889932\n",
              "Floral Park Ctr    394250.000000\n",
              "Name: SoldPrice, dtype: float64"
            ]
          },
          "metadata": {
            "tags": []
          },
          "execution_count": 110
        }
      ]
    },
    {
      "cell_type": "code",
      "metadata": {
        "colab": {
          "base_uri": "https://localhost:8080/"
        },
        "id": "O-ys3wTZ8Hcn",
        "outputId": "c582a97e-988f-4481-da81-e492f41f90e3"
      },
      "source": [
        "# https://cmdlinetips.com/2019/10/how-to-add-group-level-summary-statistic-as-a-new-column-in-pandas/\n",
        "data_url = 'http://bit.ly/2cLzoxH'\n",
        "# read data from url as pandas dataframe\n",
        "gapminder = pd.read_csv(data_url)\n",
        "print(gapminder.head(3))"
      ],
      "execution_count": 100,
      "outputs": [
        {
          "output_type": "stream",
          "text": [
            "       country  year         pop continent  lifeExp   gdpPercap\n",
            "0  Afghanistan  1952   8425333.0      Asia   28.801  779.445314\n",
            "1  Afghanistan  1957   9240934.0      Asia   30.332  820.853030\n",
            "2  Afghanistan  1962  10267083.0      Asia   31.997  853.100710\n"
          ],
          "name": "stdout"
        }
      ]
    },
    {
      "cell_type": "code",
      "metadata": {
        "colab": {
          "base_uri": "https://localhost:8080/"
        },
        "id": "4ZDw3v988HY-",
        "outputId": "0d10edf9-d206-4e20-d683-f9c55fe90209"
      },
      "source": [
        "lifeExp_per_continent = gapminder.groupby('continent').lifeExp.mean()\n",
        "lifeExp_per_continent\n"
      ],
      "execution_count": 101,
      "outputs": [
        {
          "output_type": "execute_result",
          "data": {
            "text/plain": [
              "continent\n",
              "Africa      48.865330\n",
              "Americas    64.658737\n",
              "Asia        60.064903\n",
              "Europe      71.903686\n",
              "Oceania     74.326208\n",
              "Name: lifeExp, dtype: float64"
            ]
          },
          "metadata": {
            "tags": []
          },
          "execution_count": 101
        }
      ]
    },
    {
      "cell_type": "code",
      "metadata": {
        "colab": {
          "base_uri": "https://localhost:8080/"
        },
        "id": "no3pKzF_8wrA",
        "outputId": "8a323ac2-50ab-425f-c62d-f2dd9310cca3"
      },
      "source": [
        "#But to add as new column within the df\n",
        "gapminder.groupby('continent').lifeExp.transform('mean')"
      ],
      "execution_count": 102,
      "outputs": [
        {
          "output_type": "execute_result",
          "data": {
            "text/plain": [
              "0       60.064903\n",
              "1       60.064903\n",
              "2       60.064903\n",
              "3       60.064903\n",
              "4       60.064903\n",
              "          ...    \n",
              "1699    48.865330\n",
              "1700    48.865330\n",
              "1701    48.865330\n",
              "1702    48.865330\n",
              "1703    48.865330\n",
              "Name: lifeExp, Length: 1704, dtype: float64"
            ]
          },
          "metadata": {
            "tags": []
          },
          "execution_count": 102
        }
      ]
    },
    {
      "cell_type": "code",
      "metadata": {
        "id": "35acjtKh9GlR"
      },
      "source": [
        "gapminder['lifeExp_mean'] = gapminder.groupby('continent').lifeExp.transform('mean')"
      ],
      "execution_count": 103,
      "outputs": []
    },
    {
      "cell_type": "code",
      "metadata": {
        "colab": {
          "base_uri": "https://localhost:8080/",
          "height": 204
        },
        "id": "g_mEYcBf9Ghi",
        "outputId": "6efa1d69-fe13-487a-e1a8-6741ae4ba39c"
      },
      "source": [
        "gapminder.head(5)"
      ],
      "execution_count": 104,
      "outputs": [
        {
          "output_type": "execute_result",
          "data": {
            "text/html": [
              "<div>\n",
              "<style scoped>\n",
              "    .dataframe tbody tr th:only-of-type {\n",
              "        vertical-align: middle;\n",
              "    }\n",
              "\n",
              "    .dataframe tbody tr th {\n",
              "        vertical-align: top;\n",
              "    }\n",
              "\n",
              "    .dataframe thead th {\n",
              "        text-align: right;\n",
              "    }\n",
              "</style>\n",
              "<table border=\"1\" class=\"dataframe\">\n",
              "  <thead>\n",
              "    <tr style=\"text-align: right;\">\n",
              "      <th></th>\n",
              "      <th>country</th>\n",
              "      <th>year</th>\n",
              "      <th>pop</th>\n",
              "      <th>continent</th>\n",
              "      <th>lifeExp</th>\n",
              "      <th>gdpPercap</th>\n",
              "      <th>lifeExp_mean</th>\n",
              "    </tr>\n",
              "  </thead>\n",
              "  <tbody>\n",
              "    <tr>\n",
              "      <th>0</th>\n",
              "      <td>Afghanistan</td>\n",
              "      <td>1952</td>\n",
              "      <td>8425333.0</td>\n",
              "      <td>Asia</td>\n",
              "      <td>28.801</td>\n",
              "      <td>779.445314</td>\n",
              "      <td>60.064903</td>\n",
              "    </tr>\n",
              "    <tr>\n",
              "      <th>1</th>\n",
              "      <td>Afghanistan</td>\n",
              "      <td>1957</td>\n",
              "      <td>9240934.0</td>\n",
              "      <td>Asia</td>\n",
              "      <td>30.332</td>\n",
              "      <td>820.853030</td>\n",
              "      <td>60.064903</td>\n",
              "    </tr>\n",
              "    <tr>\n",
              "      <th>2</th>\n",
              "      <td>Afghanistan</td>\n",
              "      <td>1962</td>\n",
              "      <td>10267083.0</td>\n",
              "      <td>Asia</td>\n",
              "      <td>31.997</td>\n",
              "      <td>853.100710</td>\n",
              "      <td>60.064903</td>\n",
              "    </tr>\n",
              "    <tr>\n",
              "      <th>3</th>\n",
              "      <td>Afghanistan</td>\n",
              "      <td>1967</td>\n",
              "      <td>11537966.0</td>\n",
              "      <td>Asia</td>\n",
              "      <td>34.020</td>\n",
              "      <td>836.197138</td>\n",
              "      <td>60.064903</td>\n",
              "    </tr>\n",
              "    <tr>\n",
              "      <th>4</th>\n",
              "      <td>Afghanistan</td>\n",
              "      <td>1972</td>\n",
              "      <td>13079460.0</td>\n",
              "      <td>Asia</td>\n",
              "      <td>36.088</td>\n",
              "      <td>739.981106</td>\n",
              "      <td>60.064903</td>\n",
              "    </tr>\n",
              "  </tbody>\n",
              "</table>\n",
              "</div>"
            ],
            "text/plain": [
              "       country  year         pop continent  lifeExp   gdpPercap  lifeExp_mean\n",
              "0  Afghanistan  1952   8425333.0      Asia   28.801  779.445314     60.064903\n",
              "1  Afghanistan  1957   9240934.0      Asia   30.332  820.853030     60.064903\n",
              "2  Afghanistan  1962  10267083.0      Asia   31.997  853.100710     60.064903\n",
              "3  Afghanistan  1967  11537966.0      Asia   34.020  836.197138     60.064903\n",
              "4  Afghanistan  1972  13079460.0      Asia   36.088  739.981106     60.064903"
            ]
          },
          "metadata": {
            "tags": []
          },
          "execution_count": 104
        }
      ]
    }
  ]
}