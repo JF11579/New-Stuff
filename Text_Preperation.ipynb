{
  "nbformat": 4,
  "nbformat_minor": 0,
  "metadata": {
    "colab": {
      "name": "Text_Preperation.ipynb",
      "provenance": [],
      "collapsed_sections": [],
      "authorship_tag": "ABX9TyNeco0yktOlC490RaMS/bF6",
      "include_colab_link": true
    },
    "kernelspec": {
      "name": "python3",
      "display_name": "Python 3"
    },
    "language_info": {
      "name": "python"
    }
  },
  "cells": [
    {
      "cell_type": "markdown",
      "metadata": {
        "id": "view-in-github",
        "colab_type": "text"
      },
      "source": [
        "<a href=\"https://colab.research.google.com/github/JF11579/New-Stuff/blob/main/Text_Preperation.ipynb\" target=\"_parent\"><img src=\"https://colab.research.google.com/assets/colab-badge.svg\" alt=\"Open In Colab\"/></a>"
      ]
    },
    {
      "cell_type": "markdown",
      "metadata": {
        "id": "zlBUgW3ndaAP"
      },
      "source": [
        "https://medium.com/@duyanhnguyen_38925/text-processing-cf77db1a0c99"
      ]
    },
    {
      "cell_type": "markdown",
      "metadata": {
        "id": "ayMMDDRXtu1k"
      },
      "source": [
        ""
      ]
    },
    {
      "cell_type": "markdown",
      "metadata": {
        "id": "mhIzM3i4tvfS"
      },
      "source": [
        "https://medium.com/analytics-vidhya/natural-language-processing-with-python-cb3f83d5a393\n",
        "\n",
        "https://medium.com/analytics-vidhya/natural-language-processing-with-python-cb3f83d5a393"
      ]
    },
    {
      "cell_type": "markdown",
      "metadata": {
        "id": "Z-mMTFhvh_Hd"
      },
      "source": [
        "For COLAB \n",
        "\n",
        "https://colab.research.google.com/github/gal-a/blog/blob/master/docs/notebooks/nlp/nltk_preprocess.ipynb#scrollTo=-44aMwUcQZxm"
      ]
    },
    {
      "cell_type": "code",
      "metadata": {
        "id": "-Nwc47VddV0T"
      },
      "source": [
        ""
      ],
      "execution_count": null,
      "outputs": []
    },
    {
      "cell_type": "code",
      "metadata": {
        "id": "U2V0-LZhdZSZ"
      },
      "source": [
        "import os"
      ],
      "execution_count": null,
      "outputs": []
    },
    {
      "cell_type": "code",
      "metadata": {
        "colab": {
          "base_uri": "https://localhost:8080/"
        },
        "id": "INJn06-cd9Fq",
        "outputId": "1b6aa887-80ab-4275-fc6b-483983e71365"
      },
      "source": [
        "#read in txt file\n",
        "with open(\"/content/Autopsy_report.txt\", \"r\") as f:\n",
        "  text = f.read()\n",
        "  print(text)"
      ],
      "execution_count": null,
      "outputs": [
        {
          "output_type": "stream",
          "text": [
            "﻿AUTOPSY REPORT\n",
            "Autopsy: BPD110094-67F DECEDENT: John Anderson\n",
            "Autopsy Authorized by: Dr. Smith for City of Indianapolis. Identified by: fingerprints and dental comparison.\n",
            "Rigor: absent\n",
            "Livor: purple Distribution: posterior Age: 34\n",
            "Race: White\n",
            "Sex: Male\n",
            "Length: 72 inches Weight: 185 pounds Eyes: Hazel\n",
            "Hair: Brown Circumcised: Yes\n",
            "Body Heat: Refrigerated\n",
            "CLOTHING:\n",
            "1. Blue dress shirt, blood-stained and scorched. Multiple tears of different sizes on the front. Both lower arms are shredded.\n",
            "2. White T-shirt, blood-stained and scorched with multiple tears of different sizes on the front matching the tears on the blue dress shirt.\n",
            "3. Red tie shredded, scorched and blood-stained.\n",
            "4. Brown pants, blood-stained with irregular tears, scorching, and soot\n",
            "deposition, primarily on the left upper leg and crotch.\n",
            "5. Brown belt.\n",
            "6. White underwear briefs, torn on left side with searing, soot deposition and blood stains.\n",
            "7. Brown socks.\n",
            "8. Black shoes.\n",
            "EXTERNAL EXAMINATION:\n",
            "Well developed, well nourished, white male with multiple blast and fragment injuries including amputations of both upper extremities at mid-forearm with partial fragmentation of the detached portions of the extremities. There are lacerations of face and scalp with fractures of the calvarium, skull base and facial bones. The cranial vault is empty with fragments of brain recovered separately.\n",
            "\n",
            "\n",
            "   There are multiple penetrating fragment injuries of the anterior thorax and left thigh. There are gaping lacerations of the left lower abdomen and thigh with partial evisceration of sigmoid colon and small intestine. The penis and left testicle are absent. There are flash burns of the anterior thorax, face and left thigh.\n",
            "X-RAYS:\n",
            "Total body x-rays demonstrate comminuted fractures of the face and skull, multiple anterior rib fractures, comminuted fractures of pelvis and proximal left femur, amputations of distal upper extremities, and multiple metallic fragments in the head, thorax, and thighs.\n",
            "HISTORY:\n",
            "Injured by exploding package.\n",
            "PATHOLOGICAL DIAGNOSES:\n",
            "1. Blast and fragment injuries to head\n",
            "a. Comminuted fractures of calvarium, skull base and facial bones\n",
            "b. Avulsion and fragmentation of brain\n",
            "c. Avulsion and fragmentation of eyes\n",
            "d. Penetrating fragment injuries to lower face\n",
            "e. Flash burns to lower face\n",
            "2. Blast and fragment injuries to trunk\n",
            "a. Multiple perforation injuries with multiple lacerations of lungs, heart,\n",
            "liver, spleen, and intestines\n",
            "b. Multiple fractures and perforations of anterior ribs and sternum\n",
            "c. Laceration of left lower abdominal wall with partial evisceration of\n",
            "small intestine, mesentery, and colon\n",
            "d. Flash burns to anterior thorax\n",
            "e. Comminuted fractures of left ilium, ischium and pubic ramus with\n",
            "separations of the sacro-iliac joints and pubic symphysis.\n",
            "f. Multiple metal fragments recovered from thorax, abdomen and\n",
            "pelvis.\n",
            "3. Blast and fragment injuries to extremities\n",
            "a. Amputation of right hand and forearm with avulsion and searing of muscle and connective tissue\n",
            "b. Amputation and fragmentation of left hand and forearm with avulsion and searing of muscle and connective tissue\n",
            "c. Multiple penetrating fragment injuries to anterior surface of right arm\n",
            "\n",
            "\n",
            "   d. Comminution of left proximal femur with partial avulsion and searing of muscle and soft tissue.\n",
            "e. Multiple metal fragments recovered from soft tissues of left thigh\n",
            "4. Toxicology\n",
            "a. Blood carboxyhemoglobin less than 5% saturation\n",
            "b. Blood and vitreous fluid negative for alcohols\n",
            "c. Blood negative for acidic, basic and neutral drugs\n",
            "CAUSE OF DEATH\n",
            "Blast and penetrating fragment injuries due to explosion.\n",
            "GROSS DESCRIPTION\n",
            "SKIN:\n",
            "Multiple lacerations and perforations with irregular edges, searing and soot deposition\n",
            "PLEURA: 200 mL blood right, 300 mL blood left, 2 deformed nails recovered from right pleural cavity, 5 x 2 inch threaded metal fragment recovered from left pleural cavity. Multiple smaller metal fragments recovered from both pleural cavities.\n",
            "PERITONEUM: 100 mL blood, multiple metal fragments recovered PERICARDIUM: Multiple lacerations.\n",
            "HEART: 380 grams. Normal size and shape, coronary arteries within normal limits. Multiple lacerations of right and left ventricles. Laceration of aortic root.\n",
            "AORTA: Laceration of aortic root. Multiple lacerations of lower abdominal aorta. Left iliac and femoral vessels fragmented.\n",
            "NECK ORGANS: There are superficial penetrating fragment injuries on the anterior aspects of the neck with hemorrhage in the soft tissues adjacent to the wounds. Laryngeal cartilages, hyoid bone and cervical spine intact. Thyroid within normal limits. Airway free of blood and foreign material.\n",
            "LUNGS: 930 grams combined. Multiple lacerations of upper lobes and right middle lobe. Parenchyma aerated with a few apical bullae.\n",
            "LYMPH NODES: Within normal limits.\n",
            "\n",
            "\n",
            "\n",
            "\n",
            "   LIVER: 1650 grams. Multiple lacerations with partial pulpifaction of parenchyma.\n",
            "GALLBLADDER: Contains bile. No stones.\n",
            "SPLEEN: 130 grams. Multiple lacerations and partial pulpifaction.\n",
            "PANCREAS: Usual external configuration and pale tan on cut section with the usual lobular architecture.\n",
            "ADRENAL GLANDS: Within normal limits.\n",
            "GI TRACT: There are fractures of the maxilla and mandible. The tongue is without injury. The pharynx and esophagus are unremarkable. The stomach is empty and there are multiple lacerations of the gastric wall. There are multiple lacerations and perforations of the mesentery, small intestine, and colon. The appendix is present.\n",
            "KIDNEYS: 320 grams combined. There is hemorrhage in the perirenal soft tissues. The capsules strip with ease. The cortical surface is smooth. On cross section the cortices are of normal thickness and the pyramids and collecting systems are unremarkable. There are no stones or focal lesions. The ureters are intact.\n",
            "BLADDER: Multiple lacerations of the wall.\n",
            "GENITALIA: Lacerations of left scrotum with avulsion of left testicle and penis. Prostate unremarkable.\n",
            "BRAIN & MENINGES: Brain absent. 950 grams of brain fragments submitted separately.\n",
            "SKULL: Comminuted fractures of calvarium, skull base, and facial bones including mandible and maxilla.\n",
            "PELVIS: Comminuted fractures of left ileum, left ischium, left pubic ramus. Separations of pubic symphysis and sacro-iliac joints.\n",
            "RIBS: Perforations and fractures of anterior ribs and sternum. VERTEBRAE: Within normal limits\n",
            "EXTREMITIES: Amputations of right and left hands and forearms, Comminuted fractures of left proximal femur.\n",
            "MICROSCOPIC SECTIONS: Heart, lung, liver\n",
            "\n",
            "\n",
            "   OTHER LAB PROCEDURES: Toxicology, Photography, X-ray, Microscopic Examination.\n",
            "DISPOSITION OF EVIDENCE:\n",
            "TOXICOLOGY: blood, vitreous, liver, bile, urine. INVESTIGATOR: Clothing, recovered fragments.\n",
            "MICROSCOPIC DESCRIPTION\n",
            "HEART:\n",
            "LUNGS: areas.\n",
            "LIVER:\n",
            "SUMMARY:\n",
            "This 34 year old white man died instantly from multiple blast and fragment injuries when a package exploded in his home.\n",
            "CAUSE OF DEATH:\n",
            "Blast and fragment injuries.\n",
            "MANNER OF DEATH:\n",
            "Homicide\n",
            "Fragmentation and parenchymal hemorrhage\n",
            "Lacerations and parenchymal hemorrhage. Focal emphysematous\n",
            "Fragmentation and parenchymal hemorrhage.\n"
          ],
          "name": "stdout"
        }
      ]
    },
    {
      "cell_type": "markdown",
      "metadata": {
        "id": "WBmtQwNOevdE"
      },
      "source": [
        "Convert text to all lower case."
      ]
    },
    {
      "cell_type": "code",
      "metadata": {
        "colab": {
          "base_uri": "https://localhost:8080/"
        },
        "id": "uFdvrJdpeyRy",
        "outputId": "ff3d6d8b-009f-4319-965a-2617ff6e8469"
      },
      "source": [
        "text = text.lower()\n",
        "print(text)"
      ],
      "execution_count": null,
      "outputs": [
        {
          "output_type": "stream",
          "text": [
            "﻿autopsy report\n",
            "autopsy: bpd110094-67f decedent: john anderson\n",
            "autopsy authorized by: dr. smith for city of indianapolis. identified by: fingerprints and dental comparison.\n",
            "rigor: absent\n",
            "livor: purple distribution: posterior age: 34\n",
            "race: white\n",
            "sex: male\n",
            "length: 72 inches weight: 185 pounds eyes: hazel\n",
            "hair: brown circumcised: yes\n",
            "body heat: refrigerated\n",
            "clothing:\n",
            "1. blue dress shirt, blood-stained and scorched. multiple tears of different sizes on the front. both lower arms are shredded.\n",
            "2. white t-shirt, blood-stained and scorched with multiple tears of different sizes on the front matching the tears on the blue dress shirt.\n",
            "3. red tie shredded, scorched and blood-stained.\n",
            "4. brown pants, blood-stained with irregular tears, scorching, and soot\n",
            "deposition, primarily on the left upper leg and crotch.\n",
            "5. brown belt.\n",
            "6. white underwear briefs, torn on left side with searing, soot deposition and blood stains.\n",
            "7. brown socks.\n",
            "8. black shoes.\n",
            "external examination:\n",
            "well developed, well nourished, white male with multiple blast and fragment injuries including amputations of both upper extremities at mid-forearm with partial fragmentation of the detached portions of the extremities. there are lacerations of face and scalp with fractures of the calvarium, skull base and facial bones. the cranial vault is empty with fragments of brain recovered separately.\n",
            "\n",
            "\n",
            "   there are multiple penetrating fragment injuries of the anterior thorax and left thigh. there are gaping lacerations of the left lower abdomen and thigh with partial evisceration of sigmoid colon and small intestine. the penis and left testicle are absent. there are flash burns of the anterior thorax, face and left thigh.\n",
            "x-rays:\n",
            "total body x-rays demonstrate comminuted fractures of the face and skull, multiple anterior rib fractures, comminuted fractures of pelvis and proximal left femur, amputations of distal upper extremities, and multiple metallic fragments in the head, thorax, and thighs.\n",
            "history:\n",
            "injured by exploding package.\n",
            "pathological diagnoses:\n",
            "1. blast and fragment injuries to head\n",
            "a. comminuted fractures of calvarium, skull base and facial bones\n",
            "b. avulsion and fragmentation of brain\n",
            "c. avulsion and fragmentation of eyes\n",
            "d. penetrating fragment injuries to lower face\n",
            "e. flash burns to lower face\n",
            "2. blast and fragment injuries to trunk\n",
            "a. multiple perforation injuries with multiple lacerations of lungs, heart,\n",
            "liver, spleen, and intestines\n",
            "b. multiple fractures and perforations of anterior ribs and sternum\n",
            "c. laceration of left lower abdominal wall with partial evisceration of\n",
            "small intestine, mesentery, and colon\n",
            "d. flash burns to anterior thorax\n",
            "e. comminuted fractures of left ilium, ischium and pubic ramus with\n",
            "separations of the sacro-iliac joints and pubic symphysis.\n",
            "f. multiple metal fragments recovered from thorax, abdomen and\n",
            "pelvis.\n",
            "3. blast and fragment injuries to extremities\n",
            "a. amputation of right hand and forearm with avulsion and searing of muscle and connective tissue\n",
            "b. amputation and fragmentation of left hand and forearm with avulsion and searing of muscle and connective tissue\n",
            "c. multiple penetrating fragment injuries to anterior surface of right arm\n",
            "\n",
            "\n",
            "   d. comminution of left proximal femur with partial avulsion and searing of muscle and soft tissue.\n",
            "e. multiple metal fragments recovered from soft tissues of left thigh\n",
            "4. toxicology\n",
            "a. blood carboxyhemoglobin less than 5% saturation\n",
            "b. blood and vitreous fluid negative for alcohols\n",
            "c. blood negative for acidic, basic and neutral drugs\n",
            "cause of death\n",
            "blast and penetrating fragment injuries due to explosion.\n",
            "gross description\n",
            "skin:\n",
            "multiple lacerations and perforations with irregular edges, searing and soot deposition\n",
            "pleura: 200 ml blood right, 300 ml blood left, 2 deformed nails recovered from right pleural cavity, 5 x 2 inch threaded metal fragment recovered from left pleural cavity. multiple smaller metal fragments recovered from both pleural cavities.\n",
            "peritoneum: 100 ml blood, multiple metal fragments recovered pericardium: multiple lacerations.\n",
            "heart: 380 grams. normal size and shape, coronary arteries within normal limits. multiple lacerations of right and left ventricles. laceration of aortic root.\n",
            "aorta: laceration of aortic root. multiple lacerations of lower abdominal aorta. left iliac and femoral vessels fragmented.\n",
            "neck organs: there are superficial penetrating fragment injuries on the anterior aspects of the neck with hemorrhage in the soft tissues adjacent to the wounds. laryngeal cartilages, hyoid bone and cervical spine intact. thyroid within normal limits. airway free of blood and foreign material.\n",
            "lungs: 930 grams combined. multiple lacerations of upper lobes and right middle lobe. parenchyma aerated with a few apical bullae.\n",
            "lymph nodes: within normal limits.\n",
            "\n",
            "\n",
            "\n",
            "\n",
            "   liver: 1650 grams. multiple lacerations with partial pulpifaction of parenchyma.\n",
            "gallbladder: contains bile. no stones.\n",
            "spleen: 130 grams. multiple lacerations and partial pulpifaction.\n",
            "pancreas: usual external configuration and pale tan on cut section with the usual lobular architecture.\n",
            "adrenal glands: within normal limits.\n",
            "gi tract: there are fractures of the maxilla and mandible. the tongue is without injury. the pharynx and esophagus are unremarkable. the stomach is empty and there are multiple lacerations of the gastric wall. there are multiple lacerations and perforations of the mesentery, small intestine, and colon. the appendix is present.\n",
            "kidneys: 320 grams combined. there is hemorrhage in the perirenal soft tissues. the capsules strip with ease. the cortical surface is smooth. on cross section the cortices are of normal thickness and the pyramids and collecting systems are unremarkable. there are no stones or focal lesions. the ureters are intact.\n",
            "bladder: multiple lacerations of the wall.\n",
            "genitalia: lacerations of left scrotum with avulsion of left testicle and penis. prostate unremarkable.\n",
            "brain & meninges: brain absent. 950 grams of brain fragments submitted separately.\n",
            "skull: comminuted fractures of calvarium, skull base, and facial bones including mandible and maxilla.\n",
            "pelvis: comminuted fractures of left ileum, left ischium, left pubic ramus. separations of pubic symphysis and sacro-iliac joints.\n",
            "ribs: perforations and fractures of anterior ribs and sternum. vertebrae: within normal limits\n",
            "extremities: amputations of right and left hands and forearms, comminuted fractures of left proximal femur.\n",
            "microscopic sections: heart, lung, liver\n",
            "\n",
            "\n",
            "   other lab procedures: toxicology, photography, x-ray, microscopic examination.\n",
            "disposition of evidence:\n",
            "toxicology: blood, vitreous, liver, bile, urine. investigator: clothing, recovered fragments.\n",
            "microscopic description\n",
            "heart:\n",
            "lungs: areas.\n",
            "liver:\n",
            "summary:\n",
            "this 34 year old white man died instantly from multiple blast and fragment injuries when a package exploded in his home.\n",
            "cause of death:\n",
            "blast and fragment injuries.\n",
            "manner of death:\n",
            "homicide\n",
            "fragmentation and parenchymal hemorrhage\n",
            "lacerations and parenchymal hemorrhage. focal emphysematous\n",
            "fragmentation and parenchymal hemorrhage.\n"
          ],
          "name": "stdout"
        }
      ]
    },
    {
      "cell_type": "code",
      "metadata": {
        "id": "T4P65DbUfPFd"
      },
      "source": [
        "import re"
      ],
      "execution_count": null,
      "outputs": []
    },
    {
      "cell_type": "code",
      "metadata": {
        "colab": {
          "base_uri": "https://localhost:8080/"
        },
        "id": "zL2fmNhhfRam",
        "outputId": "cdc17fe5-5724-401f-a0ec-72826e7c445a"
      },
      "source": [
        "#remove punctuation\n",
        "text = re.sub(r\"[^a-zA-z0-9]\", \" \", text )\n",
        "print(text)"
      ],
      "execution_count": null,
      "outputs": [
        {
          "output_type": "stream",
          "text": [
            " autopsy report autopsy  bpd110094 67f decedent  john anderson autopsy authorized by  dr  smith for city of indianapolis  identified by  fingerprints and dental comparison  rigor  absent livor  purple distribution  posterior age  34 race  white sex  male length  72 inches weight  185 pounds eyes  hazel hair  brown circumcised  yes body heat  refrigerated clothing  1  blue dress shirt  blood stained and scorched  multiple tears of different sizes on the front  both lower arms are shredded  2  white t shirt  blood stained and scorched with multiple tears of different sizes on the front matching the tears on the blue dress shirt  3  red tie shredded  scorched and blood stained  4  brown pants  blood stained with irregular tears  scorching  and soot deposition  primarily on the left upper leg and crotch  5  brown belt  6  white underwear briefs  torn on left side with searing  soot deposition and blood stains  7  brown socks  8  black shoes  external examination  well developed  well nourished  white male with multiple blast and fragment injuries including amputations of both upper extremities at mid forearm with partial fragmentation of the detached portions of the extremities  there are lacerations of face and scalp with fractures of the calvarium  skull base and facial bones  the cranial vault is empty with fragments of brain recovered separately       there are multiple penetrating fragment injuries of the anterior thorax and left thigh  there are gaping lacerations of the left lower abdomen and thigh with partial evisceration of sigmoid colon and small intestine  the penis and left testicle are absent  there are flash burns of the anterior thorax  face and left thigh  x rays  total body x rays demonstrate comminuted fractures of the face and skull  multiple anterior rib fractures  comminuted fractures of pelvis and proximal left femur  amputations of distal upper extremities  and multiple metallic fragments in the head  thorax  and thighs  history  injured by exploding package  pathological diagnoses  1  blast and fragment injuries to head a  comminuted fractures of calvarium  skull base and facial bones b  avulsion and fragmentation of brain c  avulsion and fragmentation of eyes d  penetrating fragment injuries to lower face e  flash burns to lower face 2  blast and fragment injuries to trunk a  multiple perforation injuries with multiple lacerations of lungs  heart  liver  spleen  and intestines b  multiple fractures and perforations of anterior ribs and sternum c  laceration of left lower abdominal wall with partial evisceration of small intestine  mesentery  and colon d  flash burns to anterior thorax e  comminuted fractures of left ilium  ischium and pubic ramus with separations of the sacro iliac joints and pubic symphysis  f  multiple metal fragments recovered from thorax  abdomen and pelvis  3  blast and fragment injuries to extremities a  amputation of right hand and forearm with avulsion and searing of muscle and connective tissue b  amputation and fragmentation of left hand and forearm with avulsion and searing of muscle and connective tissue c  multiple penetrating fragment injuries to anterior surface of right arm      d  comminution of left proximal femur with partial avulsion and searing of muscle and soft tissue  e  multiple metal fragments recovered from soft tissues of left thigh 4  toxicology a  blood carboxyhemoglobin less than 5  saturation b  blood and vitreous fluid negative for alcohols c  blood negative for acidic  basic and neutral drugs cause of death blast and penetrating fragment injuries due to explosion  gross description skin  multiple lacerations and perforations with irregular edges  searing and soot deposition pleura  200 ml blood right  300 ml blood left  2 deformed nails recovered from right pleural cavity  5 x 2 inch threaded metal fragment recovered from left pleural cavity  multiple smaller metal fragments recovered from both pleural cavities  peritoneum  100 ml blood  multiple metal fragments recovered pericardium  multiple lacerations  heart  380 grams  normal size and shape  coronary arteries within normal limits  multiple lacerations of right and left ventricles  laceration of aortic root  aorta  laceration of aortic root  multiple lacerations of lower abdominal aorta  left iliac and femoral vessels fragmented  neck organs  there are superficial penetrating fragment injuries on the anterior aspects of the neck with hemorrhage in the soft tissues adjacent to the wounds  laryngeal cartilages  hyoid bone and cervical spine intact  thyroid within normal limits  airway free of blood and foreign material  lungs  930 grams combined  multiple lacerations of upper lobes and right middle lobe  parenchyma aerated with a few apical bullae  lymph nodes  within normal limits         liver  1650 grams  multiple lacerations with partial pulpifaction of parenchyma  gallbladder  contains bile  no stones  spleen  130 grams  multiple lacerations and partial pulpifaction  pancreas  usual external configuration and pale tan on cut section with the usual lobular architecture  adrenal glands  within normal limits  gi tract  there are fractures of the maxilla and mandible  the tongue is without injury  the pharynx and esophagus are unremarkable  the stomach is empty and there are multiple lacerations of the gastric wall  there are multiple lacerations and perforations of the mesentery  small intestine  and colon  the appendix is present  kidneys  320 grams combined  there is hemorrhage in the perirenal soft tissues  the capsules strip with ease  the cortical surface is smooth  on cross section the cortices are of normal thickness and the pyramids and collecting systems are unremarkable  there are no stones or focal lesions  the ureters are intact  bladder  multiple lacerations of the wall  genitalia  lacerations of left scrotum with avulsion of left testicle and penis  prostate unremarkable  brain   meninges  brain absent  950 grams of brain fragments submitted separately  skull  comminuted fractures of calvarium  skull base  and facial bones including mandible and maxilla  pelvis  comminuted fractures of left ileum  left ischium  left pubic ramus  separations of pubic symphysis and sacro iliac joints  ribs  perforations and fractures of anterior ribs and sternum  vertebrae  within normal limits extremities  amputations of right and left hands and forearms  comminuted fractures of left proximal femur  microscopic sections  heart  lung  liver      other lab procedures  toxicology  photography  x ray  microscopic examination  disposition of evidence  toxicology  blood  vitreous  liver  bile  urine  investigator  clothing  recovered fragments  microscopic description heart  lungs  areas  liver  summary  this 34 year old white man died instantly from multiple blast and fragment injuries when a package exploded in his home  cause of death  blast and fragment injuries  manner of death  homicide fragmentation and parenchymal hemorrhage lacerations and parenchymal hemorrhage  focal emphysematous fragmentation and parenchymal hemorrhage \n"
          ],
          "name": "stdout"
        }
      ]
    },
    {
      "cell_type": "markdown",
      "metadata": {
        "id": "hWTxEU7uf31Q"
      },
      "source": [
        "Split the text  into \"tokens\""
      ]
    },
    {
      "cell_type": "code",
      "metadata": {
        "colab": {
          "base_uri": "https://localhost:8080/"
        },
        "id": "YZ9tkxwlfl70",
        "outputId": "bee076dd-625c-45bc-b872-c51312b22260"
      },
      "source": [
        "words = text.split()\n",
        "print(words)"
      ],
      "execution_count": null,
      "outputs": [
        {
          "output_type": "stream",
          "text": [
            "['autopsy', 'report', 'autopsy', 'bpd110094', '67f', 'decedent', 'john', 'anderson', 'autopsy', 'authorized', 'by', 'dr', 'smith', 'for', 'city', 'of', 'indianapolis', 'identified', 'by', 'fingerprints', 'and', 'dental', 'comparison', 'rigor', 'absent', 'livor', 'purple', 'distribution', 'posterior', 'age', '34', 'race', 'white', 'sex', 'male', 'length', '72', 'inches', 'weight', '185', 'pounds', 'eyes', 'hazel', 'hair', 'brown', 'circumcised', 'yes', 'body', 'heat', 'refrigerated', 'clothing', '1', 'blue', 'dress', 'shirt', 'blood', 'stained', 'and', 'scorched', 'multiple', 'tears', 'of', 'different', 'sizes', 'on', 'the', 'front', 'both', 'lower', 'arms', 'are', 'shredded', '2', 'white', 't', 'shirt', 'blood', 'stained', 'and', 'scorched', 'with', 'multiple', 'tears', 'of', 'different', 'sizes', 'on', 'the', 'front', 'matching', 'the', 'tears', 'on', 'the', 'blue', 'dress', 'shirt', '3', 'red', 'tie', 'shredded', 'scorched', 'and', 'blood', 'stained', '4', 'brown', 'pants', 'blood', 'stained', 'with', 'irregular', 'tears', 'scorching', 'and', 'soot', 'deposition', 'primarily', 'on', 'the', 'left', 'upper', 'leg', 'and', 'crotch', '5', 'brown', 'belt', '6', 'white', 'underwear', 'briefs', 'torn', 'on', 'left', 'side', 'with', 'searing', 'soot', 'deposition', 'and', 'blood', 'stains', '7', 'brown', 'socks', '8', 'black', 'shoes', 'external', 'examination', 'well', 'developed', 'well', 'nourished', 'white', 'male', 'with', 'multiple', 'blast', 'and', 'fragment', 'injuries', 'including', 'amputations', 'of', 'both', 'upper', 'extremities', 'at', 'mid', 'forearm', 'with', 'partial', 'fragmentation', 'of', 'the', 'detached', 'portions', 'of', 'the', 'extremities', 'there', 'are', 'lacerations', 'of', 'face', 'and', 'scalp', 'with', 'fractures', 'of', 'the', 'calvarium', 'skull', 'base', 'and', 'facial', 'bones', 'the', 'cranial', 'vault', 'is', 'empty', 'with', 'fragments', 'of', 'brain', 'recovered', 'separately', 'there', 'are', 'multiple', 'penetrating', 'fragment', 'injuries', 'of', 'the', 'anterior', 'thorax', 'and', 'left', 'thigh', 'there', 'are', 'gaping', 'lacerations', 'of', 'the', 'left', 'lower', 'abdomen', 'and', 'thigh', 'with', 'partial', 'evisceration', 'of', 'sigmoid', 'colon', 'and', 'small', 'intestine', 'the', 'penis', 'and', 'left', 'testicle', 'are', 'absent', 'there', 'are', 'flash', 'burns', 'of', 'the', 'anterior', 'thorax', 'face', 'and', 'left', 'thigh', 'x', 'rays', 'total', 'body', 'x', 'rays', 'demonstrate', 'comminuted', 'fractures', 'of', 'the', 'face', 'and', 'skull', 'multiple', 'anterior', 'rib', 'fractures', 'comminuted', 'fractures', 'of', 'pelvis', 'and', 'proximal', 'left', 'femur', 'amputations', 'of', 'distal', 'upper', 'extremities', 'and', 'multiple', 'metallic', 'fragments', 'in', 'the', 'head', 'thorax', 'and', 'thighs', 'history', 'injured', 'by', 'exploding', 'package', 'pathological', 'diagnoses', '1', 'blast', 'and', 'fragment', 'injuries', 'to', 'head', 'a', 'comminuted', 'fractures', 'of', 'calvarium', 'skull', 'base', 'and', 'facial', 'bones', 'b', 'avulsion', 'and', 'fragmentation', 'of', 'brain', 'c', 'avulsion', 'and', 'fragmentation', 'of', 'eyes', 'd', 'penetrating', 'fragment', 'injuries', 'to', 'lower', 'face', 'e', 'flash', 'burns', 'to', 'lower', 'face', '2', 'blast', 'and', 'fragment', 'injuries', 'to', 'trunk', 'a', 'multiple', 'perforation', 'injuries', 'with', 'multiple', 'lacerations', 'of', 'lungs', 'heart', 'liver', 'spleen', 'and', 'intestines', 'b', 'multiple', 'fractures', 'and', 'perforations', 'of', 'anterior', 'ribs', 'and', 'sternum', 'c', 'laceration', 'of', 'left', 'lower', 'abdominal', 'wall', 'with', 'partial', 'evisceration', 'of', 'small', 'intestine', 'mesentery', 'and', 'colon', 'd', 'flash', 'burns', 'to', 'anterior', 'thorax', 'e', 'comminuted', 'fractures', 'of', 'left', 'ilium', 'ischium', 'and', 'pubic', 'ramus', 'with', 'separations', 'of', 'the', 'sacro', 'iliac', 'joints', 'and', 'pubic', 'symphysis', 'f', 'multiple', 'metal', 'fragments', 'recovered', 'from', 'thorax', 'abdomen', 'and', 'pelvis', '3', 'blast', 'and', 'fragment', 'injuries', 'to', 'extremities', 'a', 'amputation', 'of', 'right', 'hand', 'and', 'forearm', 'with', 'avulsion', 'and', 'searing', 'of', 'muscle', 'and', 'connective', 'tissue', 'b', 'amputation', 'and', 'fragmentation', 'of', 'left', 'hand', 'and', 'forearm', 'with', 'avulsion', 'and', 'searing', 'of', 'muscle', 'and', 'connective', 'tissue', 'c', 'multiple', 'penetrating', 'fragment', 'injuries', 'to', 'anterior', 'surface', 'of', 'right', 'arm', 'd', 'comminution', 'of', 'left', 'proximal', 'femur', 'with', 'partial', 'avulsion', 'and', 'searing', 'of', 'muscle', 'and', 'soft', 'tissue', 'e', 'multiple', 'metal', 'fragments', 'recovered', 'from', 'soft', 'tissues', 'of', 'left', 'thigh', '4', 'toxicology', 'a', 'blood', 'carboxyhemoglobin', 'less', 'than', '5', 'saturation', 'b', 'blood', 'and', 'vitreous', 'fluid', 'negative', 'for', 'alcohols', 'c', 'blood', 'negative', 'for', 'acidic', 'basic', 'and', 'neutral', 'drugs', 'cause', 'of', 'death', 'blast', 'and', 'penetrating', 'fragment', 'injuries', 'due', 'to', 'explosion', 'gross', 'description', 'skin', 'multiple', 'lacerations', 'and', 'perforations', 'with', 'irregular', 'edges', 'searing', 'and', 'soot', 'deposition', 'pleura', '200', 'ml', 'blood', 'right', '300', 'ml', 'blood', 'left', '2', 'deformed', 'nails', 'recovered', 'from', 'right', 'pleural', 'cavity', '5', 'x', '2', 'inch', 'threaded', 'metal', 'fragment', 'recovered', 'from', 'left', 'pleural', 'cavity', 'multiple', 'smaller', 'metal', 'fragments', 'recovered', 'from', 'both', 'pleural', 'cavities', 'peritoneum', '100', 'ml', 'blood', 'multiple', 'metal', 'fragments', 'recovered', 'pericardium', 'multiple', 'lacerations', 'heart', '380', 'grams', 'normal', 'size', 'and', 'shape', 'coronary', 'arteries', 'within', 'normal', 'limits', 'multiple', 'lacerations', 'of', 'right', 'and', 'left', 'ventricles', 'laceration', 'of', 'aortic', 'root', 'aorta', 'laceration', 'of', 'aortic', 'root', 'multiple', 'lacerations', 'of', 'lower', 'abdominal', 'aorta', 'left', 'iliac', 'and', 'femoral', 'vessels', 'fragmented', 'neck', 'organs', 'there', 'are', 'superficial', 'penetrating', 'fragment', 'injuries', 'on', 'the', 'anterior', 'aspects', 'of', 'the', 'neck', 'with', 'hemorrhage', 'in', 'the', 'soft', 'tissues', 'adjacent', 'to', 'the', 'wounds', 'laryngeal', 'cartilages', 'hyoid', 'bone', 'and', 'cervical', 'spine', 'intact', 'thyroid', 'within', 'normal', 'limits', 'airway', 'free', 'of', 'blood', 'and', 'foreign', 'material', 'lungs', '930', 'grams', 'combined', 'multiple', 'lacerations', 'of', 'upper', 'lobes', 'and', 'right', 'middle', 'lobe', 'parenchyma', 'aerated', 'with', 'a', 'few', 'apical', 'bullae', 'lymph', 'nodes', 'within', 'normal', 'limits', 'liver', '1650', 'grams', 'multiple', 'lacerations', 'with', 'partial', 'pulpifaction', 'of', 'parenchyma', 'gallbladder', 'contains', 'bile', 'no', 'stones', 'spleen', '130', 'grams', 'multiple', 'lacerations', 'and', 'partial', 'pulpifaction', 'pancreas', 'usual', 'external', 'configuration', 'and', 'pale', 'tan', 'on', 'cut', 'section', 'with', 'the', 'usual', 'lobular', 'architecture', 'adrenal', 'glands', 'within', 'normal', 'limits', 'gi', 'tract', 'there', 'are', 'fractures', 'of', 'the', 'maxilla', 'and', 'mandible', 'the', 'tongue', 'is', 'without', 'injury', 'the', 'pharynx', 'and', 'esophagus', 'are', 'unremarkable', 'the', 'stomach', 'is', 'empty', 'and', 'there', 'are', 'multiple', 'lacerations', 'of', 'the', 'gastric', 'wall', 'there', 'are', 'multiple', 'lacerations', 'and', 'perforations', 'of', 'the', 'mesentery', 'small', 'intestine', 'and', 'colon', 'the', 'appendix', 'is', 'present', 'kidneys', '320', 'grams', 'combined', 'there', 'is', 'hemorrhage', 'in', 'the', 'perirenal', 'soft', 'tissues', 'the', 'capsules', 'strip', 'with', 'ease', 'the', 'cortical', 'surface', 'is', 'smooth', 'on', 'cross', 'section', 'the', 'cortices', 'are', 'of', 'normal', 'thickness', 'and', 'the', 'pyramids', 'and', 'collecting', 'systems', 'are', 'unremarkable', 'there', 'are', 'no', 'stones', 'or', 'focal', 'lesions', 'the', 'ureters', 'are', 'intact', 'bladder', 'multiple', 'lacerations', 'of', 'the', 'wall', 'genitalia', 'lacerations', 'of', 'left', 'scrotum', 'with', 'avulsion', 'of', 'left', 'testicle', 'and', 'penis', 'prostate', 'unremarkable', 'brain', 'meninges', 'brain', 'absent', '950', 'grams', 'of', 'brain', 'fragments', 'submitted', 'separately', 'skull', 'comminuted', 'fractures', 'of', 'calvarium', 'skull', 'base', 'and', 'facial', 'bones', 'including', 'mandible', 'and', 'maxilla', 'pelvis', 'comminuted', 'fractures', 'of', 'left', 'ileum', 'left', 'ischium', 'left', 'pubic', 'ramus', 'separations', 'of', 'pubic', 'symphysis', 'and', 'sacro', 'iliac', 'joints', 'ribs', 'perforations', 'and', 'fractures', 'of', 'anterior', 'ribs', 'and', 'sternum', 'vertebrae', 'within', 'normal', 'limits', 'extremities', 'amputations', 'of', 'right', 'and', 'left', 'hands', 'and', 'forearms', 'comminuted', 'fractures', 'of', 'left', 'proximal', 'femur', 'microscopic', 'sections', 'heart', 'lung', 'liver', 'other', 'lab', 'procedures', 'toxicology', 'photography', 'x', 'ray', 'microscopic', 'examination', 'disposition', 'of', 'evidence', 'toxicology', 'blood', 'vitreous', 'liver', 'bile', 'urine', 'investigator', 'clothing', 'recovered', 'fragments', 'microscopic', 'description', 'heart', 'lungs', 'areas', 'liver', 'summary', 'this', '34', 'year', 'old', 'white', 'man', 'died', 'instantly', 'from', 'multiple', 'blast', 'and', 'fragment', 'injuries', 'when', 'a', 'package', 'exploded', 'in', 'his', 'home', 'cause', 'of', 'death', 'blast', 'and', 'fragment', 'injuries', 'manner', 'of', 'death', 'homicide', 'fragmentation', 'and', 'parenchymal', 'hemorrhage', 'lacerations', 'and', 'parenchymal', 'hemorrhage', 'focal', 'emphysematous', 'fragmentation', 'and', 'parenchymal', 'hemorrhage']\n"
          ],
          "name": "stdout"
        }
      ]
    },
    {
      "cell_type": "markdown",
      "metadata": {
        "id": "j7bpVu7UgKyL"
      },
      "source": [
        "Above was dont with default Py .Now we will try using SKLearn."
      ]
    },
    {
      "cell_type": "code",
      "metadata": {
        "colab": {
          "base_uri": "https://localhost:8080/"
        },
        "id": "iDjouaYggpv_",
        "outputId": "9a8eff6b-509d-41b9-becc-b2d2904f5ffb"
      },
      "source": [
        "import nltk\n",
        "nltk.download('punkt')"
      ],
      "execution_count": null,
      "outputs": [
        {
          "output_type": "stream",
          "text": [
            "[nltk_data] Downloading package punkt to /root/nltk_data...\n",
            "[nltk_data]   Unzipping tokenizers/punkt.zip.\n"
          ],
          "name": "stdout"
        },
        {
          "output_type": "execute_result",
          "data": {
            "text/plain": [
              "True"
            ]
          },
          "metadata": {
            "tags": []
          },
          "execution_count": 11
        }
      ]
    },
    {
      "cell_type": "code",
      "metadata": {
        "id": "A-fIn39PgC5B"
      },
      "source": [
        "from nltk.tokenize import word_tokenize"
      ],
      "execution_count": null,
      "outputs": []
    },
    {
      "cell_type": "code",
      "metadata": {
        "colab": {
          "base_uri": "https://localhost:8080/"
        },
        "id": "RNSATnYIgY6W",
        "outputId": "f29b74b5-0f79-4100-a529-8f433a6d1371"
      },
      "source": [
        "words = word_tokenize(text)\n",
        "print(words)"
      ],
      "execution_count": null,
      "outputs": [
        {
          "output_type": "stream",
          "text": [
            "['autopsy', 'report', 'autopsy', 'bpd110094', '67f', 'decedent', 'john', 'anderson', 'autopsy', 'authorized', 'by', 'dr', 'smith', 'for', 'city', 'of', 'indianapolis', 'identified', 'by', 'fingerprints', 'and', 'dental', 'comparison', 'rigor', 'absent', 'livor', 'purple', 'distribution', 'posterior', 'age', '34', 'race', 'white', 'sex', 'male', 'length', '72', 'inches', 'weight', '185', 'pounds', 'eyes', 'hazel', 'hair', 'brown', 'circumcised', 'yes', 'body', 'heat', 'refrigerated', 'clothing', '1', 'blue', 'dress', 'shirt', 'blood', 'stained', 'and', 'scorched', 'multiple', 'tears', 'of', 'different', 'sizes', 'on', 'the', 'front', 'both', 'lower', 'arms', 'are', 'shredded', '2', 'white', 't', 'shirt', 'blood', 'stained', 'and', 'scorched', 'with', 'multiple', 'tears', 'of', 'different', 'sizes', 'on', 'the', 'front', 'matching', 'the', 'tears', 'on', 'the', 'blue', 'dress', 'shirt', '3', 'red', 'tie', 'shredded', 'scorched', 'and', 'blood', 'stained', '4', 'brown', 'pants', 'blood', 'stained', 'with', 'irregular', 'tears', 'scorching', 'and', 'soot', 'deposition', 'primarily', 'on', 'the', 'left', 'upper', 'leg', 'and', 'crotch', '5', 'brown', 'belt', '6', 'white', 'underwear', 'briefs', 'torn', 'on', 'left', 'side', 'with', 'searing', 'soot', 'deposition', 'and', 'blood', 'stains', '7', 'brown', 'socks', '8', 'black', 'shoes', 'external', 'examination', 'well', 'developed', 'well', 'nourished', 'white', 'male', 'with', 'multiple', 'blast', 'and', 'fragment', 'injuries', 'including', 'amputations', 'of', 'both', 'upper', 'extremities', 'at', 'mid', 'forearm', 'with', 'partial', 'fragmentation', 'of', 'the', 'detached', 'portions', 'of', 'the', 'extremities', 'there', 'are', 'lacerations', 'of', 'face', 'and', 'scalp', 'with', 'fractures', 'of', 'the', 'calvarium', 'skull', 'base', 'and', 'facial', 'bones', 'the', 'cranial', 'vault', 'is', 'empty', 'with', 'fragments', 'of', 'brain', 'recovered', 'separately', 'there', 'are', 'multiple', 'penetrating', 'fragment', 'injuries', 'of', 'the', 'anterior', 'thorax', 'and', 'left', 'thigh', 'there', 'are', 'gaping', 'lacerations', 'of', 'the', 'left', 'lower', 'abdomen', 'and', 'thigh', 'with', 'partial', 'evisceration', 'of', 'sigmoid', 'colon', 'and', 'small', 'intestine', 'the', 'penis', 'and', 'left', 'testicle', 'are', 'absent', 'there', 'are', 'flash', 'burns', 'of', 'the', 'anterior', 'thorax', 'face', 'and', 'left', 'thigh', 'x', 'rays', 'total', 'body', 'x', 'rays', 'demonstrate', 'comminuted', 'fractures', 'of', 'the', 'face', 'and', 'skull', 'multiple', 'anterior', 'rib', 'fractures', 'comminuted', 'fractures', 'of', 'pelvis', 'and', 'proximal', 'left', 'femur', 'amputations', 'of', 'distal', 'upper', 'extremities', 'and', 'multiple', 'metallic', 'fragments', 'in', 'the', 'head', 'thorax', 'and', 'thighs', 'history', 'injured', 'by', 'exploding', 'package', 'pathological', 'diagnoses', '1', 'blast', 'and', 'fragment', 'injuries', 'to', 'head', 'a', 'comminuted', 'fractures', 'of', 'calvarium', 'skull', 'base', 'and', 'facial', 'bones', 'b', 'avulsion', 'and', 'fragmentation', 'of', 'brain', 'c', 'avulsion', 'and', 'fragmentation', 'of', 'eyes', 'd', 'penetrating', 'fragment', 'injuries', 'to', 'lower', 'face', 'e', 'flash', 'burns', 'to', 'lower', 'face', '2', 'blast', 'and', 'fragment', 'injuries', 'to', 'trunk', 'a', 'multiple', 'perforation', 'injuries', 'with', 'multiple', 'lacerations', 'of', 'lungs', 'heart', 'liver', 'spleen', 'and', 'intestines', 'b', 'multiple', 'fractures', 'and', 'perforations', 'of', 'anterior', 'ribs', 'and', 'sternum', 'c', 'laceration', 'of', 'left', 'lower', 'abdominal', 'wall', 'with', 'partial', 'evisceration', 'of', 'small', 'intestine', 'mesentery', 'and', 'colon', 'd', 'flash', 'burns', 'to', 'anterior', 'thorax', 'e', 'comminuted', 'fractures', 'of', 'left', 'ilium', 'ischium', 'and', 'pubic', 'ramus', 'with', 'separations', 'of', 'the', 'sacro', 'iliac', 'joints', 'and', 'pubic', 'symphysis', 'f', 'multiple', 'metal', 'fragments', 'recovered', 'from', 'thorax', 'abdomen', 'and', 'pelvis', '3', 'blast', 'and', 'fragment', 'injuries', 'to', 'extremities', 'a', 'amputation', 'of', 'right', 'hand', 'and', 'forearm', 'with', 'avulsion', 'and', 'searing', 'of', 'muscle', 'and', 'connective', 'tissue', 'b', 'amputation', 'and', 'fragmentation', 'of', 'left', 'hand', 'and', 'forearm', 'with', 'avulsion', 'and', 'searing', 'of', 'muscle', 'and', 'connective', 'tissue', 'c', 'multiple', 'penetrating', 'fragment', 'injuries', 'to', 'anterior', 'surface', 'of', 'right', 'arm', 'd', 'comminution', 'of', 'left', 'proximal', 'femur', 'with', 'partial', 'avulsion', 'and', 'searing', 'of', 'muscle', 'and', 'soft', 'tissue', 'e', 'multiple', 'metal', 'fragments', 'recovered', 'from', 'soft', 'tissues', 'of', 'left', 'thigh', '4', 'toxicology', 'a', 'blood', 'carboxyhemoglobin', 'less', 'than', '5', 'saturation', 'b', 'blood', 'and', 'vitreous', 'fluid', 'negative', 'for', 'alcohols', 'c', 'blood', 'negative', 'for', 'acidic', 'basic', 'and', 'neutral', 'drugs', 'cause', 'of', 'death', 'blast', 'and', 'penetrating', 'fragment', 'injuries', 'due', 'to', 'explosion', 'gross', 'description', 'skin', 'multiple', 'lacerations', 'and', 'perforations', 'with', 'irregular', 'edges', 'searing', 'and', 'soot', 'deposition', 'pleura', '200', 'ml', 'blood', 'right', '300', 'ml', 'blood', 'left', '2', 'deformed', 'nails', 'recovered', 'from', 'right', 'pleural', 'cavity', '5', 'x', '2', 'inch', 'threaded', 'metal', 'fragment', 'recovered', 'from', 'left', 'pleural', 'cavity', 'multiple', 'smaller', 'metal', 'fragments', 'recovered', 'from', 'both', 'pleural', 'cavities', 'peritoneum', '100', 'ml', 'blood', 'multiple', 'metal', 'fragments', 'recovered', 'pericardium', 'multiple', 'lacerations', 'heart', '380', 'grams', 'normal', 'size', 'and', 'shape', 'coronary', 'arteries', 'within', 'normal', 'limits', 'multiple', 'lacerations', 'of', 'right', 'and', 'left', 'ventricles', 'laceration', 'of', 'aortic', 'root', 'aorta', 'laceration', 'of', 'aortic', 'root', 'multiple', 'lacerations', 'of', 'lower', 'abdominal', 'aorta', 'left', 'iliac', 'and', 'femoral', 'vessels', 'fragmented', 'neck', 'organs', 'there', 'are', 'superficial', 'penetrating', 'fragment', 'injuries', 'on', 'the', 'anterior', 'aspects', 'of', 'the', 'neck', 'with', 'hemorrhage', 'in', 'the', 'soft', 'tissues', 'adjacent', 'to', 'the', 'wounds', 'laryngeal', 'cartilages', 'hyoid', 'bone', 'and', 'cervical', 'spine', 'intact', 'thyroid', 'within', 'normal', 'limits', 'airway', 'free', 'of', 'blood', 'and', 'foreign', 'material', 'lungs', '930', 'grams', 'combined', 'multiple', 'lacerations', 'of', 'upper', 'lobes', 'and', 'right', 'middle', 'lobe', 'parenchyma', 'aerated', 'with', 'a', 'few', 'apical', 'bullae', 'lymph', 'nodes', 'within', 'normal', 'limits', 'liver', '1650', 'grams', 'multiple', 'lacerations', 'with', 'partial', 'pulpifaction', 'of', 'parenchyma', 'gallbladder', 'contains', 'bile', 'no', 'stones', 'spleen', '130', 'grams', 'multiple', 'lacerations', 'and', 'partial', 'pulpifaction', 'pancreas', 'usual', 'external', 'configuration', 'and', 'pale', 'tan', 'on', 'cut', 'section', 'with', 'the', 'usual', 'lobular', 'architecture', 'adrenal', 'glands', 'within', 'normal', 'limits', 'gi', 'tract', 'there', 'are', 'fractures', 'of', 'the', 'maxilla', 'and', 'mandible', 'the', 'tongue', 'is', 'without', 'injury', 'the', 'pharynx', 'and', 'esophagus', 'are', 'unremarkable', 'the', 'stomach', 'is', 'empty', 'and', 'there', 'are', 'multiple', 'lacerations', 'of', 'the', 'gastric', 'wall', 'there', 'are', 'multiple', 'lacerations', 'and', 'perforations', 'of', 'the', 'mesentery', 'small', 'intestine', 'and', 'colon', 'the', 'appendix', 'is', 'present', 'kidneys', '320', 'grams', 'combined', 'there', 'is', 'hemorrhage', 'in', 'the', 'perirenal', 'soft', 'tissues', 'the', 'capsules', 'strip', 'with', 'ease', 'the', 'cortical', 'surface', 'is', 'smooth', 'on', 'cross', 'section', 'the', 'cortices', 'are', 'of', 'normal', 'thickness', 'and', 'the', 'pyramids', 'and', 'collecting', 'systems', 'are', 'unremarkable', 'there', 'are', 'no', 'stones', 'or', 'focal', 'lesions', 'the', 'ureters', 'are', 'intact', 'bladder', 'multiple', 'lacerations', 'of', 'the', 'wall', 'genitalia', 'lacerations', 'of', 'left', 'scrotum', 'with', 'avulsion', 'of', 'left', 'testicle', 'and', 'penis', 'prostate', 'unremarkable', 'brain', 'meninges', 'brain', 'absent', '950', 'grams', 'of', 'brain', 'fragments', 'submitted', 'separately', 'skull', 'comminuted', 'fractures', 'of', 'calvarium', 'skull', 'base', 'and', 'facial', 'bones', 'including', 'mandible', 'and', 'maxilla', 'pelvis', 'comminuted', 'fractures', 'of', 'left', 'ileum', 'left', 'ischium', 'left', 'pubic', 'ramus', 'separations', 'of', 'pubic', 'symphysis', 'and', 'sacro', 'iliac', 'joints', 'ribs', 'perforations', 'and', 'fractures', 'of', 'anterior', 'ribs', 'and', 'sternum', 'vertebrae', 'within', 'normal', 'limits', 'extremities', 'amputations', 'of', 'right', 'and', 'left', 'hands', 'and', 'forearms', 'comminuted', 'fractures', 'of', 'left', 'proximal', 'femur', 'microscopic', 'sections', 'heart', 'lung', 'liver', 'other', 'lab', 'procedures', 'toxicology', 'photography', 'x', 'ray', 'microscopic', 'examination', 'disposition', 'of', 'evidence', 'toxicology', 'blood', 'vitreous', 'liver', 'bile', 'urine', 'investigator', 'clothing', 'recovered', 'fragments', 'microscopic', 'description', 'heart', 'lungs', 'areas', 'liver', 'summary', 'this', '34', 'year', 'old', 'white', 'man', 'died', 'instantly', 'from', 'multiple', 'blast', 'and', 'fragment', 'injuries', 'when', 'a', 'package', 'exploded', 'in', 'his', 'home', 'cause', 'of', 'death', 'blast', 'and', 'fragment', 'injuries', 'manner', 'of', 'death', 'homicide', 'fragmentation', 'and', 'parenchymal', 'hemorrhage', 'lacerations', 'and', 'parenchymal', 'hemorrhage', 'focal', 'emphysematous', 'fragmentation', 'and', 'parenchymal', 'hemorrhage']\n"
          ],
          "name": "stdout"
        }
      ]
    },
    {
      "cell_type": "markdown",
      "metadata": {
        "id": "lgtEfCoQhFcz"
      },
      "source": [
        "Remove words that at little meaning.  STOP words."
      ]
    },
    {
      "cell_type": "code",
      "metadata": {
        "id": "J8KoBxbmhlGP"
      },
      "source": [
        "# Setup\n",
        "!pip install -q wordcloud\n",
        "import wordcloud"
      ],
      "execution_count": null,
      "outputs": []
    },
    {
      "cell_type": "code",
      "metadata": {
        "colab": {
          "base_uri": "https://localhost:8080/"
        },
        "id": "p6hkPAUKhrwe",
        "outputId": "ed48b3b6-5bd3-4a2c-dca2-f51875bea066"
      },
      "source": [
        "import nltk\n",
        "nltk.download('stopwords')\n",
        "nltk.download('wordnet')\n",
        "nltk.download('punkt')\n",
        "nltk.download('averaged_perceptron_tagger') "
      ],
      "execution_count": null,
      "outputs": [
        {
          "output_type": "stream",
          "text": [
            "[nltk_data] Downloading package stopwords to /root/nltk_data...\n",
            "[nltk_data]   Package stopwords is already up-to-date!\n",
            "[nltk_data] Downloading package wordnet to /root/nltk_data...\n",
            "[nltk_data]   Package wordnet is already up-to-date!\n",
            "[nltk_data] Downloading package punkt to /root/nltk_data...\n",
            "[nltk_data]   Package punkt is already up-to-date!\n",
            "[nltk_data] Downloading package averaged_perceptron_tagger to\n",
            "[nltk_data]     /root/nltk_data...\n",
            "[nltk_data]   Package averaged_perceptron_tagger is already up-to-\n",
            "[nltk_data]       date!\n"
          ],
          "name": "stdout"
        },
        {
          "output_type": "execute_result",
          "data": {
            "text/plain": [
              "True"
            ]
          },
          "metadata": {
            "tags": []
          },
          "execution_count": 21
        }
      ]
    },
    {
      "cell_type": "code",
      "metadata": {
        "id": "MsVCuL_bhrqz"
      },
      "source": [
        ""
      ],
      "execution_count": null,
      "outputs": []
    },
    {
      "cell_type": "code",
      "metadata": {
        "id": "WbMZCg4ShrmA"
      },
      "source": [
        ""
      ],
      "execution_count": null,
      "outputs": []
    },
    {
      "cell_type": "markdown",
      "metadata": {
        "id": "85Hu9U3mttLI"
      },
      "source": [
        ""
      ]
    },
    {
      "cell_type": "code",
      "metadata": {
        "id": "ZHSnUo8rhrT0"
      },
      "source": [
        ""
      ],
      "execution_count": null,
      "outputs": []
    },
    {
      "cell_type": "code",
      "metadata": {
        "colab": {
          "base_uri": "https://localhost:8080/",
          "height": 334
        },
        "id": "kQBoGOLXghat",
        "outputId": "9b21179a-f577-4449-826d-803103b863a6"
      },
      "source": [
        "from nltk.corpus import stopwards\n",
        "print(stopwords.words(\"english\"))"
      ],
      "execution_count": null,
      "outputs": [
        {
          "output_type": "error",
          "ename": "ImportError",
          "evalue": "ignored",
          "traceback": [
            "\u001b[0;31m---------------------------------------------------------------------------\u001b[0m",
            "\u001b[0;31mImportError\u001b[0m                               Traceback (most recent call last)",
            "\u001b[0;32m<ipython-input-22-171be0f131ab>\u001b[0m in \u001b[0;36m<module>\u001b[0;34m()\u001b[0m\n\u001b[0;32m----> 1\u001b[0;31m \u001b[0;32mfrom\u001b[0m \u001b[0mnltk\u001b[0m\u001b[0;34m.\u001b[0m\u001b[0mcorpus\u001b[0m \u001b[0;32mimport\u001b[0m \u001b[0mstopwards\u001b[0m\u001b[0;34m\u001b[0m\u001b[0;34m\u001b[0m\u001b[0m\n\u001b[0m\u001b[1;32m      2\u001b[0m \u001b[0mprint\u001b[0m\u001b[0;34m(\u001b[0m\u001b[0mstopwords\u001b[0m\u001b[0;34m.\u001b[0m\u001b[0mwords\u001b[0m\u001b[0;34m(\u001b[0m\u001b[0;34m\"english\"\u001b[0m\u001b[0;34m)\u001b[0m\u001b[0;34m)\u001b[0m\u001b[0;34m\u001b[0m\u001b[0;34m\u001b[0m\u001b[0m\n",
            "\u001b[0;31mImportError\u001b[0m: cannot import name 'stopwards' from 'nltk.corpus' (/usr/local/lib/python3.7/dist-packages/nltk/corpus/__init__.py)",
            "",
            "\u001b[0;31m---------------------------------------------------------------------------\u001b[0;32m\nNOTE: If your import is failing due to a missing package, you can\nmanually install dependencies using either !pip or !apt.\n\nTo view examples of installing some common dependencies, click the\n\"Open Examples\" button below.\n\u001b[0;31m---------------------------------------------------------------------------\u001b[0m\n"
          ]
        }
      ]
    },
    {
      "cell_type": "code",
      "metadata": {
        "id": "i752T0bNjBBI"
      },
      "source": [
        "from nltk.stem.porter import PorterStemmer"
      ],
      "execution_count": null,
      "outputs": []
    },
    {
      "cell_type": "code",
      "metadata": {
        "colab": {
          "base_uri": "https://localhost:8080/"
        },
        "id": "1lEWVjSUisJK",
        "outputId": "91c87a1e-b83b-4e68-bcd9-c094bb498ab7"
      },
      "source": [
        "# stemming.  Reducing words down to their core\n",
        "\n",
        "stemmed = [PorterStemmer().stem(w)for w in words]\n",
        "print(stemmed)"
      ],
      "execution_count": null,
      "outputs": [
        {
          "output_type": "stream",
          "text": [
            "['autopsi', 'report', 'autopsi', 'bpd110094', '67f', 'deced', 'john', 'anderson', 'autopsi', 'author', 'by', 'dr', 'smith', 'for', 'citi', 'of', 'indianapoli', 'identifi', 'by', 'fingerprint', 'and', 'dental', 'comparison', 'rigor', 'absent', 'livor', 'purpl', 'distribut', 'posterior', 'age', '34', 'race', 'white', 'sex', 'male', 'length', '72', 'inch', 'weight', '185', 'pound', 'eye', 'hazel', 'hair', 'brown', 'circumcis', 'ye', 'bodi', 'heat', 'refriger', 'cloth', '1', 'blue', 'dress', 'shirt', 'blood', 'stain', 'and', 'scorch', 'multipl', 'tear', 'of', 'differ', 'size', 'on', 'the', 'front', 'both', 'lower', 'arm', 'are', 'shred', '2', 'white', 't', 'shirt', 'blood', 'stain', 'and', 'scorch', 'with', 'multipl', 'tear', 'of', 'differ', 'size', 'on', 'the', 'front', 'match', 'the', 'tear', 'on', 'the', 'blue', 'dress', 'shirt', '3', 'red', 'tie', 'shred', 'scorch', 'and', 'blood', 'stain', '4', 'brown', 'pant', 'blood', 'stain', 'with', 'irregular', 'tear', 'scorch', 'and', 'soot', 'deposit', 'primarili', 'on', 'the', 'left', 'upper', 'leg', 'and', 'crotch', '5', 'brown', 'belt', '6', 'white', 'underwear', 'brief', 'torn', 'on', 'left', 'side', 'with', 'sear', 'soot', 'deposit', 'and', 'blood', 'stain', '7', 'brown', 'sock', '8', 'black', 'shoe', 'extern', 'examin', 'well', 'develop', 'well', 'nourish', 'white', 'male', 'with', 'multipl', 'blast', 'and', 'fragment', 'injuri', 'includ', 'amput', 'of', 'both', 'upper', 'extrem', 'at', 'mid', 'forearm', 'with', 'partial', 'fragment', 'of', 'the', 'detach', 'portion', 'of', 'the', 'extrem', 'there', 'are', 'lacer', 'of', 'face', 'and', 'scalp', 'with', 'fractur', 'of', 'the', 'calvarium', 'skull', 'base', 'and', 'facial', 'bone', 'the', 'cranial', 'vault', 'is', 'empti', 'with', 'fragment', 'of', 'brain', 'recov', 'separ', 'there', 'are', 'multipl', 'penetr', 'fragment', 'injuri', 'of', 'the', 'anterior', 'thorax', 'and', 'left', 'thigh', 'there', 'are', 'gape', 'lacer', 'of', 'the', 'left', 'lower', 'abdomen', 'and', 'thigh', 'with', 'partial', 'eviscer', 'of', 'sigmoid', 'colon', 'and', 'small', 'intestin', 'the', 'peni', 'and', 'left', 'testicl', 'are', 'absent', 'there', 'are', 'flash', 'burn', 'of', 'the', 'anterior', 'thorax', 'face', 'and', 'left', 'thigh', 'x', 'ray', 'total', 'bodi', 'x', 'ray', 'demonstr', 'comminut', 'fractur', 'of', 'the', 'face', 'and', 'skull', 'multipl', 'anterior', 'rib', 'fractur', 'comminut', 'fractur', 'of', 'pelvi', 'and', 'proxim', 'left', 'femur', 'amput', 'of', 'distal', 'upper', 'extrem', 'and', 'multipl', 'metal', 'fragment', 'in', 'the', 'head', 'thorax', 'and', 'thigh', 'histori', 'injur', 'by', 'explod', 'packag', 'patholog', 'diagnos', '1', 'blast', 'and', 'fragment', 'injuri', 'to', 'head', 'a', 'comminut', 'fractur', 'of', 'calvarium', 'skull', 'base', 'and', 'facial', 'bone', 'b', 'avuls', 'and', 'fragment', 'of', 'brain', 'c', 'avuls', 'and', 'fragment', 'of', 'eye', 'd', 'penetr', 'fragment', 'injuri', 'to', 'lower', 'face', 'e', 'flash', 'burn', 'to', 'lower', 'face', '2', 'blast', 'and', 'fragment', 'injuri', 'to', 'trunk', 'a', 'multipl', 'perfor', 'injuri', 'with', 'multipl', 'lacer', 'of', 'lung', 'heart', 'liver', 'spleen', 'and', 'intestin', 'b', 'multipl', 'fractur', 'and', 'perfor', 'of', 'anterior', 'rib', 'and', 'sternum', 'c', 'lacer', 'of', 'left', 'lower', 'abdomin', 'wall', 'with', 'partial', 'eviscer', 'of', 'small', 'intestin', 'mesenteri', 'and', 'colon', 'd', 'flash', 'burn', 'to', 'anterior', 'thorax', 'e', 'comminut', 'fractur', 'of', 'left', 'ilium', 'ischium', 'and', 'pubic', 'ramu', 'with', 'separ', 'of', 'the', 'sacro', 'iliac', 'joint', 'and', 'pubic', 'symphysi', 'f', 'multipl', 'metal', 'fragment', 'recov', 'from', 'thorax', 'abdomen', 'and', 'pelvi', '3', 'blast', 'and', 'fragment', 'injuri', 'to', 'extrem', 'a', 'amput', 'of', 'right', 'hand', 'and', 'forearm', 'with', 'avuls', 'and', 'sear', 'of', 'muscl', 'and', 'connect', 'tissu', 'b', 'amput', 'and', 'fragment', 'of', 'left', 'hand', 'and', 'forearm', 'with', 'avuls', 'and', 'sear', 'of', 'muscl', 'and', 'connect', 'tissu', 'c', 'multipl', 'penetr', 'fragment', 'injuri', 'to', 'anterior', 'surfac', 'of', 'right', 'arm', 'd', 'comminut', 'of', 'left', 'proxim', 'femur', 'with', 'partial', 'avuls', 'and', 'sear', 'of', 'muscl', 'and', 'soft', 'tissu', 'e', 'multipl', 'metal', 'fragment', 'recov', 'from', 'soft', 'tissu', 'of', 'left', 'thigh', '4', 'toxicolog', 'a', 'blood', 'carboxyhemoglobin', 'less', 'than', '5', 'satur', 'b', 'blood', 'and', 'vitreou', 'fluid', 'neg', 'for', 'alcohol', 'c', 'blood', 'neg', 'for', 'acid', 'basic', 'and', 'neutral', 'drug', 'caus', 'of', 'death', 'blast', 'and', 'penetr', 'fragment', 'injuri', 'due', 'to', 'explos', 'gross', 'descript', 'skin', 'multipl', 'lacer', 'and', 'perfor', 'with', 'irregular', 'edg', 'sear', 'and', 'soot', 'deposit', 'pleura', '200', 'ml', 'blood', 'right', '300', 'ml', 'blood', 'left', '2', 'deform', 'nail', 'recov', 'from', 'right', 'pleural', 'caviti', '5', 'x', '2', 'inch', 'thread', 'metal', 'fragment', 'recov', 'from', 'left', 'pleural', 'caviti', 'multipl', 'smaller', 'metal', 'fragment', 'recov', 'from', 'both', 'pleural', 'caviti', 'peritoneum', '100', 'ml', 'blood', 'multipl', 'metal', 'fragment', 'recov', 'pericardium', 'multipl', 'lacer', 'heart', '380', 'gram', 'normal', 'size', 'and', 'shape', 'coronari', 'arteri', 'within', 'normal', 'limit', 'multipl', 'lacer', 'of', 'right', 'and', 'left', 'ventricl', 'lacer', 'of', 'aortic', 'root', 'aorta', 'lacer', 'of', 'aortic', 'root', 'multipl', 'lacer', 'of', 'lower', 'abdomin', 'aorta', 'left', 'iliac', 'and', 'femor', 'vessel', 'fragment', 'neck', 'organ', 'there', 'are', 'superfici', 'penetr', 'fragment', 'injuri', 'on', 'the', 'anterior', 'aspect', 'of', 'the', 'neck', 'with', 'hemorrhag', 'in', 'the', 'soft', 'tissu', 'adjac', 'to', 'the', 'wound', 'laryng', 'cartilag', 'hyoid', 'bone', 'and', 'cervic', 'spine', 'intact', 'thyroid', 'within', 'normal', 'limit', 'airway', 'free', 'of', 'blood', 'and', 'foreign', 'materi', 'lung', '930', 'gram', 'combin', 'multipl', 'lacer', 'of', 'upper', 'lobe', 'and', 'right', 'middl', 'lobe', 'parenchyma', 'aerat', 'with', 'a', 'few', 'apic', 'bulla', 'lymph', 'node', 'within', 'normal', 'limit', 'liver', '1650', 'gram', 'multipl', 'lacer', 'with', 'partial', 'pulpifact', 'of', 'parenchyma', 'gallbladd', 'contain', 'bile', 'no', 'stone', 'spleen', '130', 'gram', 'multipl', 'lacer', 'and', 'partial', 'pulpifact', 'pancrea', 'usual', 'extern', 'configur', 'and', 'pale', 'tan', 'on', 'cut', 'section', 'with', 'the', 'usual', 'lobular', 'architectur', 'adren', 'gland', 'within', 'normal', 'limit', 'gi', 'tract', 'there', 'are', 'fractur', 'of', 'the', 'maxilla', 'and', 'mandibl', 'the', 'tongu', 'is', 'without', 'injuri', 'the', 'pharynx', 'and', 'esophagu', 'are', 'unremark', 'the', 'stomach', 'is', 'empti', 'and', 'there', 'are', 'multipl', 'lacer', 'of', 'the', 'gastric', 'wall', 'there', 'are', 'multipl', 'lacer', 'and', 'perfor', 'of', 'the', 'mesenteri', 'small', 'intestin', 'and', 'colon', 'the', 'appendix', 'is', 'present', 'kidney', '320', 'gram', 'combin', 'there', 'is', 'hemorrhag', 'in', 'the', 'periren', 'soft', 'tissu', 'the', 'capsul', 'strip', 'with', 'eas', 'the', 'cortic', 'surfac', 'is', 'smooth', 'on', 'cross', 'section', 'the', 'cortic', 'are', 'of', 'normal', 'thick', 'and', 'the', 'pyramid', 'and', 'collect', 'system', 'are', 'unremark', 'there', 'are', 'no', 'stone', 'or', 'focal', 'lesion', 'the', 'uret', 'are', 'intact', 'bladder', 'multipl', 'lacer', 'of', 'the', 'wall', 'genitalia', 'lacer', 'of', 'left', 'scrotum', 'with', 'avuls', 'of', 'left', 'testicl', 'and', 'peni', 'prostat', 'unremark', 'brain', 'mening', 'brain', 'absent', '950', 'gram', 'of', 'brain', 'fragment', 'submit', 'separ', 'skull', 'comminut', 'fractur', 'of', 'calvarium', 'skull', 'base', 'and', 'facial', 'bone', 'includ', 'mandibl', 'and', 'maxilla', 'pelvi', 'comminut', 'fractur', 'of', 'left', 'ileum', 'left', 'ischium', 'left', 'pubic', 'ramu', 'separ', 'of', 'pubic', 'symphysi', 'and', 'sacro', 'iliac', 'joint', 'rib', 'perfor', 'and', 'fractur', 'of', 'anterior', 'rib', 'and', 'sternum', 'vertebra', 'within', 'normal', 'limit', 'extrem', 'amput', 'of', 'right', 'and', 'left', 'hand', 'and', 'forearm', 'comminut', 'fractur', 'of', 'left', 'proxim', 'femur', 'microscop', 'section', 'heart', 'lung', 'liver', 'other', 'lab', 'procedur', 'toxicolog', 'photographi', 'x', 'ray', 'microscop', 'examin', 'disposit', 'of', 'evid', 'toxicolog', 'blood', 'vitreou', 'liver', 'bile', 'urin', 'investig', 'cloth', 'recov', 'fragment', 'microscop', 'descript', 'heart', 'lung', 'area', 'liver', 'summari', 'thi', '34', 'year', 'old', 'white', 'man', 'die', 'instantli', 'from', 'multipl', 'blast', 'and', 'fragment', 'injuri', 'when', 'a', 'packag', 'explod', 'in', 'hi', 'home', 'caus', 'of', 'death', 'blast', 'and', 'fragment', 'injuri', 'manner', 'of', 'death', 'homicid', 'fragment', 'and', 'parenchym', 'hemorrhag', 'lacer', 'and', 'parenchym', 'hemorrhag', 'focal', 'emphysemat', 'fragment', 'and', 'parenchym', 'hemorrhag']\n"
          ],
          "name": "stdout"
        }
      ]
    }
  ]
}